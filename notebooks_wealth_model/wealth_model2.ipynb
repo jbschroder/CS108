{
 "cells": [
  {
   "cell_type": "code",
   "execution_count": 7,
   "id": "be65dace",
   "metadata": {},
   "outputs": [],
   "source": [
    "import mesa\n",
    "\n",
    "# Data visualization tools.\n",
    "import seaborn as sns\n",
    "\n",
    "# Has multi-dimensional arrays and matrices. Has a large collection of\n",
    "# mathematical functions to operate on these arrays.\n",
    "import numpy as np\n",
    "\n",
    "# Data manipulation and analysis.\n",
    "import pandas as pd"
   ]
  },
  {
   "cell_type": "code",
   "execution_count": 8,
   "id": "1044a144",
   "metadata": {},
   "outputs": [],
   "source": [
    "# update model so that the agent will check its wealth, and if it has money, give one unit of it away to another \n",
    "# random agent.\n",
    "\n",
    "# The agent’s step method is called by the scheduler during each step of the model. To allow the agent to choose \n",
    "# another agent at random, we use the model.random random-number generator. \n",
    "\n",
    "\n",
    "# The model.schedule let's you get access to other agents"
   ]
  },
  {
   "cell_type": "code",
   "execution_count": 9,
   "id": "e7c10a98",
   "metadata": {},
   "outputs": [],
   "source": [
    "class MoneyAgent(mesa.Agent):\n",
    "    \"\"\"An agent with fixed initial wealth.\"\"\"\n",
    "\n",
    "    def __init__(self, unique_id, model):\n",
    "        # Pass the parameters to the parent class.\n",
    "        super().__init__(unique_id, model)\n",
    "\n",
    "        # Create the agent's variable and set the initial values.\n",
    "        self.wealth = 1\n",
    "\n",
    "    def step(self):\n",
    "        # Verify agent has some wealth\n",
    "        if self.wealth > 0:\n",
    "            other_agent = self.random.choice(self.model.schedule.agents)\n",
    "            if other_agent is not None:\n",
    "                other_agent.wealth += 1\n",
    "                self.wealth -= 1\n",
    "                \n",
    "class MoneyModel(mesa.Model):\n",
    "    \"\"\"A model with some number of agents.\"\"\"\n",
    "\n",
    "    def __init__(self, N):\n",
    "        self.num_agents = N\n",
    "        # Create scheduler and assign it to the model\n",
    "        self.schedule = mesa.time.RandomActivation(self)\n",
    "\n",
    "        # Create agents\n",
    "        for i in range(self.num_agents):\n",
    "            a = MoneyAgent(i, self)\n",
    "            # Add the agent to the scheduler\n",
    "            self.schedule.add(a)\n",
    "\n",
    "    def step(self):\n",
    "        \"\"\"Advance the model by one step.\"\"\"\n",
    "\n",
    "        # The model's step will go here for now this will call the step method of each agent and print the agent's unique_id\n",
    "        self.schedule.step()\n"
   ]
  },
  {
   "cell_type": "code",
   "execution_count": 10,
   "id": "12540723",
   "metadata": {},
   "outputs": [],
   "source": [
    "# Run model with 10 agents\n",
    "model = MoneyModel(10)\n",
    "for i in range(100):\n",
    "    model.step()\n"
   ]
  },
  {
   "cell_type": "code",
   "execution_count": 11,
   "id": "5e6fdafb",
   "metadata": {},
   "outputs": [
    {
     "data": {
      "image/png": "[encoded data removed]",
      "text/plain": [
       "<Figure size 640x480 with 1 Axes>"
      ]
     },
     "metadata": {},
     "output_type": "display_data"
    }
   ],
   "source": [
    "# now visualize wealth distribution\n",
    "# For a jupyter notebook add the following line:\n",
    "%matplotlib inline\n",
    "\n",
    "# The below is needed for both notebooks and scripts\n",
    "import matplotlib.pyplot as plt\n",
    "\n",
    "agent_wealth = [a.wealth for a in model.schedule.agents]\n",
    "# Create a histogram with seaborn\n",
    "ax = sns.histplot(agent_wealth, discrete=True)\n",
    "ax.set(title=\"Wealth distribution\", xlabel=\"Wealth\", ylabel=\"Number of agents\" );\n",
    "ax.set_xticks(range(0,4), labels=range(0,4));"
   ]
  },
  {
   "cell_type": "code",
   "execution_count": null,
   "id": "5a7adce3",
   "metadata": {},
   "outputs": [],
   "source": []
  }
 ],
 "metadata": {
  "kernelspec": {
   "display_name": "Python 3 (ipykernel)",
   "language": "python",
   "name": "python3"
  },
  "language_info": {
   "codemirror_mode": {
    "name": "ipython",
    "version": 3
   },
   "file_extension": ".py",
   "mimetype": "text/x-python",
   "name": "python",
   "nbconvert_exporter": "python",
   "pygments_lexer": "ipython3",
   "version": "3.10.8"
  },
  "vp": {
   "vp_config_version": "1.0.0",
   "vp_menu_width": 273,
   "vp_note_display": false,
   "vp_note_width": 0,
   "vp_position": {
    "width": 278
   },
   "vp_section_display": false,
   "vp_signature": "VisualPython"
  }
 },
 "nbformat": 4,
 "nbformat_minor": 5
}
