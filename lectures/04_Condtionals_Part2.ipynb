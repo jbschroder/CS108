{
 "cells": [
  {
   "cell_type": "markdown",
   "id": "61b74318",
   "metadata": {
    "slideshow": {
     "slide_type": "slide"
    }
   },
   "source": [
    "## Lecture 04.2 : Conditionals Part 2\n",
    "\n",
    "### Learning Goals \n",
    "1. Negatives of any conditional can be used with `not`\n",
    "2. The values `True` and `False` can be used within conditionals"
   ]
  },
  {
   "cell_type": "markdown",
   "id": "2ed92e79",
   "metadata": {
    "slideshow": {
     "slide_type": "slide"
    }
   },
   "source": [
    "### The negative of any conditional can be found with `not`\n",
    "1. The operator not can be placed in front of any conditional to negate it"
   ]
  },
  {
   "cell_type": "code",
   "execution_count": 1,
   "id": "5eab0791",
   "metadata": {},
   "outputs": [
    {
     "name": "stdout",
     "output_type": "stream",
     "text": [
      "This number is not equal to 0\n"
     ]
    }
   ],
   "source": [
    "number = 5\n",
    "if (not number == 0):\n",
    "    print(\"This number is not equal to 0\")"
   ]
  },
  {
   "cell_type": "code",
   "execution_count": 2,
   "id": "2d067732",
   "metadata": {},
   "outputs": [
    {
     "name": "stdout",
     "output_type": "stream",
     "text": [
      "This number is not less than 0\n"
     ]
    }
   ],
   "source": [
    "number = 5\n",
    "if (not number < 0):\n",
    "    print(\"This number is not less than 0\")"
   ]
  },
  {
   "cell_type": "markdown",
   "id": "16f18d34",
   "metadata": {
    "slideshow": {
     "slide_type": "slide"
    }
   },
   "source": [
    "### True and False Operators\n",
    "1. Conditionals can be printed, resulting in either `True` or `False` to be output"
   ]
  },
  {
   "cell_type": "code",
   "execution_count": 3,
   "id": "47cb8c20",
   "metadata": {
    "slideshow": {
     "slide_type": "-"
    }
   },
   "outputs": [
    {
     "name": "stdout",
     "output_type": "stream",
     "text": [
      "True\n"
     ]
    }
   ],
   "source": [
    "number = 5\n",
    "print(number > 0)"
   ]
  },
  {
   "cell_type": "code",
   "execution_count": 4,
   "id": "371758e8",
   "metadata": {
    "slideshow": {
     "slide_type": "-"
    }
   },
   "outputs": [
    {
     "name": "stdout",
     "output_type": "stream",
     "text": [
      "False\n"
     ]
    }
   ],
   "source": [
    "number = -5\n",
    "print(number > 0)"
   ]
  },
  {
   "cell_type": "markdown",
   "id": "3a95c81c",
   "metadata": {
    "slideshow": {
     "slide_type": "subslide"
    }
   },
   "source": [
    "2. Variables can be set to hold the output of a conditional\n",
    "    - A variable conditional is set to hold `True` if `number` is greater than 0, and `False` otherwise"
   ]
  },
  {
   "cell_type": "code",
   "execution_count": 5,
   "id": "28ebeae3",
   "metadata": {},
   "outputs": [
    {
     "name": "stdout",
     "output_type": "stream",
     "text": [
      "True\n"
     ]
    }
   ],
   "source": [
    "number = 5\n",
    "conditional = number > 0\n",
    "print(conditional)"
   ]
  },
  {
   "cell_type": "code",
   "execution_count": 6,
   "id": "ee192da4",
   "metadata": {},
   "outputs": [
    {
     "name": "stdout",
     "output_type": "stream",
     "text": [
      "False\n"
     ]
    }
   ],
   "source": [
    "number = -5\n",
    "conditional = number > 0\n",
    "print(conditional)"
   ]
  },
  {
   "cell_type": "markdown",
   "id": "6e578268",
   "metadata": {
    "slideshow": {
     "slide_type": "slide"
    }
   },
   "source": [
    "2. The value `True` can be used within conditionals\n",
    "    - A variable `conditional` is set to hold `True` if `number` is greater than 0\n",
    "    - An `if` statement is used to compare the value in this conditional to `True`"
   ]
  },
  {
   "cell_type": "code",
   "execution_count": 7,
   "id": "b165f22d",
   "metadata": {
    "slideshow": {
     "slide_type": "-"
    }
   },
   "outputs": [
    {
     "name": "stdout",
     "output_type": "stream",
     "text": [
      "This conditional is set to `True`\n"
     ]
    }
   ],
   "source": [
    "conditional = True\n",
    "if (conditional == True):\n",
    "    print(\"This conditional is set to `True`\")"
   ]
  },
  {
   "cell_type": "markdown",
   "id": "9b09b628",
   "metadata": {
    "slideshow": {
     "slide_type": "fragment"
    }
   },
   "source": [
    "3. The value `False` can also be used within conditionals\n",
    "    - A variable `conditional` is set to hold `True` if `number` is greater than 0, and `False` otherwise\n",
    "    - An `if` statement is used to compare the value in this conditional to `False`"
   ]
  },
  {
   "cell_type": "code",
   "execution_count": 8,
   "id": "9c3a96d4",
   "metadata": {
    "slideshow": {
     "slide_type": "subslide"
    }
   },
   "outputs": [
    {
     "name": "stdout",
     "output_type": "stream",
     "text": [
      "This number is less than or equal to 0\n"
     ]
    }
   ],
   "source": [
    "conditional = False\n",
    "if (conditional == False):\n",
    "    print(\"This number is less than or equal to 0\")"
   ]
  }
 ],
 "metadata": {
  "celltoolbar": "Slideshow",
  "kernelspec": {
   "display_name": "Python 3 (ipykernel)",
   "language": "python",
   "name": "python3"
  },
  "language_info": {
   "codemirror_mode": {
    "name": "ipython",
    "version": 3
   },
   "file_extension": ".py",
   "mimetype": "text/x-python",
   "name": "python",
   "nbconvert_exporter": "python",
   "pygments_lexer": "ipython3",
   "version": "3.11.4"
  }
 },
 "nbformat": 4,
 "nbformat_minor": 5
}
