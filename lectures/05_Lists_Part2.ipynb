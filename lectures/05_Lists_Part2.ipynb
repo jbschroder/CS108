{
 "cells": [
  {
   "cell_type": "markdown",
   "id": "61b74318",
   "metadata": {
    "slideshow": {
     "slide_type": "slide"
    }
   },
   "source": [
    "## Lecture 05.2 : Lists Part 2\n",
    "\n",
    "### Learning Goals \n",
    "1. Lists can be indexed into\n",
    "    - `variable[0]` returns the first item in a list named `variable`\n",
    "2. Lists can be appended\n",
    "    - `variable.append(new_item)` adds `new_item` to the end of the list named `variable`\n",
    "3. Lists can be indexed from the end\n",
    "    - `variable[-1]` returns the last item in a list named `variable`\n",
    "    - `variable[-2]` returns the second from last item\n",
    "4. Subsets of lists can be indexed at a time\n",
    "    - `variable[0:2]` returns the first two items in the list (from 0 up to, but not including, 2)."
   ]
  },
  {
   "cell_type": "markdown",
   "id": "47a14098",
   "metadata": {},
   "source": [
    "### A list can be indexed into\n",
    "1. Lists begin at index 0\n",
    "2. A single item can be grabbed from a list with the associated index\n",
    "    - `fruit[0]` returns the first fruit in the list, \"apple\"\n",
    "    - `fruit[1]` returns the next fruit in the list, \"banana\"\n",
    "    - `fruit[2]` returns the third fruit in the list, \"grape\""
   ]
  },
  {
   "cell_type": "code",
   "execution_count": 4,
   "id": "cbd7585a",
   "metadata": {},
   "outputs": [
    {
     "name": "stdout",
     "output_type": "stream",
     "text": [
      "apple\n"
     ]
    }
   ],
   "source": [
    "fruit = [\"apple\", \"banana\", \"grape\"]\n",
    "print(fruit[0])"
   ]
  },
  {
   "cell_type": "markdown",
   "id": "2ed92e79",
   "metadata": {
    "slideshow": {
     "slide_type": "slide"
    }
   },
   "source": [
    "### Items can be dynamically added to a list with the `append` command\n",
    "1. The list `fruit` initially contains \"apple\", \"banana\", and \"grape\"\n",
    "2. A new item \"strawberry\" is added to the end of the list `fruit` with the command `fruit.append(\"strawberry\")`"
   ]
  },
  {
   "cell_type": "code",
   "execution_count": 5,
   "id": "bd689c28",
   "metadata": {
    "slideshow": {
     "slide_type": "subslide"
    }
   },
   "outputs": [
    {
     "name": "stdout",
     "output_type": "stream",
     "text": [
      "['apple', 'banana', 'grape', 'strawberry']\n"
     ]
    }
   ],
   "source": [
    "fruit = [\"apple\", \"banana\", \"grape\"]\n",
    "fruit.append(\"strawberry\")\n",
    "print(fruit)"
   ]
  },
  {
   "cell_type": "markdown",
   "id": "16f18d34",
   "metadata": {
    "slideshow": {
     "slide_type": "slide"
    }
   },
   "source": [
    "### There are additional methods for indexing into a list\n",
    "1. The index `-1` returns the last item in a list\n",
    "2. Multiple indices can be used to grab a range of items\n",
    "    - `fruit[0:2]` returns all items in fruit beginning at index `0` up until, but not including, index `2`"
   ]
  },
  {
   "cell_type": "code",
   "execution_count": 6,
   "id": "47cb8c20",
   "metadata": {
    "slideshow": {
     "slide_type": "subslide"
    }
   },
   "outputs": [
    {
     "name": "stdout",
     "output_type": "stream",
     "text": [
      "grape\n"
     ]
    }
   ],
   "source": [
    "fruit = [\"apple\", \"banana\", \"grape\"]\n",
    "print(fruit[-1])"
   ]
  },
  {
   "cell_type": "code",
   "execution_count": 7,
   "id": "2e0efb51",
   "metadata": {},
   "outputs": [
    {
     "name": "stdout",
     "output_type": "stream",
     "text": [
      "['apple', 'banana']\n"
     ]
    }
   ],
   "source": [
    "fruit = [\"apple\", \"banana\", \"grape\"]\n",
    "print(fruit[0:2])"
   ]
  }
 ],
 "metadata": {
  "celltoolbar": "Slideshow",
  "kernelspec": {
   "display_name": "Python 3 (ipykernel)",
   "language": "python",
   "name": "python3"
  },
  "language_info": {
   "codemirror_mode": {
    "name": "ipython",
    "version": 3
   },
   "file_extension": ".py",
   "mimetype": "text/x-python",
   "name": "python",
   "nbconvert_exporter": "python",
   "pygments_lexer": "ipython3",
   "version": "3.10.8"
  }
 },
 "nbformat": 4,
 "nbformat_minor": 5
}
