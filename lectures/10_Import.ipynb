{
 "cells": [
  {
   "cell_type": "markdown",
   "id": "61b74318",
   "metadata": {
    "slideshow": {
     "slide_type": "slide"
    }
   },
   "source": [
    "## Lecture 09 : Advanced Topics in Python\n",
    "\n",
    "### Learning Goals "
   ]
  },
  {
   "cell_type": "markdown",
   "id": "c8ed064c",
   "metadata": {
    "slideshow": {
     "slide_type": "slide"
    }
   },
   "source": [
    "### The Import Statement\n",
    "1. You can use objects and functions implemented in other python files or jupyter notebooks\n",
    "2. To import jupyter notebook files, you must first import `nbimporter`"
   ]
  },
  {
   "cell_type": "code",
   "execution_count": 1,
   "id": "780611a6",
   "metadata": {},
   "outputs": [],
   "source": [
    "import nbimporter"
   ]
  },
  {
   "cell_type": "markdown",
   "id": "b5deea36",
   "metadata": {},
   "source": [
    "3. Now, I can import an existing jupyter notebook named `ParentNotebook.ipynb`"
   ]
  },
  {
   "cell_type": "code",
   "execution_count": 2,
   "id": "4f401833",
   "metadata": {},
   "outputs": [],
   "source": [
    "import ParentNotebook"
   ]
  },
  {
   "cell_type": "markdown",
   "id": "a09820ef",
   "metadata": {},
   "source": [
    "### Renaming import\n",
    "1. An imported notebook or file `Notebook` can be renamed to `nickname` with `import Notebook as nickname`"
   ]
  },
  {
   "cell_type": "code",
   "execution_count": 22,
   "id": "94897729",
   "metadata": {},
   "outputs": [
    {
     "name": "stdout",
     "output_type": "stream",
     "text": [
      "<module 'ParentNotebook' (<nbimporter.NotebookLoader object at 0x1181176d0>)>\n"
     ]
    }
   ],
   "source": [
    "import ParentNotebook as pal\n",
    "print(pal)"
   ]
  },
  {
   "cell_type": "markdown",
   "id": "f182e069",
   "metadata": {},
   "source": [
    "### Imported Classes and Functions\n",
    "1. After importing a notebook or file, this notebook now has access to ParentNotebook's classes and functions\n",
    "2. The notebook has a method called `print_parent` which creates a ParentClass object and prints the name of the created parent"
   ]
  },
  {
   "cell_type": "code",
   "execution_count": 12,
   "id": "5989cf91",
   "metadata": {},
   "outputs": [
    {
     "name": "stdout",
     "output_type": "stream",
     "text": [
      "Parent's name is Alex Smith\n"
     ]
    }
   ],
   "source": [
    "ParentNotebook.print_parent()"
   ]
  },
  {
   "cell_type": "markdown",
   "id": "6c837079",
   "metadata": {},
   "source": [
    "3. Alternatively, the ParentClass can be accessed directly from this notebook.\n",
    "    - Create a new parent named Jordan Smith\n",
    "    - Print the parent's name"
   ]
  },
  {
   "cell_type": "code",
   "execution_count": 13,
   "id": "079ec538",
   "metadata": {},
   "outputs": [
    {
     "name": "stdout",
     "output_type": "stream",
     "text": [
      "Parent's name is Jordan Smith\n"
     ]
    }
   ],
   "source": [
    "parent = ParentNotebook.ParentClass(\"Jordan\", \"Smith\")\n",
    "parent.print_name()"
   ]
  },
  {
   "cell_type": "markdown",
   "id": "712f7764",
   "metadata": {},
   "source": [
    "### Importing specific classes and functions\n",
    "1. Instead of importing the entire notebook, only specified classes and functions are imported"
   ]
  },
  {
   "cell_type": "code",
   "execution_count": 19,
   "id": "f369d98d",
   "metadata": {},
   "outputs": [
    {
     "name": "stdout",
     "output_type": "stream",
     "text": [
      "Parent's name is J Smith\n"
     ]
    }
   ],
   "source": [
    "from ParentNotebook import ParentClass\n",
    "parent = ParentClass(\"J\", \"Smith\")\n",
    "parent.print_name()"
   ]
  },
  {
   "cell_type": "code",
   "execution_count": 20,
   "id": "2330c8ab",
   "metadata": {},
   "outputs": [
    {
     "name": "stdout",
     "output_type": "stream",
     "text": [
      "Parent's name is Alex Smith\n"
     ]
    }
   ],
   "source": [
    "from ParentNotebook import print_parent\n",
    "print_parent()"
   ]
  },
  {
   "cell_type": "markdown",
   "id": "603b8c8e",
   "metadata": {},
   "source": [
    "### Specified imports can be given nicknames\n",
    "1. Each class or function to be imported can be renamed as before"
   ]
  },
  {
   "cell_type": "code",
   "execution_count": 21,
   "id": "3b6bca94",
   "metadata": {},
   "outputs": [
    {
     "name": "stdout",
     "output_type": "stream",
     "text": [
      "Parent's name is Alex Smith\n"
     ]
    }
   ],
   "source": [
    "from ParentNotebook import print_parent as display_parent\n",
    "display_parent()"
   ]
  },
  {
   "cell_type": "code",
   "execution_count": 18,
   "id": "b20a8652",
   "metadata": {},
   "outputs": [
    {
     "name": "stdout",
     "output_type": "stream",
     "text": [
      "Parent's name is K Smith\n"
     ]
    }
   ],
   "source": [
    "from ParentNotebook import ParentClass as NewParent\n",
    "parent = NewParent(\"K\", \"Smith\")\n",
    "parent.print_name()"
   ]
  },
  {
   "cell_type": "code",
   "execution_count": null,
   "id": "6e6bf22c",
   "metadata": {},
   "outputs": [],
   "source": []
  }
 ],
 "metadata": {
  "celltoolbar": "Slideshow",
  "kernelspec": {
   "display_name": "Python 3 (ipykernel)",
   "language": "python",
   "name": "python3"
  },
  "language_info": {
   "codemirror_mode": {
    "name": "ipython",
    "version": 3
   },
   "file_extension": ".py",
   "mimetype": "text/x-python",
   "name": "python",
   "nbconvert_exporter": "python",
   "pygments_lexer": "ipython3",
   "version": "3.11.4"
  }
 },
 "nbformat": 4,
 "nbformat_minor": 5
}
