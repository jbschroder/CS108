{
 "cells": [
  {
   "cell_type": "markdown",
   "id": "61b74318",
   "metadata": {
    "slideshow": {
     "slide_type": "slide"
    }
   },
   "source": [
    "## Lecture 09 : Advanced Topics in Python\n",
    "\n",
    "### Learning Goals "
   ]
  },
  {
   "cell_type": "markdown",
   "id": "c8ed064c",
   "metadata": {
    "slideshow": {
     "slide_type": "slide"
    }
   },
   "source": [
    "### The Import Statement\n",
    "1. You can \n",
    "### Class Inheritence\n"
   ]
  },
  {
   "cell_type": "code",
   "execution_count": 1,
   "id": "780611a6",
   "metadata": {},
   "outputs": [
    {
     "name": "stdout",
     "output_type": "stream",
     "text": [
      "First Michael, Last Smith\n",
      "Parent's name is Michael Smith\n"
     ]
    }
   ],
   "source": [
    "import nbimporter\n",
    "import ParentClass\n",
    "ParentClass.print_dad()"
   ]
  },
  {
   "cell_type": "code",
   "execution_count": 8,
   "id": "8ca96f51",
   "metadata": {},
   "outputs": [],
   "source": [
    "class Child(ParentClass.Parent):\n",
    "    def __init__(self, parent_first, parent_last, child_first):\n",
    "        super().__init__(parent_first, parent_last)\n",
    "        self.child_name = child_first\n",
    "    def print_name(self):\n",
    "        super().print_name()\n",
    "        print(\"Child's name is %s %s\"%(self.child_name, self.last_name))"
   ]
  },
  {
   "cell_type": "code",
   "execution_count": 9,
   "id": "bf081f41",
   "metadata": {},
   "outputs": [
    {
     "name": "stdout",
     "output_type": "stream",
     "text": [
      "First Michael, Last Smith\n"
     ]
    }
   ],
   "source": [
    "kid = Child(\"Michael\", \"Smith\", \"Mikey\")"
   ]
  },
  {
   "cell_type": "code",
   "execution_count": 10,
   "id": "b7241d07",
   "metadata": {},
   "outputs": [
    {
     "name": "stdout",
     "output_type": "stream",
     "text": [
      "Parent's name is Michael Smith\n",
      "Child's name is Mikey Smith\n"
     ]
    }
   ],
   "source": [
    "kid.print_name()"
   ]
  },
  {
   "cell_type": "code",
   "execution_count": null,
   "id": "93e1b97e",
   "metadata": {},
   "outputs": [],
   "source": []
  }
 ],
 "metadata": {
  "celltoolbar": "Slideshow",
  "kernelspec": {
   "display_name": "Python 3 (ipykernel)",
   "language": "python",
   "name": "python3"
  },
  "language_info": {
   "codemirror_mode": {
    "name": "ipython",
    "version": 3
   },
   "file_extension": ".py",
   "mimetype": "text/x-python",
   "name": "python",
   "nbconvert_exporter": "python",
   "pygments_lexer": "ipython3",
   "version": "3.11.4"
  }
 },
 "nbformat": 4,
 "nbformat_minor": 5
}
