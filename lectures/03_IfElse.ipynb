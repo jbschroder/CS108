{
 "cells": [
  {
   "cell_type": "markdown",
   "id": "61b74318",
   "metadata": {
    "slideshow": {
     "slide_type": "slide"
    }
   },
   "source": [
    "## Lecture 03 : If/Else Statements"
   ]
  },
  {
   "cell_type": "markdown",
   "id": "c8ed064c",
   "metadata": {
    "slideshow": {
     "slide_type": "slide"
    }
   },
   "source": [
    "## If Statements in Python\n",
    "### Remember, variables can store numbers"
   ]
  },
  {
   "cell_type": "code",
   "execution_count": 16,
   "id": "fcbcabd1",
   "metadata": {
    "slideshow": {
     "slide_type": "subslide"
    }
   },
   "outputs": [],
   "source": [
    "number = 5"
   ]
  },
  {
   "cell_type": "markdown",
   "id": "d6c2932c",
   "metadata": {
    "slideshow": {
     "slide_type": "slide"
    }
   },
   "source": [
    "## If Statements in Python\n",
    "### An *If Statement* makes a comparison with the variable\n",
    "### If the comparison is **true**, lines under the if statement are executed"
   ]
  },
  {
   "cell_type": "code",
   "execution_count": 1,
   "id": "8ea44ace",
   "metadata": {
    "slideshow": {
     "slide_type": "subslide"
    }
   },
   "outputs": [
    {
     "name": "stdout",
     "output_type": "stream",
     "text": [
      "The value of number is positive\n"
     ]
    }
   ],
   "source": [
    "number = 5\n",
    "if (number > 0):\n",
    "    print(\"The value of number is positive\")"
   ]
  },
  {
   "cell_type": "markdown",
   "id": "a6be1638",
   "metadata": {
    "slideshow": {
     "slide_type": "slide"
    }
   },
   "source": [
    "## If Statements in Python\n",
    "### An *If Statement* makes a comparison with the variable\n",
    "### If the comparison is **false**, lines under the if statement are not executed"
   ]
  },
  {
   "cell_type": "code",
   "execution_count": 2,
   "id": "4bd9a1d6",
   "metadata": {
    "slideshow": {
     "slide_type": "subslide"
    }
   },
   "outputs": [],
   "source": [
    "number = -5\n",
    "if (number > 0):\n",
    "    print(\"The value of number is positive\")"
   ]
  },
  {
   "cell_type": "markdown",
   "id": "2ed92e79",
   "metadata": {
    "slideshow": {
     "slide_type": "slide"
    }
   },
   "source": [
    "## If Statements in Python\n",
    "### There can be many lines under an if statement\n",
    "#### Indent all lines that are executed only if the comparison is true"
   ]
  },
  {
   "cell_type": "code",
   "execution_count": 4,
   "id": "bd689c28",
   "metadata": {
    "slideshow": {
     "slide_type": "subslide"
    }
   },
   "outputs": [
    {
     "name": "stdout",
     "output_type": "stream",
     "text": [
      "This number is...\n",
      "Positive!\n",
      "5\n"
     ]
    }
   ],
   "source": [
    "number = 5\n",
    "if (number > 0):\n",
    "    print(\"This number is...\")\n",
    "    print(\"Positive!\")"
   ]
  },
  {
   "cell_type": "markdown",
   "id": "16f18d34",
   "metadata": {
    "slideshow": {
     "slide_type": "slide"
    }
   },
   "source": [
    "## If Statements in Python\n",
    "### There can be many lines under an if statement\n",
    "#### Unindent lines once the if statement is complete.  These lines will be executed regardless of the comparison."
   ]
  },
  {
   "cell_type": "code",
   "execution_count": 6,
   "id": "47cb8c20",
   "metadata": {
    "slideshow": {
     "slide_type": "subslide"
    }
   },
   "outputs": [
    {
     "name": "stdout",
     "output_type": "stream",
     "text": [
      "This number is...\n",
      "Positive!\n",
      "5\n"
     ]
    }
   ],
   "source": [
    "number = 5\n",
    "if (number > 0):\n",
    "    print(\"This number is...\")\n",
    "    print(\"Positive!\")\n",
    "print(number)"
   ]
  },
  {
   "cell_type": "code",
   "execution_count": 7,
   "id": "371758e8",
   "metadata": {
    "slideshow": {
     "slide_type": "subslide"
    }
   },
   "outputs": [
    {
     "name": "stdout",
     "output_type": "stream",
     "text": [
      "-5\n"
     ]
    }
   ],
   "source": [
    "number = -5\n",
    "if (number > 0):\n",
    "    print(\"This number is...\")\n",
    "    print(\"Positive!\")\n",
    "print(number)"
   ]
  },
  {
   "cell_type": "markdown",
   "id": "6e578268",
   "metadata": {
    "slideshow": {
     "slide_type": "slide"
    }
   },
   "source": [
    "## If/Else Statements in Python\n",
    "### If conditions are executed if statement is true\n",
    "### Else conditions are executed if statement is false"
   ]
  },
  {
   "cell_type": "code",
   "execution_count": 8,
   "id": "b165f22d",
   "metadata": {
    "slideshow": {
     "slide_type": "subslide"
    }
   },
   "outputs": [
    {
     "name": "stdout",
     "output_type": "stream",
     "text": [
      "This number is negative!\n"
     ]
    }
   ],
   "source": [
    "number = 5\n",
    "if (number > 0):\n",
    "    print(\"This number is positive!\")\n",
    "else:\n",
    "    print(\"This number is negative!\")"
   ]
  },
  {
   "cell_type": "code",
   "execution_count": null,
   "id": "9c3a96d4",
   "metadata": {
    "slideshow": {
     "slide_type": "subslide"
    }
   },
   "outputs": [],
   "source": [
    "number = -5\n",
    "if (number > 0):\n",
    "    print(\"This number is positive!\")\n",
    "else:\n",
    "    print(\"This number is negative!\")"
   ]
  },
  {
   "cell_type": "markdown",
   "id": "2153fcd8",
   "metadata": {
    "slideshow": {
     "slide_type": "slide"
    }
   },
   "source": [
    "## If/Else Statements in Python\n",
    "### What if the number is equal to 0?"
   ]
  },
  {
   "cell_type": "code",
   "execution_count": 9,
   "id": "7e75ba20",
   "metadata": {
    "slideshow": {
     "slide_type": "subslide"
    }
   },
   "outputs": [
    {
     "name": "stdout",
     "output_type": "stream",
     "text": [
      "This number is negative!\n"
     ]
    }
   ],
   "source": [
    "number = 0\n",
    "if (number > 0):\n",
    "    print(\"This number is positive!\")\n",
    "else:\n",
    "    print(\"This number is negative!\")"
   ]
  },
  {
   "cell_type": "markdown",
   "id": "06ba7d98",
   "metadata": {
    "slideshow": {
     "slide_type": "slide"
    }
   },
   "source": [
    "## If/Else Statements in Python\n",
    "### What if the number is equal to 0?  The number 0 is neither positive or negative!\n",
    "#### We need a third option to catch this condition.  The elif statement is executed if the if statement is false, but the elif statement is true.  The else statement is executed only if all if/elif statements above it are false."
   ]
  },
  {
   "cell_type": "code",
   "execution_count": 11,
   "id": "17635ae4",
   "metadata": {
    "slideshow": {
     "slide_type": "subslide"
    }
   },
   "outputs": [
    {
     "name": "stdout",
     "output_type": "stream",
     "text": [
      "This number is 0!\n"
     ]
    }
   ],
   "source": [
    "number = 0\n",
    "if (number > 0):\n",
    "    print(\"This number is positive!\")\n",
    "elif (number < 0):\n",
    "    print(\"This number is negative!\")\n",
    "else:\n",
    "    print(\"This number is 0!\")"
   ]
  },
  {
   "cell_type": "markdown",
   "id": "9c9547e9",
   "metadata": {
    "slideshow": {
     "slide_type": "slide"
    }
   },
   "source": [
    "## If/Else Statements in Python\n",
    "### We can compare two variables"
   ]
  },
  {
   "cell_type": "code",
   "execution_count": 14,
   "id": "3c31d871",
   "metadata": {
    "slideshow": {
     "slide_type": "subslide"
    }
   },
   "outputs": [
    {
     "name": "stdout",
     "output_type": "stream",
     "text": [
      "The value of x is greater than the value of y\n"
     ]
    }
   ],
   "source": [
    "x = 5\n",
    "y = 4\n",
    "if (x > y):\n",
    "    print(\"The value of x is greater than the value of y\")\n",
    "elif (x < y):\n",
    "    print(\"The value of x is less than the value of y\")\n",
    "else:\n",
    "    print(\"The value of x is equal to the value of y\")"
   ]
  },
  {
   "cell_type": "code",
   "execution_count": 15,
   "id": "e7bac30d",
   "metadata": {
    "slideshow": {
     "slide_type": "subslide"
    }
   },
   "outputs": [
    {
     "name": "stdout",
     "output_type": "stream",
     "text": [
      "The value of x is less than the value of y\n"
     ]
    }
   ],
   "source": [
    "x = 3\n",
    "y = 4\n",
    "if (x > y):\n",
    "    print(\"The value of x is greater than the value of y\")\n",
    "elif (x < y):\n",
    "    print(\"The value of x is less than the value of y\")\n",
    "else:\n",
    "    print(\"The value of x is equal to the value of y\")"
   ]
  },
  {
   "cell_type": "code",
   "execution_count": 16,
   "id": "66e54530",
   "metadata": {
    "slideshow": {
     "slide_type": "subslide"
    }
   },
   "outputs": [
    {
     "name": "stdout",
     "output_type": "stream",
     "text": [
      "The value of x is equal to the value of y\n"
     ]
    }
   ],
   "source": [
    "x = 1\n",
    "y = 1\n",
    "if (x > y):\n",
    "    print(\"The value of x is greater than the value of y\")\n",
    "elif (x < y):\n",
    "    print(\"The value of x is less than the value of y\")\n",
    "else:\n",
    "    print(\"The value of x is equal to the value of y\")"
   ]
  },
  {
   "cell_type": "code",
   "execution_count": null,
   "id": "1bcb7f4c",
   "metadata": {},
   "outputs": [],
   "source": []
  }
 ],
 "metadata": {
  "celltoolbar": "Slideshow",
  "kernelspec": {
   "display_name": "Python 3 (ipykernel)",
   "language": "python",
   "name": "python3"
  },
  "language_info": {
   "codemirror_mode": {
    "name": "ipython",
    "version": 3
   },
   "file_extension": ".py",
   "mimetype": "text/x-python",
   "name": "python",
   "nbconvert_exporter": "python",
   "pygments_lexer": "ipython3",
   "version": "3.11.4"
  }
 },
 "nbformat": 4,
 "nbformat_minor": 5
}
