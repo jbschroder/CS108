{
 "cells": [
  {
   "cell_type": "markdown",
   "id": "61b74318",
   "metadata": {
    "slideshow": {
     "slide_type": "slide"
    }
   },
   "source": [
    "## Lecture 03 : If/Else Statements\n",
    "\n",
    "### Learning Goals \n",
    "1. If statements make comparisons\n",
    "    - If the comparison is true, the code is executed\n",
    "2. If/Else statements have two possible outcomes\n",
    "    - If the comparison is true, the `if` code is executed\n",
    "    - If the comparison is false, the `else` code is executed\n",
    "3. If/Elif/Else statements have additional outcomes\n",
    "    - If the initial comparison is true, the `if` code is executed\n",
    "    - If the initial comparison is false, but the elif comparison is true, the `elif` code is executed\n",
    "    - If all comparisons are false, the `else` code is executed"
   ]
  },
  {
   "cell_type": "markdown",
   "id": "c8ed064c",
   "metadata": {
    "slideshow": {
     "slide_type": "slide"
    }
   },
   "source": [
    "### Remember, variables can store numbers"
   ]
  },
  {
   "cell_type": "code",
   "execution_count": null,
   "id": "fcbcabd1",
   "metadata": {
    "slideshow": {
     "slide_type": "-"
    }
   },
   "outputs": [],
   "source": [
    "number = 5"
   ]
  },
  {
   "cell_type": "markdown",
   "id": "d6c2932c",
   "metadata": {
    "slideshow": {
     "slide_type": "slide"
    }
   },
   "source": [
    "### An *If Statement* makes a comparison with the variable\n",
    "1. If the comparison is **true**, lines under the if statement are executed"
   ]
  },
  {
   "cell_type": "code",
   "execution_count": null,
   "id": "8ea44ace",
   "metadata": {
    "slideshow": {
     "slide_type": "-"
    }
   },
   "outputs": [],
   "source": [
    "number = 5\n",
    "if (number > 0):\n",
    "    print(\"The value of number is positive\")"
   ]
  },
  {
   "cell_type": "markdown",
   "id": "a6be1638",
   "metadata": {
    "slideshow": {
     "slide_type": "fragment"
    }
   },
   "source": [
    "2. If the comparison is **false**, lines under the if statement are not executed"
   ]
  },
  {
   "cell_type": "code",
   "execution_count": null,
   "id": "4bd9a1d6",
   "metadata": {
    "slideshow": {
     "slide_type": "-"
    }
   },
   "outputs": [],
   "source": [
    "number = -5\n",
    "if (number > 0):\n",
    "    print(\"The value of number is positive\")"
   ]
  },
  {
   "cell_type": "markdown",
   "id": "2ed92e79",
   "metadata": {
    "slideshow": {
     "slide_type": "slide"
    }
   },
   "source": [
    "### There can be many lines under an if statement\n",
    "1. Indent all lines that are executed only if the comparison is true"
   ]
  },
  {
   "cell_type": "code",
   "execution_count": null,
   "id": "bd689c28",
   "metadata": {
    "slideshow": {
     "slide_type": "-"
    }
   },
   "outputs": [],
   "source": [
    "number = 5\n",
    "if (number > 0):\n",
    "    print(\"This number is...\")\n",
    "    print(\"Positive!\")"
   ]
  },
  {
   "cell_type": "markdown",
   "id": "16f18d34",
   "metadata": {
    "slideshow": {
     "slide_type": "subslide"
    }
   },
   "source": [
    "2. Unindent lines once the if statement is complete.  These lines will be executed regardless of the comparison."
   ]
  },
  {
   "cell_type": "code",
   "execution_count": null,
   "id": "47cb8c20",
   "metadata": {
    "slideshow": {
     "slide_type": "-"
    }
   },
   "outputs": [],
   "source": [
    "number = 5\n",
    "if (number > 0):\n",
    "    print(\"This number is...\")\n",
    "    print(\"Positive!\")\n",
    "print(number)"
   ]
  },
  {
   "cell_type": "code",
   "execution_count": null,
   "id": "371758e8",
   "metadata": {
    "slideshow": {
     "slide_type": "-"
    }
   },
   "outputs": [],
   "source": [
    "number = -5\n",
    "if (number > 0):\n",
    "    print(\"This number is...\")\n",
    "    print(\"Positive!\")\n",
    "print(number)"
   ]
  },
  {
   "cell_type": "markdown",
   "id": "6e578268",
   "metadata": {
    "slideshow": {
     "slide_type": "slide"
    }
   },
   "source": [
    "### If/Else Statements in Python\n",
    "1. If conditions are executed if statement is true\n",
    "2. Else conditions are executed if statement is false"
   ]
  },
  {
   "cell_type": "code",
   "execution_count": null,
   "id": "b165f22d",
   "metadata": {
    "slideshow": {
     "slide_type": "-"
    }
   },
   "outputs": [],
   "source": [
    "number = 5\n",
    "if (number > 0):\n",
    "    print(\"This number is positive!\")\n",
    "else:\n",
    "    print(\"This number is negative!\")"
   ]
  },
  {
   "cell_type": "code",
   "execution_count": null,
   "id": "9c3a96d4",
   "metadata": {
    "slideshow": {
     "slide_type": "-"
    }
   },
   "outputs": [],
   "source": [
    "number = -5\n",
    "if (number > 0):\n",
    "    print(\"This number is positive!\")\n",
    "else:\n",
    "    print(\"This number is negative!\")"
   ]
  },
  {
   "cell_type": "markdown",
   "id": "2153fcd8",
   "metadata": {
    "slideshow": {
     "slide_type": "slide"
    }
   },
   "source": [
    "### What if the number is equal to 0?\n",
    "1. The number is not greater than 0, so the `if` statement is false\n",
    "2. The `else` statement is then executed"
   ]
  },
  {
   "cell_type": "code",
   "execution_count": null,
   "id": "7e75ba20",
   "metadata": {
    "slideshow": {
     "slide_type": "-"
    }
   },
   "outputs": [],
   "source": [
    "number = 0\n",
    "if (number > 0):\n",
    "    print(\"This number is positive!\")\n",
    "else:\n",
    "    print(\"This number is negative!\")"
   ]
  },
  {
   "cell_type": "markdown",
   "id": "106dd885",
   "metadata": {},
   "source": [
    "**The number 0 is not positive, or negative!  This output is incorrect.**"
   ]
  },
  {
   "cell_type": "markdown",
   "id": "06ba7d98",
   "metadata": {
    "slideshow": {
     "slide_type": "slide"
    }
   },
   "source": [
    "### If/Elif/Else Statements in Python\n",
    "1. The `elif` statement allows for more than two options\n",
    "2. If the `if` statement is false, an additional comparison is made for each `elif` statement\n",
    "3. We now have three options for each number:\n",
    "    - The number is positive\n",
    "    - The number is negative\n",
    "    - The number is zero"
   ]
  },
  {
   "cell_type": "code",
   "execution_count": null,
   "id": "17635ae4",
   "metadata": {
    "slideshow": {
     "slide_type": "-"
    }
   },
   "outputs": [],
   "source": [
    "number = 0\n",
    "if (number > 0):\n",
    "    print(\"This number is positive!\")\n",
    "elif (number < 0):\n",
    "    print(\"This number is negative!\")\n",
    "else:\n",
    "    print(\"This number is 0!\")"
   ]
  },
  {
   "cell_type": "markdown",
   "id": "9c9547e9",
   "metadata": {
    "slideshow": {
     "slide_type": "slide"
    }
   },
   "source": [
    "### We can compare two variables\n",
    "1. If `x` is larger than `y`, the `if` statement is executed\n",
    "2. If `x` is smaller than `y`, the `elif` statement is executed\n",
    "3. If `x` is equal to `y`, the `else` statement is executed"
   ]
  },
  {
   "cell_type": "code",
   "execution_count": null,
   "id": "3c31d871",
   "metadata": {
    "slideshow": {
     "slide_type": "-"
    }
   },
   "outputs": [],
   "source": [
    "x = 5\n",
    "y = 4\n",
    "if (x > y):\n",
    "    print(\"The value of x is greater than the value of y\")\n",
    "elif (x < y):\n",
    "    print(\"The value of x is less than the value of y\")\n",
    "else:\n",
    "    print(\"The value of x is equal to the value of y\")"
   ]
  },
  {
   "cell_type": "code",
   "execution_count": null,
   "id": "e7bac30d",
   "metadata": {
    "slideshow": {
     "slide_type": "subslide"
    }
   },
   "outputs": [],
   "source": [
    "x = 3\n",
    "y = 4\n",
    "if (x > y):\n",
    "    print(\"The value of x is greater than the value of y\")\n",
    "elif (x < y):\n",
    "    print(\"The value of x is less than the value of y\")\n",
    "else:\n",
    "    print(\"The value of x is equal to the value of y\")"
   ]
  },
  {
   "cell_type": "code",
   "execution_count": null,
   "id": "66e54530",
   "metadata": {
    "slideshow": {
     "slide_type": "subslide"
    }
   },
   "outputs": [],
   "source": [
    "x = 1\n",
    "y = 1\n",
    "if (x > y):\n",
    "    print(\"The value of x is greater than the value of y\")\n",
    "elif (x < y):\n",
    "    print(\"The value of x is less than the value of y\")\n",
    "else:\n",
    "    print(\"The value of x is equal to the value of y\")"
   ]
  },
  {
   "cell_type": "code",
   "execution_count": null,
   "id": "1bcb7f4c",
   "metadata": {},
   "outputs": [],
   "source": []
  }
 ],
 "metadata": {
  "celltoolbar": "Slideshow",
  "kernelspec": {
   "display_name": "Python 3 (ipykernel)",
   "language": "python",
   "name": "python3"
  },
  "language_info": {
   "codemirror_mode": {
    "name": "ipython",
    "version": 3
   },
   "file_extension": ".py",
   "mimetype": "text/x-python",
   "name": "python",
   "nbconvert_exporter": "python",
   "pygments_lexer": "ipython3",
   "version": "3.11.4"
  }
 },
 "nbformat": 4,
 "nbformat_minor": 5
}
