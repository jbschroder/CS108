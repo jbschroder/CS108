{
 "cells": [
  {
   "cell_type": "markdown",
   "id": "61b74318",
   "metadata": {
    "slideshow": {
     "slide_type": "slide"
    }
   },
   "source": [
    "## Lecture 10 : Introduction to Agent-Based Modeling\n",
    "\n",
    "### Learning Goals "
   ]
  },
  {
   "cell_type": "markdown",
   "id": "c8ed064c",
   "metadata": {
    "slideshow": {
     "slide_type": "slide"
    }
   },
   "source": [
    "### Agent-Based Modeling\n",
    "1. Model individual agents to analyze a system\n",
    "2. We will be using Mesa (https://mesa.readthedocs.io/en/stable/overview.html), a framework for building, analyzing and visualizing agent-based models."
   ]
  },
  {
   "cell_type": "markdown",
   "id": "379854ae",
   "metadata": {
    "slideshow": {
     "slide_type": "slide"
    }
   },
   "source": [
    "### A Simple Mesa Program\n",
    "1. Download the library `mesa`\n",
    "2. Import the `mesa` library"
   ]
  },
  {
   "cell_type": "code",
   "execution_count": 1,
   "id": "e2da250a",
   "metadata": {},
   "outputs": [],
   "source": [
    "import mesa"
   ]
  },
  {
   "cell_type": "markdown",
   "id": "0160309d",
   "metadata": {},
   "source": [
    "3. Create a model with 5 agents\n",
    "4. Run a step of this model"
   ]
  },
  {
   "cell_type": "code",
   "execution_count": 2,
   "id": "27628002",
   "metadata": {},
   "outputs": [],
   "source": [
    "model = mesa.Model(5)\n",
    "model.step()"
   ]
  },
  {
   "cell_type": "markdown",
   "id": "1586d49e",
   "metadata": {
    "slideshow": {
     "slide_type": "slide"
    }
   },
   "source": [
    "### A Simple Mesa Program with Output\n",
    "1. Create a model class `MyModel` that inherits from `mesa.Model`\n",
    "2. On initialization, `MyModel` must initialize the parent class `super().__init__()`\n",
    "3. Set the schedule of `MyModel` to be `BaseScheduler`.  This scheduler activates agents one at a time in the order they were added."
   ]
  },
  {
   "cell_type": "code",
   "execution_count": 20,
   "id": "94efe88f",
   "metadata": {},
   "outputs": [],
   "source": [
    "class MyModel(mesa.Model):\n",
    "    def __init__(self, n_agents):\n",
    "        super().__init__()\n",
    "        self.schedule = mesa.time.BaseScheduler(self)\n",
    "    def step(self):\n",
    "        print(\"Running a step of the model!\")\n",
    "        self.schedule.step()"
   ]
  },
  {
   "cell_type": "code",
   "execution_count": 21,
   "id": "b0114b39",
   "metadata": {},
   "outputs": [
    {
     "name": "stdout",
     "output_type": "stream",
     "text": [
      "Running a step of the model!\n"
     ]
    }
   ],
   "source": [
    "model = MyModel(5)\n",
    "model.step()"
   ]
  },
  {
   "cell_type": "markdown",
   "id": "309a4532",
   "metadata": {
    "slideshow": {
     "slide_type": "slide"
    }
   },
   "source": [
    "### Have Agents Output Information\n",
    "1. Create an agent class `MyAgent` that inherits from `mesa.Agent`\n",
    "2. On initialization, `MyAgent` must initialize the parent class `super().__init__(name, model)`\n",
    "3. Set the name of an agent on intialization\n",
    "4. At each step of the model, print the agent's name, stating the order in which agents are activated."
   ]
  },
  {
   "cell_type": "code",
   "execution_count": 22,
   "id": "5368b3b3",
   "metadata": {},
   "outputs": [],
   "source": [
    "class MyAgent(mesa.Agent):\n",
    "    def __init__(self, name, model):\n",
    "        super().__init__(name, model)\n",
    "        self.name = name\n",
    "    def step(self):\n",
    "        print(\"{} activated\".format(self.name))"
   ]
  },
  {
   "cell_type": "markdown",
   "id": "b8b91a15",
   "metadata": {
    "slideshow": {
     "slide_type": "slide"
    }
   },
   "source": [
    "5. Edit your `MyModel` class to add agents to the schedule\n",
    "6. Loop through the number of agents to be added to the schedule\n",
    "7. Create each agent by calling your `MyAgent` class\n",
    "8. Add each agent to the schedule"
   ]
  },
  {
   "cell_type": "code",
   "execution_count": 23,
   "id": "009356f9",
   "metadata": {},
   "outputs": [],
   "source": [
    "class MyModel(mesa.Model):\n",
    "    def __init__(self, n_agents):\n",
    "        super().__init__()\n",
    "        self.schedule = mesa.time.BaseScheduler(self)\n",
    "        for i in range(n_agents):\n",
    "            a = MyAgent(i, self)\n",
    "            self.schedule.add(a)\n",
    "    def step(self):\n",
    "        print(\"Running a step of the model!\")\n",
    "        self.schedule.step()"
   ]
  },
  {
   "cell_type": "code",
   "execution_count": 24,
   "id": "387a1eaa",
   "metadata": {},
   "outputs": [
    {
     "name": "stdout",
     "output_type": "stream",
     "text": [
      "Running a step of the model!\n",
      "0 activated\n",
      "1 activated\n",
      "2 activated\n",
      "3 activated\n",
      "4 activated\n"
     ]
    }
   ],
   "source": [
    "model = MyModel(5)\n",
    "model.step()"
   ]
  },
  {
   "cell_type": "markdown",
   "id": "4128b33f",
   "metadata": {},
   "source": [
    "### Change the Scheduler\n",
    "1. Change the scheduler to `RandomActivation` which activates each agent once per step in a random order.  The order is reshuffled each step."
   ]
  },
  {
   "cell_type": "code",
   "execution_count": 25,
   "id": "41aca5dd",
   "metadata": {},
   "outputs": [],
   "source": [
    "class MyModel(mesa.Model):\n",
    "    def __init__(self, n_agents):\n",
    "        super().__init__()\n",
    "        self.schedule = mesa.time.RandomActivation(self)\n",
    "        for i in range(n_agents):\n",
    "            a = MyAgent(i, self)\n",
    "            self.schedule.add(a)\n",
    "    def step(self):\n",
    "        print(\"Running a step of the model!\")\n",
    "        self.schedule.step()"
   ]
  },
  {
   "cell_type": "code",
   "execution_count": 26,
   "id": "270b4596",
   "metadata": {},
   "outputs": [
    {
     "name": "stdout",
     "output_type": "stream",
     "text": [
      "Running a step of the model!\n",
      "2 activated\n",
      "0 activated\n",
      "3 activated\n",
      "4 activated\n",
      "1 activated\n"
     ]
    }
   ],
   "source": [
    "model = MyModel(5)\n",
    "model.step()"
   ]
  },
  {
   "cell_type": "markdown",
   "id": "b10503c5",
   "metadata": {
    "slideshow": {
     "slide_type": "skip"
    }
   },
   "source": [
    "2. Change the scheduler to `SimultaneousActivation` which simulates simultaneous activation of all agents.  This scheduler requires that each agent have two methods: step and advance. step() activates the agent and stages any necessary changes, but does not apply them yet. advance() then applies the changes."
   ]
  },
  {
   "cell_type": "markdown",
   "id": "5e538bc1",
   "metadata": {
    "slideshow": {
     "slide_type": "skip"
    }
   },
   "source": [
    "2. Change the scheduler to `StagedActivation` which \n",
    "\n",
    "A scheduler which allows agent activation to be divided into several stages instead of a single step method. All agents execute one stage before moving on to the next.\n",
    "\n",
    "Agents must have all the stage methods implemented. Stage methods take a model object as their only argument.\n",
    "\n",
    "This schedule tracks steps and time separately. Time advances in fractional increments of 1 / (# of stages), meaning that 1 step = 1 unit of time.\n",
    "\n",
    "Create an empty Staged Activation schedule."
   ]
  },
  {
   "cell_type": "markdown",
   "id": "c19c5a3c",
   "metadata": {
    "slideshow": {
     "slide_type": "skip"
    }
   },
   "source": [
    "2. Change the scheduler to `RandomActivationByType` which \n",
    "\n",
    "A scheduler which activates each type of agent once per step, in random order, with the order reshuffled every step.\n",
    "\n",
    "The step_type method is equivalent to the NetLogo ‘ask [breed]…’ and is generally the default behavior for an ABM. The step method performs step_type for each of the agent types.\n",
    "\n",
    "Assumes that all agents have a step() method.\n",
    "\n",
    "This implementation assumes that the type of an agent doesn’t change throughout the simulation.\n",
    "\n",
    "If you want to do some computations / data collections specific to an agent type, you can either: - loop through all agents, and filter by their type - access via your_model.scheduler.agents_by_type[your_type_class]\n",
    "\n",
    "Create a new, empty BaseScheduler."
   ]
  },
  {
   "cell_type": "markdown",
   "id": "1fb43957",
   "metadata": {},
   "source": [
    "5. Declare a model class, which inherits from the class `mesa.Model`\n",
    "6. During initialization of the model class, initialize the parent\n",
    "7. Set the model's schedule to `randomActivation`\n",
    "8. Set the model to run on a 10x10 grid\n",
    "9. Loop through the agents, initializing each, adding to the schedule, setting random initial coordinates, and placing on the grid.\n",
    "10. Create a data function called `step` that creates one step in the schedule"
   ]
  },
  {
   "cell_type": "code",
   "execution_count": 4,
   "id": "fcbcabd1",
   "metadata": {
    "slideshow": {
     "slide_type": "subslide"
    }
   },
   "outputs": [],
   "source": [
    "class MyModel(mesa.Model):\n",
    "    def __init__(self, n_agents):\n",
    "        super().__init__()\n",
    "        self.schedule = mesa.time.RandomActivation(self)\n",
    "        self.grid = mesa.space.MultiGrid(10, 10, torus=True)\n",
    "        for i in range(n_agents):\n",
    "            a = MyAgent(i, self)\n",
    "            self.schedule.add(a)\n",
    "            coords = (self.random.randrange(0, 10), self.random.randrange(0, 10))\n",
    "            self.grid.place_agent(a, coords)\n",
    "\n",
    "    def step(self):\n",
    "        self.schedule.step()"
   ]
  },
  {
   "cell_type": "markdown",
   "id": "eb5dd0f4",
   "metadata": {},
   "source": []
  },
  {
   "cell_type": "code",
   "execution_count": 9,
   "id": "ddb44241",
   "metadata": {},
   "outputs": [],
   "source": [
    "model = mesa.Model(5)\n",
    "model.step()"
   ]
  },
  {
   "cell_type": "code",
   "execution_count": 10,
   "id": "3df91a44",
   "metadata": {},
   "outputs": [],
   "source": [
    "model.step()"
   ]
  }
 ],
 "metadata": {
  "celltoolbar": "Slideshow",
  "kernelspec": {
   "display_name": "Python 3 (ipykernel)",
   "language": "python",
   "name": "python3"
  },
  "language_info": {
   "codemirror_mode": {
    "name": "ipython",
    "version": 3
   },
   "file_extension": ".py",
   "mimetype": "text/x-python",
   "name": "python",
   "nbconvert_exporter": "python",
   "pygments_lexer": "ipython3",
   "version": "3.10.8"
  }
 },
 "nbformat": 4,
 "nbformat_minor": 5
}
