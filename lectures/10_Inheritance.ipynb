{
 "cells": [
  {
   "cell_type": "markdown",
   "id": "61b74318",
   "metadata": {
    "slideshow": {
     "slide_type": "slide"
    }
   },
   "source": [
    "## Lecture 11 : Class Inheritance\n",
    "\n",
    "### Learning Goals "
   ]
  },
  {
   "cell_type": "markdown",
   "id": "c8ed064c",
   "metadata": {
    "slideshow": {
     "slide_type": "slide"
    }
   },
   "source": [
    "### Inheritance of Parent Class"
   ]
  },
  {
   "cell_type": "code",
   "execution_count": 1,
   "id": "780611a6",
   "metadata": {},
   "outputs": [
    {
     "ename": "ModuleNotFoundError",
     "evalue": "No module named 'nbimporter'",
     "output_type": "error",
     "traceback": [
      "\u001b[0;31m---------------------------------------------------------------------------\u001b[0m",
      "\u001b[0;31mModuleNotFoundError\u001b[0m                       Traceback (most recent call last)",
      "Cell \u001b[0;32mIn[1], line 1\u001b[0m\n\u001b[0;32m----> 1\u001b[0m \u001b[38;5;28;01mimport\u001b[39;00m \u001b[38;5;21;01mnbimporter\u001b[39;00m\n\u001b[1;32m      2\u001b[0m \u001b[38;5;28;01mfrom\u001b[39;00m \u001b[38;5;21;01mParentNotebook\u001b[39;00m \u001b[38;5;28;01mimport\u001b[39;00m ParentClass\n",
      "\u001b[0;31mModuleNotFoundError\u001b[0m: No module named 'nbimporter'"
     ]
    }
   ],
   "source": [
    "import nbimporter\n",
    "from ParentNotebook import ParentClass"
   ]
  },
  {
   "cell_type": "code",
   "execution_count": 7,
   "id": "8ca96f51",
   "metadata": {},
   "outputs": [],
   "source": [
    "class Child(ParentClass):\n",
    "    def __init__(self, parent_first, parent_last, child_first):\n",
    "        super().__init__(parent_first, parent_last)\n",
    "        self.child_name = child_first\n",
    "    def print_name(self):\n",
    "        super().print_name()\n",
    "        print(\"Child's name is %s %s\"%(self.child_name, self.last_name))"
   ]
  },
  {
   "cell_type": "code",
   "execution_count": 8,
   "id": "bf081f41",
   "metadata": {},
   "outputs": [],
   "source": [
    "kid = Child(\"J\", \"Smith\", \"K\")"
   ]
  },
  {
   "cell_type": "code",
   "execution_count": 9,
   "id": "b7241d07",
   "metadata": {},
   "outputs": [
    {
     "name": "stdout",
     "output_type": "stream",
     "text": [
      "Parent's name is J Smith\n",
      "Child's name is K Smith\n"
     ]
    }
   ],
   "source": [
    "kid.print_name()"
   ]
  },
  {
   "cell_type": "code",
   "execution_count": null,
   "id": "93e1b97e",
   "metadata": {},
   "outputs": [],
   "source": []
  }
 ],
 "metadata": {
  "celltoolbar": "Slideshow",
  "kernelspec": {
   "display_name": "Python 3 (ipykernel)",
   "language": "python",
   "name": "python3"
  },
  "language_info": {
   "codemirror_mode": {
    "name": "ipython",
    "version": 3
   },
   "file_extension": ".py",
   "mimetype": "text/x-python",
   "name": "python",
   "nbconvert_exporter": "python",
   "pygments_lexer": "ipython3",
   "version": "3.10.8"
  }
 },
 "nbformat": 4,
 "nbformat_minor": 5
}
