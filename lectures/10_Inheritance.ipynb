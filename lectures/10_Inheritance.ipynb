{
 "cells": [
  {
   "cell_type": "markdown",
   "id": "f31922c2",
   "metadata": {
    "slideshow": {
     "slide_type": "slide"
    }
   },
   "source": [
    "## Lecture 10 : Class Inheritance\n",
    "\n",
    "### Learning Goals    \n",
    "   1. Definitions (Review)\n",
    "\n",
    "   - Class (less formal): Is a collection of related information and related functions.  The information can be numbers, words, lists and really anything.  The functions are typically related around a concept\n",
    "       - For example, the turtle that we've been using is a Class\n",
    "       - The turtle class contains a collection of functions like `move_left()`,  `move_right()`, `start_new_journey()` and `watch_me_move()`\n",
    "       - The turtle class also contains data, like the list of movements `[(0,0), (0,1), (0,2)]`\n",
    "  \n",
    "   - Class (more formal definition): is a code template for creating objects and providing initial (default) values for member variables and default member functions\n",
    "   "
   ]
  },
  {
   "cell_type": "markdown",
   "id": "e4b6c781",
   "metadata": {
    "slideshow": {
     "slide_type": "slide"
    }
   },
   "source": [
    "### Learning Goals \n",
    "\n",
    "1. Definitions (Review)\n",
    "\n",
    "   - Object:  An object is an instance of a class.  \n",
    "       - The class is an abstract definition of the collection of information and functions.  \n",
    "       - But an object is an instantiation, realization, embodiment of the class \n",
    "   \n",
    "   - For example, you could create multiple turtles each navigating their own maze \n",
    "\n",
    "### What's inside a Class (Review)\n",
    "1. Classes can contain both variables and also functions\n",
    "2. These are called member variables and member functions"
   ]
  },
  {
   "cell_type": "markdown",
   "id": "dcd89ed7",
   "metadata": {
    "slideshow": {
     "slide_type": "slide"
    }
   },
   "source": [
    "### Learning Goals\n",
    "\n",
    "1. Inheritance\n",
    "   - A class can inherit the structure of a parent class\n",
    "   - This lets you avoid re-writing parts of a class that you want to re-use\n",
    "   - This also lets you express relationships between objects\n",
    "\n",
    "2. More formally, we can say that inheritance is the process of creating a new class based on a previous, pre-existing class.\n",
    "   - The new class will inherit or keep all of the existing member variables and member functions from the previous, pre-existing class\n",
    "   - But, the new class will add something new, or different, so that the new class is different than the parent class\n",
    "   - For instance, the parent class could be a rectangle, and the child class could be a square"
   ]
  },
  {
   "cell_type": "markdown",
   "id": "61b74318",
   "metadata": {
    "slideshow": {
     "slide_type": "fragment"
    }
   },
   "source": [
    "3. Parent class: this is the previous, pre-existing clss\n",
    "\n",
    "4. Child class: this is the new class, and is based on the parent class\n",
    "   - The child class inherits all of the existing member variables and member functions from the parent class\n",
    "   \n",
    "( However, the child class can overwrite, or re-define member variables and member functions, so that they are different from the parent class)\n",
    "  "
   ]
  },
  {
   "cell_type": "markdown",
   "id": "c8ed064c",
   "metadata": {
    "slideshow": {
     "slide_type": "slide"
    }
   },
   "source": [
    "### Example of Inheritance \n",
    "   - First define a Parent class that defines a parent of a child\n",
    "   - Then we define a Child class that inherits the name of the Parent"
   ]
  },
  {
   "cell_type": "markdown",
   "id": "ea993ea7",
   "metadata": {
    "slideshow": {
     "slide_type": "slide"
    }
   },
   "source": [
    "![](https://raw.githubusercontent.com/jbschroder/CS108/main/lecture_images/inheritance.png)"
   ]
  },
  {
   "cell_type": "code",
   "execution_count": 1,
   "id": "e87d56a5",
   "metadata": {
    "slideshow": {
     "slide_type": "slide"
    }
   },
   "outputs": [],
   "source": [
    "class Parent():\n",
    "    \n",
    "    def __init__(self, first, last):\n",
    "        self.first_name = first\n",
    "        self.last_name = last\n",
    "    \n",
    "    def print_name(self):\n",
    "        print(\"Parent's name is %s %s\"%(self.first_name, self.last_name))"
   ]
  },
  {
   "cell_type": "code",
   "execution_count": null,
   "id": "292e5e32",
   "metadata": {
    "slideshow": {
     "slide_type": "fragment"
    }
   },
   "outputs": [],
   "source": [
    "parent = Parent(\"J\", \"Smith\")\n",
    "parent.print_name()"
   ]
  },
  {
   "cell_type": "markdown",
   "id": "ab6024f1",
   "metadata": {
    "slideshow": {
     "slide_type": "slide"
    }
   },
   "source": [
    "### Now, with the class `Parent()` defined, we can define the Child class which inherits\n",
    "   - The line `class Child(Parent):` specifies that we have a new class named `Child`\n",
    "   - But, this class inherits all the structure and members from the class `Parent`\n",
    "   - The `super` command means that you are accessing a function from the `Parent` class"
   ]
  },
  {
   "cell_type": "code",
   "execution_count": 2,
   "id": "8ca96f51",
   "metadata": {
    "slideshow": {
     "slide_type": "slide"
    }
   },
   "outputs": [],
   "source": [
    "class Child(Parent):\n",
    "    \n",
    "    def __init__(self, parent_first, parent_last, child_first):\n",
    "        # super calls the parent class __init__ function, to initialize first_name and last_name \n",
    "        # of the parent\n",
    "        super().__init__(parent_first, parent_last)\n",
    "        # create a new member variable \"child_name\" for the child's first name\n",
    "        self.child_name = child_first\n",
    "        \n",
    "    def print_name(self):\n",
    "        # super calls the parent class print_name function\n",
    "        #  --> That is, this will print the parent's name\n",
    "        super().print_name()\n",
    "        # Last, we print the child's name, using the inherited parent last_name\n",
    "        print(\"Child's name is %s %s\"%(self.child_name, self.last_name))"
   ]
  },
  {
   "cell_type": "markdown",
   "id": "19e1208e",
   "metadata": {
    "slideshow": {
     "slide_type": "slide"
    }
   },
   "source": [
    "### Next, we create an instance of the Child class\n",
    "   - Let's discuss how the data flows for moves throught the class\n",
    "   - Notice how the child class has re-defined the `__init__` and `print_name` functions\n",
    "       - That is, these functions are now different from the parent class\n",
    "   - But, the child class has retained (and not modified) the `first_name` and `last_name` member variables"
   ]
  },
  {
   "cell_type": "code",
   "execution_count": 3,
   "id": "bf081f41",
   "metadata": {
    "slideshow": {
     "slide_type": "-"
    }
   },
   "outputs": [
    {
     "name": "stdout",
     "output_type": "stream",
     "text": [
      "Parent's name is J Smith\n",
      "Child's name is K Smith\n"
     ]
    }
   ],
   "source": [
    "kid = Child(\"J\", \"Smith\", \"K\")\n",
    "\n",
    "kid.print_name()"
   ]
  },
  {
   "cell_type": "code",
   "execution_count": null,
   "id": "7f702d00",
   "metadata": {},
   "outputs": [],
   "source": []
  }
 ],
 "metadata": {
  "celltoolbar": "Slideshow",
  "kernelspec": {
   "display_name": "Python 3 (ipykernel)",
   "language": "python",
   "name": "python3"
  },
  "language_info": {
   "codemirror_mode": {
    "name": "ipython",
    "version": 3
   },
   "file_extension": ".py",
   "mimetype": "text/x-python",
   "name": "python",
   "nbconvert_exporter": "python",
   "pygments_lexer": "ipython3",
   "version": "3.10.8"
  }
 },
 "nbformat": 4,
 "nbformat_minor": 5
}
