{
 "cells": [
  {
   "cell_type": "markdown",
   "id": "f31922c2",
   "metadata": {
    "slideshow": {
     "slide_type": "slide"
    }
   },
   "source": [
    "## Lecture 11 : Class Inheritance\n",
    "\n",
    "### Learning Goals \n",
    "1. Definitions (Review)\n",
    "\n",
    "   - Class: Is a collection of related information and related functions.  The information can be numbers, words, lists and really anything.  The functions are typically related around a concept\n",
    "       - For example, the turtle that we've been using is a Class\n",
    "       - The turtle class contains a collection of functions like `move_left()`,  `move_right()`, `start_new_journey()` and `watch_me_move()`\n",
    "  \n",
    "   - Class (more formal definition): is a code template for creating objects and providing initial (default) values for member variables and default member function\n",
    "   \n",
    "   "
   ]
  },
  {
   "cell_type": "markdown",
   "id": "e4b6c781",
   "metadata": {},
   "source": [
    "### Learning Goals \n",
    "\n",
    "1. Definitions (Review)\n",
    "\n",
    "   - Object:  An object is an instance of a class.  \n",
    "       - The class is an abstract definition of the collection of information and functions.  \n",
    "       - But an object is an instantiation, realization, embodiment of the class \n",
    "   \n",
    "   - For example, you could create multiple turtles each navigating their own maze \n",
    "\n",
    "2. Definition (Review): When using classes and objects, you are doing \"object oriented programming\""
   ]
  },
  {
   "cell_type": "markdown",
   "id": "61b74318",
   "metadata": {
    "slideshow": {
     "slide_type": "slide"
    }
   },
   "source": [
    "### Learning Goals\n",
    "\n",
    "1. Inheritance\n",
    "   - A class can inherit the structure of a parent class\n",
    "   - This lets you avoid re-writing parts of a class that you want to re-use\n",
    "   - This also lets you express relationships between objects\n",
    "  "
   ]
  },
  {
   "cell_type": "markdown",
   "id": "c8ed064c",
   "metadata": {
    "slideshow": {
     "slide_type": "slide"
    }
   },
   "source": [
    "### Example of Inheritance \n",
    "   - First define a Parent class that defines a parent of a child\n",
    "   - Then we define a Child class that inherits the name of the Parent"
   ]
  },
  {
   "cell_type": "markdown",
   "id": "ea993ea7",
   "metadata": {
    "slideshow": {
     "slide_type": "slide"
    }
   },
   "source": [
    "![](https://raw.githubusercontent.com/jbschroder/CS108/main/lecture_images/inheritance.png)"
   ]
  },
  {
   "cell_type": "code",
   "execution_count": 1,
   "id": "e87d56a5",
   "metadata": {
    "slideshow": {
     "slide_type": "slide"
    }
   },
   "outputs": [],
   "source": [
    "class Parent():\n",
    "    \n",
    "    def __init__(self, first, last):\n",
    "        self.first_name = first\n",
    "        self.last_name = last\n",
    "    \n",
    "    def print_name(self):\n",
    "        print(\"Parent's name is %s %s\"%(self.first_name, self.last_name))"
   ]
  },
  {
   "cell_type": "markdown",
   "id": "ab6024f1",
   "metadata": {
    "slideshow": {
     "slide_type": "slide"
    }
   },
   "source": [
    "### Now, with the class `Parent()` defined, we can define the Child class which inherits\n",
    "   - The line `class Child(Parent):` specifies that we have a new class named `Child`\n",
    "   - But, this class inherits all the structure and members from the class `Parent`\n",
    "   - The `super` command means that you are accessing a function from the `Parent` class"
   ]
  },
  {
   "cell_type": "code",
   "execution_count": 6,
   "id": "8ca96f51",
   "metadata": {
    "slideshow": {
     "slide_type": "slide"
    }
   },
   "outputs": [],
   "source": [
    "class Child(Parent):\n",
    "    \n",
    "    def __init__(self, parent_first, parent_last, child_first):\n",
    "        super().__init__(parent_first, parent_last)\n",
    "        self.child_name = child_first\n",
    "        \n",
    "    def print_name(self):\n",
    "        super().print_name()\n",
    "        print(\"Child's name is %s %s\"%(self.child_name, self.last_name))"
   ]
  },
  {
   "cell_type": "markdown",
   "id": "19e1208e",
   "metadata": {
    "slideshow": {
     "slide_type": "slide"
    }
   },
   "source": [
    "### Next, we create an instance of the Child class\n",
    "   - Let's discuss how the data flows for moves throught the class"
   ]
  },
  {
   "cell_type": "code",
   "execution_count": 7,
   "id": "bf081f41",
   "metadata": {
    "slideshow": {
     "slide_type": "-"
    }
   },
   "outputs": [],
   "source": [
    "kid = Child(\"J\", \"Smith\", \"K\")"
   ]
  },
  {
   "cell_type": "code",
   "execution_count": 4,
   "id": "b7241d07",
   "metadata": {
    "slideshow": {
     "slide_type": "-"
    }
   },
   "outputs": [
    {
     "name": "stdout",
     "output_type": "stream",
     "text": [
      "Parent's name is J Smith\n",
      "Child's name is K Smith\n"
     ]
    }
   ],
   "source": [
    "kid.print_name()"
   ]
  }
 ],
 "metadata": {
  "celltoolbar": "Slideshow",
  "kernelspec": {
   "display_name": "Python 3 (ipykernel)",
   "language": "python",
   "name": "python3"
  },
  "language_info": {
   "codemirror_mode": {
    "name": "ipython",
    "version": 3
   },
   "file_extension": ".py",
   "mimetype": "text/x-python",
   "name": "python",
   "nbconvert_exporter": "python",
   "pygments_lexer": "ipython3",
   "version": "3.10.8"
  }
 },
 "nbformat": 4,
 "nbformat_minor": 5
}
