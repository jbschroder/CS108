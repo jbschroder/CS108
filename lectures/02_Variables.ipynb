{
 "cells": [
  {
   "cell_type": "markdown",
   "id": "61b74318",
   "metadata": {
    "slideshow": {
     "slide_type": "slide"
    }
   },
   "source": [
    "## Lecture 02 : Variables"
   ]
  },
  {
   "cell_type": "markdown",
   "id": "c8ed064c",
   "metadata": {
    "slideshow": {
     "slide_type": "slide"
    }
   },
   "source": [
    "## Variables in Python\n",
    "### Variables can store strings"
   ]
  },
  {
   "cell_type": "code",
   "execution_count": 16,
   "id": "fcbcabd1",
   "metadata": {
    "slideshow": {
     "slide_type": "subslide"
    }
   },
   "outputs": [],
   "source": [
    "string = \"Hello World\""
   ]
  },
  {
   "cell_type": "markdown",
   "id": "d6c2932c",
   "metadata": {
    "slideshow": {
     "slide_type": "slide"
    }
   },
   "source": [
    "## Variables in Python\n",
    "### Variables can be printed to the screen"
   ]
  },
  {
   "cell_type": "code",
   "execution_count": 17,
   "id": "8ea44ace",
   "metadata": {
    "slideshow": {
     "slide_type": "subslide"
    }
   },
   "outputs": [
    {
     "name": "stdout",
     "output_type": "stream",
     "text": [
      "Hello World\n"
     ]
    }
   ],
   "source": [
    "print(string)"
   ]
  },
  {
   "cell_type": "markdown",
   "id": "a6be1638",
   "metadata": {
    "slideshow": {
     "slide_type": "slide"
    }
   },
   "source": [
    "## Variables in Python\n",
    "### Variables only store one thing, and can be overwritten"
   ]
  },
  {
   "cell_type": "code",
   "execution_count": 18,
   "id": "4bd9a1d6",
   "metadata": {
    "slideshow": {
     "slide_type": "subslide"
    }
   },
   "outputs": [
    {
     "name": "stdout",
     "output_type": "stream",
     "text": [
      "World\n"
     ]
    }
   ],
   "source": [
    "string = \"Hello\"\n",
    "string = \"World\"\n",
    "print(string)"
   ]
  },
  {
   "cell_type": "markdown",
   "id": "2ed92e79",
   "metadata": {
    "slideshow": {
     "slide_type": "slide"
    }
   },
   "source": [
    "## Variables in Python\n",
    "### You can have many variables at one time"
   ]
  },
  {
   "cell_type": "code",
   "execution_count": 19,
   "id": "bd689c28",
   "metadata": {
    "slideshow": {
     "slide_type": "subslide"
    }
   },
   "outputs": [
    {
     "name": "stdout",
     "output_type": "stream",
     "text": [
      "Hello\n",
      "World\n"
     ]
    }
   ],
   "source": [
    "hello_string = \"Hello\"\n",
    "world_string = \"World\"\n",
    "print(hello_string)\n",
    "print(world_string)"
   ]
  },
  {
   "cell_type": "markdown",
   "id": "16f18d34",
   "metadata": {
    "slideshow": {
     "slide_type": "slide"
    }
   },
   "source": [
    "## Variables in Python\n",
    "### Variables are *case-sensitive*"
   ]
  },
  {
   "cell_type": "code",
   "execution_count": 20,
   "id": "47cb8c20",
   "metadata": {
    "slideshow": {
     "slide_type": "subslide"
    }
   },
   "outputs": [
    {
     "name": "stdout",
     "output_type": "stream",
     "text": [
      "Hello\n",
      "World\n"
     ]
    }
   ],
   "source": [
    "string = \"Hello\"\n",
    "String = \"World\"\n",
    "print(string)\n",
    "print(String)"
   ]
  },
  {
   "cell_type": "markdown",
   "id": "6e578268",
   "metadata": {
    "slideshow": {
     "slide_type": "slide"
    }
   },
   "source": [
    "## Variables in Python\n",
    "### Variables can be numbers"
   ]
  },
  {
   "cell_type": "code",
   "execution_count": 21,
   "id": "b165f22d",
   "metadata": {
    "slideshow": {
     "slide_type": "subslide"
    }
   },
   "outputs": [
    {
     "name": "stdout",
     "output_type": "stream",
     "text": [
      "5\n",
      "4\n"
     ]
    }
   ],
   "source": [
    "x = 5\n",
    "y = 4\n",
    "print(x)\n",
    "print(y)"
   ]
  },
  {
   "cell_type": "markdown",
   "id": "290a287d",
   "metadata": {
    "slideshow": {
     "slide_type": "slide"
    }
   },
   "source": [
    "## Variables in Python\n",
    "### You can perform basic arithmetic on variables"
   ]
  },
  {
   "cell_type": "code",
   "execution_count": 22,
   "id": "2644f4ea",
   "metadata": {
    "slideshow": {
     "slide_type": "subslide"
    }
   },
   "outputs": [
    {
     "name": "stdout",
     "output_type": "stream",
     "text": [
      "9\n"
     ]
    }
   ],
   "source": [
    "x = 5\n",
    "y = 4\n",
    "z = x + y\n",
    "print(z)"
   ]
  },
  {
   "cell_type": "markdown",
   "id": "ea1a362a",
   "metadata": {
    "slideshow": {
     "slide_type": "slide"
    }
   },
   "source": [
    "## Variables in Python\n",
    "### You can also group values together, this creates a list of values.  Here, `h` is a list of 3 numbers"
   ]
  },
  {
   "cell_type": "code",
   "execution_count": 6,
   "id": "7201f38c",
   "metadata": {
    "slideshow": {
     "slide_type": "subslide"
    }
   },
   "outputs": [
    {
     "name": "stdout",
     "output_type": "stream",
     "text": [
      "[1, 2, 3]\n"
     ]
    }
   ],
   "source": [
    "h = [1, 2, 3]\n",
    "print(h)"
   ]
  },
  {
   "cell_type": "markdown",
   "id": "455c46e7",
   "metadata": {
    "slideshow": {
     "slide_type": "slide"
    }
   },
   "source": [
    "## Variables in Python\n",
    "### You can have lists of really anything, like words"
   ]
  },
  {
   "cell_type": "code",
   "execution_count": 7,
   "id": "05d8849a",
   "metadata": {
    "slideshow": {
     "slide_type": "subslide"
    }
   },
   "outputs": [
    {
     "name": "stdout",
     "output_type": "stream",
     "text": [
      "['Hello', 'World', \"I'm tired\"]\n"
     ]
    }
   ],
   "source": [
    "i = [\"Hello\", \"World\", \"I'm tired\"]\n",
    "print(i)"
   ]
  },
  {
   "cell_type": "markdown",
   "id": "a6498989",
   "metadata": {
    "slideshow": {
     "slide_type": "slide"
    }
   },
   "source": [
    "## Variables in Python\n",
    "### You can also get individual pieces (called entries) of the list"
   ]
  },
  {
   "cell_type": "code",
   "execution_count": 9,
   "id": "003f1b0a",
   "metadata": {
    "slideshow": {
     "slide_type": "subslide"
    }
   },
   "outputs": [
    {
     "name": "stdout",
     "output_type": "stream",
     "text": [
      "I'm tired\n"
     ]
    }
   ],
   "source": [
    "print(i[0])"
   ]
  },
  {
   "cell_type": "code",
   "execution_count": 10,
   "id": "7b97f58f",
   "metadata": {
    "slideshow": {
     "slide_type": "slide"
    }
   },
   "outputs": [
    {
     "name": "stdout",
     "output_type": "stream",
     "text": [
      "Hello\n"
     ]
    }
   ],
   "source": [
    "print(i[1])"
   ]
  },
  {
   "cell_type": "code",
   "execution_count": 11,
   "id": "f8f2cee6",
   "metadata": {
    "slideshow": {
     "slide_type": "subslide"
    }
   },
   "outputs": [
    {
     "name": "stdout",
     "output_type": "stream",
     "text": [
      "World\n"
     ]
    }
   ],
   "source": [
    "print(i[2])"
   ]
  },
  {
   "cell_type": "markdown",
   "id": "75db551d",
   "metadata": {
    "slideshow": {
     "slide_type": "slide"
    }
   },
   "source": [
    "## Variables in Python\n",
    "### You can also add entries to a list, once you've created it.  \n",
    "### This is called `append` a new entry to a list."
   ]
  },
  {
   "cell_type": "code",
   "execution_count": 12,
   "id": "e44b0007",
   "metadata": {},
   "outputs": [],
   "source": [
    "i.append(\"I'm still tired\")"
   ]
  },
  {
   "cell_type": "code",
   "execution_count": 13,
   "id": "ae735cea",
   "metadata": {},
   "outputs": [
    {
     "name": "stdout",
     "output_type": "stream",
     "text": [
      "Hello\n",
      "World\n",
      "I'm tired\n",
      "I'm still tired\n"
     ]
    }
   ],
   "source": [
    "print(i[0])\n",
    "print(i[1])\n",
    "print(i[2])\n",
    "print(i[3])"
   ]
  },
  {
   "cell_type": "markdown",
   "id": "dfc6114a",
   "metadata": {},
   "source": [
    "## Variables in Python\n",
    "### You can get any entry in a list, at any time.  This is called accessing an entry in a list"
   ]
  },
  {
   "cell_type": "code",
   "execution_count": 14,
   "id": "35270f7c",
   "metadata": {},
   "outputs": [
    {
     "name": "stdout",
     "output_type": "stream",
     "text": [
      "I'm tired\n"
     ]
    }
   ],
   "source": [
    "print(i[2])"
   ]
  }
 ],
 "metadata": {
  "celltoolbar": "Slideshow",
  "kernelspec": {
   "display_name": "Python 3 (ipykernel)",
   "language": "python",
   "name": "python3"
  },
  "language_info": {
   "codemirror_mode": {
    "name": "ipython",
    "version": 3
   },
   "file_extension": ".py",
   "mimetype": "text/x-python",
   "name": "python",
   "nbconvert_exporter": "python",
   "pygments_lexer": "ipython3",
   "version": "3.10.8"
  }
 },
 "nbformat": 4,
 "nbformat_minor": 5
}
