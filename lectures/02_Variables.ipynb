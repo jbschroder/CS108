{
 "cells": [
  {
   "cell_type": "markdown",
   "id": "61b74318",
   "metadata": {
    "slideshow": {
     "slide_type": "slide"
    }
   },
   "source": [
    "## Lecture 02 : Variables\n",
    "\n",
    "### Learning Goals \n",
    "1. Variables can store things\n",
    "    - Use variables to store strings\n",
    "    - Use variables to store numbers\n",
    "2. Variables can be printed to the screen\n",
    "    - Print strings and numbers to the screen using variables\n",
    "3. Variables have rules\n",
    "    - They can be overwritten\n",
    "    - They are case sensitive\n",
    "4. Variables can be used in calculations\n",
    "    - Perform simple calculations on variables"
   ]
  },
  {
   "cell_type": "markdown",
   "id": "c8ed064c",
   "metadata": {
    "slideshow": {
     "slide_type": "slide"
    }
   },
   "source": [
    "### Use variables to store a string\n",
    "1. This variable is named `string` and it holds the text `Hello World`"
   ]
  },
  {
   "cell_type": "code",
   "execution_count": 16,
   "id": "fcbcabd1",
   "metadata": {
    "slideshow": {
     "slide_type": "-"
    }
   },
   "outputs": [],
   "source": [
    "string = \"Hello World\""
   ]
  },
  {
   "cell_type": "markdown",
   "id": "d6c2932c",
   "metadata": {
    "slideshow": {
     "slide_type": "fragment"
    }
   },
   "source": [
    "2. Print the variable `string` to the screen with the print command to see the text it holds"
   ]
  },
  {
   "cell_type": "code",
   "execution_count": 17,
   "id": "8ea44ace",
   "metadata": {
    "slideshow": {
     "slide_type": "-"
    }
   },
   "outputs": [
    {
     "name": "stdout",
     "output_type": "stream",
     "text": [
      "Hello World\n"
     ]
    }
   ],
   "source": [
    "print(string)"
   ]
  },
  {
   "cell_type": "markdown",
   "id": "a6be1638",
   "metadata": {
    "slideshow": {
     "slide_type": "slide"
    }
   },
   "source": [
    "### Variables only store one thing, and can be overwritten\n",
    "- The variable `string` first holds the text \"Hello\"\n",
    "- This text is overwritten, and the variable then holds the text \"World\" instead\n",
    "- Print the variable `string` to the screen to see that \"Hello\" was overwritten with \"World\""
   ]
  },
  {
   "cell_type": "code",
   "execution_count": 3,
   "id": "4bd9a1d6",
   "metadata": {
    "slideshow": {
     "slide_type": "-"
    }
   },
   "outputs": [
    {
     "name": "stdout",
     "output_type": "stream",
     "text": [
      "World\n"
     ]
    }
   ],
   "source": [
    "string = \"Hello\"\n",
    "string = \"World\"\n",
    "print(string)"
   ]
  },
  {
   "cell_type": "markdown",
   "id": "2ed92e79",
   "metadata": {
    "slideshow": {
     "slide_type": "slide"
    }
   },
   "source": [
    "### You can have many variables at one time\n",
    "1. The variable `hello_string` holds \"Hello\" while the variable `world_string` holds \"World\"\n",
    "2. These variables have different names, so they will **not** overwrite one another\n",
    "3. Print out both variables to see they each exist, and do not overwrite one another"
   ]
  },
  {
   "cell_type": "code",
   "execution_count": 6,
   "id": "bd689c28",
   "metadata": {
    "slideshow": {
     "slide_type": "-"
    }
   },
   "outputs": [
    {
     "name": "stdout",
     "output_type": "stream",
     "text": [
      "Hello\n",
      "World\n"
     ]
    }
   ],
   "source": [
    "hello_string = \"Hello\"\n",
    "world_string = \"World\"\n",
    "print(hello_string)\n",
    "print(world_string)"
   ]
  },
  {
   "cell_type": "markdown",
   "id": "16f18d34",
   "metadata": {
    "slideshow": {
     "slide_type": "slide"
    }
   },
   "source": [
    "### Variables are *case-sensitive*\n",
    "1. The variables `string` and `String` are different, and can both exist at once\n",
    "- `string` holds \"Hello\"\n",
    "- `String` holds \"World\"\n",
    "2. Print out both variables to see they each exist, and do not overwrite one another"
   ]
  },
  {
   "cell_type": "code",
   "execution_count": 20,
   "id": "47cb8c20",
   "metadata": {
    "slideshow": {
     "slide_type": "-"
    }
   },
   "outputs": [
    {
     "name": "stdout",
     "output_type": "stream",
     "text": [
      "Hello\n",
      "World\n"
     ]
    }
   ],
   "source": [
    "string = \"Hello\"\n",
    "String = \"World\"\n",
    "print(string)\n",
    "print(String)"
   ]
  },
  {
   "cell_type": "markdown",
   "id": "6e578268",
   "metadata": {
    "slideshow": {
     "slide_type": "slide"
    }
   },
   "source": [
    "### Variables can be numbers\n",
    "1. The variable `x` holds the number 5\n",
    "2. The variable `y` holds the number 4\n",
    "3. Print out both variables to see they each exist, and do not overwrite one another"
   ]
  },
  {
   "cell_type": "code",
   "execution_count": 7,
   "id": "40020e42",
   "metadata": {
    "slideshow": {
     "slide_type": "-"
    }
   },
   "outputs": [
    {
     "name": "stdout",
     "output_type": "stream",
     "text": [
      "5\n",
      "4\n"
     ]
    }
   ],
   "source": [
    "x = 5\n",
    "y = 4\n",
    "print(x)\n",
    "print(y)"
   ]
  },
  {
   "cell_type": "markdown",
   "id": "290a287d",
   "metadata": {
    "slideshow": {
     "slide_type": "subslide"
    }
   },
   "source": [
    "### You can perform basic arithmetic on variables\n",
    "1. Add `x` and `y` together, and place the result in the variable `z`\n",
    "2. Print the variable `z` to see the result.\n",
    "- `z` holds the number `9`, since `5+4` is `9`"
   ]
  },
  {
   "cell_type": "code",
   "execution_count": 8,
   "id": "2644f4ea",
   "metadata": {
    "slideshow": {
     "slide_type": "-"
    }
   },
   "outputs": [
    {
     "name": "stdout",
     "output_type": "stream",
     "text": [
      "9\n"
     ]
    }
   ],
   "source": [
    "x = 5\n",
    "y = 4\n",
    "z = x + y\n",
    "print(z)"
   ]
  },
  {
   "cell_type": "markdown",
   "id": "ea1a362a",
   "metadata": {
    "slideshow": {
     "slide_type": "skip"
    }
   },
   "source": [
    "## Variables in Python\n",
    "### You can also group values together, this creates a list of values.  Here, `h` is a list of 3 numbers"
   ]
  },
  {
   "cell_type": "code",
   "execution_count": 6,
   "id": "7201f38c",
   "metadata": {
    "slideshow": {
     "slide_type": "skip"
    }
   },
   "outputs": [
    {
     "name": "stdout",
     "output_type": "stream",
     "text": [
      "[1, 2, 3]\n"
     ]
    }
   ],
   "source": [
    "h = [1, 2, 3]\n",
    "print(h)"
   ]
  },
  {
   "cell_type": "markdown",
   "id": "455c46e7",
   "metadata": {
    "slideshow": {
     "slide_type": "skip"
    }
   },
   "source": [
    "## Variables in Python\n",
    "### You can have lists of really anything, like words"
   ]
  },
  {
   "cell_type": "code",
   "execution_count": 9,
   "id": "05d8849a",
   "metadata": {
    "slideshow": {
     "slide_type": "skip"
    }
   },
   "outputs": [
    {
     "name": "stdout",
     "output_type": "stream",
     "text": [
      "['Hello', 'World', \"I'm tired\"]\n"
     ]
    }
   ],
   "source": [
    "i = [\"Hello\", \"World\", \"I'm tired\"]\n",
    "print(i)"
   ]
  },
  {
   "cell_type": "markdown",
   "id": "a6498989",
   "metadata": {
    "slideshow": {
     "slide_type": "skip"
    }
   },
   "source": [
    "## Variables in Python\n",
    "### You can also get individual pieces (called entries) of the list"
   ]
  },
  {
   "cell_type": "code",
   "execution_count": 10,
   "id": "003f1b0a",
   "metadata": {
    "slideshow": {
     "slide_type": "skip"
    }
   },
   "outputs": [
    {
     "name": "stdout",
     "output_type": "stream",
     "text": [
      "Hello\n"
     ]
    }
   ],
   "source": [
    "print(i[0])"
   ]
  },
  {
   "cell_type": "code",
   "execution_count": 11,
   "id": "7b97f58f",
   "metadata": {
    "slideshow": {
     "slide_type": "skip"
    }
   },
   "outputs": [
    {
     "name": "stdout",
     "output_type": "stream",
     "text": [
      "World\n"
     ]
    }
   ],
   "source": [
    "print(i[1])"
   ]
  },
  {
   "cell_type": "code",
   "execution_count": 12,
   "id": "f8f2cee6",
   "metadata": {
    "slideshow": {
     "slide_type": "skip"
    }
   },
   "outputs": [
    {
     "name": "stdout",
     "output_type": "stream",
     "text": [
      "I'm tired\n"
     ]
    }
   ],
   "source": [
    "print(i[2])"
   ]
  },
  {
   "cell_type": "markdown",
   "id": "75db551d",
   "metadata": {
    "slideshow": {
     "slide_type": "skip"
    }
   },
   "source": [
    "## Variables in Python\n",
    "### You can also add entries to a list, once you've created it.  \n",
    "### This is called `append` a new entry to a list."
   ]
  },
  {
   "cell_type": "code",
   "execution_count": 13,
   "id": "e44b0007",
   "metadata": {
    "slideshow": {
     "slide_type": "skip"
    }
   },
   "outputs": [],
   "source": [
    "i.append(\"I'm still tired\")"
   ]
  },
  {
   "cell_type": "code",
   "execution_count": 14,
   "id": "ae735cea",
   "metadata": {
    "slideshow": {
     "slide_type": "skip"
    }
   },
   "outputs": [
    {
     "name": "stdout",
     "output_type": "stream",
     "text": [
      "Hello\n",
      "World\n",
      "I'm tired\n",
      "I'm still tired\n"
     ]
    }
   ],
   "source": [
    "print(i[0])\n",
    "print(i[1])\n",
    "print(i[2])\n",
    "print(i[3])"
   ]
  },
  {
   "cell_type": "markdown",
   "id": "dfc6114a",
   "metadata": {
    "slideshow": {
     "slide_type": "skip"
    }
   },
   "source": [
    "## Variables in Python\n",
    "### You can get any entry in a list, at any time.  This is called accessing an entry in a list"
   ]
  },
  {
   "cell_type": "code",
   "execution_count": 15,
   "id": "35270f7c",
   "metadata": {
    "slideshow": {
     "slide_type": "skip"
    }
   },
   "outputs": [
    {
     "name": "stdout",
     "output_type": "stream",
     "text": [
      "I'm tired\n"
     ]
    }
   ],
   "source": [
    "print(i[2])"
   ]
  },
  {
   "cell_type": "code",
   "execution_count": null,
   "id": "626b01e7",
   "metadata": {},
   "outputs": [],
   "source": []
  }
 ],
 "metadata": {
  "celltoolbar": "Slideshow",
  "kernelspec": {
   "display_name": "Python 3 (ipykernel)",
   "language": "python",
   "name": "python3"
  },
  "language_info": {
   "codemirror_mode": {
    "name": "ipython",
    "version": 3
   },
   "file_extension": ".py",
   "mimetype": "text/x-python",
   "name": "python",
   "nbconvert_exporter": "python",
   "pygments_lexer": "ipython3",
   "version": "3.11.4"
  }
 },
 "nbformat": 4,
 "nbformat_minor": 5
}
