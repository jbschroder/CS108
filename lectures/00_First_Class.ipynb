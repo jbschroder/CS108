{
 "cells": [
  {
   "cell_type": "markdown",
   "id": "4b10cc8c",
   "metadata": {
    "slideshow": {
     "slide_type": "slide"
    }
   },
   "source": [
    "## Lecture 00 : First Class\n",
    "\n",
    "### Learning Goals \n",
    "1. Review syllabus and course structure \n",
    "    - Grading\n",
    "    - Homeworks and exams \n",
    "    - Expectations (short videos and quizzes to do before class, stay current on all labs)\n",
    "\n",
    "   **Let's open the syllabus and review it**"
   ]
  },
  {
   "cell_type": "markdown",
   "id": "71c4f3b9",
   "metadata": {
    "slideshow": {
     "slide_type": "slide"
    }
   },
   "source": [
    "2. Review course website\n",
    "    - Each day of class will have it's own page with links for \n",
    "        - Video\n",
    "        - Quiz\n",
    "        - Any needed files\n",
    "    - Where to find homework files\n",
    "    - Where to submit homeworks"
   ]
  },
  {
   "cell_type": "markdown",
   "id": "9ad9106f",
   "metadata": {
    "slideshow": {
     "slide_type": "slide"
    }
   },
   "source": [
    "### Quick Survey\n",
    "- Who has previous programming experience?\n",
    "- How much?\n",
    "- What languages?\n",
    "\n",
    "#### We will be using Python Notebooks (more on that later)"
   ]
  },
  {
   "cell_type": "markdown",
   "id": "7510aaed",
   "metadata": {
    "slideshow": {
     "slide_type": "slide"
    }
   },
   "source": [
    "### What will we learn?\n",
    "\n",
    "\"Students will gain experience not only in computer science and programming but also in designing, building, testing, debugging, and running experiments with computer models. Students will develop computational thinking skills.\"\n",
    "\n",
    "We will be taking a graphical, agent-based approach to learning programming."
   ]
  },
  {
   "cell_type": "markdown",
   "id": "05cd1f36",
   "metadata": {
    "slideshow": {
     "slide_type": "slide"
    }
   },
   "source": [
    "### The first half of the course will focus on classic programming concepts, using a graphical turtle to illustrate key concepts\n",
    "- Move the turtle on the grid, through mazes, to a pond\n",
    "- While using classic programming concepts like if/else statements, loops, printing, and lists\n",
    "- Learn about objects and functions with the turtle\n",
    "\n",
    "![](https://raw.githubusercontent.com/jbschroder/CS108/main/lecture_images/turtle_lab.png)\n",
    "  \n"
   ]
  },
  {
   "cell_type": "markdown",
   "id": "03578f57",
   "metadata": {
    "slideshow": {
     "slide_type": "slide"
    }
   },
   "source": [
    "### The second half of the semester will focus on agent based modeling\n",
    "- The turtle above in the maze is an agent, but we will examine more complicated agent based modeling, too\n",
    "\n",
    "\n",
    "- Imagine that you have many agents (say people or turtles or trees) in a computer simulation\n",
    "    - And these people, turtles, or trees are scattered around the grid\n",
    "    \n",
    "    \n",
    "- In the first example, you will have people trading apples with each other\n",
    "    - This example is relevant to social sciences and economics\n",
    "    - While our example will be simplified, more complicated versions are currently used in research\n"
   ]
  },
  {
   "cell_type": "markdown",
   "id": "ef376b19",
   "metadata": {
    "slideshow": {
     "slide_type": "slide"
    }
   },
   "source": [
    "### Apple Trading Model Example One\n",
    "- The people (agents) are allowed to trade apples for a while, and then we plot how many apples everyone has\n",
    "\n",
    "\n",
    "![](https://raw.githubusercontent.com/jbschroder/CS108/main/lecture_images/apple_trading_model1.png)\n"
   ]
  },
  {
   "cell_type": "markdown",
   "id": "9e83d76a",
   "metadata": {
    "slideshow": {
     "slide_type": "slide"
    }
   },
   "source": [
    "### Apple Trading Model Example Two\n",
    "- Here, we see the effect of randomness -- nothing changed except the random order that trading occured\n",
    "\n",
    "\n",
    "![](https://raw.githubusercontent.com/jbschroder/CS108/main/lecture_images/apple_trading_model2.png)\n"
   ]
  },
  {
   "cell_type": "markdown",
   "id": "cc146460",
   "metadata": {
    "slideshow": {
     "slide_type": "slide"
    }
   },
   "source": [
    "### Forest Fire Example One\n",
    "- In this example, the agents are trees, and a certain number of them are on fire.  \n",
    "- We then let time go forward, and see how many trees catch on fire and burn up\n",
    "\n",
    "#### If the trees are densely packed, then the forest burns\n",
    "\n",
    "![](https://raw.githubusercontent.com/jbschroder/CS108/main/lecture_images/forest_fire_tree_density_high.png)\n"
   ]
  },
  {
   "cell_type": "markdown",
   "id": "ab3ec716",
   "metadata": {
    "slideshow": {
     "slide_type": "slide"
    }
   },
   "source": [
    "### Forest Fire Example Two\n",
    "- In this example, the agents are trees, and a certain number of them are on fire.  \n",
    "- We then let time go forward, and see how many trees catch on fire and burn up\n",
    "\n",
    "#### If the trees are moderately packed, then the forest burns slowly\n",
    "\n",
    "![](https://raw.githubusercontent.com/jbschroder/CS108/main/lecture_images/forest_fire_tree_density_medium.png)\n"
   ]
  },
  {
   "cell_type": "markdown",
   "id": "9a6bb9b4",
   "metadata": {
    "slideshow": {
     "slide_type": "slide"
    }
   },
   "source": [
    "### Finally, time allowing, in this course, we will look at\n",
    "- Linear regression: fitting a line to data in order to illustrate data trends\n",
    "    - Fitting  a line to polling data is a classic example\n",
    "- Clustering: does your data have clusters?\n",
    "    - Could plot fish versus depth-where-fish-was-found and ask: are there clusters showing that some fish prefer a certain depth? \n",
    "- Use randomness in computing\n",
    "    - Use Monte Carlo to compute approximation to Pi\n"
   ]
  },
  {
   "cell_type": "markdown",
   "id": "7017bd98",
   "metadata": {
    "slideshow": {
     "slide_type": "slide"
    }
   },
   "source": [
    "### Learning Goals\n",
    "\n",
    "3. Final learning goal today is to download Python notebook from course website and open in Google CoLab\n",
    "    - Python is the programming language that we will use\n",
    "    - A Python Notebook is just a bunch of Python code organized in a way that lets you execute (or run) little snippets of code, one snippet at a time\n",
    "    - Your notebook will list multiple snippets of code, one after the other\n",
    "    - Then, you will click to run little snippets of code, one snippet at a time\n",
    "    - Each snippet of code is called a `cell`\n"
   ]
  },
  {
   "cell_type": "markdown",
   "id": "b4cf698c",
   "metadata": {
    "slideshow": {
     "slide_type": "skip"
    }
   },
   "source": [
    "### Very important -- make sure you have 5 minutes for the below"
   ]
  },
  {
   "cell_type": "markdown",
   "id": "63e1f162",
   "metadata": {
    "slideshow": {
     "slide_type": "slide"
    }
   },
   "source": [
    "3. Continued: Let's download _the simplest_ Python Notebook and upload it to CoLab\n",
    "    - Google CoLab is an online _virtual_ computer that easily lets you run Python Notebook code\n",
    "    - Thus, there is no need to install any special software on your home machine\n",
    "    - You just need a web browser to open CoLab and run Python Notebooks!\n",
    "    - You will need a Google account for this class \n",
    "    \n",
    "      (can create account just for this class, and then delete it, if you don't have a Google account)"
   ]
  },
  {
   "attachments": {},
   "cell_type": "markdown",
   "id": "b79ef8d4",
   "metadata": {
    "slideshow": {
     "slide_type": "slide"
    }
   },
   "source": [
    "3. Continued:\n",
    "    1. Go to Canvas \n",
    "    2. Download `lab0_Hello_World.ipynb` from the page \"Class 1, Wed Jan 17\"\n",
    "    3. Open Google Drive, create a folder called CS108\n",
    "    4. Drag and drop the downloaded file into that folder on Google Drive\n",
    "    5. Go into that Google Drive folder, and double click on the file `lab0_Hello_World.ipynb`\n",
    "        - You may have to install the Colaboratory (CoLab) extension\n",
    "        - To do that, click on the three dots next to the file in Google Drive\n",
    "        - Then click to open with another app\n",
    "        - Then choose (or search) to install Colaboratory (CoLab)\n",
    "    6. This will open the Python Notebook in a way that lets you run the Python code\n",
    "    7. Let's open that code now, and take a look\n",
    "\n",
    "\n",
    "### After class today, make sure you have or create a Google Account!\n"
   ]
  },
  {
   "cell_type": "code",
   "execution_count": null,
   "id": "e45b9b15",
   "metadata": {
    "slideshow": {
     "slide_type": "skip"
    }
   },
   "outputs": [],
   "source": []
  }
 ],
 "metadata": {
  "celltoolbar": "Slideshow",
  "kernelspec": {
   "display_name": "Python 3 (ipykernel)",
   "language": "python",
   "name": "python3"
  },
  "language_info": {
   "codemirror_mode": {
    "name": "ipython",
    "version": 3
   },
   "file_extension": ".py",
   "mimetype": "text/x-python",
   "name": "python",
   "nbconvert_exporter": "python",
   "pygments_lexer": "ipython3",
   "version": "3.10.8"
  }
 },
 "nbformat": 4,
 "nbformat_minor": 5
}
