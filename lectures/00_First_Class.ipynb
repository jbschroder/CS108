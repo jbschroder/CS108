{
 "cells": [
  {
   "cell_type": "markdown",
   "id": "2b224042",
   "metadata": {
    "slideshow": {
     "slide_type": "slide"
    }
   },
   "source": [
    "## Lecture 00 : First Class\n",
    "\n",
    "### Learning Goals \n",
    "1. Review syllabus and course structure \n",
    "    - Grading, \n",
    "    - Homeworks and exams \n",
    "    - Expectations (short videos and quizzes before class, stay current on all labs)\n",
    "\n",
    "   **Let's open the syllabus and review it**"
   ]
  },
  {
   "cell_type": "markdown",
   "id": "d30c9cbc",
   "metadata": {
    "slideshow": {
     "slide_type": "slide"
    }
   },
   "source": [
    "2. Review course website\n",
    "    - Where to view videos\n",
    "    - Where to download files\n",
    "    - Where to submit homeworks\n",
    "    - Where to take quizzes"
   ]
  },
  {
   "cell_type": "markdown",
   "id": "aa197e9c",
   "metadata": {
    "slideshow": {
     "slide_type": "slide"
    }
   },
   "source": [
    "### Quick Survey\n",
    "- Who has any programming experience?\n",
    "- How much?\n",
    "- What languages?\n",
    "\n",
    "#### We will be using Python Notebooks (more on that later"
   ]
  },
  {
   "cell_type": "markdown",
   "id": "125fd197",
   "metadata": {
    "slideshow": {
     "slide_type": "slide"
    }
   },
   "source": [
    "### What will we learn?\n",
    "\n",
    "\"Students will gain experience not only in computer science and programming but also in designing, building, testing, debugging, and running experiments with computer models. Students will develop computational thinking skills.\"\n",
    "\n",
    "We will be taking a graphical, agent-based approach to learning programming."
   ]
  },
  {
   "cell_type": "markdown",
   "id": "70bbfbe5",
   "metadata": {
    "slideshow": {
     "slide_type": "slide"
    }
   },
   "source": [
    "### The first half of the course will focus on classic programming concepts but with a turtle\n",
    "- Move the turtle on the grid, through mazes, to a pond\n",
    "- While using classic programming concepts like if/else statements, loops, printing, and lists\n",
    "- Learn about objects and functions with the turtle\n",
    "\n",
    "![](https://raw.githubusercontent.com/jbschroder/CS108/main/lecture_images/turtle_lab.png)\n",
    "  \n"
   ]
  },
  {
   "cell_type": "markdown",
   "id": "829a5d5d",
   "metadata": {
    "slideshow": {
     "slide_type": "slide"
    }
   },
   "source": [
    "### The second half of the semester will focus on agent based modeling\n",
    "- The turtle in a maze is an agent\n",
    "\n",
    "\n",
    "- But imagine that you have many agents (say people or turtles or trees)\n",
    "    - And these people, turtles, or trees are scattered around the grid\n",
    "    \n",
    "    \n",
    "- In one example, you will have people trading apples with each other\n",
    "    - This example is relevant to social sciences and economics\n",
    "    - While our example will be simplified, more complicated versions are currently used in research\n"
   ]
  },
  {
   "cell_type": "markdown",
   "id": "b354297e",
   "metadata": {
    "slideshow": {
     "slide_type": "slide"
    }
   },
   "source": [
    "### Apple Trading Model Example One\n",
    "- The people (agents) are allowed to trade apples for a while, and then we plot how many apples everyone has\n",
    "\n",
    "\n",
    "![](https://raw.githubusercontent.com/jbschroder/CS108/main/lecture_images/apple_trading_model1.png)\n"
   ]
  },
  {
   "cell_type": "markdown",
   "id": "42b689ef",
   "metadata": {
    "slideshow": {
     "slide_type": "slide"
    }
   },
   "source": [
    "### Apple Trading Model Example Two\n",
    "- The people (agents) are allowed to trade apples for a while, and then we plot how many apples everyone has\n",
    "- Here, we see the effect of randomness -- nothing changed except the random order that trading occured\n",
    "\n",
    "\n",
    "![](https://raw.githubusercontent.com/jbschroder/CS108/main/lecture_images/apple_trading_model2.png)\n"
   ]
  },
  {
   "cell_type": "markdown",
   "id": "59a44041",
   "metadata": {
    "slideshow": {
     "slide_type": "slide"
    }
   },
   "source": [
    "### Forest Fire Example One\n",
    "- In this example, the agents are trees, and a certain number of them are on fire.  \n",
    "- We then let time go forward, and see how many trees catch on fire and burn up\n",
    "\n",
    "#### If the trees are densely packed, then the forest burns\n",
    "\n",
    "![](https://raw.githubusercontent.com/jbschroder/CS108/main/lecture_images/forest_fire_tree_density_high.png)\n"
   ]
  },
  {
   "cell_type": "markdown",
   "id": "8fa9f438",
   "metadata": {
    "slideshow": {
     "slide_type": "slide"
    }
   },
   "source": [
    "### Forest Fire Example Two\n",
    "- In this example, the agents are trees, and a certain number of them are on fire.  \n",
    "- We then let time go forward, and see how many trees catch on fire and burn up\n",
    "\n",
    "#### If the trees are moderately packed, then the forest burns slowly\n",
    "\n",
    "![](https://raw.githubusercontent.com/jbschroder/CS108/main/lecture_images/forest_fire_tree_density_medium.png)\n"
   ]
  },
  {
   "cell_type": "markdown",
   "id": "9d5e7eec",
   "metadata": {
    "slideshow": {
     "slide_type": "slide"
    }
   },
   "source": [
    "### Forest Fire Example Three\n",
    "- In this example, the agents are trees, and a certain number of them are on fire.  \n",
    "- We then let time go forward, and see how many trees catch on fire and burn up\n",
    "\n",
    "#### If the trees are very sparsely packed, then the forest doesn't actually burn\n",
    "\n",
    "![](https://raw.githubusercontent.com/jbschroder/CS108/main/lecture_images/forest_fire_tree_density_low.png)\n"
   ]
  },
  {
   "cell_type": "markdown",
   "id": "2df607b1",
   "metadata": {
    "slideshow": {
     "slide_type": "slide"
    }
   },
   "source": [
    "### Finally, time allowing, in this course, we will look at\n",
    "- Linear regression: fitting a line to data, find data trends\n",
    "    - Fitting  a line to polling data is a classic example\n",
    "- Clustering: does your data have clusters?\n",
    "    - Could plot weight versus health, are there clusters of people?\n",
    "- Use randomness in computing\n",
    "    - Use Monte Carlo to compute approximation to Pi\n"
   ]
  },
  {
   "cell_type": "markdown",
   "id": "7017bd98",
   "metadata": {
    "slideshow": {
     "slide_type": "slide"
    }
   },
   "source": [
    "3. Final learning goal today is to download Python notebook from course website and open in Google CoLab\n",
    "    - Python is the programming language that we will use\n",
    "    - A Python Notebook is just a bunch of Python code organized in a way that lets you execute (or run) little snippets of code, one snippet at a time\n",
    "    - Your notebook will list multiple snippets of code, one after the other\n",
    "    - Then, you will click to run little snippets of code, one snippet at a time\n",
    "    - Each snippet of code is called a `cell`\n"
   ]
  },
  {
   "cell_type": "markdown",
   "id": "44c3dbb0",
   "metadata": {
    "slideshow": {
     "slide_type": "skip"
    }
   },
   "source": [
    "### Very important -- make sure you have 5 minutes for the below"
   ]
  },
  {
   "cell_type": "markdown",
   "id": "594b8aa8",
   "metadata": {},
   "source": [
    "3. Continued: Let's download _the simplest_ Python Notebook and upload it to CoLab\n",
    "    - Google CoLab is an online _virtual_ computer that easily lets you run Python Notebook code\n",
    "    - There is no need to install any special software on your home machine\n",
    "    - You just need a web browser to open CoLab and run Python Notebooks!\n",
    "    - You will need a Google account for this class \n",
    "    \n",
    "      (can create account just for this class, and then delete it, if you don't have a Google account)"
   ]
  },
  {
   "cell_type": "markdown",
   "id": "c1f1d634",
   "metadata": {},
   "source": [
    "3. Continued:\n",
    "    1. Go to Canvas \n",
    "    2. Download ...name location\n",
    "    3. Open Google Drive, create a folder called CS108\n",
    "    4. Drag and drop your the downloaded file into that folder\n",
    "    5. Go into that folder, and double click on the file lab0...ipynb\n",
    "    6.   ...\n",
    "    \n",
    "say you will walk them through downloading it, uploading it\n",
    "(outline some of the basic steps in a list)\n",
    "\n",
    "and then do it\n",
    "\n",
    "Look at txt file .. need to show them how to run cells, define a cell (do briefly here, and then re-inforce on Friday)\n",
    "\n",
    "You'll want to start the next class with this\n",
    "\n",
    "Need to show them colab and tell them to create Google Account"
   ]
  },
  {
   "cell_type": "markdown",
   "id": "b78a15c6",
   "metadata": {
    "slideshow": {
     "slide_type": "slide"
    }
   },
   "source": [
    "Running notebook cell\n",
    "Running it multiple times\n",
    "Get Google account\n",
    "If you don't have a Google account (or don't want one), just create an account for this semester and then delete it.  "
   ]
  },
  {
   "cell_type": "code",
   "execution_count": 27,
   "id": "da0eaff4",
   "metadata": {
    "slideshow": {
     "slide_type": "slide"
    }
   },
   "outputs": [
    {
     "name": "stdout",
     "output_type": "stream",
     "text": [
      "9\n"
     ]
    },
    {
     "data": {
      "text/plain": [
       "5"
      ]
     },
     "execution_count": 27,
     "metadata": {},
     "output_type": "execute_result"
    }
   ],
   "source": []
  }
 ],
 "metadata": {
  "celltoolbar": "Slideshow",
  "kernelspec": {
   "display_name": "Python 3 (ipykernel)",
   "language": "python",
   "name": "python3"
  },
  "language_info": {
   "codemirror_mode": {
    "name": "ipython",
    "version": 3
   },
   "file_extension": ".py",
   "mimetype": "text/x-python",
   "name": "python",
   "nbconvert_exporter": "python",
   "pygments_lexer": "ipython3",
   "version": "3.10.8"
  }
 },
 "nbformat": 4,
 "nbformat_minor": 5
}
