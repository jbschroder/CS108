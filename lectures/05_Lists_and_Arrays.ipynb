{
 "cells": [
  {
   "cell_type": "markdown",
   "id": "61b74318",
   "metadata": {
    "slideshow": {
     "slide_type": "slide"
    }
   },
   "source": [
    "## Lecture 05 : Lists and Arrays"
   ]
  },
  {
   "cell_type": "markdown",
   "id": "c8ed064c",
   "metadata": {
    "slideshow": {
     "slide_type": "slide"
    }
   },
   "source": [
    "## Variables\n",
    "### Remember variables can hold things such as numbers and strings"
   ]
  },
  {
   "cell_type": "code",
   "execution_count": 1,
   "id": "fcbcabd1",
   "metadata": {
    "slideshow": {
     "slide_type": "subslide"
    }
   },
   "outputs": [
    {
     "name": "stdout",
     "output_type": "stream",
     "text": [
      "apple\n",
      "banana\n",
      "grape\n"
     ]
    }
   ],
   "source": [
    "first_fruit = \"apple\"\n",
    "second_fruit = \"banana\"\n",
    "third_fruit = \"grape\"\n",
    "print(first_fruit)\n",
    "print(second_fruit)\n",
    "print(third_fruit)"
   ]
  },
  {
   "cell_type": "markdown",
   "id": "fd9005ee",
   "metadata": {},
   "source": [
    "## Lists\n",
    "### A special type of variable, called a list, can hold multiple different things"
   ]
  },
  {
   "cell_type": "code",
   "execution_count": 4,
   "id": "9435911c",
   "metadata": {},
   "outputs": [
    {
     "name": "stdout",
     "output_type": "stream",
     "text": [
      "['apple', 'banana', 'grape']\n"
     ]
    }
   ],
   "source": [
    "fruit = [\"apple\", \"banana\", \"grape\"]\n",
    "print(fruit)"
   ]
  },
  {
   "cell_type": "markdown",
   "id": "47a14098",
   "metadata": {},
   "source": [
    "## Lists\n",
    "### A single element at position `pos` within a list can be printed with `print(list[pos])`"
   ]
  },
  {
   "cell_type": "code",
   "execution_count": 5,
   "id": "cbd7585a",
   "metadata": {},
   "outputs": [
    {
     "name": "stdout",
     "output_type": "stream",
     "text": [
      "apple\n"
     ]
    }
   ],
   "source": [
    "fruit = [\"apple\", \"banana\", \"grape\"]\n",
    "print(fruit[0])"
   ]
  },
  {
   "cell_type": "markdown",
   "id": "d6c2932c",
   "metadata": {
    "slideshow": {
     "slide_type": "slide"
    }
   },
   "source": [
    "## Lists can have duplicates"
   ]
  },
  {
   "cell_type": "code",
   "execution_count": 6,
   "id": "8ea44ace",
   "metadata": {
    "slideshow": {
     "slide_type": "subslide"
    }
   },
   "outputs": [
    {
     "name": "stdout",
     "output_type": "stream",
     "text": [
      "['apple', 'banana', 'grape', 'apple']\n"
     ]
    }
   ],
   "source": [
    "fruit = [\"apple\", \"banana\", \"grape\", \"apple\"]\n",
    "print(fruit)"
   ]
  },
  {
   "cell_type": "markdown",
   "id": "2ed92e79",
   "metadata": {
    "slideshow": {
     "slide_type": "slide"
    }
   },
   "source": [
    "## TODO\n",
    "Append command"
   ]
  },
  {
   "cell_type": "code",
   "execution_count": 17,
   "id": "bd689c28",
   "metadata": {
    "slideshow": {
     "slide_type": "subslide"
    }
   },
   "outputs": [
    {
     "name": "stdout",
     "output_type": "stream",
     "text": [
      "1\n",
      "2\n",
      "3\n",
      "4\n"
     ]
    }
   ],
   "source": [
    "for var in range(1, 5):\n",
    "    print(var)"
   ]
  },
  {
   "cell_type": "markdown",
   "id": "16f18d34",
   "metadata": {
    "slideshow": {
     "slide_type": "slide"
    }
   },
   "source": [
    "## For Loops in Python\n",
    "### `for var in range(i, n, step)` creates a variable `var` and iterates from `var=i` upto, but not including, `var=n`.  However, instead of incrementing by 1, `var` is now incremented by `step`"
   ]
  },
  {
   "cell_type": "code",
   "execution_count": 18,
   "id": "47cb8c20",
   "metadata": {
    "slideshow": {
     "slide_type": "subslide"
    }
   },
   "outputs": [
    {
     "name": "stdout",
     "output_type": "stream",
     "text": [
      "0\n",
      "2\n",
      "4\n"
     ]
    }
   ],
   "source": [
    "for var in range(0, 5, 2):\n",
    "    print(var)"
   ]
  },
  {
   "cell_type": "markdown",
   "id": "6e578268",
   "metadata": {
    "slideshow": {
     "slide_type": "slide"
    }
   },
   "source": [
    "## For Loops in Python\n",
    "### Alternatively, you can step through any list, such as a list of fruits"
   ]
  },
  {
   "cell_type": "code",
   "execution_count": 30,
   "id": "b165f22d",
   "metadata": {
    "slideshow": {
     "slide_type": "subslide"
    }
   },
   "outputs": [
    {
     "name": "stdout",
     "output_type": "stream",
     "text": [
      "apple\n",
      "banana\n",
      "watermelon\n"
     ]
    }
   ],
   "source": [
    "for fruit in [\"apple\", \"banana\", \"watermelon\"]:\n",
    "    print(fruit)"
   ]
  },
  {
   "cell_type": "markdown",
   "id": "2153fcd8",
   "metadata": {
    "slideshow": {
     "slide_type": "slide"
    }
   },
   "source": [
    "## For Loops in Python\n",
    "### Or, you can loop through all letters in a string"
   ]
  },
  {
   "cell_type": "code",
   "execution_count": 31,
   "id": "7e75ba20",
   "metadata": {
    "slideshow": {
     "slide_type": "subslide"
    }
   },
   "outputs": [
    {
     "name": "stdout",
     "output_type": "stream",
     "text": [
      "h\n",
      "e\n",
      "l\n",
      "l\n",
      "o\n",
      " \n",
      "m\n",
      "y\n",
      " \n",
      "n\n",
      "a\n",
      "m\n",
      "e\n",
      " \n",
      "i\n",
      "s\n"
     ]
    }
   ],
   "source": [
    "for letter in \"hello my name is\":\n",
    "    print(letter)"
   ]
  },
  {
   "cell_type": "markdown",
   "id": "06ba7d98",
   "metadata": {
    "slideshow": {
     "slide_type": "slide"
    }
   },
   "source": [
    "## TODO : \n",
    "Should we mention `break`, `continue`?  Should `range` be taught after loops over fruits, letters?  We could show that they can you for...else (else executes after for loop finishes).  Nested loops?  We want to show while loops.  What about do-while?"
   ]
  },
  {
   "cell_type": "code",
   "execution_count": null,
   "id": "1bcb7f4c",
   "metadata": {},
   "outputs": [],
   "source": []
  }
 ],
 "metadata": {
  "celltoolbar": "Slideshow",
  "kernelspec": {
   "display_name": "Python 3 (ipykernel)",
   "language": "python",
   "name": "python3"
  },
  "language_info": {
   "codemirror_mode": {
    "name": "ipython",
    "version": 3
   },
   "file_extension": ".py",
   "mimetype": "text/x-python",
   "name": "python",
   "nbconvert_exporter": "python",
   "pygments_lexer": "ipython3",
   "version": "3.11.4"
  }
 },
 "nbformat": 4,
 "nbformat_minor": 5
}
