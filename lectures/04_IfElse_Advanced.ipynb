{
 "cells": [
  {
   "cell_type": "markdown",
   "id": "61b74318",
   "metadata": {
    "slideshow": {
     "slide_type": "slide"
    }
   },
   "source": [
    "## Lecture 03 : If/Else Statements\n",
    "\n",
    "### Learning Goals \n",
    "1. Numbers and variables can be compared with conditionals\n",
    "    - Less than `<`\n",
    "    - Greater than `>`\n",
    "    - Less than or equal to `<=`\n",
    "    - Greater than or equal to `>=`\n",
    "2. Conditionals can be used to check equivalency\n",
    "    - The equal sign `=` **does not compare**, but instead sets a variable\n",
    "    - To check if two variables are equal, the conditional is `==`\n",
    "3. Negatives of any conditional can be used with `not`\n",
    "4. The values `True` and `False` can be used within conditionals"
   ]
  },
  {
   "cell_type": "markdown",
   "id": "c8ed064c",
   "metadata": {
    "slideshow": {
     "slide_type": "slide"
    }
   },
   "source": [
    "### Combining two conditionals\n",
    "1. The conditional `>=` can be used to determine if one variable is greater than or equal to another\n",
    "    - If a variable `number` is set to `5`, the statement `if (number >= 0)` would be true.\n",
    "    - If a variable `number` is set to `0`, the statement `if (number >= 0)` would still be true as `0` is greater than or equal to `0`."
   ]
  },
  {
   "cell_type": "code",
   "execution_count": 8,
   "id": "fcbcabd1",
   "metadata": {
    "slideshow": {
     "slide_type": "-"
    }
   },
   "outputs": [
    {
     "name": "stdout",
     "output_type": "stream",
     "text": [
      "This number is non-negative\n"
     ]
    }
   ],
   "source": [
    "number = 5\n",
    "if (number >= 0):\n",
    "    print(\"This number is non-negative\")"
   ]
  },
  {
   "cell_type": "code",
   "execution_count": 9,
   "id": "ae557530",
   "metadata": {},
   "outputs": [
    {
     "name": "stdout",
     "output_type": "stream",
     "text": [
      "This number is non-negative\n"
     ]
    }
   ],
   "source": [
    "number = 0\n",
    "if (number >= 0):\n",
    "    print(\"This number is non-negative\")"
   ]
  },
  {
   "cell_type": "markdown",
   "id": "1daf1270",
   "metadata": {
    "slideshow": {
     "slide_type": "subslide"
    }
   },
   "source": [
    "2. The conditional `<=` can be used to determine if one variable is less than or equal to another\n",
    "    - If a variable `x` is set to `5` and `y` is set to `3`, the statement `if (y <= x)` would be true.\n",
    "    - If a variable `y` is instead set to `5`, the statement `if (y <= x)` would still be true as `5` is less than or equal to `5`."
   ]
  },
  {
   "cell_type": "code",
   "execution_count": 10,
   "id": "8e5ea2df",
   "metadata": {
    "scrolled": true
   },
   "outputs": [
    {
     "name": "stdout",
     "output_type": "stream",
     "text": [
      "The value in `y` is less than or equal to the value in `x`\n"
     ]
    }
   ],
   "source": [
    "x = 5\n",
    "y = 3\n",
    "if (y <= x):\n",
    "    print(\"The value in `y` is less than or equal to the value in `x`\")"
   ]
  },
  {
   "cell_type": "code",
   "execution_count": 11,
   "id": "16afeff8",
   "metadata": {
    "scrolled": true
   },
   "outputs": [
    {
     "name": "stdout",
     "output_type": "stream",
     "text": [
      "The value in `y` is less than or equal to the value in `x`\n"
     ]
    }
   ],
   "source": [
    "x = 5\n",
    "y = 5\n",
    "if (y <= x):\n",
    "    print(\"The value in `y` is less than or equal to the value in `x`\")"
   ]
  },
  {
   "cell_type": "markdown",
   "id": "d6c2932c",
   "metadata": {
    "slideshow": {
     "slide_type": "slide"
    }
   },
   "source": [
    "### The equal conditional checks if two variables are equivalent\n",
    "1. The operator `=` is not a conditional, but instead sets one variable to another"
   ]
  },
  {
   "cell_type": "code",
   "execution_count": 14,
   "id": "8ea44ace",
   "metadata": {
    "slideshow": {
     "slide_type": "-"
    }
   },
   "outputs": [
    {
     "ename": "SyntaxError",
     "evalue": "invalid syntax. Maybe you meant '==' or ':=' instead of '='? (2169741134.py, line 2)",
     "output_type": "error",
     "traceback": [
      "\u001b[0;36m  Cell \u001b[0;32mIn[14], line 2\u001b[0;36m\u001b[0m\n\u001b[0;31m    if (number = 0):\u001b[0m\n\u001b[0m        ^\u001b[0m\n\u001b[0;31mSyntaxError\u001b[0m\u001b[0;31m:\u001b[0m invalid syntax. Maybe you meant '==' or ':=' instead of '='?\n"
     ]
    }
   ],
   "source": [
    "number = 0\n",
    "if (number = 0):\n",
    "    print(\"The value of number is zero\")"
   ]
  },
  {
   "cell_type": "markdown",
   "id": "a6be1638",
   "metadata": {
    "slideshow": {
     "slide_type": "fragment"
    }
   },
   "source": [
    "2. The equivalency conditional is two equal signs `==`"
   ]
  },
  {
   "cell_type": "code",
   "execution_count": 15,
   "id": "4bd9a1d6",
   "metadata": {
    "slideshow": {
     "slide_type": "-"
    }
   },
   "outputs": [
    {
     "name": "stdout",
     "output_type": "stream",
     "text": [
      "The value of number is zero\n"
     ]
    }
   ],
   "source": [
    "number = 0\n",
    "if (number == 0):\n",
    "    print(\"The value of number is zero\")"
   ]
  },
  {
   "cell_type": "markdown",
   "id": "2ed92e79",
   "metadata": {
    "slideshow": {
     "slide_type": "slide"
    }
   },
   "source": [
    "### The negative of any conditional can be found with `not` or `!`\n",
    "1. The conditional '!=' checks that two variables are not equivalent"
   ]
  },
  {
   "cell_type": "code",
   "execution_count": 24,
   "id": "bd689c28",
   "metadata": {
    "slideshow": {
     "slide_type": "-"
    }
   },
   "outputs": [
    {
     "name": "stdout",
     "output_type": "stream",
     "text": [
      "This number is not 0\n"
     ]
    }
   ],
   "source": [
    "number = 5\n",
    "if (number != 0):\n",
    "    print(\"This number is not 0\")"
   ]
  },
  {
   "cell_type": "markdown",
   "id": "cfc04871",
   "metadata": {
    "slideshow": {
     "slide_type": "subslide"
    }
   },
   "source": [
    "2. The operator `not` can be placed in front of any conditional to negate it"
   ]
  },
  {
   "cell_type": "code",
   "execution_count": 25,
   "id": "75e00ae0",
   "metadata": {},
   "outputs": [
    {
     "name": "stdout",
     "output_type": "stream",
     "text": [
      "This number is not equal to 0\n"
     ]
    }
   ],
   "source": [
    "number = 5\n",
    "if (not number == 0):\n",
    "    print(\"This number is not equal to 0\")"
   ]
  },
  {
   "cell_type": "code",
   "execution_count": 26,
   "id": "31e02a02",
   "metadata": {},
   "outputs": [
    {
     "name": "stdout",
     "output_type": "stream",
     "text": [
      "This number is not less than 0\n"
     ]
    }
   ],
   "source": [
    "number = 5\n",
    "if (not number < 0):\n",
    "    print(\"This number is not less than 0\")"
   ]
  },
  {
   "cell_type": "markdown",
   "id": "16f18d34",
   "metadata": {
    "slideshow": {
     "slide_type": "slide"
    }
   },
   "source": [
    "### True and False Operators\n",
    "1. Conditionals can be printed, resulting in either `True` or `False` to be output"
   ]
  },
  {
   "cell_type": "code",
   "execution_count": 29,
   "id": "47cb8c20",
   "metadata": {
    "slideshow": {
     "slide_type": "-"
    }
   },
   "outputs": [
    {
     "name": "stdout",
     "output_type": "stream",
     "text": [
      "True\n"
     ]
    }
   ],
   "source": [
    "number = 5\n",
    "print(number > 0)"
   ]
  },
  {
   "cell_type": "code",
   "execution_count": 30,
   "id": "371758e8",
   "metadata": {
    "slideshow": {
     "slide_type": "-"
    }
   },
   "outputs": [
    {
     "name": "stdout",
     "output_type": "stream",
     "text": [
      "False\n"
     ]
    }
   ],
   "source": [
    "number = -5\n",
    "print(number > 0)"
   ]
  },
  {
   "cell_type": "markdown",
   "id": "2abacb27",
   "metadata": {
    "slideshow": {
     "slide_type": "subslide"
    }
   },
   "source": [
    "2. Variables can be set to hold the output of a conditional\n",
    "    - A variable conditional is set to hold `True` if `number` is greater than 0, and `False` otherwise"
   ]
  },
  {
   "cell_type": "code",
   "execution_count": 45,
   "id": "d243fc8d",
   "metadata": {},
   "outputs": [
    {
     "name": "stdout",
     "output_type": "stream",
     "text": [
      "True\n"
     ]
    }
   ],
   "source": [
    "number = 5\n",
    "conditional = number > 0\n",
    "print(conditional)"
   ]
  },
  {
   "cell_type": "code",
   "execution_count": 46,
   "id": "5b427677",
   "metadata": {},
   "outputs": [
    {
     "name": "stdout",
     "output_type": "stream",
     "text": [
      "False\n"
     ]
    }
   ],
   "source": [
    "number = -5\n",
    "conditional = number > 0\n",
    "print(conditional)"
   ]
  },
  {
   "cell_type": "markdown",
   "id": "6e578268",
   "metadata": {
    "slideshow": {
     "slide_type": "slide"
    }
   },
   "source": [
    "2. The value `True` can be used within conditionals\n",
    "    - A variable `conditional` is set to hold `True` if `number` is greater than 0\n",
    "    - An `if` statement is used to compare the value in this conditional to `True`"
   ]
  },
  {
   "cell_type": "code",
   "execution_count": 41,
   "id": "b165f22d",
   "metadata": {
    "slideshow": {
     "slide_type": "-"
    }
   },
   "outputs": [
    {
     "name": "stdout",
     "output_type": "stream",
     "text": [
      "This conditional holds the value: True\n",
      "This number is greater than 0\n"
     ]
    }
   ],
   "source": [
    "conditional = True\n",
    "if (conditional == True):\n",
    "    print(\"This conditional is set to `True`\")"
   ]
  },
  {
   "cell_type": "markdown",
   "id": "179da67f",
   "metadata": {
    "slideshow": {
     "slide_type": "fragment"
    }
   },
   "source": [
    "3. The value `False` can also be used within conditionals\n",
    "    - A variable `conditional` is set to hold `True` if `number` is greater than 0, and `False` otherwise\n",
    "    - An `if` statement is used to compare the value in this conditional to `False`"
   ]
  },
  {
   "cell_type": "code",
   "execution_count": 43,
   "id": "9c3a96d4",
   "metadata": {
    "slideshow": {
     "slide_type": "subslide"
    }
   },
   "outputs": [
    {
     "name": "stdout",
     "output_type": "stream",
     "text": [
      "This conditional holds the value: True\n"
     ]
    }
   ],
   "source": [
    "conditional = False\n",
    "if (conditional == False):\n",
    "    print(\"This number is less than or equal to 0\")"
   ]
  },
  {
   "cell_type": "markdown",
   "id": "2153fcd8",
   "metadata": {
    "slideshow": {
     "slide_type": "slide"
    }
   },
   "source": [
    "## If/Else Statements in Python\n",
    "### What if the number is equal to 0?"
   ]
  },
  {
   "cell_type": "code",
   "execution_count": 9,
   "id": "7e75ba20",
   "metadata": {
    "slideshow": {
     "slide_type": "subslide"
    }
   },
   "outputs": [
    {
     "name": "stdout",
     "output_type": "stream",
     "text": [
      "This number is negative!\n"
     ]
    }
   ],
   "source": [
    "number = 0\n",
    "if (number > 0):\n",
    "    print(\"This number is positive!\")\n",
    "else:\n",
    "    print(\"This number is negative!\")"
   ]
  },
  {
   "cell_type": "markdown",
   "id": "06ba7d98",
   "metadata": {
    "slideshow": {
     "slide_type": "slide"
    }
   },
   "source": [
    "## If/Else Statements in Python\n",
    "### What if the number is equal to 0?  The number 0 is neither positive or negative!\n",
    "#### We need a third option to catch this condition.  The elif statement is executed if the if statement is false, but the elif statement is true.  The else statement is executed only if all if/elif statements above it are false."
   ]
  },
  {
   "cell_type": "code",
   "execution_count": 11,
   "id": "17635ae4",
   "metadata": {
    "slideshow": {
     "slide_type": "subslide"
    }
   },
   "outputs": [
    {
     "name": "stdout",
     "output_type": "stream",
     "text": [
      "This number is 0!\n"
     ]
    }
   ],
   "source": [
    "number = 0\n",
    "if (number > 0):\n",
    "    print(\"This number is positive!\")\n",
    "elif (number < 0):\n",
    "    print(\"This number is negative!\")\n",
    "else:\n",
    "    print(\"This number is 0!\")"
   ]
  },
  {
   "cell_type": "markdown",
   "id": "9c9547e9",
   "metadata": {
    "slideshow": {
     "slide_type": "slide"
    }
   },
   "source": [
    "## If/Else Statements in Python\n",
    "### We can compare two variables"
   ]
  },
  {
   "cell_type": "code",
   "execution_count": 14,
   "id": "3c31d871",
   "metadata": {
    "slideshow": {
     "slide_type": "subslide"
    }
   },
   "outputs": [
    {
     "name": "stdout",
     "output_type": "stream",
     "text": [
      "The value of x is greater than the value of y\n"
     ]
    }
   ],
   "source": [
    "x = 5\n",
    "y = 4\n",
    "if (x > y):\n",
    "    print(\"The value of x is greater than the value of y\")\n",
    "elif (x < y):\n",
    "    print(\"The value of x is less than the value of y\")\n",
    "else:\n",
    "    print(\"The value of x is equal to the value of y\")"
   ]
  },
  {
   "cell_type": "code",
   "execution_count": 15,
   "id": "e7bac30d",
   "metadata": {
    "slideshow": {
     "slide_type": "subslide"
    }
   },
   "outputs": [
    {
     "name": "stdout",
     "output_type": "stream",
     "text": [
      "The value of x is less than the value of y\n"
     ]
    }
   ],
   "source": [
    "x = 3\n",
    "y = 4\n",
    "if (x > y):\n",
    "    print(\"The value of x is greater than the value of y\")\n",
    "elif (x < y):\n",
    "    print(\"The value of x is less than the value of y\")\n",
    "else:\n",
    "    print(\"The value of x is equal to the value of y\")"
   ]
  },
  {
   "cell_type": "code",
   "execution_count": 16,
   "id": "66e54530",
   "metadata": {
    "slideshow": {
     "slide_type": "subslide"
    }
   },
   "outputs": [
    {
     "name": "stdout",
     "output_type": "stream",
     "text": [
      "The value of x is equal to the value of y\n"
     ]
    }
   ],
   "source": [
    "x = 1\n",
    "y = 1\n",
    "if (x > y):\n",
    "    print(\"The value of x is greater than the value of y\")\n",
    "elif (x < y):\n",
    "    print(\"The value of x is less than the value of y\")\n",
    "else:\n",
    "    print(\"The value of x is equal to the value of y\")"
   ]
  },
  {
   "cell_type": "code",
   "execution_count": null,
   "id": "1bcb7f4c",
   "metadata": {},
   "outputs": [],
   "source": []
  }
 ],
 "metadata": {
  "celltoolbar": "Slideshow",
  "kernelspec": {
   "display_name": "Python 3 (ipykernel)",
   "language": "python",
   "name": "python3"
  },
  "language_info": {
   "codemirror_mode": {
    "name": "ipython",
    "version": 3
   },
   "file_extension": ".py",
   "mimetype": "text/x-python",
   "name": "python",
   "nbconvert_exporter": "python",
   "pygments_lexer": "ipython3",
   "version": "3.11.4"
  }
 },
 "nbformat": 4,
 "nbformat_minor": 5
}
