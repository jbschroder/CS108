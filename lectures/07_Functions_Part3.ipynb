{
 "cells": [
  {
   "cell_type": "markdown",
   "id": "0762399a",
   "metadata": {
    "slideshow": {
     "slide_type": "slide"
    }
   },
   "source": [
    "## Lecture 07.3 : Functions Part 3\n",
    "\n",
    "### Learning Goals \n",
    "\n",
    "1. Definitions (Review)\n",
    "   - Function: a function is a sequence of code that carries out a particular goal or task     \n",
    "   - Defining a function: use `def function_name():` to define or declare a new function    \n",
    "       - This creates a new function (but doesn't execute or run it)\n",
    "   - Calling a function: After defining the function, calling the function actually executes the code. \n",
    "       - The function can be called (or used) as many times as you want.\n",
    "       - Use a function by typing it's name followed by parentheses, like `function_name()`\n",
    "   - Passing parameters:\n",
    "       - Can give a function parameters (parameter is just some values like numbers or words) \n",
    "       - Parameters let you tell the function information"
   ]
  },
  {
   "cell_type": "markdown",
   "id": "c46ca6cd",
   "metadata": {},
   "source": [
    "2. New material\n",
    "    - More advanced parameter passing\n",
    "        - Pass in multiple parameters and make decisions based on those parameters with if/else statements\n",
    "        \n",
    "    - More advanced computations inside function\n",
    "        - You could pass in numbers and compute something with them"
   ]
  },
  {
   "cell_type": "markdown",
   "id": "236484de",
   "metadata": {
    "slideshow": {
     "slide_type": "slide"
    }
   },
   "source": [
    "### Define a function that takes two numbers\n",
    "   - Give the function two numbers $a$ and `$b`\n",
    "   - Compute the Pythagorean theorem $c^2 = a^2 + b^2$\n",
    "   \n",
    "### Notice how $a^2$ is written as `a**2` in Python\n",
    "### Notice how the square root is written as `c = csquared**(0.5)` in Python\n",
    "\n"
   ]
  },
  {
   "cell_type": "code",
   "execution_count": 1,
   "id": "b9c9d81b",
   "metadata": {
    "slideshow": {
     "slide_type": "-"
    }
   },
   "outputs": [],
   "source": [
    "def my_compute_triangle_side(a, b):\n",
    "    csquared = a**2 + b**2\n",
    "    c = csquared**(0.5)\n",
    "    \n",
    "    print(c, \"equals c, the third side of the triangle (Pythagorean theorem)\")"
   ]
  },
  {
   "cell_type": "markdown",
   "id": "b856b25d",
   "metadata": {},
   "source": [
    "### Use our new function to compute Pythagorean theorem\n",
    "   - Notice how the function saves time; it's easier to execute the function than have to remember the Pythagorean theorem"
   ]
  },
  {
   "cell_type": "code",
   "execution_count": 2,
   "id": "474e98a1",
   "metadata": {},
   "outputs": [
    {
     "name": "stdout",
     "output_type": "stream",
     "text": [
      "5.0 equals c, the third side of the triangle (Pythagorean theorem)\n"
     ]
    }
   ],
   "source": [
    "my_a = 3\n",
    "my_b = 4\n",
    "my_compute_triangle_side(my_a, my_b)\n"
   ]
  },
  {
   "cell_type": "markdown",
   "id": "09a7a46f",
   "metadata": {},
   "source": [
    "### We can also use a return value instead of a print message"
   ]
  },
  {
   "cell_type": "code",
   "execution_count": 3,
   "id": "60947063",
   "metadata": {},
   "outputs": [],
   "source": [
    "def my_compute_triangle_side(a, b):\n",
    "    csquared = a**2 + b**2\n",
    "    c = csquared**(0.5)\n",
    "    return c"
   ]
  },
  {
   "cell_type": "code",
   "execution_count": 4,
   "id": "1bad4b53",
   "metadata": {},
   "outputs": [
    {
     "name": "stdout",
     "output_type": "stream",
     "text": [
      "5.0 equals c and is return value from function (Pythagorean theorem)\n"
     ]
    }
   ],
   "source": [
    "my_a = 3\n",
    "my_b = 4\n",
    "my_c = my_compute_triangle_side(my_a, my_b)\n",
    "print(my_c, \"equals c and is return value from function (Pythagorean theorem)\")"
   ]
  },
  {
   "cell_type": "markdown",
   "id": "1218a8dd",
   "metadata": {},
   "source": [
    "### Lastly, we can make decisions with parameters with if/else statements "
   ]
  },
  {
   "cell_type": "code",
   "execution_count": 5,
   "id": "035610fe",
   "metadata": {},
   "outputs": [],
   "source": [
    "def my_compute_triangle_side(a, b):\n",
    "    if a < 0:\n",
    "        print(\"First side of triangle is negative in length, which doesn't make sense.\")\n",
    "        \n",
    "    if b < 0:\n",
    "        print(\"Second side of triangle is negative in length, which doesn't make sense.\")\n",
    "        \n",
    "    csquared = a**2 + b**2\n",
    "    c = csquared**(0.5)\n",
    "    return c"
   ]
  },
  {
   "cell_type": "code",
   "execution_count": 8,
   "id": "67ebcdd1",
   "metadata": {},
   "outputs": [
    {
     "name": "stdout",
     "output_type": "stream",
     "text": [
      "First side of triangle is negative in length, which doesn't make sense.\n",
      "5.0 equals c and is return value from function (Pythagorean theorem)\n"
     ]
    }
   ],
   "source": [
    "my_a = -3\n",
    "my_b = 4\n",
    "my_c = my_compute_triangle_side(my_a, my_b)\n",
    "print(my_c, \"equals c and is return value from function (Pythagorean theorem)\")"
   ]
  },
  {
   "cell_type": "code",
   "execution_count": null,
   "id": "79ebd940",
   "metadata": {},
   "outputs": [],
   "source": []
  }
 ],
 "metadata": {
  "celltoolbar": "Slideshow",
  "kernelspec": {
   "display_name": "Python 3 (ipykernel)",
   "language": "python",
   "name": "python3"
  },
  "language_info": {
   "codemirror_mode": {
    "name": "ipython",
    "version": 3
   },
   "file_extension": ".py",
   "mimetype": "text/x-python",
   "name": "python",
   "nbconvert_exporter": "python",
   "pygments_lexer": "ipython3",
   "version": "3.10.8"
  }
 },
 "nbformat": 4,
 "nbformat_minor": 5
}
