{
 "cells": [
  {
   "cell_type": "markdown",
   "id": "61b74318",
   "metadata": {
    "slideshow": {
     "slide_type": "slide"
    }
   },
   "source": [
    "## Lecture 06.2 : Loops Part 2\n",
    "\n",
    "### Learning Goals \n",
    "1. A `for` loop  can iterate over a `range` of numbers\n",
    "2. A `while` loop continually executes code until some condition is met"
   ]
  },
  {
   "cell_type": "markdown",
   "id": "d6c2932c",
   "metadata": {
    "slideshow": {
     "slide_type": "slide"
    }
   },
   "source": [
    "### The `range` command will iterate over numbers in a given range\n",
    "1. `for var in range(n)` creates a variable `var` and iterates from `var = 0` up to, but not including, `var = n`"
   ]
  },
  {
   "cell_type": "code",
   "execution_count": null,
   "id": "8ea44ace",
   "metadata": {
    "slideshow": {
     "slide_type": "-"
    }
   },
   "outputs": [],
   "source": [
    "for x in range(5):\n",
    "    print(x) \n",
    "    "
   ]
  },
  {
   "cell_type": "markdown",
   "id": "2ed92e79",
   "metadata": {
    "slideshow": {
     "slide_type": "slide"
    }
   },
   "source": [
    "2. `for var in range(i, n)` creates a variable `var` and iterates from `var = i` up to, but not including, `var = n`"
   ]
  },
  {
   "cell_type": "code",
   "execution_count": null,
   "id": "bd689c28",
   "metadata": {
    "scrolled": true,
    "slideshow": {
     "slide_type": "-"
    }
   },
   "outputs": [],
   "source": [
    "for var in range(1, 5):\n",
    "    print(var)"
   ]
  },
  {
   "cell_type": "markdown",
   "id": "16f18d34",
   "metadata": {
    "slideshow": {
     "slide_type": "slide"
    }
   },
   "source": [
    "3. `for var in range(i, n, step)` creates a variable `var` and iterates from `var = i` up to, but not including, `var = n`.  However, instead of incrementing by 1, `var` is now incremented by `step` each iteration."
   ]
  },
  {
   "cell_type": "code",
   "execution_count": null,
   "id": "47cb8c20",
   "metadata": {
    "slideshow": {
     "slide_type": "-"
    }
   },
   "outputs": [],
   "source": [
    "for var in range(0, 5, 2):\n",
    "    print(var)"
   ]
  },
  {
   "cell_type": "markdown",
   "id": "c78706d3",
   "metadata": {
    "slideshow": {
     "slide_type": "slide"
    }
   },
   "source": [
    "### `While` loop : iterate over code section until condition is met\n",
    "1. `while(condition):` loops until condition is met\n",
    "2. Each iteration, all *indented* code immediately following the `while` loop is executed\n",
    "    - The variable `x` is initially set to 0\n",
    "    - While `x` is less than `5`, the current value in `x` is printed, and the value of `x` is incremented by `1`."
   ]
  },
  {
   "cell_type": "code",
   "execution_count": null,
   "id": "ad762dfe",
   "metadata": {
    "slideshow": {
     "slide_type": "-"
    }
   },
   "outputs": [],
   "source": [
    "x = 0\n",
    "while(x < 5):\n",
    "    print(x)\n",
    "    x = x + 1"
   ]
  },
  {
   "cell_type": "markdown",
   "id": "e6dba41c",
   "metadata": {
    "slideshow": {
     "slide_type": "slide"
    }
   },
   "source": [
    "3. The `while` loop can be ended early with the `break` command\n",
    "    - During each iteration of the loop, check if `x` is equal to `3`\n",
    "    - If `x` is equal to `3` at any point, break out of the while loop early"
   ]
  },
  {
   "cell_type": "code",
   "execution_count": null,
   "id": "6eb381c3",
   "metadata": {
    "slideshow": {
     "slide_type": "-"
    }
   },
   "outputs": [],
   "source": [
    "x = 0\n",
    "while (x < 5):\n",
    "    print(x)\n",
    "    \n",
    "    if x == 3:\n",
    "        break\n",
    "    \n",
    "    x = x + 2"
   ]
  }
 ],
 "metadata": {
  "celltoolbar": "Slideshow",
  "kernelspec": {
   "display_name": "Python 3 (ipykernel)",
   "language": "python",
   "name": "python3"
  },
  "language_info": {
   "codemirror_mode": {
    "name": "ipython",
    "version": 3
   },
   "file_extension": ".py",
   "mimetype": "text/x-python",
   "name": "python",
   "nbconvert_exporter": "python",
   "pygments_lexer": "ipython3",
   "version": "3.10.8"
  }
 },
 "nbformat": 4,
 "nbformat_minor": 5
}
