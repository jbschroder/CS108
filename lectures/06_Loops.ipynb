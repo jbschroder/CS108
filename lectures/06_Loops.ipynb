{
 "cells": [
  {
   "cell_type": "markdown",
   "id": "61b74318",
   "metadata": {
    "slideshow": {
     "slide_type": "slide"
    }
   },
   "source": [
    "## Lecture 06 : Loops"
   ]
  },
  {
   "cell_type": "markdown",
   "id": "c8ed064c",
   "metadata": {
    "slideshow": {
     "slide_type": "slide"
    }
   },
   "source": [
    "## Often, you need to do the same operation many times"
   ]
  },
  {
   "cell_type": "code",
   "execution_count": 37,
   "id": "fcbcabd1",
   "metadata": {
    "slideshow": {
     "slide_type": "subslide"
    }
   },
   "outputs": [
    {
     "name": "stdout",
     "output_type": "stream",
     "text": [
      "0\n",
      "1\n",
      "2\n",
      "3\n",
      "4\n"
     ]
    }
   ],
   "source": [
    "x = 0\n",
    "print(x)\n",
    "print(x+1)\n",
    "print(x+2)\n",
    "print(x+3)\n",
    "print(x+4)"
   ]
  },
  {
   "cell_type": "markdown",
   "id": "c78706d3",
   "metadata": {},
   "source": [
    "## While loop : iterate over code section until condition is met\n",
    "### `while(condition):`\n",
    "`    //code section`\n",
    "TODO : while, conditional where they have to break\n",
    "TODO : additional conditionals in variable lecture? (not =)"
   ]
  },
  {
   "cell_type": "code",
   "execution_count": 38,
   "id": "ad762dfe",
   "metadata": {},
   "outputs": [
    {
     "name": "stdout",
     "output_type": "stream",
     "text": [
      "0\n",
      "1\n",
      "2\n",
      "3\n",
      "4\n"
     ]
    }
   ],
   "source": [
    "x = 0\n",
    "while(x < 5):\n",
    "    print(x)\n",
    "    x = x + 1"
   ]
  },
  {
   "cell_type": "markdown",
   "id": "a2ee9405",
   "metadata": {},
   "source": [
    "## For loop : iterate over elements in list\n",
    "### `for var in list`"
   ]
  },
  {
   "cell_type": "code",
   "execution_count": 39,
   "id": "75e64733",
   "metadata": {},
   "outputs": [
    {
     "name": "stdout",
     "output_type": "stream",
     "text": [
      "0\n",
      "1\n",
      "2\n",
      "3\n",
      "4\n"
     ]
    }
   ],
   "source": [
    "for x in [0, 1, 2, 3, 4]:\n",
    "    print(x)"
   ]
  },
  {
   "cell_type": "markdown",
   "id": "d6c2932c",
   "metadata": {
    "slideshow": {
     "slide_type": "slide"
    }
   },
   "source": [
    "## Can replace list of numbers with `range`\n",
    "### `for var in range(n)` iterates from `var = 0` upto, but not including, `var=n`"
   ]
  },
  {
   "cell_type": "code",
   "execution_count": 40,
   "id": "8ea44ace",
   "metadata": {
    "slideshow": {
     "slide_type": "subslide"
    }
   },
   "outputs": [
    {
     "name": "stdout",
     "output_type": "stream",
     "text": [
      "0\n",
      "1\n",
      "2\n",
      "3\n",
      "4\n"
     ]
    }
   ],
   "source": [
    "for x in range(5):\n",
    "    print(x)"
   ]
  },
  {
   "cell_type": "markdown",
   "id": "2ed92e79",
   "metadata": {
    "slideshow": {
     "slide_type": "slide"
    }
   },
   "source": [
    "## For Loops in Python\n",
    "### `for var in range(i, n)` creates a variable `var` and iterates from `var=i` upto, but not including, `var=n`"
   ]
  },
  {
   "cell_type": "code",
   "execution_count": 42,
   "id": "bd689c28",
   "metadata": {
    "slideshow": {
     "slide_type": "subslide"
    }
   },
   "outputs": [
    {
     "name": "stdout",
     "output_type": "stream",
     "text": [
      "1\n",
      "2\n",
      "3\n",
      "4\n"
     ]
    }
   ],
   "source": [
    "for var in range(1, 5):\n",
    "    print(var)"
   ]
  },
  {
   "cell_type": "markdown",
   "id": "16f18d34",
   "metadata": {
    "slideshow": {
     "slide_type": "slide"
    }
   },
   "source": [
    "## For Loops in Python\n",
    "### `for var in range(i, n, step)` creates a variable `var` and iterates from `var=i` upto, but not including, `var=n`.  However, instead of incrementing by 1, `var` is now incremented by `step`"
   ]
  },
  {
   "cell_type": "code",
   "execution_count": 18,
   "id": "47cb8c20",
   "metadata": {
    "slideshow": {
     "slide_type": "subslide"
    }
   },
   "outputs": [
    {
     "name": "stdout",
     "output_type": "stream",
     "text": [
      "0\n",
      "2\n",
      "4\n"
     ]
    }
   ],
   "source": [
    "for var in range(0, 5, 2):\n",
    "    print(var)"
   ]
  },
  {
   "cell_type": "markdown",
   "id": "6e578268",
   "metadata": {
    "slideshow": {
     "slide_type": "slide"
    }
   },
   "source": [
    "## For Loops in Python\n",
    "### Alternatively, you can step through any list, such as a list of fruits"
   ]
  },
  {
   "cell_type": "code",
   "execution_count": 30,
   "id": "b165f22d",
   "metadata": {
    "slideshow": {
     "slide_type": "subslide"
    }
   },
   "outputs": [
    {
     "name": "stdout",
     "output_type": "stream",
     "text": [
      "apple\n",
      "banana\n",
      "watermelon\n"
     ]
    }
   ],
   "source": [
    "for fruit in [\"apple\", \"banana\", \"watermelon\"]:\n",
    "    print(fruit)"
   ]
  },
  {
   "cell_type": "markdown",
   "id": "2153fcd8",
   "metadata": {
    "slideshow": {
     "slide_type": "slide"
    }
   },
   "source": [
    "## For Loops in Python\n",
    "### Or, you can loop through all letters in a string"
   ]
  },
  {
   "cell_type": "code",
   "execution_count": 31,
   "id": "7e75ba20",
   "metadata": {
    "slideshow": {
     "slide_type": "subslide"
    }
   },
   "outputs": [
    {
     "name": "stdout",
     "output_type": "stream",
     "text": [
      "h\n",
      "e\n",
      "l\n",
      "l\n",
      "o\n",
      " \n",
      "m\n",
      "y\n",
      " \n",
      "n\n",
      "a\n",
      "m\n",
      "e\n",
      " \n",
      "i\n",
      "s\n"
     ]
    }
   ],
   "source": [
    "for letter in \"hello my name is\":\n",
    "    print(letter)"
   ]
  },
  {
   "cell_type": "markdown",
   "id": "06ba7d98",
   "metadata": {
    "slideshow": {
     "slide_type": "slide"
    }
   },
   "source": [
    "## TODO : \n",
    "Should we mention `break`, `continue`?  Should `range` be taught after loops over fruits, letters?  We could show that they can you for...else (else executes after for loop finishes).  Nested loops?  We want to show while loops.  What about do-while?\n",
    "Remove step in range example"
   ]
  },
  {
   "cell_type": "code",
   "execution_count": null,
   "id": "1bcb7f4c",
   "metadata": {},
   "outputs": [],
   "source": []
  },
  {
   "cell_type": "code",
   "execution_count": 16,
   "id": "66e54530",
   "metadata": {
    "slideshow": {
     "slide_type": "subslide"
    }
   },
   "outputs": [
    {
     "name": "stdout",
     "output_type": "stream",
     "text": [
      "The value of x is equal to the value of y\n"
     ]
    }
   ],
   "source": [
    "x = 1\n",
    "y = 1\n",
    "if (x > y):\n",
    "    print(\"The value of x is greater than the value of y\")\n",
    "elif (x < y):\n",
    "    print(\"The value of x is less than the value of y\")\n",
    "else:\n",
    "    print(\"The value of x is equal to the value of y\")"
   ]
  },
  {
   "cell_type": "code",
   "execution_count": 15,
   "id": "e7bac30d",
   "metadata": {
    "slideshow": {
     "slide_type": "subslide"
    }
   },
   "outputs": [
    {
     "name": "stdout",
     "output_type": "stream",
     "text": [
      "The value of x is less than the value of y\n"
     ]
    }
   ],
   "source": [
    "x = 3\n",
    "y = 4\n",
    "if (x > y):\n",
    "    print(\"The value of x is greater than the value of y\")\n",
    "elif (x < y):\n",
    "    print(\"The value of x is less than the value of y\")\n",
    "else:\n",
    "    print(\"The value of x is equal to the value of y\")"
   ]
  },
  {
   "cell_type": "code",
   "execution_count": 14,
   "id": "3c31d871",
   "metadata": {
    "slideshow": {
     "slide_type": "subslide"
    }
   },
   "outputs": [
    {
     "name": "stdout",
     "output_type": "stream",
     "text": [
      "The value of x is greater than the value of y\n"
     ]
    }
   ],
   "source": [
    "x = 5\n",
    "y = 4\n",
    "if (x > y):\n",
    "    print(\"The value of x is greater than the value of y\")\n",
    "elif (x < y):\n",
    "    print(\"The value of x is less than the value of y\")\n",
    "else:\n",
    "    print(\"The value of x is equal to the value of y\")"
   ]
  },
  {
   "cell_type": "markdown",
   "id": "9c9547e9",
   "metadata": {
    "slideshow": {
     "slide_type": "slide"
    }
   },
   "source": [
    "## If/Else Statements in Python\n",
    "### We can compare two variables"
   ]
  },
  {
   "cell_type": "code",
   "execution_count": 11,
   "id": "17635ae4",
   "metadata": {
    "slideshow": {
     "slide_type": "subslide"
    }
   },
   "outputs": [
    {
     "name": "stdout",
     "output_type": "stream",
     "text": [
      "This number is 0!\n"
     ]
    }
   ],
   "source": [
    "number = 0\n",
    "if (number > 0):\n",
    "    print(\"This number is positive!\")\n",
    "elif (number < 0):\n",
    "    print(\"This number is negative!\")\n",
    "else:\n",
    "    print(\"This number is 0!\")"
   ]
  }
 ],
 "metadata": {
  "celltoolbar": "Slideshow",
  "kernelspec": {
   "display_name": "Python 3 (ipykernel)",
   "language": "python",
   "name": "python3"
  },
  "language_info": {
   "codemirror_mode": {
    "name": "ipython",
    "version": 3
   },
   "file_extension": ".py",
   "mimetype": "text/x-python",
   "name": "python",
   "nbconvert_exporter": "python",
   "pygments_lexer": "ipython3",
   "version": "3.11.4"
  }
 },
 "nbformat": 4,
 "nbformat_minor": 5
}
