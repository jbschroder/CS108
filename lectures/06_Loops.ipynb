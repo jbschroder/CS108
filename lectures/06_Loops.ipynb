{
 "cells": [
  {
   "cell_type": "markdown",
   "id": "61b74318",
   "metadata": {
    "slideshow": {
     "slide_type": "slide"
    }
   },
   "source": [
    "## Lecture 06 : Loops\n",
    "\n",
    "### Learning Goals \n",
    "1. Loops allow the same code to be executed many times\n",
    "2. A `while` loop continually executes code until some condition is met\n",
    "3. A `for` loop specifies the number of iterations to execute code\n",
    "    - Can step through all items in a list\n",
    "    - Can step through a range of numbers"
   ]
  },
  {
   "cell_type": "markdown",
   "id": "c8ed064c",
   "metadata": {
    "slideshow": {
     "slide_type": "slide"
    }
   },
   "source": [
    "### Often, you need to do the same operation many times\n",
    "1. Set x to 0\n",
    "2. Print a range of values, from x upto, and including, x + 4.\n",
    "3. This can be done with `5` separate print statements"
   ]
  },
  {
   "cell_type": "code",
   "execution_count": 1,
   "id": "fcbcabd1",
   "metadata": {
    "slideshow": {
     "slide_type": "subslide"
    }
   },
   "outputs": [
    {
     "name": "stdout",
     "output_type": "stream",
     "text": [
      "0\n",
      "1\n",
      "2\n",
      "3\n",
      "4\n"
     ]
    }
   ],
   "source": [
    "x = 0\n",
    "print(x)\n",
    "print(x+1)\n",
    "print(x+2)\n",
    "print(x+3)\n",
    "print(x+4)"
   ]
  },
  {
   "cell_type": "markdown",
   "id": "c78706d3",
   "metadata": {},
   "source": [
    "### `While` loop : iterate over code section until condition is met\n",
    "1. `while(condition):` loops until condition is met\n",
    "2. Each iteration, all *indented* code immediately following the `while` loop is executed\n",
    "    - The variable `x` is initially set to 0\n",
    "    - While `x` is less than `5`, the current value in `x` is printed, and the value of `x` is incremented by `1`."
   ]
  },
  {
   "cell_type": "code",
   "execution_count": 12,
   "id": "ad762dfe",
   "metadata": {},
   "outputs": [
    {
     "name": "stdout",
     "output_type": "stream",
     "text": [
      "0\n",
      "1\n",
      "2\n",
      "3\n",
      "4\n"
     ]
    }
   ],
   "source": [
    "x = 0\n",
    "while(x < 5):\n",
    "    print(x)\n",
    "    x = x + 1"
   ]
  },
  {
   "cell_type": "markdown",
   "id": "e6dba41c",
   "metadata": {},
   "source": [
    "3. The `while` loop can be ended early with the `break` command\n",
    "    - During each iteration of the loop, check if `x` is equal to `3`\n",
    "    - If `x` is equal to `3` at any point, break out of the while loop early"
   ]
  },
  {
   "cell_type": "code",
   "execution_count": 13,
   "id": "6eb381c3",
   "metadata": {},
   "outputs": [
    {
     "name": "stdout",
     "output_type": "stream",
     "text": [
      "0\n",
      "1\n",
      "2\n"
     ]
    }
   ],
   "source": [
    "x = 0\n",
    "while (x < 5):\n",
    "    if x == 3:\n",
    "        break\n",
    "    print(x)\n",
    "    x = x + 1"
   ]
  },
  {
   "cell_type": "markdown",
   "id": "a2ee9405",
   "metadata": {},
   "source": [
    "### `For` loop : iterate over elements in list\n",
    "1. `for var in list` sets variable to each element in the given list"
   ]
  },
  {
   "cell_type": "code",
   "execution_count": 14,
   "id": "75e64733",
   "metadata": {},
   "outputs": [
    {
     "name": "stdout",
     "output_type": "stream",
     "text": [
      "0\n",
      "1\n",
      "2\n",
      "3\n",
      "4\n"
     ]
    }
   ],
   "source": [
    "for x in [0, 1, 2, 3, 4]:\n",
    "    print(x)"
   ]
  },
  {
   "cell_type": "markdown",
   "id": "7f1500c2",
   "metadata": {},
   "source": [
    "2. Can break out of `for` loops early with the `break` command"
   ]
  },
  {
   "cell_type": "code",
   "execution_count": 6,
   "id": "886954ca",
   "metadata": {},
   "outputs": [
    {
     "name": "stdout",
     "output_type": "stream",
     "text": [
      "0\n",
      "1\n",
      "2\n"
     ]
    }
   ],
   "source": [
    "for x in [0, 1, 2, 3, 4]:\n",
    "    if x == 3:\n",
    "        break\n",
    "    print(x)"
   ]
  },
  {
   "cell_type": "markdown",
   "id": "d6c2932c",
   "metadata": {
    "slideshow": {
     "slide_type": "slide"
    }
   },
   "source": [
    "### The `range` command will iterate over numbers in a given range\n",
    "1. `for var in range(n)` creates a variable `var` and iterates from `var = 0` up to, but not including, `var = n`"
   ]
  },
  {
   "cell_type": "code",
   "execution_count": 9,
   "id": "8ea44ace",
   "metadata": {
    "slideshow": {
     "slide_type": "subslide"
    }
   },
   "outputs": [
    {
     "name": "stdout",
     "output_type": "stream",
     "text": [
      "0\n",
      "1\n",
      "2\n",
      "3\n",
      "4\n"
     ]
    }
   ],
   "source": [
    "for x in range(5):\n",
    "    print(x)"
   ]
  },
  {
   "cell_type": "markdown",
   "id": "2ed92e79",
   "metadata": {
    "slideshow": {
     "slide_type": "slide"
    }
   },
   "source": [
    "2. `for var in range(i, n)` creates a variable `var` and iterates from `var = i` up to, but not including, `var = n`"
   ]
  },
  {
   "cell_type": "code",
   "execution_count": 10,
   "id": "bd689c28",
   "metadata": {
    "slideshow": {
     "slide_type": "subslide"
    }
   },
   "outputs": [
    {
     "name": "stdout",
     "output_type": "stream",
     "text": [
      "1\n",
      "2\n",
      "3\n",
      "4\n"
     ]
    }
   ],
   "source": [
    "for var in range(1, 5):\n",
    "    print(var)"
   ]
  },
  {
   "cell_type": "markdown",
   "id": "16f18d34",
   "metadata": {
    "slideshow": {
     "slide_type": "slide"
    }
   },
   "source": [
    "3. `for var in range(i, n, step)` creates a variable `var` and iterates from `var = i` up to, but not including, `var = n`.  However, instead of incrementing by 1, `var` is now incremented by `step` each iteration."
   ]
  },
  {
   "cell_type": "code",
   "execution_count": 11,
   "id": "47cb8c20",
   "metadata": {
    "slideshow": {
     "slide_type": "subslide"
    }
   },
   "outputs": [
    {
     "name": "stdout",
     "output_type": "stream",
     "text": [
      "0\n",
      "2\n",
      "4\n"
     ]
    }
   ],
   "source": [
    "for var in range(0, 5, 2):\n",
    "    print(var)"
   ]
  },
  {
   "cell_type": "markdown",
   "id": "6e578268",
   "metadata": {
    "slideshow": {
     "slide_type": "slide"
    }
   },
   "source": [
    "### `For` loops can step through any list, such as strings\n",
    "1. The variable `fruit_list` contains `[\"apple\", \"banana\", \"watermelon\"]`.\n",
    "2. Each of the fruits in `fruit_list` can be printed by indexing into the list."
   ]
  },
  {
   "cell_type": "code",
   "execution_count": 18,
   "id": "b165f22d",
   "metadata": {
    "slideshow": {
     "slide_type": "-"
    }
   },
   "outputs": [
    {
     "name": "stdout",
     "output_type": "stream",
     "text": [
      "apple\n",
      "banana\n",
      "watermelon\n"
     ]
    }
   ],
   "source": [
    "fruit_list = [\"apple\", \"banana\", \"watermelon\"]\n",
    "print(fruit_list[0])\n",
    "print(fruit_list[1])\n",
    "print(fruit_list[2])"
   ]
  },
  {
   "cell_type": "markdown",
   "id": "68175d12",
   "metadata": {
    "slideshow": {
     "slide_type": "fragment"
    }
   },
   "source": [
    "3. A `for` loop can be used to print each string within the list"
   ]
  },
  {
   "cell_type": "code",
   "execution_count": 19,
   "id": "d36b722b",
   "metadata": {},
   "outputs": [
    {
     "name": "stdout",
     "output_type": "stream",
     "text": [
      "apple\n",
      "banana\n",
      "watermelon\n"
     ]
    }
   ],
   "source": [
    "fruit_list = [\"apple\", \"banana\", \"watermelon\"]\n",
    "for fruit in fruit_list:\n",
    "    print(fruit)"
   ]
  },
  {
   "cell_type": "markdown",
   "id": "2153fcd8",
   "metadata": {
    "slideshow": {
     "slide_type": "slide"
    }
   },
   "source": [
    "### Strings are similar to lists\n",
    "1. Can index into each letter of a string"
   ]
  },
  {
   "cell_type": "code",
   "execution_count": 22,
   "id": "7e75ba20",
   "metadata": {
    "slideshow": {
     "slide_type": "-"
    }
   },
   "outputs": [
    {
     "name": "stdout",
     "output_type": "stream",
     "text": [
      "h\n",
      "e\n",
      "l\n",
      "l\n",
      "o\n"
     ]
    }
   ],
   "source": [
    "string = \"hello my name is\"\n",
    "print(string[0])\n",
    "print(string[1])\n",
    "print(string[2])\n",
    "print(string[3])\n",
    "print(string[4])"
   ]
  },
  {
   "cell_type": "markdown",
   "id": "e0e05f78",
   "metadata": {
    "slideshow": {
     "slide_type": "fragment"
    }
   },
   "source": [
    "2. Can use a `for` loop to step over each letter of a string"
   ]
  },
  {
   "cell_type": "code",
   "execution_count": 21,
   "id": "a333ace0",
   "metadata": {},
   "outputs": [
    {
     "name": "stdout",
     "output_type": "stream",
     "text": [
      "h\n",
      "e\n",
      "l\n",
      "l\n",
      "o\n",
      " \n",
      "m\n",
      "y\n",
      " \n",
      "n\n",
      "a\n",
      "m\n",
      "e\n",
      " \n",
      "i\n",
      "s\n"
     ]
    }
   ],
   "source": [
    "string = \"hello my name is\"\n",
    "for letter in string:\n",
    "    print(letter)"
   ]
  }
 ],
 "metadata": {
  "celltoolbar": "Slideshow",
  "kernelspec": {
   "display_name": "Python 3 (ipykernel)",
   "language": "python",
   "name": "python3"
  },
  "language_info": {
   "codemirror_mode": {
    "name": "ipython",
    "version": 3
   },
   "file_extension": ".py",
   "mimetype": "text/x-python",
   "name": "python",
   "nbconvert_exporter": "python",
   "pygments_lexer": "ipython3",
   "version": "3.11.4"
  }
 },
 "nbformat": 4,
 "nbformat_minor": 5
}
