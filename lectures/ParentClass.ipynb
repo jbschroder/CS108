{
 "cells": [
  {
   "cell_type": "code",
   "execution_count": 9,
   "id": "eb1f3fd0",
   "metadata": {},
   "outputs": [],
   "source": [
    "class Parent():\n",
    "    def __init__(self, first, last):\n",
    "        self.first_name = first\n",
    "        self.last_name = last\n",
    "        print(\"First %s, Last %s\"%(first, last))\n",
    "    def print_name(self):\n",
    "        print(\"Parent's name is %s %s\"%(self.first_name, self.last_name))"
   ]
  },
  {
   "cell_type": "code",
   "execution_count": 10,
   "id": "354675e4",
   "metadata": {},
   "outputs": [],
   "source": [
    "def print_dad():\n",
    "    dad = Parent(\"Michael\", \"Smith\")\n",
    "    dad.print_name()"
   ]
  },
  {
   "cell_type": "code",
   "execution_count": null,
   "id": "bbff4be9",
   "metadata": {},
   "outputs": [],
   "source": []
  }
 ],
 "metadata": {
  "kernelspec": {
   "display_name": "Python 3 (ipykernel)",
   "language": "python",
   "name": "python3"
  },
  "language_info": {
   "codemirror_mode": {
    "name": "ipython",
    "version": 3
   },
   "file_extension": ".py",
   "mimetype": "text/x-python",
   "name": "python",
   "nbconvert_exporter": "python",
   "pygments_lexer": "ipython3",
   "version": "3.11.4"
  }
 },
 "nbformat": 4,
 "nbformat_minor": 5
}
