{
 "cells": [
  {
   "cell_type": "markdown",
   "id": "c8ed064c",
   "metadata": {
    "slideshow": {
     "slide_type": "slide"
    }
   },
   "source": [
    "## Lecture 08 : Classes and Objects\n",
    "\n",
    "### Learning Goals \n",
    "\n",
    "1. Definitions\n",
    "   - Class\n",
    "   - Object\n",
    "   \n",
    "   \n",
    "\n",
    "### Definitions (and repeat them) on a class and object\n",
    "\n",
    "### Classes\n",
    "1. A class defines an object\n",
    "2. The class can contain many things, such as variables\n",
    "    - The example shows a class called `MyObject` that contains a variable called `value`\n",
    "    "
   ]
  },
  {
   "cell_type": "code",
   "execution_count": 1,
   "id": "fcbcabd1",
   "metadata": {
    "slideshow": {
     "slide_type": "-"
    }
   },
   "outputs": [],
   "source": [
    "class MyObject:\n",
    "    value = 5"
   ]
  },
  {
   "cell_type": "markdown",
   "id": "eb5dd0f4",
   "metadata": {
    "slideshow": {
     "slide_type": "slide"
    }
   },
   "source": [
    "### Objects\n",
    "1. A new object `obj` is created\n",
    "2. The variable `value`, contained within the object, is printed with `obj.value`"
   ]
  },
  {
   "cell_type": "code",
   "execution_count": 2,
   "id": "ddb44241",
   "metadata": {},
   "outputs": [
    {
     "name": "stdout",
     "output_type": "stream",
     "text": [
      "5\n"
     ]
    }
   ],
   "source": [
    "obj = MyObject()\n",
    "print(obj.value)"
   ]
  },
  {
   "cell_type": "markdown",
   "id": "47db3e51",
   "metadata": {
    "slideshow": {
     "slide_type": "slide"
    }
   },
   "source": [
    "### Modifying Objects\n",
    "1. An object can be modified\n",
    "    - Write to the variable `value`, contained within the object, `obj.value`"
   ]
  },
  {
   "cell_type": "code",
   "execution_count": 3,
   "id": "f4bc729c",
   "metadata": {},
   "outputs": [
    {
     "name": "stdout",
     "output_type": "stream",
     "text": [
      "3\n"
     ]
    }
   ],
   "source": [
    "obj = MyObject()\n",
    "obj.value = 3\n",
    "print(obj.value)"
   ]
  },
  {
   "cell_type": "code",
   "execution_count": null,
   "id": "9be41a89",
   "metadata": {},
   "outputs": [],
   "source": []
  }
 ],
 "metadata": {
  "celltoolbar": "Slideshow",
  "kernelspec": {
   "display_name": "Python 3 (ipykernel)",
   "language": "python",
   "name": "python3"
  },
  "language_info": {
   "codemirror_mode": {
    "name": "ipython",
    "version": 3
   },
   "file_extension": ".py",
   "mimetype": "text/x-python",
   "name": "python",
   "nbconvert_exporter": "python",
   "pygments_lexer": "ipython3",
   "version": "3.10.8"
  }
 },
 "nbformat": 4,
 "nbformat_minor": 5
}
