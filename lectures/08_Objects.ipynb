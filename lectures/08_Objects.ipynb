{
 "cells": [
  {
   "cell_type": "markdown",
   "id": "61b74318",
   "metadata": {
    "slideshow": {
     "slide_type": "slide"
    }
   },
   "source": [
    "## Lecture 08 : Classes and Objects\n",
    "\n",
    "### Learning Goals "
   ]
  },
  {
   "cell_type": "markdown",
   "id": "c8ed064c",
   "metadata": {
    "slideshow": {
     "slide_type": "slide"
    }
   },
   "source": [
    "### Classes\n",
    "1. A class defines an object\n",
    "2. The class can contain many things, such as variables\n",
    "    - The example shows a class called `MyObject` that contains a variable called `value`\n",
    "    "
   ]
  },
  {
   "cell_type": "code",
   "execution_count": 9,
   "id": "fcbcabd1",
   "metadata": {
    "slideshow": {
     "slide_type": "subslide"
    }
   },
   "outputs": [],
   "source": [
    "class MyObject:\n",
    "    value = 5"
   ]
  },
  {
   "cell_type": "markdown",
   "id": "eb5dd0f4",
   "metadata": {},
   "source": [
    "### Objects\n",
    "1. A new object `obj` is created\n",
    "2. The variable `value`, contained within the object, is printed with `obj.value`"
   ]
  },
  {
   "cell_type": "code",
   "execution_count": 10,
   "id": "ddb44241",
   "metadata": {},
   "outputs": [
    {
     "name": "stdout",
     "output_type": "stream",
     "text": [
      "5\n"
     ]
    }
   ],
   "source": [
    "obj = MyObject()\n",
    "print(obj.value)"
   ]
  },
  {
   "cell_type": "markdown",
   "id": "e6511dc7",
   "metadata": {},
   "source": [
    "### Object Methods\n",
    "1. Classes can contain both variables, and also functions\n",
    "2. The class `MyObject` now contains a variable `value` and also a function `display`\n",
    "3. The `display` function takes a parameter `self`, which refers to the object of type `MyObject` in which `display` is to be executed"
   ]
  },
  {
   "cell_type": "code",
   "execution_count": 29,
   "id": "0e8ef9c6",
   "metadata": {},
   "outputs": [],
   "source": [
    "class MyObject():\n",
    "    value = 5\n",
    "    def display(self):\n",
    "        print(self.value)"
   ]
  },
  {
   "cell_type": "markdown",
   "id": "caeabac6",
   "metadata": {},
   "source": [
    "4. An object `obj` of type `MyObject` is created\n",
    "5. The `obj` object is displayed with `obj.display`"
   ]
  },
  {
   "cell_type": "code",
   "execution_count": 30,
   "id": "3750450f",
   "metadata": {},
   "outputs": [
    {
     "name": "stdout",
     "output_type": "stream",
     "text": [
      "5\n"
     ]
    }
   ],
   "source": [
    "obj = MyObject()\n",
    "obj.display()"
   ]
  },
  {
   "cell_type": "markdown",
   "id": "690ed02a",
   "metadata": {},
   "source": [
    "### Class Init Function\n",
    "1. A class can be initialized with the `__init__` function\n",
    "2. This function is called whenever a new instance of the class is created"
   ]
  },
  {
   "cell_type": "code",
   "execution_count": 31,
   "id": "f733d899",
   "metadata": {},
   "outputs": [],
   "source": [
    "class MyObject():\n",
    "    value = 5\n",
    "    def __init__(self, init_value):\n",
    "        self.value = init_value\n",
    "    def display(self):\n",
    "        print(self.value)"
   ]
  },
  {
   "cell_type": "markdown",
   "id": "4c18a7d3",
   "metadata": {},
   "source": [
    "3. When an object `obj` of type `MyObject` is now created, a new value is passed to the `__init__` method.  This overwrites the inital value within the variable."
   ]
  },
  {
   "cell_type": "code",
   "execution_count": 32,
   "id": "cfb94268",
   "metadata": {},
   "outputs": [
    {
     "name": "stdout",
     "output_type": "stream",
     "text": [
      "2\n"
     ]
    }
   ],
   "source": [
    "obj = MyObject(2)\n",
    "obj.display()"
   ]
  },
  {
   "cell_type": "markdown",
   "id": "8999071f",
   "metadata": {},
   "source": [
    "### Modifying Objects\n",
    "1. Object properties can be modified manually `object.property = value`"
   ]
  },
  {
   "cell_type": "code",
   "execution_count": 34,
   "id": "8c604af7",
   "metadata": {},
   "outputs": [
    {
     "name": "stdout",
     "output_type": "stream",
     "text": [
      "3\n"
     ]
    }
   ],
   "source": [
    "obj = MyObject(2)\n",
    "obj.value = 3\n",
    "obj.display()"
   ]
  },
  {
   "cell_type": "code",
   "execution_count": null,
   "id": "c03c8ceb",
   "metadata": {},
   "outputs": [],
   "source": []
  }
 ],
 "metadata": {
  "celltoolbar": "Slideshow",
  "kernelspec": {
   "display_name": "Python 3 (ipykernel)",
   "language": "python",
   "name": "python3"
  },
  "language_info": {
   "codemirror_mode": {
    "name": "ipython",
    "version": 3
   },
   "file_extension": ".py",
   "mimetype": "text/x-python",
   "name": "python",
   "nbconvert_exporter": "python",
   "pygments_lexer": "ipython3",
   "version": "3.11.4"
  }
 },
 "nbformat": 4,
 "nbformat_minor": 5
}
