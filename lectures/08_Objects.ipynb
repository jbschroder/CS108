{
 "cells": [
  {
   "cell_type": "markdown",
   "id": "edf0d8b5",
   "metadata": {
    "slideshow": {
     "slide_type": "slide"
    }
   },
   "source": [
    "## Lecture 08 : Classes and Objects\n",
    "\n",
    "### Learning Goals \n",
    "\n",
    "1. Definitions\n",
    "   - Class (less formal): Is a collection of related information and related functions.  The information can be numbers, words, lists and really anything.  The data and functions are typically related around a concept\n",
    "       - For example, the turtle that we've been using is a Class\n",
    "       - The turtle class contains a collection of functions like `move_left()`,  `move_right()`, `start_new_journey()` and `watch_me_move()`\n",
    "       - The turtle class also contains data, like the list of movements `[(0,0), (0,1), (0,2)]`\n",
    "  \n",
    "   - Class (more formal definition): is a code template for creating objects and providing initial (default) values for member variables and default member function\n",
    "       - This definition will sink in over time, but please ask questions "
   ]
  },
  {
   "cell_type": "markdown",
   "id": "5ef35b36",
   "metadata": {
    "slideshow": {
     "slide_type": "slide"
    }
   },
   "source": [
    "### Learning Goals \n",
    "\n",
    "1. Definitions (cont'd)\n",
    "\n",
    "   - Object:  An object is an instance of a class.  \n",
    "       - The class defines the structure of the collection of information and functions.  \n",
    "       - The class is only an abstract definition  \n",
    "       - But an object is an instantiation, realization, embodiment of the class \n",
    "   \n",
    "   - For example, you could create multiple turtles each navigating their own maze \n",
    "   \n",
    "           turtle1 = turtle_generator( maze_number=1 )\n",
    "           turtle2 = turtle_generator( maze_number=2 )\n",
    "     \n",
    "   - Both `turtle1` and `turtle2` are instances of the class `turtle_generator`\n",
    "\n",
    "2. Definition: When using classes and objects, you are doing \"object oriented programming\""
   ]
  },
  {
   "cell_type": "markdown",
   "id": "c8ed064c",
   "metadata": {
    "slideshow": {
     "slide_type": "slide"
    }
   },
   "source": [
    "### Summary\n",
    "1. The class can contain many things, such as variables and functions\n",
    "2. An object is an instance of a class.  You can have many objects, all distinct, based on the same class.\n",
    "    \n",
    "### This example shows a class called `MyObject` that contains a variable called `value`\n",
    "   - Notice how this just defines the abstract structure of the class\n",
    "    "
   ]
  },
  {
   "cell_type": "code",
   "execution_count": null,
   "id": "fcbcabd1",
   "metadata": {
    "slideshow": {
     "slide_type": "-"
    }
   },
   "outputs": [],
   "source": [
    "class MyObject:\n",
    "    value = 5"
   ]
  },
  {
   "cell_type": "markdown",
   "id": "eb5dd0f4",
   "metadata": {
    "slideshow": {
     "slide_type": "slide"
    }
   },
   "source": [
    "### Objects\n",
    "1. A new object `obj` is created\n",
    "2. The variable `value`, contained within the object, is printed with `obj.value`\n",
    "3. The object 'obj' is an instance of the class"
   ]
  },
  {
   "cell_type": "code",
   "execution_count": null,
   "id": "ddb44241",
   "metadata": {
    "slideshow": {
     "slide_type": "-"
    }
   },
   "outputs": [],
   "source": [
    "obj = MyObject()\n",
    "print(obj.value)"
   ]
  },
  {
   "cell_type": "markdown",
   "id": "47db3e51",
   "metadata": {
    "slideshow": {
     "slide_type": "slide"
    }
   },
   "source": [
    "### Modifying Objects\n",
    "1. An object can be modified\n",
    "    - Write to the variable `value`, contained within the object, `obj.value`"
   ]
  },
  {
   "cell_type": "code",
   "execution_count": null,
   "id": "f4bc729c",
   "metadata": {
    "slideshow": {
     "slide_type": "-"
    }
   },
   "outputs": [],
   "source": [
    "obj = MyObject()\n",
    "obj.value = 3\n",
    "print(obj.value)"
   ]
  },
  {
   "cell_type": "markdown",
   "id": "7f34cab0",
   "metadata": {
    "slideshow": {
     "slide_type": "slide"
    }
   },
   "source": [
    "### Creating another instance of the object"
   ]
  },
  {
   "cell_type": "code",
   "execution_count": null,
   "id": "490d2468",
   "metadata": {
    "slideshow": {
     "slide_type": "-"
    }
   },
   "outputs": [],
   "source": [
    "obj_two = MyObject()\n",
    "obj_two.value = 22\n",
    "print(obj_two.value, \"obj_two\")\n",
    "print(obj.value, \" obj\")"
   ]
  },
  {
   "cell_type": "code",
   "execution_count": null,
   "id": "40ee596e",
   "metadata": {},
   "outputs": [],
   "source": []
  }
 ],
 "metadata": {
  "celltoolbar": "Slideshow",
  "kernelspec": {
   "display_name": "Python 3 (ipykernel)",
   "language": "python",
   "name": "python3"
  },
  "language_info": {
   "codemirror_mode": {
    "name": "ipython",
    "version": 3
   },
   "file_extension": ".py",
   "mimetype": "text/x-python",
   "name": "python",
   "nbconvert_exporter": "python",
   "pygments_lexer": "ipython3",
   "version": "3.10.8"
  }
 },
 "nbformat": 4,
 "nbformat_minor": 5
}
