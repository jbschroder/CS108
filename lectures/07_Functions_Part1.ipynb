{
 "cells": [
  {
   "cell_type": "markdown",
   "id": "61b74318",
   "metadata": {
    "slideshow": {
     "slide_type": "slide"
    }
   },
   "source": [
    "## Lecture 07.1 : Functions Part 1\n",
    "\n",
    "### Learning Goals "
   ]
  },
  {
   "cell_type": "markdown",
   "id": "c8ed064c",
   "metadata": {
    "slideshow": {
     "slide_type": "slide"
    }
   },
   "source": [
    "### Functions are callable portions of code\n",
    "1. Create a function with `def function_name():`\n",
    "2. All indented code following function header is included in function\n",
    "3. Running the cell with the function header declares, but does not execute, the function"
   ]
  },
  {
   "cell_type": "code",
   "execution_count": 72,
   "id": "fcbcabd1",
   "metadata": {
    "slideshow": {
     "slide_type": "-"
    }
   },
   "outputs": [],
   "source": [
    "def my_function():\n",
    "    print(\"Hello world from a function!\")"
   ]
  },
  {
   "cell_type": "markdown",
   "id": "c78706d3",
   "metadata": {
    "slideshow": {
     "slide_type": "slide"
    }
   },
   "source": [
    "4. The function can be executed after it has been declared\n",
    "    - To execute a function, call the function name, followed by parentheses `()`\n",
    "    - Un-indent this code, so that it is not part of the function"
   ]
  },
  {
   "cell_type": "code",
   "execution_count": 73,
   "id": "ad762dfe",
   "metadata": {},
   "outputs": [
    {
     "name": "stdout",
     "output_type": "stream",
     "text": [
      "Hello world from a function!\n"
     ]
    }
   ],
   "source": [
    "my_function()"
   ]
  },
  {
   "cell_type": "markdown",
   "id": "16197cfd",
   "metadata": {
    "slideshow": {
     "slide_type": "slide"
    }
   },
   "source": [
    "### Function Return Statements\n",
    "1. A function can return a variable with `return`\n",
    "    - The method `my_function()` returns a string"
   ]
  },
  {
   "cell_type": "code",
   "execution_count": 2,
   "id": "0be64ada",
   "metadata": {},
   "outputs": [],
   "source": [
    "def my_function():\n",
    "    return \"Hello world\""
   ]
  },
  {
   "cell_type": "markdown",
   "id": "37137a26",
   "metadata": {
    "slideshow": {
     "slide_type": "slide"
    }
   },
   "source": [
    "3. The returned variable can be stored in a variable \n",
    "    - The call `var = my_function()` stores the result of the function in `var`\n",
    "    - The variable `var` will now hold the string returned by the function"
   ]
  },
  {
   "cell_type": "code",
   "execution_count": 4,
   "id": "620b1ace",
   "metadata": {},
   "outputs": [
    {
     "name": "stdout",
     "output_type": "stream",
     "text": [
      "Hello world returned from a function!\n"
     ]
    }
   ],
   "source": [
    "var = my_function()\n",
    "print(var, \"returned from a function!\")"
   ]
  },
  {
   "cell_type": "markdown",
   "id": "df837b66",
   "metadata": {},
   "source": [
    "5. Return values can be of any type\n",
    "    - The function now returns an integer"
   ]
  },
  {
   "cell_type": "code",
   "execution_count": 5,
   "id": "b6a6b5f6",
   "metadata": {},
   "outputs": [],
   "source": [
    "def my_function():\n",
    "    return 0"
   ]
  },
  {
   "cell_type": "code",
   "execution_count": 7,
   "id": "cd1f7cb0",
   "metadata": {},
   "outputs": [
    {
     "name": "stdout",
     "output_type": "stream",
     "text": [
      "0 returned from a function!\n"
     ]
    }
   ],
   "source": [
    "var = my_function()\n",
    "print(var, \"returned from a function!\")"
   ]
  }
 ],
 "metadata": {
  "celltoolbar": "Slideshow",
  "kernelspec": {
   "display_name": "Python 3 (ipykernel)",
   "language": "python",
   "name": "python3"
  },
  "language_info": {
   "codemirror_mode": {
    "name": "ipython",
    "version": 3
   },
   "file_extension": ".py",
   "mimetype": "text/x-python",
   "name": "python",
   "nbconvert_exporter": "python",
   "pygments_lexer": "ipython3",
   "version": "3.11.4"
  }
 },
 "nbformat": 4,
 "nbformat_minor": 5
}
