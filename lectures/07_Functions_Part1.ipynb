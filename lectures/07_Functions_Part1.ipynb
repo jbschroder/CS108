{
 "cells": [
  {
   "cell_type": "markdown",
   "id": "0157c7d0",
   "metadata": {
    "slideshow": {
     "slide_type": "slide"
    }
   },
   "source": [
    "## Lecture 07.1 : Functions Part 1\n",
    "\n",
    "### Learning Goals \n",
    "\n",
    "1. Definitions\n",
    "   - Function: a function is a sequence of code that carries out a particular goal or task\n",
    "   - In other words, a function is some lines of code, packaged together, where all that code carries out a particular task\n",
    "       - Key point: This code is packaged or grouped together, so that it's easy to use\n",
    "       - This package can be used again and again to carry out the particular task\n",
    "     \n",
    "   - Defining a function: In Python we use `def function_name():` to define or declare a new function. \n",
    "       - The code cell with the `def` makes the function available (defines the function)\n",
    "       \n",
    "   - Calling a function: After defining the function, calling the function actually executes the code. The function can be called (or used) as many times as you want.\n",
    "   "
   ]
  },
  {
   "cell_type": "markdown",
   "id": "2709760d",
   "metadata": {
    "slideshow": {
     "slide_type": "slide"
    }
   },
   "source": [
    "### Learning Goals\n",
    "\n",
    "2. Learn how to create a function with `def function_name():`\n",
    "\n",
    "3. All indented code following `def function_name():` is included inside function\n",
    "\n",
    "4. Running the cell with the `def function_name():` statement declares, but does not execute, the function\n",
    "\n",
    "5. To execute or run the function, you then have to type `function_name()`"
   ]
  },
  {
   "cell_type": "markdown",
   "id": "096803e9",
   "metadata": {
    "slideshow": {
     "slide_type": "slide"
    }
   },
   "source": [
    "### Example 1: We could define a function that takes a turtle and moves it a number of times to get to the pond.  We could then use this function whenever we want to move the turtle.  \n",
    "\n",
    "### Example 2: Or, we could have a function that prints a message to the screen. We could reuse this function every time we want to print that message."
   ]
  },
  {
   "cell_type": "markdown",
   "id": "c8ed064c",
   "metadata": {
    "slideshow": {
     "slide_type": "slide"
    }
   },
   "source": [
    "### We run the below cell. This defines a function called `my_function`, but does NOT run or execute the function\n",
    "   - Notice nothing is printed when we run the below cell"
   ]
  },
  {
   "cell_type": "code",
   "execution_count": null,
   "id": "fcbcabd1",
   "metadata": {
    "slideshow": {
     "slide_type": "-"
    }
   },
   "outputs": [],
   "source": [
    "def my_function():\n",
    "    print(\"Hello world from a function!\")"
   ]
  },
  {
   "cell_type": "markdown",
   "id": "c78706d3",
   "metadata": {
    "slideshow": {
     "slide_type": "slide"
    }
   },
   "source": [
    "### The function can be executed (run) after it has been declared\n",
    "   - To execute (run) a function, call the function name, followed by parentheses `()`\n",
    "   - Un-indent this code, so that it is not part of the function\n",
    "\n",
    "### Call, Run, or Execute a function all mean the same thing"
   ]
  },
  {
   "cell_type": "code",
   "execution_count": null,
   "id": "ad762dfe",
   "metadata": {},
   "outputs": [],
   "source": [
    "my_function()"
   ]
  },
  {
   "cell_type": "markdown",
   "id": "16197cfd",
   "metadata": {
    "slideshow": {
     "slide_type": "slide"
    }
   },
   "source": [
    "### Functions represent a group of code designed to do something in particular\n",
    "   - Often, that particular goal is to compute a value (say to compute Pi, or to compute the next turtle movement)\n",
    "   - In such a case, the function can then return a value, that is, give a value as output\n",
    "   - This is called a Function Return Statemetn\n",
    "\n",
    "### Function Return Statements\n",
    "1. A function can return a value with `return`\n",
    "2. We now re-define the function `my_function()`, so that it returns a string"
   ]
  },
  {
   "cell_type": "code",
   "execution_count": null,
   "id": "0be64ada",
   "metadata": {},
   "outputs": [],
   "source": [
    "def my_function():\n",
    "    return \"Hello world\""
   ]
  },
  {
   "cell_type": "markdown",
   "id": "37137a26",
   "metadata": {
    "slideshow": {
     "slide_type": "slide"
    }
   },
   "source": [
    "### The returned value can be stored in a variable \n",
    "   - The call `var = my_function()` stores the result of the function in a variable called `var`\n",
    "   - The variable `var` will now hold the string returned by the function\n",
    "   - Note, executing `my_function()` does not print anything to the screen.  It only returns a string."
   ]
  },
  {
   "cell_type": "code",
   "execution_count": null,
   "id": "620b1ace",
   "metadata": {},
   "outputs": [],
   "source": [
    "var = my_function()\n",
    "print(var, \"returned from a function!\")"
   ]
  },
  {
   "cell_type": "markdown",
   "id": "df837b66",
   "metadata": {
    "slideshow": {
     "slide_type": "slide"
    }
   },
   "source": [
    "### Return values can be of any type\n",
    "   - We now redefined `my_function()` to return a number (technically, an integer)"
   ]
  },
  {
   "cell_type": "code",
   "execution_count": null,
   "id": "b6a6b5f6",
   "metadata": {},
   "outputs": [],
   "source": [
    "def my_function():\n",
    "    return 0"
   ]
  },
  {
   "cell_type": "code",
   "execution_count": null,
   "id": "cd1f7cb0",
   "metadata": {},
   "outputs": [],
   "source": [
    "var = my_function()\n",
    "print(var, \"returned from a function!\")"
   ]
  }
 ],
 "metadata": {
  "celltoolbar": "Slideshow",
  "kernelspec": {
   "display_name": "Python 3 (ipykernel)",
   "language": "python",
   "name": "python3"
  },
  "language_info": {
   "codemirror_mode": {
    "name": "ipython",
    "version": 3
   },
   "file_extension": ".py",
   "mimetype": "text/x-python",
   "name": "python",
   "nbconvert_exporter": "python",
   "pygments_lexer": "ipython3",
   "version": "3.10.8"
  }
 },
 "nbformat": 4,
 "nbformat_minor": 5
}
