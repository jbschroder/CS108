{
 "cells": [
  {
   "cell_type": "code",
   "execution_count": 9,
   "id": "b12a329a",
   "metadata": {},
   "outputs": [],
   "source": [
    "global n_parents"
   ]
  },
  {
   "cell_type": "code",
   "execution_count": 10,
   "id": "5283dffc",
   "metadata": {},
   "outputs": [],
   "source": [
    "class ParentClass():\n",
    "    def __init__(self, first, last):\n",
    "        self.first_name = first\n",
    "        self.last_name = last\n",
    "    def print_name(self):\n",
    "        print(\"Parent's name is %s %s\"%(self.first_name, self.last_name))"
   ]
  },
  {
   "cell_type": "code",
   "execution_count": 11,
   "id": "e630a694",
   "metadata": {},
   "outputs": [],
   "source": [
    "def print_parent():\n",
    "    parent = ParentClass(\"Alex\", \"Smith\")\n",
    "    parent.print_name()"
   ]
  },
  {
   "cell_type": "code",
   "execution_count": 12,
   "id": "f8f78177",
   "metadata": {},
   "outputs": [],
   "source": [
    "n_parents = 1"
   ]
  },
  {
   "cell_type": "code",
   "execution_count": null,
   "id": "825b69ef",
   "metadata": {},
   "outputs": [],
   "source": []
  }
 ],
 "metadata": {
  "kernelspec": {
   "display_name": "Python 3 (ipykernel)",
   "language": "python",
   "name": "python3"
  },
  "language_info": {
   "codemirror_mode": {
    "name": "ipython",
    "version": 3
   },
   "file_extension": ".py",
   "mimetype": "text/x-python",
   "name": "python",
   "nbconvert_exporter": "python",
   "pygments_lexer": "ipython3",
   "version": "3.11.4"
  }
 },
 "nbformat": 4,
 "nbformat_minor": 5
}
