{
 "cells": [
  {
   "cell_type": "markdown",
   "id": "61b74318",
   "metadata": {
    "slideshow": {
     "slide_type": "slide"
    }
   },
   "source": [
    "## Lecture 06.1 : Loops Part 1\n",
    "\n",
    "### Learning Goals \n",
    "1. Loops allow the same code to be executed many times\n",
    "2. A `for` loop can step through items in a list"
   ]
  },
  {
   "cell_type": "markdown",
   "id": "c8ed064c",
   "metadata": {
    "slideshow": {
     "slide_type": "slide"
    }
   },
   "source": [
    "### Often, you need to do the same operation many times\n",
    "1. Set x to 0\n",
    "2. Print a range of values, from x upto, and including, x + 4.\n",
    "3. This can be done with `5` separate print statements"
   ]
  },
  {
   "cell_type": "code",
   "execution_count": 1,
   "id": "fcbcabd1",
   "metadata": {
    "slideshow": {
     "slide_type": "subslide"
    }
   },
   "outputs": [
    {
     "name": "stdout",
     "output_type": "stream",
     "text": [
      "0\n",
      "1\n",
      "2\n",
      "3\n",
      "4\n"
     ]
    }
   ],
   "source": [
    "x = 0\n",
    "print(x)\n",
    "print(x+1)\n",
    "print(x+2)\n",
    "print(x+3)\n",
    "print(x+4)"
   ]
  },
  {
   "cell_type": "markdown",
   "id": "a2ee9405",
   "metadata": {},
   "source": [
    "### `For` loop : iterate over elements in list\n",
    "1. `for var in list` sets variable to each element in the given list"
   ]
  },
  {
   "cell_type": "code",
   "execution_count": 4,
   "id": "75e64733",
   "metadata": {},
   "outputs": [
    {
     "name": "stdout",
     "output_type": "stream",
     "text": [
      "0\n",
      "1\n",
      "2\n",
      "3\n",
      "4\n"
     ]
    }
   ],
   "source": [
    "for x in [0, 1, 2, 3, 4]:\n",
    "    print(x)"
   ]
  },
  {
   "cell_type": "markdown",
   "id": "7f1500c2",
   "metadata": {},
   "source": [
    "2. Can break out of `for` loops early with the `break` command"
   ]
  },
  {
   "cell_type": "code",
   "execution_count": 5,
   "id": "886954ca",
   "metadata": {},
   "outputs": [
    {
     "name": "stdout",
     "output_type": "stream",
     "text": [
      "0\n",
      "1\n",
      "2\n"
     ]
    }
   ],
   "source": [
    "for x in [0, 1, 2, 3, 4]:\n",
    "    if x == 3:\n",
    "        break\n",
    "    print(x)"
   ]
  },
  {
   "cell_type": "markdown",
   "id": "6e578268",
   "metadata": {
    "slideshow": {
     "slide_type": "slide"
    }
   },
   "source": [
    "### `For` loops can step through any list, such as strings\n",
    "1. The variable `fruit_list` contains `[\"apple\", \"banana\", \"watermelon\"]`.\n",
    "2. Each of the fruits in `fruit_list` can be printed by indexing into the list."
   ]
  },
  {
   "cell_type": "code",
   "execution_count": 6,
   "id": "b165f22d",
   "metadata": {
    "slideshow": {
     "slide_type": "-"
    }
   },
   "outputs": [
    {
     "name": "stdout",
     "output_type": "stream",
     "text": [
      "apple\n",
      "banana\n",
      "watermelon\n"
     ]
    }
   ],
   "source": [
    "fruit_list = [\"apple\", \"banana\", \"watermelon\"]\n",
    "print(fruit_list[0])\n",
    "print(fruit_list[1])\n",
    "print(fruit_list[2])"
   ]
  },
  {
   "cell_type": "markdown",
   "id": "68175d12",
   "metadata": {
    "slideshow": {
     "slide_type": "fragment"
    }
   },
   "source": [
    "3. A `for` loop can be used to print each string within the list"
   ]
  },
  {
   "cell_type": "code",
   "execution_count": 7,
   "id": "d36b722b",
   "metadata": {},
   "outputs": [
    {
     "name": "stdout",
     "output_type": "stream",
     "text": [
      "apple\n",
      "banana\n",
      "watermelon\n"
     ]
    }
   ],
   "source": [
    "fruit_list = [\"apple\", \"banana\", \"watermelon\"]\n",
    "for fruit in fruit_list:\n",
    "    print(fruit)"
   ]
  },
  {
   "cell_type": "markdown",
   "id": "2153fcd8",
   "metadata": {
    "slideshow": {
     "slide_type": "slide"
    }
   },
   "source": [
    "### Strings are similar to lists\n",
    "1. Can index into each letter of a string"
   ]
  },
  {
   "cell_type": "code",
   "execution_count": 8,
   "id": "7e75ba20",
   "metadata": {
    "slideshow": {
     "slide_type": "-"
    }
   },
   "outputs": [
    {
     "name": "stdout",
     "output_type": "stream",
     "text": [
      "h\n",
      "e\n",
      "l\n",
      "l\n",
      "o\n"
     ]
    }
   ],
   "source": [
    "string = \"hello my name is\"\n",
    "print(string[0])\n",
    "print(string[1])\n",
    "print(string[2])\n",
    "print(string[3])\n",
    "print(string[4])"
   ]
  },
  {
   "cell_type": "markdown",
   "id": "e0e05f78",
   "metadata": {
    "slideshow": {
     "slide_type": "fragment"
    }
   },
   "source": [
    "2. Can use a `for` loop to step over each letter of a string"
   ]
  },
  {
   "cell_type": "code",
   "execution_count": 9,
   "id": "a333ace0",
   "metadata": {},
   "outputs": [
    {
     "name": "stdout",
     "output_type": "stream",
     "text": [
      "h\n",
      "e\n",
      "l\n",
      "l\n",
      "o\n",
      " \n",
      "m\n",
      "y\n",
      " \n",
      "n\n",
      "a\n",
      "m\n",
      "e\n",
      " \n",
      "i\n",
      "s\n"
     ]
    }
   ],
   "source": [
    "string = \"hello my name is\"\n",
    "for letter in string:\n",
    "    print(letter)"
   ]
  },
  {
   "cell_type": "code",
   "execution_count": null,
   "id": "27819d27",
   "metadata": {},
   "outputs": [],
   "source": []
  }
 ],
 "metadata": {
  "celltoolbar": "Slideshow",
  "kernelspec": {
   "display_name": "Python 3 (ipykernel)",
   "language": "python",
   "name": "python3"
  },
  "language_info": {
   "codemirror_mode": {
    "name": "ipython",
    "version": 3
   },
   "file_extension": ".py",
   "mimetype": "text/x-python",
   "name": "python",
   "nbconvert_exporter": "python",
   "pygments_lexer": "ipython3",
   "version": "3.11.4"
  }
 },
 "nbformat": 4,
 "nbformat_minor": 5
}
