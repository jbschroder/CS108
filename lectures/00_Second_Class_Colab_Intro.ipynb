{
 "cells": [
  {
   "cell_type": "markdown",
   "id": "7017bd98",
   "metadata": {
    "slideshow": {
     "slide_type": "slide"
    }
   },
   "source": [
    "## Lecture 00 : Second Class"
   ]
  },
  {
   "cell_type": "markdown",
   "id": "a6ed98c7",
   "metadata": {
    "slideshow": {
     "slide_type": "slide"
    }
   },
   "source": [
    "### Did everyone create a Google Account?"
   ]
  },
  {
   "cell_type": "markdown",
   "id": "97dbe690",
   "metadata": {
    "slideshow": {
     "slide_type": "slide"
    }
   },
   "source": [
    "### Reminder:  Starting Monday, you will have a short video (4-8 minutes), followed by a quiz, which you will need to do before class\n",
    "\n",
    "#### Let's look on the course website where that is located"
   ]
  },
  {
   "cell_type": "markdown",
   "id": "89fc2005",
   "metadata": {
    "slideshow": {
     "slide_type": "slide"
    }
   },
   "source": [
    "### Learning goals\n",
    "\n",
    "1. Learn basics of Google CoLab\n",
    "    - How to download a Python Notebook from the course website\n",
    "    - How to upload the Notebook to Google Drive\n",
    "    - How to run the Notebook in Google Drive\n",
    "    - Learn about text versus code cells in the Notebook\n",
    "    - Learn basic manipulation of cells (running cells, editing cells, and creating cells)\n",
    "    "
   ]
  },
  {
   "cell_type": "markdown",
   "id": "63e1f162",
   "metadata": {
    "slideshow": {
     "slide_type": "slide"
    }
   },
   "source": [
    "    \n",
    "2. Let's download today's Python Notebook and upload it to CoLab\n",
    "    - Remember, Google CoLab is an online _virtual_ computer that easily lets you run Python Notebook code\n",
    "    - Thus, there is no need to install any special software on your home machine\n",
    "    - You just need a web browser to open CoLab and run Python Notebooks!\n",
    "    - You will need a Google account for this class \n",
    "    \n",
    "      (can create account just for this class, and then delete it, if you don't have a Google account)"
   ]
  },
  {
   "cell_type": "markdown",
   "id": "b79ef8d4",
   "metadata": {
    "slideshow": {
     "slide_type": "slide"
    }
   },
   "source": [
    "3. So, let's start playing in CoLab!\n",
    "    1. Go to Canvas \n",
    "    2. Download `lab1_Hello_World.ipynb` from the page \"Class 2, Fri Jan 19\"\n",
    "    3. Open Google Drive\n",
    "    4. Drag and drop the downloaded file into your CS 108 folder \n",
    "         - If you haven't created a CS108 folder in Google Drive, do so now\n",
    "    5. Go into that Google Drive folder, and double click on the file `lab1_Hello_World.ipynb`\n",
    "    6. This will open the Python Notebook in a way that lets you run the Python code\n",
    "    7. Let's open that code now, and take a look\n",
    "    \n",
    "    **Let's also look over the interface on CoLab**\n"
   ]
  },
  {
   "cell_type": "code",
   "execution_count": null,
   "id": "96525ea5",
   "metadata": {},
   "outputs": [],
   "source": []
  }
 ],
 "metadata": {
  "celltoolbar": "Slideshow",
  "kernelspec": {
   "display_name": "Python 3 (ipykernel)",
   "language": "python",
   "name": "python3"
  },
  "language_info": {
   "codemirror_mode": {
    "name": "ipython",
    "version": 3
   },
   "file_extension": ".py",
   "mimetype": "text/x-python",
   "name": "python",
   "nbconvert_exporter": "python",
   "pygments_lexer": "ipython3",
   "version": "3.10.8"
  }
 },
 "nbformat": 4,
 "nbformat_minor": 5
}
