{
 "cells": [
  {
   "cell_type": "markdown",
   "id": "7017bd98",
   "metadata": {
    "slideshow": {
     "slide_type": "slide"
    }
   },
   "source": [
    "## Lecture 00 : How to use Google Colab\n",
    "\n",
    "### Learning Goals \n",
    "1. Open up a Google Colab notebook\n",
    "2. Press enter to *run* a notebook cell"
   ]
  },
  {
   "cell_type": "markdown",
   "id": "a6ed98c7",
   "metadata": {
    "slideshow": {
     "slide_type": "slide"
    }
   },
   "source": [
    "### Google Colab\n",
    "1. "
   ]
  },
  {
   "cell_type": "code",
   "execution_count": 21,
   "id": "e1039f38",
   "metadata": {
    "slideshow": {
     "slide_type": "-"
    }
   },
   "outputs": [
    {
     "name": "stdout",
     "output_type": "stream",
     "text": [
      "5\n"
     ]
    }
   ],
   "source": [
    "x = 5"
   ]
  },
  {
   "cell_type": "markdown",
   "id": "b78a15c6",
   "metadata": {
    "slideshow": {
     "slide_type": "slide"
    }
   },
   "source": [
    "### Running Notebook Cell\n",
    "1. \n",
    "\n",
    "Note : you can run a cell multiple times, add example of that"
   ]
  },
  {
   "cell_type": "code",
   "execution_count": 27,
   "id": "da0eaff4",
   "metadata": {
    "slideshow": {
     "slide_type": "-"
    }
   },
   "outputs": [
    {
     "name": "stdout",
     "output_type": "stream",
     "text": [
      "9\n"
     ]
    },
    {
     "data": {
      "text/plain": [
       "5"
      ]
     },
     "execution_count": 27,
     "metadata": {},
     "output_type": "execute_result"
    }
   ],
   "source": []
  }
 ],
 "metadata": {
  "celltoolbar": "Slideshow",
  "kernelspec": {
   "display_name": "Python 3 (ipykernel)",
   "language": "python",
   "name": "python3"
  },
  "language_info": {
   "codemirror_mode": {
    "name": "ipython",
    "version": 3
   },
   "file_extension": ".py",
   "mimetype": "text/x-python",
   "name": "python",
   "nbconvert_exporter": "python",
   "pygments_lexer": "ipython3",
   "version": "3.10.8"
  }
 },
 "nbformat": 4,
 "nbformat_minor": 5
}
