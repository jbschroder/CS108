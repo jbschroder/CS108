{
 "cells": [
  {
   "cell_type": "markdown",
   "id": "7017bd98",
   "metadata": {
    "slideshow": {
     "slide_type": "slide"
    }
   },
   "source": [
    "## Lecture 01 : Printing\n",
    "\n",
    "### Learning Goals \n",
    "1. Understand the print() command\n",
    "    - Print text to the screen\n",
    "    - Print numbers to the screen\n",
    "    - Print simple calcuations to the screen\n",
    "2. Understand the implicit print() command in the last line of a notebook cell\n",
    "    - Print text and numbers without the print() command\n",
    "    - Output before the last line will not print"
   ]
  },
  {
   "cell_type": "markdown",
   "id": "ec68c6a5",
   "metadata": {
    "slideshow": {
     "slide_type": "slide"
    }
   },
   "source": [
    "### Using the print() command\n",
    "1. Print the text `Hello World` to the screen"
   ]
  },
  {
   "cell_type": "code",
   "execution_count": 20,
   "id": "bd29da3a",
   "metadata": {
    "scrolled": true,
    "slideshow": {
     "slide_type": "-"
    }
   },
   "outputs": [
    {
     "name": "stdout",
     "output_type": "stream",
     "text": [
      "Hello World\n"
     ]
    }
   ],
   "source": [
    "print(\"Hello World\")"
   ]
  },
  {
   "cell_type": "markdown",
   "id": "a6ed98c7",
   "metadata": {
    "slideshow": {
     "slide_type": "slide"
    }
   },
   "source": [
    "### Using the print() command\n",
    "2. Print the number `5` to the screen"
   ]
  },
  {
   "cell_type": "code",
   "execution_count": 21,
   "id": "e1039f38",
   "metadata": {
    "slideshow": {
     "slide_type": "-"
    }
   },
   "outputs": [
    {
     "name": "stdout",
     "output_type": "stream",
     "text": [
      "5\n"
     ]
    }
   ],
   "source": [
    "print(5)"
   ]
  },
  {
   "cell_type": "markdown",
   "id": "fac4cbe7",
   "metadata": {
    "slideshow": {
     "slide_type": "fragment"
    }
   },
   "source": [
    "3. Print the sum of `5+4` to the screen"
   ]
  },
  {
   "cell_type": "code",
   "execution_count": 22,
   "id": "26158bb2",
   "metadata": {
    "slideshow": {
     "slide_type": "-"
    }
   },
   "outputs": [
    {
     "name": "stdout",
     "output_type": "stream",
     "text": [
      "9\n"
     ]
    }
   ],
   "source": [
    "print(5 + 4)"
   ]
  },
  {
   "cell_type": "markdown",
   "id": "df14862d",
   "metadata": {
    "slideshow": {
     "slide_type": "slide"
    }
   },
   "source": [
    "### Implicitly printing the last line of a cell\n",
    "1. Calculations will print without the print() command"
   ]
  },
  {
   "cell_type": "code",
   "execution_count": 23,
   "id": "f061e6b0",
   "metadata": {
    "slideshow": {
     "slide_type": "-"
    }
   },
   "outputs": [
    {
     "data": {
      "text/plain": [
       "9"
      ]
     },
     "execution_count": 23,
     "metadata": {},
     "output_type": "execute_result"
    }
   ],
   "source": [
    "5 + 4"
   ]
  },
  {
   "cell_type": "markdown",
   "id": "74eac381",
   "metadata": {
    "slideshow": {
     "slide_type": "fragment"
    }
   },
   "source": [
    "2. However, only the last line in the cell will be output"
   ]
  },
  {
   "cell_type": "code",
   "execution_count": 24,
   "id": "db9fe341",
   "metadata": {
    "slideshow": {
     "slide_type": "-"
    }
   },
   "outputs": [
    {
     "data": {
      "text/plain": [
       "5"
      ]
     },
     "execution_count": 24,
     "metadata": {},
     "output_type": "execute_result"
    }
   ],
   "source": [
    "5 + 4\n",
    "3 + 2"
   ]
  },
  {
   "cell_type": "markdown",
   "id": "e1092a55",
   "metadata": {
    "slideshow": {
     "slide_type": "slide"
    }
   },
   "source": [
    "3. You can split your calculations across multiple cells so that each is output"
   ]
  },
  {
   "cell_type": "code",
   "execution_count": 25,
   "id": "f646b251",
   "metadata": {
    "slideshow": {
     "slide_type": "-"
    }
   },
   "outputs": [
    {
     "data": {
      "text/plain": [
       "9"
      ]
     },
     "execution_count": 25,
     "metadata": {},
     "output_type": "execute_result"
    }
   ],
   "source": [
    "5 + 4"
   ]
  },
  {
   "cell_type": "code",
   "execution_count": 26,
   "id": "23b74f62",
   "metadata": {},
   "outputs": [
    {
     "data": {
      "text/plain": [
       "5"
      ]
     },
     "execution_count": 26,
     "metadata": {},
     "output_type": "execute_result"
    }
   ],
   "source": [
    "3 + 2"
   ]
  },
  {
   "cell_type": "markdown",
   "id": "b78a15c6",
   "metadata": {
    "slideshow": {
     "slide_type": "slide"
    }
   },
   "source": [
    "4. Or, you can combine the implicit print with the explicit print() command"
   ]
  },
  {
   "cell_type": "code",
   "execution_count": 27,
   "id": "da0eaff4",
   "metadata": {
    "slideshow": {
     "slide_type": "-"
    }
   },
   "outputs": [
    {
     "name": "stdout",
     "output_type": "stream",
     "text": [
      "9\n"
     ]
    },
    {
     "data": {
      "text/plain": [
       "5"
      ]
     },
     "execution_count": 27,
     "metadata": {},
     "output_type": "execute_result"
    }
   ],
   "source": [
    "print(5 + 4)\n",
    "3 + 2"
   ]
  }
 ],
 "metadata": {
  "celltoolbar": "Slideshow",
  "kernelspec": {
   "display_name": "Python 3 (ipykernel)",
   "language": "python",
   "name": "python3"
  },
  "language_info": {
   "codemirror_mode": {
    "name": "ipython",
    "version": 3
   },
   "file_extension": ".py",
   "mimetype": "text/x-python",
   "name": "python",
   "nbconvert_exporter": "python",
   "pygments_lexer": "ipython3",
   "version": "3.11.4"
  }
 },
 "nbformat": 4,
 "nbformat_minor": 5
}
