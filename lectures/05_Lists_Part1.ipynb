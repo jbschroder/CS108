{
 "cells": [
  {
   "cell_type": "markdown",
   "id": "61b74318",
   "metadata": {
    "slideshow": {
     "slide_type": "slide"
    }
   },
   "source": [
    "## Lecture 05.1 : Lists Part 1\n",
    "\n",
    "### Learning Goals \n",
    "1. Lists are a special type of variable, which hold multiple things\n",
    "2. Lists can have duplicate items\n",
    "3. Lists can contain any type of variable"
   ]
  },
  {
   "cell_type": "markdown",
   "id": "c8ed064c",
   "metadata": {
    "slideshow": {
     "slide_type": "slide"
    }
   },
   "source": [
    "### Remember, a variable can hold a single item, such as a number or a string\n",
    "1. Three different variables each hold a string\n",
    "    - `first_fruit` holds the string \"apple\"\n",
    "    - `second_fruit` holds the string \"banana\"\n",
    "    - `third_fruit` holds the string \"grape\"\n",
    "2. Each variable can be printed separately, with the print() command"
   ]
  },
  {
   "cell_type": "code",
   "execution_count": 1,
   "id": "fcbcabd1",
   "metadata": {
    "slideshow": {
     "slide_type": "-"
    }
   },
   "outputs": [
    {
     "name": "stdout",
     "output_type": "stream",
     "text": [
      "apple\n",
      "banana\n",
      "grape\n"
     ]
    }
   ],
   "source": [
    "first_fruit = \"apple\"\n",
    "second_fruit = \"banana\"\n",
    "third_fruit = \"grape\"\n",
    "print(first_fruit)\n",
    "print(second_fruit)\n",
    "print(third_fruit)"
   ]
  },
  {
   "cell_type": "markdown",
   "id": "fd9005ee",
   "metadata": {},
   "source": [
    "### A list is a special type of variable, which can hold multiple items\n",
    "1. The list `fruit` holds all three strings: \"apple\", \"banana\", and \"grape\"\n",
    "2. The entire list can be printed with a single print() command"
   ]
  },
  {
   "cell_type": "code",
   "execution_count": 2,
   "id": "9435911c",
   "metadata": {},
   "outputs": [
    {
     "name": "stdout",
     "output_type": "stream",
     "text": [
      "['apple', 'banana', 'grape']\n"
     ]
    }
   ],
   "source": [
    "fruit = [\"apple\", \"banana\", \"grape\"]\n",
    "print(fruit)"
   ]
  },
  {
   "cell_type": "markdown",
   "id": "d6c2932c",
   "metadata": {
    "slideshow": {
     "slide_type": "slide"
    }
   },
   "source": [
    "### A list can have duplicate items\n",
    "1. The list fruit now contains a fourth item, \"apple\"\n",
    "2. The string \"apple\" shows up twice in this list\n",
    "3. `fruit[0]` and `fruit[3]` both return \"apple\""
   ]
  },
  {
   "cell_type": "code",
   "execution_count": 3,
   "id": "8ea44ace",
   "metadata": {
    "slideshow": {
     "slide_type": "subslide"
    }
   },
   "outputs": [
    {
     "name": "stdout",
     "output_type": "stream",
     "text": [
      "['apple', 'banana', 'grape', 'apple']\n"
     ]
    }
   ],
   "source": [
    "fruit = [\"apple\", \"banana\", \"grape\", \"apple\"]\n",
    "print(fruit)"
   ]
  },
  {
   "cell_type": "markdown",
   "id": "93aaa90f",
   "metadata": {},
   "source": [
    "### Lists can contain any type of variable\n",
    "1. A list can contain numbers, rather than strings"
   ]
  },
  {
   "cell_type": "code",
   "execution_count": 5,
   "id": "2d5261e9",
   "metadata": {},
   "outputs": [
    {
     "name": "stdout",
     "output_type": "stream",
     "text": [
      "[0, 1, 2, 3]\n"
     ]
    }
   ],
   "source": [
    "numbers = [0, 1, 2, 3]\n",
    "print(numbers)"
   ]
  },
  {
   "cell_type": "markdown",
   "id": "381ea099",
   "metadata": {},
   "source": [
    "2. A list can contain multiple variable types, such as both strings and numbers"
   ]
  },
  {
   "cell_type": "code",
   "execution_count": 6,
   "id": "4ec57adc",
   "metadata": {},
   "outputs": [
    {
     "name": "stdout",
     "output_type": "stream",
     "text": [
      "['apple', 1, 'banana', 3]\n"
     ]
    }
   ],
   "source": [
    "mixed_list = [\"apple\", 1, \"banana\", 3]\n",
    "print(mixed_list)"
   ]
  }
 ],
 "metadata": {
  "celltoolbar": "Slideshow",
  "kernelspec": {
   "display_name": "Python 3 (ipykernel)",
   "language": "python",
   "name": "python3"
  },
  "language_info": {
   "codemirror_mode": {
    "name": "ipython",
    "version": 3
   },
   "file_extension": ".py",
   "mimetype": "text/x-python",
   "name": "python",
   "nbconvert_exporter": "python",
   "pygments_lexer": "ipython3",
   "version": "3.11.4"
  }
 },
 "nbformat": 4,
 "nbformat_minor": 5
}
