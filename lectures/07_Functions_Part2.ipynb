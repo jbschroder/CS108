{
 "cells": [
  {
   "cell_type": "markdown",
   "id": "61b74318",
   "metadata": {
    "slideshow": {
     "slide_type": "slide"
    }
   },
   "source": [
    "## Lecture 07.2 : Functions Part 2\n",
    "\n",
    "### Learning Goals "
   ]
  },
  {
   "cell_type": "markdown",
   "id": "236484de",
   "metadata": {
    "slideshow": {
     "slide_type": "slide"
    }
   },
   "source": [
    "### Function Parameters\n",
    "1. A function can take a variable as a paramter"
   ]
  },
  {
   "cell_type": "code",
   "execution_count": 1,
   "id": "b9c9d81b",
   "metadata": {},
   "outputs": [],
   "source": [
    "def my_function(var):\n",
    "    print(var, \"from a function!\")"
   ]
  },
  {
   "cell_type": "markdown",
   "id": "f495f780",
   "metadata": {
    "slideshow": {
     "slide_type": "slide"
    }
   },
   "source": [
    "2. My function will now print whatever variable is passed as a parameter\n",
    "3. The variable can be a string, a number, a list, etc."
   ]
  },
  {
   "cell_type": "code",
   "execution_count": 2,
   "id": "f458c1c3",
   "metadata": {},
   "outputs": [
    {
     "name": "stdout",
     "output_type": "stream",
     "text": [
      "Hello world from a function!\n"
     ]
    }
   ],
   "source": [
    "my_function(\"Hello world\")"
   ]
  },
  {
   "cell_type": "code",
   "execution_count": 3,
   "id": "de235ecb",
   "metadata": {},
   "outputs": [
    {
     "name": "stdout",
     "output_type": "stream",
     "text": [
      "1234 from a function!\n"
     ]
    }
   ],
   "source": [
    "my_function(1234)"
   ]
  },
  {
   "cell_type": "code",
   "execution_count": 4,
   "id": "e35fa18a",
   "metadata": {},
   "outputs": [
    {
     "name": "stdout",
     "output_type": "stream",
     "text": [
      "['apple', 'banana', 'carrot'] from a function!\n"
     ]
    }
   ],
   "source": [
    "my_function([\"apple\", \"banana\", \"carrot\"])"
   ]
  },
  {
   "cell_type": "markdown",
   "id": "9a47e2a4",
   "metadata": {
    "slideshow": {
     "slide_type": "slide"
    }
   },
   "source": [
    "### Multiple Parameters\n",
    "1. A function can take multiple variables as parameters"
   ]
  },
  {
   "cell_type": "code",
   "execution_count": 5,
   "id": "24de08a5",
   "metadata": {},
   "outputs": [],
   "source": [
    "def my_function(var0, var1, var2):\n",
    "    print(var0, var1, var2, \"from a function!\")"
   ]
  },
  {
   "cell_type": "code",
   "execution_count": 6,
   "id": "cf63b13b",
   "metadata": {},
   "outputs": [
    {
     "name": "stdout",
     "output_type": "stream",
     "text": [
      "hello world 1234 ['a', 'b', 'c'] from a function!\n"
     ]
    }
   ],
   "source": [
    "my_function(\"hello world\", 1234, [\"a\", \"b\", \"c\"])"
   ]
  },
  {
   "cell_type": "markdown",
   "id": "e5c38491",
   "metadata": {
    "slideshow": {
     "slide_type": "slide"
    }
   },
   "source": [
    "2. A function can take **any number of variables** as parameters\n",
    "    - If you do not know how many arguments will be passed to your function, add a `*` in front of your variable"
   ]
  },
  {
   "cell_type": "code",
   "execution_count": 7,
   "id": "54898518",
   "metadata": {},
   "outputs": [],
   "source": [
    "def my_function(*vars):\n",
    "    for var in vars:\n",
    "        print(var)"
   ]
  },
  {
   "cell_type": "code",
   "execution_count": 8,
   "id": "43c03d44",
   "metadata": {
    "scrolled": true,
    "slideshow": {
     "slide_type": "skip"
    }
   },
   "outputs": [
    {
     "name": "stdout",
     "output_type": "stream",
     "text": [
      "hello world\n"
     ]
    }
   ],
   "source": [
    "my_function(\"hello world\")"
   ]
  },
  {
   "cell_type": "code",
   "execution_count": 9,
   "id": "f3b89254",
   "metadata": {},
   "outputs": [
    {
     "name": "stdout",
     "output_type": "stream",
     "text": [
      "hello\n",
      "world\n",
      "from\n",
      "5\n",
      "parameters\n"
     ]
    }
   ],
   "source": [
    "my_function(\"hello\", \"world\", \"from\", 5, \"parameters\")"
   ]
  },
  {
   "cell_type": "markdown",
   "id": "e5ffa719",
   "metadata": {},
   "source": [
    "### Default Parameters\n",
    "1. A function can set a default value for any or all parameters"
   ]
  },
  {
   "cell_type": "code",
   "execution_count": 10,
   "id": "9c5bee6f",
   "metadata": {},
   "outputs": [],
   "source": [
    "def my_function(var = \"hello world\"):\n",
    "    print(var)"
   ]
  },
  {
   "cell_type": "code",
   "execution_count": 11,
   "id": "cc9efc80",
   "metadata": {},
   "outputs": [
    {
     "name": "stdout",
     "output_type": "stream",
     "text": [
      "hello world\n"
     ]
    }
   ],
   "source": [
    "my_function()"
   ]
  },
  {
   "cell_type": "code",
   "execution_count": 12,
   "id": "6d804be6",
   "metadata": {},
   "outputs": [
    {
     "name": "stdout",
     "output_type": "stream",
     "text": [
      "abc\n"
     ]
    }
   ],
   "source": [
    "my_function(var = \"abc\")"
   ]
  }
 ],
 "metadata": {
  "celltoolbar": "Slideshow",
  "kernelspec": {
   "display_name": "Python 3 (ipykernel)",
   "language": "python",
   "name": "python3"
  },
  "language_info": {
   "codemirror_mode": {
    "name": "ipython",
    "version": 3
   },
   "file_extension": ".py",
   "mimetype": "text/x-python",
   "name": "python",
   "nbconvert_exporter": "python",
   "pygments_lexer": "ipython3",
   "version": "3.11.4"
  }
 },
 "nbformat": 4,
 "nbformat_minor": 5
}
