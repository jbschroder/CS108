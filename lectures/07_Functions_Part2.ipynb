{
 "cells": [
  {
   "cell_type": "markdown",
   "id": "0762399a",
   "metadata": {
    "slideshow": {
     "slide_type": "slide"
    }
   },
   "source": [
    "## Lecture 07.2 : Functions Part 2\n",
    "\n",
    "### Learning Goals \n",
    "\n",
    "1. Definitions (Review)\n",
    "   - Function: a function is a sequence of code that carries out a particular goal or task\n",
    "   - In other words, a function is some lines of code, packaged together, where all that code carries out a particular task\n",
    "       - This package can be used again and again to carry out the particular task\n",
    "     \n",
    "   - Defining a function: In Python we use `def function_name():` to define or declare a new function. \n",
    "       - The code cell with the `def` makes the function available (defines the function)\n",
    "       \n",
    "   - Calling a function: After defining the function, calling the function actually executes the code. The function can be called (or used) as many times as you want.\n",
    "   "
   ]
  },
  {
   "cell_type": "markdown",
   "id": "b32b1846",
   "metadata": {
    "slideshow": {
     "slide_type": "slide"
    }
   },
   "source": [
    "### Learning Goals\n",
    "\n",
    "2. Review \n",
    "    - How to create a function with `def function_name():`\n",
    "    - All indented code following `def function_name():` is included inside function\n",
    "    - Running the cell with the `def function_name():` statement declares, but does not execute, the function\n",
    "    - To execute or run the function, you then have to type `function_name()`\n",
    "    "
   ]
  },
  {
   "cell_type": "markdown",
   "id": "246415c6",
   "metadata": {
    "slideshow": {
     "slide_type": "slide"
    }
   },
   "source": [
    "### Learning Goals\n",
    "3. New Material\n",
    "    - Functions can take parameters\n",
    "    - You've seen parameters before (like the pond_location)\n",
    "    - Parameters let you tell the function information\n",
    "    - That information often directs the function to do something specific, like draw a pond or print a particular message"
   ]
  },
  {
   "cell_type": "markdown",
   "id": "236484de",
   "metadata": {
    "slideshow": {
     "slide_type": "slide"
    }
   },
   "source": [
    "### Function Parameters\n",
    "1. A function can take a variable as a parameter"
   ]
  },
  {
   "cell_type": "code",
   "execution_count": 8,
   "id": "b9c9d81b",
   "metadata": {
    "slideshow": {
     "slide_type": "-"
    }
   },
   "outputs": [],
   "source": [
    "def my_function(var):\n",
    "    print(var, \"from a function!\")"
   ]
  },
  {
   "cell_type": "markdown",
   "id": "9df33197",
   "metadata": {
    "slideshow": {
     "slide_type": "-"
    }
   },
   "source": [
    "2. My function will now print whatever variable is passed as a parameter\n",
    "3. The variable can be a string, a number, a list, etc."
   ]
  },
  {
   "cell_type": "markdown",
   "id": "f495f780",
   "metadata": {
    "slideshow": {
     "slide_type": "slide"
    }
   },
   "source": [
    "#### Observe how we can tell `my_function` to print \"Hellow new world\"\n",
    "- In the below three examples, we have experiment with three different parameters, \"Hello new world\", a number, and a list\n"
   ]
  },
  {
   "cell_type": "code",
   "execution_count": 9,
   "id": "f458c1c3",
   "metadata": {
    "slideshow": {
     "slide_type": "-"
    }
   },
   "outputs": [
    {
     "name": "stdout",
     "output_type": "stream",
     "text": [
      "Hello new world from a function!\n"
     ]
    }
   ],
   "source": [
    "my_function(\"Hello new world\")"
   ]
  },
  {
   "cell_type": "code",
   "execution_count": 10,
   "id": "de235ecb",
   "metadata": {
    "slideshow": {
     "slide_type": "-"
    }
   },
   "outputs": [
    {
     "name": "stdout",
     "output_type": "stream",
     "text": [
      "1234 from a function!\n"
     ]
    }
   ],
   "source": [
    "my_function(1234)"
   ]
  },
  {
   "cell_type": "code",
   "execution_count": 11,
   "id": "e35fa18a",
   "metadata": {
    "slideshow": {
     "slide_type": "-"
    }
   },
   "outputs": [
    {
     "name": "stdout",
     "output_type": "stream",
     "text": [
      "['apple', 'banana', 'carrot'] from a function!\n"
     ]
    }
   ],
   "source": [
    "my_function([\"apple\", \"banana\", \"carrot\"])"
   ]
  },
  {
   "cell_type": "markdown",
   "id": "9a47e2a4",
   "metadata": {
    "slideshow": {
     "slide_type": "slide"
    }
   },
   "source": [
    "### Multiple Parameters\n",
    "1. A function can take multiple variables as parameters\n",
    "2. Here, we take three variables `var0`, `var1`, `var2` and print them all to the screen"
   ]
  },
  {
   "cell_type": "code",
   "execution_count": 14,
   "id": "24de08a5",
   "metadata": {
    "slideshow": {
     "slide_type": "-"
    }
   },
   "outputs": [],
   "source": [
    "def my_function(var0, var1, var2):\n",
    "    print(var0, var1, var2, \"from a function!\")"
   ]
  },
  {
   "cell_type": "code",
   "execution_count": 15,
   "id": "cf63b13b",
   "metadata": {
    "slideshow": {
     "slide_type": "-"
    }
   },
   "outputs": [
    {
     "name": "stdout",
     "output_type": "stream",
     "text": [
      "hello world 1234 ['a', 'b', 'c'] from a function!\n"
     ]
    }
   ],
   "source": [
    "my_function(\"hello world\", 1234, [\"a\", \"b\", \"c\"])"
   ]
  },
  {
   "cell_type": "markdown",
   "id": "e5c38491",
   "metadata": {
    "slideshow": {
     "slide_type": "skip"
    }
   },
   "source": [
    "2. A function can take **any number of variables** as parameters\n",
    "    - If you do not know how many arguments will be passed to your function, add a `*` in front of your variable"
   ]
  },
  {
   "cell_type": "code",
   "execution_count": 7,
   "id": "54898518",
   "metadata": {
    "slideshow": {
     "slide_type": "skip"
    }
   },
   "outputs": [],
   "source": [
    "def my_function(*vars):\n",
    "    for var in vars:\n",
    "        print(var)"
   ]
  },
  {
   "cell_type": "code",
   "execution_count": 8,
   "id": "43c03d44",
   "metadata": {
    "scrolled": true,
    "slideshow": {
     "slide_type": "skip"
    }
   },
   "outputs": [
    {
     "name": "stdout",
     "output_type": "stream",
     "text": [
      "hello world\n"
     ]
    }
   ],
   "source": [
    "my_function(\"hello world\")"
   ]
  },
  {
   "cell_type": "code",
   "execution_count": 9,
   "id": "f3b89254",
   "metadata": {
    "slideshow": {
     "slide_type": "skip"
    }
   },
   "outputs": [
    {
     "name": "stdout",
     "output_type": "stream",
     "text": [
      "hello\n",
      "world\n",
      "from\n",
      "5\n",
      "parameters\n"
     ]
    }
   ],
   "source": [
    "my_function(\"hello\", \"world\", \"from\", 5, \"parameters\")"
   ]
  },
  {
   "cell_type": "markdown",
   "id": "e5ffa719",
   "metadata": {
    "slideshow": {
     "slide_type": "slide"
    }
   },
   "source": [
    "### Default Parameters\n",
    "1. A function can set a default value for any or all parameters\n",
    "2. This default value is used, but only if `var` is not specified when the function is executed (or run)"
   ]
  },
  {
   "cell_type": "code",
   "execution_count": 16,
   "id": "9c5bee6f",
   "metadata": {
    "slideshow": {
     "slide_type": "-"
    }
   },
   "outputs": [],
   "source": [
    "def my_function(var = \"hello world\"):\n",
    "    print(var)"
   ]
  },
  {
   "cell_type": "code",
   "execution_count": 17,
   "id": "cc9efc80",
   "metadata": {
    "slideshow": {
     "slide_type": "-"
    }
   },
   "outputs": [
    {
     "name": "stdout",
     "output_type": "stream",
     "text": [
      "hello world\n"
     ]
    }
   ],
   "source": [
    "my_function()"
   ]
  },
  {
   "cell_type": "code",
   "execution_count": 18,
   "id": "6d804be6",
   "metadata": {
    "slideshow": {
     "slide_type": "-"
    }
   },
   "outputs": [
    {
     "name": "stdout",
     "output_type": "stream",
     "text": [
      "abc\n"
     ]
    }
   ],
   "source": [
    "my_function(var = \"abc\")"
   ]
  }
 ],
 "metadata": {
  "celltoolbar": "Slideshow",
  "kernelspec": {
   "display_name": "Python 3 (ipykernel)",
   "language": "python",
   "name": "python3"
  },
  "language_info": {
   "codemirror_mode": {
    "name": "ipython",
    "version": 3
   },
   "file_extension": ".py",
   "mimetype": "text/x-python",
   "name": "python",
   "nbconvert_exporter": "python",
   "pygments_lexer": "ipython3",
   "version": "3.10.8"
  }
 },
 "nbformat": 4,
 "nbformat_minor": 5
}
