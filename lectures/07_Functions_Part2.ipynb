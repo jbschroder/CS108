{
 "cells": [
  {
   "cell_type": "markdown",
   "id": "0e029da7",
   "metadata": {
    "slideshow": {
     "slide_type": "slide"
    }
   },
   "source": [
    "## Lecture 07.2 : Functions Part 2\n",
    "\n",
    "### Learning Goals \n",
    "\n",
    "1. Definitions (Review)\n",
    "   - Function: a function is a sequence of code that carries out a particular goal or task\n",
    "   - In other words, a function is some lines of code, packaged together, where all that code carries out a particular task\n",
    "       - This package can be used again and again to carry out the particular task\n",
    "     \n",
    "   - Defining a function: In Python we use `def function_name():` to define or declare a new function. \n",
    "       - The code cell with the `def` makes the function available (defines the function)\n",
    "       \n",
    "   - Calling a function: After defining the function, calling the function actually executes the code. \n",
    "       - The function can be called (or used) as many times as you want.\n",
    "   "
   ]
  },
  {
   "cell_type": "markdown",
   "id": "e482e5f0",
   "metadata": {
    "slideshow": {
     "slide_type": "slide"
    }
   },
   "source": [
    "### Learning Goals\n",
    "\n",
    "2. Review \n",
    "    - How to create a function with `def function_name():`\n",
    "    - All indented code following `def function_name():` is included inside function\n",
    "    - Running the cell with the `def function_name():` statement declares, but does not execute, the function\n",
    "    - To execute (or run or call) the function, you have to type `function_name()`\n",
    "    "
   ]
  },
  {
   "cell_type": "markdown",
   "id": "b538937c",
   "metadata": {
    "slideshow": {
     "slide_type": "slide"
    }
   },
   "source": [
    "### Learning Goals\n",
    "3. New Material\n",
    "    - Functions can take parameters\n",
    "    - You've seen parameters before (like the `pond_location`)\n",
    "    - Parameters let you tell the function information\n",
    "    - That information often directs the function to do something specific, like draw a pond or print a particular message"
   ]
  },
  {
   "cell_type": "markdown",
   "id": "236484de",
   "metadata": {
    "slideshow": {
     "slide_type": "slide"
    }
   },
   "source": [
    "### Function Parameters\n",
    "1. A function can take a variable as a parameter"
   ]
  },
  {
   "cell_type": "code",
   "execution_count": null,
   "id": "b9c9d81b",
   "metadata": {
    "slideshow": {
     "slide_type": "-"
    }
   },
   "outputs": [],
   "source": [
    "def my_function(var):\n",
    "    print(var, \"from a function!\")"
   ]
  },
  {
   "cell_type": "markdown",
   "id": "ae900cf9",
   "metadata": {
    "slideshow": {
     "slide_type": "-"
    }
   },
   "source": [
    "2. My function will now print whatever variable is passed as a parameter\n",
    "3. The variable can be a string, a number, a list, etc."
   ]
  },
  {
   "cell_type": "markdown",
   "id": "f495f780",
   "metadata": {
    "slideshow": {
     "slide_type": "slide"
    }
   },
   "source": [
    "#### Observe how we can tell `my_function` to print \"Hellow new world\"\n",
    "- In the below three examples, we have experiment with three different parameters, \"Hello new world\", a number, and a list\n"
   ]
  },
  {
   "cell_type": "code",
   "execution_count": null,
   "id": "f458c1c3",
   "metadata": {
    "slideshow": {
     "slide_type": "-"
    }
   },
   "outputs": [],
   "source": [
    "my_function(\"Hello new world\")"
   ]
  },
  {
   "cell_type": "code",
   "execution_count": null,
   "id": "de235ecb",
   "metadata": {
    "slideshow": {
     "slide_type": "-"
    }
   },
   "outputs": [],
   "source": [
    "my_function(1234)"
   ]
  },
  {
   "cell_type": "code",
   "execution_count": null,
   "id": "e35fa18a",
   "metadata": {
    "slideshow": {
     "slide_type": "-"
    }
   },
   "outputs": [],
   "source": [
    "my_function([\"apple\", \"banana\", \"carrot\"])"
   ]
  },
  {
   "cell_type": "markdown",
   "id": "9a47e2a4",
   "metadata": {
    "slideshow": {
     "slide_type": "slide"
    }
   },
   "source": [
    "### Multiple Parameters\n",
    "1. A function can take multiple variables as parameters\n",
    "2. Here, we take three variables `var0`, `var1`, `var2` and print them all to the screen"
   ]
  },
  {
   "cell_type": "code",
   "execution_count": null,
   "id": "24de08a5",
   "metadata": {
    "slideshow": {
     "slide_type": "-"
    }
   },
   "outputs": [],
   "source": [
    "def my_function(var0, var1, var2):\n",
    "    print(var0, var1, var2, \"from a function!\")"
   ]
  },
  {
   "cell_type": "code",
   "execution_count": null,
   "id": "cf63b13b",
   "metadata": {
    "slideshow": {
     "slide_type": "-"
    }
   },
   "outputs": [],
   "source": [
    "my_function(\"hello world\", 1234, [\"a\", \"b\", \"c\"])"
   ]
  },
  {
   "cell_type": "markdown",
   "id": "e5c38491",
   "metadata": {
    "slideshow": {
     "slide_type": "skip"
    }
   },
   "source": [
    "2. A function can take **any number of variables** as parameters\n",
    "    - If you do not know how many arguments will be passed to your function, add a `*` in front of your variable"
   ]
  },
  {
   "cell_type": "code",
   "execution_count": null,
   "id": "54898518",
   "metadata": {
    "slideshow": {
     "slide_type": "skip"
    }
   },
   "outputs": [],
   "source": [
    "def my_function(*vars):\n",
    "    for var in vars:\n",
    "        print(var)"
   ]
  },
  {
   "cell_type": "code",
   "execution_count": null,
   "id": "43c03d44",
   "metadata": {
    "scrolled": true,
    "slideshow": {
     "slide_type": "skip"
    }
   },
   "outputs": [],
   "source": [
    "my_function(\"hello world\")"
   ]
  },
  {
   "cell_type": "code",
   "execution_count": null,
   "id": "f3b89254",
   "metadata": {
    "slideshow": {
     "slide_type": "skip"
    }
   },
   "outputs": [],
   "source": [
    "my_function(\"hello\", \"world\", \"from\", 5, \"parameters\")"
   ]
  },
  {
   "cell_type": "markdown",
   "id": "e5ffa719",
   "metadata": {
    "slideshow": {
     "slide_type": "slide"
    }
   },
   "source": [
    "### Default Parameters\n",
    "1. A function can set a default value for any or all parameters\n",
    "2. This default value is used, but only if `var` is not specified when the function is executed (or run)"
   ]
  },
  {
   "cell_type": "code",
   "execution_count": null,
   "id": "9c5bee6f",
   "metadata": {
    "slideshow": {
     "slide_type": "-"
    }
   },
   "outputs": [],
   "source": [
    "def my_function(var = \"hello world\"):\n",
    "    print(var)"
   ]
  },
  {
   "cell_type": "code",
   "execution_count": null,
   "id": "cc9efc80",
   "metadata": {
    "slideshow": {
     "slide_type": "-"
    }
   },
   "outputs": [],
   "source": [
    "my_function()"
   ]
  },
  {
   "cell_type": "code",
   "execution_count": null,
   "id": "6d804be6",
   "metadata": {
    "slideshow": {
     "slide_type": "-"
    }
   },
   "outputs": [],
   "source": [
    "# This will overwrite the default\n",
    "my_function(var = \"abc\")"
   ]
  }
 ],
 "metadata": {
  "celltoolbar": "Slideshow",
  "kernelspec": {
   "display_name": "Python 3 (ipykernel)",
   "language": "python",
   "name": "python3"
  },
  "language_info": {
   "codemirror_mode": {
    "name": "ipython",
    "version": 3
   },
   "file_extension": ".py",
   "mimetype": "text/x-python",
   "name": "python",
   "nbconvert_exporter": "python",
   "pygments_lexer": "ipython3",
   "version": "3.10.8"
  }
 },
 "nbformat": 4,
 "nbformat_minor": 5
}
