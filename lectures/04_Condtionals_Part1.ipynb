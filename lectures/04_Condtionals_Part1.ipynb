{
 "cells": [
  {
   "cell_type": "markdown",
   "id": "61b74318",
   "metadata": {
    "slideshow": {
     "slide_type": "slide"
    }
   },
   "source": [
    "## Lecture 04.1 : Conditionals Part 1\n",
    "\n",
    "### Learning Goals \n",
    "1. Numbers and variables can be compared with conditionals\n",
    "    - Less than `<`\n",
    "    - Greater than `>`\n",
    "    - Less than or equal to `<=`\n",
    "    - Greater than or equal to `>=`\n",
    "2. Conditionals can be used to check equivalency\n",
    "    - The equal sign `=` **does not compare**, but instead sets a variable\n",
    "    - To check if two variables are equal, the conditional is `==`\n",
    "    - Not equal `!=`"
   ]
  },
  {
   "cell_type": "markdown",
   "id": "c8ed064c",
   "metadata": {
    "slideshow": {
     "slide_type": "slide"
    }
   },
   "source": [
    "### Combining two conditionals\n",
    "1. The conditional `>=` can be used to determine if one variable is greater than or equal to another\n",
    "    - If a variable `number` is set to `5`, the statement `if (number >= 0)` would be true.\n",
    "    - If a variable `number` is set to `0`, the statement `if (number >= 0)` would still be true as `0` is greater than or equal to `0`."
   ]
  },
  {
   "cell_type": "code",
   "execution_count": 1,
   "id": "fcbcabd1",
   "metadata": {
    "slideshow": {
     "slide_type": "-"
    }
   },
   "outputs": [
    {
     "name": "stdout",
     "output_type": "stream",
     "text": [
      "This number is non-negative\n"
     ]
    }
   ],
   "source": [
    "number = 5\n",
    "if (number >= 0):\n",
    "    print(\"This number is non-negative\")"
   ]
  },
  {
   "cell_type": "code",
   "execution_count": 2,
   "id": "419a7039",
   "metadata": {},
   "outputs": [
    {
     "name": "stdout",
     "output_type": "stream",
     "text": [
      "This number is non-negative\n"
     ]
    }
   ],
   "source": [
    "number = 0\n",
    "if (number >= 0):\n",
    "    print(\"This number is non-negative\")"
   ]
  },
  {
   "cell_type": "markdown",
   "id": "6b1ab3a4",
   "metadata": {
    "slideshow": {
     "slide_type": "subslide"
    }
   },
   "source": [
    "2. The conditional `<=` can be used to determine if one variable is less than or equal to another\n",
    "    - If a variable `x` is set to `5` and `y` is set to `3`, the statement `if (y <= x)` would be true.\n",
    "    - If a variable `y` is instead set to `5`, the statement `if (y <= x)` would still be true as `5` is less than or equal to `5`."
   ]
  },
  {
   "cell_type": "code",
   "execution_count": 3,
   "id": "611c3632",
   "metadata": {
    "scrolled": true
   },
   "outputs": [
    {
     "name": "stdout",
     "output_type": "stream",
     "text": [
      "The value in `y` is less than or equal to the value in `x`\n"
     ]
    }
   ],
   "source": [
    "x = 5\n",
    "y = 3\n",
    "if (y <= x):\n",
    "    print(\"The value in `y` is less than or equal to the value in `x`\")"
   ]
  },
  {
   "cell_type": "code",
   "execution_count": 4,
   "id": "4f46733d",
   "metadata": {
    "scrolled": true
   },
   "outputs": [
    {
     "name": "stdout",
     "output_type": "stream",
     "text": [
      "The value in `y` is less than or equal to the value in `x`\n"
     ]
    }
   ],
   "source": [
    "x = 5\n",
    "y = 5\n",
    "if (y <= x):\n",
    "    print(\"The value in `y` is less than or equal to the value in `x`\")"
   ]
  },
  {
   "cell_type": "markdown",
   "id": "d6c2932c",
   "metadata": {
    "slideshow": {
     "slide_type": "slide"
    }
   },
   "source": [
    "### The equal conditional checks if two variables are equivalent\n",
    "1. The operator `=` is not a conditional, but instead sets one variable to another"
   ]
  },
  {
   "cell_type": "code",
   "execution_count": 5,
   "id": "8ea44ace",
   "metadata": {
    "slideshow": {
     "slide_type": "-"
    }
   },
   "outputs": [
    {
     "ename": "SyntaxError",
     "evalue": "invalid syntax. Maybe you meant '==' or ':=' instead of '='? (2169741134.py, line 2)",
     "output_type": "error",
     "traceback": [
      "\u001b[0;36m  Cell \u001b[0;32mIn[5], line 2\u001b[0;36m\u001b[0m\n\u001b[0;31m    if (number = 0):\u001b[0m\n\u001b[0m        ^\u001b[0m\n\u001b[0;31mSyntaxError\u001b[0m\u001b[0;31m:\u001b[0m invalid syntax. Maybe you meant '==' or ':=' instead of '='?\n"
     ]
    }
   ],
   "source": [
    "number = 0\n",
    "if (number = 0):\n",
    "    print(\"The value of number is zero\")"
   ]
  },
  {
   "cell_type": "markdown",
   "id": "a6be1638",
   "metadata": {
    "slideshow": {
     "slide_type": "fragment"
    }
   },
   "source": [
    "2. The equivalency conditional is two equal signs `==`"
   ]
  },
  {
   "cell_type": "code",
   "execution_count": 6,
   "id": "4bd9a1d6",
   "metadata": {
    "slideshow": {
     "slide_type": "-"
    }
   },
   "outputs": [
    {
     "name": "stdout",
     "output_type": "stream",
     "text": [
      "The value of number is zero\n"
     ]
    }
   ],
   "source": [
    "number = 0\n",
    "if (number == 0):\n",
    "    print(\"The value of number is zero\")"
   ]
  },
  {
   "cell_type": "markdown",
   "id": "2ed92e79",
   "metadata": {
    "slideshow": {
     "slide_type": "slide"
    }
   },
   "source": [
    "### Inequality checks if two variables are **not** equivalent\n",
    "1. The conditional '!=' checks that two variables are not equal"
   ]
  },
  {
   "cell_type": "code",
   "execution_count": 24,
   "id": "bd689c28",
   "metadata": {
    "slideshow": {
     "slide_type": "-"
    }
   },
   "outputs": [
    {
     "name": "stdout",
     "output_type": "stream",
     "text": [
      "This number is not 0\n"
     ]
    }
   ],
   "source": [
    "number = 5\n",
    "if (number != 0):\n",
    "    print(\"This number is not 0\")"
   ]
  }
 ],
 "metadata": {
  "celltoolbar": "Slideshow",
  "kernelspec": {
   "display_name": "Python 3 (ipykernel)",
   "language": "python",
   "name": "python3"
  },
  "language_info": {
   "codemirror_mode": {
    "name": "ipython",
    "version": 3
   },
   "file_extension": ".py",
   "mimetype": "text/x-python",
   "name": "python",
   "nbconvert_exporter": "python",
   "pygments_lexer": "ipython3",
   "version": "3.10.8"
  }
 },
 "nbformat": 4,
 "nbformat_minor": 5
}
