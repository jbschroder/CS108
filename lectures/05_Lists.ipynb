{
 "cells": [
  {
   "cell_type": "markdown",
   "id": "61b74318",
   "metadata": {
    "slideshow": {
     "slide_type": "slide"
    }
   },
   "source": [
    "## Lecture 05 : Lists\n",
    "\n",
    "### Learning Goals \n",
    "1. Lists are a special type of variable, which hold multiple things\n",
    "2. Lists can be indexed into\n",
    "    - `variable[0]` returns the first item in a list named `variable`\n",
    "3. Lists can be appended\n",
    "    - `variable.append(new_item)` adds `new_item` to the end of the list named `variable`"
   ]
  },
  {
   "cell_type": "markdown",
   "id": "c8ed064c",
   "metadata": {
    "slideshow": {
     "slide_type": "slide"
    }
   },
   "source": [
    "### Remember, a variable can hold a single item, such as a number or a string\n",
    "1. Three different variables each hold a string\n",
    "    - `first_fruit` holds the string \"apple\"\n",
    "    - `second_fruit` holds the string \"banana\"\n",
    "    - `third_fruit` holds the string \"grape\"\n",
    "2. Each variable can be printed separately, with the print() command"
   ]
  },
  {
   "cell_type": "code",
   "execution_count": 1,
   "id": "fcbcabd1",
   "metadata": {
    "slideshow": {
     "slide_type": "-"
    }
   },
   "outputs": [
    {
     "name": "stdout",
     "output_type": "stream",
     "text": [
      "apple\n",
      "banana\n",
      "grape\n"
     ]
    }
   ],
   "source": [
    "first_fruit = \"apple\"\n",
    "second_fruit = \"banana\"\n",
    "third_fruit = \"grape\"\n",
    "print(first_fruit)\n",
    "print(second_fruit)\n",
    "print(third_fruit)"
   ]
  },
  {
   "cell_type": "markdown",
   "id": "fd9005ee",
   "metadata": {},
   "source": [
    "### A list is a special type of variable, which can hold multiple items\n",
    "1. The list `fruit` holds all three strings: \"apple\", \"banana\", and \"grape\"\n",
    "2. The entire list can be printed with a single print() command"
   ]
  },
  {
   "cell_type": "code",
   "execution_count": 1,
   "id": "9435911c",
   "metadata": {},
   "outputs": [
    {
     "name": "stdout",
     "output_type": "stream",
     "text": [
      "['apple', 'banana', 'grape']\n"
     ]
    }
   ],
   "source": [
    "fruit = [\"apple\", \"banana\", \"grape\"]\n",
    "print(fruit)"
   ]
  },
  {
   "cell_type": "markdown",
   "id": "47a14098",
   "metadata": {},
   "source": [
    "### A list can be indexed into\n",
    "1. Lists begin at index 0\n",
    "2. A single item can be grabbed from a list with the associated index\n",
    "    - `fruit[0]` returns the first fruit in the list, \"apple\"\n",
    "    - `fruit[1]` returns the next fruit in the list, \"banana\"\n",
    "    - `fruit[2]` returns the third fruit in the list, \"grape\""
   ]
  },
  {
   "cell_type": "code",
   "execution_count": 5,
   "id": "cbd7585a",
   "metadata": {},
   "outputs": [
    {
     "name": "stdout",
     "output_type": "stream",
     "text": [
      "apple\n"
     ]
    }
   ],
   "source": [
    "fruit = [\"apple\", \"banana\", \"grape\"]\n",
    "print(fruit[0])"
   ]
  },
  {
   "cell_type": "markdown",
   "id": "d6c2932c",
   "metadata": {
    "slideshow": {
     "slide_type": "slide"
    }
   },
   "source": [
    "### A list can have duplicate items\n",
    "1. The list fruit now contains a fourth item, \"apple\"\n",
    "2. The string \"apple\" shows up twice in this list\n",
    "3. `fruit[0]` and `fruit[3]` both return \"apple\""
   ]
  },
  {
   "cell_type": "code",
   "execution_count": 2,
   "id": "8ea44ace",
   "metadata": {
    "slideshow": {
     "slide_type": "subslide"
    }
   },
   "outputs": [
    {
     "name": "stdout",
     "output_type": "stream",
     "text": [
      "['apple', 'banana', 'grape', 'apple']\n"
     ]
    }
   ],
   "source": [
    "fruit = [\"apple\", \"banana\", \"grape\", \"apple\"]\n",
    "print(fruit)"
   ]
  },
  {
   "cell_type": "markdown",
   "id": "2ed92e79",
   "metadata": {
    "slideshow": {
     "slide_type": "slide"
    }
   },
   "source": [
    "### Items can be dynamically added to a list with the `append` command\n",
    "1. The list `fruit` initially contains \"apple\", \"banana\", and \"grape\"\n",
    "2. A new item \"strawberry\" is added to the end of the list `fruit` with the command `fruit.append(\"strawberry\")`"
   ]
  },
  {
   "cell_type": "code",
   "execution_count": 4,
   "id": "bd689c28",
   "metadata": {
    "slideshow": {
     "slide_type": "subslide"
    }
   },
   "outputs": [
    {
     "name": "stdout",
     "output_type": "stream",
     "text": [
      "['apple', 'banana', 'grape', 'strawberry']\n"
     ]
    }
   ],
   "source": [
    "fruit = [\"apple\", \"banana\", \"grape\"]\n",
    "fruit.append(\"strawberry\")\n",
    "print(fruit)"
   ]
  },
  {
   "cell_type": "markdown",
   "id": "16f18d34",
   "metadata": {
    "slideshow": {
     "slide_type": "slide"
    }
   },
   "source": [
    "### There are additional methods for indexing into a list\n",
    "1. The index `-1` returns the last item in a list\n",
    "2. Multiple indices can be used to grab a range of items\n",
    "    - `fruit[0:2]` returns all items in fruit beginning at index `0` up until, but not including, index `2`"
   ]
  },
  {
   "cell_type": "code",
   "execution_count": 5,
   "id": "47cb8c20",
   "metadata": {
    "slideshow": {
     "slide_type": "subslide"
    }
   },
   "outputs": [
    {
     "name": "stdout",
     "output_type": "stream",
     "text": [
      "grape\n"
     ]
    }
   ],
   "source": [
    "fruit = [\"apple\", \"banana\", \"grape\"]\n",
    "print(fruit[-1])"
   ]
  },
  {
   "cell_type": "code",
   "execution_count": 7,
   "id": "2e0efb51",
   "metadata": {},
   "outputs": [
    {
     "name": "stdout",
     "output_type": "stream",
     "text": [
      "['apple', 'banana']\n"
     ]
    }
   ],
   "source": [
    "fruit = [\"apple\", \"banana\", \"grape\"]\n",
    "print(fruit[0:2])"
   ]
  },
  {
   "cell_type": "markdown",
   "id": "93aaa90f",
   "metadata": {},
   "source": [
    "### Lists can contain any type of variable\n",
    "1. A list can contain numbers, rather than strings"
   ]
  },
  {
   "cell_type": "code",
   "execution_count": 8,
   "id": "2d5261e9",
   "metadata": {},
   "outputs": [
    {
     "name": "stdout",
     "output_type": "stream",
     "text": [
      "[0, 1, 2, 3]\n"
     ]
    }
   ],
   "source": [
    "numbers = [0, 1, 2, 3]\n",
    "print(numbers)"
   ]
  },
  {
   "cell_type": "markdown",
   "id": "381ea099",
   "metadata": {},
   "source": [
    "2. A list can contain multiple variable types, such as both strings and numbers"
   ]
  },
  {
   "cell_type": "code",
   "execution_count": 10,
   "id": "4ec57adc",
   "metadata": {},
   "outputs": [
    {
     "name": "stdout",
     "output_type": "stream",
     "text": [
      "['apple', 1, 'banana', 3]\n"
     ]
    }
   ],
   "source": [
    "mixed_list = [\"apple\", 1, \"banana\", 3]\n",
    "print(mixed_list)"
   ]
  }
 ],
 "metadata": {
  "celltoolbar": "Slideshow",
  "kernelspec": {
   "display_name": "Python 3 (ipykernel)",
   "language": "python",
   "name": "python3"
  },
  "language_info": {
   "codemirror_mode": {
    "name": "ipython",
    "version": 3
   },
   "file_extension": ".py",
   "mimetype": "text/x-python",
   "name": "python",
   "nbconvert_exporter": "python",
   "pygments_lexer": "ipython3",
   "version": "3.11.4"
  }
 },
 "nbformat": 4,
 "nbformat_minor": 5
}
