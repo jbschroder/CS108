{
 "cells": [
  {
   "cell_type": "markdown",
   "id": "61b74318",
   "metadata": {
    "slideshow": {
     "slide_type": "slide"
    }
   },
   "source": [
    "## Lecture 11 : Class Inheritance\n",
    "\n",
    "### Learning Goals "
   ]
  },
  {
   "cell_type": "markdown",
   "id": "c8ed064c",
   "metadata": {
    "slideshow": {
     "slide_type": "slide"
    }
   },
   "source": [
    "### Inheritance of Parent Class"
   ]
  },
  {
   "cell_type": "code",
   "execution_count": 6,
   "id": "780611a6",
   "metadata": {},
   "outputs": [],
   "source": [
    "import nbimporter\n",
    "from ParentNotebook import ParentClass"
   ]
  },
  {
   "cell_type": "code",
   "execution_count": 7,
   "id": "8ca96f51",
   "metadata": {},
   "outputs": [],
   "source": [
    "class Child(ParentClass):\n",
    "    def __init__(self, parent_first, parent_last, child_first):\n",
    "        super().__init__(parent_first, parent_last)\n",
    "        self.child_name = child_first\n",
    "    def print_name(self):\n",
    "        super().print_name()\n",
    "        print(\"Child's name is %s %s\"%(self.child_name, self.last_name))"
   ]
  },
  {
   "cell_type": "code",
   "execution_count": 8,
   "id": "bf081f41",
   "metadata": {},
   "outputs": [],
   "source": [
    "kid = Child(\"J\", \"Smith\", \"K\")"
   ]
  },
  {
   "cell_type": "code",
   "execution_count": 9,
   "id": "b7241d07",
   "metadata": {},
   "outputs": [
    {
     "name": "stdout",
     "output_type": "stream",
     "text": [
      "Parent's name is J Smith\n",
      "Child's name is K Smith\n"
     ]
    }
   ],
   "source": [
    "kid.print_name()"
   ]
  },
  {
   "cell_type": "code",
   "execution_count": null,
   "id": "93e1b97e",
   "metadata": {},
   "outputs": [],
   "source": []
  }
 ],
 "metadata": {
  "celltoolbar": "Slideshow",
  "kernelspec": {
   "display_name": "Python 3 (ipykernel)",
   "language": "python",
   "name": "python3"
  },
  "language_info": {
   "codemirror_mode": {
    "name": "ipython",
    "version": 3
   },
   "file_extension": ".py",
   "mimetype": "text/x-python",
   "name": "python",
   "nbconvert_exporter": "python",
   "pygments_lexer": "ipython3",
   "version": "3.11.4"
  }
 },
 "nbformat": 4,
 "nbformat_minor": 5
}
