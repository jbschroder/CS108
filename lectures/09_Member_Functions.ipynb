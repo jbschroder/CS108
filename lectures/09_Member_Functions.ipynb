{
 "cells": [
  {
   "cell_type": "markdown",
   "id": "61b74318",
   "metadata": {
    "slideshow": {
     "slide_type": "slide"
    }
   },
   "source": [
    "## Lecture 09 : Member Functions of a Class\n",
    "\n",
    "### Learning Goals \n",
    "\n",
    "1. Definitions (Review)\n",
    "\n",
    "   - Class (less formal): Is a collection of related information and related functions.  The information can be numbers, words, lists and really anything.  The functions are typically related around a concept\n",
    "       - For example, the turtle that we've been using is a Class\n",
    "       - The turtle class contains a collection of functions like `move_left()`,  `move_right()`, `start_new_journey()` and `watch_me_move()`\n",
    "       - The turtle class also contains data, like the list of movements `[(0,0), (0,1), (0,2)]`\n",
    "  \n",
    "   - Class (more formal definition): is a code template for creating objects and providing initial (default) values for member variables and default member function"
   ]
  },
  {
   "cell_type": "markdown",
   "id": "1611c594",
   "metadata": {},
   "source": [
    "### Learning Goals \n",
    "\n",
    "1. Definitions (Review)\n",
    "\n",
    "   - Object:  An object is an instance of a class.  \n",
    "       - The class is an abstract definition of the collection of information and functions.  \n",
    "       - But an object is an instantiation, realization, embodiment of the class \n",
    "   \n",
    "   - For example, you could create multiple turtles each navigating their own maze \n",
    "   \n",
    "           turtle1 = turtle_generator( maze_number=1 )\n",
    "           turtle2 = turtle_generator( maze_number=2 )\n",
    "     \n",
    "   - Both `turtle1` and `turtle2` are instances of the class `turtle_generator`\n",
    "\n",
    "2. Definition (Review): When using classes and objects, you are doing \"object oriented programming\""
   ]
  },
  {
   "cell_type": "markdown",
   "id": "a91f9176",
   "metadata": {},
   "source": [
    "### Learning Goals \n",
    "\n",
    "### What's inside a Class\n",
    "1. Classes can contain both variables and also functions\n",
    "2. These are called member variables and member functions"
   ]
  },
  {
   "cell_type": "markdown",
   "id": "e6511dc7",
   "metadata": {},
   "source": [
    "### Example: The class `MyObject` now contains a variable `value` and also a function `display`\n",
    "\n",
    "   - The `display` function takes a parameter `self`, which refers to the current object\n",
    "   - The `self` parameter is a little confusing, but every member function has `self` as the first parameter\n",
    "   - For example, if you typed only `print(value)`, which `value` would this refer to?  By typing `self.value`, Python knows that you mean the `value` inside `MyObject`"
   ]
  },
  {
   "cell_type": "code",
   "execution_count": 1,
   "id": "0e8ef9c6",
   "metadata": {},
   "outputs": [],
   "source": [
    "class MyObject():\n",
    "    value = 5\n",
    "    def display(self):\n",
    "        print(self.value)"
   ]
  },
  {
   "cell_type": "markdown",
   "id": "caeabac6",
   "metadata": {},
   "source": [
    "### Example continued\n",
    "\n",
    "   - An object `obj` of type `MyObject` is created\n",
    "   - The `obj` object is displayed with `obj.display`"
   ]
  },
  {
   "cell_type": "code",
   "execution_count": 2,
   "id": "3750450f",
   "metadata": {},
   "outputs": [
    {
     "name": "stdout",
     "output_type": "stream",
     "text": [
      "5\n"
     ]
    }
   ],
   "source": [
    "obj = MyObject()\n",
    "obj.display()"
   ]
  },
  {
   "cell_type": "markdown",
   "id": "690ed02a",
   "metadata": {},
   "source": [
    "### Class Init Function\n",
    "1. When you create an object from a class, you can use a special function called `__init__`\n",
    "2. The `__init__` function defines how each object is created based on the class\n",
    "    - This function is called whenever a new instance of the class is created\n",
    "    - For more complicated objects, the `__init__` function lets you create more complicated objects"
   ]
  },
  {
   "cell_type": "code",
   "execution_count": 3,
   "id": "f733d899",
   "metadata": {},
   "outputs": [],
   "source": [
    "class MyObject():\n",
    "    value = 5\n",
    "    \n",
    "    def __init__(self, init_value):\n",
    "        self.value = init_value\n",
    "        \n",
    "    def display(self):\n",
    "        print(self.value)"
   ]
  },
  {
   "cell_type": "markdown",
   "id": "4c18a7d3",
   "metadata": {},
   "source": [
    "3. When an object `obj` of type `MyObject` is now created, a new value is passed to the `__init__` method.  This overwrites the inital value within the variable."
   ]
  },
  {
   "cell_type": "code",
   "execution_count": 4,
   "id": "cfb94268",
   "metadata": {},
   "outputs": [
    {
     "name": "stdout",
     "output_type": "stream",
     "text": [
      "2\n"
     ]
    }
   ],
   "source": [
    "obj = MyObject(2)\n",
    "obj.display()"
   ]
  }
 ],
 "metadata": {
  "celltoolbar": "Slideshow",
  "kernelspec": {
   "display_name": "Python 3 (ipykernel)",
   "language": "python",
   "name": "python3"
  },
  "language_info": {
   "codemirror_mode": {
    "name": "ipython",
    "version": 3
   },
   "file_extension": ".py",
   "mimetype": "text/x-python",
   "name": "python",
   "nbconvert_exporter": "python",
   "pygments_lexer": "ipython3",
   "version": "3.10.8"
  }
 },
 "nbformat": 4,
 "nbformat_minor": 5
}
