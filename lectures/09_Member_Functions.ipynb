{
 "cells": [
  {
   "cell_type": "markdown",
   "id": "61b74318",
   "metadata": {
    "slideshow": {
     "slide_type": "slide"
    }
   },
   "source": [
    "## Lecture 09 : Member Functions\n",
    "\n",
    "### Learning Goals "
   ]
  },
  {
   "cell_type": "markdown",
   "id": "e6511dc7",
   "metadata": {},
   "source": [
    "### Function within Class\n",
    "1. Classes can contain both variables and also member functions\n",
    "2. The class `MyObject` now contains a variable `value` and also a function `display`\n",
    "3. The `display` function takes a parameter `self`, which refers to the object of type `MyObject` in which `display` is to be executed"
   ]
  },
  {
   "cell_type": "code",
   "execution_count": 4,
   "id": "0e8ef9c6",
   "metadata": {},
   "outputs": [],
   "source": [
    "class MyObject():\n",
    "    value = 5\n",
    "    def display(self):\n",
    "        print(self.value)"
   ]
  },
  {
   "cell_type": "markdown",
   "id": "caeabac6",
   "metadata": {},
   "source": [
    "4. An object `obj` of type `MyObject` is created\n",
    "5. The `obj` object is displayed with `obj.display`"
   ]
  },
  {
   "cell_type": "code",
   "execution_count": 5,
   "id": "3750450f",
   "metadata": {},
   "outputs": [
    {
     "name": "stdout",
     "output_type": "stream",
     "text": [
      "5\n"
     ]
    }
   ],
   "source": [
    "obj = MyObject()\n",
    "obj.display()"
   ]
  },
  {
   "cell_type": "markdown",
   "id": "690ed02a",
   "metadata": {},
   "source": [
    "### Class Init Function\n",
    "1. A class can be initialized with the `__init__` function\n",
    "2. This function is called whenever a new instance of the class is created"
   ]
  },
  {
   "cell_type": "code",
   "execution_count": 6,
   "id": "f733d899",
   "metadata": {},
   "outputs": [],
   "source": [
    "class MyObject():\n",
    "    value = 5\n",
    "    def __init__(self, init_value):\n",
    "        self.value = init_value\n",
    "    def display(self):\n",
    "        print(self.value)"
   ]
  },
  {
   "cell_type": "markdown",
   "id": "4c18a7d3",
   "metadata": {},
   "source": [
    "3. When an object `obj` of type `MyObject` is now created, a new value is passed to the `__init__` method.  This overwrites the inital value within the variable."
   ]
  },
  {
   "cell_type": "code",
   "execution_count": 7,
   "id": "cfb94268",
   "metadata": {},
   "outputs": [
    {
     "name": "stdout",
     "output_type": "stream",
     "text": [
      "2\n"
     ]
    }
   ],
   "source": [
    "obj = MyObject(2)\n",
    "obj.display()"
   ]
  }
 ],
 "metadata": {
  "celltoolbar": "Slideshow",
  "kernelspec": {
   "display_name": "Python 3 (ipykernel)",
   "language": "python",
   "name": "python3"
  },
  "language_info": {
   "codemirror_mode": {
    "name": "ipython",
    "version": 3
   },
   "file_extension": ".py",
   "mimetype": "text/x-python",
   "name": "python",
   "nbconvert_exporter": "python",
   "pygments_lexer": "ipython3",
   "version": "3.10.8"
  }
 },
 "nbformat": 4,
 "nbformat_minor": 5
}
