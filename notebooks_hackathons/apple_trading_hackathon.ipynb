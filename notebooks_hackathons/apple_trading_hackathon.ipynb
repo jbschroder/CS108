{
 "cells": [
  {
   "cell_type": "markdown",
   "id": "15d761f2",
   "metadata": {},
   "source": [
    "## Hackathon Agent Based Modeling: Apple Trading Hackathon\n",
    "\n",
    "This hackathon is open to anyone, any major. In this hackathon, you will be experimenting with a fun turtle environment -- navigating mazes, drawing designs, and if you want, hacking the internals to create new mazes or change the animal to something else.  You'll be using Python and Google CoLab and practicing strong programming fundamentals here (loops, lists, if/else statements, and functions).  In terms of assumed knowledge, as long as you know some basic Python, you should be able to participate. We will provide instructions to set up Google Colab, but if you want, you can do that ahead of time.\n",
    "\n",
    "This material is based in part on https://mesa.readthedocs.io/en/stable/tutorials/intro_tutorial.html\n",
    "And on https://cs4all.cs.unm.edu/cs108.html"
   ]
  },
  {
   "cell_type": "markdown",
   "id": "1f7ac351",
   "metadata": {},
   "source": [
    "### The first task is to set up Google CoLab (if you haven't already)\n",
    "1. Create a Google account (if you don't already have one)\n",
    "2. Go into Google Drive\n",
    "3. On the right side of Google Drive, click the plus sign, to install add ons\n",
    "   - Search for Colaboratory, and install it\n",
    "   - If you've already installed Colaboratory (or Colab for short) skip this step\n",
    "4. Upload this file into Google Drive, and double click on it!\n",
    "   - First you need to download this file to your laptop/desktop\n",
    "   - So, go to this web address and click the download button (downward arrow)\n",
    "   \n",
    "     https://tinyurl.com/yc6mnhwe\n",
    "     \n",
    "     \n",
    "If the tinyurl shortener doesn't work, you can also use this address  \n",
    "\n",
    "https://github.com/jbschroder/CS108/blob/main/notebooks10_hackathons/apple_trading_hackathon.ipynb"
   ]
  },
  {
   "cell_type": "markdown",
   "id": "75cae58c",
   "metadata": {},
   "source": [
    "### Next, if you've never used notebooks before, don't worry!  They are very simple.\n",
    "- There are text cells (like this one).  Text cells let you add commentary\n",
    "- And, there are code cells where you put Python code\n",
    "   - To run a code cell, hover your mouse over that cell, and just click the little triangle \"play\" or \"execute\" button \n",
    "   - Run the two cells below\n",
    "\n",
    "Note: You create new cells by clicking on the `+ Code` and `+ Text` buttons in Colab"
   ]
  },
  {
   "cell_type": "code",
   "execution_count": 3,
   "id": "7e69675e",
   "metadata": {},
   "outputs": [],
   "source": [
    "# Define some_list\n",
    "some_list = ['apples', 'oranges']"
   ]
  },
  {
   "cell_type": "code",
   "execution_count": 4,
   "id": "cc0a247a",
   "metadata": {},
   "outputs": [
    {
     "name": "stdout",
     "output_type": "stream",
     "text": [
      "apples\n",
      "oranges\n"
     ]
    }
   ],
   "source": [
    "# 1. Run the above cell in order to create some_list\n",
    "#    Python will remember some_list, and now we can print it to the screen\n",
    "# 2. Next, run this cell\n",
    "print(some_list[0])\n",
    "print(some_list[1])"
   ]
  },
  {
   "cell_type": "markdown",
   "id": "226dd554",
   "metadata": {
    "slideshow": {
     "slide_type": "slide"
    }
   },
   "source": [
    "### Next, we briefly discuss Agent Based Modeling, which is what we use for this hackathon.  \n",
    "\n",
    "### Agent Based Modeling (ABM)\n",
    "\n",
    "- Tool for studying complex adaptive systems\n",
    "- Example: termites model\n",
    "    - The model consists of agents, an environment, and interactions between agents and environment\n",
    "    - The system is adaptive and changes over tiem\n",
    "    - ABM generates emergent patterns\n",
    "<img src=\"https://raw.githubusercontent.com/jbschroder/CS108/main/lecture_images/termites_netlogo.png\" width=\"250\">\n"
   ]
  },
  {
   "cell_type": "markdown",
   "id": "5989bd14",
   "metadata": {
    "slideshow": {
     "slide_type": "slide"
    }
   },
   "source": [
    "### Agent based modeling (ABM) modeling phases\n",
    "- Setup: instantion (creation) of world\n",
    "    - Describe the world you will be modeling and the rules that describe it\n",
    "- Runtime loop: the agents put into motion.  Each iteration: \n",
    "    - Each agent changes it's state (say, gets more apples, or a tree catches on fire)\n",
    "    - Any needed changes to world also occur, like a resource is consumed or added to    \n",
    "- Exit\n",
    "\n",
    "### Visualize ABM like this\n",
    "<img src=\"https://raw.githubusercontent.com/jbschroder/CS108/main/lecture_images/agent_based_modeling.png\" width=\"300\">"
   ]
  },
  {
   "cell_type": "markdown",
   "id": "f131cbfb",
   "metadata": {},
   "source": [
    "### There are three main abstractions\n",
    "1. Agents with rules\n",
    "2. There is an environment or model within which the agents live\n",
    "    - This would be a grid for apple trading, where traders walk around\n",
    "    - This would be a forest grid for the forest fire model\n",
    "3. Time: time is dictated (controlled) by a the runtime loop.\n",
    "    - Each loop iteration is one tick or one step of abstracted time\n",
    "    - You could think of a step as lasting one second, one hour, one day, ..., whatever makes sense for your simulation\n",
    "\n",
    "<img src=\"https://raw.githubusercontent.com/jbschroder/CS108/main/lecture_images/agent_based_modeling.png\" width=\"300\">"
   ]
  },
  {
   "cell_type": "markdown",
   "id": "399d46ef",
   "metadata": {
    "slideshow": {
     "slide_type": "slide"
    }
   },
   "source": [
    "### ABM Summary\n",
    "\n",
    "1. ABM uses three main abstractions\n",
    "    - Agents with rules\n",
    "    - Environment or model within which the agents live\n",
    "        - This would be a grid for apple trading, where traders walk around\n",
    "    - Time: time is dictated (controlled) by a the runtime loop.\n",
    "        - Each loop iteration is one tick or one step of abstracted time\n",
    "    "
   ]
  },
  {
   "cell_type": "markdown",
   "id": "633c92e3",
   "metadata": {
    "slideshow": {
     "slide_type": "fragment"
    }
   },
   "source": [
    "2. ABM model is a representation of the interaction of real-world objects in a complex system\n",
    "    - The goal is to gain an understanding of how the model's results relate to real-world phenomena\n",
    "    - Random factors built into the model and variables changed by the user (you) cause different results to be generated each time a model is run\n",
    "        - When you run a model many times, each time you get a different outcome\n",
    "    - We are constructing a model, not a replica    "
   ]
  },
  {
   "cell_type": "markdown",
   "id": "3a164328",
   "metadata": {
    "slideshow": {
     "slide_type": "slide"
    }
   },
   "source": [
    "### For agent based modeling (ABM), we will be using Mesa\n",
    "\n",
    "https://github.com/projectmesa/mesa\n",
    "\n",
    "### First, you have to make sure that Mesa is installed\n",
    "- Run the below cell"
   ]
  },
  {
   "cell_type": "code",
   "execution_count": 5,
   "id": "eabcaf53",
   "metadata": {
    "slideshow": {
     "slide_type": "fragment"
    }
   },
   "outputs": [
    {
     "name": "stdout",
     "output_type": "stream",
     "text": [
      "Requirement already satisfied: mesa==2.1.1 in /opt/homebrew/lib/python3.10/site-packages (2.1.1)\n",
      "Requirement already satisfied: click in /opt/homebrew/lib/python3.10/site-packages (from mesa==2.1.1) (8.1.7)\n",
      "Requirement already satisfied: cookiecutter in /opt/homebrew/lib/python3.10/site-packages (from mesa==2.1.1) (2.3.0)\n",
      "Requirement already satisfied: networkx in /opt/homebrew/lib/python3.10/site-packages (from mesa==2.1.1) (3.1)\n",
      "Requirement already satisfied: numpy in /opt/homebrew/lib/python3.10/site-packages (from mesa==2.1.1) (1.23.4)\n",
      "Requirement already satisfied: pandas in /opt/homebrew/lib/python3.10/site-packages (from mesa==2.1.1) (2.0.3)\n",
      "Requirement already satisfied: solara in /opt/homebrew/lib/python3.10/site-packages (from mesa==2.1.1) (1.19.0)\n",
      "Requirement already satisfied: tornado in /opt/homebrew/lib/python3.10/site-packages (from mesa==2.1.1) (6.2)\n",
      "Requirement already satisfied: tqdm in /opt/homebrew/lib/python3.10/site-packages (from mesa==2.1.1) (4.64.1)\n",
      "Requirement already satisfied: binaryornot>=0.4.4 in /opt/homebrew/lib/python3.10/site-packages (from cookiecutter->mesa==2.1.1) (0.4.4)\n",
      "Requirement already satisfied: Jinja2<4.0.0,>=2.7 in /opt/homebrew/lib/python3.10/site-packages (from cookiecutter->mesa==2.1.1) (3.1.2)\n",
      "Requirement already satisfied: pyyaml>=5.3.1 in /opt/homebrew/lib/python3.10/site-packages (from cookiecutter->mesa==2.1.1) (6.0)\n",
      "Requirement already satisfied: python-slugify>=4.0.0 in /opt/homebrew/lib/python3.10/site-packages (from cookiecutter->mesa==2.1.1) (8.0.1)\n",
      "Requirement already satisfied: requests>=2.23.0 in /opt/homebrew/lib/python3.10/site-packages (from cookiecutter->mesa==2.1.1) (2.28.1)\n",
      "Requirement already satisfied: arrow in /opt/homebrew/lib/python3.10/site-packages (from cookiecutter->mesa==2.1.1) (1.2.3)\n",
      "Requirement already satisfied: rich in /opt/homebrew/lib/python3.10/site-packages (from cookiecutter->mesa==2.1.1) (13.5.2)\n",
      "Requirement already satisfied: python-dateutil>=2.8.2 in /opt/homebrew/lib/python3.10/site-packages (from pandas->mesa==2.1.1) (2.8.2)\n",
      "Requirement already satisfied: pytz>=2020.1 in /opt/homebrew/lib/python3.10/site-packages (from pandas->mesa==2.1.1) (2023.3)\n",
      "Requirement already satisfied: tzdata>=2022.1 in /opt/homebrew/lib/python3.10/site-packages (from pandas->mesa==2.1.1) (2023.3)\n",
      "Requirement already satisfied: cachetools in /opt/homebrew/lib/python3.10/site-packages (from solara->mesa==2.1.1) (5.3.1)\n",
      "Requirement already satisfied: filelock in /opt/homebrew/lib/python3.10/site-packages (from solara->mesa==2.1.1) (3.8.2)\n",
      "Requirement already satisfied: humanize in /opt/homebrew/lib/python3.10/site-packages (from solara->mesa==2.1.1) (4.8.0)\n",
      "Requirement already satisfied: ipykernel in /opt/homebrew/lib/python3.10/site-packages (from solara->mesa==2.1.1) (6.19.0)\n",
      "Requirement already satisfied: ipyvue>=1.9.0 in /opt/homebrew/lib/python3.10/site-packages (from solara->mesa==2.1.1) (1.9.2)\n",
      "Requirement already satisfied: ipyvuetify>=1.8.10 in /opt/homebrew/lib/python3.10/site-packages (from solara->mesa==2.1.1) (1.8.10)\n",
      "Requirement already satisfied: ipywidgets in /opt/homebrew/lib/python3.10/site-packages (from solara->mesa==2.1.1) (8.0.3)\n",
      "Requirement already satisfied: jupyter-client>=7.0.0 in /opt/homebrew/lib/python3.10/site-packages (from solara->mesa==2.1.1) (7.4.8)\n",
      "Requirement already satisfied: markdown in /opt/homebrew/lib/python3.10/site-packages (from solara->mesa==2.1.1) (3.4.4)\n",
      "Requirement already satisfied: markupsafe in /opt/homebrew/lib/python3.10/site-packages (from solara->mesa==2.1.1) (2.1.1)\n",
      "Requirement already satisfied: nbformat in /opt/homebrew/lib/python3.10/site-packages (from solara->mesa==2.1.1) (5.7.0)\n",
      "Requirement already satisfied: pymdown-extensions in /opt/homebrew/lib/python3.10/site-packages (from solara->mesa==2.1.1) (10.1)\n",
      "Requirement already satisfied: reacton>=1.7.1 in /opt/homebrew/lib/python3.10/site-packages (from solara->mesa==2.1.1) (1.7.1)\n",
      "Requirement already satisfied: rich-click in /opt/homebrew/lib/python3.10/site-packages (from solara->mesa==2.1.1) (1.6.1)\n",
      "Requirement already satisfied: starlette in /opt/homebrew/lib/python3.10/site-packages (from solara->mesa==2.1.1) (0.31.0)\n",
      "Requirement already satisfied: uvicorn in /opt/homebrew/lib/python3.10/site-packages (from solara->mesa==2.1.1) (0.23.2)\n",
      "Requirement already satisfied: watchdog in /opt/homebrew/lib/python3.10/site-packages (from solara->mesa==2.1.1) (3.0.0)\n",
      "Requirement already satisfied: websockets in /opt/homebrew/lib/python3.10/site-packages (from solara->mesa==2.1.1) (11.0.3)\n",
      "Requirement already satisfied: chardet>=3.0.2 in /opt/homebrew/lib/python3.10/site-packages (from binaryornot>=0.4.4->cookiecutter->mesa==2.1.1) (5.2.0)\n",
      "Requirement already satisfied: ipython>=6.1.0 in /opt/homebrew/lib/python3.10/site-packages (from ipywidgets->solara->mesa==2.1.1) (8.7.0)\n",
      "Requirement already satisfied: traitlets>=4.3.1 in /opt/homebrew/lib/python3.10/site-packages (from ipywidgets->solara->mesa==2.1.1) (5.7.0)\n",
      "Requirement already satisfied: widgetsnbextension~=4.0 in /opt/homebrew/lib/python3.10/site-packages (from ipywidgets->solara->mesa==2.1.1) (4.0.4)\n",
      "Requirement already satisfied: jupyterlab-widgets~=3.0 in /opt/homebrew/lib/python3.10/site-packages (from ipywidgets->solara->mesa==2.1.1) (3.0.4)\n",
      "Requirement already satisfied: appnope in /opt/homebrew/lib/python3.10/site-packages (from ipykernel->solara->mesa==2.1.1) (0.1.3)\n",
      "Requirement already satisfied: comm>=0.1.1 in /opt/homebrew/lib/python3.10/site-packages (from ipykernel->solara->mesa==2.1.1) (0.1.1)\n",
      "Requirement already satisfied: debugpy>=1.0 in /opt/homebrew/lib/python3.10/site-packages (from ipykernel->solara->mesa==2.1.1) (1.6.4)\n",
      "Requirement already satisfied: matplotlib-inline>=0.1 in /opt/homebrew/lib/python3.10/site-packages (from ipykernel->solara->mesa==2.1.1) (0.1.6)\n",
      "Requirement already satisfied: nest-asyncio in /opt/homebrew/lib/python3.10/site-packages (from ipykernel->solara->mesa==2.1.1) (1.5.6)\n",
      "Requirement already satisfied: packaging in /opt/homebrew/lib/python3.10/site-packages (from ipykernel->solara->mesa==2.1.1) (21.3)\n",
      "Requirement already satisfied: psutil in /opt/homebrew/lib/python3.10/site-packages (from ipykernel->solara->mesa==2.1.1) (5.9.4)\n",
      "Requirement already satisfied: pyzmq>=17 in /opt/homebrew/lib/python3.10/site-packages (from ipykernel->solara->mesa==2.1.1) (24.0.1)\n",
      "Requirement already satisfied: entrypoints in /opt/homebrew/lib/python3.10/site-packages (from jupyter-client>=7.0.0->solara->mesa==2.1.1) (0.4)\n",
      "Requirement already satisfied: jupyter-core>=4.9.2 in /opt/homebrew/lib/python3.10/site-packages (from jupyter-client>=7.0.0->solara->mesa==2.1.1) (5.1.0)\n",
      "Requirement already satisfied: six>=1.5 in /opt/homebrew/lib/python3.10/site-packages (from python-dateutil>=2.8.2->pandas->mesa==2.1.1) (1.16.0)\n",
      "Requirement already satisfied: text-unidecode>=1.3 in /opt/homebrew/lib/python3.10/site-packages (from python-slugify>=4.0.0->cookiecutter->mesa==2.1.1) (1.3)\n",
      "Requirement already satisfied: typing-extensions>=4.1.1 in /opt/homebrew/lib/python3.10/site-packages (from reacton>=1.7.1->solara->mesa==2.1.1) (4.3.0)\n",
      "Requirement already satisfied: charset-normalizer<3,>=2 in /opt/homebrew/lib/python3.10/site-packages (from requests>=2.23.0->cookiecutter->mesa==2.1.1) (2.1.1)\n",
      "Requirement already satisfied: idna<4,>=2.5 in /opt/homebrew/lib/python3.10/site-packages (from requests>=2.23.0->cookiecutter->mesa==2.1.1) (3.4)\n",
      "Requirement already satisfied: urllib3<1.27,>=1.21.1 in /opt/homebrew/lib/python3.10/site-packages (from requests>=2.23.0->cookiecutter->mesa==2.1.1) (1.26.12)\n",
      "Requirement already satisfied: certifi>=2017.4.17 in /opt/homebrew/lib/python3.10/site-packages (from requests>=2.23.0->cookiecutter->mesa==2.1.1) (2022.9.14)\n",
      "Requirement already satisfied: fastjsonschema in /opt/homebrew/lib/python3.10/site-packages (from nbformat->solara->mesa==2.1.1) (2.16.2)\n",
      "Requirement already satisfied: jsonschema>=2.6 in /opt/homebrew/lib/python3.10/site-packages (from nbformat->solara->mesa==2.1.1) (4.17.3)\n",
      "Requirement already satisfied: markdown-it-py>=2.2.0 in /opt/homebrew/lib/python3.10/site-packages (from rich->cookiecutter->mesa==2.1.1) (3.0.0)\n",
      "Requirement already satisfied: pygments<3.0.0,>=2.13.0 in /opt/homebrew/lib/python3.10/site-packages (from rich->cookiecutter->mesa==2.1.1) (2.13.0)\n",
      "Requirement already satisfied: anyio<5,>=3.4.0 in /opt/homebrew/lib/python3.10/site-packages (from starlette->solara->mesa==2.1.1) (3.6.2)\n",
      "Requirement already satisfied: h11>=0.8 in /opt/homebrew/lib/python3.10/site-packages (from uvicorn->solara->mesa==2.1.1) (0.14.0)\n",
      "Requirement already satisfied: sniffio>=1.1 in /opt/homebrew/lib/python3.10/site-packages (from anyio<5,>=3.4.0->starlette->solara->mesa==2.1.1) (1.3.0)\n"
     ]
    },
    {
     "name": "stdout",
     "output_type": "stream",
     "text": [
      "Requirement already satisfied: backcall in /opt/homebrew/lib/python3.10/site-packages (from ipython>=6.1.0->ipywidgets->solara->mesa==2.1.1) (0.2.0)\n",
      "Requirement already satisfied: decorator in /opt/homebrew/lib/python3.10/site-packages (from ipython>=6.1.0->ipywidgets->solara->mesa==2.1.1) (4.4.2)\n",
      "Requirement already satisfied: jedi>=0.16 in /opt/homebrew/lib/python3.10/site-packages (from ipython>=6.1.0->ipywidgets->solara->mesa==2.1.1) (0.18.1)\n",
      "Requirement already satisfied: pickleshare in /opt/homebrew/lib/python3.10/site-packages (from ipython>=6.1.0->ipywidgets->solara->mesa==2.1.1) (0.7.5)\n",
      "Requirement already satisfied: prompt-toolkit<3.1.0,>=3.0.11 in /opt/homebrew/lib/python3.10/site-packages (from ipython>=6.1.0->ipywidgets->solara->mesa==2.1.1) (3.0.31)\n",
      "Requirement already satisfied: stack-data in /opt/homebrew/lib/python3.10/site-packages (from ipython>=6.1.0->ipywidgets->solara->mesa==2.1.1) (0.5.0)\n",
      "Requirement already satisfied: pexpect>4.3 in /opt/homebrew/lib/python3.10/site-packages (from ipython>=6.1.0->ipywidgets->solara->mesa==2.1.1) (4.8.0)\n",
      "Requirement already satisfied: attrs>=17.4.0 in /opt/homebrew/lib/python3.10/site-packages (from jsonschema>=2.6->nbformat->solara->mesa==2.1.1) (22.1.0)\n",
      "Requirement already satisfied: pyrsistent!=0.17.0,!=0.17.1,!=0.17.2,>=0.14.0 in /opt/homebrew/lib/python3.10/site-packages (from jsonschema>=2.6->nbformat->solara->mesa==2.1.1) (0.19.2)\n",
      "Requirement already satisfied: platformdirs>=2.5 in /opt/homebrew/lib/python3.10/site-packages (from jupyter-core>=4.9.2->jupyter-client>=7.0.0->solara->mesa==2.1.1) (2.5.4)\n",
      "Requirement already satisfied: mdurl~=0.1 in /opt/homebrew/lib/python3.10/site-packages (from markdown-it-py>=2.2.0->rich->cookiecutter->mesa==2.1.1) (0.1.2)\n",
      "Requirement already satisfied: pyparsing!=3.0.5,>=2.0.2 in /opt/homebrew/lib/python3.10/site-packages (from packaging->ipykernel->solara->mesa==2.1.1) (3.0.9)\n",
      "Requirement already satisfied: parso<0.9.0,>=0.8.0 in /opt/homebrew/lib/python3.10/site-packages (from jedi>=0.16->ipython>=6.1.0->ipywidgets->solara->mesa==2.1.1) (0.8.3)\n",
      "Requirement already satisfied: ptyprocess>=0.5 in /opt/homebrew/lib/python3.10/site-packages (from pexpect>4.3->ipython>=6.1.0->ipywidgets->solara->mesa==2.1.1) (0.7.0)\n",
      "Requirement already satisfied: wcwidth in /opt/homebrew/lib/python3.10/site-packages (from prompt-toolkit<3.1.0,>=3.0.11->ipython>=6.1.0->ipywidgets->solara->mesa==2.1.1) (0.2.5)\n",
      "Requirement already satisfied: executing in /opt/homebrew/lib/python3.10/site-packages (from stack-data->ipython>=6.1.0->ipywidgets->solara->mesa==2.1.1) (1.0.0)\n",
      "Requirement already satisfied: asttokens in /opt/homebrew/lib/python3.10/site-packages (from stack-data->ipython>=6.1.0->ipywidgets->solara->mesa==2.1.1) (2.0.8)\n",
      "Requirement already satisfied: pure-eval in /opt/homebrew/lib/python3.10/site-packages (from stack-data->ipython>=6.1.0->ipywidgets->solara->mesa==2.1.1) (0.2.2)\n",
      "\n",
      "\u001b[1m[\u001b[0m\u001b[34;49mnotice\u001b[0m\u001b[1;39;49m]\u001b[0m\u001b[39;49m A new release of pip is available: \u001b[0m\u001b[31;49m23.3.2\u001b[0m\u001b[39;49m -> \u001b[0m\u001b[32;49m24.0\u001b[0m\n",
      "\u001b[1m[\u001b[0m\u001b[34;49mnotice\u001b[0m\u001b[1;39;49m]\u001b[0m\u001b[39;49m To update, run: \u001b[0m\u001b[32;49mpython3.10 -m pip install --upgrade pip\u001b[0m\n"
     ]
    }
   ],
   "source": [
    "! pip install mesa==2.1.1"
   ]
  },
  {
   "cell_type": "markdown",
   "id": "5e5f3a4c",
   "metadata": {},
   "source": [
    "### Next, we import our modeling tools\n",
    "- Run the below cell\n",
    "- Note that Pandas and Seaborn or \"built-in\" packages, so we only have to import them, not install them"
   ]
  },
  {
   "cell_type": "code",
   "execution_count": 6,
   "id": "be65dace",
   "metadata": {
    "slideshow": {
     "slide_type": "slide"
    }
   },
   "outputs": [],
   "source": [
    "import mesa\n",
    "\n",
    "# Data visualization tools.\n",
    "import seaborn as sns\n",
    "\n",
    "# Data manipulation and analysis.\n",
    "import pandas as pd"
   ]
  },
  {
   "cell_type": "markdown",
   "id": "05527dc2",
   "metadata": {
    "slideshow": {
     "slide_type": "slide"
    }
   },
   "source": [
    "### Now, we can begin creating our apple trading agent based model (ABM)\n",
    "\n",
    "### First, we define the Agent object, called AppleTraderAgent\n",
    "- Notice how this object inherits from the class `mesa.Agent`\n",
    "- This inheritance allows Mesa to use our object\n",
    "    - For instance, the function call `super.__init__(unique_id, model)` instantiates (creates) all the stuff related to the parent class `mesa.Agent`\n",
    "\n",
    "    - This inheritance is a key point\n",
    "    \n",
    "- Each Step, \n",
    "    - If an agent has an apple\n",
    "    - Choose one agent at random and give them an apple\n",
    "    - Remember that the model step calls each agent step in random order\n",
    "\n",
    "- This is like all the agents are in a room, trading at random with each other\n"
   ]
  },
  {
   "cell_type": "code",
   "execution_count": 7,
   "id": "04ffbb85",
   "metadata": {
    "slideshow": {
     "slide_type": "slide"
    }
   },
   "outputs": [],
   "source": [
    "# Create ABM\n",
    "\n",
    "# 1. Define the Agent Abstraction\n",
    "class AppleTraderAgent(mesa.Agent):\n",
    "    \"\"\"An agent that trades apples and begins with 1 apple.\"\"\"\n",
    "\n",
    "    def __init__(self, unique_id, model):\n",
    "        # Pass the parameters to the parent class.\n",
    "        super().__init__(unique_id, model)\n",
    "\n",
    "        # Create the agent's number of apples and set initial value\n",
    "        self.NumberApples = 1\n",
    "\n",
    "    def step(self):\n",
    "        # Verify agent has some apples\n",
    "        if self.NumberApples > 0:\n",
    "            other_agent = self.random.choice(self.model.schedule.agents)\n",
    "            if other_agent is not None:\n",
    "                other_agent.NumberApples += 1\n",
    "                self.NumberApples -= 1\n",
    "                \n",
    "        print(\"Hi, I am an apple trading agent\", self.unique_id, \"and I have \", self.NumberApples, \"Apples\")\n",
    "            "
   ]
  },
  {
   "cell_type": "markdown",
   "id": "af990c53",
   "metadata": {
    "slideshow": {
     "slide_type": "slide"
    }
   },
   "source": [
    "### Next, we create our AppleTradingModel. \n",
    "\n",
    "### This defines two more of our key abstractions:\n",
    "1. This defines the environment where the agents (apple traders) exist\n",
    "2. This also defines how to take a step (tick) forward in time\n",
    "    - The `step` function describes how to step forward in the runtime loop\n",
    "\n",
    "### Similar to the agent, the AppleTradingModel inherits from `mesa.Model`\n",
    "- This inhertiance is key and allows Mesa to use our model\n",
    "- The `__init__` function describes how to create the environment and agents, using inheritance\n",
    "- The `step` function describes how to step forward in the runtime loop\n",
    "    - Each model step, in turn will call every Agent's step \n"
   ]
  },
  {
   "cell_type": "code",
   "execution_count": 8,
   "id": "e7c10a98",
   "metadata": {
    "slideshow": {
     "slide_type": "slide"
    }
   },
   "outputs": [],
   "source": [
    "# 2. Define the Model (or environment) Abstraction for the Agents to live in\n",
    "class AppleTradingModel(mesa.Model):\n",
    "    \"\"\"A model with some number of apple trading agents.\"\"\"\n",
    "\n",
    "    def __init__(self, N):\n",
    "        self.num_agents = N\n",
    "        # Create scheduler and assign it to the model\n",
    "        self.schedule = mesa.time.RandomActivation(self)\n",
    "\n",
    "        # Create agents\n",
    "        for i in range(self.num_agents):\n",
    "            a = AppleTraderAgent(i, self)\n",
    "            # Add the agent to the scheduler\n",
    "            self.schedule.add(a)\n",
    "\n",
    "    # 3. Define each step or time tick: \n",
    "    #    Each step or tick will call the AppleTraderAgent.step() function once\n",
    "    def step(self):\n",
    "        \"\"\"Advance the model by one step.\"\"\"\n",
    "\n",
    "        # The model's step will call the step method of each agent\n",
    "        self.schedule.step()"
   ]
  },
  {
   "cell_type": "markdown",
   "id": "b69a2988",
   "metadata": {
    "slideshow": {
     "slide_type": "slide"
    }
   },
   "source": [
    "### And now to run the model, the syntax is easy!\n",
    "1. We first create a new AppleTradingModel object called `model`\n",
    "2. Then, we take 100 steps with the model\n",
    "\n",
    "### Key Point: Running `AppleTradingModel.step()` once, in turn runs `AppleTraderAgent.step()` once for each agent\n",
    "\n",
    "### Key Point: Remember that the agents act in a random order\n",
    "  - Each `model.step()` every agents acts once, but in a random order\n",
    "    \n"
   ]
  },
  {
   "cell_type": "markdown",
   "id": "d5923f4f",
   "metadata": {},
   "source": [
    "### Task: Run the below cell a few times.  Note how the agents are executed in a random order each time.\n",
    "- Randomness is important in computing!"
   ]
  },
  {
   "cell_type": "code",
   "execution_count": 10,
   "id": "7e5531a5",
   "metadata": {},
   "outputs": [
    {
     "name": "stdout",
     "output_type": "stream",
     "text": [
      "Hi, I am an apple trading agent 4 and I have  0 Apples\n",
      "Hi, I am an apple trading agent 5 and I have  0 Apples\n",
      "Hi, I am an apple trading agent 8 and I have  0 Apples\n",
      "Hi, I am an apple trading agent 3 and I have  1 Apples\n",
      "Hi, I am an apple trading agent 1 and I have  0 Apples\n",
      "Hi, I am an apple trading agent 0 and I have  0 Apples\n",
      "Hi, I am an apple trading agent 2 and I have  0 Apples\n",
      "Hi, I am an apple trading agent 7 and I have  0 Apples\n",
      "Hi, I am an apple trading agent 6 and I have  2 Apples\n",
      "Hi, I am an apple trading agent 9 and I have  0 Apples\n"
     ]
    }
   ],
   "source": [
    "# Create AppleTradingModel object called starter_model\n",
    "# --> This creates a model with 10 Agents\n",
    "starter_model = AppleTradingModel(10)\n",
    "\n",
    "# Take one single step in the Runtime loop\n",
    "starter_model.step()"
   ]
  },
  {
   "cell_type": "markdown",
   "id": "d0ef680a",
   "metadata": {},
   "source": [
    "### Task: Add a print statement to the AppleTradingModel Step() function that prints \"Taking Step\"\n",
    "- In this way, every time you take a step, your model should print \"Taking Step\"\n",
    "\n",
    "### Then, run the above cell a few times.  Make sure you're comfortable with the basics of creating models and taking steps with them"
   ]
  },
  {
   "cell_type": "markdown",
   "id": "b3c4e811",
   "metadata": {},
   "source": [
    "### Task: Remove both of the above print statements, that is remove the print statement in the AppleTradingModel and  the AppleTraderAgent"
   ]
  },
  {
   "cell_type": "markdown",
   "id": "17fcd136",
   "metadata": {},
   "source": [
    "### Task:  Change the below cell to do that following\n",
    "1. Create a model with 20 agents (not 10)\n",
    "2. Use a loop to take 50 steps\n",
    "3. Create a list called `all_agents_NumberApples` that contains every agent's number of apples\n",
    "\n",
    "    That is, \n",
    "\n",
    "          all_agents_NumberApples[0] \n",
    "\n",
    "    should contain the number of apples that agent 0 owns.  And in general\n",
    "\n",
    "          all_agents_NumberApples[k] \n",
    "\n",
    "    should contain the number of apples that agent k owns. \n",
    "\n",
    "    You can cycle through all the agents with a loop like this.\n",
    "\n",
    "        for agent in model.schedule.agents:\n",
    "            print(agent.NumberApples)\n",
    "\n",
    "\n",
    "4. Then run the below plotting cell (two cells below).  This should generate a nice histogram\n",
    "    - We visualize how many apples each agent has\n",
    "    - We add the `%matplotlib inline` command, which ensures that plots appear (and aren't hidden)"
   ]
  },
  {
   "cell_type": "code",
   "execution_count": 11,
   "id": "12540723",
   "metadata": {
    "slideshow": {
     "slide_type": "slide"
    }
   },
   "outputs": [
    {
     "name": "stdout",
     "output_type": "stream",
     "text": [
      "Hi, I am an apple trading agent 9 and I have  0 Apples\n",
      "Hi, I am an apple trading agent 4 and I have  0 Apples\n",
      "Hi, I am an apple trading agent 2 and I have  0 Apples\n",
      "Hi, I am an apple trading agent 1 and I have  0 Apples\n",
      "Hi, I am an apple trading agent 0 and I have  1 Apples\n",
      "Hi, I am an apple trading agent 8 and I have  1 Apples\n",
      "Hi, I am an apple trading agent 7 and I have  2 Apples\n",
      "Hi, I am an apple trading agent 5 and I have  0 Apples\n",
      "Hi, I am an apple trading agent 6 and I have  0 Apples\n",
      "Hi, I am an apple trading agent 3 and I have  4 Apples\n"
     ]
    }
   ],
   "source": [
    "# Change this cell according to above, and then run\n",
    "model = AppleTradingModel(10)\n",
    "model.step()\n",
    "\n",
    "# Make sure to create a list all_agents_NumberApples and give it the above discussed values\n"
   ]
  },
  {
   "cell_type": "code",
   "execution_count": 12,
   "id": "5e6fdafb",
   "metadata": {
    "slideshow": {
     "slide_type": "slide"
    }
   },
   "outputs": [
    {
     "data": {
      "image/png": "[encoded data removed]",
      "text/plain": [
       "<Figure size 640x480 with 1 Axes>"
      ]
     },
     "metadata": {},
     "output_type": "display_data"
    }
   ],
   "source": [
    "%matplotlib inline\n",
    "\n",
    "# Store our data in a Pandas dataframe\n",
    "df = pd.DataFrame({'all_agents_NumberApples': all_agents_NumberApples})\n",
    "\n",
    "# Create a histogram with seaborn\n",
    "ax = sns.histplot(df['all_agents_NumberApples'], discrete=True)\n",
    "ax.set(title=\"Apple distribution\", xlabel=\"Number of Apples\", ylabel=\"Number of agents\" )\n",
    "\n",
    "max_apples_owned = df['all_agents_NumberApples'].max() + 1\n",
    "ax.set_xticks(range(0,max_apples_owned), labels=range(0,max_apples_owned));"
   ]
  },
  {
   "cell_type": "markdown",
   "id": "c4ba2524",
   "metadata": {},
   "source": [
    "### Open-ended Hackathon Portion\n",
    "\n",
    "### Decide on something fun and interesting to do!  How could you make the above model more realistic or interesting?  Here are a few ideas to get you going, but you should explore your own ideas\n",
    "\n",
    "1.\tEffect of adding consumption of apples.  Here each trader could receive a new apple every K turns and eat an apple every M turns, where you need to choose K and M to be reasonable.\n",
    "\n",
    "2.\tEffect of dishonest trading.  Here, some traders would skip giving apples to other traders sometimes (but perhaps not all the time).\n",
    "\n",
    "3.\tEffect of implementing a tax that takes away apples from some traders and gives those apples to other traders.  You will need to design the tax.\n",
    "\n",
    "4.\tEffect of having two items or commodities to trade (say, apples and bananas).  Perhaps, two bannas equals one apple?  Perhaps the traders have a preference of one commodity over the other?\n",
    "\n",
    "5.  Insert your idea here!  \n"
   ]
  },
  {
   "cell_type": "code",
   "execution_count": null,
   "id": "f808fcc5",
   "metadata": {},
   "outputs": [],
   "source": []
  }
 ],
 "metadata": {
  "celltoolbar": "Slideshow",
  "kernelspec": {
   "display_name": "Python 3 (ipykernel)",
   "language": "python",
   "name": "python3"
  },
  "language_info": {
   "codemirror_mode": {
    "name": "ipython",
    "version": 3
   },
   "file_extension": ".py",
   "mimetype": "text/x-python",
   "name": "python",
   "nbconvert_exporter": "python",
   "pygments_lexer": "ipython3",
   "version": "3.10.8"
  },
  "vp": {
   "vp_config_version": "1.0.0",
   "vp_menu_width": 273,
   "vp_note_display": false,
   "vp_note_width": 0,
   "vp_position": {
    "width": 278
   },
   "vp_section_display": false,
   "vp_signature": "VisualPython"
  }
 },
 "nbformat": 4,
 "nbformat_minor": 5
}
