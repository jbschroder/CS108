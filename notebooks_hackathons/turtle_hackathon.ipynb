{
 "cells": [
  {
   "cell_type": "markdown",
   "id": "d455074e",
   "metadata": {
    "slideshow": {
     "slide_type": "slide"
    }
   },
   "source": [
    "## Hackathon Turtle Time\n",
    "\n",
    "This hackathon is open to anyone, any major. In this hackathon, you will be experimenting with a fun turtle environment -- navigating mazes, drawing designs, and if you want, hacking the internals to create new mazes or change the animal to something else.  You'll be using Python and Google CoLab and practicing strong programming fundamentals here (loops, lists, if/else statements, and functions).  In terms of assumed knowledge, as long as you know some basic Python, you should be able to participate. We will provide instructions to set up Google Colab, but if you want, you can do that ahead of time."
   ]
  },
  {
   "cell_type": "markdown",
   "id": "2cc9d3ad",
   "metadata": {},
   "source": [
    "### The first task is to set up Google CoLab (if you haven't already)\n",
    "1. Create a Google account (if you don't already have one)\n",
    "2. Go into Google Drive\n",
    "3. On the right side of Google Drive, click the plus sign, to install add ons\n",
    "   - Search for Colaboratory, and install it\n",
    "   - If you've already installed Colaboratory (or Colab for short) skip this step\n",
    "4. Upload this file into Google Drive, and double click on it!\n",
    "   - First you need to download this file to your laptop/desktop\n",
    "   - So, go to this web address and click the download button (downward arrow)\n",
    "   \n",
    "     https://tinyurl.com/4dycdsc9\n",
    "     \n",
    "     \n",
    "If the tinyurl shortener doesn't work, you can also use this address  \n",
    "\n",
    "https://github.com/jbschroder/CS108/blob/main/notebooks_hackathons/turtle_hackathon.ipynb"
   ]
  },
  {
   "cell_type": "markdown",
   "id": "723c1f1e",
   "metadata": {
    "slideshow": {
     "slide_type": "slide"
    }
   },
   "source": [
    "### Next, if you've never used notebooks before, don't worry!  They are very simple.\n",
    "- There are text cells (like this one).  Text cells let you add commentary\n",
    "- And, there are code cells where you put Python code\n",
    "   - To run a code cell, hover your mouse over that cell, and just click the little triangle \"play\" or \"execute\" button \n",
    "   - Run the two cells below\n",
    "\n",
    "Note: You create new cells by clicking on the `+ Code` and `+ Text` buttons in Colab"
   ]
  },
  {
   "cell_type": "code",
   "execution_count": null,
   "id": "5997455a",
   "metadata": {},
   "outputs": [],
   "source": [
    "# Define some_list\n",
    "some_list = ['apples', 'oranges']"
   ]
  },
  {
   "cell_type": "code",
   "execution_count": null,
   "id": "70d11cec",
   "metadata": {},
   "outputs": [],
   "source": [
    "# 1. Run the above cell in order to create some_list\n",
    "#    Python will remember some_list, and now we can print it to the screen\n",
    "# 2. Next, run this cell\n",
    "print(some_list[0])\n",
    "print(some_list[1])"
   ]
  },
  {
   "cell_type": "markdown",
   "id": "HOFo2PXSHRik",
   "metadata": {
    "id": "HOFo2PXSHRik",
    "slideshow": {
     "slide_type": "slide"
    }
   },
   "source": [
    "### Next, we want to get going with turtles!  But, first we have to download the turtle environment. \n",
    "1. We download some code(`turtle_generator.py`) to define how our turtle can move around \n",
    "2. We pull the `turtle_generator` code into this notebook with an `import` command\n",
    "\n",
    "### To do this, run the below cell"
   ]
  },
  {
   "cell_type": "code",
   "execution_count": null,
   "id": "a7356955",
   "metadata": {
    "slideshow": {
     "slide_type": "-"
    }
   },
   "outputs": [],
   "source": [
    "# House cleaning part 1\n",
    "from urllib.request import urlretrieve\n",
    "(file, message) = urlretrieve('https://raw.githubusercontent.com/jbschroder/CS108/main/notebooks_turtle/turtle_generator.py', 'turtle_generator.py')\n",
    "print(\"You downloaded the file \" + file)\n",
    "\n",
    "# House cleaning part 2\n",
    "from turtle_generator import turtle_generator"
   ]
  },
  {
   "cell_type": "markdown",
   "id": "a9ce45dc",
   "metadata": {},
   "source": [
    "### Setting up a turtle is simple.  Run the below cell"
   ]
  },
  {
   "cell_type": "code",
   "execution_count": null,
   "id": "2801b2cb",
   "metadata": {},
   "outputs": [],
   "source": [
    "turtle = turtle_generator()\n",
    "turtle.show_starting_position()"
   ]
  },
  {
   "cell_type": "markdown",
   "id": "2bfc6aa8",
   "metadata": {},
   "source": [
    "### Moving the turtle is also easy.  Run the two below cells to view an animation.\n",
    "- Complete the circle by adding two commands of `turtle.move_down()` at the end of the below cell\n",
    "- Then re-run the two below cells to generate a new animation"
   ]
  },
  {
   "cell_type": "code",
   "execution_count": null,
   "id": "4249225e",
   "metadata": {},
   "outputs": [],
   "source": [
    "turtle.start_new_journey()\n",
    "turtle.move_right()\n",
    "turtle.move_right()\n",
    "turtle.move_up()\n",
    "turtle.move_up()\n",
    "turtle.move_left()\n",
    "turtle.move_left()"
   ]
  },
  {
   "cell_type": "code",
   "execution_count": null,
   "id": "b8454573",
   "metadata": {},
   "outputs": [],
   "source": [
    "turtle.watch_me_move()"
   ]
  },
  {
   "cell_type": "markdown",
   "id": "51c6a7bb",
   "metadata": {},
   "source": [
    "### You can also draw with the turtle. Run the two below cells to view an animation where your turtle leaves a trail.\n",
    "- You can also type `turtle.move_left(leave_trail=True)` and `turtle.move_down(leave_trail=True)`\n",
    "- All of the four move commands can leave a trail"
   ]
  },
  {
   "cell_type": "code",
   "execution_count": null,
   "id": "f54b77ea",
   "metadata": {},
   "outputs": [],
   "source": [
    "turtle.start_new_journey()\n",
    "turtle.move_right(leave_trail=True)\n",
    "turtle.move_right(leave_trail=True)\n",
    "turtle.move_right(leave_trail=True)\n",
    "turtle.move_up()\n",
    "turtle.move_up(leave_trail=True)\n",
    "turtle.move_up(leave_trail=True)\n",
    "turtle.move_up(leave_trail=True)\n"
   ]
  },
  {
   "cell_type": "code",
   "execution_count": null,
   "id": "890ca7f5",
   "metadata": {
    "scrolled": true
   },
   "outputs": [],
   "source": [
    "turtle.watch_me_move()"
   ]
  },
  {
   "cell_type": "markdown",
   "id": "d557ce67",
   "metadata": {},
   "source": [
    "---------------\n",
    "### The last part of our turtle introduction shows you how to create mazes and begin navigating them.\n",
    "1. Run the below cells\n",
    "2. Study the for loop and the if/elif statements that control movement\n",
    "   - You can use commands to sense where the pond and maze path are, in order to navigate"
   ]
  },
  {
   "cell_type": "code",
   "execution_count": null,
   "id": "37a8e706",
   "metadata": {},
   "outputs": [],
   "source": [
    "turtle = turtle_generator(start_location=(0,0), maze_number=1)\n",
    "turtle.show_starting_position()\n",
    "\n",
    "def navigate_maze1(turtle):\n",
    "    turtle.start_new_journey()\n",
    "    \n",
    "    for i in range(100):\n",
    "        if turtle.is_path_to_right() and turtle.is_pond_to_right():\n",
    "            turtle.move_right()\n",
    "        elif turtle.is_path_up() and turtle.is_pond_up():\n",
    "            turtle.move_up()        \n",
    "        \n",
    "        if turtle.check_maze_completed():\n",
    "            break\n",
    "        \n",
    "    return turtle"
   ]
  },
  {
   "cell_type": "code",
   "execution_count": null,
   "id": "41e4b986",
   "metadata": {},
   "outputs": [],
   "source": [
    "turtle = navigate_maze1(turtle)\n",
    "turtle.watch_me_move()"
   ]
  },
  {
   "cell_type": "markdown",
   "id": "14ea961d",
   "metadata": {},
   "source": [
    "----------------------\n",
    "### For this maze, we only need to check if the path and pond are up or to the right.\n",
    "\n",
    "### But, you will also need these commands later for more complicated mazes\n",
    "1. `turtle.is_path_to_left()`  \n",
    "2. `turtle.is_pond_to_left()`\n",
    "3. `turtle.is_path_down()`\n",
    "4. `turtle.is_pond_down()`\n",
    "\n"
   ]
  },
  {
   "cell_type": "markdown",
   "id": "89135098",
   "metadata": {
    "slideshow": {
     "slide_type": "slide"
    }
   },
   "source": [
    "-------------------\n",
    "## Hackathon Ideas\n",
    "- Hackathons should be fun!  Choose from these ideas, or come up with your own!\n",
    "\n",
    "1. Repeat the above, but use `maze_number=2`\n",
    "\n",
    "2. Write code to select randomly a start location inside maze 2.  \n",
    "   - You'll be setting the `start_location` in this command\n",
    "   \n",
    "           turtle = turtle_generator(start_location=random_value, maze_number=1)\n",
    "    \n",
    "     where you set `random_value` to be some random location in the maze.\n",
    "     \n",
    "   - You could start by creating a list of **all** possible locations on the maze, and then selecting start location from that list \n",
    "   - Consider the below code"
   ]
  },
  {
   "cell_type": "code",
   "execution_count": null,
   "id": "2ae098e2",
   "metadata": {},
   "outputs": [],
   "source": [
    "import random\n",
    "possible_start_locations = [(0,0), (1,0), (2,0), (2,8)]\n",
    "start_location = random.choice(possible_start_locations)\n",
    "print(start_location)"
   ]
  },
  {
   "cell_type": "markdown",
   "id": "f60c9923",
   "metadata": {
    "slideshow": {
     "slide_type": "slide"
    }
   },
   "source": [
    "3. Repeat the above, but use `maze_number=3`\n",
    "   - This maze is much more complicated\n",
    "   - You will likely need some general strategy to backtrack, in order to escape from dead ends\n",
    "   - To back track, you could maintain a list of movements taken, and then go backwards whenever you reach a dead-end.  \n",
    "   - This will be algorithmically complicated, so please feel free to ask questions for help brainstorming."
   ]
  },
  {
   "cell_type": "markdown",
   "id": "edf0d8b5",
   "metadata": {
    "slideshow": {
     "slide_type": "slide"
    }
   },
   "source": [
    "     \n",
    "### Other tasks:  Hacking the turtle generator\n",
    "1. Consider changing the animal from a turtle to something else.  To do this, examine `turtle_generator.py` and see how `turtle.png`, `turtle_left.png`, and `turtle_right.png` are used in that file.  \n",
    "  - You will need to modify `turtle_generator.py` to use new images that you download\n",
    "     - To download new images into Colab for use, you will need to use the `urlretrieve` command (see above for example)\n",
    "  - You can inspect and modify `turtle_generator.py` by clicking on the folder icon in Colab and then double clicking on the file `turtle_generator.py`\n",
    "  \n",
    "2. Examine how mazes are created in `turtle_generator.py`\n",
    "  - You can inspect and modify `turtle_generator.py` by clicking on the folder icon in Colab and then double clicking on the file `turtle_generator.py`\n",
    "\n",
    "  - Examine everywhere that `generate_maze1` is used in that file\n",
    "  - Create a new maze yourself (call it maze4) and then automatically navigate it\n",
    "  \n",
    "3. Come up with your own ideas!  Maybe you want to ignore mazes, and draw your name with a turtle, using loops and if/else statements.  Be creative :-) \n",
    "     "
   ]
  },
  {
   "cell_type": "markdown",
   "id": "7f8bc7e9",
   "metadata": {},
   "source": [
    "### If you need help or have questions, please ask!"
   ]
  },
  {
   "cell_type": "code",
   "execution_count": null,
   "id": "36815c48",
   "metadata": {},
   "outputs": [],
   "source": []
  },
  {
   "cell_type": "markdown",
   "id": "xiVJ0VFSCWS8",
   "metadata": {
    "id": "xiVJ0VFSCWS8",
    "slideshow": {
     "slide_type": "slide"
    }
   },
   "source": [
    "### If you want to save your Python file outside of Google Colab, you can do the following.  Click on the `download as .py` option in Colab\n",
    "![](https://raw.githubusercontent.com/jbschroder/CS108/main/lecture_images/image_of_downloading_py_file.png)"
   ]
  },
  {
   "cell_type": "code",
   "execution_count": null,
   "id": "de7bbdd6",
   "metadata": {},
   "outputs": [],
   "source": []
  }
 ],
 "metadata": {
  "celltoolbar": "Slideshow",
  "kernelspec": {
   "display_name": "Python 3 (ipykernel)",
   "language": "python",
   "name": "python3"
  },
  "language_info": {
   "codemirror_mode": {
    "name": "ipython",
    "version": 3
   },
   "file_extension": ".py",
   "mimetype": "text/x-python",
   "name": "python",
   "nbconvert_exporter": "python",
   "pygments_lexer": "ipython3",
   "version": "3.10.8"
  }
 },
 "nbformat": 4,
 "nbformat_minor": 5
}
