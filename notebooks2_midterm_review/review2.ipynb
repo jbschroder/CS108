{
 "cells": [
  {
   "cell_type": "markdown",
   "id": "d455074e",
   "metadata": {
    "slideshow": {
     "slide_type": "slide"
    }
   },
   "source": [
    "## Midterm Review Lab 2\n",
    "Lecture file: this file is both the lecture file and lab file"
   ]
  },
  {
   "cell_type": "markdown",
   "id": "edf0d8b5",
   "metadata": {
    "slideshow": {
     "slide_type": "slide"
    }
   },
   "source": [
    "### Learning Goals\n",
    "\n",
    "### Today, we will review some topics both to reinforce important concepts and to prepare for the midterm \n",
    "1. Review exercise for objects and functions\n",
    "    - For the quiz today, review the object and function lectures\n",
    "    \n",
    "2. Review exercise with functions and the turtle"
   ]
  },
  {
   "cell_type": "markdown",
   "id": "d2aad8a3",
   "metadata": {
    "slideshow": {
     "slide_type": "slide"
    }
   },
   "source": [
    "### Task: Create a child class `right_triangle` based on your earlier `triangle` class\n",
    "\n",
    "1. Take your triangle class from lab 15, and copy and paste it into the below code cell"
   ]
  },
  {
   "cell_type": "markdown",
   "id": "09a3fc43",
   "metadata": {
    "slideshow": {
     "slide_type": "slide"
    }
   },
   "source": [
    "2. Create a new code cell below triangle and define a child class named `right_triangle`\n",
    "\n",
    "   - Remember that a right triangle has a special relationship between it's three sides, $a^2 = b^2 + c^2$, where $a$ is the hypotenuse, or longest side\n",
    "\n",
    "   - Remember to inherit, you have to start your class definition with `class right_triangle(triangle):`\n",
    "\n",
    "   - So, the triangle's `__init__` function which took three parameters (the length of each side) needs to be redefined for the `right_triangle` class"
   ]
  },
  {
   "cell_type": "markdown",
   "id": "e30fbc2c",
   "metadata": {
    "slideshow": {
     "slide_type": "slide"
    }
   },
   "source": [
    "   - The `__init__` function for `right_triangle` should do the following\n",
    "       - Still take three parameters (the length of each side)\n",
    "       - But check inside of `__init__` whether the three sides obey the Pythagorean theorem for right triangles\n",
    "       - That is, print an error message if this is not satisfied\n",
    "       \n",
    "         $$a^2 = b^2 + c^2$$\n",
    "               \n",
    "         where $a$ is the longest side\n",
    "         \n",
    "      - To do this, you will need to use if/else statements to decide which parameter is the longest side, and then check the above relationship"
   ]
  },
  {
   "cell_type": "markdown",
   "id": "56555394",
   "metadata": {
    "slideshow": {
     "slide_type": "slide"
    }
   },
   "source": [
    "  \n",
    "3. Question: Do you need to redefine the `area` and `perimeter` functions for right_triangle?  Decide and then implement your decision.  (But ask if you have any questions.)"
   ]
  },
  {
   "cell_type": "markdown",
   "id": "1c5567c1",
   "metadata": {
    "slideshow": {
     "slide_type": "slide"
    }
   },
   "source": [
    "   \n",
    "4. Your code should be able to reproduce the below output.\n",
    "   \n",
    "     Add a second new code cell below, and reproduce this output with your new code\n",
    "   \n",
    "         a = 5\n",
    "         b = 4\n",
    "         c = 3\n",
    "         tri1 = right_triangle(a,b,c)\n",
    "         print(tri1.area(), \"area of right triangle\")\n",
    "         print(tri1.perimeter(), \"perimeter of right triangle\")\n",
    "\n",
    "         6 area of right triangle\n",
    "         12 perimeter of right triangle\n",
    "    "
   ]
  },
  {
   "cell_type": "markdown",
   "id": "387d6635",
   "metadata": {
    "slideshow": {
     "slide_type": "slide"
    }
   },
   "source": [
    "    and\n",
    "\n",
    "         a = 4\n",
    "         b = 4\n",
    "         c = 3\n",
    "         tri2 = right_triangle(a,b,c)\n",
    "         \n",
    "         Error! Sides not correct for a right triangle."
   ]
  },
  {
   "cell_type": "code",
   "execution_count": null,
   "id": "9fcae420",
   "metadata": {},
   "outputs": [],
   "source": []
  },
  {
   "cell_type": "markdown",
   "id": "HOFo2PXSHRik",
   "metadata": {
    "id": "HOFo2PXSHRik",
    "slideshow": {
     "slide_type": "slide"
    }
   },
   "source": [
    "## We now come to our turtle portion, where we have some housecleaning to do\n",
    "1. We download some code(`turtle_generator.py`) to define how our turtle can move around\n",
    "2. We pull the `turtle_generator` code into this notebook with an `import` command"
   ]
  },
  {
   "cell_type": "code",
   "execution_count": 2,
   "id": "a7356955",
   "metadata": {
    "slideshow": {
     "slide_type": "-"
    }
   },
   "outputs": [
    {
     "name": "stdout",
     "output_type": "stream",
     "text": [
      "You downloaded the file turtle_generator.py\n"
     ]
    }
   ],
   "source": [
    "# House cleaning part 1\n",
    "from urllib.request import urlretrieve\n",
    "(file, message) = urlretrieve('https://raw.githubusercontent.com/jbschroder/CS108/main/notebooks_turtle/turtle_generator.py', 'turtle_generator.py')\n",
    "print(\"You downloaded the file \" + file)\n",
    "\n",
    "# House cleaning part 2\n",
    "from turtle_generator import turtle_generator"
   ]
  },
  {
   "cell_type": "markdown",
   "id": "c50e5329",
   "metadata": {
    "slideshow": {
     "slide_type": "slide"
    }
   },
   "source": [
    "### Turtle Task 1: draw the letter \"H\" with a single turtle (from review 1 lab)\n",
    "- Write a function `draw_H()` that generates a turtle, starts a journey, and then returns the turtle for viewing\n",
    "- You should be able to view the animated H with\n",
    "\n",
    "      turtle = draw_H()\n",
    "      turtle.watch_me_move()\n",
    "      \n",
    "- Do not display a maze or a pond, only use an empty grid and a single turtle\n",
    "- Use a single loop and if/else statements to draw the H"
   ]
  },
  {
   "cell_type": "markdown",
   "id": "72fec412",
   "metadata": {
    "slideshow": {
     "slide_type": "slide"
    }
   },
   "source": [
    "- If you need help planning this algorithm, please ask\n",
    "    - Consider setting the start location somewhere other than `(0,0)` to make drawing the H easier\n",
    "    - Consider having different phases of your loop, to draw the different parts of \"H\"\n",
    "    - You can use if/else statements to decide which phase your turtle is in"
   ]
  },
  {
   "cell_type": "markdown",
   "id": "2f965ec4",
   "metadata": {
    "slideshow": {
     "slide_type": "slide"
    }
   },
   "source": [
    "### Turtle Task 2:\n",
    "- Extend Task 1 so that you have two turtles\n",
    "- The first turtle draws the letter \"H\"\n",
    "- And the second turtle draws the letter \"I\"\n",
    "- The final animation screen should spell the word \"HI\"\n",
    "\n",
    "Similar to Task 1, you will probably want to use a start location other than `(0,0)` to make drawing the letters easier.  And, it's recommended to use a single loop for each turtle, using if/else statements to decide when to turn and when to leave a trail.\n"
   ]
  },
  {
   "cell_type": "markdown",
   "id": "8dc44126",
   "metadata": {
    "slideshow": {
     "slide_type": "slide"
    }
   },
   "source": [
    "### At a minimum, complete turtle task 1 before submitting your homework."
   ]
  },
  {
   "cell_type": "code",
   "execution_count": null,
   "id": "bbe56831",
   "metadata": {},
   "outputs": [],
   "source": []
  },
  {
   "cell_type": "markdown",
   "id": "95355895",
   "metadata": {
    "slideshow": {
     "slide_type": "slide"
    }
   },
   "source": [
    "### Homework Submission Instructions\n",
    "\n",
    "### The homework submission instructions are different this week. \n",
    "\n",
    "### Download your notebook as an \".ipynb\" file, and upload the ipynb file as your assignment to Canvas.\n",
    "\n",
    "### Do not upload a .py file"
   ]
  },
  {
   "cell_type": "code",
   "execution_count": null,
   "id": "6ed376c7",
   "metadata": {},
   "outputs": [],
   "source": []
  }
 ],
 "metadata": {
  "celltoolbar": "Slideshow",
  "kernelspec": {
   "display_name": "Python 3 (ipykernel)",
   "language": "python",
   "name": "python3"
  },
  "language_info": {
   "codemirror_mode": {
    "name": "ipython",
    "version": 3
   },
   "file_extension": ".py",
   "mimetype": "text/x-python",
   "name": "python",
   "nbconvert_exporter": "python",
   "pygments_lexer": "ipython3",
   "version": "3.10.8"
  }
 },
 "nbformat": 4,
 "nbformat_minor": 5
}
