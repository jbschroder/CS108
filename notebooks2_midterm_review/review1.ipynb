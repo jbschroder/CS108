{
 "cells": [
  {
   "cell_type": "markdown",
   "id": "d455074e",
   "metadata": {
    "slideshow": {
     "slide_type": "slide"
    }
   },
   "source": [
    "## Midterm Review Lab 1\n",
    "Lecture file: this file is both the lecture file and lab file"
   ]
  },
  {
   "cell_type": "markdown",
   "id": "edf0d8b5",
   "metadata": {
    "slideshow": {
     "slide_type": "slide"
    }
   },
   "source": [
    "### Learning Goals\n",
    "\n",
    "### Today, we will review some topics both to reinforce important concepts and to prepare for the midterm \n",
    "1. Review exercises for if/else statements, lists, and loops\n",
    "   - For the quiz today, review the if/else, list, and loop lectures\n",
    "   \n",
    "2. Review exercise with functions and the turtle"
   ]
  },
  {
   "cell_type": "markdown",
   "id": "bf942993",
   "metadata": {
    "slideshow": {
     "slide_type": "slide"
    }
   },
   "source": [
    "### Task: Create a list that contains the names of 10 animals\n",
    "1. Print the third, fourth, and fifth animals to the screen using a slice. For instance, to print list index 8 and 9 to the screen, you would use \n",
    "\n",
    "       print(my_list[8:10])\n",
    "       \n",
    "  Experiment with using slices to print parts of your list     \n",
    "\n",
    "2. Print each item of the list to the screen with a for loop\n",
    "3. Print every second item of the list to the screen with a for loop\n",
    "4. Print every third item of the list to the screen with a for loop\n",
    "5. Repeat items 2, 3, and 4 with a while loop"
   ]
  },
  {
   "cell_type": "markdown",
   "id": "HOFo2PXSHRik",
   "metadata": {
    "id": "HOFo2PXSHRik",
    "slideshow": {
     "slide_type": "slide"
    }
   },
   "source": [
    "## We now come to our turtle portion, where we have some housecleaning to do\n",
    "1. We download some code(`turtle_generator.py`) to define how our turtle can move around\n",
    "2. We pull the `turtle_generator` code into this notebook with an `import` command"
   ]
  },
  {
   "cell_type": "code",
   "execution_count": 2,
   "id": "a7356955",
   "metadata": {
    "slideshow": {
     "slide_type": "-"
    }
   },
   "outputs": [
    {
     "name": "stdout",
     "output_type": "stream",
     "text": [
      "You downloaded the file turtle_generator.py\n"
     ]
    }
   ],
   "source": [
    "# House cleaning part 1\n",
    "from urllib.request import urlretrieve\n",
    "(file, message) = urlretrieve('https://raw.githubusercontent.com/jbschroder/CS108/main/notebooks_turtle/turtle_generator.py', 'turtle_generator.py')\n",
    "print(\"You downloaded the file \" + file)\n",
    "\n",
    "# House cleaning part 2\n",
    "from turtle_generator import turtle_generator"
   ]
  },
  {
   "cell_type": "markdown",
   "id": "c6a19414",
   "metadata": {
    "slideshow": {
     "slide_type": "slide"
    }
   },
   "source": [
    "### Turtle Task: draw the letter \"H\" with a single turtle\n",
    "- Write a function `draw_H()` that generates a turtle, starts a journey, and then returns the turtle for viewing\n",
    "- You should be able to view the animated H with\n",
    "\n",
    "      turtle = draw_H()\n",
    "      turtle.watch_me_move()\n",
    "      \n",
    "- Do not display a maze or a pond, only use an empty grid and a single turtle\n",
    "- Use a single loop and if/else statements to draw the H\n",
    "- If you need help planning this algorithm, please ask\n",
    "    - Consider setting the start location somewhere other than `(0,0)` to make drawing the H easier\n",
    "    - Consider having different phases of your loop, to draw the different parts of \"H\"\n",
    "    - You can use if/else statements to decide which phase your turtle is in"
   ]
  },
  {
   "cell_type": "code",
   "execution_count": null,
   "id": "fd1fc113",
   "metadata": {},
   "outputs": [],
   "source": []
  }
 ],
 "metadata": {
  "celltoolbar": "Slideshow",
  "kernelspec": {
   "display_name": "Python 3 (ipykernel)",
   "language": "python",
   "name": "python3"
  },
  "language_info": {
   "codemirror_mode": {
    "name": "ipython",
    "version": 3
   },
   "file_extension": ".py",
   "mimetype": "text/x-python",
   "name": "python",
   "nbconvert_exporter": "python",
   "pygments_lexer": "ipython3",
   "version": "3.10.8"
  }
 },
 "nbformat": 4,
 "nbformat_minor": 5
}
