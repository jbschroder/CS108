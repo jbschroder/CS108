{
 "cells": [
  {
   "cell_type": "markdown",
   "id": "7017bd98",
   "metadata": {
    "slideshow": {
     "slide_type": "slide"
    }
   },
   "source": [
    "### Remember about Python\n",
    "   - Python is the programming language that we will use\n",
    "   - A Python Notebook is just a bunch of Python code organized in a way that lets you execute (or run) little snippets of code, one snippet at a time\n",
    "   - Your notebook will list multiple snippets of code, one after the other\n",
    "   - Then, you will click to run little snippets of code, one snippet at a time\n",
    "   - Each snippet of code is called a `cell`"
   ]
  },
  {
   "cell_type": "markdown",
   "id": "a6ed98c7",
   "metadata": {
    "slideshow": {
     "slide_type": "slide"
    }
   },
   "source": [
    "### We are inside a Python Notebook now\n",
    "\n",
    "### Each block or snippet of text is called a cell\n",
    "\n",
    "### There are two types of celles"
   ]
  },
  {
   "cell_type": "code",
   "execution_count": 21,
   "id": "e1039f38",
   "metadata": {
    "slideshow": {
     "slide_type": "-"
    }
   },
   "outputs": [
    {
     "name": "stdout",
     "output_type": "stream",
     "text": [
      "5\n"
     ]
    }
   ],
   "source": [
    "x = 5"
   ]
  },
  {
   "cell_type": "markdown",
   "id": "b78a15c6",
   "metadata": {
    "slideshow": {
     "slide_type": "slide"
    }
   },
   "source": [
    "### Running Notebook Cell\n",
    "1. \n",
    "\n",
    "Note : you can run a cell multiple times, add example of that"
   ]
  },
  {
   "cell_type": "code",
   "execution_count": 27,
   "id": "da0eaff4",
   "metadata": {
    "slideshow": {
     "slide_type": "-"
    }
   },
   "outputs": [
    {
     "name": "stdout",
     "output_type": "stream",
     "text": [
      "9\n"
     ]
    },
    {
     "data": {
      "text/plain": [
       "5"
      ]
     },
     "execution_count": 27,
     "metadata": {},
     "output_type": "execute_result"
    }
   ],
   "source": []
  }
 ],
 "metadata": {
  "celltoolbar": "Slideshow",
  "kernelspec": {
   "display_name": "Python 3 (ipykernel)",
   "language": "python",
   "name": "python3"
  },
  "language_info": {
   "codemirror_mode": {
    "name": "ipython",
    "version": 3
   },
   "file_extension": ".py",
   "mimetype": "text/x-python",
   "name": "python",
   "nbconvert_exporter": "python",
   "pygments_lexer": "ipython3",
   "version": "3.10.8"
  }
 },
 "nbformat": 4,
 "nbformat_minor": 5
}
