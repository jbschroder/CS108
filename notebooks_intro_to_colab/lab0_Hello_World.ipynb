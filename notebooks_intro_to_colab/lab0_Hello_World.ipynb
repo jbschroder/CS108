{
 "cells": [
  {
   "cell_type": "markdown",
   "id": "7017bd98",
   "metadata": {
    "slideshow": {
     "slide_type": "slide"
    }
   },
   "source": [
    "### Remember about Python\n",
    "   - Python is the programming language that we will use\n",
    "   - A Python Notebook is just a bunch of Python code organized in a way that lets you execute (or run) little snippets of code, one snippet at a time\n",
    "   - Your notebook will list multiple snippets of code, one after the other\n",
    "   - Then, you will click to run little snippets of code, one snippet at a time\n",
    "   - Each snippet of code is called a `cell`"
   ]
  },
  {
   "cell_type": "markdown",
   "id": "61c5012e",
   "metadata": {
    "slideshow": {
     "slide_type": "slide"
    }
   },
   "source": [
    "### We are inside a Python Notebook now\n",
    "\n",
    "### Each block or snippet of text is called a cell\n",
    "\n",
    "### There are two types of cells\n",
    "   - Text cells\n",
    "   - Code cells\n",
    "   \n",
    "### This cell is a text cell and the cells above and below are text cells. \n",
    "   - Text cells let you type out comments and narration to your code"
   ]
  },
  {
   "cell_type": "markdown",
   "id": "a6ed98c7",
   "metadata": {
    "slideshow": {
     "slide_type": "slide"
    }
   },
   "source": [
    "### The cell below is a code cell--Notice how it looks different from this cell (which is a text cell)\n",
    "\n",
    "### To run a cell, click the little triangle (\"play\" symbol) to the right of each cell\n",
    "   - Hover mouse over cell to get triangle to appear\n",
    "   \n",
    "### Task: Click to run the below cell.  The result is that \"Hello World\" is printed."
   ]
  },
  {
   "cell_type": "code",
   "execution_count": null,
   "id": "e1039f38",
   "metadata": {
    "slideshow": {
     "slide_type": "-"
    }
   },
   "outputs": [],
   "source": [
    "print(\"Hello World\")"
   ]
  },
  {
   "cell_type": "markdown",
   "id": "03d9e2b1",
   "metadata": {},
   "source": [
    "### Vocabulary Summary:\n",
    "   - cell: snippet of text or code, encased in a box\n",
    "       - Text cells allow you to comment on and narrate your code\n",
    "       - Code cells are Python instructions that you run by clicking on the triangular \"play\" symbol for that cell\n",
    "   - These terms mean the same thing\n",
    "       - Run a cell\n",
    "       - Execute a cell\n",
    "   - Insert a cell means to create a new cell\n"
   ]
  },
  {
   "cell_type": "code",
   "execution_count": null,
   "id": "b74e42a4",
   "metadata": {},
   "outputs": [],
   "source": []
  }
 ],
 "metadata": {
  "celltoolbar": "Slideshow",
  "kernelspec": {
   "display_name": "Python 3 (ipykernel)",
   "language": "python",
   "name": "python3"
  },
  "language_info": {
   "codemirror_mode": {
    "name": "ipython",
    "version": 3
   },
   "file_extension": ".py",
   "mimetype": "text/x-python",
   "name": "python",
   "nbconvert_exporter": "python",
   "pygments_lexer": "ipython3",
   "version": "3.10.8"
  }
 },
 "nbformat": 4,
 "nbformat_minor": 5
}
