{
 "cells": [
  {
   "cell_type": "markdown",
   "id": "7017bd98",
   "metadata": {
    "slideshow": {
     "slide_type": "slide"
    }
   },
   "source": [
    "### Remember about Python\n",
    "   - Python is the programming language that we will use\n",
    "   - A Python Notebook is just a bunch of Python code organized in a way that lets you execute (or run) little snippets of code, one snippet at a time\n",
    "   - Your notebook will list multiple snippets of code, one after the other\n",
    "   - Then, you will click to run little snippets of code, one snippet at a time\n",
    "   - Each snippet of code is called a `cell`"
   ]
  },
  {
   "cell_type": "markdown",
   "id": "463ba364",
   "metadata": {
    "slideshow": {
     "slide_type": "slide"
    }
   },
   "source": [
    "### We are inside a Python Notebook now\n",
    "\n",
    "### Each block or snippet of text is called a cell\n",
    "\n",
    "### There are two types of cells\n",
    "   - Text cells\n",
    "   - Code cells\n",
    "   \n",
    "### This cell is a text cell and the cells above and below are text cells. \n",
    "   - Text cells let you type out comments and narration to your code"
   ]
  },
  {
   "cell_type": "markdown",
   "id": "a6ed98c7",
   "metadata": {
    "slideshow": {
     "slide_type": "slide"
    }
   },
   "source": [
    "### The cell below is a code cell--Notice how it looks different from this cell (which is a text cell)\n",
    "\n",
    "### To run a cell, click the little triangle (\"play\" symbol) to the right of each cell\n",
    "   - Hover mouse over cell to get triangle to appear\n",
    "   \n",
    "### Task: Click to run the below cell.  The result is that \"Hello World\" is printed."
   ]
  },
  {
   "cell_type": "code",
   "execution_count": 21,
   "id": "e1039f38",
   "metadata": {
    "slideshow": {
     "slide_type": "-"
    }
   },
   "outputs": [
    {
     "name": "stdout",
     "output_type": "stream",
     "text": [
      "5\n"
     ]
    }
   ],
   "source": [
    "print(\"Hello World\")"
   ]
  },
  {
   "cell_type": "markdown",
   "id": "a79636ab",
   "metadata": {},
   "source": [
    "### Task: Click to the run the above cell again and then again.  You can run cells many times!"
   ]
  },
  {
   "cell_type": "markdown",
   "id": "e3a08282",
   "metadata": {},
   "source": [
    "### Vocabulary Summary:\n",
    "   - cell: snippet of text or code, encased in a box\n",
    "       - Text cells allow you to comment on and narrate your code\n",
    "       - Code cells are Python instructions that you run by clicking on the \"play\" symbol for that cell\n",
    "   - These terms mean the same thing\n",
    "       - Run a cell\n",
    "       - Execute a cell\n",
    "   - Insert a cell means to create a new cell\n"
   ]
  },
  {
   "cell_type": "markdown",
   "id": "faed4449",
   "metadata": {},
   "source": [
    "### CoLab Help\n",
    "  - There are many buttons in CoLab\n",
    "  - The main buttons to know today are the \n",
    "      - Triangular \"play\" button to run code\n",
    "      - How to add new cells (text and code)\n",
    "      \n",
    "    **But if you ever have a question, please ask!**"
   ]
  },
  {
   "cell_type": "markdown",
   "id": "07eb7bf6",
   "metadata": {},
   "source": [
    "### Homework Tasks\n",
    "   - Create two new cells below this cell.\n",
    "        - Use the `+ Code` button towards the top left\n",
    "        - Notice the `+ Text` button which creates a new text cell\n",
    "        \n",
    "        \n",
    "   - These new cells should be code cells.\n",
    "        - Use the `+ Code` button towards the top left\n",
    "\n",
    "   \n",
    "   - Type code into these cells to print \"Hello World\", that is each new cell should contain \n",
    "           \n",
    "           print(\"Hello World\")\n",
    "   \n",
    "   - In total, this notebook should print \"Hello World\" three times.\n",
    "   - Then, submit this homework following the below instructions.\n",
    "   \n",
    "### Make sure you have submitted your homework before leaving class or lab today!\n",
    "   \n",
    "### If you submit your Homework early, go to today's page on the course website for \"Class 2\".  Then download the next lab file, ``lab1_Hello_World_Advanced.ipynb``\n",
    "   - Upload this file to Google Drive, in your CS108 folder, and open it in CoLab\n",
    "   - Follow the instructions in that file\n",
    "\n",
    "### If you don't get to this last step, you can do it later"
   ]
  },
  {
   "cell_type": "markdown",
   "id": "abf5049d",
   "metadata": {
    "id": "xiVJ0VFSCWS8",
    "slideshow": {
     "slide_type": "slide"
    }
   },
   "source": [
    "### Homework submission\n",
    "\n",
    "- Download and name your homework file `hw#.py`, where `#` is the correct number for this week, for instance `hw1.py`, `hw2.py`, ...\n",
    "  \n",
    "  **This is week one, so name your homework `hw1.py`**\n",
    "\n",
    "\n",
    "- To submit your homework, download your notebook to `.py` file and upload this `.py` file to Canvas for the weekly homework\n",
    "    - Go to the \"Assignments\" tab on the course website\n",
    "    - Ask if you have any questions\n"
   ]
  },
  {
   "cell_type": "markdown",
   "id": "xiVJ0VFSCWS8",
   "metadata": {
    "id": "xiVJ0VFSCWS8",
    "slideshow": {
     "slide_type": "slide"
    }
   },
   "source": [
    "### Reminder: To download correctly, click on the `download as .py` option in Colab\n",
    "![](https://raw.githubusercontent.com/jbschroder/CS108/main/lecture_images/image_of_downloading_py_file.png)"
   ]
  },
  {
   "cell_type": "code",
   "execution_count": null,
   "id": "57c5722b",
   "metadata": {},
   "outputs": [],
   "source": []
  }
 ],
 "metadata": {
  "celltoolbar": "Slideshow",
  "kernelspec": {
   "display_name": "Python 3 (ipykernel)",
   "language": "python",
   "name": "python3"
  },
  "language_info": {
   "codemirror_mode": {
    "name": "ipython",
    "version": 3
   },
   "file_extension": ".py",
   "mimetype": "text/x-python",
   "name": "python",
   "nbconvert_exporter": "python",
   "pygments_lexer": "ipython3",
   "version": "3.10.8"
  }
 },
 "nbformat": 4,
 "nbformat_minor": 5
}
