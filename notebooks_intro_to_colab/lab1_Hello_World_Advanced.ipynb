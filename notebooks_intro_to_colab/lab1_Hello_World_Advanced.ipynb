{
 "cells": [
  {
   "cell_type": "markdown",
   "id": "7017bd98",
   "metadata": {
    "slideshow": {
     "slide_type": "slide"
    }
   },
   "source": [
    "### We will now experiment with Python Notebooks more\n",
    "\n",
    "### Learning Goals\n",
    "   - How to run a Python Notebook in Google Drive\n",
    "   - Learn about \"text\" versus \"code\" cells in the Notebook\n",
    "   - Learn basic manipulation of cells (running cells, editing cells, and creating cells)"
   ]
  },
  {
   "cell_type": "markdown",
   "id": "463ba364",
   "metadata": {
    "slideshow": {
     "slide_type": "slide"
    }
   },
   "source": [
    "### Remember, the difference between \"code\" and \"text\" cells\n",
    "\n",
    "### Task 1: Create two new cells below\n",
    "   - Make one of the cells a \"code\" cell, by using the \"+ Code\" button\n",
    "   - Make one of the cells a \"text\" cell, by using the \"+ Text\" button\n",
    "   \n",
    "### Task 2: Enter some comments in the text cell and see how you can add notes and text to your notebook\n",
    "\n",
    "### Task 3: Add a print command to the code cell, such as \n",
    "\n",
    "     print(\"Hello, I'm Jacob\")\n",
    "       \n",
    "### Task 4: Run the code cell and see your message printed"
   ]
  },
  {
   "cell_type": "code",
   "execution_count": null,
   "id": "57c5722b",
   "metadata": {},
   "outputs": [],
   "source": []
  },
  {
   "cell_type": "markdown",
   "id": "e3a2d578",
   "metadata": {},
   "source": [
    "### Task 5: Repeat tasks 1, 2, 3, 4 below, and create more cells (as many as you want).  Change the message that you print to the screen.\n",
    "\n",
    "### Task 6: Explore the CoLab interface \n",
    "   - Find the up and down arrows to the right of the current cell.  Use these arrows to move the current cell up and down\n",
    "       - Current cell just means, the cell that you clicked on with your mouse\n",
    "       - Make sure you can move cells up and down.  Experiment with this.\n",
    "       \n",
    "   - Find the \"Runtime\" menu.  Click on this menu and choose the \"Run all\" command. This runs all the cells in your notebook\n",
    "       - This can save time, if you want to run every cell in a notebook all at once\n",
    "       "
   ]
  },
  {
   "cell_type": "markdown",
   "id": "635ecedb",
   "metadata": {},
   "source": [
    "### Task 6: ASCII Art \n",
    "- Run the below cell.  Observe how a pattern is printed.  \n",
    "- Change the pattern to something of interest to you, say a shape or figure, letter, or animal"
   ]
  },
  {
   "cell_type": "code",
   "execution_count": null,
   "id": "30be5857",
   "metadata": {},
   "outputs": [],
   "source": [
    "print(\"     **      \")\n",
    "print(\"     **      \")\n",
    "print(\"  ********   \")\n",
    "print(\"  ********   \")\n",
    "print(\"     **      \")\n",
    "print(\"     **      \")"
   ]
  },
  {
   "cell_type": "code",
   "execution_count": null,
   "id": "78d7d7c5",
   "metadata": {},
   "outputs": [],
   "source": []
  }
 ],
 "metadata": {
  "celltoolbar": "Slideshow",
  "kernelspec": {
   "display_name": "Python 3 (ipykernel)",
   "language": "python",
   "name": "python3"
  },
  "language_info": {
   "codemirror_mode": {
    "name": "ipython",
    "version": 3
   },
   "file_extension": ".py",
   "mimetype": "text/x-python",
   "name": "python",
   "nbconvert_exporter": "python",
   "pygments_lexer": "ipython3",
   "version": "3.10.8"
  }
 },
 "nbformat": 4,
 "nbformat_minor": 5
}
