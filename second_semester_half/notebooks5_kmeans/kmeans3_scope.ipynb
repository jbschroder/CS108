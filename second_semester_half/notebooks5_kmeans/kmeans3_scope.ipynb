{
 "cells": [
  {
   "cell_type": "markdown",
   "id": "226dd554",
   "metadata": {
    "slideshow": {
     "slide_type": "slide"
    }
   },
   "source": [
    "### K-Means Clustering 3 and Review of Scope\n",
    "-----------\n",
    "\n",
    "This material is based on the previous version of CS108L, see https://cs4all.cs.unm.edu/cs108.html\n",
    "- Credit to Prof. Melanie Moses, Dr. Irene Lee, Dr. Maureen Psaila-Dombrowski, Prof. Dave Ackley and collaborators (see website)\n",
    "\n",
    "-----------\n",
    "\n",
    "The material on loan data is a modified version of this example\n",
    "https://datahack.analyticsvidhya.com/contest/practice-problem-loan-prediction-iii/\n",
    "https://drive.google.com/file/d/1ZzEouo7lRJvajxK6jLM2K_p9xAwGw1tS/view?usp=sharing"
   ]
  },
  {
   "cell_type": "markdown",
   "id": "f4841daf",
   "metadata": {
    "slideshow": {
     "slide_type": "slide"
    }
   },
   "source": [
    "### Learning Goals\n",
    "- Review variables and scope\n",
    "   - Definition of scope\n",
    "   - Three parts to using variables: declare, initialize, get/set\n",
    "   - Examples where scope is important\n",
    "   \n",
    "- Continue working on K-Means assignment from last lab"
   ]
  },
  {
   "cell_type": "markdown",
   "id": "61500ef0",
   "metadata": {
    "slideshow": {
     "slide_type": "slide"
    }
   },
   "source": [
    "### Code Review: Variables and Scope\n",
    "\n",
    "Definition: Variable is a container that holds a value that can be used or changed\n",
    "- The values can be numbers, words, objects, really anything"
   ]
  },
  {
   "cell_type": "markdown",
   "id": "51c90eab",
   "metadata": {
    "slideshow": {
     "slide_type": "slide"
    }
   },
   "source": [
    "Three steps for using variables\n",
    "1. Declare: allocate space for the variable and give a name to the variable\n",
    "2. Initialize: set the initial value of the variable\n",
    "3. Get/set: use variable in a program\n",
    "    - Either use the stored value (get)\n",
    "    - Or, update the stored value (set)"
   ]
  },
  {
   "cell_type": "code",
   "execution_count": 1,
   "id": "f8f6863a",
   "metadata": {
    "slideshow": {
     "slide_type": "slide"
    }
   },
   "outputs": [
    {
     "name": "stdout",
     "output_type": "stream",
     "text": [
      "3 first entry in x\n",
      "40 5 times the second entry in x\n",
      "[3, 12] updated x with 12 as second entry\n"
     ]
    }
   ],
   "source": [
    "# 1. Declare x as a list\n",
    "x = []\n",
    "\n",
    "# 2. Initialize, give x it's first and second values\n",
    "x.append(3)\n",
    "x.append(8)\n",
    "\n",
    "\n",
    "# 3. Use the variable -- Get the value\n",
    "print(x[0], \"first entry in x\")\n",
    "\n",
    "# 3. Use the variable -- Carry out a multiplication\n",
    "print(x[1]*5, \"5 times the second entry in x\")\n",
    "\n",
    "# 3. Use the variable -- Set the value\n",
    "x[1] = 12\n",
    "print(x, \"updated x with 12 as second entry\")"
   ]
  },
  {
   "cell_type": "markdown",
   "id": "eedba4ee",
   "metadata": {
    "slideshow": {
     "slide_type": "slide"
    }
   },
   "source": [
    "### Types of variables\n",
    "\n",
    "We will distinguish between two types of variables in Python\n",
    "- Local: variable only available inside the code block where it is declared\n",
    "    - Variable declared inside a loop, function or object is LOCAL to only that loop, function and object\n",
    "    - The local variable is available ONLY inside that function or object\n",
    "\n",
    "- Global: variable declared outside of any loop, function or object, and is available anywhere\n",
    "    - Caveat: if you use the same variable name for a local and global variable, this can get confusing.\n",
    "\n",
    "In general do not use the same variable name for both a local variable and a global variable. See below example.\n",
    "\n",
    "### Scope refers to where a variable is valid"
   ]
  },
  {
   "cell_type": "markdown",
   "id": "283c61e3",
   "metadata": {
    "slideshow": {
     "slide_type": "slide"
    }
   },
   "source": [
    "### Explore Scope in the below examples\n",
    "1. Run each cell\n",
    "2. Identify the local and global variables in the text box below\n",
    "    - Some of the cells will only have local variables, and some only global, and some both\n",
    "3. Discuss why each value is printed to the screen.\n",
    "    - Some cells will produce an error, if so, discuss that \n",
    "\n",
    "### When running the below cells, they must be run in order.  If you need to restart, just go to `Runtime --> Restart Session` before running each cell"
   ]
  },
  {
   "cell_type": "code",
   "execution_count": 2,
   "id": "c7895427",
   "metadata": {
    "slideshow": {
     "slide_type": "slide"
    }
   },
   "outputs": [
    {
     "name": "stdout",
     "output_type": "stream",
     "text": [
      "[0, 4, 8, 12, 16, 20, 24, 28, 32, 36]\n"
     ]
    }
   ],
   "source": [
    "my_list = []\n",
    "\n",
    "for i in range(10):\n",
    "    my_list.append(4*i)\n",
    "\n",
    "print(my_list)    "
   ]
  },
  {
   "cell_type": "markdown",
   "id": "ab8daf46",
   "metadata": {
    "slideshow": {
     "slide_type": "-"
    }
   },
   "source": [
    "Local Variables:\n",
    "\n",
    "\n",
    "Global Variables:\n",
    "\n",
    "\n",
    "Discuss Output:\n",
    "\n"
   ]
  },
  {
   "cell_type": "code",
   "execution_count": 3,
   "id": "02d28112",
   "metadata": {
    "slideshow": {
     "slide_type": "slide"
    }
   },
   "outputs": [
    {
     "name": "stdout",
     "output_type": "stream",
     "text": [
      "[36]\n"
     ]
    }
   ],
   "source": [
    "for i in range(10):\n",
    "    my_list = []\n",
    "    my_list.append(4*i)\n",
    "\n",
    "print(my_list)  "
   ]
  },
  {
   "cell_type": "markdown",
   "id": "441dbd4b",
   "metadata": {
    "slideshow": {
     "slide_type": "-"
    }
   },
   "source": [
    "Local Variables:\n",
    "\n",
    "\n",
    "Global Variables:\n",
    "\n",
    "\n",
    "Discuss Output:\n",
    "\n"
   ]
  },
  {
   "cell_type": "code",
   "execution_count": 4,
   "id": "194ce80d",
   "metadata": {
    "slideshow": {
     "slide_type": "slide"
    }
   },
   "outputs": [
    {
     "name": "stdout",
     "output_type": "stream",
     "text": [
      "10 inside function\n",
      "30 outside function\n"
     ]
    }
   ],
   "source": [
    "# Here, the variable y can exist both as a local and global variable\n",
    "\n",
    "y = 30\n",
    "\n",
    "def f(y):\n",
    "    y = 10\n",
    "    print(y, \"inside function\")\n",
    "    \n",
    "f(10)\n",
    "print(y, \"outside function\")"
   ]
  },
  {
   "cell_type": "markdown",
   "id": "5ce55531",
   "metadata": {
    "slideshow": {
     "slide_type": "-"
    }
   },
   "source": [
    "Local Variables:\n",
    "\n",
    "\n",
    "Global Variables:\n",
    "\n",
    "\n",
    "Discuss Output:\n",
    "\n"
   ]
  },
  {
   "cell_type": "code",
   "execution_count": 5,
   "id": "1c86abf1",
   "metadata": {
    "slideshow": {
     "slide_type": "slide"
    }
   },
   "outputs": [
    {
     "name": "stdout",
     "output_type": "stream",
     "text": [
      "20 inside function 1\n",
      "10 inside function 2\n",
      "30 outside function\n"
     ]
    }
   ],
   "source": [
    "# Here, the variable y can exist both as a local and global variable\n",
    "\n",
    "y = 30\n",
    "\n",
    "def f(y):\n",
    "    print(y, \"inside function 1\")\n",
    "    y = 10\n",
    "    print(y, \"inside function 2\")\n",
    "    \n",
    "f(20)\n",
    "print(y, \"outside function\")"
   ]
  },
  {
   "cell_type": "markdown",
   "id": "22d114f7",
   "metadata": {
    "slideshow": {
     "slide_type": "-"
    }
   },
   "source": [
    "Why error?\n",
    "\n"
   ]
  },
  {
   "cell_type": "code",
   "execution_count": 6,
   "id": "434b152d",
   "metadata": {
    "slideshow": {
     "slide_type": "slide"
    }
   },
   "outputs": [
    {
     "name": "stdout",
     "output_type": "stream",
     "text": [
      "15 z inside function 1\n",
      "10 y inside function 2\n",
      "30 y outside function\n",
      "30 z outside function\n"
     ]
    }
   ],
   "source": [
    "z = 30\n",
    "\n",
    "def f(z):\n",
    "    print(z, \"z inside function 1\")\n",
    "    y = 10\n",
    "    print(y, \"y inside function 2\")\n",
    "    \n",
    "f(15)\n",
    "print(y, \"y outside function\")\n",
    "print(z, \"z outside function\")"
   ]
  },
  {
   "cell_type": "markdown",
   "id": "a6cc4563",
   "metadata": {
    "slideshow": {
     "slide_type": "-"
    }
   },
   "source": [
    "Local Variables:\n",
    "\n",
    "\n",
    "Global Variables:\n",
    "\n",
    "\n",
    "Discuss Output:\n",
    "\n"
   ]
  },
  {
   "cell_type": "markdown",
   "id": "0fcb1a0c",
   "metadata": {
    "slideshow": {
     "slide_type": "slide"
    }
   },
   "source": [
    "### We now explore scope and variable types in the context of objects"
   ]
  },
  {
   "cell_type": "code",
   "execution_count": 7,
   "id": "686f58a9",
   "metadata": {
    "slideshow": {
     "slide_type": "slide"
    }
   },
   "outputs": [],
   "source": [
    "# Define object for generating pseudorandom numbers\n",
    "\n",
    "class pseudorandom_generator:\n",
    "        \n",
    "    # Declare member variables here.\n",
    "    current_random_number = 0\n",
    "    a = 8269\n",
    "    m = 2**31 - 1\n",
    "    \n",
    "    # Then, we define member functions\n",
    "    def __init__(self, seed):\n",
    "        self.current_random_number = seed\n",
    "    \n",
    "    def get_rand_num(self):\n",
    "        self.current_random_number = self.a*self.current_random_number % self.m\n",
    "        return self.current_random_number"
   ]
  },
  {
   "cell_type": "code",
   "execution_count": 8,
   "id": "36d144ea",
   "metadata": {
    "slideshow": {
     "slide_type": "slide"
    }
   },
   "outputs": [
    {
     "name": "stdout",
     "output_type": "stream",
     "text": [
      "24807\n",
      "205129083\n"
     ]
    }
   ],
   "source": [
    "generator = pseudorandom_generator(3)\n",
    "print(generator.get_rand_num())\n",
    "print(generator.get_rand_num())"
   ]
  },
  {
   "cell_type": "markdown",
   "id": "508e4fe5",
   "metadata": {
    "slideshow": {
     "slide_type": "-"
    }
   },
   "source": [
    "Remember that the object only has one variable `a`, one variable `current_random_number`, and one variable `m`.  These are all referenced with `self.` inside the object, except when they are declared.\n",
    "\n",
    "-------\n",
    "\n",
    "Local Variables:\n",
    "\n",
    "\n",
    "Global Variables:\n",
    "\n",
    "\n",
    "Discuss Output:\n",
    "\n",
    "------\n",
    "\n",
    "Are member variables always local?\n"
   ]
  },
  {
   "cell_type": "code",
   "execution_count": 9,
   "id": "3acda315",
   "metadata": {
    "slideshow": {
     "slide_type": "slide"
    }
   },
   "outputs": [
    {
     "name": "stdout",
     "output_type": "stream",
     "text": [
      "8269\n",
      "3\n"
     ]
    }
   ],
   "source": [
    "a = 3\n",
    "\n",
    "generator2 = pseudorandom_generator(3)\n",
    "print(generator2.a)\n",
    "print(a)"
   ]
  },
  {
   "cell_type": "markdown",
   "id": "644f9c31",
   "metadata": {
    "slideshow": {
     "slide_type": "-"
    }
   },
   "source": [
    "Local Variables:\n",
    "\n",
    "\n",
    "Global Variables:\n",
    "\n",
    "\n",
    "Discuss Output:\n",
    "\n",
    "--------\n",
    "\n",
    "When running the error code cells, they must be run in order.  If you cannot produce an error, you need to restart. Just go to `Runtime --> Restart Session` before running each cell.\n"
   ]
  },
  {
   "cell_type": "code",
   "execution_count": 10,
   "id": "1a95bf95",
   "metadata": {
    "slideshow": {
     "slide_type": "slide"
    }
   },
   "outputs": [
    {
     "name": "stdout",
     "output_type": "stream",
     "text": [
      "24807\n",
      "24807\n",
      "57\n"
     ]
    }
   ],
   "source": [
    "current_random_number = 57\n",
    "\n",
    "generator2 = pseudorandom_generator(3)\n",
    "a_number = generator2.get_rand_num()\n",
    "\n",
    "print(a_number)\n",
    "print(generator2.current_random_number)\n",
    "print(current_random_number)"
   ]
  },
  {
   "cell_type": "markdown",
   "id": "95774032",
   "metadata": {
    "slideshow": {
     "slide_type": "-"
    }
   },
   "source": [
    "Local Variables:\n",
    "\n",
    "\n",
    "Global Variables:\n",
    "\n",
    "\n",
    "Discuss Output:\n"
   ]
  },
  {
   "cell_type": "markdown",
   "id": "903fcaa8",
   "metadata": {
    "slideshow": {
     "slide_type": "slide"
    }
   },
   "source": [
    "### Summary: Variables\n",
    "\n",
    "Variables are used in three phases (1) Declare, (2) Initialize, (3) Get/Set\n",
    "\n",
    "We will distinguish between two types of variables in Python\n",
    "- Local: variable only available inside the code block where it is declared\n",
    "    - Variable declared inside a function or object is LOCAL to only that function and object\n",
    "    - The local variable is available ONLY inside that function or object\n",
    "\n",
    "- Global: variable declared outside of any function or object, and is available anywhere\n",
    "    - Caveat: if you use the same variable name for a local and global variable, this can get confusing.\n",
    "\n"
   ]
  },
  {
   "cell_type": "code",
   "execution_count": null,
   "id": "9d573a80",
   "metadata": {},
   "outputs": [],
   "source": [
    "\n"
   ]
  },
  {
   "cell_type": "markdown",
   "id": "c53c23cc",
   "metadata": {
    "slideshow": {
     "slide_type": "slide"
    }
   },
   "source": [
    "### Coding Tasks\n",
    "1. Continue working on your K-Means assignment from last time\n",
    "2. If you finish with that, work on developing your ideas for your final homework/project\n",
    "    - See handout PDF"
   ]
  },
  {
   "cell_type": "code",
   "execution_count": null,
   "id": "1044a144",
   "metadata": {},
   "outputs": [],
   "source": []
  }
 ],
 "metadata": {
  "celltoolbar": "Slideshow",
  "kernelspec": {
   "display_name": "Python 3 (ipykernel)",
   "language": "python",
   "name": "python3"
  },
  "language_info": {
   "codemirror_mode": {
    "name": "ipython",
    "version": 3
   },
   "file_extension": ".py",
   "mimetype": "text/x-python",
   "name": "python",
   "nbconvert_exporter": "python",
   "pygments_lexer": "ipython3",
   "version": "3.10.8"
  },
  "vp": {
   "vp_config_version": "1.0.0",
   "vp_menu_width": 273,
   "vp_note_display": false,
   "vp_note_width": 0,
   "vp_position": {
    "width": 278
   },
   "vp_section_display": false,
   "vp_signature": "VisualPython"
  }
 },
 "nbformat": 4,
 "nbformat_minor": 5
}
