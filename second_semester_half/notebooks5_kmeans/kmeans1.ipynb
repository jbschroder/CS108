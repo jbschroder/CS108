{
 "cells": [
  {
   "cell_type": "markdown",
   "metadata": {
    "slideshow": {
     "slide_type": "slide"
    }
   },
   "source": [
    "### K-Means Clustering 1\n",
    "-----------\n",
    "\n",
    "This material is based on the previous version of CS108L, see https://cs4all.cs.unm.edu/cs108.html\n",
    "- Credit to Prof. Melanie Moses, Dr. Irene Lee, Dr. Maureen Psaila-Dombrowski, Prof. Dave Ackley and collaborators (see website)"
   ]
  },
  {
   "cell_type": "markdown",
   "metadata": {
    "slideshow": {
     "slide_type": "slide"
    }
   },
   "source": [
    "### Overview of K-Means Clustering\n",
    "\n",
    "Consider the following\n",
    "1. Say your are given N data points.  These can be points in the x-y plane\n",
    "   \n",
    "2. Next, you group these N data points into K groups (also called clusters)\n",
    "\n",
    "3. Each data point will belong to one, and only one group (or cluster)\n",
    "\n",
    "4. Each group (or cluster) will have a centroid (or center of gravity)\n",
    "\n",
    "5. The goal is to make sure that each point is in the group that has the closest centroid (or center of gravity).  "
   ]
  },
  {
   "cell_type": "code",
   "execution_count": 1,
   "metadata": {
    "scrolled": false,
    "slideshow": {
     "slide_type": "slide"
    }
   },
   "outputs": [
    {
     "data": {
      "image/png": "[encoded data removed]",
      "text/plain": [
       "<Figure size 640x480 with 1 Axes>"
      ]
     },
     "metadata": {},
     "output_type": "display_data"
    }
   ],
   "source": [
    "%matplotlib inline\n",
    "import pandas as pd\n",
    "x = [4,  6,  7,  5,  4,  12, 15 , 5, 13, 11]\n",
    "y = [22, 20, 21, 18, 15, 24, 26, 19, 24, 23]\n",
    "\n",
    "df = pd.DataFrame({'x': x, 'y': y})\n",
    "ax = df.plot.scatter(x='x', y='y')"
   ]
  },
  {
   "cell_type": "markdown",
   "metadata": {
    "slideshow": {
     "slide_type": "slide"
    }
   },
   "source": [
    "### This seems simple enough!"
   ]
  },
  {
   "cell_type": "markdown",
   "metadata": {
    "slideshow": {
     "slide_type": "slide"
    }
   },
   "source": [
    "### However, consider this...\n",
    "\n",
    "Say, you have lots of points and groups\n",
    "\n",
    "1. Then, you realize that one point in group 4 needs to move to group 5\n",
    "    - This is because group 5 has a center of gravity closer to this point\n",
    "2. Now, you've modified the center of gravity for both group 4 and group 5!\n",
    "    - Now, you have to check all the points in groups 4 and 5 to make sure they are all still in the right group!\n",
    "    - And if any of them move to a different group, that will further change centers of gravity\n",
    "3. In other words, any change that you make to a point (moving it from one group to another group), could affect every other point!  \n",
    "\n",
    "\n",
    "Overall, solving this problem exactly is NP-hard, which means that solving this problem exactly is too computationally expensive."
   ]
  },
  {
   "cell_type": "markdown",
   "metadata": {
    "slideshow": {
     "slide_type": "slide"
    }
   },
   "source": [
    "### But, we have the K-Means algorithm for reasonable approximate solutions\n",
    "1. K-Means starts of with K random guesses for each of the K group centers\n",
    "2. Then, all the points are assigned to the group center that they are closest to\n",
    "3. Then, the group center is adjusted to better reflect the current center of gravity for each group.\n",
    "    - Steps 2  and 3 are then repeated, until the user stops the process "
   ]
  },
  {
   "cell_type": "markdown",
   "metadata": {
    "slideshow": {
     "slide_type": "slide"
    }
   },
   "source": [
    "### More formally, the K-Means problem is the following.\n",
    "\n",
    "We have a set of points, $x_1, x_2, x_3, \\dots, x_N$.  And we want to find K groups (clusters) called $S = \\{ S_0, S_1, S_2, \\dots, S_K \\} $ that satisfy the following\n",
    "\n",
    "$$ \\arg \\min_S \\sum^k_{i=1} \\sum_{x \\in S_i} | x - \\mu_i |^2 $$\n",
    "\n",
    "where $\\mu_i$ is the centroid, or center of gravity for group (cluster) $S_i$\n",
    "\n",
    "$$ \\mu_i = \\frac{1}{|S_i|} \\sum_{x \\in S_i} x .$$\n",
    "\n",
    "The notation $| S_i |$ refers to the size, or number of points in $S_i$, and $| x - \\mu_i |$ is the distance between point $x$ and centroid $\\mu_i$.\n",
    "\n",
    "==> This explanation is here for completeness.  Make sure that you at least develop some intuition for the K-Means algorithm."
   ]
  },
  {
   "cell_type": "markdown",
   "metadata": {
    "slideshow": {
     "slide_type": "slide"
    }
   },
   "source": [
    "### Learning Goals\n",
    "- Learn the basics of the K-Means algorithm\n",
    "- Learn how to apply the K-Means algorithm and visualize the results\n",
    "- Learn how to use the \"elbow\" test to determine how many groups (or clusters) are needed"
   ]
  },
  {
   "cell_type": "markdown",
   "metadata": {
    "slideshow": {
     "slide_type": "slide"
    }
   },
   "source": [
    "### Luckily, we don't have to implement or write the K-Means algorithm!  \n",
    "\n",
    "### It's so popular, that we can just import an existing library implementation"
   ]
  },
  {
   "cell_type": "code",
   "execution_count": 2,
   "metadata": {
    "slideshow": {
     "slide_type": "slide"
    }
   },
   "outputs": [],
   "source": [
    "%matplotlib inline\n",
    "\n",
    "# K-Means toolkit\n",
    "from sklearn.cluster import KMeans\n",
    "\n",
    "# Data manipulation and analysis.\n",
    "import pandas as pd\n"
   ]
  },
  {
   "cell_type": "markdown",
   "metadata": {
    "slideshow": {
     "slide_type": "slide"
    }
   },
   "source": [
    "### To begin, let's look at our sample set of points below"
   ]
  },
  {
   "cell_type": "code",
   "execution_count": 3,
   "metadata": {
    "scrolled": false,
    "slideshow": {
     "slide_type": "-"
    }
   },
   "outputs": [
    {
     "data": {
      "image/png": "[encoded data removed]",
      "text/plain": [
       "<Figure size 640x480 with 1 Axes>"
      ]
     },
     "metadata": {},
     "output_type": "display_data"
    }
   ],
   "source": [
    "x = [4,  6,  7,  5,  4,  12, 15 , 5, 13, 11]\n",
    "y = [22, 20, 21, 18, 15, 24, 26, 19, 24, 23]\n",
    "df = pd.DataFrame({'x': x, 'y': y})\n",
    "ax = df.plot.scatter(x='x', y='y')"
   ]
  },
  {
   "cell_type": "markdown",
   "metadata": {
    "slideshow": {
     "slide_type": "slide"
    }
   },
   "source": [
    "### Next, let's look at  a simple coloring of the points \n",
    "- Not using K-Means yet.  \n",
    "- We're just coloring naively, with no thought\n",
    "- Note how the list `c` has the same length as `x` and `y`.  It contains the color for each point"
   ]
  },
  {
   "cell_type": "code",
   "execution_count": 4,
   "metadata": {
    "slideshow": {
     "slide_type": "-"
    }
   },
   "outputs": [
    {
     "data": {
      "image/png": "[encoded data removed]",
      "text/plain": [
       "<Figure size 640x480 with 1 Axes>"
      ]
     },
     "metadata": {},
     "output_type": "display_data"
    }
   ],
   "source": [
    "# scatter with color list, showing them how to do that\n",
    "c = ['orange', 'purple', 'orange', 'purple', 'orange', 'purple', 'orange', 'purple', 'orange', 'purple']\n",
    "ax = df.plot.scatter(x='x', y='y', c=c)"
   ]
  },
  {
   "cell_type": "markdown",
   "metadata": {
    "slideshow": {
     "slide_type": "slide"
    }
   },
   "source": [
    "### But this doesn't look very good! \n",
    "\n",
    "### The yellow points are group 1, and the purple points are group 2\n",
    "\n",
    "### The points close together are NOT grouped together!\n",
    "\n",
    "### Let's apply K-Means"
   ]
  },
  {
   "cell_type": "markdown",
   "metadata": {
    "slideshow": {
     "slide_type": "slide"
    }
   },
   "source": [
    "### However, first for K-Means, we need to get our data in the right format\n",
    "\n",
    "### Task:  create a new list called `data` that combines `x` and `y` to look like this \n",
    "\n",
    "     print(data) \n",
    "     \n",
    "     [(4, 22), (6, 20), (7, 23), (5, 18), (4, 15), (12, 24), (15, 26), (5, 19), (13, 24), (11, 23)]\n"
   ]
  },
  {
   "cell_type": "code",
   "execution_count": null,
   "metadata": {},
   "outputs": [],
   "source": [
    "# create new list called data\n",
    "\n"
   ]
  },
  {
   "cell_type": "markdown",
   "metadata": {
    "slideshow": {
     "slide_type": "slide"
    }
   },
   "source": [
    "### Now, we can run K-Means"
   ]
  },
  {
   "cell_type": "code",
   "execution_count": null,
   "metadata": {
    "slideshow": {
     "slide_type": "-"
    }
   },
   "outputs": [],
   "source": [
    "kmeans = KMeans(n_clusters=2)\n",
    "kmeans.fit(data)\n"
   ]
  },
  {
   "cell_type": "markdown",
   "metadata": {
    "slideshow": {
     "slide_type": "slide"
    }
   },
   "source": [
    "### Print your output\n",
    "\n",
    "Your output should be either\n",
    "\n",
    "     [0 0 0 0 0 1 1 0 1 1]\n",
    "\n",
    "Or\n",
    "\n",
    "     [1 1 1 1 1 0 0 1 0 0]"
   ]
  },
  {
   "cell_type": "code",
   "execution_count": null,
   "metadata": {
    "slideshow": {
     "slide_type": "-"
    }
   },
   "outputs": [],
   "source": [
    "print(kmeans.labels_)"
   ]
  },
  {
   "cell_type": "markdown",
   "metadata": {
    "slideshow": {
     "slide_type": "slide"
    }
   },
   "source": [
    "### The output of K-Means can change!\n",
    "- K-Means always starts with random initial guesses to the groups of points.\n",
    "- So, each time you run K-Means, you might get a different answer"
   ]
  },
  {
   "cell_type": "markdown",
   "metadata": {
    "slideshow": {
     "slide_type": "slide"
    }
   },
   "source": [
    "### Let's examine the labels in more detail\n",
    "\n",
    "1. We execute K-Means as follows\n",
    "\n",
    "        kmeans = KMeans(n_clusters=2)\n",
    "        kmeans.fit(data)\n",
    "\n",
    "2. And then the labels are located here\n",
    "\n",
    "        kmeans.labels_\n",
    "\n",
    "3. Point 0 is in group `kmeans.labels_[0]`.  Point 1 is in group `kmeans.labels_[1]`, and so on.   \n",
    "\n",
    "4. So if \n",
    "\n",
    "        kmeans.labels_ = [1 1 1 1 1 0 0 1 0 0]\n",
    "\n",
    "   Then, points 0, 1, 2, 3, 4, and 7 are in the same group.  Points 5, 6, 8 and 9 are in the other."
   ]
  },
  {
   "cell_type": "markdown",
   "metadata": {
    "slideshow": {
     "slide_type": "slide"
    }
   },
   "source": [
    "### Note regarding groups:\n",
    "\n",
    "It doesn't matter if `0, 1, 2, 3, 4, and 7` are in group 0 and `5, 6, 8 and 9` are in group  1.  \n",
    "\n",
    "Or the flip, if `0, 1, 2, 3, 4, and 7` are in group 1 and `5, 6, 8 and 9` are in group 0.  \n",
    "\n",
    "All that matters is that they are in different groups, because these points form different groupings.\n",
    "\n",
    "### Stop and ask if you need help understanding how points are in certain groups\n",
    "- Remember group means the same thing as cluster"
   ]
  },
  {
   "cell_type": "markdown",
   "metadata": {
    "slideshow": {
     "slide_type": "slide"
    }
   },
   "source": [
    "### Task: Create a loop that prints out each point and it's group  number\n",
    "\n",
    "Your output should look like this\n",
    "\n",
    "        point: (4, 22) is in group 0\n",
    "        point: (6, 20) is in group 0\n",
    "        point: (7, 21) is in group 0\n",
    "        point: (5, 18) is in group 0\n",
    "        point: (4, 15) is in group 0\n",
    "        point: (12, 24) is in group 1\n",
    "        point: (15, 26) is in group 1\n",
    "        point: (5, 19) is in group 0\n",
    "        point: (13, 24) is in group 1\n",
    "        point: (11, 23) is in group 1\n",
    "        \n",
    "        \n",
    "Or the flip,\n",
    "\n",
    "        point: (4, 22) is in group 1\n",
    "        point: (6, 20) is in group 1\n",
    "        point: (7, 21) is in group 1\n",
    "        point: (5, 18) is in group 1\n",
    "        point: (4, 15) is in group 1\n",
    "        point: (12, 24) is in group 0\n",
    "        point: (15, 26) is in group 0\n",
    "        point: (5, 19) is in group 1\n",
    "        point: (13, 24) is in group 0\n",
    "        point: (11, 23) is in group 0"
   ]
  },
  {
   "cell_type": "code",
   "execution_count": null,
   "metadata": {},
   "outputs": [],
   "source": [
    "# Create loop here\n",
    "\n"
   ]
  },
  {
   "cell_type": "markdown",
   "metadata": {
    "slideshow": {
     "slide_type": "slide"
    }
   },
   "source": [
    "### Task.  Next, we need to generate an informative plot.  \n",
    "\n",
    "### Create a list `c` that equals \n",
    "\n",
    "    ['orange', 'orange', 'orange', 'orange', 'orange', 'purple', 'purple', 'orange', 'purple', 'purple']\n",
    "    \n",
    "Or\n",
    "\n",
    "    ['purple', 'purple', 'purple', 'purple', 'purple', 'orange', 'orange', 'purple', 'orange', 'orange']\n",
    "\n",
    "where entry k of the list equals `colors[ kmeans.labels_[k] ]`.  \n",
    "\n",
    "That is  `c[k]` should equal `colors[ kmeans.labels_[k] ]`."
   ]
  },
  {
   "cell_type": "code",
   "execution_count": null,
   "metadata": {},
   "outputs": [],
   "source": [
    "# Create list c\n",
    "\n"
   ]
  },
  {
   "cell_type": "markdown",
   "metadata": {
    "slideshow": {
     "slide_type": "slide"
    }
   },
   "source": [
    "### Task: Now, do a scatter plot with your new list `c`\n",
    "\n",
    "You should get a picture like (or possibly with the colors flipped)\n",
    "\n",
    "<img src=\"https://raw.githubusercontent.com/jbschroder/CS108/main/lecture_images/kmeans_scatter.png\" width=\"450\">"
   ]
  },
  {
   "cell_type": "code",
   "execution_count": null,
   "metadata": {},
   "outputs": [],
   "source": [
    "# Create scatter plot here\n",
    "\n"
   ]
  },
  {
   "cell_type": "markdown",
   "metadata": {
    "slideshow": {
     "slide_type": "slide"
    }
   },
   "source": [
    "### Remember, that each group (cluster) has a center.  \n",
    "\n",
    "### Lets take a look"
   ]
  },
  {
   "cell_type": "code",
   "execution_count": null,
   "metadata": {
    "slideshow": {
     "slide_type": "-"
    }
   },
   "outputs": [],
   "source": [
    "center0 = kmeans.cluster_centers_[0]\n",
    "center1 = kmeans.cluster_centers_[1]\n",
    "print(\"center 0:\", center0)\n",
    "print(\"center 1:\", center1)\n"
   ]
  },
  {
   "cell_type": "markdown",
   "metadata": {
    "slideshow": {
     "slide_type": "slide"
    }
   },
   "source": [
    "### Now, we plot our centers.\n",
    "\n",
    "After a scatter plot, you can still put new information in your plot using `ax`.  For instance, to plot center 0 in orange, you would do\n",
    "\n",
    "        ax.plot(center0[0], center0[1], 'x', c='orange')\n",
    "        \n",
    "Task: Insert code in below cell to do both a scatter plot, and plot the centers\n",
    " - Plot center 0 in the correct color (orange or purple)\n",
    " - Plot center 1 in the correct color (orange or purple)\n",
    "\n",
    "You should get a picture like \n",
    "<img src=\"https://raw.githubusercontent.com/jbschroder/CS108/main/lecture_images/kmeans_scatter_w_centroid.png\" width=\"450\">"
   ]
  },
  {
   "cell_type": "code",
   "execution_count": null,
   "metadata": {},
   "outputs": [],
   "source": [
    "# Plot centers using ax.plot(...)\n",
    "\n"
   ]
  },
  {
   "cell_type": "markdown",
   "metadata": {
    "slideshow": {
     "slide_type": "slide"
    }
   },
   "source": [
    "### Inertia with K-Means\n",
    "\n",
    "- Inertia is the sum of the distance between every point in a group (cluster) and the center\n",
    "<img src=\"https://raw.githubusercontent.com/jbschroder/CS108/main/lecture_images/kmeans_inertia2.png\" width=\"350\">\n",
    "\n",
    "- What do you think a good value for inertia is for a group?  Large or small?\n",
    "\n",
    "- What happens if we go from 2 groups to 3 groups and inertia doesn't change much?\n"
   ]
  },
  {
   "cell_type": "markdown",
   "metadata": {
    "slideshow": {
     "slide_type": "slide"
    }
   },
   "source": [
    "### We want small inertias\n",
    "\n",
    "### A small inertia means that all the points are close to their group's center\n",
    "\n",
    "### If going from K groups to K+1 groups doesn't change the inertia much, then we have enough groups.\n"
   ]
  },
  {
   "cell_type": "markdown",
   "metadata": {
    "slideshow": {
     "slide_type": "slide"
    }
   },
   "source": [
    "### Task: Run the below code cell.  This code generates K-Means using 1 group, then 2 groups, then 3 groups, up to 10 groups.\n",
    "- Remember group means the same thing as cluster\n",
    "- So, you will be setting the paramter `n_clusters` \n",
    "\n",
    "\n",
    "### The list `inertias[k]` stores the inertia when using `k` groups\n",
    "\n",
    "### Task: Convert `inertias` to a dataframe and generate a plot that looks like this\n",
    "- Make sure to give title and xlabel and ylabel\n",
    "\n",
    "<img src=\"https://raw.githubusercontent.com/jbschroder/CS108/main/lecture_images/kmeans_inertia1.png\" width=\"450\">\n",
    "\n"
   ]
  },
  {
   "cell_type": "code",
   "execution_count": null,
   "metadata": {
    "slideshow": {
     "slide_type": "slide"
    }
   },
   "outputs": [],
   "source": [
    "## Ignore warnings, we're just exploring\n",
    "inertias = []\n",
    "\n",
    "for i in range(1,11):\n",
    "    kmeans = KMeans(n_clusters=i)\n",
    "    kmeans.fit(data)\n",
    "    inertias.append(kmeans.inertia_)\n",
    "\n"
   ]
  },
  {
   "cell_type": "code",
   "execution_count": null,
   "metadata": {},
   "outputs": [],
   "source": [
    "# Generate inertia plot\n",
    "\n"
   ]
  },
  {
   "cell_type": "markdown",
   "metadata": {
    "slideshow": {
     "slide_type": "slide"
    }
   },
   "source": [
    "### Task: How many groups (clusters) do you think you need?\n",
    "\n",
    "### Does going from 2 groups to 3 groups, or from 3 groups to 4 groups lower the inertia by much?\n",
    "\n",
    "### Insert your discusion in the below cell using this template\n",
    "\n",
    "\n",
    "Application of a Quantitative Model: K-Means\n",
    "1. Describe the model used (K-Means)\n",
    "    - What is K-means.  How does K-Means work?  \n",
    "    - What do we use K-Means for?  To quantitatively analyze data...\n",
    "2. Plot your data after K-Means to show the application of the model\n",
    "  - Possibly plot for various numbers of groups (clusters)\n",
    "  - Show and discuss elbow plot\n",
    "  - Show that you've explored the model\n"
   ]
  },
  {
   "cell_type": "markdown",
   "metadata": {},
   "source": [
    "insert discussion"
   ]
  },
  {
   "cell_type": "code",
   "execution_count": null,
   "metadata": {},
   "outputs": [],
   "source": []
  },
  {
   "cell_type": "markdown",
   "metadata": {
    "slideshow": {
     "slide_type": "slide"
    }
   },
   "source": [
    "\n",
    "    "
   ]
  },
  {
   "cell_type": "code",
   "execution_count": null,
   "metadata": {},
   "outputs": [],
   "source": []
  }
 ],
 "metadata": {
  "anaconda-cloud": {},
  "celltoolbar": "Slideshow",
  "kernelspec": {
   "display_name": "Python 3 (ipykernel)",
   "language": "python",
   "name": "python3"
  },
  "language_info": {
   "codemirror_mode": {
    "name": "ipython",
    "version": 3
   },
   "file_extension": ".py",
   "mimetype": "text/x-python",
   "name": "python",
   "nbconvert_exporter": "python",
   "pygments_lexer": "ipython3",
   "version": "3.10.8"
  },
  "widgets": {
   "state": {},
   "version": "1.1.2"
  }
 },
 "nbformat": 4,
 "nbformat_minor": 4
}
