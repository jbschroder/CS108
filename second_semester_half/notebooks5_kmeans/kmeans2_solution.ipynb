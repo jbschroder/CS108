{
 "cells": [
  {
   "cell_type": "markdown",
   "metadata": {
    "slideshow": {
     "slide_type": "slide"
    }
   },
   "source": [
    "### K-Means Clustering 2\n",
    "-----------\n",
    "\n",
    "This material is based on the previous version of CS108L, see https://cs4all.cs.unm.edu/cs108.html\n",
    "- Credit to Prof. Melanie Moses, Dr. Irene Lee, Dr. Maureen Psaila-Dombrowski, Prof. Dave Ackley and collaborators (see website)\n",
    "\n",
    "-----------\n",
    "\n",
    "The material on loan data is a modified version of this example\n",
    "https://datahack.analyticsvidhya.com/contest/practice-problem-loan-prediction-iii/\n",
    "https://drive.google.com/file/d/1ZzEouo7lRJvajxK6jLM2K_p9xAwGw1tS/view?usp=sharing"
   ]
  },
  {
   "cell_type": "markdown",
   "metadata": {
    "slideshow": {
     "slide_type": "slide"
    }
   },
   "source": [
    "### Learning Goals\n",
    "- Continue learning the basics of the K-Means algorithm\n",
    "- Learn how to apply the K-Means algorithm to larger library dataset on bank loans\n",
    "- Practice using the \"elbow\" test to determine how many groups (or clusters) are needed\n",
    "    - Use inertia plot"
   ]
  },
  {
   "cell_type": "markdown",
   "metadata": {
    "slideshow": {
     "slide_type": "slide"
    }
   },
   "source": [
    "### Overview of K-Means Clustering\n",
    "\n",
    "Consider the following\n",
    "1. Say your are given N data points.  These can be points in the x-y plane\n",
    "   \n",
    "2. Next, you group these N data points into K groups (also called clusters)\n",
    "\n",
    "3. Each data point will belong to one, and only one group (or cluster)\n",
    "\n",
    "4. Each cluster will have a centroid (or center of gravity)\n",
    "\n",
    "5. The goal is to make sure that each point is in the group that has the closest centroid (or center of gravity).  "
   ]
  },
  {
   "cell_type": "markdown",
   "metadata": {
    "slideshow": {
     "slide_type": "slide"
    }
   },
   "source": [
    "### Import the K-Means and Pandas toolkits\n",
    "- Luckily, we don't have to implement K-Means"
   ]
  },
  {
   "cell_type": "code",
   "execution_count": 1,
   "metadata": {
    "slideshow": {
     "slide_type": "-"
    }
   },
   "outputs": [],
   "source": [
    "%matplotlib inline\n",
    "\n",
    "# K-Means toolkit\n",
    "from sklearn.cluster import KMeans\n",
    "\n",
    "# Data manipulation and analysis.\n",
    "import pandas as pd\n"
   ]
  },
  {
   "cell_type": "markdown",
   "metadata": {
    "slideshow": {
     "slide_type": "slide"
    }
   },
   "source": [
    "### We can visualize the results of K-Means with the following for a simple dataset"
   ]
  },
  {
   "cell_type": "code",
   "execution_count": 2,
   "metadata": {
    "slideshow": {
     "slide_type": "-"
    }
   },
   "outputs": [],
   "source": [
    "x = [4,  6,  7,  5,  4,  12, 15 , 5, 13, 11]\n",
    "y = [22, 20, 21, 18, 15, 24, 26, 18, 24, 23]\n",
    "data = []\n",
    "for i in range(10):\n",
    "    data.append( (x[i], y[i]) )\n"
   ]
  },
  {
   "cell_type": "markdown",
   "metadata": {
    "slideshow": {
     "slide_type": "slide"
    }
   },
   "source": [
    "### Carry out the clustering algorithm using 2 clusters\n",
    "- All the purple points are in cluster 1\n",
    "- All the yellow points are in cluster 2"
   ]
  },
  {
   "cell_type": "code",
   "execution_count": 3,
   "metadata": {
    "slideshow": {
     "slide_type": "-"
    }
   },
   "outputs": [
    {
     "data": {
      "image/png": "[encoded data removed]",
      "text/plain": [
       "<Figure size 640x480 with 1 Axes>"
      ]
     },
     "metadata": {},
     "output_type": "display_data"
    }
   ],
   "source": [
    "kmeans = KMeans(n_clusters=2)\n",
    "kmeans.fit(data)\n",
    "\n",
    "# Create list of color for each point\n",
    "colors = [ 'orange', 'purple']\n",
    "c = [colors[k] for k in kmeans.labels_]\n",
    "\n",
    "# Scatter plot the data clusters\n",
    "df = pd.DataFrame({'x': x, 'y': y})\n",
    "ax = df.plot.scatter(x='x', y='y', c=c)"
   ]
  },
  {
   "cell_type": "markdown",
   "metadata": {
    "slideshow": {
     "slide_type": "slide"
    }
   },
   "source": [
    "### This seems simple enough!\n",
    "\n",
    "### But, remember that this is an NP-hard problem to solve exactly\n",
    "   - Just means very, very expensive -- basically too expensive\n",
    "\n",
    "### Why? Consider this\n",
    "- Say, you have lots of points and groups\n",
    "- Then, you realize that one point in group 4 needs to move to group 5\n",
    "    - This is because group 5 has a center of gravity closer to this point\n",
    "- Now, you've modified the center of gravity for both group 4 and group 5!\n",
    "    - Now, you have to check all the points in groups 4 and 5 to make sure they are all still in the right group!\n",
    "    - And if any of them move to a different group, that will further change centers of gravity\n",
    "- In other words, any change that you make to a point (moving it from one group to another group), could affect every other point!  \n"
   ]
  },
  {
   "cell_type": "markdown",
   "metadata": {
    "slideshow": {
     "slide_type": "slide"
    }
   },
   "source": [
    "### But, we have the K-Means algorithm for reasonable approximate solutions\n",
    "1. K-Means starts of with K random guesses for each of the K group centers\n",
    "2. Then, all the points are assigned to the group center that they are closest to\n",
    "3. Then, the group center is adjusted to better reflect the current center of gravity for each group.\n",
    "    - Steps 2  and 3 are then repeated, until the user stops the process \n",
    "    \n",
    "See the previous lab file for the equations governing the K-Means problem"
   ]
  },
  {
   "cell_type": "markdown",
   "metadata": {
    "slideshow": {
     "slide_type": "slide"
    }
   },
   "source": [
    "### Inertia Review with K-Means\n",
    "\n",
    "- Inertia is the sum of the distance between every point in a cluster and the center\n",
    "<img src=\"https://raw.githubusercontent.com/jbschroder/CS108/main/lecture_images/kmeans_inertia2.png\" width=\"350\">\n",
    "\n",
    "- What do you think a good value for inertia is for a cluster?  Large or small?\n",
    "\n",
    "- What happens if we go from 2 clusters to 3 clusters and inertia doesn't change much?\n",
    "\n"
   ]
  },
  {
   "cell_type": "markdown",
   "metadata": {
    "slideshow": {
     "slide_type": "slide"
    }
   },
   "source": [
    "### We want small inertias\n",
    "- A small inertia means that all the points are close to their group's center\n",
    "- If going from K groups to K+1 groups doesn't change the inertia much, then we have enough groups.\n",
    "\n",
    "\n",
    "### Consider this sample inertia plot.\n",
    "- The plot tells us that 2 groups is likely enough\n",
    "\n",
    "<img src=\"https://raw.githubusercontent.com/jbschroder/CS108/main/lecture_images/kmeans_inertia1.png\" width=\"450\">\n",
    "\n"
   ]
  },
  {
   "cell_type": "markdown",
   "metadata": {
    "slideshow": {
     "slide_type": "slide"
    }
   },
   "source": [
    "### Begin Material for Lab 2 on K-Means"
   ]
  },
  {
   "cell_type": "markdown",
   "metadata": {
    "slideshow": {
     "slide_type": "slide"
    }
   },
   "source": [
    "### Download a library data file on bank loan information for hypothetical customers\n",
    "    "
   ]
  },
  {
   "cell_type": "code",
   "execution_count": 4,
   "metadata": {
    "slideshow": {
     "slide_type": "-"
    }
   },
   "outputs": [
    {
     "name": "stdout",
     "output_type": "stream",
     "text": [
      "You downloaded the file loan_clustering2.csv\n"
     ]
    }
   ],
   "source": [
    "# House cleaning part 1\n",
    "# IMPORT CLUSTERING 2\n",
    "from urllib.request import urlretrieve\n",
    "(file, message) = urlretrieve('https://raw.githubusercontent.com/jbschroder/CS108/main/second_semester_half/notebooks5_kmeans/loan_clustering2.csv', 'loan_clustering2.csv')\n",
    "print(\"You downloaded the file \" + file)"
   ]
  },
  {
   "cell_type": "markdown",
   "metadata": {
    "slideshow": {
     "slide_type": "slide"
    }
   },
   "source": [
    "### Next, we take a look at the file\n",
    "- Note that pandas can easily read this data from file "
   ]
  },
  {
   "cell_type": "code",
   "execution_count": 5,
   "metadata": {
    "slideshow": {
     "slide_type": "slide"
    }
   },
   "outputs": [
    {
     "data": {
      "text/html": [
       "<div>\n",
       "<style scoped>\n",
       "    .dataframe tbody tr th:only-of-type {\n",
       "        vertical-align: middle;\n",
       "    }\n",
       "\n",
       "    .dataframe tbody tr th {\n",
       "        vertical-align: top;\n",
       "    }\n",
       "\n",
       "    .dataframe thead th {\n",
       "        text-align: right;\n",
       "    }\n",
       "</style>\n",
       "<table border=\"1\" class=\"dataframe\">\n",
       "  <thead>\n",
       "    <tr style=\"text-align: right;\">\n",
       "      <th></th>\n",
       "      <th>Loan_ID</th>\n",
       "      <th>Gender</th>\n",
       "      <th>Married</th>\n",
       "      <th>Dependents</th>\n",
       "      <th>Education</th>\n",
       "      <th>Self_Employed</th>\n",
       "      <th>ApplicantIncome</th>\n",
       "      <th>CoapplicantIncome</th>\n",
       "      <th>LoanAmount</th>\n",
       "      <th>Loan_Amount_Term</th>\n",
       "      <th>Credit_History</th>\n",
       "      <th>Property_Area</th>\n",
       "      <th>Loan_Status</th>\n",
       "    </tr>\n",
       "  </thead>\n",
       "  <tbody>\n",
       "    <tr>\n",
       "      <th>0</th>\n",
       "      <td>LP001003</td>\n",
       "      <td>Male</td>\n",
       "      <td>Yes</td>\n",
       "      <td>1</td>\n",
       "      <td>Graduate</td>\n",
       "      <td>No</td>\n",
       "      <td>4583</td>\n",
       "      <td>1508.0</td>\n",
       "      <td>128</td>\n",
       "      <td>360</td>\n",
       "      <td>1</td>\n",
       "      <td>Rural</td>\n",
       "      <td>N</td>\n",
       "    </tr>\n",
       "    <tr>\n",
       "      <th>1</th>\n",
       "      <td>LP001005</td>\n",
       "      <td>Male</td>\n",
       "      <td>Yes</td>\n",
       "      <td>0</td>\n",
       "      <td>Graduate</td>\n",
       "      <td>Yes</td>\n",
       "      <td>3000</td>\n",
       "      <td>0.0</td>\n",
       "      <td>66</td>\n",
       "      <td>360</td>\n",
       "      <td>1</td>\n",
       "      <td>Urban</td>\n",
       "      <td>Y</td>\n",
       "    </tr>\n",
       "    <tr>\n",
       "      <th>2</th>\n",
       "      <td>LP001006</td>\n",
       "      <td>Male</td>\n",
       "      <td>Yes</td>\n",
       "      <td>0</td>\n",
       "      <td>Not Graduate</td>\n",
       "      <td>No</td>\n",
       "      <td>2583</td>\n",
       "      <td>2358.0</td>\n",
       "      <td>120</td>\n",
       "      <td>360</td>\n",
       "      <td>1</td>\n",
       "      <td>Urban</td>\n",
       "      <td>Y</td>\n",
       "    </tr>\n",
       "    <tr>\n",
       "      <th>3</th>\n",
       "      <td>LP001008</td>\n",
       "      <td>Male</td>\n",
       "      <td>No</td>\n",
       "      <td>0</td>\n",
       "      <td>Graduate</td>\n",
       "      <td>No</td>\n",
       "      <td>6000</td>\n",
       "      <td>0.0</td>\n",
       "      <td>141</td>\n",
       "      <td>360</td>\n",
       "      <td>1</td>\n",
       "      <td>Urban</td>\n",
       "      <td>Y</td>\n",
       "    </tr>\n",
       "    <tr>\n",
       "      <th>4</th>\n",
       "      <td>LP001013</td>\n",
       "      <td>Male</td>\n",
       "      <td>Yes</td>\n",
       "      <td>0</td>\n",
       "      <td>Not Graduate</td>\n",
       "      <td>No</td>\n",
       "      <td>2333</td>\n",
       "      <td>1516.0</td>\n",
       "      <td>95</td>\n",
       "      <td>360</td>\n",
       "      <td>1</td>\n",
       "      <td>Urban</td>\n",
       "      <td>Y</td>\n",
       "    </tr>\n",
       "  </tbody>\n",
       "</table>\n",
       "</div>"
      ],
      "text/plain": [
       "    Loan_ID Gender Married  Dependents     Education Self_Employed  \\\n",
       "0  LP001003   Male     Yes           1      Graduate            No   \n",
       "1  LP001005   Male     Yes           0      Graduate           Yes   \n",
       "2  LP001006   Male     Yes           0  Not Graduate            No   \n",
       "3  LP001008   Male      No           0      Graduate            No   \n",
       "4  LP001013   Male     Yes           0  Not Graduate            No   \n",
       "\n",
       "   ApplicantIncome  CoapplicantIncome  LoanAmount  Loan_Amount_Term  \\\n",
       "0             4583             1508.0         128               360   \n",
       "1             3000                0.0          66               360   \n",
       "2             2583             2358.0         120               360   \n",
       "3             6000                0.0         141               360   \n",
       "4             2333             1516.0          95               360   \n",
       "\n",
       "   Credit_History Property_Area Loan_Status  \n",
       "0               1         Rural           N  \n",
       "1               1         Urban           Y  \n",
       "2               1         Urban           Y  \n",
       "3               1         Urban           Y  \n",
       "4               1         Urban           Y  "
      ]
     },
     "execution_count": 5,
     "metadata": {},
     "output_type": "execute_result"
    }
   ],
   "source": [
    "data=pd.read_csv(\"loan_clustering2.csv\", comment='#')\n",
    "data.head()"
   ]
  },
  {
   "cell_type": "markdown",
   "metadata": {
    "slideshow": {
     "slide_type": "slide"
    }
   },
   "source": [
    "### Our goal is to use K-Means to help with the loan process\n",
    "- This data is for hypothetical historical loan information\n",
    "- We want to cluster the information.  \n",
    "- Are the people who got loans clustered together?\n",
    "- If so, then we can use that information"
   ]
  },
  {
   "cell_type": "markdown",
   "metadata": {
    "slideshow": {
     "slide_type": "slide"
    }
   },
   "source": [
    "### Say, we are given a new customer who just applied for a loan.  \n",
    "- We can see which cluster they are closest to\n",
    "- If they are closest to a \"yes loan\" cluster, then this person could be approved.\n",
    "- If they are closest to a \"no loan\" cluster, then this person maybe should not be approved.\n",
    "\n",
    "<img src=\"https://raw.githubusercontent.com/jbschroder/CS108/main/lecture_images/kmeans_inertia2.png\" width=\"350\">\n",
    "\n",
    "\n",
    "- We will discuss the ethics of this below."
   ]
  },
  {
   "cell_type": "markdown",
   "metadata": {
    "slideshow": {
     "slide_type": "slide"
    }
   },
   "source": [
    "### We can still apply K-Means here, because we can compute distances between points\n",
    "- Each point is a Loan above, a single line in `data`\n",
    "- Say, point1 and point2 are two lines in `data`.  Then the distance is\n",
    "\n",
    "        point1 = (Dependents1, ApplicantIncome1, CoapplicantIncome1, CreditHistory1)\n",
    "        point2 = (Dependents2, ApplicantIncome2, CoapplicantIncome2, CreditHistory2)\n",
    "\n",
    "        distance = square_root( (Dependents1 - Dependents2)**2 + \n",
    "                                (ApplicantIncome1 - ApplicantIncome2)**2 + \n",
    "                                (CoapplicantIncome1 - CoapplicantIncome2)**2 +\n",
    "                                (CreditHistory1 - CreditHistory2)**2 )\n",
    "                                \n",
    "- This is the same distance formula that you are used to in the x-y plane"
   ]
  },
  {
   "cell_type": "markdown",
   "metadata": {
    "slideshow": {
     "slide_type": "slide"
    }
   },
   "source": [
    "### But, how do we compute distances based on Yes/No data like Self_Employed, or education data like Graduate/Not Graduate?\n",
    "   - There are strategies for dealing with this, but let's ignore this data for now.\n",
    "\n",
    "### So, we just take the numeric data for K-Means in the Dependents, ApplicantIncome, CoapplicantIncome, and CreditHistory"
   ]
  },
  {
   "cell_type": "code",
   "execution_count": 25,
   "metadata": {
    "slideshow": {
     "slide_type": "-"
    }
   },
   "outputs": [],
   "source": [
    "data_numeric = data[['Dependents', 'ApplicantIncome', 'CoapplicantIncome', 'Credit_History']]"
   ]
  },
  {
   "cell_type": "markdown",
   "metadata": {},
   "source": [
    "### But, the data are scaled very differently\n",
    "- Some columns are between 0 and 1\n",
    "- And others are in the thousands (like income) \n",
    "- We need to scaled the data, so that each column is of similar size \n",
    "   - Otherwise, the distance between points would be very skewed by the large columns\n",
    "   - Divide each column by largest value would be the simplest "
   ]
  },
  {
   "cell_type": "code",
   "execution_count": 42,
   "metadata": {
    "scrolled": false
   },
   "outputs": [],
   "source": [
    "from sklearn.preprocessing import StandardScaler\n",
    "scaler = StandardScaler()\n",
    "data_numeric_scaled = scaler.fit_transform(data_numeric)"
   ]
  },
  {
   "cell_type": "markdown",
   "metadata": {},
   "source": [
    "### Task:  Carry out K-Means on `data_numeric_scaled`\n",
    "- Use the same strategy as in the last lab\n",
    "- Apply K-Means for 1 cluster through 10 groups\n",
    "   - Compute the inertia for each number of groups\n",
    "\n",
    "### Task: Generate elbow plot for the inertia\n",
    "   \n",
    "### Task: What is a good number of groups to use? \n"
   ]
  },
  {
   "cell_type": "code",
   "execution_count": 43,
   "metadata": {},
   "outputs": [],
   "source": [
    "# Insert K-Means runs here\n",
    "\n",
    "\n",
    "## Solution File Only\n",
    "# \n",
    "inertias = []\n",
    "\n",
    "for i in range(1,11):\n",
    "    kmeans = KMeans(n_clusters=i)\n",
    "    kmeans.fit(data_numeric_scaled)\n",
    "    inertias.append(kmeans.inertia_)"
   ]
  },
  {
   "cell_type": "code",
   "execution_count": 44,
   "metadata": {},
   "outputs": [
    {
     "data": {
      "text/plain": [
       "[Text(0.5, 1.0, 'K-Means Inertia'),\n",
       " Text(0.5, 0, 'Number of Groups'),\n",
       " Text(0, 0.5, 'Inertia')]"
      ]
     },
     "execution_count": 44,
     "metadata": {},
     "output_type": "execute_result"
    },
    {
     "data": {
      "image/png": "[encoded data removed]",
      "text/plain": [
       "<Figure size 640x480 with 1 Axes>"
      ]
     },
     "metadata": {},
     "output_type": "display_data"
    }
   ],
   "source": [
    "# Insert elbow plot \n",
    "\n",
    "\n",
    "## Solution file only\n",
    "#\n",
    "df_inertia = pd.DataFrame({'inertias': inertias})\n",
    "ax = df_inertia.plot(kind='line', style=['-'])\n",
    "ax.set(title=\"K-Means Inertia\", xlabel=\"Number of Groups\", ylabel=\"Inertia\" )\n"
   ]
  },
  {
   "cell_type": "markdown",
   "metadata": {},
   "source": [
    "### Now that you've chosen a number of groups, do the following. \n",
    "\n",
    "1. Run K-Means again for your chosen number of groups.\n",
    " - Make sure that your variable `kmeans` is for your desired number of groups\n",
    "\n",
    "2. For each group, count the number of people that received a loan, and the number of people that did not receive a loan. You want to generate output like this\n",
    "\n",
    "        Group:  0\n",
    "          num yes  1\n",
    "          num no  1\n",
    "\n",
    "        Group:  1\n",
    "          num yes  173\n",
    "          num no  38\n",
    "\n",
    "        Group:  2\n",
    "          num yes  70\n",
    "          num no  6\n",
    "\n",
    "        Group:  3\n",
    "          num yes  20\n",
    "          num no  61\n",
    "\n",
    "\n",
    "Hint: You can count the number of people in Group 0 (with label 0), who did not receive a loan with the below code snippet:\n",
    "    \n",
    "    number_no = 0\n",
    "    for i in range( data.shape[0]):\n",
    "        if kmeans.labels_[i] == 0:\n",
    "            if data['Loan_Status'][i] == \"N\":\n",
    "                number_no += 1\n"
   ]
  },
  {
   "cell_type": "code",
   "execution_count": 46,
   "metadata": {},
   "outputs": [
    {
     "name": "stdout",
     "output_type": "stream",
     "text": [
      "Group:  0\n",
      "  num yes  177\n",
      "  num no  41\n",
      "\n",
      "Group:  1\n",
      "  num yes  16\n",
      "  num no  61\n",
      "\n",
      "Group:  2\n",
      "  num yes  70\n",
      "  num no  3\n",
      "\n",
      "Group:  3\n",
      "  num yes  1\n",
      "  num no  1\n",
      "\n"
     ]
    }
   ],
   "source": [
    "# Count the number of people here\n",
    "\n",
    "\n",
    "## Solution File Only\n",
    "#\n",
    "numclusters = 4\n",
    "kmeans = KMeans(n_clusters=numclusters)\n",
    "kmeans.fit(data_numeric_scaled)\n",
    "\n",
    "for label in range(numclusters):\n",
    "    number_yes = 0\n",
    "    number_no = 0\n",
    "    for i in range( data.shape[0]):\n",
    "        if kmeans.labels_[i] == label:\n",
    "            if data['Loan_Status'][i] == \"N\":\n",
    "                number_no += 1\n",
    "            elif data['Loan_Status'][i] == \"Y\":\n",
    "                number_yes += 1\n",
    "\n",
    "    print(\"Group: \", label)\n",
    "    print(\"  num yes \", number_yes, )\n",
    "    print(\"  num no \", number_no)\n",
    "    print(\"\")\n",
    "\n"
   ]
  },
  {
   "cell_type": "markdown",
   "metadata": {},
   "source": [
    "### Last, we want to see if there is any bias, or key pieces of information that can help predict if someone receives a loan.\n",
    "\n",
    "For instance, you can see what the average number of dependents are for all people in Group 1 (label 1) with \n",
    "\n",
    "    print(data['Dependents'][ kmeans.labels_ == 1].mean() )\n",
    "\n",
    "This can be useful in the following way.\n",
    "- Say, that Group 1 corresponds to people that primarily did not receive a loan\n",
    "- Then, say that the average number of dependents is high (or low) for everyone in Group 1\n",
    "- Then, you could say that using K-Means to decide loans would bias against (or for) having many dependents\n",
    "\n",
    "### Task: Examine this information for Dependents, Credit_History, and other categories.  Use it in your discussion below.\n",
    "\n",
    "\n",
    "\n"
   ]
  },
  {
   "cell_type": "code",
   "execution_count": 37,
   "metadata": {},
   "outputs": [
    {
     "name": "stdout",
     "output_type": "stream",
     "text": [
      "0.13829787234042554\n",
      "1.0\n"
     ]
    }
   ],
   "source": [
    "# Examine average (mean) information here\n",
    "\n",
    "\n",
    "##\n",
    "# Solution File only\n",
    "\n",
    "# Shows bias that more dependents leads to being in a cluster with yes loans\n",
    "print(data['Dependents'][ kmeans.labels_ == 1].mean() )\n",
    "\n",
    "# Shows bias that positive credit history (1) leads to being in a cluster with yes loans\n",
    "print(data['Credit_History'][ kmeans.labels_ == 1].mean() )"
   ]
  },
  {
   "cell_type": "code",
   "execution_count": null,
   "metadata": {},
   "outputs": [],
   "source": []
  },
  {
   "cell_type": "markdown",
   "metadata": {
    "slideshow": {
     "slide_type": "slide"
    }
   },
   "source": [
    "### Discussion template\n",
    "\n",
    "Quantitative Information Definition:  information represented numerically, i.e., represented with numbers. This can include  anything that can be measured or counted to that it has a numerical value.     \n",
    "    - https://www.nnlm.gov/guides/data-glossary/quantitative-data\n",
    "    - The data that you use K-Means with is quantative data\n",
    "\n",
    "Quantitative Models: models that help us understand and interpret our numerical (quantitative) data.  K-Means is a quantitative model.\n",
    "\n",
    "Have these 4 sections in your discussion\n",
    "\n",
    "1. Communication/Representation of Quantitative Information\n",
    "    - Give some sample loan information (say the data.head() information)\n",
    "    - Discuss it as quantitative information\n",
    "\n",
    "2. Application of Quantitative Models\n",
    "    - Describe the model used (K-Means)\n",
    "        - What is K-means.  How does K-Means work?  \n",
    "        - What do we use K-Means for?  To quantitatively analyze data...\n",
    "    - How would you use K-Means to help decide whether someone gets a loan?\n",
    "    - Give your inertia plot\n",
    "        - What does this tell you?\n",
    "\n",
    "3. Conclusion -- Quantative Analysis\n",
    "    - Discuss your output data above, \n",
    "    - Discuss your output on the number of people in each group that did and did not receive a loan\n",
    "    - Discuss the average (mean) values for that you computed\n",
    "    - Can you conclude that K-Means is biased against (or for) people with certain characteristics, like number of dependents or credit history or income?\n",
    "    - What is still unexplained? \n",
    "    \n",
    "4. Ethical Reasoning\n",
    "    - Now that you've seen how an actual algorithm for grouping people works, and how an algorithm might make decisions about people, it's time to consider the ethics of that. \n",
    "    \n",
    "    - What are your thoughts regarding the use of algorithms to group people (e.g., for targeted marketing, or for loans, or other purposes)?\n",
    "    \n",
    "    - Is this a good or bad idea, in your opinion?  Should there be certain conditions set? Give your own thoughts. \n",
    "\n",
    "\n",
    "Here are a few links to discussion on this issue from New Mexico, but there are many other articles on online on these topics. You're welcome to read / watch the below, or not.\n",
    "\n",
    "  - https://www.santafe.edu/research/projects/algorithmic-justice\n",
    "    \n",
    "  - Video featuring UNM CS Professor Melanie Moses  https://www.youtube.com/watch?v=atVfp_zkkv4\n",
    "\n",
    "  - https://www.sfreporter.com/news/2018/09/19/algorithms-and-ethics/\n",
    "    \n"
   ]
  },
  {
   "cell_type": "markdown",
   "metadata": {
    "slideshow": {
     "slide_type": "slide"
    }
   },
   "source": [
    "Discussion goes here"
   ]
  },
  {
   "cell_type": "code",
   "execution_count": null,
   "metadata": {},
   "outputs": [],
   "source": []
  },
  {
   "cell_type": "markdown",
   "metadata": {},
   "source": [
    "### Homework Submission Instructions\n",
    "\n",
    "### The homework submission instructions are different this week. \n",
    "\n",
    "### Download your notebook as an \".ipynb\" file, and upload the ipynb file as your assignment to Canvas.\n",
    "\n",
    "### Do not upload a .py file"
   ]
  },
  {
   "cell_type": "code",
   "execution_count": null,
   "metadata": {},
   "outputs": [],
   "source": []
  },
  {
   "cell_type": "code",
   "execution_count": null,
   "metadata": {},
   "outputs": [],
   "source": []
  },
  {
   "cell_type": "code",
   "execution_count": 41,
   "metadata": {},
   "outputs": [
    {
     "data": {
      "image/png": "[encoded data removed]",
      "text/plain": [
       "<Figure size 640x480 with 1 Axes>"
      ]
     },
     "metadata": {},
     "output_type": "display_data"
    }
   ],
   "source": [
    "# I don't think this works too well with the current dataset, skip it\n",
    "# Could be an interesting plot with other datasets\n",
    "\n",
    "## Solution File Only\n",
    "#\n",
    "\n",
    "\n",
    "# 4 is a nice picture\n",
    "kmeans = KMeans(n_clusters=6)\n",
    "kmeans.fit(data_numeric_scaled)\n",
    "\n",
    "colors = [ 'orange', 'purple', 'olive', 'magenta', 'teal', 'red']\n",
    "c = [colors[k] for k in kmeans.labels_]\n",
    "\n",
    "#['Dependents', 'ApplicantIncome', 'CoapplicantIncome', 'LoanAmount', 'Loan_Amount_Term', 'Credit_History']\n",
    "#ax = data.plot.scatter(x='ApplicantIncome', y='Loan_Status', c=c)\n",
    "#ax = data.plot.scatter(x='Credit_History', y='Loan_Status', c=c)\n",
    "\n",
    "# inco\n",
    "ax = data.plot.scatter(x='ApplicantIncome', y='LoanAmount', c=c)\n",
    "\n"
   ]
  },
  {
   "cell_type": "code",
   "execution_count": null,
   "metadata": {},
   "outputs": [],
   "source": []
  },
  {
   "cell_type": "code",
   "execution_count": null,
   "metadata": {
    "scrolled": false
   },
   "outputs": [],
   "source": [
    "## Solution File Only\n",
    "#\n",
    "\n",
    "# choose subcolumns\n",
    "#['Dependents', 'ApplicantIncome', 'CoapplicantIncome', 'LoanAmount', 'Loan_Amount_Term', 'Credit_History']\n",
    "\n",
    "\n",
    "data_numeric = data[['Dependents', 'Credit_History']]\n",
    "\n",
    "# For all the categoies to work, need to scale, SEE BELOW cell\n",
    "#data_numeric = data[['Dependents', 'ApplicantIncome', 'CoapplicantIncome', 'LoanAmount', 'Loan_Amount_Term', 'Credit_History']]\n",
    "\n",
    "\n",
    "# Choose 6 cluster from plot\n",
    "numclusters = 6\n",
    "\n",
    "#kmeans = KMeans(n_clusters=numclusters, init='k-means++')\n",
    "kmeans = KMeans(n_clusters=numclusters)\n",
    "kmeans.fit(data_numeric)\n",
    "\n",
    "for label in range(numclusters):\n",
    "    number_yes = 0\n",
    "    number_no = 0\n",
    "    for i in range( data_numeric.shape[0]):\n",
    "        if kmeans.labels_[i] == label:\n",
    "            if data['Loan_Status'][i] == \"N\":\n",
    "                number_no += 1\n",
    "            elif data['Loan_Status'][i] == \"Y\":\n",
    "                number_yes += 1\n",
    "\n",
    "    print(\"Label: \", label)\n",
    "    print(\"  num yes \", number_yes, )\n",
    "    print(\"  num no \", number_no)\n",
    "    print(\"\")\n",
    "\n"
   ]
  },
  {
   "cell_type": "code",
   "execution_count": 19,
   "metadata": {},
   "outputs": [
    {
     "name": "stdout",
     "output_type": "stream",
     "text": [
      "Label:  0\n",
      "  num yes  66\n",
      "  num no  3\n",
      "\n",
      "Label:  1\n",
      "  num yes  137\n",
      "  num no  29\n",
      "\n",
      "Label:  2\n",
      "  num yes  16\n",
      "  num no  60\n",
      "\n",
      "Label:  3\n",
      "  num yes  45\n",
      "  num no  14\n",
      "\n"
     ]
    }
   ],
   "source": [
    "## Solution File Only\n",
    "#\n",
    "\n",
    "# choose subcolumns\n",
    "#['Dependents', 'ApplicantIncome', 'CoapplicantIncome', 'LoanAmount', 'Loan_Amount_Term', 'Credit_History']\n",
    "\n",
    "\n",
    "#data_numeric = data[['Dependents', 'Credit_History']]\n",
    "\n",
    "# For all the categoies to work, need to scale\n",
    "data_numeric = data[['Dependents', 'ApplicantIncome', 'CoapplicantIncome', 'Credit_History']]\n",
    "\n",
    "from sklearn.preprocessing import StandardScaler\n",
    "scaler = StandardScaler()\n",
    "data_numeric_scaled = scaler.fit_transform(data_numeric)\n",
    "\n",
    "# statistics of scaled data\n",
    "pd.DataFrame(data_numeric_scaled).describe()\n",
    "\n",
    "\n",
    "# Choose 6 cluster from plot\n",
    "numclusters = 4\n",
    "\n",
    "#kmeans = KMeans(n_clusters=numclusters, init='k-means++')\n",
    "kmeans = KMeans(n_clusters=numclusters)\n",
    "kmeans.fit(data_numeric_scaled)\n",
    "\n",
    "for label in range(numclusters):\n",
    "    number_yes = 0\n",
    "    number_no = 0\n",
    "    for i in range( data_numeric_scaled.shape[0]):\n",
    "        if kmeans.labels_[i] == label:\n",
    "            if data['Loan_Status'][i] == \"N\":\n",
    "                number_no += 1\n",
    "            elif data['Loan_Status'][i] == \"Y\":\n",
    "                number_yes += 1\n",
    "\n",
    "    print(\"Label: \", label)\n",
    "    print(\"  num yes \", number_yes, )\n",
    "    print(\"  num no \", number_no)\n",
    "    print(\"\")\n",
    "\n"
   ]
  },
  {
   "cell_type": "code",
   "execution_count": 24,
   "metadata": {},
   "outputs": [
    {
     "name": "stdout",
     "output_type": "stream",
     "text": [
      "2.391304347826087\n",
      "0.927536231884058\n"
     ]
    }
   ],
   "source": [
    "# Shows bias that more dependents leads to being in a cluster with yes loans\n",
    "print(data_numeric['Dependents'][ kmeans.labels_ == 0].mean() )\n",
    "\n",
    "# Shows bias that positive credit history (1) leads to being in a cluster with yes loans\n",
    "print(data_numeric['Credit_History'][ kmeans.labels_ == 0].mean() )"
   ]
  },
  {
   "cell_type": "code",
   "execution_count": null,
   "metadata": {},
   "outputs": [],
   "source": []
  },
  {
   "cell_type": "code",
   "execution_count": null,
   "metadata": {
    "slideshow": {
     "slide_type": "slide"
    }
   },
   "outputs": [],
   "source": []
  },
  {
   "cell_type": "code",
   "execution_count": null,
   "metadata": {},
   "outputs": [],
   "source": []
  }
 ],
 "metadata": {
  "anaconda-cloud": {},
  "celltoolbar": "Slideshow",
  "kernelspec": {
   "display_name": "Python 3 (ipykernel)",
   "language": "python",
   "name": "python3"
  },
  "language_info": {
   "codemirror_mode": {
    "name": "ipython",
    "version": 3
   },
   "file_extension": ".py",
   "mimetype": "text/x-python",
   "name": "python",
   "nbconvert_exporter": "python",
   "pygments_lexer": "ipython3",
   "version": "3.10.8"
  },
  "widgets": {
   "state": {},
   "version": "1.1.2"
  }
 },
 "nbformat": 4,
 "nbformat_minor": 4
}
