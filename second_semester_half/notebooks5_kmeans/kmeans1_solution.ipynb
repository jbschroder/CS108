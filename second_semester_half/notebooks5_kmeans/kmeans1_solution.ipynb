{
 "cells": [
  {
   "cell_type": "markdown",
   "metadata": {
    "slideshow": {
     "slide_type": "slide"
    }
   },
   "source": [
    "### K-Means Clustering 1\n",
    "-----------\n",
    "\n",
    "This material is based on the previous version of CS108L, see https://cs4all.cs.unm.edu/cs108.html\n",
    "- Credit to Prof. Melanie Moses, Dr. Irene Lee, Dr. Maureen Psaila-Dombrowski, Prof. Dave Ackley and collaborators (see website)"
   ]
  },
  {
   "cell_type": "markdown",
   "metadata": {
    "slideshow": {
     "slide_type": "slide"
    }
   },
   "source": [
    "### Overview of K-Means Clustering\n",
    "\n",
    "Consider the following\n",
    "1. Say your are given N data points.  These can be points in the x-y plane\n",
    "   \n",
    "2. Next, you group these N data points into K groups (also called clusters)\n",
    "\n",
    "3. Each data point will belong to one, and only one group (or cluster)\n",
    "\n",
    "4. Each cluster will have a centroid (or center of gravity)\n",
    "\n",
    "5. The goal is to make sure that each point is in the group that has the closest centroid (or center of gravity).  "
   ]
  },
  {
   "cell_type": "code",
   "execution_count": 1,
   "metadata": {
    "scrolled": false,
    "slideshow": {
     "slide_type": "slide"
    }
   },
   "outputs": [
    {
     "data": {
      "image/png": "[encoded data removed]",
      "text/plain": [
       "<Figure size 640x480 with 1 Axes>"
      ]
     },
     "metadata": {},
     "output_type": "display_data"
    }
   ],
   "source": [
    "%matplotlib inline\n",
    "import pandas as pd\n",
    "x = [4,  6,  7,  5,  4,  12, 15 , 5, 13, 11]\n",
    "y = [22, 20, 21, 18, 15, 24, 26, 19, 24, 23]\n",
    "\n",
    "df = pd.DataFrame({'x': x, 'y': y})\n",
    "ax = df.plot.scatter(x='x', y='y')"
   ]
  },
  {
   "cell_type": "markdown",
   "metadata": {
    "slideshow": {
     "slide_type": "slide"
    }
   },
   "source": [
    "### This seems simple enough!"
   ]
  },
  {
   "cell_type": "markdown",
   "metadata": {
    "slideshow": {
     "slide_type": "slide"
    }
   },
   "source": [
    "### However, consider this...\n",
    "\n",
    "Say, you have lots of points and groups\n",
    "\n",
    "1. Then, you realize that one point in group 4 needs to move to group 5\n",
    "    - This is because group 5 has a center of gravity closer to this point\n",
    "2. Now, you've modified the center of gravity for both group 4 and group 5!\n",
    "    - Now, you have to check all the points in groups 4 and 5 to make sure they are all still in the right group!\n",
    "    - And if any of them move to a different group, that will further change centers of gravity\n",
    "3. In other words, any change that you make to a point (moving it from one group to another group), could affect every other point!  \n",
    "\n",
    "\n",
    "Overall, solving this problem exactly is NP-hard, which means that solving this problem exactly is too computationally expensive."
   ]
  },
  {
   "cell_type": "markdown",
   "metadata": {
    "slideshow": {
     "slide_type": "slide"
    }
   },
   "source": [
    "### But, we have the K-Means algorithm for reasonable approximate solutions\n",
    "1. K-Means starts of with K random guesses for each of the K group centers\n",
    "2. Then, all the points are assigned to the group center that they are closest to\n",
    "3. Then, the group center is adjusted to better reflect the current center of gravity for each group.\n",
    "    - Steps 2  and 3 are then repeated, until the user stops the process "
   ]
  },
  {
   "cell_type": "markdown",
   "metadata": {},
   "source": [
    "### More formally, the K-Means problem is the following.\n",
    "\n",
    "We have a set of points, $x_1, x_2, x_3, \\dots, x_N$.  And we want to find K groups (clusters) called $S = \\{ S_0, S_1, S_2, \\dots, S_K \\} $ that satisfy the following\n",
    "\n",
    "$$ \\arg \\min_S \\sum^k_{i=1} \\sum_{x \\in S_i} | x - \\mu_i |^2 $$\n",
    "\n",
    "where $\\mu_i$ is the centroid, or center of gravity for group (cluster) $S_i$\n",
    "\n",
    "$$ \\mu_i = \\frac{1}{|S_i|} \\sum_{x \\in S_i} x .$$\n",
    "\n",
    "The notation $| S_i |$ refers to the size, or number of points in $S_i$, and $| x - \\mu_i |$ is the distance between point $x$ and centroid $\\mu_i$.\n",
    "\n",
    "==> This explanation is here for completeness.  Make sure that you at least develop some intuition for the K-Means algorithm."
   ]
  },
  {
   "cell_type": "markdown",
   "metadata": {
    "slideshow": {
     "slide_type": "slide"
    }
   },
   "source": [
    "### Learning Goals\n",
    "- Learn the basics of the K-Means algorithm\n",
    "- Learn how to apply the K-Means algorithm and visualize the results\n",
    "- Learn how to use the \"elbow\" test to determine how many groups (or clusters) are needed"
   ]
  },
  {
   "cell_type": "markdown",
   "metadata": {},
   "source": [
    "### Luckily, we don't have to implement or write the K-Means algorithm!  \n",
    "\n",
    "### It's so popular, that we can just import an existing library implementation"
   ]
  },
  {
   "cell_type": "code",
   "execution_count": 2,
   "metadata": {
    "slideshow": {
     "slide_type": "slide"
    }
   },
   "outputs": [],
   "source": [
    "%matplotlib inline\n",
    "\n",
    "# K-Means toolkit\n",
    "from sklearn.cluster import KMeans\n",
    "\n",
    "# Data manipulation and analysis.\n",
    "import pandas as pd\n"
   ]
  },
  {
   "cell_type": "markdown",
   "metadata": {
    "slideshow": {
     "slide_type": "slide"
    }
   },
   "source": [
    "### To begin, let's look at our sample set of points below"
   ]
  },
  {
   "cell_type": "code",
   "execution_count": 3,
   "metadata": {
    "scrolled": false,
    "slideshow": {
     "slide_type": "-"
    }
   },
   "outputs": [
    {
     "data": {
      "image/png": "[encoded data removed]",
      "text/plain": [
       "<Figure size 640x480 with 1 Axes>"
      ]
     },
     "metadata": {},
     "output_type": "display_data"
    }
   ],
   "source": [
    "x = [4,  6,  7,  5,  4,  12, 15 , 5, 13, 11]\n",
    "y = [22, 20, 21, 18, 15, 24, 26, 19, 24, 23]\n",
    "df = pd.DataFrame({'x': x, 'y': y})\n",
    "ax = df.plot.scatter(x='x', y='y')"
   ]
  },
  {
   "cell_type": "markdown",
   "metadata": {
    "slideshow": {
     "slide_type": "slide"
    }
   },
   "source": [
    "### Next, let's look at  a simple coloring of the points \n",
    "- Not using K-Means yet.  \n",
    "- We're just coloring naively, with no thought\n",
    "- Note how the list `c` has the same length as `x` and `y`.  It contains the color for each point"
   ]
  },
  {
   "cell_type": "code",
   "execution_count": 4,
   "metadata": {
    "slideshow": {
     "slide_type": "-"
    }
   },
   "outputs": [
    {
     "data": {
      "image/png": "[encoded data removed]",
      "text/plain": [
       "<Figure size 640x480 with 1 Axes>"
      ]
     },
     "metadata": {},
     "output_type": "display_data"
    }
   ],
   "source": [
    "# scatter with color list, showing them how to do that\n",
    "c = ['orange', 'purple', 'orange', 'purple', 'orange', 'purple', 'orange', 'purple', 'orange', 'purple']\n",
    "ax = df.plot.scatter(x='x', y='y', c=c)"
   ]
  },
  {
   "cell_type": "markdown",
   "metadata": {
    "slideshow": {
     "slide_type": "slide"
    }
   },
   "source": [
    "### But this doesn't look very good! \n",
    "\n",
    "### The yellow points are group 1, and the purple points are group 2\n",
    "\n",
    "### The points close together are NOT grouped together!\n",
    "\n",
    "### Let's apply K-Means"
   ]
  },
  {
   "cell_type": "markdown",
   "metadata": {
    "slideshow": {
     "slide_type": "slide"
    }
   },
   "source": [
    "### However, first for K-Means, we need to get our data in the right format\n",
    "\n",
    "### Task:  create a new list called `data` that combines `x` and `y` to look like this \n",
    "\n",
    "     print(data) \n",
    "     \n",
    "     [(4, 22), (6, 20), (7, 23), (5, 18), (4, 15), (12, 24), (15, 26), (5, 19), (13, 24), (11, 23)]\n"
   ]
  },
  {
   "cell_type": "code",
   "execution_count": 5,
   "metadata": {},
   "outputs": [
    {
     "name": "stdout",
     "output_type": "stream",
     "text": [
      "[(4, 22), (6, 20), (7, 21), (5, 18), (4, 15), (12, 24), (15, 26), (5, 19), (13, 24), (11, 23)]\n"
     ]
    }
   ],
   "source": [
    "# create new list called data\n",
    "\n",
    "\n",
    "## Solution file Only\n",
    "#\n",
    "data = list(zip(x, y))\n",
    "print(data)"
   ]
  },
  {
   "cell_type": "markdown",
   "metadata": {
    "slideshow": {
     "slide_type": "slide"
    }
   },
   "source": [
    "### Now, we can run K-Means"
   ]
  },
  {
   "cell_type": "code",
   "execution_count": 6,
   "metadata": {
    "slideshow": {
     "slide_type": "-"
    }
   },
   "outputs": [
    {
     "data": {
      "text/html": [
       "<style>#sk-container-id-1 {\n",
       "  /* Definition of color scheme common for light and dark mode */\n",
       "  --sklearn-color-text: black;\n",
       "  --sklearn-color-line: gray;\n",
       "  /* Definition of color scheme for unfitted estimators */\n",
       "  --sklearn-color-unfitted-level-0: #fff5e6;\n",
       "  --sklearn-color-unfitted-level-1: #f6e4d2;\n",
       "  --sklearn-color-unfitted-level-2: #ffe0b3;\n",
       "  --sklearn-color-unfitted-level-3: chocolate;\n",
       "  /* Definition of color scheme for fitted estimators */\n",
       "  --sklearn-color-fitted-level-0: #f0f8ff;\n",
       "  --sklearn-color-fitted-level-1: #d4ebff;\n",
       "  --sklearn-color-fitted-level-2: #b3dbfd;\n",
       "  --sklearn-color-fitted-level-3: cornflowerblue;\n",
       "\n",
       "  /* Specific color for light theme */\n",
       "  --sklearn-color-text-on-default-background: var(--sg-text-color, var(--theme-code-foreground, var(--jp-content-font-color1, black)));\n",
       "  --sklearn-color-background: var(--sg-background-color, var(--theme-background, var(--jp-layout-color0, white)));\n",
       "  --sklearn-color-border-box: var(--sg-text-color, var(--theme-code-foreground, var(--jp-content-font-color1, black)));\n",
       "  --sklearn-color-icon: #696969;\n",
       "\n",
       "  @media (prefers-color-scheme: dark) {\n",
       "    /* Redefinition of color scheme for dark theme */\n",
       "    --sklearn-color-text-on-default-background: var(--sg-text-color, var(--theme-code-foreground, var(--jp-content-font-color1, white)));\n",
       "    --sklearn-color-background: var(--sg-background-color, var(--theme-background, var(--jp-layout-color0, #111)));\n",
       "    --sklearn-color-border-box: var(--sg-text-color, var(--theme-code-foreground, var(--jp-content-font-color1, white)));\n",
       "    --sklearn-color-icon: #878787;\n",
       "  }\n",
       "}\n",
       "\n",
       "#sk-container-id-1 {\n",
       "  color: var(--sklearn-color-text);\n",
       "}\n",
       "\n",
       "#sk-container-id-1 pre {\n",
       "  padding: 0;\n",
       "}\n",
       "\n",
       "#sk-container-id-1 input.sk-hidden--visually {\n",
       "  border: 0;\n",
       "  clip: rect(1px 1px 1px 1px);\n",
       "  clip: rect(1px, 1px, 1px, 1px);\n",
       "  height: 1px;\n",
       "  margin: -1px;\n",
       "  overflow: hidden;\n",
       "  padding: 0;\n",
       "  position: absolute;\n",
       "  width: 1px;\n",
       "}\n",
       "\n",
       "#sk-container-id-1 div.sk-dashed-wrapped {\n",
       "  border: 1px dashed var(--sklearn-color-line);\n",
       "  margin: 0 0.4em 0.5em 0.4em;\n",
       "  box-sizing: border-box;\n",
       "  padding-bottom: 0.4em;\n",
       "  background-color: var(--sklearn-color-background);\n",
       "}\n",
       "\n",
       "#sk-container-id-1 div.sk-container {\n",
       "  /* jupyter's `normalize.less` sets `[hidden] { display: none; }`\n",
       "     but bootstrap.min.css set `[hidden] { display: none !important; }`\n",
       "     so we also need the `!important` here to be able to override the\n",
       "     default hidden behavior on the sphinx rendered scikit-learn.org.\n",
       "     See: https://github.com/scikit-learn/scikit-learn/issues/21755 */\n",
       "  display: inline-block !important;\n",
       "  position: relative;\n",
       "}\n",
       "\n",
       "#sk-container-id-1 div.sk-text-repr-fallback {\n",
       "  display: none;\n",
       "}\n",
       "\n",
       "div.sk-parallel-item,\n",
       "div.sk-serial,\n",
       "div.sk-item {\n",
       "  /* draw centered vertical line to link estimators */\n",
       "  background-image: linear-gradient(var(--sklearn-color-text-on-default-background), var(--sklearn-color-text-on-default-background));\n",
       "  background-size: 2px 100%;\n",
       "  background-repeat: no-repeat;\n",
       "  background-position: center center;\n",
       "}\n",
       "\n",
       "/* Parallel-specific style estimator block */\n",
       "\n",
       "#sk-container-id-1 div.sk-parallel-item::after {\n",
       "  content: \"\";\n",
       "  width: 100%;\n",
       "  border-bottom: 2px solid var(--sklearn-color-text-on-default-background);\n",
       "  flex-grow: 1;\n",
       "}\n",
       "\n",
       "#sk-container-id-1 div.sk-parallel {\n",
       "  display: flex;\n",
       "  align-items: stretch;\n",
       "  justify-content: center;\n",
       "  background-color: var(--sklearn-color-background);\n",
       "  position: relative;\n",
       "}\n",
       "\n",
       "#sk-container-id-1 div.sk-parallel-item {\n",
       "  display: flex;\n",
       "  flex-direction: column;\n",
       "}\n",
       "\n",
       "#sk-container-id-1 div.sk-parallel-item:first-child::after {\n",
       "  align-self: flex-end;\n",
       "  width: 50%;\n",
       "}\n",
       "\n",
       "#sk-container-id-1 div.sk-parallel-item:last-child::after {\n",
       "  align-self: flex-start;\n",
       "  width: 50%;\n",
       "}\n",
       "\n",
       "#sk-container-id-1 div.sk-parallel-item:only-child::after {\n",
       "  width: 0;\n",
       "}\n",
       "\n",
       "/* Serial-specific style estimator block */\n",
       "\n",
       "#sk-container-id-1 div.sk-serial {\n",
       "  display: flex;\n",
       "  flex-direction: column;\n",
       "  align-items: center;\n",
       "  background-color: var(--sklearn-color-background);\n",
       "  padding-right: 1em;\n",
       "  padding-left: 1em;\n",
       "}\n",
       "\n",
       "\n",
       "/* Toggleable style: style used for estimator/Pipeline/ColumnTransformer box that is\n",
       "clickable and can be expanded/collapsed.\n",
       "- Pipeline and ColumnTransformer use this feature and define the default style\n",
       "- Estimators will overwrite some part of the style using the `sk-estimator` class\n",
       "*/\n",
       "\n",
       "/* Pipeline and ColumnTransformer style (default) */\n",
       "\n",
       "#sk-container-id-1 div.sk-toggleable {\n",
       "  /* Default theme specific background. It is overwritten whether we have a\n",
       "  specific estimator or a Pipeline/ColumnTransformer */\n",
       "  background-color: var(--sklearn-color-background);\n",
       "}\n",
       "\n",
       "/* Toggleable label */\n",
       "#sk-container-id-1 label.sk-toggleable__label {\n",
       "  cursor: pointer;\n",
       "  display: block;\n",
       "  width: 100%;\n",
       "  margin-bottom: 0;\n",
       "  padding: 0.5em;\n",
       "  box-sizing: border-box;\n",
       "  text-align: center;\n",
       "}\n",
       "\n",
       "#sk-container-id-1 label.sk-toggleable__label-arrow:before {\n",
       "  /* Arrow on the left of the label */\n",
       "  content: \"▸\";\n",
       "  float: left;\n",
       "  margin-right: 0.25em;\n",
       "  color: var(--sklearn-color-icon);\n",
       "}\n",
       "\n",
       "#sk-container-id-1 label.sk-toggleable__label-arrow:hover:before {\n",
       "  color: var(--sklearn-color-text);\n",
       "}\n",
       "\n",
       "/* Toggleable content - dropdown */\n",
       "\n",
       "#sk-container-id-1 div.sk-toggleable__content {\n",
       "  max-height: 0;\n",
       "  max-width: 0;\n",
       "  overflow: hidden;\n",
       "  text-align: left;\n",
       "  /* unfitted */\n",
       "  background-color: var(--sklearn-color-unfitted-level-0);\n",
       "}\n",
       "\n",
       "#sk-container-id-1 div.sk-toggleable__content.fitted {\n",
       "  /* fitted */\n",
       "  background-color: var(--sklearn-color-fitted-level-0);\n",
       "}\n",
       "\n",
       "#sk-container-id-1 div.sk-toggleable__content pre {\n",
       "  margin: 0.2em;\n",
       "  border-radius: 0.25em;\n",
       "  color: var(--sklearn-color-text);\n",
       "  /* unfitted */\n",
       "  background-color: var(--sklearn-color-unfitted-level-0);\n",
       "}\n",
       "\n",
       "#sk-container-id-1 div.sk-toggleable__content.fitted pre {\n",
       "  /* unfitted */\n",
       "  background-color: var(--sklearn-color-fitted-level-0);\n",
       "}\n",
       "\n",
       "#sk-container-id-1 input.sk-toggleable__control:checked~div.sk-toggleable__content {\n",
       "  /* Expand drop-down */\n",
       "  max-height: 200px;\n",
       "  max-width: 100%;\n",
       "  overflow: auto;\n",
       "}\n",
       "\n",
       "#sk-container-id-1 input.sk-toggleable__control:checked~label.sk-toggleable__label-arrow:before {\n",
       "  content: \"▾\";\n",
       "}\n",
       "\n",
       "/* Pipeline/ColumnTransformer-specific style */\n",
       "\n",
       "#sk-container-id-1 div.sk-label input.sk-toggleable__control:checked~label.sk-toggleable__label {\n",
       "  color: var(--sklearn-color-text);\n",
       "  background-color: var(--sklearn-color-unfitted-level-2);\n",
       "}\n",
       "\n",
       "#sk-container-id-1 div.sk-label.fitted input.sk-toggleable__control:checked~label.sk-toggleable__label {\n",
       "  background-color: var(--sklearn-color-fitted-level-2);\n",
       "}\n",
       "\n",
       "/* Estimator-specific style */\n",
       "\n",
       "/* Colorize estimator box */\n",
       "#sk-container-id-1 div.sk-estimator input.sk-toggleable__control:checked~label.sk-toggleable__label {\n",
       "  /* unfitted */\n",
       "  background-color: var(--sklearn-color-unfitted-level-2);\n",
       "}\n",
       "\n",
       "#sk-container-id-1 div.sk-estimator.fitted input.sk-toggleable__control:checked~label.sk-toggleable__label {\n",
       "  /* fitted */\n",
       "  background-color: var(--sklearn-color-fitted-level-2);\n",
       "}\n",
       "\n",
       "#sk-container-id-1 div.sk-label label.sk-toggleable__label,\n",
       "#sk-container-id-1 div.sk-label label {\n",
       "  /* The background is the default theme color */\n",
       "  color: var(--sklearn-color-text-on-default-background);\n",
       "}\n",
       "\n",
       "/* On hover, darken the color of the background */\n",
       "#sk-container-id-1 div.sk-label:hover label.sk-toggleable__label {\n",
       "  color: var(--sklearn-color-text);\n",
       "  background-color: var(--sklearn-color-unfitted-level-2);\n",
       "}\n",
       "\n",
       "/* Label box, darken color on hover, fitted */\n",
       "#sk-container-id-1 div.sk-label.fitted:hover label.sk-toggleable__label.fitted {\n",
       "  color: var(--sklearn-color-text);\n",
       "  background-color: var(--sklearn-color-fitted-level-2);\n",
       "}\n",
       "\n",
       "/* Estimator label */\n",
       "\n",
       "#sk-container-id-1 div.sk-label label {\n",
       "  font-family: monospace;\n",
       "  font-weight: bold;\n",
       "  display: inline-block;\n",
       "  line-height: 1.2em;\n",
       "}\n",
       "\n",
       "#sk-container-id-1 div.sk-label-container {\n",
       "  text-align: center;\n",
       "}\n",
       "\n",
       "/* Estimator-specific */\n",
       "#sk-container-id-1 div.sk-estimator {\n",
       "  font-family: monospace;\n",
       "  border: 1px dotted var(--sklearn-color-border-box);\n",
       "  border-radius: 0.25em;\n",
       "  box-sizing: border-box;\n",
       "  margin-bottom: 0.5em;\n",
       "  /* unfitted */\n",
       "  background-color: var(--sklearn-color-unfitted-level-0);\n",
       "}\n",
       "\n",
       "#sk-container-id-1 div.sk-estimator.fitted {\n",
       "  /* fitted */\n",
       "  background-color: var(--sklearn-color-fitted-level-0);\n",
       "}\n",
       "\n",
       "/* on hover */\n",
       "#sk-container-id-1 div.sk-estimator:hover {\n",
       "  /* unfitted */\n",
       "  background-color: var(--sklearn-color-unfitted-level-2);\n",
       "}\n",
       "\n",
       "#sk-container-id-1 div.sk-estimator.fitted:hover {\n",
       "  /* fitted */\n",
       "  background-color: var(--sklearn-color-fitted-level-2);\n",
       "}\n",
       "\n",
       "/* Specification for estimator info (e.g. \"i\" and \"?\") */\n",
       "\n",
       "/* Common style for \"i\" and \"?\" */\n",
       "\n",
       ".sk-estimator-doc-link,\n",
       "a:link.sk-estimator-doc-link,\n",
       "a:visited.sk-estimator-doc-link {\n",
       "  float: right;\n",
       "  font-size: smaller;\n",
       "  line-height: 1em;\n",
       "  font-family: monospace;\n",
       "  background-color: var(--sklearn-color-background);\n",
       "  border-radius: 1em;\n",
       "  height: 1em;\n",
       "  width: 1em;\n",
       "  text-decoration: none !important;\n",
       "  margin-left: 1ex;\n",
       "  /* unfitted */\n",
       "  border: var(--sklearn-color-unfitted-level-1) 1pt solid;\n",
       "  color: var(--sklearn-color-unfitted-level-1);\n",
       "}\n",
       "\n",
       ".sk-estimator-doc-link.fitted,\n",
       "a:link.sk-estimator-doc-link.fitted,\n",
       "a:visited.sk-estimator-doc-link.fitted {\n",
       "  /* fitted */\n",
       "  border: var(--sklearn-color-fitted-level-1) 1pt solid;\n",
       "  color: var(--sklearn-color-fitted-level-1);\n",
       "}\n",
       "\n",
       "/* On hover */\n",
       "div.sk-estimator:hover .sk-estimator-doc-link:hover,\n",
       ".sk-estimator-doc-link:hover,\n",
       "div.sk-label-container:hover .sk-estimator-doc-link:hover,\n",
       ".sk-estimator-doc-link:hover {\n",
       "  /* unfitted */\n",
       "  background-color: var(--sklearn-color-unfitted-level-3);\n",
       "  color: var(--sklearn-color-background);\n",
       "  text-decoration: none;\n",
       "}\n",
       "\n",
       "div.sk-estimator.fitted:hover .sk-estimator-doc-link.fitted:hover,\n",
       ".sk-estimator-doc-link.fitted:hover,\n",
       "div.sk-label-container:hover .sk-estimator-doc-link.fitted:hover,\n",
       ".sk-estimator-doc-link.fitted:hover {\n",
       "  /* fitted */\n",
       "  background-color: var(--sklearn-color-fitted-level-3);\n",
       "  color: var(--sklearn-color-background);\n",
       "  text-decoration: none;\n",
       "}\n",
       "\n",
       "/* Span, style for the box shown on hovering the info icon */\n",
       ".sk-estimator-doc-link span {\n",
       "  display: none;\n",
       "  z-index: 9999;\n",
       "  position: relative;\n",
       "  font-weight: normal;\n",
       "  right: .2ex;\n",
       "  padding: .5ex;\n",
       "  margin: .5ex;\n",
       "  width: min-content;\n",
       "  min-width: 20ex;\n",
       "  max-width: 50ex;\n",
       "  color: var(--sklearn-color-text);\n",
       "  box-shadow: 2pt 2pt 4pt #999;\n",
       "  /* unfitted */\n",
       "  background: var(--sklearn-color-unfitted-level-0);\n",
       "  border: .5pt solid var(--sklearn-color-unfitted-level-3);\n",
       "}\n",
       "\n",
       ".sk-estimator-doc-link.fitted span {\n",
       "  /* fitted */\n",
       "  background: var(--sklearn-color-fitted-level-0);\n",
       "  border: var(--sklearn-color-fitted-level-3);\n",
       "}\n",
       "\n",
       ".sk-estimator-doc-link:hover span {\n",
       "  display: block;\n",
       "}\n",
       "\n",
       "/* \"?\"-specific style due to the `<a>` HTML tag */\n",
       "\n",
       "#sk-container-id-1 a.estimator_doc_link {\n",
       "  float: right;\n",
       "  font-size: 1rem;\n",
       "  line-height: 1em;\n",
       "  font-family: monospace;\n",
       "  background-color: var(--sklearn-color-background);\n",
       "  border-radius: 1rem;\n",
       "  height: 1rem;\n",
       "  width: 1rem;\n",
       "  text-decoration: none;\n",
       "  /* unfitted */\n",
       "  color: var(--sklearn-color-unfitted-level-1);\n",
       "  border: var(--sklearn-color-unfitted-level-1) 1pt solid;\n",
       "}\n",
       "\n",
       "#sk-container-id-1 a.estimator_doc_link.fitted {\n",
       "  /* fitted */\n",
       "  border: var(--sklearn-color-fitted-level-1) 1pt solid;\n",
       "  color: var(--sklearn-color-fitted-level-1);\n",
       "}\n",
       "\n",
       "/* On hover */\n",
       "#sk-container-id-1 a.estimator_doc_link:hover {\n",
       "  /* unfitted */\n",
       "  background-color: var(--sklearn-color-unfitted-level-3);\n",
       "  color: var(--sklearn-color-background);\n",
       "  text-decoration: none;\n",
       "}\n",
       "\n",
       "#sk-container-id-1 a.estimator_doc_link.fitted:hover {\n",
       "  /* fitted */\n",
       "  background-color: var(--sklearn-color-fitted-level-3);\n",
       "}\n",
       "</style><div id=\"sk-container-id-1\" class=\"sk-top-container\"><div class=\"sk-text-repr-fallback\"><pre>KMeans(n_clusters=2)</pre><b>In a Jupyter environment, please rerun this cell to show the HTML representation or trust the notebook. <br />On GitHub, the HTML representation is unable to render, please try loading this page with nbviewer.org.</b></div><div class=\"sk-container\" hidden><div class=\"sk-item\"><div class=\"sk-estimator fitted sk-toggleable\"><input class=\"sk-toggleable__control sk-hidden--visually\" id=\"sk-estimator-id-1\" type=\"checkbox\" checked><label for=\"sk-estimator-id-1\" class=\"sk-toggleable__label fitted sk-toggleable__label-arrow fitted\">&nbsp;&nbsp;KMeans<a class=\"sk-estimator-doc-link fitted\" rel=\"noreferrer\" target=\"_blank\" href=\"https://scikit-learn.org/1.4/modules/generated/sklearn.cluster.KMeans.html\">?<span>Documentation for KMeans</span></a><span class=\"sk-estimator-doc-link fitted\">i<span>Fitted</span></span></label><div class=\"sk-toggleable__content fitted\"><pre>KMeans(n_clusters=2)</pre></div> </div></div></div></div>"
      ],
      "text/plain": [
       "KMeans(n_clusters=2)"
      ]
     },
     "execution_count": 6,
     "metadata": {},
     "output_type": "execute_result"
    }
   ],
   "source": [
    "kmeans = KMeans(n_clusters=2)\n",
    "kmeans.fit(data)\n"
   ]
  },
  {
   "cell_type": "markdown",
   "metadata": {
    "slideshow": {
     "slide_type": "slide"
    }
   },
   "source": [
    "### Print your output\n",
    "\n",
    "Your output should be either\n",
    "\n",
    "     [0 0 0 0 0 1 1 0 1 1]\n",
    "\n",
    "Or\n",
    "\n",
    "     [1 1 1 1 1 0 0 1 0 0]"
   ]
  },
  {
   "cell_type": "code",
   "execution_count": 7,
   "metadata": {
    "slideshow": {
     "slide_type": "-"
    }
   },
   "outputs": [
    {
     "name": "stdout",
     "output_type": "stream",
     "text": [
      "[1 1 1 1 1 0 0 1 0 0]\n"
     ]
    }
   ],
   "source": [
    "print(kmeans.labels_)"
   ]
  },
  {
   "cell_type": "markdown",
   "metadata": {
    "slideshow": {
     "slide_type": "slide"
    }
   },
   "source": [
    "### The output of K-Means can change!\n",
    "- K-Means always starts with random initial guesses to the groups of points.\n",
    "- So, each time you run K-Means, you might get a different answer"
   ]
  },
  {
   "cell_type": "markdown",
   "metadata": {
    "slideshow": {
     "slide_type": "slide"
    }
   },
   "source": [
    "### Let's examine the labels in more detail\n",
    "\n",
    "1. We execute K-Means as follows\n",
    "\n",
    "        kmeans = KMeans(n_clusters=2)\n",
    "        kmeans.fit(data)\n",
    "\n",
    "2. And then the labels are located here\n",
    "\n",
    "        kmeans.labels_\n",
    "\n",
    "3. Point 0 is in cluster `kmeans.labels_[0]`.  Point 1 is in cluster `kmeans.labels_[1]`, and so on.   \n",
    "\n",
    "4. So if \n",
    "\n",
    "        kmeans.labels_ = [1 1 1 1 1 0 0 1 0 0]\n",
    "\n",
    "   Then, points 0, 1, 2, 3, 4, and 7 are in the same cluster.  Points 5, 6, 8 and 9 are in the other."
   ]
  },
  {
   "cell_type": "markdown",
   "metadata": {
    "slideshow": {
     "slide_type": "slide"
    }
   },
   "source": [
    "### Note regarding clusters:\n",
    "\n",
    "It doesn't matter if `0, 1, 2, 3, 4, and 7` are in cluster 0 and `5, 6, 8 and 9` are in cluster 1.  \n",
    "\n",
    "Or the flip, if `0, 1, 2, 3, 4, and 7` are in cluster 1 and `5, 6, 8 and 9` are in cluster 0.  \n",
    "\n",
    "All that matters is that they are in different clusters, because these points form different groupings.\n",
    "\n",
    "### Stop and ask if you need help understanding how points are in certain clusters"
   ]
  },
  {
   "cell_type": "markdown",
   "metadata": {
    "slideshow": {
     "slide_type": "slide"
    }
   },
   "source": [
    "### Task: Create a loop that prints out each point and it's group (cluster number)\n",
    "\n",
    "Your output should look like this\n",
    "\n",
    "        point: (4, 22) is in group 0\n",
    "        point: (6, 20) is in group 0\n",
    "        point: (7, 21) is in group 0\n",
    "        point: (5, 18) is in group 0\n",
    "        point: (4, 15) is in group 0\n",
    "        point: (12, 24) is in group 1\n",
    "        point: (15, 26) is in group 1\n",
    "        point: (5, 19) is in group 0\n",
    "        point: (13, 24) is in group 1\n",
    "        point: (11, 23) is in group 1\n",
    "        \n",
    "        \n",
    "Or the flip,\n",
    "\n",
    "        point: (4, 22) is in group 1\n",
    "        point: (6, 20) is in group 1\n",
    "        point: (7, 21) is in group 1\n",
    "        point: (5, 18) is in group 1\n",
    "        point: (4, 15) is in group 1\n",
    "        point: (12, 24) is in group 0\n",
    "        point: (15, 26) is in group 0\n",
    "        point: (5, 19) is in group 1\n",
    "        point: (13, 24) is in group 0\n",
    "        point: (11, 23) is in group 0"
   ]
  },
  {
   "cell_type": "code",
   "execution_count": 8,
   "metadata": {},
   "outputs": [
    {
     "name": "stdout",
     "output_type": "stream",
     "text": [
      "point: (4, 22) is in group 1\n",
      "point: (6, 20) is in group 1\n",
      "point: (7, 21) is in group 1\n",
      "point: (5, 18) is in group 1\n",
      "point: (4, 15) is in group 1\n",
      "point: (12, 24) is in group 0\n",
      "point: (15, 26) is in group 0\n",
      "point: (5, 19) is in group 1\n",
      "point: (13, 24) is in group 0\n",
      "point: (11, 23) is in group 0\n"
     ]
    }
   ],
   "source": [
    "# Create loop here\n",
    "\n",
    "\n",
    "# Solution file only\n",
    "\n",
    "for i in range(10):\n",
    "    point = data[i]\n",
    "    label = kmeans.labels_[i]\n",
    "    print(\"point:\", point, \"is in group\", label)"
   ]
  },
  {
   "cell_type": "markdown",
   "metadata": {
    "slideshow": {
     "slide_type": "slide"
    }
   },
   "source": [
    "### Task.  Next, we need to generate an informative plot.  \n",
    "\n",
    "### Create a list `c` that equals \n",
    "\n",
    "    ['orange', 'orange', 'orange', 'orange', 'orange', 'purple', 'purple', 'orange', 'purple', 'purple']\n",
    "    \n",
    "Or\n",
    "\n",
    "    ['purple', 'purple', 'purple', 'purple', 'purple', 'orange', 'orange', 'purple', 'orange', 'orange']\n",
    "\n",
    "where entry k of the list equals `colors[ kmeans.labels_[k] ]`.  \n",
    "\n",
    "That is  `c[k]` should equal `colors[ kmeans.labels_[k] ]`."
   ]
  },
  {
   "cell_type": "code",
   "execution_count": 9,
   "metadata": {},
   "outputs": [],
   "source": [
    "# Create list c\n",
    "\n",
    "\n",
    "## Solution File Only\n",
    "#\n",
    "colors = [ 'orange', 'purple']\n",
    "c = [colors[k] for k in kmeans.labels_]"
   ]
  },
  {
   "cell_type": "markdown",
   "metadata": {
    "slideshow": {
     "slide_type": "slide"
    }
   },
   "source": [
    "### Task: Now, do a scatter plot with your new list `c`\n",
    "\n",
    "You should get a picture like (or possibly with the colors flipped)\n",
    "\n",
    "<img src=\"https://raw.githubusercontent.com/jbschroder/CS108/main/lecture_images/kmeans_scatter.png\" width=\"450\">"
   ]
  },
  {
   "cell_type": "code",
   "execution_count": 10,
   "metadata": {},
   "outputs": [
    {
     "data": {
      "image/png": "[encoded data removed]",
      "text/plain": [
       "<Figure size 640x480 with 1 Axes>"
      ]
     },
     "metadata": {},
     "output_type": "display_data"
    }
   ],
   "source": [
    "# Create scatter plot here\n",
    "\n",
    "\n",
    "## Solution file only\n",
    "# \n",
    "ax = df.plot.scatter(x='x', y='y', c=c)"
   ]
  },
  {
   "cell_type": "markdown",
   "metadata": {
    "slideshow": {
     "slide_type": "slide"
    }
   },
   "source": [
    "### Remember, that each cluster has a center.  \n",
    "\n",
    "### Lets take a look"
   ]
  },
  {
   "cell_type": "code",
   "execution_count": 11,
   "metadata": {
    "slideshow": {
     "slide_type": "-"
    }
   },
   "outputs": [
    {
     "name": "stdout",
     "output_type": "stream",
     "text": [
      "center 0: [12.75 24.25]\n",
      "center 1: [ 5.16666667 19.16666667]\n"
     ]
    }
   ],
   "source": [
    "center0 = kmeans.cluster_centers_[0]\n",
    "center1 = kmeans.cluster_centers_[1]\n",
    "print(\"center 0:\", center0)\n",
    "print(\"center 1:\", center1)\n"
   ]
  },
  {
   "cell_type": "markdown",
   "metadata": {
    "slideshow": {
     "slide_type": "slide"
    }
   },
   "source": [
    "### Now, we plot our centers.\n",
    "\n",
    "After a scatter plot, you can still put new information in your plot using `ax`.  For instance, to plot center 0 in orange, you would do\n",
    "\n",
    "        ax.plot(center0[0], center0[1], 'x', c='orange')\n",
    "        \n",
    "Task: Insert code in below cell to do both a scatter plot, and plot the centers\n",
    " - Plot center 0 in the correct color (orange or purple)\n",
    " - Plot center 1 in the correct color (orange or purple)\n",
    "\n",
    "You should get a picture like \n",
    "<img src=\"https://raw.githubusercontent.com/jbschroder/CS108/main/lecture_images/kmeans_scatter_w_centroid.png\" width=\"450\">"
   ]
  },
  {
   "cell_type": "code",
   "execution_count": 12,
   "metadata": {},
   "outputs": [
    {
     "data": {
      "text/plain": [
       "[<matplotlib.lines.Line2D at 0x1765b4ee0>]"
      ]
     },
     "execution_count": 12,
     "metadata": {},
     "output_type": "execute_result"
    },
    {
     "data": {
      "image/png": "[encoded data removed]",
      "text/plain": [
       "<Figure size 640x480 with 1 Axes>"
      ]
     },
     "metadata": {},
     "output_type": "display_data"
    }
   ],
   "source": [
    "# Plot centers using ax.plot(...)\n",
    "\n",
    "\n",
    "## Solution file only\n",
    "# \n",
    "ax = df.plot.scatter(x='x', y='y', c=c)\n",
    "ax.plot(center0[0], center0[1], 'x', c='orange')\n",
    "ax.plot(center1[0], center1[1], 'x', c='purple')"
   ]
  },
  {
   "cell_type": "markdown",
   "metadata": {
    "slideshow": {
     "slide_type": "slide"
    }
   },
   "source": [
    "### Inertia with K-Means\n",
    "\n",
    "- Inertia is the sum of the distance between every point in a cluster and the center\n",
    "\n",
    "- What do you think a good value for inertia is for a cluster?  Large or small?\n",
    "\n",
    "- What happens if we go from 2 clusters to 3 clusters and inertia doesn't change much?\n",
    "\n",
    "<img src=\"https://raw.githubusercontent.com/jbschroder/CS108/main/lecture_images/kmeans_inertia2.png\" width=\"450\">"
   ]
  },
  {
   "cell_type": "markdown",
   "metadata": {
    "slideshow": {
     "slide_type": "slide"
    }
   },
   "source": [
    "### We want small inertias\n",
    "\n",
    "### A small inertia means that all the points are close to their group's center\n",
    "\n",
    "### If going from K groups to K+1 groups doesn't change the inertia much, then we have enough groups.\n"
   ]
  },
  {
   "cell_type": "markdown",
   "metadata": {},
   "source": [
    "### Task: Run the below code cell.  This code generates K-Means using 1 cluster, then 2 clusters, then 3 clusters, up to 10 clusters.\n",
    "\n",
    "\n",
    "### The list `inertias[k]` stores the inertia when using `k` clusters\n",
    "\n",
    "### Task: Convert `inertias` to a dataframe and generate a plot that looks like this\n",
    "- Make sure to give title and xlabel and ylabel\n",
    "\n",
    "<img src=\"https://raw.githubusercontent.com/jbschroder/CS108/main/lecture_images/kmeans_inertia1.png\" width=\"450\">\n",
    "\n"
   ]
  },
  {
   "cell_type": "code",
   "execution_count": 13,
   "metadata": {},
   "outputs": [],
   "source": [
    "## Ignore warnings, we're just exploring\n",
    "inertias = []\n",
    "\n",
    "for i in range(1,11):\n",
    "    kmeans = KMeans(n_clusters=i)\n",
    "    kmeans.fit(data)\n",
    "    inertias.append(kmeans.inertia_)\n",
    "\n"
   ]
  },
  {
   "cell_type": "code",
   "execution_count": 14,
   "metadata": {},
   "outputs": [
    {
     "data": {
      "text/plain": [
       "[Text(0.5, 1.0, 'K-Means Inertia'),\n",
       " Text(0.5, 0, 'Number of Groups'),\n",
       " Text(0, 0.5, 'Inertia')]"
      ]
     },
     "execution_count": 14,
     "metadata": {},
     "output_type": "execute_result"
    },
    {
     "data": {
      "image/png": "[encoded data removed]",
      "text/plain": [
       "<Figure size 640x480 with 1 Axes>"
      ]
     },
     "metadata": {},
     "output_type": "display_data"
    }
   ],
   "source": [
    "# Generate inertia plot\n",
    "\n",
    "\n",
    "## Solution file only\n",
    "#\n",
    "df_inertia = pd.DataFrame({'inertias': inertias})\n",
    "ax = df_inertia.plot(kind='line', style=['-'])\n",
    "ax.set(title=\"K-Means Inertia\", xlabel=\"Number of Groups\", ylabel=\"Inertia\" )\n"
   ]
  },
  {
   "cell_type": "markdown",
   "metadata": {},
   "source": [
    "### Task: How many groups (clusters) do you think you need?\n",
    "\n",
    "### Does going from 2 groups to 3 groups, or from 3 groups to 4 groups lower the inertia by much?\n",
    "\n",
    "### Insert your discusion in the below cell using this template\n",
    "\n",
    "\n",
    "Application of a Quantitative Model: K-Means\n",
    "1. Describe the model used (K-Means)\n",
    "    - What is K-means.  How does K-Means work?  \n",
    "    - What do we use K-Means for?  To quantitatively analyze data...\n",
    "2. Plot your data after K-Means to show the application of the model\n",
    "  - Possibly plot for various numbers of clusters\n",
    "  - Show and discuss elbow plot\n",
    "  - Show that you've explored the model\n"
   ]
  },
  {
   "cell_type": "markdown",
   "metadata": {},
   "source": [
    "insert discussion"
   ]
  },
  {
   "cell_type": "code",
   "execution_count": null,
   "metadata": {},
   "outputs": [],
   "source": []
  },
  {
   "cell_type": "markdown",
   "metadata": {
    "slideshow": {
     "slide_type": "slide"
    }
   },
   "source": [
    "\n",
    "    "
   ]
  },
  {
   "cell_type": "code",
   "execution_count": 15,
   "metadata": {},
   "outputs": [
    {
     "data": {
      "image/png": "[encoded data removed]",
      "text/plain": [
       "<Figure size 640x480 with 1 Axes>"
      ]
     },
     "metadata": {},
     "output_type": "display_data"
    }
   ],
   "source": [
    "%matplotlib inline\n",
    "\n",
    "# K-Means toolkit\n",
    "from sklearn.cluster import KMeans\n",
    "\n",
    "# Data manipulation and analysis.http://localhost:8888/notebooks/kmeans1.ipynb#\n",
    "import pandas as pd\n",
    "\n",
    "##########\n",
    "\n",
    "# complete the basic clustering\n",
    "x = [4,  6,  7,  5,  4,  12, 15 , 5, 13, 11]\n",
    "y = [22, 20, 21, 18, 15, 24, 26, 19, 24, 23]\n",
    "\n",
    "data = list(zip(x, y))\n",
    "df = pd.DataFrame({'x': x, 'y': y})\n",
    "\n",
    "kmeans = KMeans(n_clusters=2)\n",
    "kmeans.fit(data)\n",
    "\n",
    "###########\n",
    "\n",
    "colors = [ 'purple', 'orange', 'olive', 'magenta', 'teal', 'red']\n",
    "c = [colors[k] for k in kmeans.labels_]\n",
    "\n",
    "centroid0 = kmeans.cluster_centers_[0]\n",
    "centroid1 = kmeans.cluster_centers_[1]\n",
    "\n",
    "ax = df.plot.scatter(x='x', y='y', c=c, s=70)\n",
    "ax.plot(centroid0[0], centroid0[1], 'x', c='purple', ms=8)\n",
    "ax.plot(centroid1[0], centroid1[1], 'x', c='orange', ms=8)\n",
    "\n",
    "# plot line between centroid and cluster\n",
    "for (x1,y1,cluster) in zip(x,y,kmeans.labels_):\n",
    "    ax.plot([x1, kmeans.cluster_centers_[cluster,0]],  [y1, kmeans.cluster_centers_[cluster,1]], '-k', linewidth=0.5)\n"
   ]
  },
  {
   "cell_type": "code",
   "execution_count": null,
   "metadata": {},
   "outputs": [],
   "source": []
  }
 ],
 "metadata": {
  "anaconda-cloud": {},
  "celltoolbar": "Slideshow",
  "kernelspec": {
   "display_name": "Python 3 (ipykernel)",
   "language": "python",
   "name": "python3"
  },
  "language_info": {
   "codemirror_mode": {
    "name": "ipython",
    "version": 3
   },
   "file_extension": ".py",
   "mimetype": "text/x-python",
   "name": "python",
   "nbconvert_exporter": "python",
   "pygments_lexer": "ipython3",
   "version": "3.10.8"
  },
  "widgets": {
   "state": {},
   "version": "1.1.2"
  }
 },
 "nbformat": 4,
 "nbformat_minor": 4
}
