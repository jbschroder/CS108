{
 "cells": [
  {
   "cell_type": "markdown",
   "metadata": {
    "slideshow": {
     "slide_type": "slide"
    }
   },
   "source": [
    "## Agent Based Modeling (ABM): Forest Fire Model 2\n",
    "-----------\n",
    "\n",
    "This material is based on the previous version of CS108L, see https://cs4all.cs.unm.edu/cs108.html\n",
    "- Credit to Prof. Melanie Moses, Dr. Irene Lee, Dr. Maureen Psaila-Dombrowski, Prof. Dave Ackley and collaborators (see website)"
   ]
  },
  {
   "cell_type": "markdown",
   "metadata": {
    "slideshow": {
     "slide_type": "slide"
    }
   },
   "source": [
    "### Learning Goals\n",
    "\n",
    "1. Continue learning how to use Mesa ABM \n",
    "    1. How to use ABM\n",
    "        - Conduct experiments by changing values and variables (like how flammable a tree is)\n",
    "        - Collect and analyze results\n",
    "    2. Learn how to modify ABM\n",
    "    3. Learn how to create ABM\n",
    "        \n",
    "        \n",
    "2. Continue using Forest Fire Model to run multiple experiments with different parameters (density, forest size, ...)\n",
    "    1. Agents are trees\n",
    "    2. Trees are randomly scattered on a grid with a user-defined density\n",
    "    3. Each step (iteration of the Runtime loop)\n",
    "        - If a tree is on fire, all neighboring trees also catch fire"
   ]
  },
  {
   "cell_type": "markdown",
   "metadata": {
    "slideshow": {
     "slide_type": "slide"
    }
   },
   "source": [
    "### Learning Goals\n",
    "\n",
    "3. New: Learn how intialize the forest with trees in the middle on fire\n",
    "\n",
    "4. New: Put your forest fire experiment inside a loop over many experiments\n",
    "    - That is, you will have one loop over many experiments (say 40)\n",
    "    - And inside that loop, you will carry out one experiment\n",
    "    - Compile average data on how much of the forest survives over all your experiments\n",
    "    - Plot and interpret your data\n"
   ]
  },
  {
   "cell_type": "markdown",
   "metadata": {
    "slideshow": {
     "slide_type": "slide"
    }
   },
   "source": [
    "### First, we have to make sure that Mesa is installed, and then import our basic packages\n",
    "- Note that Pandas and Seaborn or \"built-in\" packages, so we only have to import them, not install them"
   ]
  },
  {
   "cell_type": "code",
   "execution_count": 1,
   "metadata": {
    "slideshow": {
     "slide_type": "fragment"
    }
   },
   "outputs": [
    {
     "name": "stdout",
     "output_type": "stream",
     "text": [
      "Requirement already satisfied: mesa==2.1.1 in /opt/homebrew/lib/python3.10/site-packages (2.1.1)\n",
      "Requirement already satisfied: click in /opt/homebrew/lib/python3.10/site-packages (from mesa==2.1.1) (8.1.7)\n",
      "Requirement already satisfied: cookiecutter in /opt/homebrew/lib/python3.10/site-packages (from mesa==2.1.1) (2.3.0)\n",
      "Requirement already satisfied: networkx in /opt/homebrew/lib/python3.10/site-packages (from mesa==2.1.1) (3.1)\n",
      "Requirement already satisfied: numpy in /opt/homebrew/lib/python3.10/site-packages (from mesa==2.1.1) (1.23.4)\n",
      "Requirement already satisfied: pandas in /opt/homebrew/lib/python3.10/site-packages (from mesa==2.1.1) (2.0.3)\n",
      "Requirement already satisfied: solara in /opt/homebrew/lib/python3.10/site-packages (from mesa==2.1.1) (1.19.0)\n",
      "Requirement already satisfied: tornado in /opt/homebrew/lib/python3.10/site-packages (from mesa==2.1.1) (6.2)\n",
      "Requirement already satisfied: tqdm in /opt/homebrew/lib/python3.10/site-packages (from mesa==2.1.1) (4.64.1)\n",
      "Requirement already satisfied: binaryornot>=0.4.4 in /opt/homebrew/lib/python3.10/site-packages (from cookiecutter->mesa==2.1.1) (0.4.4)\n",
      "Requirement already satisfied: Jinja2<4.0.0,>=2.7 in /opt/homebrew/lib/python3.10/site-packages (from cookiecutter->mesa==2.1.1) (3.1.2)\n",
      "Requirement already satisfied: pyyaml>=5.3.1 in /opt/homebrew/lib/python3.10/site-packages (from cookiecutter->mesa==2.1.1) (6.0)\n",
      "Requirement already satisfied: python-slugify>=4.0.0 in /opt/homebrew/lib/python3.10/site-packages (from cookiecutter->mesa==2.1.1) (8.0.1)\n",
      "Requirement already satisfied: requests>=2.23.0 in /opt/homebrew/lib/python3.10/site-packages (from cookiecutter->mesa==2.1.1) (2.28.1)\n",
      "Requirement already satisfied: arrow in /opt/homebrew/lib/python3.10/site-packages (from cookiecutter->mesa==2.1.1) (1.2.3)\n",
      "Requirement already satisfied: rich in /opt/homebrew/lib/python3.10/site-packages (from cookiecutter->mesa==2.1.1) (13.5.2)\n",
      "Requirement already satisfied: python-dateutil>=2.8.2 in /opt/homebrew/lib/python3.10/site-packages (from pandas->mesa==2.1.1) (2.8.2)\n",
      "Requirement already satisfied: pytz>=2020.1 in /opt/homebrew/lib/python3.10/site-packages (from pandas->mesa==2.1.1) (2023.3)\n",
      "Requirement already satisfied: tzdata>=2022.1 in /opt/homebrew/lib/python3.10/site-packages (from pandas->mesa==2.1.1) (2023.3)\n",
      "Requirement already satisfied: cachetools in /opt/homebrew/lib/python3.10/site-packages (from solara->mesa==2.1.1) (5.3.1)\n",
      "Requirement already satisfied: filelock in /opt/homebrew/lib/python3.10/site-packages (from solara->mesa==2.1.1) (3.8.2)\n",
      "Requirement already satisfied: humanize in /opt/homebrew/lib/python3.10/site-packages (from solara->mesa==2.1.1) (4.8.0)\n",
      "Requirement already satisfied: ipykernel in /opt/homebrew/lib/python3.10/site-packages (from solara->mesa==2.1.1) (6.19.0)\n",
      "Requirement already satisfied: ipyvue>=1.9.0 in /opt/homebrew/lib/python3.10/site-packages (from solara->mesa==2.1.1) (1.9.2)\n",
      "Requirement already satisfied: ipyvuetify>=1.8.10 in /opt/homebrew/lib/python3.10/site-packages (from solara->mesa==2.1.1) (1.8.10)\n",
      "Requirement already satisfied: ipywidgets in /opt/homebrew/lib/python3.10/site-packages (from solara->mesa==2.1.1) (8.0.3)\n",
      "Requirement already satisfied: jupyter-client>=7.0.0 in /opt/homebrew/lib/python3.10/site-packages (from solara->mesa==2.1.1) (7.4.8)\n",
      "Requirement already satisfied: markdown in /opt/homebrew/lib/python3.10/site-packages (from solara->mesa==2.1.1) (3.4.4)\n",
      "Requirement already satisfied: markupsafe in /opt/homebrew/lib/python3.10/site-packages (from solara->mesa==2.1.1) (2.1.1)\n",
      "Requirement already satisfied: nbformat in /opt/homebrew/lib/python3.10/site-packages (from solara->mesa==2.1.1) (5.7.0)\n",
      "Requirement already satisfied: pymdown-extensions in /opt/homebrew/lib/python3.10/site-packages (from solara->mesa==2.1.1) (10.1)\n",
      "Requirement already satisfied: reacton>=1.7.1 in /opt/homebrew/lib/python3.10/site-packages (from solara->mesa==2.1.1) (1.7.1)\n",
      "Requirement already satisfied: rich-click in /opt/homebrew/lib/python3.10/site-packages (from solara->mesa==2.1.1) (1.6.1)\n",
      "Requirement already satisfied: starlette in /opt/homebrew/lib/python3.10/site-packages (from solara->mesa==2.1.1) (0.31.0)\n",
      "Requirement already satisfied: uvicorn in /opt/homebrew/lib/python3.10/site-packages (from solara->mesa==2.1.1) (0.23.2)\n",
      "Requirement already satisfied: watchdog in /opt/homebrew/lib/python3.10/site-packages (from solara->mesa==2.1.1) (3.0.0)\n",
      "Requirement already satisfied: websockets in /opt/homebrew/lib/python3.10/site-packages (from solara->mesa==2.1.1) (11.0.3)\n",
      "Requirement already satisfied: chardet>=3.0.2 in /opt/homebrew/lib/python3.10/site-packages (from binaryornot>=0.4.4->cookiecutter->mesa==2.1.1) (5.2.0)\n",
      "Requirement already satisfied: ipython>=6.1.0 in /opt/homebrew/lib/python3.10/site-packages (from ipywidgets->solara->mesa==2.1.1) (8.7.0)\n",
      "Requirement already satisfied: traitlets>=4.3.1 in /opt/homebrew/lib/python3.10/site-packages (from ipywidgets->solara->mesa==2.1.1) (5.7.0)\n",
      "Requirement already satisfied: widgetsnbextension~=4.0 in /opt/homebrew/lib/python3.10/site-packages (from ipywidgets->solara->mesa==2.1.1) (4.0.4)\n",
      "Requirement already satisfied: jupyterlab-widgets~=3.0 in /opt/homebrew/lib/python3.10/site-packages (from ipywidgets->solara->mesa==2.1.1) (3.0.4)\n",
      "Requirement already satisfied: appnope in /opt/homebrew/lib/python3.10/site-packages (from ipykernel->solara->mesa==2.1.1) (0.1.3)\n",
      "Requirement already satisfied: comm>=0.1.1 in /opt/homebrew/lib/python3.10/site-packages (from ipykernel->solara->mesa==2.1.1) (0.1.1)\n",
      "Requirement already satisfied: debugpy>=1.0 in /opt/homebrew/lib/python3.10/site-packages (from ipykernel->solara->mesa==2.1.1) (1.6.4)\n",
      "Requirement already satisfied: matplotlib-inline>=0.1 in /opt/homebrew/lib/python3.10/site-packages (from ipykernel->solara->mesa==2.1.1) (0.1.6)\n",
      "Requirement already satisfied: nest-asyncio in /opt/homebrew/lib/python3.10/site-packages (from ipykernel->solara->mesa==2.1.1) (1.5.6)\n",
      "Requirement already satisfied: packaging in /opt/homebrew/lib/python3.10/site-packages (from ipykernel->solara->mesa==2.1.1) (21.3)\n",
      "Requirement already satisfied: psutil in /opt/homebrew/lib/python3.10/site-packages (from ipykernel->solara->mesa==2.1.1) (5.9.4)\n",
      "Requirement already satisfied: pyzmq>=17 in /opt/homebrew/lib/python3.10/site-packages (from ipykernel->solara->mesa==2.1.1) (24.0.1)\n",
      "Requirement already satisfied: entrypoints in /opt/homebrew/lib/python3.10/site-packages (from jupyter-client>=7.0.0->solara->mesa==2.1.1) (0.4)\n",
      "Requirement already satisfied: jupyter-core>=4.9.2 in /opt/homebrew/lib/python3.10/site-packages (from jupyter-client>=7.0.0->solara->mesa==2.1.1) (5.1.0)\n",
      "Requirement already satisfied: six>=1.5 in /opt/homebrew/lib/python3.10/site-packages (from python-dateutil>=2.8.2->pandas->mesa==2.1.1) (1.16.0)\n",
      "Requirement already satisfied: text-unidecode>=1.3 in /opt/homebrew/lib/python3.10/site-packages (from python-slugify>=4.0.0->cookiecutter->mesa==2.1.1) (1.3)\n",
      "Requirement already satisfied: typing-extensions>=4.1.1 in /opt/homebrew/lib/python3.10/site-packages (from reacton>=1.7.1->solara->mesa==2.1.1) (4.3.0)\n",
      "Requirement already satisfied: charset-normalizer<3,>=2 in /opt/homebrew/lib/python3.10/site-packages (from requests>=2.23.0->cookiecutter->mesa==2.1.1) (2.1.1)\n",
      "Requirement already satisfied: idna<4,>=2.5 in /opt/homebrew/lib/python3.10/site-packages (from requests>=2.23.0->cookiecutter->mesa==2.1.1) (3.4)\n",
      "Requirement already satisfied: urllib3<1.27,>=1.21.1 in /opt/homebrew/lib/python3.10/site-packages (from requests>=2.23.0->cookiecutter->mesa==2.1.1) (1.26.12)\n",
      "Requirement already satisfied: certifi>=2017.4.17 in /opt/homebrew/lib/python3.10/site-packages (from requests>=2.23.0->cookiecutter->mesa==2.1.1) (2022.9.14)\n",
      "Requirement already satisfied: fastjsonschema in /opt/homebrew/lib/python3.10/site-packages (from nbformat->solara->mesa==2.1.1) (2.16.2)\n",
      "Requirement already satisfied: jsonschema>=2.6 in /opt/homebrew/lib/python3.10/site-packages (from nbformat->solara->mesa==2.1.1) (4.17.3)\n",
      "Requirement already satisfied: markdown-it-py>=2.2.0 in /opt/homebrew/lib/python3.10/site-packages (from rich->cookiecutter->mesa==2.1.1) (3.0.0)\n",
      "Requirement already satisfied: pygments<3.0.0,>=2.13.0 in /opt/homebrew/lib/python3.10/site-packages (from rich->cookiecutter->mesa==2.1.1) (2.13.0)\n"
     ]
    },
    {
     "name": "stdout",
     "output_type": "stream",
     "text": [
      "Requirement already satisfied: anyio<5,>=3.4.0 in /opt/homebrew/lib/python3.10/site-packages (from starlette->solara->mesa==2.1.1) (3.6.2)\n",
      "Requirement already satisfied: h11>=0.8 in /opt/homebrew/lib/python3.10/site-packages (from uvicorn->solara->mesa==2.1.1) (0.14.0)\n",
      "Requirement already satisfied: sniffio>=1.1 in /opt/homebrew/lib/python3.10/site-packages (from anyio<5,>=3.4.0->starlette->solara->mesa==2.1.1) (1.3.0)\n",
      "Requirement already satisfied: backcall in /opt/homebrew/lib/python3.10/site-packages (from ipython>=6.1.0->ipywidgets->solara->mesa==2.1.1) (0.2.0)\n",
      "Requirement already satisfied: decorator in /opt/homebrew/lib/python3.10/site-packages (from ipython>=6.1.0->ipywidgets->solara->mesa==2.1.1) (4.4.2)\n",
      "Requirement already satisfied: jedi>=0.16 in /opt/homebrew/lib/python3.10/site-packages (from ipython>=6.1.0->ipywidgets->solara->mesa==2.1.1) (0.18.1)\n",
      "Requirement already satisfied: pickleshare in /opt/homebrew/lib/python3.10/site-packages (from ipython>=6.1.0->ipywidgets->solara->mesa==2.1.1) (0.7.5)\n",
      "Requirement already satisfied: prompt-toolkit<3.1.0,>=3.0.11 in /opt/homebrew/lib/python3.10/site-packages (from ipython>=6.1.0->ipywidgets->solara->mesa==2.1.1) (3.0.31)\n",
      "Requirement already satisfied: stack-data in /opt/homebrew/lib/python3.10/site-packages (from ipython>=6.1.0->ipywidgets->solara->mesa==2.1.1) (0.5.0)\n",
      "Requirement already satisfied: pexpect>4.3 in /opt/homebrew/lib/python3.10/site-packages (from ipython>=6.1.0->ipywidgets->solara->mesa==2.1.1) (4.8.0)\n",
      "Requirement already satisfied: attrs>=17.4.0 in /opt/homebrew/lib/python3.10/site-packages (from jsonschema>=2.6->nbformat->solara->mesa==2.1.1) (22.1.0)\n",
      "Requirement already satisfied: pyrsistent!=0.17.0,!=0.17.1,!=0.17.2,>=0.14.0 in /opt/homebrew/lib/python3.10/site-packages (from jsonschema>=2.6->nbformat->solara->mesa==2.1.1) (0.19.2)\n",
      "Requirement already satisfied: platformdirs>=2.5 in /opt/homebrew/lib/python3.10/site-packages (from jupyter-core>=4.9.2->jupyter-client>=7.0.0->solara->mesa==2.1.1) (2.5.4)\n",
      "Requirement already satisfied: mdurl~=0.1 in /opt/homebrew/lib/python3.10/site-packages (from markdown-it-py>=2.2.0->rich->cookiecutter->mesa==2.1.1) (0.1.2)\n",
      "Requirement already satisfied: pyparsing!=3.0.5,>=2.0.2 in /opt/homebrew/lib/python3.10/site-packages (from packaging->ipykernel->solara->mesa==2.1.1) (3.0.9)\n",
      "Requirement already satisfied: parso<0.9.0,>=0.8.0 in /opt/homebrew/lib/python3.10/site-packages (from jedi>=0.16->ipython>=6.1.0->ipywidgets->solara->mesa==2.1.1) (0.8.3)\n",
      "Requirement already satisfied: ptyprocess>=0.5 in /opt/homebrew/lib/python3.10/site-packages (from pexpect>4.3->ipython>=6.1.0->ipywidgets->solara->mesa==2.1.1) (0.7.0)\n",
      "Requirement already satisfied: wcwidth in /opt/homebrew/lib/python3.10/site-packages (from prompt-toolkit<3.1.0,>=3.0.11->ipython>=6.1.0->ipywidgets->solara->mesa==2.1.1) (0.2.5)\n",
      "Requirement already satisfied: executing in /opt/homebrew/lib/python3.10/site-packages (from stack-data->ipython>=6.1.0->ipywidgets->solara->mesa==2.1.1) (1.0.0)\n",
      "Requirement already satisfied: asttokens in /opt/homebrew/lib/python3.10/site-packages (from stack-data->ipython>=6.1.0->ipywidgets->solara->mesa==2.1.1) (2.0.8)\n",
      "Requirement already satisfied: pure-eval in /opt/homebrew/lib/python3.10/site-packages (from stack-data->ipython>=6.1.0->ipywidgets->solara->mesa==2.1.1) (0.2.2)\n",
      "\n",
      "\u001b[1m[\u001b[0m\u001b[34;49mnotice\u001b[0m\u001b[1;39;49m]\u001b[0m\u001b[39;49m A new release of pip is available: \u001b[0m\u001b[31;49m23.3.2\u001b[0m\u001b[39;49m -> \u001b[0m\u001b[32;49m24.0\u001b[0m\n",
      "\u001b[1m[\u001b[0m\u001b[34;49mnotice\u001b[0m\u001b[1;39;49m]\u001b[0m\u001b[39;49m To update, run: \u001b[0m\u001b[32;49mpython3.10 -m pip install --upgrade pip\u001b[0m\n"
     ]
    }
   ],
   "source": [
    "! pip install mesa==2.1.1"
   ]
  },
  {
   "cell_type": "code",
   "execution_count": 2,
   "metadata": {
    "slideshow": {
     "slide_type": "slide"
    }
   },
   "outputs": [],
   "source": [
    "%matplotlib inline\n",
    "\n",
    "import mesa\n",
    "\n",
    "# Data visualization tools.\n",
    "import seaborn as sns\n",
    "\n",
    "# Data manipulation and analysis.\n",
    "import pandas as pd\n",
    "\n",
    "import matplotlib.pyplot as plt\n"
   ]
  },
  {
   "cell_type": "markdown",
   "metadata": {
    "slideshow": {
     "slide_type": "slide"
    }
   },
   "source": [
    "### Now, we can begin creating our forest fire model \n",
    "\n",
    "### First, we define  the TreeAgent (inherits from `mesa.Agent`)\n",
    "\n",
    "\n",
    "- Each Step (iteration of the Runtime loop)\n",
    "   - If a tree is on fire, all neighboring trees also catch fire\n",
    "   - Remember that the model step calls each agent step in random order\n"
   ]
  },
  {
   "cell_type": "code",
   "execution_count": 3,
   "metadata": {
    "slideshow": {
     "slide_type": "slide"
    }
   },
   "outputs": [],
   "source": [
    "# Create ABM\n",
    "\n",
    "# 1. Define the Agent Abstraction\n",
    "class TreeAgent(mesa.Agent):\n",
    "\n",
    "    def __init__(self, model, pos):\n",
    "        \"\"\"\n",
    "        Create a new tree.\n",
    "        \n",
    "        Parameters:\n",
    "            model: the agent based model, within which this agent is acting\n",
    "            \n",
    "            pos: The tree's coordinates on the grid. Used as the unique_id\n",
    "        \"\"\"\n",
    "        \n",
    "        super().__init__(pos, model)\n",
    "        self.pos = pos\n",
    "        self.unique_id = pos\n",
    "        self.condition = \"No Fire\"\n",
    "\n",
    "    def step(self):\n",
    "        \"\"\"\n",
    "        If the tree is on fire, spread it to `no fire` trees nearby.\n",
    "        \"\"\"\n",
    "        if self.condition == \"On Fire\":\n",
    "            neighbors = self.model.grid.get_neighbors(self.pos, moore=False)\n",
    "            for neighbor in neighbors:\n",
    "                if neighbor.condition == \"No Fire\":\n",
    "                    neighbor.condition = \"On Fire\"\n",
    "            self.condition = \"Burned Out\""
   ]
  },
  {
   "cell_type": "markdown",
   "metadata": {
    "slideshow": {
     "slide_type": "slide"
    }
   },
   "source": [
    "### Next, we define our ForestFireModel \n",
    "1. Randomly place trees on a grid according to a `density`\n",
    "\n",
    "   For each square on the grid\n",
    "    - If a random number between 0 and 1 is below `density`\n",
    "    - Then place a tree in that square\n",
    "\n",
    "   Thus, each grid cell in our forest has a `density` percent chance that a tree will be placed on it at the start of the simulation.\n",
    "\n",
    "\n",
    "2. Store the spatial locations of the agents for animations in `agent_locations`\n",
    "\n",
    "### The `ForestFireModel` defines two more of our key abstractions:\n",
    "1. This defines the environment where the agents (trees) exist\n",
    "2. This also defines how to take a step (tick) forward in time\n"
   ]
  },
  {
   "cell_type": "code",
   "execution_count": 4,
   "metadata": {
    "slideshow": {
     "slide_type": "slide"
    }
   },
   "outputs": [],
   "source": [
    "# 2. Define the Model (or environment) Abstraction for the Agents to live in\n",
    "class ForestFireModel(mesa.Model):\n",
    "    \"\"\"\n",
    "    Simple Forest Fire model.\n",
    "    \"\"\"\n",
    "\n",
    "    def __init__(self, width, height, density):\n",
    "        \"\"\"\n",
    "        Create a new forest fire model.\n",
    "\n",
    "        Args:\n",
    "            width, height: The size of the grid to model\n",
    "            density: What fraction of grid cells have a tree in them.\n",
    "        \"\"\"\n",
    "        # Set up model objects\n",
    "        self.schedule = mesa.time.RandomActivation(self)\n",
    "        self.grid = mesa.space.SingleGrid(width, height, torus=False)\n",
    "        self.width = width\n",
    "        self.height = height\n",
    "        \n",
    "        # Save the spatial location of the agents in this list\n",
    "        self.agent_locations = []\n",
    "        \n",
    "        # Store the number of trees with no fire, yes on fire, burned out \n",
    "        self.no_fire = []\n",
    "        self.yes_fire = []\n",
    "        self.burned_out = []\n",
    "        \n",
    "        # Place a tree in each cell with Prob = density\n",
    "        for x in range(self.width):\n",
    "            for y in range(self.height):\n",
    "                if self.random.random() < density:\n",
    "                    # Create a tree\n",
    "                    new_tree = TreeAgent(self, (x, y))\n",
    "                    # Set all trees in the first column on fire.\n",
    "                    if x == 0:\n",
    "                        new_tree.condition = \"On Fire\"\n",
    "                    self.grid[x][y] = new_tree\n",
    "                    self.schedule.add(new_tree)\n",
    "                    \n",
    "        self.running = True\n",
    "\n",
    "    def step(self):\n",
    "        \"\"\"\n",
    "        Advance the model by one step.\n",
    "        \"\"\"\n",
    "        self.schedule.step()\n",
    "            \n",
    "        # Store spatial locations, and whether a tree is on fire or not\n",
    "        import numpy as np\n",
    "        agent_counts = np.zeros((self.grid.width, self.grid.height))\n",
    "        for cell_content, (x, y) in self.grid.coord_iter():\n",
    "            if cell_content == None:\n",
    "                # No tree here, label 0\n",
    "                agent_counts[x][y] = 0\n",
    "            else: \n",
    "                # Now, we know that this cell has a tree and that cell_content is a tree agent\n",
    "                if cell_content.condition == \"No Fire\":\n",
    "                    agent_counts[x][y] = 1\n",
    "                elif cell_content.condition == \"On Fire\":\n",
    "                    agent_counts[x][y] = 2\n",
    "                elif cell_content.condition == \"Burned Out\":\n",
    "                    agent_counts[x][y] = 3\n",
    "                    \n",
    "        self.agent_locations.append(agent_counts)\n",
    "        \n",
    "        # Count the number of trees with no fire, yes on fire, burned out \n",
    "        count_no_fire = 0\n",
    "        count_yes_fire = 0\n",
    "        count_burned_out = 0\n",
    "        for tree in self.schedule.agents:\n",
    "            if tree.condition == \"No Fire\":\n",
    "                count_no_fire += 1\n",
    "            elif tree.condition == \"On Fire\":\n",
    "                count_yes_fire += 1    \n",
    "            elif tree.condition == \"Burned Out\":\n",
    "                count_burned_out += 1    \n",
    "        ##\n",
    "        self.no_fire.append(count_no_fire)\n",
    "        self.yes_fire.append(count_yes_fire)\n",
    "        self.burned_out.append(count_burned_out)\n"
   ]
  },
  {
   "cell_type": "markdown",
   "metadata": {
    "slideshow": {
     "slide_type": "slide"
    }
   },
   "source": [
    "### The below cell will generate animations.  \n",
    "- Run this cell, to declare (define) this function\n",
    "- This function is provided for you.  You only need to know how to use it. It generate animations of your agents as they move around on the grid."
   ]
  },
  {
   "cell_type": "code",
   "execution_count": 5,
   "metadata": {
    "slideshow": {
     "slide_type": "slide"
    }
   },
   "outputs": [],
   "source": [
    "# Run this cell\n",
    "def plot_agents(model):\n",
    "    import numpy as np\n",
    "    import seaborn as sns\n",
    "    import matplotlib.animation\n",
    "    import matplotlib.pyplot as plt\n",
    "    import matplotlib\n",
    "    \n",
    "    try:\n",
    "      # if in a notebook, do inline\n",
    "      get_ipython().run_line_magic('matplotlib', 'inline')\n",
    "    except:\n",
    "      pass\n",
    "\n",
    "    plt.rcParams['figure.dpi'] = 72\n",
    "    plt.rcParams[\"animation.html\"] = \"jshtml\" # javascript html writer\n",
    "    plt.ioff() # Turn interactive mode off\n",
    "    plt.rcParams[\"figure.figsize\"] = [7, 7]\n",
    "\n",
    "    \n",
    "    fig, ax = plt.subplots()\n",
    "    global counter \n",
    "    counter = 0\n",
    "    \n",
    "    def animate(t):\n",
    "        global counter\n",
    "        agent_counts = model.agent_locations[t]\n",
    "        \n",
    "        cmap_dict = {0: '#FFFFFF', 1: '#00e400', 2: '#ff0000', 3: '#544c4a'}\n",
    "        cmap = matplotlib.colors.ListedColormap([cmap_dict[i] for i in range(4)])\n",
    "        \n",
    "        # Plot using seaborn\n",
    "        if counter == 0:\n",
    "            g = sns.heatmap(agent_counts, vmin=0, vmax=3, cmap=cmap, cbar=True, square=True, ax=ax)\n",
    "            c_bar = ax.collections[0].colorbar\n",
    "            c_bar.set_ticks([0.5, 1.15, 1.9, 2.65])\n",
    "            c_bar.set_ticklabels(['Empty', 'Tree', 'On Fire', 'Burned Out'])\n",
    "        else:\n",
    "            g = sns.heatmap(agent_counts, vmin=0, vmax=3, cmap=cmap, cbar=False, square=True, ax=ax)\n",
    "\n",
    "        g.figure.set_size_inches(7, 7)\n",
    "        g.set(title=\"Forest Fire Model\")\n",
    "        counter = counter+1\n",
    "\n",
    "        \n",
    "    anim = matplotlib.animation.FuncAnimation(fig, animate, frames=len(model.agent_locations), interval=200, repeat=False)\n",
    "    return anim\n"
   ]
  },
  {
   "cell_type": "markdown",
   "metadata": {
    "slideshow": {
     "slide_type": "slide"
    }
   },
   "source": [
    "### Task: Update the `ForestFireModel` to use the changes from the last lab\n",
    "- That is, `ForestFireModel` should create and use the list `percent_burned`"
   ]
  },
  {
   "cell_type": "markdown",
   "metadata": {},
   "source": [
    "### Task: Examine `ForestFireModel.__init__`\n",
    "- Where in this function is the initial fire condition set?\n",
    "- That is, where in this function is the code that sets all the trees in the first column (where x == 0) on fire?\n",
    "\n",
    "### Change this, so that the middle column begins on fire (where x == 24).  \n",
    "\n",
    "### Run the below experiment\n",
    "- How does this change the forest fire experiment?"
   ]
  },
  {
   "cell_type": "code",
   "execution_count": 6,
   "metadata": {
    "slideshow": {
     "slide_type": "slide"
    }
   },
   "outputs": [],
   "source": [
    "fire_model = ForestFireModel(50, 50, 0.6)\n",
    "\n",
    "for i in range(50):\n",
    "    fire_model.step()\n",
    "\n",
    "anim = plot_agents(fire_model)\n",
    "anim"
   ]
  },
  {
   "cell_type": "markdown",
   "metadata": {},
   "source": [
    "### Task: Experiment with the above cell, run it for various values of density and number of steps"
   ]
  },
  {
   "cell_type": "markdown",
   "metadata": {},
   "source": [
    "### Task: Determine average behavior over many experiments\n",
    "\n",
    "Next, create a new code cell below and put the above experiment inside a loop.  Your new code should have this structure.\n",
    "\n",
    "       for 40 experiments\n",
    "       \n",
    "           final_percentage_burned = []\n",
    "       \n",
    "           for j in range(40):\n",
    "                ... run one experiment with enough steps...\n",
    "                ... final_percentage_burned.append(...) ...\n",
    "                \n",
    "The list `final_percentage_burned` should contain the percent of the forest burned down at the END\n",
    "- That is, `final_percentage_burned[k]` should contain the percent of the forest burned down at the end of experiment `k`\n",
    "- If you run 40 experiments, the `final_percentage_burned` will be a list with 40 entries"
   ]
  },
  {
   "cell_type": "markdown",
   "metadata": {},
   "source": [
    "### Task continued:\n",
    "\n",
    "Then, look at basic statistics to understand how the forest is affected by fire on average.  You can use pandas\n",
    "\n",
    "        df = pd.DataFrame({'final_percentage_burned': final_percentage_burned})\n",
    "        print(\"Averge percent of forest left: \", df['final_percentage_burned'].mean())\n",
    "        ... print the same for df['final_percentage_burned'].median()\n",
    "        ... print the same for df['final_percentage_burned'].min()\n",
    "        ... print the same for df['final_percentage_burned'].max()\n",
    " "
   ]
  },
  {
   "cell_type": "code",
   "execution_count": null,
   "metadata": {},
   "outputs": [],
   "source": []
  },
  {
   "cell_type": "markdown",
   "metadata": {},
   "source": [
    "### Task: Copy and paste your above cell over 40 experiments into the below cells\n",
    "  - Change the density to be different than 0.6\n",
    "  - Copy and past 3 times, so that you run 4 total experiments with different densities\n",
    "  - Make sure to comptue the mean, median, min, and max statistics for each experiment\n",
    "      - Compute this in the same code cell in which you run your 40 experiments\n",
    "    \n",
    "### Task: Work on your results discussion below"
   ]
  },
  {
   "cell_type": "code",
   "execution_count": null,
   "metadata": {
    "slideshow": {
     "slide_type": "slide"
    }
   },
   "outputs": [],
   "source": []
  },
  {
   "cell_type": "code",
   "execution_count": null,
   "metadata": {
    "slideshow": {
     "slide_type": "slide"
    }
   },
   "outputs": [],
   "source": []
  },
  {
   "cell_type": "markdown",
   "metadata": {
    "slideshow": {
     "slide_type": "slide"
    }
   },
   "source": [
    "### Discussion template\n",
    "\n",
    "1. Evidence acquisition \n",
    "     - Describe the experiments you conducted. Give all the details, number of agents, steps, abstractions used, and so on. \n",
    "     - You are describing application of a quantitative model (the agent based model)\n",
    "\n",
    "2. Evidence evaluation \n",
    "    - Discuss your plots and any other results.  What did you find? \n",
    "    - You are communicating and representing quantitative information\n",
    "    \n",
    "3. Conclusion\n",
    "    - What can you conclude?  \n",
    "    - What is still unexplained? "
   ]
  },
  {
   "cell_type": "markdown",
   "metadata": {
    "slideshow": {
     "slide_type": "slide"
    }
   },
   "source": [
    "### In particular, here you want to focus on these questions\n",
    "\n",
    "### Previous Questions: \n",
    "\n",
    "- What number of steps are needed to make sure the forest fire has stopped spreading?\n",
    "    - How many steps do you need for quality evidence acquisition?\n",
    "\n",
    "- How does density affect the forest fire model?  \n",
    "    - Be specific, like, \"A density of 0.5 represents a probability of 50% that a grid cell in our forest will have a tree in it at the start of the simulation.  With a density of 0.5, we see that the forest fire is likely to ...\"\n",
    "\n",
    "- Can this inform how we might manage a forest in real life?\n",
    "\n",
    "\n",
    "### New Question: What is the effect of starting the fire in the middle?  Is the forest more likely to burn down, for a given density?\n"
   ]
  },
  {
   "cell_type": "markdown",
   "metadata": {
    "slideshow": {
     "slide_type": "slide"
    }
   },
   "source": [
    "Discussion goes here"
   ]
  },
  {
   "cell_type": "code",
   "execution_count": null,
   "metadata": {},
   "outputs": [],
   "source": []
  },
  {
   "cell_type": "code",
   "execution_count": null,
   "metadata": {},
   "outputs": [],
   "source": []
  },
  {
   "cell_type": "markdown",
   "metadata": {},
   "source": [
    "Discuss your homework in at least 500 words.  Have sections for \n",
    "\n",
    "1. Evidence acquisition \n",
    "     - Describe the experiments you conducted. Give all the details, number of agents, steps, abstractions used, and so on. \n",
    "     - You are describing application of a quantitative model (the agent based model)\n",
    "\n",
    "2. Evidence evaluation \n",
    "    - Discuss your plots and any other results.  What did you find? \n",
    "    - You are communicating and representing quantitative information\n",
    "    \n",
    "3. Conclusion\n",
    "    - What can you conclude?  \n",
    "    - What is still unexplained? \n",
    "    - You've compared two models (one where agents can move, and one where they cannot).  \n",
    "        - Does this tell you anything how trading in the real world might work?  \n",
    "        - What details are missing in the model that you think are most needed?\n",
    "\n",
    "\n",
    "what is the number of steps for quality acquisition?\n",
    "how does density affect things?\n",
    "can this inform how we might manage a forest in real life?\n",
    "\n",
    "\n",
    "\n",
    "Sustainability and the natural and human worlds, plus ethical reasoning, in focus.  Ask them to decide on forest thinning to prevent fires, and to then also think about other downsides of that (discuss).  Probably link to articles that don't like thinning.\n",
    "\n",
    "Density (i.e., thinning)\n"
   ]
  },
  {
   "cell_type": "markdown",
   "metadata": {},
   "source": [
    "This will ahve same structure as before...thank god...\n",
    "\n",
    "3.      Give trees a flammability \n",
    "\n",
    "        if neighbor.condition == \"No Fire\":\n",
    "            neighbor.condition = \"On Fire\"\n",
    "        \n",
    "        becomes\n",
    "        \n",
    "        probability_fire_spread = ...some.value.between.0.and.1...\n",
    "        if neighbor.condition == \"No Fire\":\n",
    "            if self.random.random() < probability_fire_spreads:\n",
    "                neighbor.condition = \"On Fire\"\n",
    "\n",
    "\n",
    "Make sure to run your experiments long enough\n",
    "\n",
    "Investigate over 50 or 100 experiments\n",
    "   - various density values from 0.3 to 0.8\n",
    "   - probability_fire_spread from 0.3 to 1.0\n",
    "       - Choose a density here, say 0.8\n",
    "\n",
    "   - for each experiment plot `plot final_percentage_burned`  \n",
    "   \n",
    "     If you looked at densities 0.3, 0.5, 0.6, 0.7, 0.8, that's five plots\n",
    "   \n",
    "     If you looked at `probability_fire_spread` for 0.25, 0.5, 0.75, 1.0, that's four plots\n",
    "\n",
    "\n",
    "Read these articles and watch this video, before writing your discussion\n",
    "\n",
    "https://www.abqjournal.com/lifestyle/fighting-fire-with-prevention-city-project-works-to-ensure-the-health-safety-of-the-bosque/article_097e666e-b3e6-11ee-be3a-37223009f7f7.html#5\n",
    "\n",
    "https://www.kunm.org/local-news/2024-03-01/albuquerque-official-responds-to-residents-concerns-about-the-bosque-thinning-project\n",
    "\n",
    "when is thinning OK?  how could you use ABM to decide to do it?  how would you account for resident's concerns?\n",
    "\n",
    "Watch this Los Alamos National Lab video\n",
    "https://www.youtube.com/watch?v=Xg6rciZtyhU\n",
    "          \n",
    "What details is our model lacking that you think it needs?  What would be the 2 or 3 things you think need most changing?          \n",
    "\n"
   ]
  },
  {
   "cell_type": "markdown",
   "metadata": {},
   "source": [
    "### Homework Discussion Goes here"
   ]
  },
  {
   "cell_type": "markdown",
   "metadata": {},
   "source": [
    "### Homework Submission Instructions\n",
    "\n",
    "### The homework submission instructions are different this week. \n",
    "\n",
    "### Download your notebook as an \".ipynb\" file, and upload the ipynb file as your assignment to Canvas.\n",
    "\n",
    "### Do not upload a .py file"
   ]
  },
  {
   "cell_type": "code",
   "execution_count": null,
   "metadata": {},
   "outputs": [],
   "source": []
  }
 ],
 "metadata": {
  "anaconda-cloud": {},
  "celltoolbar": "Slideshow",
  "kernelspec": {
   "display_name": "Python 3 (ipykernel)",
   "language": "python",
   "name": "python3"
  },
  "language_info": {
   "codemirror_mode": {
    "name": "ipython",
    "version": 3
   },
   "file_extension": ".py",
   "mimetype": "text/x-python",
   "name": "python",
   "nbconvert_exporter": "python",
   "pygments_lexer": "ipython3",
   "version": "3.10.8"
  },
  "widgets": {
   "state": {},
   "version": "1.1.2"
  }
 },
 "nbformat": 4,
 "nbformat_minor": 4
}
