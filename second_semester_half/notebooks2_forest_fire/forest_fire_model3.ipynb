{
 "cells": [
  {
   "cell_type": "markdown",
   "metadata": {
    "slideshow": {
     "slide_type": "slide"
    }
   },
   "source": [
    "## Agent Based Modeling (ABM): Forest Fire Model 3\n",
    "-----------\n",
    "\n",
    "This material is based on the previous version of CS108L, see https://cs4all.cs.unm.edu/cs108.html\n",
    "- Credit to Prof. Melanie Moses, Dr. Irene Lee, Dr. Maureen Psaila-Dombrowski, Prof. Dave Ackley and collaborators (see website)"
   ]
  },
  {
   "cell_type": "markdown",
   "metadata": {
    "slideshow": {
     "slide_type": "slide"
    }
   },
   "source": [
    "### Learning Goals\n",
    "\n",
    "1. Continue learning how to use Mesa ABM \n",
    "    1. How to use ABM\n",
    "        - Conduct experiments by changing values and variables (like how flammable a tree is)\n",
    "        - Collect and analyze results\n",
    "    2. Learn how to modify ABM\n",
    "    3. Learn how to create ABM\n",
    "        \n",
    "        \n",
    "2. Continue using Forest Fire Model to run multiple experiments with different parameters (density, forest size, ...)\n",
    "    1. Agents are trees\n",
    "    2. Trees are randomly scattered on a grid with a user-defined density\n",
    "    3. Each step (iteration of the Runtime loop)\n",
    "        - If a tree is on fire, all neighboring trees also catch fire"
   ]
  },
  {
   "cell_type": "markdown",
   "metadata": {
    "slideshow": {
     "slide_type": "slide"
    }
   },
   "source": [
    "### Learning Goals\n",
    "\n",
    "3. Continue learning how to put your forest fire experiment inside a loop over many experiments\n",
    "    - That is, you will have one loop over many experiments (say 40)\n",
    "    - And inside that loop, you will carry out one experiment\n",
    "    - Compile average data on how much of the forest survives over all your experiments\n",
    "   \n",
    "4. New: Give trees a percent chance of catching on fire if a neighbor is burning\n",
    "    - Currently all trees next to a burning tree catch fire with 100% probability"
   ]
  },
  {
   "cell_type": "markdown",
   "metadata": {
    "slideshow": {
     "slide_type": "slide"
    }
   },
   "source": [
    "### First, we have to make sure that Mesa is installed, and then import our basic packages\n",
    "- Note that Pandas and Seaborn or \"built-in\" packages, so we only have to import them, not install them"
   ]
  },
  {
   "cell_type": "code",
   "execution_count": null,
   "metadata": {
    "slideshow": {
     "slide_type": "fragment"
    }
   },
   "outputs": [],
   "source": [
    "! pip install mesa==2.1.1"
   ]
  },
  {
   "cell_type": "code",
   "execution_count": null,
   "metadata": {
    "slideshow": {
     "slide_type": "slide"
    }
   },
   "outputs": [],
   "source": [
    "%matplotlib inline\n",
    "\n",
    "import mesa\n",
    "\n",
    "# Data visualization tools.\n",
    "import seaborn as sns\n",
    "\n",
    "# Data manipulation and analysis.\n",
    "import pandas as pd\n"
   ]
  },
  {
   "cell_type": "markdown",
   "metadata": {
    "slideshow": {
     "slide_type": "slide"
    }
   },
   "source": [
    "### Now, we can begin creating our forest fire model \n",
    "\n",
    "### First, we define  the TreeAgent (inherits from `mesa.Agent`)\n",
    "\n",
    "\n",
    "- Each Step (iteration of the Runtime loop)\n",
    "   - If a tree is on fire, all neighboring trees also catch fire\n",
    "   - Remember that the model step calls each agent step in random order\n"
   ]
  },
  {
   "cell_type": "code",
   "execution_count": null,
   "metadata": {
    "slideshow": {
     "slide_type": "slide"
    }
   },
   "outputs": [],
   "source": [
    "# Create ABM\n",
    "\n",
    "# 1. Define the Agent Abstraction\n",
    "class TreeAgent(mesa.Agent):\n",
    "\n",
    "    def __init__(self, model, pos):\n",
    "        \"\"\"\n",
    "        Create a new tree.\n",
    "        \n",
    "        Parameters:\n",
    "            model: the agent based model, within which this agent is acting\n",
    "            \n",
    "            pos: The tree's coordinates on the grid. Used as the unique_id\n",
    "        \"\"\"\n",
    "        \n",
    "        super().__init__(pos, model)\n",
    "        self.pos = pos\n",
    "        self.unique_id = pos\n",
    "        self.condition = \"No Fire\"\n",
    "\n",
    "    def step(self):\n",
    "        \"\"\"\n",
    "        If the tree is on fire, spread it to `no fire` trees nearby.\n",
    "        \"\"\"\n",
    "        if self.condition == \"On Fire\":\n",
    "            neighbors = self.model.grid.get_neighbors(self.pos, moore=False)\n",
    "            for neighbor in neighbors:\n",
    "                if neighbor.condition == \"No Fire\":\n",
    "                    neighbor.condition = \"On Fire\"\n",
    "            self.condition = \"Burned Out\""
   ]
  },
  {
   "cell_type": "markdown",
   "metadata": {
    "slideshow": {
     "slide_type": "slide"
    }
   },
   "source": [
    "### Next, we define our ForestFireModel \n",
    "1. Randomly place trees on a grid according to a `density`\n",
    "\n",
    "   For each square on the grid\n",
    "    - If a random number between 0 and 1 is below `density`\n",
    "    - Then place a tree in that square\n",
    "\n",
    "   For example, a density of 0.7 indicates that there is a 70% chance that a tree will be placed on a square at the start of the simulation. \n",
    "\n",
    "\n",
    "2. Store the spatial locations of the agents for animations in `agent_locations`\n",
    "\n",
    "### The `ForestFireModel` defines two more of our key abstractions:\n",
    "1. This defines the environment where the agents (trees) exist\n",
    "2. This also defines how to take a step (tick) forward in time\n"
   ]
  },
  {
   "cell_type": "code",
   "execution_count": null,
   "metadata": {
    "slideshow": {
     "slide_type": "slide"
    }
   },
   "outputs": [],
   "source": [
    "# 2. Define the Model (or environment) Abstraction for the Agents to live in\n",
    "class ForestFireModel(mesa.Model):\n",
    "    \"\"\"\n",
    "    Simple Forest Fire model.\n",
    "    \"\"\"\n",
    "\n",
    "    def __init__(self, width, height, density):\n",
    "        \"\"\"\n",
    "        Create a new forest fire model.\n",
    "\n",
    "        Args:\n",
    "            width, height: The size of the grid to model\n",
    "            density: What fraction of grid cells have a tree in them.\n",
    "        \"\"\"\n",
    "        # Set up model objects\n",
    "        self.schedule = mesa.time.RandomActivation(self)\n",
    "        self.grid = mesa.space.SingleGrid(width, height, torus=False)\n",
    "        self.width = width\n",
    "        self.height = height\n",
    "        \n",
    "        # Save the spatial location of the agents in this list\n",
    "        self.agent_locations = []\n",
    "        \n",
    "        # Store the number of trees with no fire, yes on fire, burned out \n",
    "        self.no_fire = []\n",
    "        self.yes_fire = []\n",
    "        self.burned_out = []\n",
    "        \n",
    "        # Place a tree in each cell with Prob = density\n",
    "        for x in range(self.width):\n",
    "            for y in range(self.height):\n",
    "                if self.random.random() < density:\n",
    "                    # Create a tree\n",
    "                    new_tree = TreeAgent(self, (x, y))\n",
    "                    # Set all trees in the first column on fire.\n",
    "                    if x == 0:\n",
    "                        new_tree.condition = \"On Fire\"\n",
    "                    self.grid[x][y] = new_tree\n",
    "                    self.schedule.add(new_tree)\n",
    "                    \n",
    "        self.running = True\n",
    "\n",
    "    def step(self):\n",
    "        \"\"\"\n",
    "        Advance the model by one step.\n",
    "        \"\"\"\n",
    "        self.schedule.step()\n",
    "            \n",
    "        # Store spatial locations, and whether a tree is on fire or not\n",
    "        import numpy as np\n",
    "        agent_counts = np.zeros((self.grid.width, self.grid.height))\n",
    "        for cell_content, (x, y) in self.grid.coord_iter():\n",
    "            if cell_content == None:\n",
    "                # No tree here, label 0\n",
    "                agent_counts[x][y] = 0\n",
    "            else: \n",
    "                # Now, we know that this cell has a tree and that cell_content is a tree agent\n",
    "                if cell_content.condition == \"No Fire\":\n",
    "                    agent_counts[x][y] = 1\n",
    "                elif cell_content.condition == \"On Fire\":\n",
    "                    agent_counts[x][y] = 2\n",
    "                elif cell_content.condition == \"Burned Out\":\n",
    "                    agent_counts[x][y] = 3\n",
    "                    \n",
    "        self.agent_locations.append(agent_counts)\n",
    "        \n",
    "        # Count the number of trees with no fire, yes on fire, burned out \n",
    "        count_no_fire = 0\n",
    "        count_yes_fire = 0\n",
    "        count_burned_out = 0\n",
    "        for tree in self.schedule.agents:\n",
    "            if tree.condition == \"No Fire\":\n",
    "                count_no_fire += 1\n",
    "            elif tree.condition == \"On Fire\":\n",
    "                count_yes_fire += 1    \n",
    "            elif tree.condition == \"Burned Out\":\n",
    "                count_burned_out += 1    \n",
    "        ##\n",
    "        self.no_fire.append(count_no_fire)\n",
    "        self.yes_fire.append(count_yes_fire)\n",
    "        self.burned_out.append(count_burned_out)\n"
   ]
  },
  {
   "cell_type": "markdown",
   "metadata": {
    "slideshow": {
     "slide_type": "slide"
    }
   },
   "source": [
    "### The below cell will generate animations.  \n",
    "- Run this cell, to declare (define) this function\n",
    "- This function is provided for you.  You only need to know how to use it. It generate animations of your agents as they move around on the grid."
   ]
  },
  {
   "cell_type": "code",
   "execution_count": null,
   "metadata": {
    "slideshow": {
     "slide_type": "slide"
    }
   },
   "outputs": [],
   "source": [
    "# Run this cell\n",
    "def plot_agents(model):\n",
    "    import numpy as np\n",
    "    import seaborn as sns\n",
    "    import matplotlib.animation\n",
    "    import matplotlib.pyplot as plt\n",
    "    import matplotlib\n",
    "    \n",
    "    try:\n",
    "      # if in a notebook, do inline\n",
    "      get_ipython().run_line_magic('matplotlib', 'inline')\n",
    "    except:\n",
    "      pass\n",
    "\n",
    "    plt.rcParams['figure.dpi'] = 72\n",
    "    plt.rcParams[\"animation.html\"] = \"jshtml\" # javascript html writer\n",
    "    plt.ioff() # Turn interactive mode off\n",
    "    plt.rcParams[\"figure.figsize\"] = [7, 7]\n",
    "\n",
    "    \n",
    "    fig, ax = plt.subplots()\n",
    "    global counter \n",
    "    counter = 0\n",
    "    \n",
    "    def animate(t):\n",
    "        global counter\n",
    "        agent_counts = model.agent_locations[t]\n",
    "        \n",
    "        cmap_dict = {0: '#FFFFFF', 1: '#00e400', 2: '#ff0000', 3: '#544c4a'}\n",
    "        cmap = matplotlib.colors.ListedColormap([cmap_dict[i] for i in range(4)])\n",
    "        \n",
    "        # Plot using seaborn\n",
    "        if counter == 0:\n",
    "            g = sns.heatmap(agent_counts, vmin=0, vmax=3, cmap=cmap, cbar=True, square=True, ax=ax)\n",
    "            c_bar = ax.collections[0].colorbar\n",
    "            c_bar.set_ticks([0.5, 1.15, 1.9, 2.65])\n",
    "            c_bar.set_ticklabels(['Empty', 'Tree', 'On Fire', 'Burned Out'])\n",
    "        else:\n",
    "            g = sns.heatmap(agent_counts, vmin=0, vmax=3, cmap=cmap, cbar=False, square=True, ax=ax)\n",
    "\n",
    "        g.figure.set_size_inches(7, 7)\n",
    "        g.set(title=\"Forest Fire Model\")\n",
    "        counter = counter+1\n",
    "\n",
    "        \n",
    "    anim = matplotlib.animation.FuncAnimation(fig, animate, frames=len(model.agent_locations), interval=200, repeat=False)\n",
    "    return anim\n"
   ]
  },
  {
   "cell_type": "markdown",
   "metadata": {
    "slideshow": {
     "slide_type": "slide"
    }
   },
   "source": [
    "### Task: Update the `ForestFireModel` to use the changes from the last lab\n",
    "- That is, `ForestFireModel` should create and use the list `percent_burned`"
   ]
  },
  {
   "cell_type": "markdown",
   "metadata": {
    "slideshow": {
     "slide_type": "slide"
    }
   },
   "source": [
    "### Task: Extend `ForestFireModel` so that trees catch fire with a probability\n",
    "\n",
    "Currently, there is a 100% chance that a tree catches on fire, whenever a neighboring trees is on fire.\n",
    "\n",
    "We will make this more realistic by assigning a probability here.\n",
    "\n",
    "You will want to find this code\n",
    "\n",
    "        if neighbor.condition == \"No Fire\":\n",
    "            neighbor.condition = \"On Fire\"\n",
    "        \n",
    "And change it so that `neighbor.condition = \"On Fire\"` is executed (run) based on a percent.\n",
    "\n",
    "Your new code will look something like\n",
    "\n",
    "        ... update __init__ so that the user can specify a value for probability_fire_spread\n",
    "        ... the ForestFireModel class should have a self.probability_fire_spread value between 0 and 1.0\n",
    "        ... and the self.probability_fire_spread is assigned (set) inside __init__\n",
    "        ...\n",
    "        ...\n",
    "        if neighbor.condition == \"No Fire\":\n",
    "            if self.random.random() < self.probability_fire_spread:\n",
    "                ... set neighbor condition to On Fire\n",
    "\n"
   ]
  },
  {
   "cell_type": "markdown",
   "metadata": {
    "slideshow": {
     "slide_type": "slide"
    }
   },
   "source": [
    "### Task: Set the `probability_fire_spread` to 0.8 and run the below code cell.\n",
    "\n",
    "### Note that `ForestFireModel` now has the four parameters.  The new, final parameter should specify `probability_fire_spread`\n",
    "\n",
    "### Run the below cell for various densities and probabilities.  "
   ]
  },
  {
   "cell_type": "code",
   "execution_count": null,
   "metadata": {
    "slideshow": {
     "slide_type": "slide"
    }
   },
   "outputs": [],
   "source": [
    "fire_model = ForestFireModel(50, 50, 0.7, 0.8)\n",
    "#                                          ^\n",
    "#                                          |\n",
    "#                                          |\n",
    "#                                      this is the new value specifying probability_fire_spread\n",
    "\n",
    "for i in range(50):\n",
    "    fire_model.step()\n",
    "\n",
    "anim = plot_agents(fire_model)\n",
    "anim"
   ]
  },
  {
   "cell_type": "markdown",
   "metadata": {
    "slideshow": {
     "slide_type": "slide"
    }
   },
   "source": []
  },
  {
   "cell_type": "markdown",
   "metadata": {
    "slideshow": {
     "slide_type": "slide"
    }
   },
   "source": [
    "### Task: Determine average behavior over many experiments\n",
    "\n",
    "Next, create a new code cell below and put the above experiment inside a loop.  You can reuse code from your previous lab.\n",
    "\n",
    "Your new code should have this structure.\n",
    "\n",
    "       final_percentage_burned = []\n",
    "\n",
    "       for i in range(...):  # do ... total experiments\n",
    "              \n",
    "           ... create your fire_model\n",
    "\n",
    "       \n",
    "           for j in range(40):\n",
    "                ... run one experiment with enough steps...\n",
    "                \n",
    "           ... final_percentage_burned.append(...) ...\n",
    "                \n",
    "The list `final_percentage_burned` should contain the percent of the forest burned down at the END\n",
    "- That is, `final_percentage_burned[k]` should contain the percent of the forest burned down at the end of experiment `k`\n",
    "- If you run 40 experiments, the `final_percentage_burned` will be a list with 40 entries\n",
    "    - You will want to run enough experiments to get good average statistics\n",
    "    - For instance, if you run K experiments and then run 2*K experiments, and the average results are almost the same, then K experiments is likely enough"
   ]
  },
  {
   "cell_type": "markdown",
   "metadata": {
    "slideshow": {
     "slide_type": "slide"
    }
   },
   "source": [
    "### Task continued:\n",
    "\n",
    "Then, look at basic statistics to understand how the forest is affected by fire on average.  You can use pandas\n",
    "\n",
    "        df = pd.DataFrame({'final_percentage_burned': final_percentage_burned})\n",
    "        print(\"Averge percent of forest left: \", df['final_percentage_burned'].mean())\n",
    "        ... print the same for df['final_percentage_burned'].median()\n",
    "        ... print the same for df['final_percentage_burned'].min()\n",
    "        ... print the same for df['final_percentage_burned'].max()\n",
    " "
   ]
  },
  {
   "cell_type": "code",
   "execution_count": null,
   "metadata": {},
   "outputs": [],
   "source": []
  },
  {
   "cell_type": "markdown",
   "metadata": {
    "slideshow": {
     "slide_type": "slide"
    }
   },
   "source": [
    "### Task: Copy and paste your above cell over 40 experiments to create new cells below\n",
    "  - Copy and paste multiple times, so that you run multiple experiments for various densities and various probabilities for fire spreading. \n",
    "  - Make sure to comptue the mean, median, min, and max statistics for each experiment\n",
    "      - Compute mean, median, min, and max in the same code cell in which you run your 40 experiments\n",
    "      \n",
    "### Consider 4 different density values of your choosing, trying to show different regimes where trees burn quickly, slowly, and sometimes do both \n",
    "  \n",
    "### Then do another set of experiments for changing `probability_fire_spread`\n",
    "  - Again choose 4 different values of your choosing, showing different regimes where trees burn quickly, slowly, and sometimes do both \n",
    "  - That is, choose 4 different values for `probability_fire_spread` for four sets of experiment.\n",
    "  - Choose a representative density for these experiments, and explain in your discussion why you chose this value.\n",
    "    \n",
    "### Task: Write at least 600 words for your  results discussion below"
   ]
  },
  {
   "cell_type": "code",
   "execution_count": null,
   "metadata": {
    "slideshow": {
     "slide_type": "slide"
    }
   },
   "outputs": [],
   "source": []
  },
  {
   "cell_type": "markdown",
   "metadata": {},
   "source": [
    "### Extra Credit Task:\n",
    "- If you want to experiment more, copy this notebook to a new location.\n",
    "- Then, change the new copy of your code, so that at the start of the simulation, tree(s) in the center of the grid are on fire.  \n",
    "    - No trees at the edge of the domain will be on fire at the start.\n",
    "    \n",
    "- Run experiments.  \n",
    "    - How does this affect the mean, median, min, and max percent of the forest burned?\n",
    "    - Experiment with various values for `density` and `probability_fire_spread`\n",
    "\n",
    "If you do this, you will receive extra credit."
   ]
  },
  {
   "cell_type": "code",
   "execution_count": null,
   "metadata": {
    "slideshow": {
     "slide_type": "slide"
    }
   },
   "outputs": [],
   "source": []
  },
  {
   "cell_type": "markdown",
   "metadata": {
    "slideshow": {
     "slide_type": "slide"
    }
   },
   "source": [
    "### Before writing your discussion\n",
    "1. Read this article on forest thinning\n",
    "https://www.abqjournal.com/lifestyle/fighting-fire-with-prevention-city-project-works-to-ensure-the-health-safety-of-the-bosque/article_097e666e-b3e6-11ee-be3a-37223009f7f7.html#5\n",
    "\n",
    "2. Read this article on resident's reactions to the thinning\n",
    "https://www.kunm.org/local-news/2024-03-01/albuquerque-official-responds-to-residents-concerns-about-the-bosque-thinning-project\n",
    "\n",
    "3. This video on a production code for modeling forest fires \n",
    "https://www.youtube.com/watch?v=Xg6rciZtyhU\n",
    "\n",
    "### In your discussion, consider the following.  \n",
    "\n",
    "Think about sustainability and the natural and human worlds.  When do you think it makes sense to thin a forest to prevent fires?  What are the downsides?  What are the positives to thinning a forest?\n"
   ]
  },
  {
   "cell_type": "markdown",
   "metadata": {
    "slideshow": {
     "slide_type": "slide"
    }
   },
   "source": [
    "### Enter a discussion of 600 words in below.  Have sections on the following four discussion points.\n",
    "\n",
    "1. Evidence acquisition \n",
    "     - Describe the experiments you conducted. Give all the details, number of agents, steps, abstractions used, and so on. \n",
    "     - You are describing application of a quantitative model (the agent based model)\n",
    "\n",
    "2. Evidence evaluation \n",
    "    - Discuss your plots and any other results.  What did you find? \n",
    "    - You are communicating and representing quantitative information\n",
    "    \n",
    "3. Conclusion\n",
    "    - What can you conclude about your model\n",
    "    - What is still unexplained? \n",
    "    \n",
    "    \n",
    "4. Conclusions and reflections about sustainability and the natural and human worlds\n",
    "    "
   ]
  },
  {
   "cell_type": "markdown",
   "metadata": {
    "slideshow": {
     "slide_type": "slide"
    }
   },
   "source": [
    "### In particular, here you want to focus on these questions\n",
    "\n",
    "### Previous Questions: \n",
    "\n",
    "- What number of steps are needed to make sure the forest fire has stopped spreading?\n",
    "    - How many steps do you need for quality evidence acquisition?\n",
    "\n",
    "- How does density affect the forest fire model?  \n",
    "    - Be specific, like, \"A density of 0.5 represents a probability of 50% that a grid cell in our forest will have a tree in it at the start of the simulation.  With a density of 0.5, we see that the forest fire is likely to ...\"\n",
    "    - Are any pockets of unburned trees left?  Does this reflect what you observe in real life?\n",
    "\n",
    "- Can this inform how we might manage a forest in real life?\n",
    "\n",
    "- What is the effect of starting the fire in the middle?  Is the forest more likely to burn down, for a given density?\n",
    "\n",
    "### New Question:\n",
    "- What is the effect of varying the probability a neighboring tree catches on fire?  \n",
    "    - Are there threshholds where small changes in the probability has a big impact?\n",
    "    - For instance, if the density is 0.9 and the probability that fire spreads goes from 0.75 to 1.0, what is the effect?\n",
    "    \n",
    "    \n",
    "- Discuss specifics here.  For instance, if a density of 0.8 and probability of fire spreading of 1.0 essentially guarantee that the forest will burn down --- Then, what must density change to, or the probability of fire spreading change to, in order to protect the forest from completely burning? "
   ]
  },
  {
   "cell_type": "code",
   "execution_count": null,
   "metadata": {},
   "outputs": [],
   "source": []
  },
  {
   "cell_type": "markdown",
   "metadata": {
    "slideshow": {
     "slide_type": "slide"
    }
   },
   "source": [
    "### Homework Discussion Goes here\n",
    "\n",
    "\n",
    "### Evidence Acquistion\n",
    "...\n",
    "\n",
    "\n",
    "### Evidence Evaluation\n",
    "...\n",
    "\n",
    "\n",
    "### Conclusions and Sustainability\n",
    "...\n",
    "\n"
   ]
  },
  {
   "cell_type": "markdown",
   "metadata": {
    "slideshow": {
     "slide_type": "slide"
    }
   },
   "source": [
    "### Homework Submission Instructions\n",
    "\n",
    "### The homework submission instructions are different this week. \n",
    "\n",
    "### Download your notebook as an \".ipynb\" file, and upload the ipynb file as your assignment to Canvas.\n",
    "\n",
    "### Do not upload a .py file"
   ]
  },
  {
   "cell_type": "code",
   "execution_count": null,
   "metadata": {},
   "outputs": [],
   "source": []
  }
 ],
 "metadata": {
  "anaconda-cloud": {},
  "celltoolbar": "Slideshow",
  "kernelspec": {
   "display_name": "Python 3 (ipykernel)",
   "language": "python",
   "name": "python3"
  },
  "language_info": {
   "codemirror_mode": {
    "name": "ipython",
    "version": 3
   },
   "file_extension": ".py",
   "mimetype": "text/x-python",
   "name": "python",
   "nbconvert_exporter": "python",
   "pygments_lexer": "ipython3",
   "version": "3.10.8"
  },
  "widgets": {
   "state": {},
   "version": "1.1.2"
  }
 },
 "nbformat": 4,
 "nbformat_minor": 4
}
