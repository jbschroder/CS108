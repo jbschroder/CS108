{
 "cells": [
  {
   "cell_type": "markdown",
   "metadata": {},
   "source": [
    "\n",
    "-----------\n",
    "\n",
    "The material on randomness is based on the previous version of CS108L, see https://cs4all.cs.unm.edu/cs108.html\n",
    "- Credit to Prof. Melanie Moses, Dr. Irene Lee, Dr. Maureen Psaila-Dombrowski, Prof. Dave Ackley and collaborators (see website)\n"
   ]
  },
  {
   "cell_type": "code",
   "execution_count": 2,
   "metadata": {
    "colab": {
     "base_uri": "https://localhost:8080/"
    },
    "executionInfo": {
     "elapsed": 67042,
     "status": "ok",
     "timestamp": 1693415953206,
     "user": {
      "displayName": "Jacob Schroder",
      "userId": "01251390844616463510"
     },
     "user_tz": 360
    },
    "id": "FVgDVtdkxrgc",
    "outputId": "40740da9-1c04-4a2b-d7ac-fa90a7a644b9"
   },
   "outputs": [
    {
     "name": "stdout",
     "output_type": "stream",
     "text": [
      "Collecting mpi4py\n",
      "  Downloading mpi4py-3.1.4.tar.gz (2.5 MB)\n",
      "\u001b[2K     \u001b[90m━━━━━━━━━━━━━━━━━━━━━━━━━━━━━━━━━━━━━━━━\u001b[0m \u001b[32m2.5/2.5 MB\u001b[0m \u001b[31m9.6 MB/s\u001b[0m eta \u001b[36m0:00:00\u001b[0m\n",
      "\u001b[?25h  Installing build dependencies ... \u001b[?25l\u001b[?25hdone\n",
      "  Getting requirements to build wheel ... \u001b[?25l\u001b[?25hdone\n",
      "  Preparing metadata (pyproject.toml) ... \u001b[?25l\u001b[?25hdone\n",
      "Building wheels for collected packages: mpi4py\n",
      "  Building wheel for mpi4py (pyproject.toml) ... \u001b[?25l\u001b[?25hdone\n",
      "  Created wheel for mpi4py: filename=mpi4py-3.1.4-cp310-cp310-linux_x86_64.whl size=2744893 sha256=e30b708984c4d0c109ab858c7829083f7259690b9056e083a8215bf8fe322cda\n",
      "  Stored in directory: /root/.cache/pip/wheels/e8/1b/b5/97ec4cfccdde26e0f3590ad6e09a5242d508dff09704ef86c1\n",
      "Successfully built mpi4py\n",
      "Installing collected packages: mpi4py\n",
      "Successfully installed mpi4py-3.1.4\n"
     ]
    }
   ],
   "source": [
    "! pip install mpi4py"
   ]
  },
  {
   "cell_type": "markdown",
   "metadata": {
    "id": "AqLzdrkgv2rw"
   },
   "source": [
    "**Important:** you will have to re-run this cell after you you get disconnected for a fairly long time.\n",
    "\n",
    "**Below, we write a Hello World for MPI**"
   ]
  },
  {
   "cell_type": "code",
   "execution_count": 3,
   "metadata": {
    "colab": {
     "base_uri": "https://localhost:8080/"
    },
    "executionInfo": {
     "elapsed": 7,
     "status": "ok",
     "timestamp": 1693415953206,
     "user": {
      "displayName": "Jacob Schroder",
      "userId": "01251390844616463510"
     },
     "user_tz": 360
    },
    "id": "djhcbZEkzIAB",
    "outputId": "14cb1ff7-5bb8-4da9-807f-452ce59ecfba"
   },
   "outputs": [
    {
     "name": "stdout",
     "output_type": "stream",
     "text": [
      "Writing mpi_hello_world.py\n"
     ]
    }
   ],
   "source": [
    "%%writefile mpi_hello_world.py\n",
    "from mpi4py import MPI\n",
    "\n",
    "def main():\n",
    "    comm = MPI.COMM_WORLD\n",
    "    id = comm.Get_rank()            #number of the process running the code\n",
    "    numProcesses = comm.Get_size()  #total number of processes running\n",
    "    myHostName = MPI.Get_processor_name()  #machine name running the code\n",
    "\n",
    "    print(\"Greetings from process {} of {} on {}\"\\\n",
    "    .format(id, numProcesses, myHostName))\n",
    "\n",
    "########## Run the main function\n",
    "main()\n"
   ]
  },
  {
   "cell_type": "code",
   "execution_count": 5,
   "metadata": {
    "colab": {
     "base_uri": "https://localhost:8080/"
    },
    "executionInfo": {
     "elapsed": 111,
     "status": "ok",
     "timestamp": 1693415967140,
     "user": {
      "displayName": "Jacob Schroder",
      "userId": "01251390844616463510"
     },
     "user_tz": 360
    },
    "id": "obV6m4dUSJov",
    "outputId": "166a6972-b8da-4f24-f139-2037f43519fa"
   },
   "outputs": [
    {
     "name": "stdout",
     "output_type": "stream",
     "text": [
      "Using 2 cores\n"
     ]
    }
   ],
   "source": [
    "# Write MPI hostfile\n",
    "import socket\n",
    "import os\n",
    "hostname = socket.gethostname()\n",
    "#cores = os.cpu_count() # Count the number of cores in a computer\n",
    "#print(\"Using \" + str(cores) + \" cores\")\n",
    "cores = len(os.sched_getaffinity(0))\n",
    "print(\"Using \" + str(cores) + \" cores\")\n",
    "\n",
    "mpi_hostfile = hostname + \"   slots=\" + str(cores)\n",
    "f = open(\"mpi_hostfile\", \"w\")\n",
    "f.write(mpi_hostfile)\n",
    "f.close()"
   ]
  },
  {
   "cell_type": "code",
   "execution_count": null,
   "metadata": {},
   "outputs": [],
   "source": []
  },
  {
   "cell_type": "code",
   "execution_count": null,
   "metadata": {},
   "outputs": [],
   "source": []
  },
  {
   "cell_type": "code",
   "execution_count": null,
   "metadata": {},
   "outputs": [],
   "source": []
  },
  {
   "cell_type": "code",
   "execution_count": 4,
   "metadata": {
    "colab": {
     "base_uri": "https://localhost:8080/"
    },
    "executionInfo": {
     "elapsed": 934,
     "status": "ok",
     "timestamp": 1693415958985,
     "user": {
      "displayName": "Jacob Schroder",
      "userId": "01251390844616463510"
     },
     "user_tz": 360
    },
    "id": "zqOAtb4G4-e2",
    "outputId": "99b8ee58-dcc0-4a29-aafe-fcb6a1925a0f"
   },
   "outputs": [
    {
     "name": "stdout",
     "output_type": "stream",
     "text": [
      "Greetings from process 0 of 2 on 249f2184fd6a\n",
      "Greetings from process 1 of 2 on 249f2184fd6a\n"
     ]
    }
   ],
   "source": [
    "! mpirun --hostfile mpi_hostfile --allow-run-as-root -np 2 python mpi_hello_world.py"
   ]
  },
  {
   "cell_type": "markdown",
   "metadata": {
    "id": "QbWK6dJiUAZU"
   },
   "source": [
    "**Now, we try a simple parallel program to calculate pi**"
   ]
  },
  {
   "cell_type": "code",
   "execution_count": 6,
   "metadata": {
    "colab": {
     "base_uri": "https://localhost:8080/"
    },
    "executionInfo": {
     "elapsed": 134,
     "status": "ok",
     "timestamp": 1693415974680,
     "user": {
      "displayName": "Jacob Schroder",
      "userId": "01251390844616463510"
     },
     "user_tz": 360
    },
    "id": "LkDgQdFeUEnP",
    "outputId": "9b3741c9-5cdf-410d-9e11-4b43705eca06"
   },
   "outputs": [
    {
     "name": "stdout",
     "output_type": "stream",
     "text": [
      "Writing calcPiMPI.py\n"
     ]
    }
   ],
   "source": [
    "%%writefile calcPiMPI.py\n",
    "\n",
    "import sys\n",
    "import time\n",
    "\n",
    "#####################\n",
    "# MPI Setup\n",
    "#####################\n",
    "from mpi4py import MPI\n",
    "comm = MPI.COMM_WORLD\n",
    "root = 0  # specify the root or rank 0 process\n",
    "rank = comm.Get_rank()  # this process' unique integer identifier\n",
    "num_procs = comm.Get_size() # total number of processes\n",
    "####################\n",
    "\n",
    "# Distributed function to compute pi\n",
    "def Pi(num_steps):\n",
    "\tstep = 1.0/num_steps\n",
    "\tsum = 0\n",
    "\tfor i in range(rank, num_steps, num_procs):\n",
    "\t\tx = (i + 0.5)*step\n",
    "\t\tsum = sum + 4.0/(1.0 + x*x)\n",
    "\tmy_part_of_pi = step * sum\n",
    "\n",
    "\tpi = comm.reduce(my_part_of_pi, MPI.SUM, root)\n",
    "\treturn pi\n",
    "\n",
    "if len(sys.argv) != 2:\n",
    "\tprint(\"Usage: \", sys.argv[0], \"<number_of_steps>\")\n",
    "\tsys.exit(1)\n",
    "\n",
    "num_steps = int(sys.argv[1], 10)\n",
    "\n",
    "start = time.perf_counter() #start timing\n",
    "pi = Pi( num_steps)\n",
    "end = time.perf_counter() #end timing\n",
    "\n",
    "if rank == root:\n",
    "\tprint(\"Pi = \", pi, \",  Time elapsed: \", end-start)\n",
    "sys.exit(0)"
   ]
  },
  {
   "cell_type": "code",
   "execution_count": 13,
   "metadata": {
    "colab": {
     "base_uri": "https://localhost:8080/"
    },
    "executionInfo": {
     "elapsed": 2220,
     "status": "ok",
     "timestamp": 1693416009929,
     "user": {
      "displayName": "Jacob Schroder",
      "userId": "01251390844616463510"
     },
     "user_tz": 360
    },
    "id": "fbih8RM3UF_k",
    "outputId": "06f8c3e7-4e24-44a0-af0b-57c3f34d664a"
   },
   "outputs": [
    {
     "name": "stdout",
     "output_type": "stream",
     "text": [
      "Pi =  3.141592653589731 ,  Time elapsed:  1.6716909239999893\n"
     ]
    }
   ],
   "source": [
    "! mpirun --hostfile mpi_hostfile --allow-run-as-root -np 1 python calcPiMPI.py 10000000\n"
   ]
  },
  {
   "cell_type": "code",
   "execution_count": null,
   "metadata": {
    "id": "zpXV5pgxWT7q"
   },
   "outputs": [],
   "source": []
  }
 ],
 "metadata": {
  "colab": {
   "provenance": [
    {
     "file_id": "1yxusXcFQ9ea1bff4_q5iToMhGeQnmSwC",
     "timestamp": 1693407619729
    }
   ]
  },
  "kernelspec": {
   "display_name": "Python 3 (ipykernel)",
   "language": "python",
   "name": "python3"
  },
  "language_info": {
   "codemirror_mode": {
    "name": "ipython",
    "version": 3
   },
   "file_extension": ".py",
   "mimetype": "text/x-python",
   "name": "python",
   "nbconvert_exporter": "python",
   "pygments_lexer": "ipython3",
   "version": "3.10.8"
  },
  "vp": {
   "vp_config_version": "1.0.0",
   "vp_menu_width": 273,
   "vp_note_display": false,
   "vp_note_width": 0,
   "vp_position": {
    "width": 278
   },
   "vp_section_display": false,
   "vp_signature": "VisualPython"
  }
 },
 "nbformat": 4,
 "nbformat_minor": 1
}
