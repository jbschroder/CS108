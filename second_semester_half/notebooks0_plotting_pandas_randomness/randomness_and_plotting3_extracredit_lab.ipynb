{
 "cells": [
  {
   "cell_type": "markdown",
   "id": "a21e3ac1",
   "metadata": {
    "slideshow": {
     "slide_type": "slide"
    }
   },
   "source": [
    "## Randomness and Plotting Lecture/Lab 3: Extra Credit\n",
    "\n",
    "### See the bottom for the extra credit portion of the homework.  \n",
    "\n",
    "### Otherwise, this notebook is the same as Lab 3\n",
    "\n",
    "-----------\n",
    "\n",
    "This material is based in part on previous CS108L, see https://cs4all.cs.unm.edu/cs108.html\n",
    "- Credit to Prof. Melanie Moses, Dr. Irene Lee, Dr. Maureen Psaila-Dombrowski, Prof. Dave Ackley and collaborators (see website)"
   ]
  },
  {
   "cell_type": "markdown",
   "id": "f79e238d",
   "metadata": {
    "slideshow": {
     "slide_type": "slide"
    }
   },
   "source": [
    "### Learning Goals\n",
    "\n",
    "1. Review\n",
    "    - Pseudo-random numbers\n",
    "        - Importance of randomness in computing\n",
    "        - Generate with linear congruential generator\n",
    "    \n",
    "    - Adding elements to a list with append\n",
    "\n",
    "    - Approximating Pi with random numbers         \n",
    "    \n",
    "    - Plotting with pandas (lines and scatter)"
   ]
  },
  {
   "cell_type": "markdown",
   "id": "78cd0533",
   "metadata": {
    "slideshow": {
     "slide_type": "slide"
    }
   },
   "source": [
    "2. New: Plot point clouds (scatter plot) of your random points\n",
    "\n",
    "3. New: Analyze and interpret your evidence\n",
    "   - Plot the number of random numbers (N) on the x-axis\n",
    "   - Plot the approximation to Pi on the y-axis\n",
    "   - What happens as N gets larger?\n",
    "   \n",
    "4. New: Automate, do the above for many values of N, inside a loop\n",
    "    "
   ]
  },
  {
   "cell_type": "markdown",
   "id": "7af2992a",
   "metadata": {
    "slideshow": {
     "slide_type": "slide"
    }
   },
   "source": [
    "### Review: Randomness in computing is very important\n",
    "  - Used to approximate important values (like Pi)\n",
    "  - Used in computational simulations (like agent based modeling)\n",
    "  - Used to randomly sample data (like with K-means)\n",
    "  -....\n",
    "\n",
    "### But, computers are not random, and instead use a determinisitic (predictable) process to produce numbers that look random (but actually aren't truly random).  \n",
    "  - Gives rise to pseudo-random numbers\n",
    "    \n",
    "### We use a linear congruential generator for pseudo-random numbers"
   ]
  },
  {
   "cell_type": "markdown",
   "id": "f542f693",
   "metadata": {
    "slideshow": {
     "slide_type": "slide"
    }
   },
   "source": [
    "### Remember how to append to a list"
   ]
  },
  {
   "cell_type": "code",
   "execution_count": null,
   "id": "fcc81863",
   "metadata": {
    "slideshow": {
     "slide_type": "-"
    }
   },
   "outputs": [],
   "source": [
    "def my_function(x):\n",
    "    return 5*x\n",
    "\n",
    "my_list = [3]\n",
    "\n",
    "for i in range(10):\n",
    "    new_number = my_function(my_list[-1])\n",
    "    my_list.append(new_number)\n",
    "    \n",
    "print(my_list)"
   ]
  },
  {
   "cell_type": "markdown",
   "id": "7ca8bf4a",
   "metadata": {
    "slideshow": {
     "slide_type": "slide"
    }
   },
   "source": [
    "### Remember basic plotting\n",
    "\n",
    "1. Consider the below example where we plot a list of values for N on the x-axis, versus Pi approximations on the y-axis\n",
    "    - N represents how many random numbers were used to compute Pi\n",
    "    \n",
    "2. In the cell further below, consider the example where we plot random x and y values and the unit circle\n"
   ]
  },
  {
   "cell_type": "code",
   "execution_count": null,
   "id": "1c91c966",
   "metadata": {
    "slideshow": {
     "slide_type": "-"
    }
   },
   "outputs": [],
   "source": [
    "%matplotlib inline\n",
    "import pandas as pd\n",
    "from matplotlib import pyplot as plt"
   ]
  },
  {
   "cell_type": "code",
   "execution_count": null,
   "id": "741fa601",
   "metadata": {
    "slideshow": {
     "slide_type": "slide"
    }
   },
   "outputs": [],
   "source": [
    "# Plot N versus Pi Approximations\n",
    "\n",
    "N = [25, 100, 500, 2000]\n",
    "Pi_approximations = [4.1, 2.9, 3.19, 3.146]\n",
    "\n",
    "df = pd.DataFrame({'N': N, 'Approx to Pi': Pi_approximations})\n",
    "ax = df.plot(x='N', y='Approx to Pi', style = ['.'])\n"
   ]
  },
  {
   "cell_type": "markdown",
   "id": "65b944d1",
   "metadata": {
    "slideshow": {
     "slide_type": "slide"
    }
   },
   "source": [
    "### We now introduce more sophisticated scatter plotting of points\n",
    "1. We create a data frame as before, which contains our plotting information\n",
    "2. Then we have to use special commands to draw a circle and rectangle\n",
    "    - If you want to know more about these commands, just ask\n",
    "3. Then, comes the scatter plot line, \n",
    "        \n",
    "        ax = df.plot.scatter(x='rand x', y='rand y')\n",
    "\n",
    "   where we specify the x data to be the `rand x` data in `df` and the y data to be the `rand y` data in `df`\n",
    "\n",
    "### Task: try removing the two `add_patch` lines.  What happens?   "
   ]
  },
  {
   "cell_type": "code",
   "execution_count": null,
   "id": "9856fc87",
   "metadata": {
    "slideshow": {
     "slide_type": "slide"
    }
   },
   "outputs": [],
   "source": [
    "# Scatter plot random points\n",
    "\n",
    "# random points\n",
    "datax = [-0.54, 0.32, -0.05, -0.92, 0.62]\n",
    "datay = [0.12,  0.82, -0.35, -0.32, -0.92]\n",
    "df = pd.DataFrame({'rand x': datax, 'rand y': datay})\n",
    "\n",
    "\n",
    "# create circle and rectangle objects\n",
    "circle = plt.Circle((0,0), 1.0, alpha=0.5, color='r')\n",
    "rectangle = plt.Rectangle((-1,-1), 2, 2, linewidth=2, edgecolor='k', facecolor='None')\n",
    "\n",
    "# scatter plot x and y\n",
    "ax = df.plot.scatter(x='rand x', y='rand y')\n",
    "\n",
    "# add the rectangle and circle\n",
    "ax.add_patch(rectangle)\n",
    "ax.add_patch(circle)\n",
    "ax.axis('equal')\n"
   ]
  },
  {
   "cell_type": "markdown",
   "id": "86f0a1c2",
   "metadata": {
    "slideshow": {
     "slide_type": "slide"
    }
   },
   "source": [
    "### Review: Approximating Pi with random data\n",
    "\n",
    "The area of the unit circle with radius 1 is $\\pi r^2 = \\pi 1^2 = \\pi$\n",
    "\n",
    "The area of the square is $2 \\times 2 = 4$ (width times height)\n",
    "\n",
    "\n",
    "<img src=\"https://raw.githubusercontent.com/jbschroder/CS108/main/lecture_images/Pi_approx.png\" width=\"350\">"
   ]
  },
  {
   "cell_type": "markdown",
   "id": "b97129f4",
   "metadata": {
    "slideshow": {
     "slide_type": "slide"
    }
   },
   "source": [
    "The ratio of these two areas is \n",
    "$$ \\frac{\\mbox{area of circle}}{\\mbox{area of square}} = \\frac{\\pi}{4}$$\n",
    "which lets us approximate Pi with random points through\n",
    "$$ \\frac{\\mbox{points inside circle}}{\\mbox{points inside square}} = \\frac{\\pi}{4}$$\n",
    "\n",
    "This is a limit value, that is, in the limit, as we take more and more random numbers, this ratio approaches $\\pi/4$"
   ]
  },
  {
   "cell_type": "markdown",
   "id": "79a9f24a",
   "metadata": {
    "slideshow": {
     "slide_type": "slide"
    }
   },
   "source": [
    "### This yields an algorithm for approximating Pi\n",
    "\n",
    "        N = something large\n",
    "        num_inside = 0\n",
    "        \n",
    "        for loop with N iterations\n",
    "        \n",
    "            generate rand_point inside the square \n",
    "            \n",
    "            get x and y from the rand_point\n",
    "\n",
    "            if x**2 + y**2 is less than 1:\n",
    "                increase num_inside by 1\n",
    "                                  \n",
    "        pi = 4*( num_inside / N)\n",
    "        print(pi, \":  approximation to pi\")\n",
    "        \n",
    "- Remember, that $N$ is the total number of points inside the square (see picture)\n",
    "- Note, num_inside counts the number of points inside the circle        "
   ]
  },
  {
   "cell_type": "markdown",
   "id": "514aa182",
   "metadata": {
    "slideshow": {
     "slide_type": "slide"
    }
   },
   "source": [
    "### Lab Tasks"
   ]
  },
  {
   "cell_type": "markdown",
   "id": "85df223a",
   "metadata": {
    "slideshow": {
     "slide_type": "-"
    }
   },
   "source": [
    "### We first have to do a little housecleaning, and import our packages for plotting and data manipulation\n",
    "1. Matplotlib is the bottom-level plotting, and we need to tell Matplotlib to inline plots below notebook cells\n",
    "2. Pandas is for data manipulation, storage, and plotting"
   ]
  },
  {
   "cell_type": "code",
   "execution_count": null,
   "id": "64fdeb05",
   "metadata": {
    "slideshow": {
     "slide_type": "-"
    }
   },
   "outputs": [],
   "source": [
    "%matplotlib inline\n",
    "import pandas as pd"
   ]
  },
  {
   "cell_type": "markdown",
   "id": "37bc779a",
   "metadata": {
    "slideshow": {
     "slide_type": "slide"
    }
   },
   "source": [
    "### Tasks: Create code cells below to accomplish the following tasks\n",
    "\n",
    "1. Take your loop from Wednesday that generates pseudo-random points and approximates Pi\n",
    "\n",
    "2. In three separate cells, repeat your experiment for approximating Pi using N = 10, N = 100, and N = 500\n",
    "    - Make sure to print your approximation to Pi for each N value\n",
    "\n",
    "3. Also for each N value, output the mean of your random numbers\n",
    "\n",
    "        print(df['data x'].mean())\n",
    "        print(df['data y'].mean())\n",
    "\n",
    "4. Also for each N value, add code to scatter plot your pseudo-random points, also drawing the square and unit circle (see above)"
   ]
  },
  {
   "cell_type": "markdown",
   "id": "6f3dd519",
   "metadata": {
    "slideshow": {
     "slide_type": "slide"
    }
   },
   "source": [
    "5. Create a loop over various N values to compute\n",
    "        \n",
    "        for N in [10, 100, 500, 1000, 5000, 10000, 50000, 100000, 500000, 1000000]:\n",
    "            ...compute approximation to Pi...\n",
    "            ...store approximation to Pi in a list...\n",
    "            \n",
    "6. Plot N on on the x-axis and your approximation to Pi on the y-axis\n",
    "\n",
    "7. In the below box add 125 words of discussion about your plot.\n",
    "   - Approach this as collecting evidence (computing approximations to Pi)\n",
    "   - Evaluating evidence (how close am I to Pi with a certain N value?)\n",
    "   - Draw conclusions\n",
    "   \n",
    "     What happens if you change the starting value for your pseudo-random numbers?"
   ]
  },
  {
   "cell_type": "markdown",
   "id": "a6a566ca",
   "metadata": {
    "slideshow": {
     "slide_type": "slide"
    }
   },
   "source": [
    "### Insert Homework discussion here\n"
   ]
  },
  {
   "cell_type": "code",
   "execution_count": null,
   "id": "d4993fa4",
   "metadata": {
    "slideshow": {
     "slide_type": "-"
    }
   },
   "outputs": [],
   "source": []
  },
  {
   "cell_type": "markdown",
   "id": "61888e50",
   "metadata": {
    "slideshow": {
     "slide_type": "slide"
    }
   },
   "source": [
    "### Extra Credit:\n",
    "\n",
    "Repeat the above experiment, but instead use a library (higher quality) random number generator.  You can generate datax and datay in the following way.\n",
    "\n",
    "\n",
    "    import numpy as np\n",
    "\n",
    "    N = Choose your value, 10, 100, 1000, or more...\n",
    "        Possibly let N be chosen by a loop \n",
    "         \n",
    "    datax = np.random.randint(0,2**31-1,size=N)\n",
    "    datax = (2/(2**31-1))*datax - 1\n",
    "    datay = np.random.randint(0,2**31-1,size=N)\n",
    "    datay = (2/(2**31-1))*datay - 1\n",
    "    \n",
    "    \n",
    "Do all of the above experiments (Tasks 2, 3, 4, 5, and 6) again, but this time with the above datax and datay from numpy.  \n",
    "\n",
    "Compare the results for the two different random number generators (numpy and your own linear congruential generator).\n",
    "\n",
    "Does the numpy random number generator give you a better approximation to Pi?  \n",
    "\n",
    "If you run an experiment with N = 10000, 10 different times.  How many times does the numpy random number generator give you a better approximation to Pi? "
   ]
  },
  {
   "cell_type": "markdown",
   "id": "4ad7b978",
   "metadata": {
    "slideshow": {
     "slide_type": "slide"
    }
   },
   "source": [
    "### Homework Submission Instructions\n",
    "\n",
    "### The homework submission instructions are different this week. \n",
    "\n",
    "### Download your notebook as an \".ipynb\" file, and upload the ipynb file as your assignment to Canvas.\n",
    "\n",
    "### Do not upload a .py file"
   ]
  },
  {
   "cell_type": "code",
   "execution_count": null,
   "id": "8aed91da",
   "metadata": {},
   "outputs": [],
   "source": []
  },
  {
   "cell_type": "code",
   "execution_count": null,
   "id": "01827c22",
   "metadata": {},
   "outputs": [],
   "source": []
  }
 ],
 "metadata": {
  "celltoolbar": "Slideshow",
  "kernelspec": {
   "display_name": "Python 3 (ipykernel)",
   "language": "python",
   "name": "python3"
  },
  "language_info": {
   "codemirror_mode": {
    "name": "ipython",
    "version": 3
   },
   "file_extension": ".py",
   "mimetype": "text/x-python",
   "name": "python",
   "nbconvert_exporter": "python",
   "pygments_lexer": "ipython3",
   "version": "3.10.8"
  },
  "vp": {
   "vp_config_version": "1.0.0",
   "vp_menu_width": 273,
   "vp_note_display": false,
   "vp_note_width": 0,
   "vp_position": {
    "width": 278
   },
   "vp_section_display": false,
   "vp_signature": "VisualPython"
  }
 },
 "nbformat": 4,
 "nbformat_minor": 5
}
