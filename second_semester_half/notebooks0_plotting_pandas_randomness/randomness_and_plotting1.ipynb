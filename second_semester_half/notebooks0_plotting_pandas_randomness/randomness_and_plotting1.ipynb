{
 "cells": [
  {
   "cell_type": "markdown",
   "id": "a21e3ac1",
   "metadata": {
    "slideshow": {
     "slide_type": "slide"
    }
   },
   "source": [
    "## Randomness and Plotting Lecture/Lab 1\n",
    "\n",
    "-----------\n",
    "\n",
    "This material is based in part on previous CS108L, see https://cs4all.cs.unm.edu/cs108.html\n",
    "- Credit to Prof. Melanie Moses, Dr. Irene Lee, Dr. Maureen Psaila-Dombrowski, Prof. Dave Ackley and collaborators (see website)"
   ]
  },
  {
   "cell_type": "markdown",
   "id": "a450a22b",
   "metadata": {},
   "source": [
    "### Learning Goals\n",
    "1. \n",
    "video is linear congruential and list append\n",
    "Linear congruential implement\n",
    "Generate your data with the linear congruential, list append usage\n",
    "approximate Pi, learn about list append\n"
   ]
  },
  {
   "cell_type": "markdown",
   "id": "51c6345a",
   "metadata": {},
   "source": [
    "### 5 min Lecture material here\n",
    "randomness is important\n",
    "\n",
    "can be used to compute things like Pi\n",
    "\n",
    "be used for agent based\n",
    "\n",
    "be used for data sampling (random sampling, see that later with K-means)\n",
    "\n",
    "---\n",
    "\n",
    "show list append, have them append and print to a list in a loop in two exercises\n",
    "\n",
    "create data frame, and then plot it\n",
    "\n",
    "simulate randomness, pseudo-random with linear congruential\n",
    "\n",
    "----- end lecture\n",
    "\n",
    "Task is create list of 50 pseudo-random\n",
    "\n",
    "Task is to plot them\n",
    "\n",
    "Task is to take mean and median\n",
    "  What do you expect?  What do you see?\n",
    "  \n",
    "Is this enough?  Leave Pi until tomorrow?  \n",
    "  \n",
    "\n",
    "  \n"
   ]
  },
  {
   "cell_type": "markdown",
   "id": "1c85b70c",
   "metadata": {},
   "source": [
    "### We first have to do a little housecleaning, and import our packages for plotting and data manipulation\n",
    "1. Matplotlib is the bottom-level plotting, and we need to tell Matplotlib to inline plots below notebook cells\n",
    "2. Pandas is for data manipulation, storage, and plotting"
   ]
  },
  {
   "cell_type": "code",
   "execution_count": 1,
   "id": "a1571f50",
   "metadata": {},
   "outputs": [],
   "source": [
    "%matplotlib inline\n",
    "import pandas as pd"
   ]
  },
  {
   "cell_type": "code",
   "execution_count": 2,
   "id": "ed5439f2",
   "metadata": {},
   "outputs": [
    {
     "data": {
      "text/plain": [
       "<AxesSubplot: >"
      ]
     },
     "execution_count": 2,
     "metadata": {},
     "output_type": "execute_result"
    },
    {
     "data": {
      "image/png": "[encoded data removed]",
      "text/plain": [
       "<Figure size 640x480 with 1 Axes>"
      ]
     },
     "metadata": {},
     "output_type": "display_data"
    }
   ],
   "source": [
    "# structure: examples on list teach them how\n",
    "\n",
    "my_list = [1,5,3,6,9,10]\n",
    "df = pd.DataFrame(my_list, columns=['numbers'])\n",
    "df['numbers'].plot(kind='line', style=['.'])\n",
    "\n"
   ]
  },
  {
   "cell_type": "code",
   "execution_count": null,
   "id": "0632e801",
   "metadata": {},
   "outputs": [],
   "source": []
  }
 ],
 "metadata": {
  "celltoolbar": "Slideshow",
  "kernelspec": {
   "display_name": "Python 3 (ipykernel)",
   "language": "python",
   "name": "python3"
  },
  "language_info": {
   "codemirror_mode": {
    "name": "ipython",
    "version": 3
   },
   "file_extension": ".py",
   "mimetype": "text/x-python",
   "name": "python",
   "nbconvert_exporter": "python",
   "pygments_lexer": "ipython3",
   "version": "3.10.8"
  },
  "vp": {
   "vp_config_version": "1.0.0",
   "vp_menu_width": 273,
   "vp_note_display": false,
   "vp_note_width": 0,
   "vp_position": {
    "width": 278
   },
   "vp_section_display": false,
   "vp_signature": "VisualPython"
  }
 },
 "nbformat": 4,
 "nbformat_minor": 5
}
