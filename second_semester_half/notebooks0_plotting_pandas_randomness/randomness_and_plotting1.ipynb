{
 "cells": [
  {
   "cell_type": "markdown",
   "id": "a21e3ac1",
   "metadata": {
    "slideshow": {
     "slide_type": "slide"
    }
   },
   "source": [
    "## Randomness and Plotting Lecture/Lab 1\n",
    "\n",
    "-----------\n",
    "\n",
    "This material is based in part on previous CS108L, see https://cs4all.cs.unm.edu/cs108.html\n",
    "- Credit to Prof. Melanie Moses, Dr. Irene Lee, Dr. Maureen Psaila-Dombrowski, Prof. Dave Ackley and collaborators (see website)"
   ]
  },
  {
   "cell_type": "markdown",
   "id": "78cd0533",
   "metadata": {
    "slideshow": {
     "slide_type": "slide"
    }
   },
   "source": [
    "### Learning Goals\n",
    "1. How to add items (elements) to a list with append\n",
    "\n",
    "2. Pseudo-random numbers\n",
    "    - Importance of randomness in computing\n",
    "    - Define pseudo-random\n",
    "\n",
    "3. How to generate pseudo-random numbers with a linear congruential generator\n",
    "    - Implement a linear congruential generator\n",
    "    - Plot the results with Pandas"
   ]
  },
  {
   "cell_type": "markdown",
   "id": "7af2992a",
   "metadata": {
    "slideshow": {
     "slide_type": "slide"
    }
   },
   "source": [
    "### Randomness in computing\n",
    "\n",
    "The use of random numbers in computing plays a key role in many places.\n",
    "\n",
    "### But wait!  I thought that computers were deterministic, non-random machines, doing only what we tell them!\n",
    "- I thought that the output of a computer was predetermined by the code. \n",
    "- It's all just 0s and 1s, telling the computer exactly what to do.  How can a computer be random?"
   ]
  },
  {
   "cell_type": "markdown",
   "id": "be58d1e3",
   "metadata": {
    "slideshow": {
     "slide_type": "slide"
    }
   },
   "source": [
    "### To address this problem, computers use pseudo-randomness.\n",
    "\n",
    "### Definition: Pseudo-random is a process satisfying one or more statistical tests for randomness but produced by a definite mathematical procedure. (from Oxford Languages Group)\n",
    "\n",
    "So, computers do use a determinisitic (predictable) process to produce numbers that look random (but actually aren't truly random).  "
   ]
  },
  {
   "cell_type": "markdown",
   "id": "406325cd",
   "metadata": {
    "slideshow": {
     "slide_type": "slide"
    }
   },
   "source": [
    "### Uses of randomness\n",
    "\n",
    "1. Compute useful quantities, like the number Pi\n",
    "<img src=\"https://raw.githubusercontent.com/jbschroder/CS108/main/lecture_images/Pi_approx.png\" width=\"350\">"
   ]
  },
  {
   "cell_type": "markdown",
   "id": "3b3a8824",
   "metadata": {
    "slideshow": {
     "slide_type": "slide"
    }
   },
   "source": [
    "2. Agent based modeling: randomize order that agents act\n",
    "<img src=\"https://raw.githubusercontent.com/jbschroder/CS108/main/lecture_images/apple_trading_model1.png\" width=\"350\">"
   ]
  },
  {
   "cell_type": "markdown",
   "id": "907d37bd",
   "metadata": {
    "slideshow": {
     "slide_type": "slide"
    }
   },
   "source": [
    "Now, using a different random ordering of apple trading agents\n",
    "<img src=\"https://raw.githubusercontent.com/jbschroder/CS108/main/lecture_images/apple_trading_model2.png\" width=\"350\">"
   ]
  },
  {
   "cell_type": "markdown",
   "id": "6ec1549b",
   "metadata": {
    "slideshow": {
     "slide_type": "slide"
    }
   },
   "source": [
    "3. Random sampling for data analysis\n",
    "     - We will look at this later as a part of the K-means algorithm\n",
    "     - Overall, random sampling of data is useful!"
   ]
  },
  {
   "cell_type": "markdown",
   "id": "f542f693",
   "metadata": {
    "slideshow": {
     "slide_type": "slide"
    }
   },
   "source": [
    "### But, we first need one new coding skill for lists\n",
    "- We will learn how to append, or add new entries (elements) to a list\n",
    "\n",
    "### Definition: Append to a list - add a new entry to the end of a list"
   ]
  },
  {
   "cell_type": "markdown",
   "id": "f69e64ae",
   "metadata": {
    "slideshow": {
     "slide_type": "slide"
    }
   },
   "source": [
    "### Observe in the below cell, how you create an empty list, and then append entries to it"
   ]
  },
  {
   "cell_type": "code",
   "execution_count": null,
   "id": "fcc81863",
   "metadata": {
    "slideshow": {
     "slide_type": "-"
    }
   },
   "outputs": [],
   "source": [
    "my_list = []\n",
    "\n",
    "my_list.append('frog')\n",
    "print(my_list, 'append once')\n",
    "\n",
    "my_list.append('tomato')\n",
    "print(my_list, 'append twice')\n",
    "\n",
    "my_list.append('cow')\n",
    "print(my_list, 'append thrice')"
   ]
  },
  {
   "cell_type": "markdown",
   "id": "c7f56c85",
   "metadata": {
    "slideshow": {
     "slide_type": "slide"
    }
   },
   "source": [
    "### Observe in the below cell, how you can start with a list of many entries and add one more entry to the end"
   ]
  },
  {
   "cell_type": "code",
   "execution_count": null,
   "id": "5a1470c1",
   "metadata": {
    "slideshow": {
     "slide_type": "-"
    }
   },
   "outputs": [],
   "source": [
    "my_list = ['1','5','8','9','15']\n",
    "print(my_list, 'before')\n",
    "\n",
    "my_list.append('21')\n",
    "print(my_list, 'after')"
   ]
  },
  {
   "cell_type": "markdown",
   "id": "7ca8bf4a",
   "metadata": {
    "slideshow": {
     "slide_type": "slide"
    }
   },
   "source": [
    "### We also need to know how to plot data\n",
    "1. Observe how we can start with a list of numbers, and then use `pandas` and `matplotlib` to plot\n",
    "2. The first two lines do a bit of housecleaning.  Matplotlib is the bottom-level plotting, and we need to tell Matplotlib to inline plots below notebook cells. Pandas is for data manipulation, storage, and general plotting.\n",
    "\n",
    "        %matplotlib inline\n",
    "        import pandas as pd\n",
    "\n",
    "3. We create a list `my_list` of some numbers\n",
    "\n",
    "        my_list = [5,6,7,8,9,10]\n",
    "\n",
    "4. Then, we convert `my_list` to a Pandas dataframe with\n",
    "\n",
    "        df = pd.DataFrame(my_list, columns=['numbers'])\n",
    "        \n",
    "5. The data frame stores your list in a column\n",
    "   - The column has a name `numbers`\n",
    "   - The column to the very left, just counts off (enumerates) everything, starting at 0"
   ]
  },
  {
   "cell_type": "code",
   "execution_count": null,
   "id": "741fa601",
   "metadata": {
    "slideshow": {
     "slide_type": "slide"
    }
   },
   "outputs": [],
   "source": [
    "%matplotlib inline\n",
    "import pandas as pd"
   ]
  },
  {
   "cell_type": "code",
   "execution_count": null,
   "id": "8c06f0ea",
   "metadata": {
    "slideshow": {
     "slide_type": "-"
    }
   },
   "outputs": [],
   "source": [
    "my_list = [5,6,7,8,9,10]\n",
    "df = pd.DataFrame(my_list, columns=['numbers'])\n",
    "print(df)"
   ]
  },
  {
   "cell_type": "markdown",
   "id": "69d4c414",
   "metadata": {
    "slideshow": {
     "slide_type": "slide"
    }
   },
   "source": [
    "### To access the column `numbers` directly, you do this"
   ]
  },
  {
   "cell_type": "code",
   "execution_count": null,
   "id": "ea8b7935",
   "metadata": {
    "slideshow": {
     "slide_type": "-"
    }
   },
   "outputs": [],
   "source": [
    "print(df['numbers'])"
   ]
  },
  {
   "cell_type": "markdown",
   "id": "2377ca09",
   "metadata": {
    "slideshow": {
     "slide_type": "slide"
    }
   },
   "source": [
    "### To plot the column `numbers`, you do this\n",
    "- Note how we plot a `line`, and you set the style to be points `.`"
   ]
  },
  {
   "cell_type": "code",
   "execution_count": null,
   "id": "bbb90386",
   "metadata": {
    "scrolled": false,
    "slideshow": {
     "slide_type": "-"
    }
   },
   "outputs": [],
   "source": [
    "df['numbers'].plot(kind='line', style=['.'])"
   ]
  },
  {
   "cell_type": "markdown",
   "id": "f07967dc",
   "metadata": {
    "slideshow": {
     "slide_type": "slide"
    }
   },
   "source": [
    "### We can also plot a continuous line with a different `style`"
   ]
  },
  {
   "cell_type": "code",
   "execution_count": null,
   "id": "c7943be0",
   "metadata": {
    "slideshow": {
     "slide_type": "-"
    }
   },
   "outputs": [],
   "source": [
    "df['numbers'].plot(kind='line', style=['-'])"
   ]
  },
  {
   "cell_type": "markdown",
   "id": "662d8939",
   "metadata": {
    "slideshow": {
     "slide_type": "slide"
    }
   },
   "source": [
    "### Our last topic of introduction is the linear congruential generator for pseudo-random numbers\n",
    "1. This is just a fancy name for a very simple formula\n",
    "2. Generate a sequence of pseduo-random numbers with \n",
    "    1. $x_0 \\leftarrow$ some initial value, say 3, 78, or 8269\n",
    "    2. $x_1 \\leftarrow (a*x_0) \\mbox{%} m$\n",
    "    3. $x_2 \\leftarrow (a*x_1) \\mbox{%} m$\n",
    "    4. ...\n",
    "3. This generates a sequence of pseudo-random numbers $x_0, x_1, x_2, ...$\n",
    "\n",
    "Note: \n",
    "- The operator $\\%$ is the mod (or modulus).  It returns the remainder\n",
    "- $m$ is usually a prime and is used by the modulus.  We will use $m = 2^{31} - 1$\n",
    "    - Known as a Mersenne prime\n",
    "- $a$ is some number between 0 and $m$, we let $a=8269$\n",
    "- And that's it!  \n",
    "- You should have pseudo random numbers with a period of about $m$"
   ]
  },
  {
   "cell_type": "code",
   "execution_count": null,
   "id": "4a613f7f",
   "metadata": {
    "slideshow": {
     "slide_type": "slide"
    }
   },
   "outputs": [],
   "source": [
    "# We can generate pseudo-random numbers!\n",
    "\n",
    "a = 8269\n",
    "m = 2**31 - 1\n",
    "\n",
    "x0 = 3\n",
    "x1 = a*x0 % m\n",
    "x2 = a*x1 % m\n",
    "x3 = a*x2 % m\n",
    "x4 = a*x3 % m\n",
    "print(x0, x1, x2, x3, x4)"
   ]
  },
  {
   "cell_type": "markdown",
   "id": "e54a0dde",
   "metadata": {
    "slideshow": {
     "slide_type": "slide"
    }
   },
   "source": [
    "### And if you want pseudo-random numbers between 0 and 1, just divide by the maximum possible number, $m-1$\n",
    "\n",
    "### Important:  You must divide by $m-1$ AFTER all the numbers are generated"
   ]
  },
  {
   "cell_type": "code",
   "execution_count": null,
   "id": "1f453171",
   "metadata": {
    "slideshow": {
     "slide_type": "-"
    }
   },
   "outputs": [],
   "source": [
    "a = 8269\n",
    "m = 2**31 - 1\n",
    "\n",
    "x0 = 3\n",
    "x1 = a*x0 % m\n",
    "x2 = a*x1 % m\n",
    "x3 = a*x2 % m\n",
    "x4 = a*x3 % m\n",
    "\n",
    "x0 = x0 / (m-1)\n",
    "x1 = x1 / (m-1)\n",
    "x2 = x2 / (m-1)\n",
    "x3 = x3 / (m-1)\n",
    "x4 = x4 / (m-1)\n",
    "\n",
    "print(x0, x1, x2, x3, x4, x5)"
   ]
  },
  {
   "cell_type": "markdown",
   "id": "514aa182",
   "metadata": {
    "slideshow": {
     "slide_type": "slide"
    }
   },
   "source": [
    "### Lab Tasks"
   ]
  },
  {
   "cell_type": "markdown",
   "id": "85df223a",
   "metadata": {
    "slideshow": {
     "slide_type": "slide"
    }
   },
   "source": [
    "### We first have to do a little housecleaning, and import our packages for plotting and data manipulation\n",
    "1. Matplotlib is the bottom-level plotting, and we need to tell Matplotlib to inline plots below notebook cells\n",
    "2. Pandas is for data manipulation, storage, and plotting"
   ]
  },
  {
   "cell_type": "code",
   "execution_count": null,
   "id": "64fdeb05",
   "metadata": {
    "slideshow": {
     "slide_type": "-"
    }
   },
   "outputs": [],
   "source": [
    "%matplotlib inline\n",
    "import pandas as pd"
   ]
  },
  {
   "cell_type": "markdown",
   "id": "f6110ac3",
   "metadata": {
    "slideshow": {
     "slide_type": "slide"
    }
   },
   "source": [
    "### Tasks: Create code cells below to accomplish the following tasks\n",
    "\n",
    "\n",
    "1. Create a list of numbers from 0 to 9, using a for loop and append.  Print this list to the screen when done.\n",
    "\n",
    "        declare empty list\n",
    "\n",
    "        for-loop\n",
    "            append number to empty list\n",
    "            \n",
    "        print(your list)\n",
    "        \n",
    "        generated output should be:\n",
    "        [0, 1, 2, 3, 4, 5, 6, 7, 8, 9]\n",
    "\n",
    "2. Create a list of numbers from 5 to 13, using a for loop and append.  Print this list to the screen when done.\n",
    "\n",
    "3. Modify the numbers (`my_list`) in the above plotting example.  Plot a few different lines.\n",
    "\n",
    "4. Modify the above pseudo-random number generating code to generate pseudo-random numbers between -1 and 1\n",
    "    - Multiply by 2 and subtract 1"
   ]
  },
  {
   "cell_type": "markdown",
   "id": "3b6fda61",
   "metadata": {
    "slideshow": {
     "slide_type": "slide"
    }
   },
   "source": [
    "5. Write a function that generates a pseudo-random number, given the previous number in the sequence.\n",
    "\n",
    "        x0 = 3\n",
    "        x1 = pseudorand(x0)\n",
    "        x2 = pseudorand(x1)\n",
    "        ...\n",
    "        \n",
    "  Generate the same output as above with\n",
    "  \n",
    "        print(x0, x1, x2, x3, x4)\n",
    "        \n",
    "        generated output should be:\n",
    "        3 24807 205129083 1847789844 28071631"
   ]
  },
  {
   "cell_type": "markdown",
   "id": "264a3fa6",
   "metadata": {
    "slideshow": {
     "slide_type": "slide"
    }
   },
   "source": [
    "6. Generate a list of 25 pseudo-random numbers using a loop and append.  \n",
    "    - Remember, you can get the last entry from a list with `-1`, which you will need to give to your function `pseudorand`\n",
    "\n",
    "            initialize a list to equal [3]\n",
    "\n",
    "            for-loop with 25 iterations\n",
    "                new_number = pseudorand( list at -1 )\n",
    "                append new_number to list\n",
    "\n",
    "            print the list\n",
    "            \n",
    "            generated output should be:\n",
    "            3 24807 205129083 1847789844 28071631  ... \n",
    "\n",
    "7. Convert your list of pseudo-random numbers to a data frame and then plot the numbers as dots."
   ]
  },
  {
   "cell_type": "markdown",
   "id": "d226b6d4",
   "metadata": {
    "slideshow": {
     "slide_type": "slide"
    }
   },
   "source": [
    "8. Extend your loop to divide all of your pseudo-random numbers by `m-1`, multiply by 2, and then subtract 1.  That is, create a pseudo-random number list between -1 and 1.\n",
    "\n",
    "            initialize list 1 to equal [3]\n",
    "            declare empty list 2\n",
    "\n",
    "            for-loop with 25 iterations\n",
    "                new_number = pseudorand( list 1 at index -1 )\n",
    "                append new_number to list 1 \n",
    "                \n",
    "                new_number2 = divide new_number by 2**31-1\n",
    "                new_number3 = multiply new_number2 by 2 and then subtract 1\n",
    "                append new_number3 to list 2\n",
    "\n",
    "            print list 1 \n",
    "            print list 2 \n",
    "            \n",
    "            generated output should be:\n",
    "            3 24807 205129083 1847789844 28071631 ...\n",
    "            1.3969838632242604e-09 1.1551659565001409e-05 0.09552067294299665 0.8604441982325578 0.01307187184046197 0.09130819848860446 ...\n",
    "            \n"
   ]
  },
  {
   "cell_type": "code",
   "execution_count": null,
   "id": "616aafc3",
   "metadata": {},
   "outputs": [],
   "source": []
  },
  {
   "cell_type": "code",
   "execution_count": null,
   "id": "01827c22",
   "metadata": {},
   "outputs": [],
   "source": []
  },
  {
   "cell_type": "code",
   "execution_count": null,
   "id": "25e511f1",
   "metadata": {},
   "outputs": [],
   "source": []
  }
 ],
 "metadata": {
  "celltoolbar": "Slideshow",
  "kernelspec": {
   "display_name": "Python 3 (ipykernel)",
   "language": "python",
   "name": "python3"
  },
  "language_info": {
   "codemirror_mode": {
    "name": "ipython",
    "version": 3
   },
   "file_extension": ".py",
   "mimetype": "text/x-python",
   "name": "python",
   "nbconvert_exporter": "python",
   "pygments_lexer": "ipython3",
   "version": "3.10.8"
  },
  "vp": {
   "vp_config_version": "1.0.0",
   "vp_menu_width": 273,
   "vp_note_display": false,
   "vp_note_width": 0,
   "vp_position": {
    "width": 278
   },
   "vp_section_display": false,
   "vp_signature": "VisualPython"
  }
 },
 "nbformat": 4,
 "nbformat_minor": 5
}
