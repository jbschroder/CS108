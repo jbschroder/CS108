{
 "cells": [
  {
   "cell_type": "markdown",
   "id": "a21e3ac1",
   "metadata": {
    "slideshow": {
     "slide_type": "slide"
    }
   },
   "source": [
    "## Randomness and Plotting Lecture/Lab 2\n",
    "\n",
    "-----------\n",
    "\n",
    "This material is based in part on previous CS108L, see https://cs4all.cs.unm.edu/cs108.html\n",
    "- Credit to Prof. Melanie Moses, Dr. Irene Lee, Dr. Maureen Psaila-Dombrowski, Prof. Dave Ackley and collaborators (see website)"
   ]
  },
  {
   "cell_type": "markdown",
   "id": "78cd0533",
   "metadata": {
    "slideshow": {
     "slide_type": "slide"
    }
   },
   "source": [
    "### Learning Goals\n",
    "\n",
    "1. Review\n",
    "    - Pseudo-random numbers\n",
    "        - Importance of randomness in computing\n",
    "        - Generate with linear congruential generator\n",
    "    - Adding elements to a list with append\n",
    "\n",
    "2. New: Approximating Pi with random numbers         "
   ]
  },
  {
   "cell_type": "markdown",
   "id": "7af2992a",
   "metadata": {
    "slideshow": {
     "slide_type": "slide"
    }
   },
   "source": [
    "### Review: Randomness in computing\n",
    "\n",
    "    - The use of random numbers in computing plays a key role in many places.\n",
    "    - Computers are NOT actually random.  They are deterministic machines that only do what their told.\n",
    "    - Computer output is what you programmed it to do.\n",
    "\n",
    "### So instead, computers use a determinisitic (predictable) process to produce numbers that look random (but actually aren't truly random).  \n",
    "    - Gives rise to pseudo-random numbers"
   ]
  },
  {
   "cell_type": "markdown",
   "id": "087d95e7",
   "metadata": {
    "slideshow": {
     "slide_type": "slide"
    }
   },
   "source": [
    "### Review: Linear congruential generator for pseudo-random numbers\n",
    "1. Generate a sequence of pseduo-random numbers with \n",
    "    1. $x_0 \\leftarrow$ some initial value, say 3, 78, or 8269\n",
    "    2. $x_1 \\leftarrow (a*x_0) \\mbox{%} m$\n",
    "    3. $x_2 \\leftarrow (a*x_1) \\mbox{%} m$\n",
    "    4. ...\n",
    "2. This generates a sequence of pseudo-random numbers $x_0, x_1, x_2, ...$\n",
    "\n",
    "Note: \n",
    "- The operator $\\%$ is the mod (or modulus).  It returns the remainder\n",
    "- We will use $m = 2^{31} - 1$, a Mersenne prime\n",
    "- $a$ is some number between 0 and $m$, $a = 8269$\n"
   ]
  },
  {
   "cell_type": "code",
   "execution_count": null,
   "id": "d6b708f8",
   "metadata": {
    "slideshow": {
     "slide_type": "slide"
    }
   },
   "outputs": [],
   "source": [
    "a = 8269\n",
    "m = 2**31 - 1\n",
    "\n",
    "x0 = 3\n",
    "x1 = a*x0 % m\n",
    "x2 = a*x1 % m\n",
    "x3 = a*x2 % m\n",
    "x4 = a*x3 % m\n",
    "\n",
    "x0 = x0 / (m-1)\n",
    "x1 = x1 / (m-1)\n",
    "x2 = x2 / (m-1)\n",
    "x3 = x3 / (m-1)\n",
    "x4 = x4 / (m-1)\n",
    "\n",
    "print(x0, x1, x2, x3, x4)"
   ]
  },
  {
   "cell_type": "markdown",
   "id": "406325cd",
   "metadata": {
    "slideshow": {
     "slide_type": "slide"
    }
   },
   "source": [
    "### Review: Uses of randomness\n",
    "1. Random ordering in agent-based modeling\n",
    "2. Random sampling of data for data analysis\n",
    "3. Compute useful quantities, like the number Pi\n",
    "<img src=\"https://raw.githubusercontent.com/jbschroder/CS108/main/lecture_images/Pi_approx.png\" width=\"350\">"
   ]
  },
  {
   "cell_type": "markdown",
   "id": "f542f693",
   "metadata": {
    "slideshow": {
     "slide_type": "slide"
    }
   },
   "source": [
    "### Remember how to append to a list"
   ]
  },
  {
   "cell_type": "code",
   "execution_count": null,
   "id": "fcc81863",
   "metadata": {
    "slideshow": {
     "slide_type": "-"
    }
   },
   "outputs": [],
   "source": [
    "my_list = []\n",
    "\n",
    "for i in range(10):\n",
    "    my_list.append(i)\n",
    "    \n",
    "print(my_list)"
   ]
  },
  {
   "cell_type": "markdown",
   "id": "7ca8bf4a",
   "metadata": {
    "slideshow": {
     "slide_type": "slide"
    }
   },
   "source": [
    "### Remember basic plotting\n",
    "\n",
    "1. Observe how we can start with a list of numbers, and then use `pandas` and `matplotlib` to plot\n",
    "2. The first two lines do a bit of housecleaning.  Matplotlib is the bottom-level plotting, and we need to tell Matplotlib to inline plots below notebook cells. Pandas is for data manipulation, storage, and general plotting.\n",
    "\n",
    "        %matplotlib inline\n",
    "        import pandas as pd\n",
    "\n",
    "3. We create a list `my_list` of some numbers\n",
    "\n",
    "        my_list = [5,6,7,8,9,10]\n",
    "\n",
    "4. Then, we convert `my_list` to a Pandas dataframe with\n",
    "\n",
    "        df = pd.DataFrame(my_list, columns=['numbers'])\n",
    "        \n",
    "5. The data frame stores your list in a column\n",
    "   - The column has a name `numbers`\n",
    "   - The column to the very left, just counts off (enumerates) everything, starting at 0"
   ]
  },
  {
   "cell_type": "code",
   "execution_count": null,
   "id": "741fa601",
   "metadata": {
    "slideshow": {
     "slide_type": "slide"
    }
   },
   "outputs": [],
   "source": [
    "%matplotlib inline\n",
    "import pandas as pd"
   ]
  },
  {
   "cell_type": "code",
   "execution_count": null,
   "id": "8c06f0ea",
   "metadata": {
    "slideshow": {
     "slide_type": "-"
    }
   },
   "outputs": [],
   "source": [
    "my_list = [5,6,7,8,9,10]\n",
    "df = pd.DataFrame(my_list, columns=['numbers'])\n",
    "print(df)"
   ]
  },
  {
   "cell_type": "markdown",
   "id": "2377ca09",
   "metadata": {
    "slideshow": {
     "slide_type": "slide"
    }
   },
   "source": [
    "### To plot the column `numbers` with a point style, do"
   ]
  },
  {
   "cell_type": "code",
   "execution_count": null,
   "id": "bbb90386",
   "metadata": {
    "scrolled": false,
    "slideshow": {
     "slide_type": "-"
    }
   },
   "outputs": [],
   "source": [
    "df['numbers'].plot(kind='line', style=['.'])"
   ]
  },
  {
   "cell_type": "markdown",
   "id": "f07967dc",
   "metadata": {
    "slideshow": {
     "slide_type": "slide"
    }
   },
   "source": [
    "### We can also plot a continuous line with a different `style`"
   ]
  },
  {
   "cell_type": "code",
   "execution_count": null,
   "id": "c7943be0",
   "metadata": {
    "slideshow": {
     "slide_type": "-"
    }
   },
   "outputs": [],
   "source": [
    "df['numbers'].plot(kind='line', style=['-'])"
   ]
  },
  {
   "cell_type": "markdown",
   "id": "b97129f4",
   "metadata": {
    "slideshow": {
     "slide_type": "slide"
    }
   },
   "source": [
    "### Approximating Pi with random data\n",
    "Consider the unit circle below, and also the square going from -1 to 1\n",
    "\n",
    "The area of the unit circle with radius 1 is $\\pi r^2 = \\pi 1^2 = \\pi$\n",
    "\n",
    "The area of the square is $2 \\times 2 = 4$ (width times height)\n",
    "\n",
    "\n",
    "<img src=\"https://raw.githubusercontent.com/jbschroder/CS108/main/lecture_images/Pi_approx.png\" width=\"350\">\n"
   ]
  },
  {
   "cell_type": "markdown",
   "id": "a5321057",
   "metadata": {
    "slideshow": {
     "slide_type": "slide"
    }
   },
   "source": [
    "### The ratio of these two areas is $$ \\frac{\\mbox{area of circle}}{\\mbox{area of square}} = \\frac{\\pi}{4}$$\n",
    "    \n",
    "### This also tells us what the ratio of random points inside the circle and points inside the square should be, if we take many, many random numbers\n",
    "\n",
    " $$ \\frac{\\mbox{points inside circle}}{\\mbox{points inside square}} = \\frac{\\pi}{4}$$\n",
    "\n",
    "### This is a limit value, that is, in the limit, as we take more and more random numbers, this ratio approaches $\\pi/4$"
   ]
  },
  {
   "cell_type": "markdown",
   "id": "897371ac",
   "metadata": {
    "slideshow": {
     "slide_type": "slide"
    }
   },
   "source": [
    "### This gives us an algorithm, or procedure for approximating Pi\n",
    "        N = something large\n",
    "        num_inside = 0\n",
    "        \n",
    "        for loop with N iterations\n",
    "            generate rand_point inside the square \n",
    "            \n",
    "            if rand_point is less than distance 1 from origin:\n",
    "                increase num_inside by 1               \n",
    "        \n",
    "        pi/4 = num_inside / N\n",
    "        \n",
    "### Or, we can use $$ \\pi = 4 \\left(\\frac{\\mbox{num_inside}}{\\mbox{N}}\\right) $$\n",
    "\n",
    "- Remember, that $N$ is the total number of points inside the square (see picture)\n",
    "- Note, num_inside counts the number of points inside the circle"
   ]
  },
  {
   "cell_type": "markdown",
   "id": "79a9f24a",
   "metadata": {
    "slideshow": {
     "slide_type": "slide"
    }
   },
   "source": [
    "### We make two simplifications: \n",
    "1. Our `rand_point` equals (x,y) for some random point in the square. So, the distance of that point from the origin is less than 1, if $$x^2 + y^2 < 1$$\n",
    "\n",
    "2. Directly compute pi by multiplying by 4\n",
    "\n",
    "        N = something large\n",
    "        num_inside = 0\n",
    "        \n",
    "        for loop with N iterations\n",
    "        \n",
    "            generate rand_point inside the square \n",
    "            \n",
    "            get x and y from the rand_point\n",
    "\n",
    "            if x**2 + y**2 is less than 1:\n",
    "                increase num_inside by 1\n",
    "                                  \n",
    "        pi = 4*( num_inside / N)\n",
    "        print(pi, \":  approximation to pi\")"
   ]
  },
  {
   "cell_type": "markdown",
   "id": "514aa182",
   "metadata": {
    "slideshow": {
     "slide_type": "slide"
    }
   },
   "source": [
    "### Lab Tasks"
   ]
  },
  {
   "cell_type": "markdown",
   "id": "85df223a",
   "metadata": {
    "slideshow": {
     "slide_type": "-"
    }
   },
   "source": [
    "### We first have to do a little housecleaning, and import our packages for plotting and data manipulation\n",
    "1. Matplotlib is the bottom-level plotting, and we need to tell Matplotlib to inline plots below notebook cells\n",
    "2. Pandas is for data manipulation, storage, and plotting"
   ]
  },
  {
   "cell_type": "code",
   "execution_count": null,
   "id": "64fdeb05",
   "metadata": {
    "slideshow": {
     "slide_type": "-"
    }
   },
   "outputs": [],
   "source": [
    "%matplotlib inline\n",
    "import pandas as pd"
   ]
  },
  {
   "cell_type": "markdown",
   "id": "6f3dd519",
   "metadata": {
    "slideshow": {
     "slide_type": "slide"
    }
   },
   "source": [
    "### Tasks: Create code cells below to accomplish the following tasks\n",
    "\n",
    "0. Practice plotting:  Plot the line with y-points equal to `[1, 5, 10, 12, 5]`\n",
    "\n",
    "1. Implement the above algorithm, with the two simplifications.\n",
    "    - You will need a way to generate a random point (`rand_point`) inside the square.\n",
    "    - It is recommended to use your `pseudorand` function from the last lab.  \n",
    "    - Consider a procedure like this    \n",
    "\n",
    "            rand_number1 = pseudorand(old_rand)\n",
    "            rand_number2 = pseudorand(rand_number1)\n",
    "            \n",
    "            old_rand = rand_number2\n",
    "            \n",
    "            x = rand_number1 divided, muliplied, and subtracted \n",
    "                to be within the range of [-1, 1]\n",
    "                \n",
    "            Do the same for y, so that y is based on rand_number2\n",
    "                and is within the range [-1, 1]\n",
    "    \n",
    "            \n",
    "    \n",
    "- This should give you an `x` and `y` that are pseudo-random, and between -1 and 1"
   ]
  },
  {
   "cell_type": "markdown",
   "id": "f6110ac3",
   "metadata": {
    "slideshow": {
     "slide_type": "slide"
    }
   },
   "source": [
    "2. Update your loop to store all of your pseudo-random (x,y) points.  \n",
    "    - Create two empty lists before the loop, call them `rand_x` and `rand_y`\n",
    "    - Each loop iteration, append to these lists with\n",
    "    \n",
    "            rand_x.append(x)\n",
    "            rand_y.append(y)\n",
    "           \n",
    "\n",
    "3. How large must N be in order to get close to pi (even 3 or 4 digits)? \n",
    "   - For reference, pi = 3.141592653...\n",
    "\n",
    "4. Plot a point cloud in 2D using pandas for N=25\n",
    "   - This is a scatter plot\n",
    "   - Here's a simple scatter plot that you can adapt\n",
    "           \n",
    "           datax = [-0.54, 0.32, -0.05, -0.92, 0.62]\n",
    "           datay = [0.12,  0.82, -0.35, -0.32, -0.12]\n",
    "           \n",
    "           df = pd.DataFrame({'rand x': datax, 'rand y': datay})\n",
    "           ax = df.plot.scatter(x='rand x', y='rand y')\n",
    "           ax.axis('equal')\n",
    "   \n",
    "   - Note that you create a data frame with two datasets, `datax` and `datay`\n",
    "   - When you create the scatter plot, you must specify the `x` and `y` coordinates\n"
   ]
  },
  {
   "cell_type": "code",
   "execution_count": null,
   "id": "d4fb829d",
   "metadata": {},
   "outputs": [],
   "source": []
  },
  {
   "cell_type": "code",
   "execution_count": null,
   "id": "8aed91da",
   "metadata": {},
   "outputs": [],
   "source": []
  },
  {
   "cell_type": "code",
   "execution_count": null,
   "id": "01827c22",
   "metadata": {},
   "outputs": [],
   "source": []
  },
  {
   "cell_type": "code",
   "execution_count": null,
   "id": "25e511f1",
   "metadata": {},
   "outputs": [],
   "source": []
  }
 ],
 "metadata": {
  "celltoolbar": "Slideshow",
  "kernelspec": {
   "display_name": "Python 3 (ipykernel)",
   "language": "python",
   "name": "python3"
  },
  "language_info": {
   "codemirror_mode": {
    "name": "ipython",
    "version": 3
   },
   "file_extension": ".py",
   "mimetype": "text/x-python",
   "name": "python",
   "nbconvert_exporter": "python",
   "pygments_lexer": "ipython3",
   "version": "3.10.8"
  },
  "vp": {
   "vp_config_version": "1.0.0",
   "vp_menu_width": 273,
   "vp_note_display": false,
   "vp_note_width": 0,
   "vp_position": {
    "width": 278
   },
   "vp_section_display": false,
   "vp_signature": "VisualPython"
  }
 },
 "nbformat": 4,
 "nbformat_minor": 5
}
