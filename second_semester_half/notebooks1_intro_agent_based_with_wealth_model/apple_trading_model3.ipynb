{
 "cells": [
  {
   "cell_type": "markdown",
   "id": "a1862eaa",
   "metadata": {},
   "source": [
    "## Agent Based Modeling (ABM): Apple Trading Model 3\n",
    "\n",
    "-----------\n",
    "\n",
    "This material is based on the previous version of CS108L, see https://cs4all.cs.unm.edu/cs108.html\n",
    "- Credit to Prof. Melanie Moses, Dr. Irene Lee, Dr. Maureen Psaila-Dombrowski, Prof. Dave Ackley and collaborators (see website)"
   ]
  },
  {
   "cell_type": "markdown",
   "id": "2a3b2e3e",
   "metadata": {},
   "source": [
    "### Computational Science \n",
    "- ABM is part of the much broader field of computational science (not computer science!)\n",
    "- Computational science is the intersection of computer science, mathematices, and science (like biology, or chemistry, or physics)\n",
    "\n",
    "<img src=\"https://raw.githubusercontent.com/jbschroder/CS108/main/lecture_images/venn_diagram.png\" width=\"350\">"
   ]
  },
  {
   "cell_type": "markdown",
   "id": "90aea79d",
   "metadata": {},
   "source": [
    "### Computational Science\n",
    "- Combine math, computer science, and application(s) in the sciences\n",
    "- We model real world problems to gain insight an knowledge\n",
    "- Typically choose real world problems that are too big, too complex, too dangerous, or too expensive to conduct in real life\n",
    "    - Medicine, national security, large economies, ...\n",
    "- Run many \"what-if\" scenarios quickly, analyze data\n",
    "    - Computers are always getting faster, so computational science is only getting more important and powerful"
   ]
  },
  {
   "cell_type": "markdown",
   "id": "54eca3c1",
   "metadata": {},
   "source": [
    "### Computational Science Workflow\n",
    "1. Real World Problem --> Simplify\n",
    "\n",
    "\n",
    "2. Working Model --> Develop equations and algorithm\n",
    "\n",
    "\n",
    "3. Computational Model --> Simulate\n",
    "\n",
    "\n",
    "4. Results/Conclusion --> Interpret \n",
    "    - And if needed, go back and update model and start again at step 1\n",
    "\n"
   ]
  },
  {
   "cell_type": "markdown",
   "id": "59640926",
   "metadata": {
    "slideshow": {
     "slide_type": "slide"
    }
   },
   "source": [
    "### Review: ABM phases\n",
    "- Setup: instantion (creation) of world\n",
    "    - Describe the world you will be modeling and the rules that describe it\n",
    "- Runtime loop: Each loop iteration: \n",
    "    - Represents one tick, or movement forward in time (minute, hour, day, ...)\n",
    "    - Each agent changes it's state (say, gets more apples, or a tree catches on fire)\n",
    "    - Any needed changes to world also occur, like a resource is consumed or added to    \n",
    "- Exit\n",
    "\n",
    "<img src=\"https://raw.githubusercontent.com/jbschroder/CS108/main/lecture_images/agent_based_modeling.png\" width=\"300\">"
   ]
  },
  {
   "cell_type": "markdown",
   "id": "ba7c902c",
   "metadata": {
    "slideshow": {
     "slide_type": "slide"
    }
   },
   "source": [
    "### ABM Summary\n",
    "\n",
    "1. ABM uses three main abstractions\n",
    "    - Agents with rules\n",
    "    - Environment or model within which the agents live\n",
    "        - This would be a grid for apple trading, where traders walk around\n",
    "    - Time: time is dictated (controlled) by a the runtime loop.\n",
    "        - Each loop iteration is one tick or one step of abstracted time\n",
    "    "
   ]
  },
  {
   "cell_type": "markdown",
   "id": "f809522b",
   "metadata": {
    "slideshow": {
     "slide_type": "fragment"
    }
   },
   "source": [
    "2. ABM model is a representation of the interaction of real-world objects in a complex system\n",
    "    - The goal is to gain an understanding of how the model's results relate to real-world phenomena\n",
    "    - Random factors built into the model and variables changed by the user (you) cause different results to be generated each time a model is run\n",
    "        - When you run a model many times, each time you get a different outcome\n",
    "    - We are constructing a model, not a replica    "
   ]
  },
  {
   "cell_type": "markdown",
   "id": "f7299b6c",
   "metadata": {},
   "source": [
    "### Learning Goals\n",
    "1. Continue learning about ABM \n",
    "    1. How to use ABM\n",
    "        - Conduct experiments by changing values and variables (like how many apples agents start with, or how combustible a tree is)\n",
    "        - Collect and analyze results\n",
    "\n",
    "    2. Learn how to modify ABM\n",
    "        - Deconstruct models into agents, behaviors, environment, and interactions\n",
    "     \n",
    "    3. Learn how to create ABM\n",
    "        - Implement and evaluate models"
   ]
  },
  {
   "cell_type": "markdown",
   "id": "ac52b97b",
   "metadata": {},
   "source": [
    "2. Learn how to generate more informative plots and results by running model many times\n",
    "    - Continue using the apple trading model from last lab\n",
    "    - Each step, if an agent has an apple, \n",
    "    - Choose one agent at random and give them an apple\n",
    "    - Like all the agents are in a room, trading at random with each other\n",
    "    \n",
    "3. Practice running multiple experiments methodically, comparing and interpreting results"
   ]
  },
  {
   "cell_type": "markdown",
   "id": "c4e66e1c",
   "metadata": {},
   "source": [
    "### First, we have to make sure that Mesa is installed, and then import our basic packages\n",
    "- Note that Pandas and Seaborn or \"built-in\" packages, so we only have to import them, not install them"
   ]
  },
  {
   "cell_type": "code",
   "execution_count": null,
   "id": "bf49b7f9",
   "metadata": {},
   "outputs": [],
   "source": [
    "! pip install mesa==2.1.1"
   ]
  },
  {
   "cell_type": "code",
   "execution_count": 1,
   "id": "a3f64ebb",
   "metadata": {},
   "outputs": [],
   "source": [
    "import mesa\n",
    "\n",
    "# Data visualization tools.\n",
    "import seaborn as sns\n",
    "\n",
    "# Data manipulation and analysis.\n",
    "import pandas as pd"
   ]
  },
  {
   "cell_type": "markdown",
   "id": "af4f51b5",
   "metadata": {},
   "source": [
    "### Now, we can begin creating our apple trading agent based model (ABM)\n",
    "\n",
    "### First, we define the AppleTraderAgent object, keeping it the same from the previous lab.\n",
    "\n",
    "- Remember, this object inherits from the class `mesa.Agent`\n",
    "    \n",
    "- Remember: Each Step, \n",
    "    - If an agent has an apple\n",
    "    - Choose one agent at random and give them an apple\n",
    "    - Remember that the model step calls each agent step in random order\n",
    "\n",
    "- This is like all the agents are in a room, trading at random with each other\n"
   ]
  },
  {
   "cell_type": "code",
   "execution_count": null,
   "id": "dcc40b65",
   "metadata": {},
   "outputs": [],
   "source": [
    "# Create ABM\n",
    "\n",
    "# 1. Define the Agent Abstraction\n",
    "class AppleTraderAgent(mesa.Agent):\n",
    "    \"\"\"An agent that trades apples and begins with 1 apple.\"\"\"\n",
    "\n",
    "    def __init__(self, unique_id, model):\n",
    "        # Pass the parameters to the parent class.\n",
    "        super().__init__(unique_id, model)\n",
    "\n",
    "        # Create the agent's number of apples and set initial value\n",
    "        self.NumberApples = 1\n",
    "\n",
    "    def step(self):\n",
    "        # Verify agent has some apples\n",
    "        if self.NumberApples > 0:\n",
    "            other_agent = self.random.choice(self.model.schedule.agents)\n",
    "            if other_agent is not None:\n",
    "                other_agent.NumberApples += 1\n",
    "                self.NumberApples -= 1\n",
    "                \n",
    "                "
   ]
  },
  {
   "cell_type": "markdown",
   "id": "095032d8",
   "metadata": {},
   "source": [
    "### Next, we create our AppleTradingModel.  We leave this the same as before (for now).\n",
    "\n",
    "### This defines two more of our key abstractions:\n",
    "1. This defines the environment where the agents (apple traders) exist\n",
    "2. This also defines how to take a step (tick) forward in time\n",
    "\n",
    "### Similar to the agent, the AppleTradingModel inherits from `mesa.Model`\n",
    "- The `__init__` function describes how to create the environment and agents, using inheritance"
   ]
  },
  {
   "cell_type": "code",
   "execution_count": 3,
   "id": "e7c10a98",
   "metadata": {},
   "outputs": [],
   "source": [
    "# 2. Define the Model (or environment) Abstraction for the Agents to live in\n",
    "class AppleTradingModel(mesa.Model):\n",
    "    \"\"\"A model with some number of apple trading agents.\"\"\"\n",
    "\n",
    "    def __init__(self, N):\n",
    "        self.num_agents = N\n",
    "        # Create scheduler and assign it to the model\n",
    "        self.schedule = mesa.time.RandomActivation(self)\n",
    "\n",
    "        # Create agents\n",
    "        for i in range(self.num_agents):\n",
    "            a = AppleTraderAgent(i, self)\n",
    "            # Add the agent to the scheduler\n",
    "            self.schedule.add(a)\n",
    "\n",
    "    # 3. Define each step or time tick: \n",
    "    #    Each step or tick will call the AppleTraderAgent.step() function once\n",
    "    def step(self):\n",
    "        \"\"\"Advance the model by one step.\"\"\"\n",
    "\n",
    "        # The model's step will call the step method of each agent\n",
    "        self.schedule.step()"
   ]
  },
  {
   "cell_type": "markdown",
   "id": "96ae18e4",
   "metadata": {},
   "source": [
    "### And now to run the model, the syntax is easy!\n",
    "1. We first create a new AppleTradingModel object called `model`\n",
    "2. Then, we take 100 steps with the model\n",
    "\n",
    "### Key Point: Running `AppleTradingModel.step()` once, in turn runs `AppleTraderAgent.step()` once for each agent\n",
    "\n",
    "### Key Point: Remember that the agents act in a random order\n",
    "  - Each `model.step()` every agents acts once, but in a random order\n",
    "    \n"
   ]
  },
  {
   "cell_type": "code",
   "execution_count": null,
   "id": "1f0b6253",
   "metadata": {},
   "outputs": [],
   "source": [
    "all_agents_NumberApples = []\n",
    "\n",
    "# This runs the model 100 times, each model executing 100 steps.\n",
    "for j in range(100):\n",
    "    # Run the model\n",
    "    model = AppleTradingModel(10)\n",
    "    for i in range(100):\n",
    "        model.step()\n",
    "\n",
    "    # Store the results\n",
    "    for agent in model.schedule.agents:\n",
    "        all_agents_NumberApples.append(agent.NumberApples)"
   ]
  },
  {
   "cell_type": "markdown",
   "id": "0fd76fcd",
   "metadata": {},
   "source": [
    "### Lastly, we plot a histogram with Seaborn\n",
    "- Seaborn provides really sharp plots with little effort\n",
    "- Pandas also provides histograms, but Seaborn requires less effort"
   ]
  },
  {
   "cell_type": "code",
   "execution_count": 4,
   "id": "12540723",
   "metadata": {},
   "outputs": [
    {
     "data": {
      "image/png": "[encoded data removed]",
      "text/plain": [
       "<Figure size 640x480 with 1 Axes>"
      ]
     },
     "metadata": {},
     "output_type": "display_data"
    }
   ],
   "source": [
    "# Use seaborn for plotting \n",
    "df = pd.DataFrame({'all_agents_NumberApples': all_agents_NumberApples})\n",
    "ax = sns.histplot(df['all_agents_NumberApples'], discrete=True)\n",
    "ax.set(title=\"Apple distribution\", xlabel=\"Number of Apples\", ylabel=\"Number of agents\" \n",
    "       \n",
    "max_apples_owned = df['all_agents_NumberApples'].max() + 1\n",
    "ax.set_xticks(range(0,max_apples_owned), labels=range(0,max_apples_owned));"
   ]
  },
  {
   "cell_type": "code",
   "execution_count": 2,
   "id": "5a7adce3",
   "metadata": {},
   "outputs": [],
   "source": [
    "Compute averages as first task...\n",
    "\n",
    "Generate separate plots (copy and past cells) for\n",
    "  50 steps\n",
    "  100 steps\n",
    "  200 steps\n",
    "  400 steps\n",
    "  800 steps\n",
    "what do you find?\n",
    "\n",
    "Repeat for more agents (30)\n",
    "what do you fine?\n",
    "\n",
    "\n",
    "\n",
    "# could imagine some kind of write up on this, leave interpretations very open ended, running multiple times, \n",
    "# seeing variability, learning about randomness\n",
    "\n",
    "# create averages...new plots...\n",
    "\n",
    "# need to compute averages...\n",
    "\n",
    "\n",
    "# Can keep expanding on your discussion from Monday..."
   ]
  },
  {
   "cell_type": "code",
   "execution_count": null,
   "id": "6f54427c",
   "metadata": {},
   "outputs": [],
   "source": []
  }
 ],
 "metadata": {
  "celltoolbar": "Slideshow",
  "kernelspec": {
   "display_name": "Python 3 (ipykernel)",
   "language": "python",
   "name": "python3"
  },
  "language_info": {
   "codemirror_mode": {
    "name": "ipython",
    "version": 3
   },
   "file_extension": ".py",
   "mimetype": "text/x-python",
   "name": "python",
   "nbconvert_exporter": "python",
   "pygments_lexer": "ipython3",
   "version": "3.10.8"
  },
  "vp": {
   "vp_config_version": "1.0.0",
   "vp_menu_width": 273,
   "vp_note_display": false,
   "vp_note_width": 0,
   "vp_position": {
    "width": 278
   },
   "vp_section_display": false,
   "vp_signature": "VisualPython"
  }
 },
 "nbformat": 4,
 "nbformat_minor": 5
}
