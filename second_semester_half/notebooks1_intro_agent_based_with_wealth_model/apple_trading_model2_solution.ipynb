{
 "cells": [
  {
   "cell_type": "markdown",
   "id": "226dd554",
   "metadata": {
    "slideshow": {
     "slide_type": "slide"
    }
   },
   "source": [
    "## Agent Based Modeling (ABM): Apple Trading Model 2\n",
    "\n",
    "-----------\n",
    "\n",
    "This material is based on the previous version of CS108L, see https://cs4all.cs.unm.edu/cs108.html\n",
    "- Credit to Prof. Melanie Moses, Dr. Irene Lee, Dr. Maureen Psaila-Dombrowski, Prof. Dave Ackley and collaborators (see website)"
   ]
  },
  {
   "cell_type": "markdown",
   "id": "e31ffb4e",
   "metadata": {
    "slideshow": {
     "slide_type": "slide"
    }
   },
   "source": [
    "### Review: ABM phases\n",
    "- Setup: instantion (creation) of world\n",
    "    - Describe the world you will be modeling and the rules that describe it\n",
    "- Runtime loop: Each loop iteration: \n",
    "    - Represents one tick, or movement forward in time (minute, hour, day, ...)\n",
    "    - Each agent changes it's state (say, gets more apples, or a tree catches on fire)\n",
    "    - Any needed changes to world also occur, like a resource is consumed or added to    \n",
    "- Exit\n",
    "\n",
    "<img src=\"https://raw.githubusercontent.com/jbschroder/CS108/main/lecture_images/agent_based_modeling.png\" width=\"300\">"
   ]
  },
  {
   "cell_type": "markdown",
   "id": "fc862d8a",
   "metadata": {
    "slideshow": {
     "slide_type": "slide"
    }
   },
   "source": [
    "### ABM Summary\n",
    "\n",
    "1. ABM uses three main abstractions\n",
    "    - Agents with rules\n",
    "    - Environment or model within which the agents live\n",
    "        - This would be a grid for apple trading, where traders walk around\n",
    "    - Time: time is dictated (controlled) by a the runtime loop.\n",
    "        - Each loop iteration is one tick or one step of abstracted time\n",
    "    "
   ]
  },
  {
   "cell_type": "markdown",
   "id": "19a4b782",
   "metadata": {
    "slideshow": {
     "slide_type": "fragment"
    }
   },
   "source": [
    "2. ABM model is a representation of the interaction of real-world objects in a complex system\n",
    "    - The goal is to gain an understanding of how the model's results relate to real-world phenomena\n",
    "    - Random factors built into the model and variables changed by the user (you) cause different results to be generated each time a model is run\n",
    "        - When you run a model many times, each time you get a different outcome\n",
    "    - We are constructing a model, not a replica    "
   ]
  },
  {
   "cell_type": "markdown",
   "id": "4d869008",
   "metadata": {},
   "source": [
    " "
   ]
  },
  {
   "cell_type": "markdown",
   "id": "ad239e42",
   "metadata": {},
   "source": [
    "### Learning Goals\n",
    "\n",
    "\n",
    "1. Continue learning about ABM \n",
    "    1. How to use ABM\n",
    "        - Conduct experiments by changing values and variables (like how many apples agents start with, or how combustible a tree is)\n",
    "        - Collect and analyze results\n",
    "\n",
    "    2. Learn how to modify ABM\n",
    "        - Deconstruct models into agents, behaviors, environment, and interactions\n",
    "     \n",
    "    3. Learn how to create ABM\n",
    "        - Implement and evaluate models"
   ]
  },
  {
   "cell_type": "markdown",
   "id": "0c43f70a",
   "metadata": {},
   "source": [
    "2. New: make current apple trading model more complex (abstract fewer details)\n",
    "    1. Each step, if an agent has an apple, \n",
    "    2. Choose one agent at random and give them an apple\n",
    "        - Remember that the model step calls each agent step in random order\n",
    "\n",
    "       Like all the agents are in a room, trading at random with each other\n",
    "\n",
    "3. Learn more plotting by plotting your results"
   ]
  },
  {
   "cell_type": "markdown",
   "id": "c222b06a",
   "metadata": {},
   "source": [
    "### First, we have to make sure that Mesa is installed, and then import our basic packages\n",
    "- Note that Pandas and Seaborn or \"built-in\" packages, so we only have to import them, not install them"
   ]
  },
  {
   "cell_type": "code",
   "execution_count": 1,
   "id": "2f24cc01",
   "metadata": {},
   "outputs": [
    {
     "name": "stdout",
     "output_type": "stream",
     "text": [
      "Requirement already satisfied: mesa==2.1.1 in /opt/homebrew/lib/python3.10/site-packages (2.1.1)\n",
      "Requirement already satisfied: click in /opt/homebrew/lib/python3.10/site-packages (from mesa==2.1.1) (8.1.7)\n",
      "Requirement already satisfied: cookiecutter in /opt/homebrew/lib/python3.10/site-packages (from mesa==2.1.1) (2.3.0)\n",
      "Requirement already satisfied: networkx in /opt/homebrew/lib/python3.10/site-packages (from mesa==2.1.1) (3.1)\n",
      "Requirement already satisfied: numpy in /opt/homebrew/lib/python3.10/site-packages (from mesa==2.1.1) (1.23.4)\n",
      "Requirement already satisfied: pandas in /opt/homebrew/lib/python3.10/site-packages (from mesa==2.1.1) (2.0.3)\n",
      "Requirement already satisfied: solara in /opt/homebrew/lib/python3.10/site-packages (from mesa==2.1.1) (1.19.0)\n",
      "Requirement already satisfied: tornado in /opt/homebrew/lib/python3.10/site-packages (from mesa==2.1.1) (6.2)\n",
      "Requirement already satisfied: tqdm in /opt/homebrew/lib/python3.10/site-packages (from mesa==2.1.1) (4.64.1)\n",
      "Requirement already satisfied: binaryornot>=0.4.4 in /opt/homebrew/lib/python3.10/site-packages (from cookiecutter->mesa==2.1.1) (0.4.4)\n",
      "Requirement already satisfied: Jinja2<4.0.0,>=2.7 in /opt/homebrew/lib/python3.10/site-packages (from cookiecutter->mesa==2.1.1) (3.1.2)\n",
      "Requirement already satisfied: pyyaml>=5.3.1 in /opt/homebrew/lib/python3.10/site-packages (from cookiecutter->mesa==2.1.1) (6.0)\n",
      "Requirement already satisfied: python-slugify>=4.0.0 in /opt/homebrew/lib/python3.10/site-packages (from cookiecutter->mesa==2.1.1) (8.0.1)\n",
      "Requirement already satisfied: requests>=2.23.0 in /opt/homebrew/lib/python3.10/site-packages (from cookiecutter->mesa==2.1.1) (2.28.1)\n",
      "Requirement already satisfied: arrow in /opt/homebrew/lib/python3.10/site-packages (from cookiecutter->mesa==2.1.1) (1.2.3)\n",
      "Requirement already satisfied: rich in /opt/homebrew/lib/python3.10/site-packages (from cookiecutter->mesa==2.1.1) (13.5.2)\n",
      "Requirement already satisfied: python-dateutil>=2.8.2 in /opt/homebrew/lib/python3.10/site-packages (from pandas->mesa==2.1.1) (2.8.2)\n",
      "Requirement already satisfied: pytz>=2020.1 in /opt/homebrew/lib/python3.10/site-packages (from pandas->mesa==2.1.1) (2023.3)\n",
      "Requirement already satisfied: tzdata>=2022.1 in /opt/homebrew/lib/python3.10/site-packages (from pandas->mesa==2.1.1) (2023.3)\n",
      "Requirement already satisfied: cachetools in /opt/homebrew/lib/python3.10/site-packages (from solara->mesa==2.1.1) (5.3.1)\n",
      "Requirement already satisfied: filelock in /opt/homebrew/lib/python3.10/site-packages (from solara->mesa==2.1.1) (3.8.2)\n",
      "Requirement already satisfied: humanize in /opt/homebrew/lib/python3.10/site-packages (from solara->mesa==2.1.1) (4.8.0)\n",
      "Requirement already satisfied: ipykernel in /opt/homebrew/lib/python3.10/site-packages (from solara->mesa==2.1.1) (6.19.0)\n",
      "Requirement already satisfied: ipyvue>=1.9.0 in /opt/homebrew/lib/python3.10/site-packages (from solara->mesa==2.1.1) (1.9.2)\n",
      "Requirement already satisfied: ipyvuetify>=1.8.10 in /opt/homebrew/lib/python3.10/site-packages (from solara->mesa==2.1.1) (1.8.10)\n",
      "Requirement already satisfied: ipywidgets in /opt/homebrew/lib/python3.10/site-packages (from solara->mesa==2.1.1) (8.0.3)\n",
      "Requirement already satisfied: jupyter-client>=7.0.0 in /opt/homebrew/lib/python3.10/site-packages (from solara->mesa==2.1.1) (7.4.8)\n",
      "Requirement already satisfied: markdown in /opt/homebrew/lib/python3.10/site-packages (from solara->mesa==2.1.1) (3.4.4)\n",
      "Requirement already satisfied: markupsafe in /opt/homebrew/lib/python3.10/site-packages (from solara->mesa==2.1.1) (2.1.1)\n",
      "Requirement already satisfied: nbformat in /opt/homebrew/lib/python3.10/site-packages (from solara->mesa==2.1.1) (5.7.0)\n",
      "Requirement already satisfied: pymdown-extensions in /opt/homebrew/lib/python3.10/site-packages (from solara->mesa==2.1.1) (10.1)\n",
      "Requirement already satisfied: reacton>=1.7.1 in /opt/homebrew/lib/python3.10/site-packages (from solara->mesa==2.1.1) (1.7.1)\n",
      "Requirement already satisfied: rich-click in /opt/homebrew/lib/python3.10/site-packages (from solara->mesa==2.1.1) (1.6.1)\n",
      "Requirement already satisfied: starlette in /opt/homebrew/lib/python3.10/site-packages (from solara->mesa==2.1.1) (0.31.0)\n",
      "Requirement already satisfied: uvicorn in /opt/homebrew/lib/python3.10/site-packages (from solara->mesa==2.1.1) (0.23.2)\n",
      "Requirement already satisfied: watchdog in /opt/homebrew/lib/python3.10/site-packages (from solara->mesa==2.1.1) (3.0.0)\n",
      "Requirement already satisfied: websockets in /opt/homebrew/lib/python3.10/site-packages (from solara->mesa==2.1.1) (11.0.3)\n",
      "Requirement already satisfied: chardet>=3.0.2 in /opt/homebrew/lib/python3.10/site-packages (from binaryornot>=0.4.4->cookiecutter->mesa==2.1.1) (5.2.0)\n",
      "Requirement already satisfied: ipython>=6.1.0 in /opt/homebrew/lib/python3.10/site-packages (from ipywidgets->solara->mesa==2.1.1) (8.7.0)\n",
      "Requirement already satisfied: traitlets>=4.3.1 in /opt/homebrew/lib/python3.10/site-packages (from ipywidgets->solara->mesa==2.1.1) (5.7.0)\n",
      "Requirement already satisfied: widgetsnbextension~=4.0 in /opt/homebrew/lib/python3.10/site-packages (from ipywidgets->solara->mesa==2.1.1) (4.0.4)\n",
      "Requirement already satisfied: jupyterlab-widgets~=3.0 in /opt/homebrew/lib/python3.10/site-packages (from ipywidgets->solara->mesa==2.1.1) (3.0.4)\n",
      "Requirement already satisfied: appnope in /opt/homebrew/lib/python3.10/site-packages (from ipykernel->solara->mesa==2.1.1) (0.1.3)\n",
      "Requirement already satisfied: comm>=0.1.1 in /opt/homebrew/lib/python3.10/site-packages (from ipykernel->solara->mesa==2.1.1) (0.1.1)\n",
      "Requirement already satisfied: debugpy>=1.0 in /opt/homebrew/lib/python3.10/site-packages (from ipykernel->solara->mesa==2.1.1) (1.6.4)\n",
      "Requirement already satisfied: matplotlib-inline>=0.1 in /opt/homebrew/lib/python3.10/site-packages (from ipykernel->solara->mesa==2.1.1) (0.1.6)\n",
      "Requirement already satisfied: nest-asyncio in /opt/homebrew/lib/python3.10/site-packages (from ipykernel->solara->mesa==2.1.1) (1.5.6)\n",
      "Requirement already satisfied: packaging in /opt/homebrew/lib/python3.10/site-packages (from ipykernel->solara->mesa==2.1.1) (21.3)\n",
      "Requirement already satisfied: psutil in /opt/homebrew/lib/python3.10/site-packages (from ipykernel->solara->mesa==2.1.1) (5.9.4)\n",
      "Requirement already satisfied: pyzmq>=17 in /opt/homebrew/lib/python3.10/site-packages (from ipykernel->solara->mesa==2.1.1) (24.0.1)\n",
      "Requirement already satisfied: entrypoints in /opt/homebrew/lib/python3.10/site-packages (from jupyter-client>=7.0.0->solara->mesa==2.1.1) (0.4)\n",
      "Requirement already satisfied: jupyter-core>=4.9.2 in /opt/homebrew/lib/python3.10/site-packages (from jupyter-client>=7.0.0->solara->mesa==2.1.1) (5.1.0)\n",
      "Requirement already satisfied: six>=1.5 in /opt/homebrew/lib/python3.10/site-packages (from python-dateutil>=2.8.2->pandas->mesa==2.1.1) (1.16.0)\n",
      "Requirement already satisfied: text-unidecode>=1.3 in /opt/homebrew/lib/python3.10/site-packages (from python-slugify>=4.0.0->cookiecutter->mesa==2.1.1) (1.3)\n",
      "Requirement already satisfied: typing-extensions>=4.1.1 in /opt/homebrew/lib/python3.10/site-packages (from reacton>=1.7.1->solara->mesa==2.1.1) (4.3.0)\n",
      "Requirement already satisfied: charset-normalizer<3,>=2 in /opt/homebrew/lib/python3.10/site-packages (from requests>=2.23.0->cookiecutter->mesa==2.1.1) (2.1.1)\n",
      "Requirement already satisfied: idna<4,>=2.5 in /opt/homebrew/lib/python3.10/site-packages (from requests>=2.23.0->cookiecutter->mesa==2.1.1) (3.4)\n",
      "Requirement already satisfied: urllib3<1.27,>=1.21.1 in /opt/homebrew/lib/python3.10/site-packages (from requests>=2.23.0->cookiecutter->mesa==2.1.1) (1.26.12)\n",
      "Requirement already satisfied: certifi>=2017.4.17 in /opt/homebrew/lib/python3.10/site-packages (from requests>=2.23.0->cookiecutter->mesa==2.1.1) (2022.9.14)\n",
      "Requirement already satisfied: fastjsonschema in /opt/homebrew/lib/python3.10/site-packages (from nbformat->solara->mesa==2.1.1) (2.16.2)\n",
      "Requirement already satisfied: jsonschema>=2.6 in /opt/homebrew/lib/python3.10/site-packages (from nbformat->solara->mesa==2.1.1) (4.17.3)\n",
      "Requirement already satisfied: markdown-it-py>=2.2.0 in /opt/homebrew/lib/python3.10/site-packages (from rich->cookiecutter->mesa==2.1.1) (3.0.0)\n",
      "Requirement already satisfied: pygments<3.0.0,>=2.13.0 in /opt/homebrew/lib/python3.10/site-packages (from rich->cookiecutter->mesa==2.1.1) (2.13.0)\n",
      "Requirement already satisfied: anyio<5,>=3.4.0 in /opt/homebrew/lib/python3.10/site-packages (from starlette->solara->mesa==2.1.1) (3.6.2)\n",
      "Requirement already satisfied: h11>=0.8 in /opt/homebrew/lib/python3.10/site-packages (from uvicorn->solara->mesa==2.1.1) (0.14.0)\n"
     ]
    },
    {
     "name": "stdout",
     "output_type": "stream",
     "text": [
      "Requirement already satisfied: sniffio>=1.1 in /opt/homebrew/lib/python3.10/site-packages (from anyio<5,>=3.4.0->starlette->solara->mesa==2.1.1) (1.3.0)\n",
      "Requirement already satisfied: backcall in /opt/homebrew/lib/python3.10/site-packages (from ipython>=6.1.0->ipywidgets->solara->mesa==2.1.1) (0.2.0)\n",
      "Requirement already satisfied: decorator in /opt/homebrew/lib/python3.10/site-packages (from ipython>=6.1.0->ipywidgets->solara->mesa==2.1.1) (4.4.2)\n",
      "Requirement already satisfied: jedi>=0.16 in /opt/homebrew/lib/python3.10/site-packages (from ipython>=6.1.0->ipywidgets->solara->mesa==2.1.1) (0.18.1)\n",
      "Requirement already satisfied: pickleshare in /opt/homebrew/lib/python3.10/site-packages (from ipython>=6.1.0->ipywidgets->solara->mesa==2.1.1) (0.7.5)\n",
      "Requirement already satisfied: prompt-toolkit<3.1.0,>=3.0.11 in /opt/homebrew/lib/python3.10/site-packages (from ipython>=6.1.0->ipywidgets->solara->mesa==2.1.1) (3.0.31)\n",
      "Requirement already satisfied: stack-data in /opt/homebrew/lib/python3.10/site-packages (from ipython>=6.1.0->ipywidgets->solara->mesa==2.1.1) (0.5.0)\n",
      "Requirement already satisfied: pexpect>4.3 in /opt/homebrew/lib/python3.10/site-packages (from ipython>=6.1.0->ipywidgets->solara->mesa==2.1.1) (4.8.0)\n",
      "Requirement already satisfied: attrs>=17.4.0 in /opt/homebrew/lib/python3.10/site-packages (from jsonschema>=2.6->nbformat->solara->mesa==2.1.1) (22.1.0)\n",
      "Requirement already satisfied: pyrsistent!=0.17.0,!=0.17.1,!=0.17.2,>=0.14.0 in /opt/homebrew/lib/python3.10/site-packages (from jsonschema>=2.6->nbformat->solara->mesa==2.1.1) (0.19.2)\n",
      "Requirement already satisfied: platformdirs>=2.5 in /opt/homebrew/lib/python3.10/site-packages (from jupyter-core>=4.9.2->jupyter-client>=7.0.0->solara->mesa==2.1.1) (2.5.4)\n",
      "Requirement already satisfied: mdurl~=0.1 in /opt/homebrew/lib/python3.10/site-packages (from markdown-it-py>=2.2.0->rich->cookiecutter->mesa==2.1.1) (0.1.2)\n",
      "Requirement already satisfied: pyparsing!=3.0.5,>=2.0.2 in /opt/homebrew/lib/python3.10/site-packages (from packaging->ipykernel->solara->mesa==2.1.1) (3.0.9)\n",
      "Requirement already satisfied: parso<0.9.0,>=0.8.0 in /opt/homebrew/lib/python3.10/site-packages (from jedi>=0.16->ipython>=6.1.0->ipywidgets->solara->mesa==2.1.1) (0.8.3)\n",
      "Requirement already satisfied: ptyprocess>=0.5 in /opt/homebrew/lib/python3.10/site-packages (from pexpect>4.3->ipython>=6.1.0->ipywidgets->solara->mesa==2.1.1) (0.7.0)\n",
      "Requirement already satisfied: wcwidth in /opt/homebrew/lib/python3.10/site-packages (from prompt-toolkit<3.1.0,>=3.0.11->ipython>=6.1.0->ipywidgets->solara->mesa==2.1.1) (0.2.5)\n",
      "Requirement already satisfied: executing in /opt/homebrew/lib/python3.10/site-packages (from stack-data->ipython>=6.1.0->ipywidgets->solara->mesa==2.1.1) (1.0.0)\n",
      "Requirement already satisfied: asttokens in /opt/homebrew/lib/python3.10/site-packages (from stack-data->ipython>=6.1.0->ipywidgets->solara->mesa==2.1.1) (2.0.8)\n",
      "Requirement already satisfied: pure-eval in /opt/homebrew/lib/python3.10/site-packages (from stack-data->ipython>=6.1.0->ipywidgets->solara->mesa==2.1.1) (0.2.2)\n",
      "\n",
      "\u001b[1m[\u001b[0m\u001b[34;49mnotice\u001b[0m\u001b[1;39;49m]\u001b[0m\u001b[39;49m A new release of pip is available: \u001b[0m\u001b[31;49m23.3.2\u001b[0m\u001b[39;49m -> \u001b[0m\u001b[32;49m24.0\u001b[0m\n",
      "\u001b[1m[\u001b[0m\u001b[34;49mnotice\u001b[0m\u001b[1;39;49m]\u001b[0m\u001b[39;49m To update, run: \u001b[0m\u001b[32;49mpython3.10 -m pip install --upgrade pip\u001b[0m\n"
     ]
    }
   ],
   "source": [
    "! pip install mesa==2.1.1"
   ]
  },
  {
   "cell_type": "code",
   "execution_count": 2,
   "id": "be65dace",
   "metadata": {},
   "outputs": [],
   "source": [
    "import mesa\n",
    "\n",
    "# Data visualization tools.\n",
    "import seaborn as sns\n",
    "\n",
    "# Data manipulation and analysis.\n",
    "import pandas as pd"
   ]
  },
  {
   "cell_type": "markdown",
   "id": "9b666d13",
   "metadata": {},
   "source": [
    "### Now, we can begin creating our apple trading agent based model (ABM)\n",
    "\n",
    "### First, we extend the AppleTraderAgent object\n",
    "- Remember, this object inherits from the class `mesa.Agent`\n",
    "    - This inheritance is key and allows Mesa to use our object\n",
    "    \n",
    "- Each Step, \n",
    "    - If an agent has an apple\n",
    "    - Choose one agent at random and give them an apple\n",
    "    - Remember that the model step calls each agent step in random order\n",
    "\n",
    "- This is like all the agents are in a room, trading at random with each other\n"
   ]
  },
  {
   "cell_type": "code",
   "execution_count": 3,
   "id": "6d0f7d8c",
   "metadata": {},
   "outputs": [],
   "source": [
    "# Create ABM\n",
    "\n",
    "# 1. Define the Agent Abstraction\n",
    "class AppleTraderAgent(mesa.Agent):\n",
    "    \"\"\"An agent that trades apples and begins with 1 apple.\"\"\"\n",
    "\n",
    "    def __init__(self, unique_id, model):\n",
    "        # Pass the parameters to the parent class.\n",
    "        super().__init__(unique_id, model)\n",
    "\n",
    "        # Create the agent's number of apples and set initial value\n",
    "        self.NumberApples = 1\n",
    "\n",
    "    def step(self):\n",
    "        # Verify agent has some apples\n",
    "        if self.NumberApples > 0:\n",
    "            other_agent = self.random.choice(self.model.schedule.agents)\n",
    "            if other_agent is not None:\n",
    "                other_agent.NumberApples += 1\n",
    "                self.NumberApples -= 1\n",
    "                "
   ]
  },
  {
   "cell_type": "markdown",
   "id": "7f669263",
   "metadata": {},
   "source": [
    "### Next, we create our AppleTradingModel.  We leave this the same as before (for now).\n",
    "\n",
    "### This defines two more of our key abstractions:\n",
    "1. This defines the environment where the agents (apple traders) exist\n",
    "2. This also defines how to take a step (tick) forward in time\n",
    "    - The `step` function describes how to step forward in the runtime loop\n",
    "\n",
    "### Similar to the agent, the AppleTradingModel inherits from `mesa.Model`\n",
    "- This inhertiance is key and allows Mesa to use our model\n",
    "- The `__init__` function describes how to create the environment and agents, using inheritance"
   ]
  },
  {
   "cell_type": "code",
   "execution_count": 4,
   "id": "e7c10a98",
   "metadata": {},
   "outputs": [],
   "source": [
    "# 2. Define the Model (or environment) Abstraction for the Agents to live in\n",
    "class AppleTradingModel(mesa.Model):\n",
    "    \"\"\"A model with some number of apple trading agents.\"\"\"\n",
    "\n",
    "    def __init__(self, N):\n",
    "        self.num_agents = N\n",
    "        # Create scheduler and assign it to the model\n",
    "        self.schedule = mesa.time.RandomActivation(self)\n",
    "\n",
    "        # Create agents\n",
    "        for i in range(self.num_agents):\n",
    "            a = AppleTraderAgent(i, self)\n",
    "            # Add the agent to the scheduler\n",
    "            self.schedule.add(a)\n",
    "\n",
    "    # 3. Define each step or time tick: \n",
    "    #    Each step or tick will call the AppleTraderAgent.step() function once\n",
    "    def step(self):\n",
    "        \"\"\"Advance the model by one step.\"\"\"\n",
    "\n",
    "        # The model's step will call the step method of each agent\n",
    "        self.schedule.step()"
   ]
  },
  {
   "cell_type": "markdown",
   "id": "7b4c052a",
   "metadata": {},
   "source": [
    "### And now to run the model, the syntax is easy!\n",
    "1. We first create a new AppleTradingModel object called `model`\n",
    "2. Then, we take 100 steps with the model\n",
    "\n",
    "### Key Point: Running `AppleTradingModel.step()` once, in turn runs `AppleTraderAgent.step()` once for each agent\n",
    "\n",
    "### Key Point: Remember that the agents act in a random order\n",
    "  - Each `model.step()` every agents acts once, but in a random order\n",
    "    \n"
   ]
  },
  {
   "cell_type": "code",
   "execution_count": 8,
   "id": "12540723",
   "metadata": {},
   "outputs": [],
   "source": [
    "# Run model with 10 agents\n",
    "model = AppleTradingModel(15)\n",
    "for i in range(100):\n",
    "    model.step()\n"
   ]
  },
  {
   "cell_type": "markdown",
   "id": "156b7719",
   "metadata": {},
   "source": [
    "### Our last step is to visualize the output\n",
    "- We visualize how many apples each agent has\n",
    "- We add the `%matplotlib inline` command, which ensures that plots appear (and aren't hidden)"
   ]
  },
  {
   "cell_type": "markdown",
   "id": "215ec9e3",
   "metadata": {},
   "source": [
    "### Task: in the below code cell, create a list called `all_agents_NumberApples` that contains every agent's number of apples\n",
    "\n",
    "That is, \n",
    "  \n",
    "      all_agents_NumberApples[0] \n",
    "\n",
    "should contain the number of apples that agent 0 owns.  And in general\n",
    "\n",
    "      all_agents_NumberApples[k] \n",
    "\n",
    "should contain the number of apples that agent k owns. \n"
   ]
  },
  {
   "cell_type": "code",
   "execution_count": 9,
   "id": "3e79f632",
   "metadata": {},
   "outputs": [],
   "source": [
    "# insert code here for all_agents_NumberApples\n",
    "all_agents_NumberApples = []\n",
    "\n",
    "for agent in model.schedule.agents:\n",
    "    all_agents_NumberApples.append(agent.NumberApples)\n"
   ]
  },
  {
   "cell_type": "markdown",
   "id": "e9d019a6",
   "metadata": {},
   "source": [
    "### Lastly, we plot a histogram with Seaborn\n",
    "- Seaborn provides really sharp plots with little effort\n",
    "- Pandas also provides histograms, but Seaborn requires less effort\n",
    "\n",
    "### Study the plotting commands, ask questions"
   ]
  },
  {
   "cell_type": "code",
   "execution_count": 10,
   "id": "5e6fdafb",
   "metadata": {},
   "outputs": [
    {
     "data": {
      "image/png": "[encoded data removed]",
      "text/plain": [
       "<Figure size 640x480 with 1 Axes>"
      ]
     },
     "metadata": {},
     "output_type": "display_data"
    }
   ],
   "source": [
    "%matplotlib inline\n",
    "\n",
    "# Store our data in a Pandas dataframe\n",
    "df = pd.DataFrame({'all_agents_NumberApples': all_agents_NumberApples})\n",
    "\n",
    "# Create a histogram with seaborn\n",
    "ax = sns.histplot(df['all_agents_NumberApples'], discrete=True)\n",
    "ax.set(title=\"Apple distribution\", xlabel=\"Number of Apples\", ylabel=\"Number of agents\" )\n",
    "\n",
    "max_apples_owned = df['all_agents_NumberApples'].max() + 1\n",
    "ax.set_xticks(range(0,max_apples_owned), labels=range(0,max_apples_owned));"
   ]
  },
  {
   "cell_type": "markdown",
   "id": "1850c34a",
   "metadata": {},
   "source": [
    "### Tasks\n",
    "1. Change the title, label for the x-axis, and label for the y-axis\n",
    "    - Then try setting `discrete=False`\n",
    "    - Gain some familiarity with the plotting commands\n",
    "    \n",
    "    \n",
    "2. Run the above cell again\n",
    "\n",
    "        # Run model with 10 agents\n",
    "        model = AppleTradingModel(10)\n",
    "        for i in range(100):\n",
    "            model.step()\n",
    "            \n",
    "   followed by running the cell that computes \n",
    "   \n",
    "       all_agents_NumberApples\n",
    "       \n",
    "   and then running the plotting cell with Seaborn\n",
    "   \n",
    "   ==>  What happens?  How different are the results?\n",
    "   \n",
    "   \n",
    "3. The histogram should change (ask if it doesn't)\n",
    "\n",
    "\n",
    "4. Repeat for different numbers of agents (try 5 and 15).  \n",
    "\n",
    "    - Also experiment with different numbers of steps (say 200, 400, and 800 steps)."
   ]
  },
  {
   "cell_type": "markdown",
   "id": "613a9631",
   "metadata": {},
   "source": [
    "### Discussion\n",
    "\n",
    "Discuss what you found above.  Moving forward, your weekly homeworks will include significant writing.\n",
    "\n",
    "Focus your discussion on these experimental steps\n",
    "1. Evidence acquisition \n",
    "     - Describe the experiments you conducted. Give all the details, number of agents, steps, abstractions used, and so on. \n",
    "     - You are describing application of a quantitative model (the agent based model)\n",
    "\n",
    "2. Evidence evaluation \n",
    "    - Discuss your plots and any other results.  What did you find? \n",
    "    - You are communicating and representing quantitative information\n",
    "    \n",
    "3. Conclusion\n",
    "    - What can you conclude?  \n",
    "    - What is still unexplained? \n",
    "\n"
   ]
  },
  {
   "cell_type": "markdown",
   "id": "81e06eaf",
   "metadata": {},
   "source": [
    "Everyone's discussion will be different.  Some key points that I look for are as follows.\n",
    "\n",
    "1. Did you discuss how you acquired or gathered your evidence?  Did you discuss how you conducted your experiments? For instance, you could describe how you ran an experiment with 15 agents, over 100 steps, 5 different times.  The plots you generated were as follows (here you insert 5 plots).\n",
    "\n",
    "2. Did you discuss your plots and what they communicate?  For instance, how are the apples distributed?  How much variation is there between experiments?\n",
    "\n",
    "3. Did you reach any conclusions or ask any yet-unanswered questions?  For instance, you could conclude that a small number of traders typically end up with more apples than most, while a large number of traders end up with no apples. You could also comment on how unrealistic or realistic you find the model."
   ]
  },
  {
   "cell_type": "code",
   "execution_count": null,
   "id": "6a8178ce",
   "metadata": {},
   "outputs": [],
   "source": []
  }
 ],
 "metadata": {
  "celltoolbar": "Slideshow",
  "kernelspec": {
   "display_name": "Python 3 (ipykernel)",
   "language": "python",
   "name": "python3"
  },
  "language_info": {
   "codemirror_mode": {
    "name": "ipython",
    "version": 3
   },
   "file_extension": ".py",
   "mimetype": "text/x-python",
   "name": "python",
   "nbconvert_exporter": "python",
   "pygments_lexer": "ipython3",
   "version": "3.10.8"
  },
  "vp": {
   "vp_config_version": "1.0.0",
   "vp_menu_width": 273,
   "vp_note_display": false,
   "vp_note_width": 0,
   "vp_position": {
    "width": 278
   },
   "vp_section_display": false,
   "vp_signature": "VisualPython"
  }
 },
 "nbformat": 4,
 "nbformat_minor": 5
}
