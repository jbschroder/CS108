{
 "cells": [
  {
   "cell_type": "markdown",
   "id": "226dd554",
   "metadata": {
    "slideshow": {
     "slide_type": "slide"
    }
   },
   "source": [
    "### Abstraction in Simulation and Modeling, Plus Some Coding Review\n",
    "-----------\n",
    "\n",
    "This material is based on the previous version of CS108L, see https://cs4all.cs.unm.edu/cs108.html\n",
    "- Credit to Prof. Melanie Moses, Dr. Irene Lee, Dr. Maureen Psaila-Dombrowski, Prof. Dave Ackley and collaborators (see website)"
   ]
  },
  {
   "cell_type": "markdown",
   "id": "f4841daf",
   "metadata": {
    "slideshow": {
     "slide_type": "slide"
    }
   },
   "source": [
    "### Learning Goals\n",
    "- Understand abstraction as an approach to modeling\n",
    "   - Examine two examples where abstraction is required to construct a simple model\n",
    "- Review variables and scope\n",
    "   - Learn definition of scope\n",
    "   - Three parts to using variables: declare, initialize, get/set\n",
    "   - Examples where scope is important"
   ]
  },
  {
   "cell_type": "markdown",
   "id": "909ee8b7",
   "metadata": {
    "slideshow": {
     "slide_type": "slide"
    }
   },
   "source": [
    "### Abstraction\n",
    "- Abstraction is simplification\n",
    "- Why use abstraction?\n",
    "   - Real world problems are often too complicated to full represent every small detail\n",
    "   - So, we must simplify (abstract away) some details\n",
    "   - Goal is to focus on what's important\n",
    "       - Ignore what's not important"
   ]
  },
  {
   "cell_type": "markdown",
   "id": "49c28be8",
   "metadata": {
    "slideshow": {
     "slide_type": "slide"
    }
   },
   "source": [
    "### Assumptions\n",
    "- Abstraction involves assumptions\n",
    "    - These assumptions are what you take to be true\n",
    "    - Use them before, during, and after your model development\n",
    "- These assumptions guide your movement from a real world problem to a model\n",
    "    - Assumptions can be a simplification (e.g., only rabbits are important, or only rabbits and foxes)\n",
    "    - Or a specification (e.g., specify 6 rabbits a year are born)\n",
    "- All assumptions need to be carefully considered\n",
    "    - They affect the outcome of the model"
   ]
  },
  {
   "cell_type": "markdown",
   "id": "6aa4d3b7",
   "metadata": {
    "slideshow": {
     "slide_type": "slide"
    }
   },
   "source": [
    "### Applying Abstraction: Modeling a Rabbit's Ecosystem\n",
    "- Living aspects\n",
    "   - Rabbit attributes\n",
    "       - Birth and death rates\n",
    "       - Metabolism and food availability\n",
    "       - Infection and disease\n",
    "   - People may impact rabbits (hunting, pollution, cars, ...)\n",
    "   - Plants (seasonal growth of food)\n",
    "   - Other animals (including predators)\n",
    "- Nonliving aspects\n",
    "   - Water (how much, quality, pollution)\n",
    "   - Soil (rabbit holes, suitability for plants)\n",
    "   - Weather, Disasters, Pollution\n"
   ]
  },
  {
   "cell_type": "markdown",
   "id": "5dd2a28b",
   "metadata": {
    "slideshow": {
     "slide_type": "slide"
    }
   },
   "source": [
    "### Applying Abstraction: Modeling a Rabbit's Ecosystem\n",
    "- Living aspects\n",
    "   - Rabbit attributes\n",
    "       - Birth and death rates\n",
    "       - Metabolism and food availability\n",
    "       - ~~Infection and disease~\n",
    "   - ~~ People may impact rabbits (hunting, pollution, cars, ...) ~~\n",
    "   - Plants (seasonal growth of food)\n",
    "   - ~~Other animals (including predators)~~\n",
    "- ~~Nonliving aspects~~\n",
    "   - ~~Water (how much, quality, pollution)~~\n",
    "   - ~~Soil (rabbit holes, suitability for plants)~~\n",
    "   - ~~Weather, Disasters, Pollution~~\n",
    "\n",
    "### Abstract away these details "
   ]
  },
  {
   "cell_type": "markdown",
   "id": "e64dcc99",
   "metadata": {
    "slideshow": {
     "slide_type": "slide"
    }
   },
   "source": [
    "### Applying Abstraction: Modeling a Rabbit's Ecosystem\n",
    "- What would happen if the food could not regrow?\n",
    "    - The rabbits would all die\n",
    "    - The plant regrowth rate would lead to different stable population sizes"
   ]
  },
  {
   "cell_type": "markdown",
   "id": "7487f924",
   "metadata": {
    "slideshow": {
     "slide_type": "slide"
    }
   },
   "source": [
    "### Applying Abstraction: Apple Trading Model\n",
    "- Trader Attributes\n",
    "   - Each trader is a person\n",
    "   - Number of apples you start with\n",
    "   - Number of apples earned each turn\n",
    "   - Are apples consumed for food?\n",
    "  \n",
    "- Trading rules\n",
    "   - Do you always trade when you meet?\n",
    "   - Do you trade fairly, or sometimes cheat?\n",
    "   - Is dishonesty punished?\n",
    "\n",
    "- Model apple production\n",
    "    - Seasonal?\n",
    "    - Apple tree diseases?\n",
    "    - Natural disasters?\n",
    "    - Pollution?\n",
    "    - Soil?\n",
    "    - Water availability?\n",
    "\n",
    "- Are other resources than apples important?\n",
    "\n",
    "### And many more possible details.  Which to abstract away?"
   ]
  },
  {
   "cell_type": "markdown",
   "id": "90db3ce3",
   "metadata": {
    "slideshow": {
     "slide_type": "slide"
    }
   },
   "source": [
    "### Summary\n",
    "- Abstraction is required for modeling\n",
    "- Can vary the level of abstraction\n",
    "- Abstraction involves assumptions\n",
    "- But these assumptions can great affect the outcome of the model"
   ]
  },
  {
   "cell_type": "markdown",
   "id": "51c90eab",
   "metadata": {
    "slideshow": {
     "slide_type": "slide"
    }
   },
   "source": [
    "### Code Review: Variables and Scope\n",
    "\n",
    "Definition: Variable is a container that holds a value that can be used or changed\n",
    "- The values can be numbers, words, objects, really anything\n",
    "\n",
    "Three steps for using variables\n",
    "1. Declare: allocate space for the variable and give a name to the variable\n",
    "2. Initialize: set the initial value of the variable\n",
    "3. Get/set: use variable in a program\n",
    "    - Either use the stored value (get)\n",
    "    - Or, update the stored value (set)\n"
   ]
  },
  {
   "cell_type": "code",
   "execution_count": null,
   "id": "f8f6863a",
   "metadata": {
    "slideshow": {
     "slide_type": "slide"
    }
   },
   "outputs": [],
   "source": [
    "# 1. Declare and 2. Initialize\n",
    "x = 4\n",
    "\n",
    "# 3. Use the variable -- Get the value\n",
    "print(4*x, \"4 times x equals\")\n",
    "\n",
    "# 3. Use the variable -- Set the value\n",
    "x = 12"
   ]
  },
  {
   "cell_type": "markdown",
   "id": "eedba4ee",
   "metadata": {
    "slideshow": {
     "slide_type": "slide"
    }
   },
   "source": [
    "### Types of variables\n",
    "\n",
    "We will distinguish between two types of variables in Python\n",
    "- Local: variable only available inside the code block where it is declared\n",
    "    - Variable declared inside a function or object is LOCAL to only that function and object\n",
    "    - The local variable is available ONLY inside that function or object\n",
    "\n",
    "- Global: variable declared outside of any function or object, and is available anywhere\n",
    "    - Caveat: if you use the same variable name for a local and global variable, this can get confusing.\n",
    "\n",
    "In general do not use the same variable name for both a local variable and a global variable. See below example.\n",
    "\n",
    "### Scope refers to where a variable is valid"
   ]
  },
  {
   "cell_type": "markdown",
   "id": "283c61e3",
   "metadata": {
    "slideshow": {
     "slide_type": "slide"
    }
   },
   "source": [
    "### Explore Scope in the below examples\n",
    "1. Run each cell\n",
    "2. Identify the local and global variables in the text box below\n",
    "    - Some of the cells will only have local variables, and some only global, and some both\n",
    "3. Discuss why each value is printed to the screen.\n",
    "    - Some cells will produce an error, if so, discuss that \n",
    "\n",
    "### When running the below cells, they must be run in order.  If you need to restart, just go to `Runtime --> Restart Session` before running each cell"
   ]
  },
  {
   "cell_type": "code",
   "execution_count": null,
   "id": "c7895427",
   "metadata": {
    "slideshow": {
     "slide_type": "slide"
    }
   },
   "outputs": [],
   "source": [
    "def f():\n",
    "    y = 10\n",
    "    print(y)\n",
    "    \n",
    "f()\n",
    "print(\"Here\")"
   ]
  },
  {
   "cell_type": "markdown",
   "id": "ab8daf46",
   "metadata": {
    "slideshow": {
     "slide_type": "-"
    }
   },
   "source": [
    "Local Variables:\n",
    "\n",
    "\n",
    "Global Variables:\n",
    "\n",
    "\n",
    "Discuss Output:\n",
    "\n"
   ]
  },
  {
   "cell_type": "code",
   "execution_count": null,
   "id": "02d28112",
   "metadata": {
    "slideshow": {
     "slide_type": "slide"
    }
   },
   "outputs": [],
   "source": [
    "y = 30\n",
    "\n",
    "def f():\n",
    "    print(y, \"inside function\")\n",
    "    \n",
    "f()\n",
    "print(y, \"outside function\")"
   ]
  },
  {
   "cell_type": "markdown",
   "id": "441dbd4b",
   "metadata": {
    "slideshow": {
     "slide_type": "-"
    }
   },
   "source": [
    "Local Variables:\n",
    "\n",
    "\n",
    "Global Variables:\n",
    "\n",
    "\n",
    "Discuss Output:\n",
    "\n"
   ]
  },
  {
   "cell_type": "code",
   "execution_count": null,
   "id": "194ce80d",
   "metadata": {
    "slideshow": {
     "slide_type": "slide"
    }
   },
   "outputs": [],
   "source": [
    "y = 30\n",
    "\n",
    "def f():\n",
    "    y = 10\n",
    "    print(y, \"inside function\")\n",
    "    \n",
    "f()\n",
    "print(y, \"outside function\")"
   ]
  },
  {
   "cell_type": "markdown",
   "id": "5ce55531",
   "metadata": {
    "slideshow": {
     "slide_type": "-"
    }
   },
   "source": [
    "Local Variables:\n",
    "\n",
    "\n",
    "Global Variables:\n",
    "\n",
    "\n",
    "Discuss Output:\n",
    "\n"
   ]
  },
  {
   "cell_type": "code",
   "execution_count": null,
   "id": "1c86abf1",
   "metadata": {
    "slideshow": {
     "slide_type": "slide"
    }
   },
   "outputs": [],
   "source": [
    "y = 30\n",
    "\n",
    "def f():\n",
    "    print(y, \"inside function 1\")\n",
    "    y = 10\n",
    "    print(y, \"inside function 2\")\n",
    "    \n",
    "f()\n",
    "print(y, \"outside function\")"
   ]
  },
  {
   "cell_type": "markdown",
   "id": "22d114f7",
   "metadata": {
    "slideshow": {
     "slide_type": "-"
    }
   },
   "source": [
    "Why error?\n",
    "\n"
   ]
  },
  {
   "cell_type": "code",
   "execution_count": null,
   "id": "434b152d",
   "metadata": {
    "slideshow": {
     "slide_type": "slide"
    }
   },
   "outputs": [],
   "source": [
    "z = 30\n",
    "\n",
    "def f():\n",
    "    print(z, \"inside function 1\")\n",
    "    y = 10\n",
    "    print(y, \"inside function 2\")\n",
    "    \n",
    "f()\n",
    "print(y, \"outside function\")"
   ]
  },
  {
   "cell_type": "markdown",
   "id": "a6cc4563",
   "metadata": {
    "slideshow": {
     "slide_type": "-"
    }
   },
   "source": [
    "Local Variables:\n",
    "\n",
    "\n",
    "Global Variables:\n",
    "\n",
    "\n",
    "Discuss Output:\n",
    "\n"
   ]
  },
  {
   "cell_type": "markdown",
   "id": "0fcb1a0c",
   "metadata": {
    "slideshow": {
     "slide_type": "slide"
    }
   },
   "source": [
    "### We now explore scope and variable types in the context of objects"
   ]
  },
  {
   "cell_type": "code",
   "execution_count": null,
   "id": "686f58a9",
   "metadata": {
    "slideshow": {
     "slide_type": "slide"
    }
   },
   "outputs": [],
   "source": [
    "# Define object for generating pseudorandom numbers\n",
    "\n",
    "class pseudorandom_generator:\n",
    "        \n",
    "    # Declare member variables here.\n",
    "    current_random_number = 0\n",
    "    a = 8269\n",
    "    m = 2**31 - 1\n",
    "    \n",
    "    # Then, we define member functions\n",
    "    def __init__(self, seed):\n",
    "        self.current_random_number = seed\n",
    "    \n",
    "    def get_rand_num(self):\n",
    "        self.current_random_number = self.a*self.current_random_number % self.m\n",
    "        return self.current_random_number"
   ]
  },
  {
   "cell_type": "code",
   "execution_count": null,
   "id": "36d144ea",
   "metadata": {
    "slideshow": {
     "slide_type": "slide"
    }
   },
   "outputs": [],
   "source": [
    "generator = pseudorandom_generator(3)\n",
    "print(generator.get_rand_num())\n",
    "print(generator.get_rand_num())"
   ]
  },
  {
   "cell_type": "markdown",
   "id": "508e4fe5",
   "metadata": {
    "slideshow": {
     "slide_type": "-"
    }
   },
   "source": [
    "Remember that the object only has one variable `a`, one variable `current_random_number`, and one variable `m`.  These are all referenced with `self.` inside the object, except when they are declared.\n",
    "\n",
    "-------\n",
    "\n",
    "Local Variables:\n",
    "\n",
    "\n",
    "Global Variables:\n",
    "\n",
    "\n",
    "Discuss Output:\n",
    "\n",
    "------\n",
    "\n",
    "Are member variables always local?\n"
   ]
  },
  {
   "cell_type": "code",
   "execution_count": null,
   "id": "3acda315",
   "metadata": {
    "slideshow": {
     "slide_type": "slide"
    }
   },
   "outputs": [],
   "source": [
    "generator2 = pseudorandom_generator(3)\n",
    "print(current_random_number)"
   ]
  },
  {
   "cell_type": "markdown",
   "id": "644f9c31",
   "metadata": {
    "slideshow": {
     "slide_type": "-"
    }
   },
   "source": [
    "Why error?\n",
    "\n",
    "\n",
    "--------\n",
    "\n",
    "When running the error code cells, they must be run in order.  If you cannot produce an error, you need to restart. Just go to `Runtime --> Restart Session` before running each cell.\n"
   ]
  },
  {
   "cell_type": "code",
   "execution_count": null,
   "id": "2cbd3671",
   "metadata": {
    "slideshow": {
     "slide_type": "slide"
    }
   },
   "outputs": [],
   "source": [
    "generator2 = pseudorandom_generator(3)\n",
    "print(a)"
   ]
  },
  {
   "cell_type": "markdown",
   "id": "a943570a",
   "metadata": {
    "slideshow": {
     "slide_type": "-"
    }
   },
   "source": [
    "Why error\n",
    "\n"
   ]
  },
  {
   "cell_type": "code",
   "execution_count": null,
   "id": "c7d4c26b",
   "metadata": {
    "slideshow": {
     "slide_type": "slide"
    }
   },
   "outputs": [],
   "source": [
    "generator2 = pseudorandom_generator(3)\n",
    "print(generator.current_random_number)"
   ]
  },
  {
   "cell_type": "markdown",
   "id": "3bd1305f",
   "metadata": {
    "slideshow": {
     "slide_type": "-"
    }
   },
   "source": [
    "Local Variables:\n",
    "\n",
    "\n",
    "Global Variables:\n",
    "\n",
    "\n",
    "Discuss Output:\n"
   ]
  },
  {
   "cell_type": "code",
   "execution_count": null,
   "id": "23a8fc35",
   "metadata": {
    "slideshow": {
     "slide_type": "slide"
    }
   },
   "outputs": [],
   "source": [
    "generator2 = pseudorandom_generator(3)\n",
    "print(generator.m)"
   ]
  },
  {
   "cell_type": "markdown",
   "id": "70ff0bfb",
   "metadata": {
    "slideshow": {
     "slide_type": "-"
    }
   },
   "source": [
    "Local Variables:\n",
    "\n",
    "\n",
    "Global Variables:\n",
    "\n",
    "\n",
    "Discuss Output:\n"
   ]
  },
  {
   "cell_type": "code",
   "execution_count": null,
   "id": "bc3be04f",
   "metadata": {
    "slideshow": {
     "slide_type": "slide"
    }
   },
   "outputs": [],
   "source": [
    "current_random_number = -12\n",
    "generator2 = pseudorandom_generator(3)\n",
    "print(current_random_number)"
   ]
  },
  {
   "cell_type": "markdown",
   "id": "049470d4",
   "metadata": {
    "slideshow": {
     "slide_type": "-"
    }
   },
   "source": [
    "Local Variables:\n",
    "\n",
    "\n",
    "Global Variables:\n",
    "\n",
    "\n",
    "Discuss Output:\n"
   ]
  },
  {
   "cell_type": "code",
   "execution_count": null,
   "id": "18be9f37",
   "metadata": {
    "slideshow": {
     "slide_type": "slide"
    }
   },
   "outputs": [],
   "source": [
    "m = 3.14159\n",
    "generator2 = pseudorandom_generator(3)\n",
    "print(m)"
   ]
  },
  {
   "cell_type": "markdown",
   "id": "f4541aee",
   "metadata": {
    "slideshow": {
     "slide_type": "-"
    }
   },
   "source": [
    "Local Variables:\n",
    "\n",
    "\n",
    "Global Variables:\n",
    "\n",
    "\n",
    "Discuss Output:\n"
   ]
  },
  {
   "cell_type": "markdown",
   "id": "903fcaa8",
   "metadata": {
    "slideshow": {
     "slide_type": "slide"
    }
   },
   "source": [
    "### Summary: Variables\n",
    "\n",
    "Variables are used in three phases (1) Declare, (2) Initialize, (3) Get/Set\n",
    "\n",
    "We will distinguish between two types of variables in Python\n",
    "- Local: variable only available inside the code block where it is declared\n",
    "    - Variable declared inside a function or object is LOCAL to only that function and object\n",
    "    - The local variable is available ONLY inside that function or object\n",
    "\n",
    "- Global: variable declared outside of any function or object, and is available anywhere\n",
    "    - Caveat: if you use the same variable name for a local and global variable, this can get confusing.\n",
    "\n"
   ]
  },
  {
   "cell_type": "code",
   "execution_count": null,
   "id": "9d573a80",
   "metadata": {},
   "outputs": [],
   "source": [
    "\n"
   ]
  },
  {
   "cell_type": "markdown",
   "id": "c53c23cc",
   "metadata": {
    "slideshow": {
     "slide_type": "slide"
    }
   },
   "source": [
    "### Coding Tasks\n",
    "1. Update pseudorandom object to return values between -1 and 1\n",
    "\n",
    "2. Update pseudorandom object so that it stores a list of all the random numbers generated \n",
    "    - Create a new member function that can return this list\n",
    "    - The list will be a member variable "
   ]
  },
  {
   "cell_type": "code",
   "execution_count": null,
   "id": "1044a144",
   "metadata": {},
   "outputs": [],
   "source": []
  }
 ],
 "metadata": {
  "celltoolbar": "Slideshow",
  "kernelspec": {
   "display_name": "Python 3 (ipykernel)",
   "language": "python",
   "name": "python3"
  },
  "language_info": {
   "codemirror_mode": {
    "name": "ipython",
    "version": 3
   },
   "file_extension": ".py",
   "mimetype": "text/x-python",
   "name": "python",
   "nbconvert_exporter": "python",
   "pygments_lexer": "ipython3",
   "version": "3.10.8"
  },
  "vp": {
   "vp_config_version": "1.0.0",
   "vp_menu_width": 273,
   "vp_note_display": false,
   "vp_note_width": 0,
   "vp_position": {
    "width": 278
   },
   "vp_section_display": false,
   "vp_signature": "VisualPython"
  }
 },
 "nbformat": 4,
 "nbformat_minor": 5
}
