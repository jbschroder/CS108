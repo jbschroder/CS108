{
 "cells": [
  {
   "cell_type": "markdown",
   "id": "a21e3ac1",
   "metadata": {
    "slideshow": {
     "slide_type": "slide"
    }
   },
   "source": [
    "## Agent Based Modeling (ABM)\n",
    "- Tool for studying complex adaptive systems\n",
    "- Example: termites model\n",
    "    - The model consists of agents, an environment, and interactions between agents and environment\n",
    "    - The system is adaptive and changes over tiem\n",
    "    - ABM generates emergent patterns\n",
    "<img src=\"https://raw.githubusercontent.com/jbschroder/CS108/main/lecture_images/termites_netlogo.png\" width=\"250\">\n",
    "\n",
    "-----------\n",
    "\n",
    "This material is based on the previous version of CS108L, see https://cs4all.cs.unm.edu/cs108.html\n",
    "- Credit to Prof. Melanie Moses, Dr. Irene Lee, Dr. Maureen Psaila-Dombrowski, Prof. Dave Ackley and collaborators (see website)"
   ]
  },
  {
   "cell_type": "markdown",
   "id": "03ce1a4a",
   "metadata": {
    "slideshow": {
     "slide_type": "slide"
    }
   },
   "source": [
    "### Agent based modeling (ABM) modeling phases\n",
    "- Setup: instantion (creation) of world\n",
    "    - Describe the world you will be modeling and the rules that describe it\n",
    "- Runtime loop: the agents put into motion.  Each iteration: \n",
    "    - Each agent changes it's state (say, gets more apples, or a tree catches on fire)\n",
    "    - Any needed changes to world also occur, like a resource is consumed or added to    \n",
    "- Exit\n",
    "\n",
    "### Visualize ABM like this\n",
    "<img src=\"https://raw.githubusercontent.com/jbschroder/CS108/main/lecture_images/agent_based_modeling.png\" width=\"250\">"
   ]
  },
  {
   "cell_type": "markdown",
   "id": "68a97293",
   "metadata": {
    "slideshow": {
     "slide_type": "slide"
    }
   },
   "source": [
    "### ABM Runtime Loop\n",
    "- Each loop iteration is one tick, step\n",
    "- You can think of each loop iteration as one unit of time, like an hour or a minute\n",
    "- For apple trading, each runtime loop iteration gives each agent enough time to trade apples, if someone else is nearby\n",
    "- For forest fires, each runtime loop iteration is a unit of time, during which the model computes if any new trees have caught on fire\n",
    "\n",
    "### Our ABM enviroment will refer to each iteration as a step\n",
    "\n",
    "<img src=\"https://raw.githubusercontent.com/jbschroder/CS108/main/lecture_images/agent_based_modeling.png\" width=\"250\">"
   ]
  },
  {
   "cell_type": "markdown",
   "id": "369a8dbf",
   "metadata": {
    "slideshow": {
     "slide_type": "slide"
    }
   },
   "source": [
    "### There are three main abstractions\n",
    "1. Agents with rules\n",
    "2. There is an environment or model within which the agents live\n",
    "    - This would be a grid for apple trading, where traders walk around\n",
    "    - This would be a forest grid for the forest fire model\n",
    "3. Time: time is dictated (controlled) by a the runtime loop.\n",
    "    - Each loop iteration is one tick or one step of abstracted time\n",
    "    - You could think of a step as lasting one second, one hour, one day, ..., whatever makes sense for your simulation\n",
    "\n",
    "<img src=\"https://raw.githubusercontent.com/jbschroder/CS108/main/lecture_images/agent_based_modeling.png\" width=\"250\">"
   ]
  },
  {
   "cell_type": "markdown",
   "id": "5665bc32",
   "metadata": {
    "slideshow": {
     "slide_type": "slide"
    }
   },
   "source": [
    "### Summary: Modeling with ABM\n",
    "- A model is a representation of the interaction of real-world objects in a complex system\n",
    "- The goal is to gain an understanding of how the model's results relate to real-world phenomena\n",
    "- Random factors built into the model and variables changed by the user (you) cause different results to be generated each time a model is run\n",
    "    - When you run a model many times, each time you get a different outcome\n",
    "    - You learn the statistics of the model, like 20% of the time we get outcome A, and the rest of the time we get outcome B\n",
    "\n",
    "We are constructing a model, not a replica"
   ]
  },
  {
   "cell_type": "markdown",
   "id": "14c05e81",
   "metadata": {
    "slideshow": {
     "slide_type": "slide"
    }
   },
   "source": [
    "### Model Classification Scheme\n",
    "1. Idea models, most abstract: example model only a predator and a prey\n",
    "\n",
    "2. Minimal systems models: model a specific predator (say wolf) and specific prey (say caribou)\n",
    "\n",
    "3. Detailed systems models: model every wolf and every caribou within Yellowstone park\n",
    "\n",
    "Every step in more detail, allows you to learn more about a particular question, but loses you generality."
   ]
  },
  {
   "cell_type": "markdown",
   "id": "08b1d48a",
   "metadata": {
    "slideshow": {
     "slide_type": "slide"
    }
   },
   "source": [
    "### Learning Goals: Learn about modeling, step-by-step\n",
    "1. Learn how to use ABM\n",
    "    - Learning about models and modeling\n",
    "    - Conduct experiments by changing values and variables (like how many apples agents start with, or how combustible a tree is)\n",
    "    - Collect and analyze results\n",
    "\n",
    "2. Learn how to modify ABM\n",
    "    - Deconstruct models into agents, behaviors, environment, and interactions\n",
    "    - Deepen coding skills as you modify the agents, behaviors, environment, and interactions\n",
    "    \n",
    "3. Learn how to create ABM\n",
    "    - How create abstract representation of real-world problem that is suitable for ABM\n",
    "    - Implement and evaluate new model"
   ]
  },
  {
   "cell_type": "markdown",
   "id": "2725e563",
   "metadata": {
    "slideshow": {
     "slide_type": "slide"
    }
   },
   "source": [
    "### For agent based modeling (ABM), we will be using Mesa\n",
    "\n",
    "https://github.com/projectmesa/mesa\n",
    "\n",
    "### First, you have to make sure that Mesa is installed\n",
    "- Run the below cell"
   ]
  },
  {
   "cell_type": "code",
   "execution_count": 3,
   "id": "35cae13f",
   "metadata": {
    "slideshow": {
     "slide_type": "fragment"
    }
   },
   "outputs": [
    {
     "name": "stdout",
     "output_type": "stream",
     "text": [
      "Requirement already satisfied: mesa in /opt/homebrew/lib/python3.10/site-packages (2.1.1)\n",
      "Requirement already satisfied: click in /opt/homebrew/lib/python3.10/site-packages (from mesa) (8.1.7)\n",
      "Requirement already satisfied: cookiecutter in /opt/homebrew/lib/python3.10/site-packages (from mesa) (2.3.0)\n",
      "Requirement already satisfied: networkx in /opt/homebrew/lib/python3.10/site-packages (from mesa) (3.1)\n",
      "Requirement already satisfied: numpy in /opt/homebrew/lib/python3.10/site-packages (from mesa) (1.23.4)\n",
      "Requirement already satisfied: pandas in /opt/homebrew/lib/python3.10/site-packages (from mesa) (2.0.3)\n",
      "Requirement already satisfied: solara in /opt/homebrew/lib/python3.10/site-packages (from mesa) (1.19.0)\n",
      "Requirement already satisfied: tornado in /opt/homebrew/lib/python3.10/site-packages (from mesa) (6.2)\n",
      "Requirement already satisfied: tqdm in /opt/homebrew/lib/python3.10/site-packages (from mesa) (4.64.1)\n",
      "Requirement already satisfied: binaryornot>=0.4.4 in /opt/homebrew/lib/python3.10/site-packages (from cookiecutter->mesa) (0.4.4)\n",
      "Requirement already satisfied: Jinja2<4.0.0,>=2.7 in /opt/homebrew/lib/python3.10/site-packages (from cookiecutter->mesa) (3.1.2)\n",
      "Requirement already satisfied: pyyaml>=5.3.1 in /opt/homebrew/lib/python3.10/site-packages (from cookiecutter->mesa) (6.0)\n",
      "Requirement already satisfied: python-slugify>=4.0.0 in /opt/homebrew/lib/python3.10/site-packages (from cookiecutter->mesa) (8.0.1)\n",
      "Requirement already satisfied: requests>=2.23.0 in /opt/homebrew/lib/python3.10/site-packages (from cookiecutter->mesa) (2.28.1)\n",
      "Requirement already satisfied: arrow in /opt/homebrew/lib/python3.10/site-packages (from cookiecutter->mesa) (1.2.3)\n",
      "Requirement already satisfied: rich in /opt/homebrew/lib/python3.10/site-packages (from cookiecutter->mesa) (13.5.2)\n",
      "Requirement already satisfied: python-dateutil>=2.8.2 in /opt/homebrew/lib/python3.10/site-packages (from pandas->mesa) (2.8.2)\n",
      "Requirement already satisfied: pytz>=2020.1 in /opt/homebrew/lib/python3.10/site-packages (from pandas->mesa) (2023.3)\n",
      "Requirement already satisfied: tzdata>=2022.1 in /opt/homebrew/lib/python3.10/site-packages (from pandas->mesa) (2023.3)\n",
      "Requirement already satisfied: cachetools in /opt/homebrew/lib/python3.10/site-packages (from solara->mesa) (5.3.1)\n",
      "Requirement already satisfied: filelock in /opt/homebrew/lib/python3.10/site-packages (from solara->mesa) (3.8.2)\n",
      "Requirement already satisfied: humanize in /opt/homebrew/lib/python3.10/site-packages (from solara->mesa) (4.8.0)\n",
      "Requirement already satisfied: ipykernel in /opt/homebrew/lib/python3.10/site-packages (from solara->mesa) (6.19.0)\n",
      "Requirement already satisfied: ipyvue>=1.9.0 in /opt/homebrew/lib/python3.10/site-packages (from solara->mesa) (1.9.2)\n",
      "Requirement already satisfied: ipyvuetify>=1.8.10 in /opt/homebrew/lib/python3.10/site-packages (from solara->mesa) (1.8.10)\n",
      "Requirement already satisfied: ipywidgets in /opt/homebrew/lib/python3.10/site-packages (from solara->mesa) (8.0.3)\n",
      "Requirement already satisfied: jupyter-client>=7.0.0 in /opt/homebrew/lib/python3.10/site-packages (from solara->mesa) (7.4.8)\n",
      "Requirement already satisfied: markdown in /opt/homebrew/lib/python3.10/site-packages (from solara->mesa) (3.4.4)\n",
      "Requirement already satisfied: markupsafe in /opt/homebrew/lib/python3.10/site-packages (from solara->mesa) (2.1.1)\n",
      "Requirement already satisfied: nbformat in /opt/homebrew/lib/python3.10/site-packages (from solara->mesa) (5.7.0)\n",
      "Requirement already satisfied: pymdown-extensions in /opt/homebrew/lib/python3.10/site-packages (from solara->mesa) (10.1)\n",
      "Requirement already satisfied: reacton>=1.7.1 in /opt/homebrew/lib/python3.10/site-packages (from solara->mesa) (1.7.1)\n",
      "Requirement already satisfied: rich-click in /opt/homebrew/lib/python3.10/site-packages (from solara->mesa) (1.6.1)\n",
      "Requirement already satisfied: starlette in /opt/homebrew/lib/python3.10/site-packages (from solara->mesa) (0.31.0)\n",
      "Requirement already satisfied: uvicorn in /opt/homebrew/lib/python3.10/site-packages (from solara->mesa) (0.23.2)\n",
      "Requirement already satisfied: watchdog in /opt/homebrew/lib/python3.10/site-packages (from solara->mesa) (3.0.0)\n",
      "Requirement already satisfied: websockets in /opt/homebrew/lib/python3.10/site-packages (from solara->mesa) (11.0.3)\n",
      "Requirement already satisfied: chardet>=3.0.2 in /opt/homebrew/lib/python3.10/site-packages (from binaryornot>=0.4.4->cookiecutter->mesa) (5.2.0)\n",
      "Requirement already satisfied: ipython>=6.1.0 in /opt/homebrew/lib/python3.10/site-packages (from ipywidgets->solara->mesa) (8.7.0)\n",
      "Requirement already satisfied: traitlets>=4.3.1 in /opt/homebrew/lib/python3.10/site-packages (from ipywidgets->solara->mesa) (5.7.0)\n",
      "Requirement already satisfied: widgetsnbextension~=4.0 in /opt/homebrew/lib/python3.10/site-packages (from ipywidgets->solara->mesa) (4.0.4)\n",
      "Requirement already satisfied: jupyterlab-widgets~=3.0 in /opt/homebrew/lib/python3.10/site-packages (from ipywidgets->solara->mesa) (3.0.4)\n",
      "Requirement already satisfied: appnope in /opt/homebrew/lib/python3.10/site-packages (from ipykernel->solara->mesa) (0.1.3)\n",
      "Requirement already satisfied: comm>=0.1.1 in /opt/homebrew/lib/python3.10/site-packages (from ipykernel->solara->mesa) (0.1.1)\n",
      "Requirement already satisfied: debugpy>=1.0 in /opt/homebrew/lib/python3.10/site-packages (from ipykernel->solara->mesa) (1.6.4)\n",
      "Requirement already satisfied: matplotlib-inline>=0.1 in /opt/homebrew/lib/python3.10/site-packages (from ipykernel->solara->mesa) (0.1.6)\n",
      "Requirement already satisfied: nest-asyncio in /opt/homebrew/lib/python3.10/site-packages (from ipykernel->solara->mesa) (1.5.6)\n",
      "Requirement already satisfied: packaging in /opt/homebrew/lib/python3.10/site-packages (from ipykernel->solara->mesa) (21.3)\n",
      "Requirement already satisfied: psutil in /opt/homebrew/lib/python3.10/site-packages (from ipykernel->solara->mesa) (5.9.4)\n",
      "Requirement already satisfied: pyzmq>=17 in /opt/homebrew/lib/python3.10/site-packages (from ipykernel->solara->mesa) (24.0.1)\n",
      "Requirement already satisfied: entrypoints in /opt/homebrew/lib/python3.10/site-packages (from jupyter-client>=7.0.0->solara->mesa) (0.4)\n",
      "Requirement already satisfied: jupyter-core>=4.9.2 in /opt/homebrew/lib/python3.10/site-packages (from jupyter-client>=7.0.0->solara->mesa) (5.1.0)\n",
      "Requirement already satisfied: six>=1.5 in /opt/homebrew/lib/python3.10/site-packages (from python-dateutil>=2.8.2->pandas->mesa) (1.16.0)\n",
      "Requirement already satisfied: text-unidecode>=1.3 in /opt/homebrew/lib/python3.10/site-packages (from python-slugify>=4.0.0->cookiecutter->mesa) (1.3)\n",
      "Requirement already satisfied: typing-extensions>=4.1.1 in /opt/homebrew/lib/python3.10/site-packages (from reacton>=1.7.1->solara->mesa) (4.3.0)\n",
      "Requirement already satisfied: charset-normalizer<3,>=2 in /opt/homebrew/lib/python3.10/site-packages (from requests>=2.23.0->cookiecutter->mesa) (2.1.1)\n",
      "Requirement already satisfied: idna<4,>=2.5 in /opt/homebrew/lib/python3.10/site-packages (from requests>=2.23.0->cookiecutter->mesa) (3.4)\n",
      "Requirement already satisfied: urllib3<1.27,>=1.21.1 in /opt/homebrew/lib/python3.10/site-packages (from requests>=2.23.0->cookiecutter->mesa) (1.26.12)\n",
      "Requirement already satisfied: certifi>=2017.4.17 in /opt/homebrew/lib/python3.10/site-packages (from requests>=2.23.0->cookiecutter->mesa) (2022.9.14)\n",
      "Requirement already satisfied: fastjsonschema in /opt/homebrew/lib/python3.10/site-packages (from nbformat->solara->mesa) (2.16.2)\n",
      "Requirement already satisfied: jsonschema>=2.6 in /opt/homebrew/lib/python3.10/site-packages (from nbformat->solara->mesa) (4.17.3)\n",
      "Requirement already satisfied: markdown-it-py>=2.2.0 in /opt/homebrew/lib/python3.10/site-packages (from rich->cookiecutter->mesa) (3.0.0)\n",
      "Requirement already satisfied: pygments<3.0.0,>=2.13.0 in /opt/homebrew/lib/python3.10/site-packages (from rich->cookiecutter->mesa) (2.13.0)\n",
      "Requirement already satisfied: anyio<5,>=3.4.0 in /opt/homebrew/lib/python3.10/site-packages (from starlette->solara->mesa) (3.6.2)\n",
      "Requirement already satisfied: h11>=0.8 in /opt/homebrew/lib/python3.10/site-packages (from uvicorn->solara->mesa) (0.14.0)\n",
      "Requirement already satisfied: sniffio>=1.1 in /opt/homebrew/lib/python3.10/site-packages (from anyio<5,>=3.4.0->starlette->solara->mesa) (1.3.0)\n",
      "Requirement already satisfied: backcall in /opt/homebrew/lib/python3.10/site-packages (from ipython>=6.1.0->ipywidgets->solara->mesa) (0.2.0)\n"
     ]
    },
    {
     "name": "stdout",
     "output_type": "stream",
     "text": [
      "Requirement already satisfied: decorator in /opt/homebrew/lib/python3.10/site-packages (from ipython>=6.1.0->ipywidgets->solara->mesa) (4.4.2)\n",
      "Requirement already satisfied: jedi>=0.16 in /opt/homebrew/lib/python3.10/site-packages (from ipython>=6.1.0->ipywidgets->solara->mesa) (0.18.1)\n",
      "Requirement already satisfied: pickleshare in /opt/homebrew/lib/python3.10/site-packages (from ipython>=6.1.0->ipywidgets->solara->mesa) (0.7.5)\n",
      "Requirement already satisfied: prompt-toolkit<3.1.0,>=3.0.11 in /opt/homebrew/lib/python3.10/site-packages (from ipython>=6.1.0->ipywidgets->solara->mesa) (3.0.31)\n",
      "Requirement already satisfied: stack-data in /opt/homebrew/lib/python3.10/site-packages (from ipython>=6.1.0->ipywidgets->solara->mesa) (0.5.0)\n",
      "Requirement already satisfied: pexpect>4.3 in /opt/homebrew/lib/python3.10/site-packages (from ipython>=6.1.0->ipywidgets->solara->mesa) (4.8.0)\n",
      "Requirement already satisfied: attrs>=17.4.0 in /opt/homebrew/lib/python3.10/site-packages (from jsonschema>=2.6->nbformat->solara->mesa) (22.1.0)\n",
      "Requirement already satisfied: pyrsistent!=0.17.0,!=0.17.1,!=0.17.2,>=0.14.0 in /opt/homebrew/lib/python3.10/site-packages (from jsonschema>=2.6->nbformat->solara->mesa) (0.19.2)\n",
      "Requirement already satisfied: platformdirs>=2.5 in /opt/homebrew/lib/python3.10/site-packages (from jupyter-core>=4.9.2->jupyter-client>=7.0.0->solara->mesa) (2.5.4)\n",
      "Requirement already satisfied: mdurl~=0.1 in /opt/homebrew/lib/python3.10/site-packages (from markdown-it-py>=2.2.0->rich->cookiecutter->mesa) (0.1.2)\n",
      "Requirement already satisfied: pyparsing!=3.0.5,>=2.0.2 in /opt/homebrew/lib/python3.10/site-packages (from packaging->ipykernel->solara->mesa) (3.0.9)\n",
      "Requirement already satisfied: parso<0.9.0,>=0.8.0 in /opt/homebrew/lib/python3.10/site-packages (from jedi>=0.16->ipython>=6.1.0->ipywidgets->solara->mesa) (0.8.3)\n",
      "Requirement already satisfied: ptyprocess>=0.5 in /opt/homebrew/lib/python3.10/site-packages (from pexpect>4.3->ipython>=6.1.0->ipywidgets->solara->mesa) (0.7.0)\n",
      "Requirement already satisfied: wcwidth in /opt/homebrew/lib/python3.10/site-packages (from prompt-toolkit<3.1.0,>=3.0.11->ipython>=6.1.0->ipywidgets->solara->mesa) (0.2.5)\n",
      "Requirement already satisfied: executing in /opt/homebrew/lib/python3.10/site-packages (from stack-data->ipython>=6.1.0->ipywidgets->solara->mesa) (1.0.0)\n",
      "Requirement already satisfied: asttokens in /opt/homebrew/lib/python3.10/site-packages (from stack-data->ipython>=6.1.0->ipywidgets->solara->mesa) (2.0.8)\n",
      "Requirement already satisfied: pure-eval in /opt/homebrew/lib/python3.10/site-packages (from stack-data->ipython>=6.1.0->ipywidgets->solara->mesa) (0.2.2)\n",
      "\n",
      "\u001b[1m[\u001b[0m\u001b[34;49mnotice\u001b[0m\u001b[1;39;49m]\u001b[0m\u001b[39;49m A new release of pip is available: \u001b[0m\u001b[31;49m23.3.2\u001b[0m\u001b[39;49m -> \u001b[0m\u001b[32;49m24.0\u001b[0m\n",
      "\u001b[1m[\u001b[0m\u001b[34;49mnotice\u001b[0m\u001b[1;39;49m]\u001b[0m\u001b[39;49m To update, run: \u001b[0m\u001b[32;49mpython3.10 -m pip install --upgrade pip\u001b[0m\n"
     ]
    }
   ],
   "source": [
    "! pip install mesa"
   ]
  },
  {
   "cell_type": "markdown",
   "id": "e7216a2e",
   "metadata": {
    "slideshow": {
     "slide_type": "slide"
    }
   },
   "source": [
    "### Next, we import our modeling tools\n",
    "- Run the below cell"
   ]
  },
  {
   "cell_type": "code",
   "execution_count": 4,
   "id": "17ae449e",
   "metadata": {
    "slideshow": {
     "slide_type": "-"
    }
   },
   "outputs": [],
   "source": [
    "import mesa\n",
    "\n",
    "# Data visualization tools.\n",
    "import seaborn as sns\n",
    "\n",
    "# Data manipulation and analysis.\n",
    "import pandas as pd"
   ]
  },
  {
   "cell_type": "markdown",
   "id": "15df14cc",
   "metadata": {
    "slideshow": {
     "slide_type": "slide"
    }
   },
   "source": [
    "### Now, we can begin creating our apple trading agent based model (ABM)\n",
    "\n",
    "### First, we create the Agent object, called AppleTraderAgent\n",
    "- Notice how this object inherits from the class `mesa.Agent`\n",
    "- This inheritance allows Mesa to use our object\n",
    "    - For instance, the function call `super.__init__(unique_id, model)` instantiates (creates) all the stuff related to the parent class `mesa.Agent`\n",
    "\n",
    "    - This inheritance is a key point\n",
    "\n",
    "### See the course video for today for details on this object"
   ]
  },
  {
   "cell_type": "code",
   "execution_count": 13,
   "id": "fb371cb1",
   "metadata": {
    "slideshow": {
     "slide_type": "slide"
    }
   },
   "outputs": [],
   "source": [
    "# Create ABM\n",
    "\n",
    "# Create your list here (regarding the last HW task)\n",
    "\n",
    "\n",
    "# 1. Define the Agent Abstraction\n",
    "class AppleTraderAgent(mesa.Agent):\n",
    "    \"\"\"An agent that trades apples and begins with 1 apple.\"\"\"\n",
    "\n",
    "    def __init__(self, unique_id, model):\n",
    "        # Pass the parameters to the parent class.\n",
    "        super().__init__(unique_id, model)\n",
    "\n",
    "        # Create the agent's number of apples and set initial value\n",
    "        self.NumberApples = 1\n",
    "\n",
    "    def step(self):\n",
    "        # The agent's step will go here.\n",
    "        # For demonstration purposes we will print the agent's unique_id\n",
    "        print(\"Hi, I am an apple trading agent, you can call me \" + str(self.unique_id))"
   ]
  },
  {
   "cell_type": "markdown",
   "id": "d3d8e05f",
   "metadata": {
    "slideshow": {
     "slide_type": "slide"
    }
   },
   "source": [
    "### Next, we create our AppleTradingModel.  This defines two more of our key abstractions:\n",
    "1. This defines the environment where the agents (apple traders) exist\n",
    "2. This also defines how to take a step (tick) forward in time\n",
    "\n",
    "### Similar to the agent, the AppleTradingModel inherits from `mesa.Model`\n",
    "- This inhertiance is key and allows Mesa to use our model\n",
    "\n",
    "### See the course video for today for details on this object\n",
    "- The `__init__` function describes how to create the environment and agents\n",
    "- The `step` function describes how to step forward in the runtime loop"
   ]
  },
  {
   "cell_type": "code",
   "execution_count": 14,
   "id": "511b5d9d",
   "metadata": {
    "slideshow": {
     "slide_type": "slide"
    }
   },
   "outputs": [],
   "source": [
    "# 2. Define the Model (or environment) Abstraction for the Agents to live in\n",
    "class AppleTradingModel(mesa.Model):\n",
    "    \"\"\"A model with some number of apple trading agents.\"\"\"\n",
    "\n",
    "    def __init__(self, N):\n",
    "        self.num_agents = N\n",
    "        # Create scheduler and assign it to the model\n",
    "        self.schedule = mesa.time.RandomActivation(self)\n",
    "\n",
    "        # Create agents\n",
    "        for i in range(self.num_agents):\n",
    "            a = AppleTraderAgent(i, self)\n",
    "            # Add the agent to the scheduler\n",
    "            self.schedule.add(a)\n",
    "\n",
    "    # 3. Define each step or time tick: \n",
    "    #    Each step or tick will call the AppleTraderAgent.step() function once\n",
    "    def step(self):\n",
    "        \"\"\"Advance the model by one step.\"\"\"\n",
    "\n",
    "        # The model's step will go here for now this will call the step method of each agent and print the agent's unique_id\n",
    "        self.schedule.step()"
   ]
  },
  {
   "cell_type": "markdown",
   "id": "babfdc0b",
   "metadata": {
    "slideshow": {
     "slide_type": "slide"
    }
   },
   "source": [
    "### And now to run the model, the syntax is easy!\n",
    "1. We first create a new AppleTradingModel object called `starter_model`\n",
    "2. Then, we take one single step in the Runtime loop\n",
    "    - This allows each Agent to run AppleTraderAgent.step() one single time\n",
    "    \n",
    "### Key Point: Running AppleTradingModel.step() once, in turn runs AppleTraderAgent.step() once for each agent\n",
    "\n",
    "### Task: Run the below cell a few times.  Note how the agents are executed in a random order each time."
   ]
  },
  {
   "cell_type": "code",
   "execution_count": 15,
   "id": "405c6357",
   "metadata": {
    "slideshow": {
     "slide_type": "-"
    }
   },
   "outputs": [
    {
     "name": "stdout",
     "output_type": "stream",
     "text": [
      "Hi, I am an apple trading agent, you can call me 1\n",
      "Hi, I am an apple trading agent, you can call me 8\n",
      "Hi, I am an apple trading agent, you can call me 9\n",
      "Hi, I am an apple trading agent, you can call me 3\n",
      "Hi, I am an apple trading agent, you can call me 0\n",
      "Hi, I am an apple trading agent, you can call me 4\n",
      "Hi, I am an apple trading agent, you can call me 2\n",
      "Hi, I am an apple trading agent, you can call me 6\n",
      "Hi, I am an apple trading agent, you can call me 5\n",
      "Hi, I am an apple trading agent, you can call me 7\n"
     ]
    }
   ],
   "source": [
    "# Create AppleTradingModel object called starter_model\n",
    "starter_model = AppleTradingModel(10)\n",
    "\n",
    "# Take one single step in the Runtime loop\n",
    "starter_model.step()"
   ]
  },
  {
   "cell_type": "markdown",
   "id": "2b492719",
   "metadata": {
    "slideshow": {
     "slide_type": "slide"
    }
   },
   "source": [
    "### We can run one step again and note how the order of the agents changes again\n",
    "\n",
    "The code `self.schedule.step()` in the model activates (runs) each Agent in a random order for each Runtime loop step.\n",
    "\n",
    "This is because we earlier chose `self.schedule = mesa.time.RandomActivation(self)`"
   ]
  },
  {
   "cell_type": "code",
   "execution_count": 12,
   "id": "84b4a335",
   "metadata": {
    "slideshow": {
     "slide_type": "-"
    }
   },
   "outputs": [
    {
     "name": "stdout",
     "output_type": "stream",
     "text": [
      "Hi, I am an apple trading agent, you can call me 3.\n",
      "Hi, I am an apple trading agent, you can call me 6.\n",
      "Hi, I am an apple trading agent, you can call me 4.\n",
      "Hi, I am an apple trading agent, you can call me 1.\n",
      "Hi, I am an apple trading agent, you can call me 2.\n",
      "Hi, I am an apple trading agent, you can call me 9.\n",
      "Hi, I am an apple trading agent, you can call me 5.\n",
      "Hi, I am an apple trading agent, you can call me 0.\n",
      "Hi, I am an apple trading agent, you can call me 8.\n",
      "Hi, I am an apple trading agent, you can call me 7.\n"
     ]
    }
   ],
   "source": [
    "# Note how the order changes each time\n",
    "starter_model.step()"
   ]
  },
  {
   "cell_type": "markdown",
   "id": "2a2e03ec",
   "metadata": {
    "slideshow": {
     "slide_type": "slide"
    }
   },
   "source": [
    "### Task: modify the code to have every agent print out it's number of apples when taking a step.  You want your ABM to produce output like this\n",
    "\n",
    "        Hi, I am an apple trading agent, you can call me 6 and I have 1 apple.\n",
    "        Hi, I am an apple trading agent, you can call me 0 and I have 1 apple.\n",
    "        Hi, I am an apple trading agent, you can call me 2 and I have 1 apple.\n",
    "        Hi, I am an apple trading agent, you can call me 5 and I have 1 apple.\n",
    "        Hi, I am an apple trading agent, you can call me 3 and I have 1 apple.\n",
    "        Hi, I am an apple trading agent, you can call me 4 and I have 1 apple.\n",
    "        Hi, I am an apple trading agent, you can call me 8 and I have 1 apple.\n",
    "        Hi, I am an apple trading agent, you can call me 7 and I have 1 apple.\n",
    "        Hi, I am an apple trading agent, you can call me 1 and I have 1 apple.\n",
    "        Hi, I am an apple trading agent, you can call me 9 and I have 1 apple.\n",
    "        \n",
    "### Change your model above, re-run and generate output like this.        \n",
    "\n",
    "### Make sure to use `self.NumberApples` to get the number of apples -- that is, don't just print 1\n",
    "\n",
    "\n",
    "Hint: You'll want to add this to your printed output: `str(self.NumberApples)`, along with some new text.\n",
    "\n",
    "Hint: You can add text together with the `+` command, like \n",
    "\n",
    "`\".... you can call me 9 and I have \" + str(self.NumberApples) + \" apple.\"`"
   ]
  },
  {
   "cell_type": "code",
   "execution_count": null,
   "id": "6c5253f4",
   "metadata": {
    "slideshow": {
     "slide_type": "slide"
    }
   },
   "outputs": [],
   "source": []
  },
  {
   "cell_type": "markdown",
   "id": "cc56196f",
   "metadata": {
    "slideshow": {
     "slide_type": "slide"
    }
   },
   "source": [
    "### Task: Track the order that the agents are activated\n",
    "\n",
    "1. Create a list variable above where indicated, \n",
    "- Name this list `agent_numbers`\n",
    "\n",
    "2. Then, inside AppleTraderAgent.step(), append the value `self.unique_id` to this list\n",
    "\n",
    "### Task. Interpret your data\n",
    "1. Compute the median and mean of your list `agent_numbers`\n",
    "    - Print this information to the screen\n",
    "    - Add some discussion of these numbers  in the \n",
    "\n",
    "global variable to store all the agent ids, then do some kind of pandas statistics\n",
    "  - mean and median should be 4.5 (use pandas)\n",
    "    \n",
    "  Extra credit ... or only worth 5 or 10 points...\n",
    "  - count the number of times that 0 occurs in that list\n",
    "  - divide by lenght of list\n",
    "  - do the same for 1 or 2\n",
    "  - these are random, but each number comes up on average, the same number of times."
   ]
  },
  {
   "cell_type": "code",
   "execution_count": null,
   "id": "dad732a9",
   "metadata": {},
   "outputs": [],
   "source": []
  },
  {
   "cell_type": "markdown",
   "id": "25b15760",
   "metadata": {
    "slideshow": {
     "slide_type": "slide"
    }
   },
   "source": [
    "### Homework Discussion Goes Here\n",
    "\n"
   ]
  },
  {
   "cell_type": "markdown",
   "id": "cee38a12",
   "metadata": {
    "slideshow": {
     "slide_type": "slide"
    }
   },
   "source": [
    "### Homework Submission Instructions\n",
    "\n",
    "### The homework submission instructions are different this week. \n",
    "\n",
    "### Download your notebook as an \".ipynb\" file, and upload the ipynb file as your assignment to Canvas.\n",
    "\n",
    "### Do not upload a .py file"
   ]
  },
  {
   "cell_type": "code",
   "execution_count": null,
   "id": "e926076b",
   "metadata": {},
   "outputs": [],
   "source": []
  }
 ],
 "metadata": {
  "celltoolbar": "Slideshow",
  "kernelspec": {
   "display_name": "Python 3 (ipykernel)",
   "language": "python",
   "name": "python3"
  },
  "language_info": {
   "codemirror_mode": {
    "name": "ipython",
    "version": 3
   },
   "file_extension": ".py",
   "mimetype": "text/x-python",
   "name": "python",
   "nbconvert_exporter": "python",
   "pygments_lexer": "ipython3",
   "version": "3.10.8"
  },
  "vp": {
   "vp_config_version": "1.0.0",
   "vp_menu_width": 273,
   "vp_note_display": false,
   "vp_note_width": 0,
   "vp_position": {
    "width": 278
   },
   "vp_section_display": false,
   "vp_signature": "VisualPython"
  }
 },
 "nbformat": 4,
 "nbformat_minor": 5
}
