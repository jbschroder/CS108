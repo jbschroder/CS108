{
 "cells": [
  {
   "cell_type": "markdown",
   "id": "a21e3ac1",
   "metadata": {
    "slideshow": {
     "slide_type": "slide"
    }
   },
   "source": [
    "## Agent Based Modeling (ABM)\n",
    "- Tool for studying complex adaptive systems\n",
    "- Example: termites model\n",
    "    - The model consists of agents, an environment, and interactions between agents and environment\n",
    "    - The system is adaptive and changes over tiem\n",
    "    - ABM generates emergent patterns\n",
    "<img src=\"https://raw.githubusercontent.com/jbschroder/CS108/main/lecture_images/termites_netlogo.png\" width=\"250\">\n"
   ]
  },
  {
   "cell_type": "markdown",
   "id": "03ce1a4a",
   "metadata": {
    "slideshow": {
     "slide_type": "slide"
    }
   },
   "source": [
    "### Agent based modeling (ABM) modeling phases\n",
    "- Setup: instantion (creation) of world\n",
    "    - Describe the world you will be modeling and the rules that describe it\n",
    "- Runtime loop: the agents put into motion.  Each iteration: \n",
    "    - Each agent changes it's state (say, gets more apples, or a tree catches on fire)\n",
    "    - Any needed changes to world also occur, like a resource is consumed or added to    \n",
    "- Exit\n",
    "\n",
    "### Visualize ABM like this\n",
    "<img src=\"https://raw.githubusercontent.com/jbschroder/CS108/main/lecture_images/agent_based_modeling.png\" width=\"250\">"
   ]
  },
  {
   "cell_type": "markdown",
   "id": "68a97293",
   "metadata": {
    "slideshow": {
     "slide_type": "slide"
    }
   },
   "source": [
    "### ABM Runtime Loop\n",
    "- Each loop iteration is one tick, step\n",
    "- You can think of each loop iteration as one unit of time, like an hour or a minute\n",
    "- For apple trading, each runtime loop iteration gives each agent enough time to trade apples, if someone else is nearby\n",
    "- For forest fires, each runtime loop iteration is a unit of time, during which the model computes if any new trees have caught on fire\n",
    "\n",
    "### Our ABM enviroment will refer to each iteration as a step\n",
    "\n",
    "<img src=\"https://raw.githubusercontent.com/jbschroder/CS108/main/lecture_images/agent_based_modeling.png\" width=\"250\">"
   ]
  },
  {
   "cell_type": "code",
   "execution_count": null,
   "id": "0ecc4b63",
   "metadata": {
    "slideshow": {
     "slide_type": "slide"
    }
   },
   "outputs": [],
   "source": [
    "<img src=\"https://raw.githubusercontent.com/jbschroder/CS108/main/lecture_images/agent_based_modeling.png\" width=\"250\">"
   ]
  },
  {
   "cell_type": "code",
   "execution_count": null,
   "id": "01cdd346",
   "metadata": {
    "slideshow": {
     "slide_type": "slide"
    }
   },
   "outputs": [],
   "source": []
  },
  {
   "cell_type": "code",
   "execution_count": null,
   "id": "a3f962ca",
   "metadata": {
    "slideshow": {
     "slide_type": "slide"
    }
   },
   "outputs": [],
   "source": []
  },
  {
   "cell_type": "code",
   "execution_count": null,
   "id": "49bdac3c",
   "metadata": {
    "slideshow": {
     "slide_type": "slide"
    }
   },
   "outputs": [],
   "source": []
  },
  {
   "cell_type": "code",
   "execution_count": null,
   "id": "782af176",
   "metadata": {
    "slideshow": {
     "slide_type": "slide"
    }
   },
   "outputs": [],
   "source": []
  },
  {
   "cell_type": "code",
   "execution_count": null,
   "id": "35cae13f",
   "metadata": {
    "slideshow": {
     "slide_type": "slide"
    }
   },
   "outputs": [],
   "source": []
  },
  {
   "cell_type": "code",
   "execution_count": 1,
   "id": "17ae449e",
   "metadata": {},
   "outputs": [],
   "source": [
    "import mesa\n",
    "\n",
    "# Data visualization tools.\n",
    "import seaborn as sns\n",
    "\n",
    "# Has multi-dimensional arrays and matrices. Has a large collection of\n",
    "# mathematical functions to operate on these arrays.\n",
    "import numpy as np\n",
    "\n",
    "# Data manipulation and analysis.\n",
    "import pandas as pd"
   ]
  },
  {
   "cell_type": "code",
   "execution_count": 2,
   "id": "511b5d9d",
   "metadata": {},
   "outputs": [],
   "source": [
    "# create most basic model objects\n",
    "\n",
    "class AppleTraderAgent(mesa.Agent):\n",
    "    \"\"\"An agent that trades apples and begins with 1 apple.\"\"\"\n",
    "\n",
    "    def __init__(self, unique_id, model):\n",
    "        # Pass the parameters to the parent class.\n",
    "        super().__init__(unique_id, model)\n",
    "\n",
    "        # Create the agent's number of apples and set initial value\n",
    "        self.NumberApples = 1\n",
    "\n",
    "    def step(self):\n",
    "        # The agent's step will go here.\n",
    "        # For demonstration purposes we will print the agent's unique_id\n",
    "        print(f\"Hi, I am an apple trading agent, you can call me {str(self.unique_id)}.\")\n",
    "\n",
    "\n",
    "class AppleTradingModel(mesa.Model):\n",
    "    \"\"\"A model with some number of apple trading agents.\"\"\"\n",
    "\n",
    "    def __init__(self, N):\n",
    "        self.num_agents = N\n",
    "        # Create scheduler and assign it to the model\n",
    "        self.schedule = mesa.time.RandomActivation(self)\n",
    "\n",
    "        # Create agents\n",
    "        for i in range(self.num_agents):\n",
    "            a = AppleTraderAgent(i, self)\n",
    "            # Add the agent to the scheduler\n",
    "            self.schedule.add(a)\n",
    "\n",
    "    def step(self):\n",
    "        \"\"\"Advance the model by one step.\"\"\"\n",
    "\n",
    "        # The model's step will go here for now this will call the step method of each agent and print the agent's unique_id\n",
    "        self.schedule.step()\n"
   ]
  },
  {
   "cell_type": "code",
   "execution_count": 3,
   "id": "405c6357",
   "metadata": {},
   "outputs": [
    {
     "name": "stdout",
     "output_type": "stream",
     "text": [
      "Hi, I am an apple trading agent, you can call me 4.\n",
      "Hi, I am an apple trading agent, you can call me 5.\n",
      "Hi, I am an apple trading agent, you can call me 3.\n",
      "Hi, I am an apple trading agent, you can call me 6.\n",
      "Hi, I am an apple trading agent, you can call me 9.\n",
      "Hi, I am an apple trading agent, you can call me 0.\n",
      "Hi, I am an apple trading agent, you can call me 1.\n",
      "Hi, I am an apple trading agent, you can call me 2.\n",
      "Hi, I am an apple trading agent, you can call me 8.\n",
      "Hi, I am an apple trading agent, you can call me 7.\n"
     ]
    }
   ],
   "source": [
    "# run model \n",
    "starter_model = AppleTradingModel(10)\n",
    "starter_model.step()"
   ]
  },
  {
   "cell_type": "code",
   "execution_count": 4,
   "id": "84b4a335",
   "metadata": {},
   "outputs": [
    {
     "name": "stdout",
     "output_type": "stream",
     "text": [
      "Hi, I am an apple trading agent, you can call me 3.\n",
      "Hi, I am an apple trading agent, you can call me 5.\n",
      "Hi, I am an apple trading agent, you can call me 8.\n",
      "Hi, I am an apple trading agent, you can call me 1.\n",
      "Hi, I am an apple trading agent, you can call me 9.\n",
      "Hi, I am an apple trading agent, you can call me 4.\n",
      "Hi, I am an apple trading agent, you can call me 0.\n",
      "Hi, I am an apple trading agent, you can call me 7.\n",
      "Hi, I am an apple trading agent, you can call me 6.\n",
      "Hi, I am an apple trading agent, you can call me 2.\n"
     ]
    }
   ],
   "source": [
    "# Note how the order changes each time\n",
    "starter_model.step()"
   ]
  },
  {
   "cell_type": "code",
   "execution_count": 5,
   "id": "be9352e3",
   "metadata": {},
   "outputs": [
    {
     "name": "stdout",
     "output_type": "stream",
     "text": [
      "Hi, I am an apple trading agent, you can call me 5.\n",
      "Hi, I am an apple trading agent, you can call me 2.\n",
      "Hi, I am an apple trading agent, you can call me 0.\n",
      "Hi, I am an apple trading agent, you can call me 6.\n",
      "Hi, I am an apple trading agent, you can call me 4.\n",
      "Hi, I am an apple trading agent, you can call me 1.\n",
      "Hi, I am an apple trading agent, you can call me 7.\n",
      "Hi, I am an apple trading agent, you can call me 9.\n",
      "Hi, I am an apple trading agent, you can call me 3.\n",
      "Hi, I am an apple trading agent, you can call me 8.\n"
     ]
    }
   ],
   "source": [
    "# Note how the order changes each time\n",
    "starter_model.step()"
   ]
  },
  {
   "cell_type": "code",
   "execution_count": 6,
   "id": "a2d04dba",
   "metadata": {},
   "outputs": [],
   "source": [
    "# Exercise: modify the code to have every agent print out it's number of apples when taking a step"
   ]
  },
  {
   "cell_type": "code",
   "execution_count": 7,
   "id": "159b8b1c",
   "metadata": {},
   "outputs": [],
   "source": [
    "# create most basic model objects\n",
    "\n",
    "class AppleTraderAgent(mesa.Agent):\n",
    "    \"\"\"An agent that trades apples and begins with 1 apple.\"\"\"\n",
    "\n",
    "    def __init__(self, unique_id, model):\n",
    "        # Pass the parameters to the parent class.\n",
    "        super().__init__(unique_id, model)\n",
    "\n",
    "        # Create the agent's number of apples and set initial value\n",
    "        self.NumberApples = 1\n",
    "        \n",
    "    def step(self):\n",
    "        # The agent's step will go here.\n",
    "        # For demonstration purposes we will print the agent's unique_id\n",
    "        print(f\"Hi, I am an apple trading agent, you can call me {str(self.unique_id)} and I have {str(self.NumberApples)} apple.\")"
   ]
  },
  {
   "cell_type": "code",
   "execution_count": 8,
   "id": "65ca3d8f",
   "metadata": {},
   "outputs": [
    {
     "name": "stdout",
     "output_type": "stream",
     "text": [
      "Hi, I am an apple trading agent, you can call me 6 and I have 1 apple.\n",
      "Hi, I am an apple trading agent, you can call me 0 and I have 1 apple.\n",
      "Hi, I am an apple trading agent, you can call me 2 and I have 1 apple.\n",
      "Hi, I am an apple trading agent, you can call me 5 and I have 1 apple.\n",
      "Hi, I am an apple trading agent, you can call me 3 and I have 1 apple.\n",
      "Hi, I am an apple trading agent, you can call me 4 and I have 1 apple.\n",
      "Hi, I am an apple trading agent, you can call me 8 and I have 1 apple.\n",
      "Hi, I am an apple trading agent, you can call me 7 and I have 1 apple.\n",
      "Hi, I am an apple trading agent, you can call me 1 and I have 1 apple.\n",
      "Hi, I am an apple trading agent, you can call me 9 and I have 1 apple.\n"
     ]
    }
   ],
   "source": [
    "# note how you have to create a new AppleTraderModel\n",
    "starter_model = AppleTradingModel(10)\n",
    "starter_model.step()"
   ]
  },
  {
   "cell_type": "code",
   "execution_count": null,
   "id": "1ab1a089",
   "metadata": {},
   "outputs": [],
   "source": []
  },
  {
   "cell_type": "code",
   "execution_count": null,
   "id": "e2a6d73b",
   "metadata": {},
   "outputs": [],
   "source": []
  }
 ],
 "metadata": {
  "celltoolbar": "Slideshow",
  "kernelspec": {
   "display_name": "Python 3 (ipykernel)",
   "language": "python",
   "name": "python3"
  },
  "language_info": {
   "codemirror_mode": {
    "name": "ipython",
    "version": 3
   },
   "file_extension": ".py",
   "mimetype": "text/x-python",
   "name": "python",
   "nbconvert_exporter": "python",
   "pygments_lexer": "ipython3",
   "version": "3.10.8"
  },
  "vp": {
   "vp_config_version": "1.0.0",
   "vp_menu_width": 273,
   "vp_note_display": false,
   "vp_note_width": 0,
   "vp_position": {
    "width": 278
   },
   "vp_section_display": false,
   "vp_signature": "VisualPython"
  }
 },
 "nbformat": 4,
 "nbformat_minor": 5
}
