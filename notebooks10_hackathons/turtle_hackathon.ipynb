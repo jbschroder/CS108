{
 "cells": [
  {
   "cell_type": "markdown",
   "id": "d455074e",
   "metadata": {
    "slideshow": {
     "slide_type": "slide"
    }
   },
   "source": [
    "## Hackathon Turtle Time\n",
    "\n",
    "In this hackathon, you will be experimenting with a fun turtle environment -- navigating mazes, drawing designs, and if you want, hacking the internals to create new mazes or change the animal to something else.  You'll be using Python and Google CoLab and practicing strong programming fundamentals here (loops, lists, if/else statements, and functions).  In terms of assumed knowledge, as long as you know some basic Python, you should be able to participate. If you can, please also set up Google CoLab ahead of time."
   ]
  },
  {
   "cell_type": "markdown",
   "id": "86a80e71",
   "metadata": {},
   "source": [
    "### The first task is to set up Google CoLab\n",
    "1. Create a Google account (if you don't already have one)\n",
    "2. Go into Google Drive\n",
    "3. On the right side of Google Drive, click the plus sign, to install add ons\n",
    "   - Search for Colaboratory, and install it\n",
    "4. Upload this file into Google Drive, and double click on it!\n",
    "\n",
    "https://raw.githubusercontent.com/jbschroder/CS108/main/notebooks_turtle/turtle_generator.py"
   ]
  },
  {
   "cell_type": "markdown",
   "id": "edf0d8b5",
   "metadata": {
    "slideshow": {
     "slide_type": "slide"
    }
   },
   "source": [
    "Indicate how to setup CoLab (for display)\n",
    "\n",
    "Have tutorial, \n",
    "  show how to set up, move in a loop and view\n",
    "  move in a loop leaving a trail and view\n",
    "  how to set up maze 1, and then navigate it with a simple loop (use a function)\n",
    "  Perhaps put some rudiments of memory there\n",
    "  Show how to get a random start location (randomly select entry from list)\n",
    "\n",
    "First tasks, do the above for maze 2\n",
    "\n",
    "Then for maze 2, but with a random start location\n",
    "\n",
    "Then, you can do maze 3\n",
    "  But Maze 3 will be trickier, you will need to do soemthing like \n",
    "     memory, ability to backtrack and \n",
    "     \n",
    "Other tasks, hack the turtle generator\n",
    "  Change the animal, that is look at how turtle.png, turtle_left.png and turtle_right.png are used in `turtle_generator.py`.  Change those images.\n",
    "  You can inspect `turtle_generator.py` by clicking on the folder icon in Colab and then double clicking on the file `turtle_generator.py`\n",
    "  \n",
    "  Examine how mazes are created in `turtle_generator.py`\n",
    "     see everywhere that `generate_maze1` is used in that file\n",
    "     create a new maze yourself, automatically navigate it\n",
    "     \n",
    "  Come up with your own ideas!  Maybe you want to ignore mazes, and draw your name with a turtle, using loops and if/else statements.  Be creative :-) \n",
    "     "
   ]
  },
  {
   "cell_type": "markdown",
   "id": "723c1f1e",
   "metadata": {
    "slideshow": {
     "slide_type": "slide"
    }
   },
   "source": []
  },
  {
   "cell_type": "markdown",
   "id": "HOFo2PXSHRik",
   "metadata": {
    "id": "HOFo2PXSHRik",
    "slideshow": {
     "slide_type": "slide"
    }
   },
   "source": [
    "## We have some **house cleaning** to do before we can start. \n",
    "1. We download some code(`turtle_generator.py`) to define how our turtle can move around \n",
    "2. We pull the `turtle_generator` code into this notebook with an `import` command"
   ]
  },
  {
   "cell_type": "code",
   "execution_count": 1,
   "id": "a7356955",
   "metadata": {
    "slideshow": {
     "slide_type": "-"
    }
   },
   "outputs": [
    {
     "name": "stdout",
     "output_type": "stream",
     "text": [
      "You downloaded the file turtle_generator.py\n"
     ]
    }
   ],
   "source": [
    "# House cleaning part 1\n",
    "from urllib.request import urlretrieve\n",
    "(file, message) = urlretrieve('https://raw.githubusercontent.com/jbschroder/CS108/main/notebooks_turtle/turtle_generator.py', 'turtle_generator.py')\n",
    "print(\"You downloaded the file \" + file)\n",
    "\n",
    "# House cleaning part 2\n",
    "from turtle_generator import turtle_generator"
   ]
  },
  {
   "cell_type": "code",
   "execution_count": null,
   "id": "4c8fd3e6",
   "metadata": {},
   "outputs": [],
   "source": []
  },
  {
   "cell_type": "code",
   "execution_count": null,
   "id": "5cf22f6e",
   "metadata": {},
   "outputs": [],
   "source": []
  },
  {
   "cell_type": "markdown",
   "id": "xiVJ0VFSCWS8",
   "metadata": {
    "id": "xiVJ0VFSCWS8",
    "slideshow": {
     "slide_type": "slide"
    }
   },
   "source": [
    "### If you want to save your Python file outside of Google Colab, you can do the following.  Click on the `download as .py` option in Colab\n",
    "![](https://raw.githubusercontent.com/jbschroder/CS108/main/lecture_images/image_of_downloading_py_file.png)"
   ]
  },
  {
   "cell_type": "code",
   "execution_count": null,
   "id": "de7bbdd6",
   "metadata": {},
   "outputs": [],
   "source": []
  }
 ],
 "metadata": {
  "celltoolbar": "Slideshow",
  "kernelspec": {
   "display_name": "Python 3 (ipykernel)",
   "language": "python",
   "name": "python3"
  },
  "language_info": {
   "codemirror_mode": {
    "name": "ipython",
    "version": 3
   },
   "file_extension": ".py",
   "mimetype": "text/x-python",
   "name": "python",
   "nbconvert_exporter": "python",
   "pygments_lexer": "ipython3",
   "version": "3.10.8"
  }
 },
 "nbformat": 4,
 "nbformat_minor": 5
}
