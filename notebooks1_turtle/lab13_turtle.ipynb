{
 "cells": [
  {
   "cell_type": "markdown",
   "id": "d455074e",
   "metadata": {
    "slideshow": {
     "slide_type": "slide"
    }
   },
   "source": [
    "## Turtle Lab 13: Objects \n",
    "Lecture file: `08_Objects.ipynb`"
   ]
  },
  {
   "cell_type": "markdown",
   "id": "edf0d8b5",
   "metadata": {
    "slideshow": {
     "slide_type": "slide"
    }
   },
   "source": [
    "### Learning Goals \n",
    "\n",
    "1. Make sure you know the definition of a class\n",
    "   - Class (less formal): Is a collection of related information and related functions.  The information can be numbers, words, lists and really anything.  The functions and information are typically related around a concept\n",
    "       - For example, the turtle that we've been using is a Class\n",
    "       - The turtle class contains a collection of functions like `move_left()`,  `move_right()`, `start_new_journey()` and `watch_me_move()`\n",
    "       - The turtle class also contains data, like the list of movements `[(0,0), (0,1), (0,2)]`\n",
    "  \n",
    "   - Class (more formal definition): is a code template for creating objects and providing initial (default) values for member variables and default member function\n",
    "       - This definition will sink in over time, but please ask questions  "
   ]
  },
  {
   "cell_type": "markdown",
   "id": "5ef35b36",
   "metadata": {
    "slideshow": {
     "slide_type": "slide"
    }
   },
   "source": [
    "### Learning Goals \n",
    "\n",
    "1. Definitions (cont'd)\n",
    "\n",
    "   - Object:  An object is an instance of a class.  \n",
    "       - The class defines the structure of the collection of information and functions.  \n",
    "       - The class is only an abstract definition  \n",
    "       - But an object is an instantiation, realization, embodiment of the class \n",
    "   \n",
    "   - For example, you could create multiple turtles each navigating their own maze \n",
    "   \n",
    "           turtle1 = turtle_generator( maze_number=1 )\n",
    "           turtle2 = turtle_generator( maze_number=2 )\n",
    "     \n",
    "   - Both `turtle1` and `turtle2` are instances of the class `turtle_generator`\n",
    "\n",
    "2. Definition: When using classes and objects, you are doing \"object oriented programming\""
   ]
  },
  {
   "cell_type": "markdown",
   "id": "74bd3e4d",
   "metadata": {
    "slideshow": {
     "slide_type": "slide"
    }
   },
   "source": [
    "### Summary\n",
    "1. The class can contain many things, such as variables and functions\n",
    "2. An object is an instance of a class.  You can have many objects, all distinct, based on the same class."
   ]
  },
  {
   "cell_type": "markdown",
   "id": "c8ed064c",
   "metadata": {
    "slideshow": {
     "slide_type": "slide"
    }
   },
   "source": [
    "### We next discuss an example class that defines a circle \n",
    "- The circle contains two pieces of data (called member variables)\n",
    "- These two pieces of data are the radius and pi\n",
    "\n",
    "### Definition: Member variables are variables inside a class, part of a class"
   ]
  },
  {
   "cell_type": "code",
   "execution_count": null,
   "id": "fcbcabd1",
   "metadata": {
    "slideshow": {
     "slide_type": "-"
    }
   },
   "outputs": [],
   "source": [
    "class circle:\n",
    "    radius = 0\n",
    "    pi = 3.14159265359"
   ]
  },
  {
   "cell_type": "markdown",
   "id": "a8a71d43",
   "metadata": {
    "slideshow": {
     "slide_type": "slide"
    }
   },
   "source": [
    "### The above is a class, not an object!\n",
    "- We often represent classes with diagrams like below. \n",
    "- It visually represents what the circle class is"
   ]
  },
  {
   "cell_type": "markdown",
   "id": "61939914",
   "metadata": {},
   "source": [
    "![](https://raw.githubusercontent.com/jbschroder/CS108/main/lecture_images/circle_class1.png)"
   ]
  },
  {
   "cell_type": "markdown",
   "id": "eb5dd0f4",
   "metadata": {
    "slideshow": {
     "slide_type": "slide"
    }
   },
   "source": [
    "### To get an object, we need to create one \n",
    "1. Notice that this is similar to how you've been creating the turtles\n",
    "2. The turtles are objects too, and their class name is `turtle_generator`\n",
    "3. Here, we create a new circle, called `circ1`"
   ]
  },
  {
   "cell_type": "code",
   "execution_count": null,
   "id": "ddb44241",
   "metadata": {},
   "outputs": [],
   "source": [
    "circ1 = circle()"
   ]
  },
  {
   "cell_type": "markdown",
   "id": "6d159cc8",
   "metadata": {
    "slideshow": {
     "slide_type": "slide"
    }
   },
   "source": [
    "### Notice how you can access the member variables (pi and radius)"
   ]
  },
  {
   "cell_type": "code",
   "execution_count": null,
   "id": "bf3e349b",
   "metadata": {},
   "outputs": [],
   "source": [
    "print(circ1.radius, \"  radius of circle 1 \")\n",
    "print(circ1.pi, \"  pi is stored by circle 1\")"
   ]
  },
  {
   "cell_type": "markdown",
   "id": "47db3e51",
   "metadata": {
    "slideshow": {
     "slide_type": "slide"
    }
   },
   "source": [
    "Notice how you can modify the object"
   ]
  },
  {
   "cell_type": "code",
   "execution_count": null,
   "id": "f4bc729c",
   "metadata": {},
   "outputs": [],
   "source": [
    "circ1.radius = 5\n",
    "print(circ1.radius, \"  radius of circle 1 \")"
   ]
  },
  {
   "cell_type": "markdown",
   "id": "4c8a50e7",
   "metadata": {},
   "source": [
    "### Task 1: Create a code cell below, and print out the area of `circ1`\n",
    "\n",
    "### Task 2: Create a new circle, call it `circ2`, and give it's radius a value.\n",
    "\n",
    "### Print the area of `circ2` to the screen\n",
    "- Remember the area formula of a circle is `pi*radius*radius`\n",
    "- And you get access to this information with `circ2.pi` and `circ2.radius`\n",
    "\n",
    "### Task 3: You can create as many circle objects as you want.  \n",
    "- Create a third circle and name it whatever you want\n",
    "- Give the third circle a new radius value\n",
    "- Compute the area of this third circle\n",
    "\n",
    "### Stop an ask questions here, if you need"
   ]
  },
  {
   "attachments": {},
   "cell_type": "markdown",
   "id": "7f34cab0",
   "metadata": {},
   "source": [
    "### Discussion: Why Objects?\n",
    "\n",
    "You've seen different types of variables\n",
    "- Variables that are numbers\n",
    "- Variables that are strings\n",
    "- Variables that are lists\n",
    "\n",
    "You've also seen the turtle variable\n",
    "- But the turtle is actually an instance of the `turtle_generator` class!\n",
    "\n",
    "A class is like a custom variable, that you can define to do whatever you want\n",
    "- This is what was done with the `turtle_generator`\n",
    "\n",
    "Then to get a single turtle to move and animate, we create an instance of the turtle with\n",
    "\n",
    "     turtle = turtle_generator(maze_number=1)\n",
    "\n",
    "\n",
    "### Defining an object is similar to defining a function.  \n",
    "- First you have to run a cell that describes your object's structure\n",
    "    - This is called defining your class, like here\n",
    "    \n",
    "            class circle:\n",
    "                radius = 0\n",
    "                pi = 3.14159265359\n",
    "\n",
    "- Second, you create an object, which is an instance of a class\n",
    "    - This is called instantiating your class with something like\n",
    "            \n",
    "            circ1 = circle()\n",
    "      \n",
    "      and\n",
    "                  \n",
    "            circ2 = circle()\n",
    "            "
   ]
  },
  {
   "cell_type": "markdown",
   "id": "3051139f",
   "metadata": {},
   "source": [
    "### Task: Create a new class below called `rectangle`\n",
    "- Give `rectangle` two member variables called width and height"
   ]
  },
  {
   "cell_type": "code",
   "execution_count": null,
   "id": "40ee596e",
   "metadata": {},
   "outputs": [],
   "source": [
    "# create your class here, starting with the line,  class rectangle:"
   ]
  },
  {
   "cell_type": "markdown",
   "id": "6734588c",
   "metadata": {},
   "source": [
    "### Task: Create a `rectangle` object below\n",
    "- That is, you create an instance of your class below, called an object \n",
    "\n",
    "### Give the member variables, width and height, values\n",
    "\n",
    "### Now compute the perimeter and area of the rectangle"
   ]
  },
  {
   "cell_type": "code",
   "execution_count": null,
   "id": "c1b54f36",
   "metadata": {},
   "outputs": [],
   "source": [
    "# create a rectangle object here, give width and height values"
   ]
  },
  {
   "cell_type": "markdown",
   "id": "8ed6a5fb",
   "metadata": {
    "id": "HOFo2PXSHRik",
    "slideshow": {
     "slide_type": "slide"
    }
   },
   "source": [
    "------------------------\n",
    "\n",
    "### OK!  Objects can be a difficult concept -- don't worry!\n",
    "\n",
    "### We now switch to an optional advanced task with the turtle\n",
    "\n",
    "### ==> This advanced task is not required now, but we will come back to this later.  So working on it some now will be helpful"
   ]
  },
  {
   "cell_type": "markdown",
   "id": "HOFo2PXSHRik",
   "metadata": {
    "id": "HOFo2PXSHRik",
    "slideshow": {
     "slide_type": "slide"
    }
   },
   "source": [
    "## We have some **house cleaning** to do before we can start.\n",
    "1. We download some code(`turtle_generator.py`) to define how our turtle can move around\n",
    "2. We pull the `turtle_generator` code into this notebook with an `import` command"
   ]
  },
  {
   "cell_type": "code",
   "execution_count": null,
   "id": "a7356955",
   "metadata": {
    "slideshow": {
     "slide_type": "-"
    }
   },
   "outputs": [],
   "source": [
    "# House cleaning part 1\n",
    "from urllib.request import urlretrieve\n",
    "(file, message) = urlretrieve('https://raw.githubusercontent.com/jbschroder/CS108/main/notebooks_turtle/turtle_generator.py', 'turtle_generator.py')\n",
    "print(\"You downloaded the file \" + file)\n",
    "\n",
    "# House cleaning part 2\n",
    "from turtle_generator import turtle_generator"
   ]
  },
  {
   "cell_type": "markdown",
   "id": "93a835ff",
   "metadata": {},
   "source": [
    "### Task: Create a list of desired turtle motions, like\n",
    "    \n",
    "     movements = ['right', 'right', 'right', 'up', 'up', 'left]\n",
    "     \n",
    "### Create a turtle object, but don't choose a maze.\n",
    "- Start your journey and show the starting position\n",
    "- You will have just a blank grid (no maze and no pond)\n",
    "\n",
    "### Process your list of movements and move your turtle in the desired directions.  \n",
    "- You'll want to use a for loop, and you will loop over every element in the list\n",
    "- You can start by just creating a for loop that prints each move to the screen\n",
    "- Then, change your loop to also move the turtle according to each move in movements\n",
    "    - This will require an if/else structure\n",
    "\n",
    "### Remember, you can print every item of a list like this\n",
    "\n",
    "    numbers = [1, 2, 3, 4, 5]\n",
    "    for x in numbers:\n",
    "        print(x)\n",
    "\n",
    "     \n"
   ]
  },
  {
   "cell_type": "code",
   "execution_count": null,
   "id": "93ef4879",
   "metadata": {},
   "outputs": [],
   "source": []
  }
 ],
 "metadata": {
  "celltoolbar": "Slideshow",
  "kernelspec": {
   "display_name": "Python 3 (ipykernel)",
   "language": "python",
   "name": "python3"
  },
  "language_info": {
   "codemirror_mode": {
    "name": "ipython",
    "version": 3
   },
   "file_extension": ".py",
   "mimetype": "text/x-python",
   "name": "python",
   "nbconvert_exporter": "python",
   "pygments_lexer": "ipython3",
   "version": "3.10.8"
  }
 },
 "nbformat": 4,
 "nbformat_minor": 5
}
