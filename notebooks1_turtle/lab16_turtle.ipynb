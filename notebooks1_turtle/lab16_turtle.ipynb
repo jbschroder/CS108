{
 "cells": [
  {
   "cell_type": "markdown",
   "id": "d455074e",
   "metadata": {
    "slideshow": {
     "slide_type": "slide"
    }
   },
   "source": [
    "## Turtle Lab 15: Objects \n",
    "Lecture file: Review for `08_Objects.ipynb` and `09_Member_Functions.ipynb`"
   ]
  },
  {
   "cell_type": "markdown",
   "id": "edf0d8b5",
   "metadata": {
    "slideshow": {
     "slide_type": "slide"
    }
   },
   "source": [
    "### Learning Goals\n",
    "\n",
    "### As you know, using and creating objects is not simple.  So today, we take a pause and reinforce some concepts.\n",
    "\n",
    "### Please re-read all of the below definitions -- do you have questions?  Just ask!\n",
    "\n",
    "1. Definition Review \n",
    "   - Class (less formal): Is a collection of related information and related functions.  The information can be numbers, words, lists and really anything.  The functions and information are typically related around a concept\n",
    "       - For example, we've create a circle class during the last two labs\n",
    "       - The circle class has a member function `area()` for easily computing the area, and `circumference()` for easily computing the circumference\n",
    "       - The circle class' collection of data (member variables) is simple, and is the radius \n",
    "       \n",
    "   - Class (more formal definition): is a code template for creating objects and providing initial (default) values for member variables and default member function\n",
    "       - This definition will sink in over time, but please ask questions  "
   ]
  },
  {
   "cell_type": "markdown",
   "id": "723c1f1e",
   "metadata": {
    "slideshow": {
     "slide_type": "slide"
    }
   },
   "source": [
    "1. Definition Review\n",
    "\n",
    "   - Object:  An object is an instance of a class.  \n",
    "       - A class is an abstract definition for how to structure the information (variables) and functions inside the class \n",
    "       - An object is an instantiation, realization, embodiment of the class \n",
    "       - You can create multiple objects for the same class. For example, you could create multiple circles, all with different radii\n",
    "       \n",
    "               circ1 = circle(3)\n",
    "               circ2 = circle(11.1)\n",
    "               circ10 = circle(7)\n",
    "         \n",
    "         We have three circles named `circ1`, `circ2`, and `circ10` with different radii of 3, 11.1, and 7"
   ]
  },
  {
   "cell_type": "markdown",
   "id": "5ef35b36",
   "metadata": {
    "slideshow": {
     "slide_type": "slide"
    }
   },
   "source": [
    "1. Definition Review\n",
    "    - Classes can contain both variables and also functions\n",
    "    - These are called member variables and member functions\n",
    "    - Learn how to use and create member variables and member functions"
   ]
  },
  {
   "cell_type": "markdown",
   "id": "586b0ab7",
   "metadata": {
    "slideshow": {
     "slide_type": "slide"
    }
   },
   "source": [
    "### Member variables and member functions are subtle concepts, so let's review their particularities"
   ]
  },
  {
   "cell_type": "markdown",
   "id": "4aa2c6e6",
   "metadata": {
    "slideshow": {
     "slide_type": "slide"
    }
   },
   "source": [
    "### Definition: Member variables are variables inside a class, part of a class\n",
    "- This is stored data that objects will use\n",
    "- The circle radius is an example of a member variable\n",
    "\n",
    "### Definition: Member functions are functions that are inside a class\n",
    "- All member functions must have `self` as the first parameter.  The object must be aware of itself!  \n",
    "- The `self` parameter allows objects to be aware of their own data. \n",
    "- For instance, a circle member function could use `self.radius` to access the radius (see below example)"
   ]
  },
  {
   "cell_type": "markdown",
   "id": "e5cf091e",
   "metadata": {
    "slideshow": {
     "slide_type": "slide"
    }
   },
   "source": [
    "### The `__init__(self, parameter1, parameter2, ...)` function is a special member function that allows you to create an object with certain values.  You can give `__init__` parameters to store in the object.\n",
    "- For instance, `turtle = turtle_generator(maze_number=1)` calls the turtle `__init__` function, and let's maze_number be stored inside the turtle\n",
    "\n",
    "### You never actually directly call `__init__`  This function is called automatically whenever you create an object.  \n",
    "- If you never create an `__init__(self, parameter1, parameter2, ...)` function, Python assumes an empty `__init__`\n",
    "\n",
    "### Other member functions do desired tasks, like `turtle.move_right()` or `circle.area()`"
   ]
  },
  {
   "cell_type": "markdown",
   "id": "8fcb5e69",
   "metadata": {
    "slideshow": {
     "slide_type": "slide"
    }
   },
   "source": [
    "### The above definitions are crucial to understanding object oriented programming\n",
    "\n",
    "### Review:  The `__init__(self, parameter1, parameter2, ...)` function is never called directly.  It is always called automatically when you create an object.  \n",
    "- You can give `__init__` parameters to store in the object, which is useful.\n",
    "- This lets you create an object and store certain values like radius or maze_number all-at-once"
   ]
  },
  {
   "cell_type": "markdown",
   "id": "8cc2d6f6",
   "metadata": {
    "slideshow": {
     "slide_type": "slide"
    }
   },
   "source": [
    "### Review:  All member functions need to have `self` as the first parameter.  The object must be aware of itself!  \n",
    "- Otherwise, how would the member function access the radius of the circle?\n",
    "- In this case, the member function must use `self.radius` to access the radius\n",
    "\n",
    "\n",
    "### Review: The `self` parameter is always automatically given to a member function as the first parameter.\n",
    "- That is, when a member function is called (executed), you do not type `self`.  \n",
    "- Python always gives this parameter automatically to the member function as the first parameter.\n",
    "- For instance, `turtle.move_right()` uses a member function of turtle, called `move_right()`\n",
    "    - The `self` parameter is automatically passed, or given to this function by Python\n",
    "    - You never type `self` when using `turtle.move_right()`\n",
    "- See the below use of `circ1.area()` for another example where `self` is automatically given to a member function, `area()`, as a parameter"
   ]
  },
  {
   "cell_type": "markdown",
   "id": "3dd60c1a",
   "metadata": {
    "slideshow": {
     "slide_type": "slide"
    }
   },
   "source": [
    "### Task: Create a new class that defines a triangle\n",
    "- The triangle will have 3 member variables: `side1`, `side2`, `side3`\n",
    "- The triangle will have 3 member functions\n",
    "    1. The first member function will be `__init__(self, s1, s2, s3)` where `s1`, `s2`, `s3` are the lengths of the sides\n",
    "    2. The second member function will be `perimeter(...)` and return the perimeter\n",
    "    3. The third member function will be `area(...)` and return the area.  Use this formula\n",
    "    \n",
    "       $$\\mbox{area} = \\frac{1}{4} \\sqrt{ 4\\; \\mbox{s1}^2\\; \\mbox{s2}^2\\; -\\; (\\mbox{s1}^2\\; +\\; \\mbox{s2}^2\\; - \\; \\mbox{s3}^2)^2} $$\n",
    "\n",
    "       This is known as Heron's formula."
   ]
  },
  {
   "cell_type": "code",
   "execution_count": null,
   "id": "40ee596e",
   "metadata": {},
   "outputs": [],
   "source": [
    "# create your class here, starting with the line,  class triangle:"
   ]
  },
  {
   "cell_type": "markdown",
   "id": "a7744c76",
   "metadata": {},
   "source": [
    "### Task: Create a `triangle` object below\n",
    "  \n",
    "### Then, print the triangle's area and perimeter to the screen\n",
    "\n",
    "\n",
    "### Create a second triangle, with different side lengths, and print its area and perimeter to the screen"
   ]
  },
  {
   "cell_type": "code",
   "execution_count": null,
   "id": "c1b54f36",
   "metadata": {},
   "outputs": [],
   "source": [
    "# create triangle objects here, print each triangle's area and perimeter to the screen "
   ]
  },
  {
   "cell_type": "markdown",
   "id": "200cda76",
   "metadata": {
    "id": "HOFo2PXSHRik",
    "slideshow": {
     "slide_type": "slide"
    }
   },
   "source": [
    "------------------------\n",
    "\n",
    "### We now switch to a creating a turtle object, which will make controlling your turtle easier.\n",
    "\n",
    "### This will build on the last lab."
   ]
  },
  {
   "cell_type": "markdown",
   "id": "HOFo2PXSHRik",
   "metadata": {
    "id": "HOFo2PXSHRik",
    "slideshow": {
     "slide_type": "slide"
    }
   },
   "source": [
    "## <font color=\"blue\"> We have some **house cleaning** to do before we can start. </font>\n",
    "1. <font color=\"blue\"> We download some code(`turtle_generator.py`) to define how our turtle can move around </font>\n",
    "2. <font color=\"blue\"> We pull the `turtle_generator` code into this notebook with an `import` command </font>"
   ]
  },
  {
   "cell_type": "code",
   "execution_count": null,
   "id": "a7356955",
   "metadata": {
    "slideshow": {
     "slide_type": "-"
    }
   },
   "outputs": [],
   "source": [
    "# House cleaning part 1\n",
    "from urllib.request import urlretrieve\n",
    "(file, message) = urlretrieve('https://raw.githubusercontent.com/jbschroder/CS108/main/notebooks_turtle/turtle_generator.py', 'turtle_generator.py')\n",
    "print(\"You downloaded the file \" + file)\n",
    "\n",
    "# House cleaning part 2\n",
    "from turtle_generator import turtle_generator"
   ]
  },
  {
   "cell_type": "markdown",
   "id": "14b3550d",
   "metadata": {},
   "source": [
    "### <font color=\"blue\"> Make sure you finish these tasks from the last lab </font>\n",
    "\n",
    "### <font color=\"blue\"> Task: Your goal is to create a turtle controller object. </font>\n",
    "1. <font color=\"blue\"> This object will create a turtle </font>\n",
    "    - <font color=\"blue\"> The turtle will be a member variable </font>\n",
    "\n",
    "2. <font color=\"blue\"> This object will create the turtle with either maze 1 or maze 2 </font>\n",
    "    - <font color=\"blue\"> Make `maze_number` a parameter for the `__init__` function </font>\n",
    "    - <font color=\"blue\"> The `__init__` function will then use `maze_number` with `turtle_generator` to set the correct `maze_number` </font>\n",
    "    - <font color=\"blue\"> That is, `__init__` will create a turtle with that maze number </font>\n",
    "\n",
    "3. <font color=\"blue\"> Create a member function that navigates maze 1 for the turtle </font>\n",
    "    - <font color=\"blue\"> This member function will return an animation for viewing </font>\n",
    "\n",
    "\n",
    "<font color=\"blue\"> The turtle controller class will have a structure like this </font>\n",
    "\n",
    "        class turtle_controller:\n",
    "\n",
    "            # Typically, member variables come first\n",
    "            turtle\n",
    "            maze_number\n",
    "\n",
    "            # Then, we define member functions\n",
    "            def __init__(self, maze_number):\n",
    "                ...self.turtle needs a value (use turtle_generator)\n",
    "                ...self.maze_number needs a value\n",
    "\n",
    "            def navigate_maze1(self):\n",
    "                ...insert your loop and if/else logic to navigate the maze\n",
    "                ...remember, your turtle now belongs to the class (object), \n",
    "                ...          so you have to use self.turtle to access the turtle\n",
    "                \n",
    "                ...return the animimation, that is return the output from watch_me_move()\n",
    "                \n",
    "                \n",
    "\n",
    "\n",
    "### <font color=\"blue\"> Make sure you can create your turtle controller below, and watch the animation  </font>\n"
   ]
  },
  {
   "cell_type": "code",
   "execution_count": null,
   "id": "9cfce9ba",
   "metadata": {},
   "outputs": [],
   "source": [
    "# Define your turtle controller class here"
   ]
  },
  {
   "cell_type": "code",
   "execution_count": null,
   "id": "18f5bd5b",
   "metadata": {},
   "outputs": [],
   "source": [
    "# Use your turtle controller class here\n",
    "controller = turtle_controller(1)\n",
    "# next, call navigate_maze1, make sure that you can see the animation\n",
    "# ... insert code to call navigate_maze1 and view the animation..."
   ]
  },
  {
   "cell_type": "markdown",
   "id": "6502b998",
   "metadata": {},
   "source": [
    "### <font color=\"blue\"> These are the two new tasks for your turtle controller object  </font>\n",
    "\n",
    "### <font color=\"blue\"> Task 1: Add a new member function to navigate maze 2  </font>\n",
    "- <font color=\"blue\"> Your code should now support  </font>\n",
    "\n",
    "       controller = turtle_controller(2)\n",
    "       animation = controller.navigate_maze2()\n",
    "       animation\n",
    " \n",
    "  <font color=\"blue\"> with the animation now displayed  </font>\n",
    "- <font color=\"blue\"> Your turtle should navigate maze 2 </font>"
   ]
  },
  {
   "cell_type": "markdown",
   "id": "9444cd99",
   "metadata": {},
   "source": [
    "### <font color=\"blue\"> Task 2: Add a new parameter to `__init__` for the start location  </font>\n",
    "- <font color=\"blue\"> Your code should now support  </font>\n",
    "\n",
    "       controller = turtle_controller(2, (2,8))\n",
    "       animation = controller.navigate_maze2()\n",
    "       animation\n",
    " \n",
    "  <font color=\"blue\"> with the animation now displayed  </font>\n",
    "- <font color=\"blue\"> Your turtle should be navigating maze 2 and starting at location (2,8)  </font>"
   ]
  },
  {
   "cell_type": "markdown",
   "id": "1f1d90c0",
   "metadata": {},
   "source": [
    "### <font color=\"blue\"> !! Make sure to include the below code to save your turtle controller for grading !! </font>\n",
    "- <font color=\"blue\"> Make sure that your turtle controller is named `turtle_controller`\n"
   ]
  },
  {
   "cell_type": "code",
   "execution_count": null,
   "id": "f7080695",
   "metadata": {},
   "outputs": [],
   "source": [
    "import pickle \n",
    "file = open('turtle_controller.pk', 'wb') \n",
    "pickle.dump(turtle_controller, file)\n",
    "file.close()"
   ]
  },
  {
   "cell_type": "markdown",
   "id": "371097af",
   "metadata": {},
   "source": [
    "### The below Tasks are what you need to do, in order to submit your homework for this week"
   ]
  },
  {
   "cell_type": "markdown",
   "id": "c99ff723",
   "metadata": {
    "id": "xiVJ0VFSCWS8",
    "slideshow": {
     "slide_type": "slide"
    }
   },
   "source": [
    "### Task 1\n",
    "- Create a new notebook in CoLab\n",
    "   - Go to File --> New notebook\n",
    "   - In the top left change the name from Untitled...ipynb to something more descriptive, like mylab3.ipynb\n",
    "   - Then, to find your file, to back to Google Drive in your browser.\n",
    "   - You will now have a folder titled `Colab Notebooks`\n",
    "   - Open that folder, and you'll see the new file!\n",
    "\n",
    "     **Note:** this is how you will create files for homeworks.\n",
    "     \n",
    "\n",
    "- For each markdown cell with **blue**\n",
    "   - Copy that markdown cell to the new notebook\n",
    "   - Also copy the code cell immediately below to the new notebook \n",
    "     \n",
    "- Don't forget to include the cell that saves your turtle controller object with pickle!\n",
    "    - Don't use `turtle.save_everything_to_file()` !"
   ]
  },
  {
   "cell_type": "markdown",
   "id": "95053044",
   "metadata": {
    "id": "xiVJ0VFSCWS8",
    "slideshow": {
     "slide_type": "slide"
    }
   },
   "source": [
    "### Task 2\n",
    "- Double check that your new notebook is correct. \n",
    "- Go to the `Runtime` menu at the top of CoLab\n",
    "    - Choose to `Restart session and run all`\n",
    "    - If that option is not available, then choose `Run all`\n",
    "- Then, look at the output for all of your cells.  Does it look correct?"
   ]
  },
  {
   "cell_type": "markdown",
   "id": "abf5049d",
   "metadata": {
    "id": "xiVJ0VFSCWS8",
    "slideshow": {
     "slide_type": "slide"
    }
   },
   "source": [
    "### Homework submission\n",
    "\n",
    "- After completing this, download your notebook to `.py` file and upload this `.py` file to Canvas for the weekly homework\n",
    "\n",
    "\n",
    "- Name your homework file `hw#.py`, where `#` is the correct number for this week, for instance `hw1.py`, `hw2.py`, ...\n"
   ]
  },
  {
   "cell_type": "markdown",
   "id": "xiVJ0VFSCWS8",
   "metadata": {
    "id": "xiVJ0VFSCWS8",
    "slideshow": {
     "slide_type": "slide"
    }
   },
   "source": [
    "### Reminder: To download correctly, click on the `download as .py` option in Colab\n",
    "![](https://raw.githubusercontent.com/jbschroder/CS108/main/lecture_images/image_of_downloading_py_file.png)"
   ]
  },
  {
   "cell_type": "code",
   "execution_count": null,
   "id": "de7bbdd6",
   "metadata": {},
   "outputs": [],
   "source": []
  },
  {
   "cell_type": "code",
   "execution_count": null,
   "id": "c4665088",
   "metadata": {},
   "outputs": [],
   "source": [
    "# If you're curious how to load your turtle controller, here's the code...\n",
    "# This code is just extra, no need to use\n",
    "import pickle\n",
    "file = open('turtle_controller.pk', 'rb')\n",
    "turtle_controller = pickle.load(file)\n",
    "file.close()\n",
    "\n"
   ]
  }
 ],
 "metadata": {
  "celltoolbar": "Slideshow",
  "kernelspec": {
   "display_name": "Python 3 (ipykernel)",
   "language": "python",
   "name": "python3"
  },
  "language_info": {
   "codemirror_mode": {
    "name": "ipython",
    "version": 3
   },
   "file_extension": ".py",
   "mimetype": "text/x-python",
   "name": "python",
   "nbconvert_exporter": "python",
   "pygments_lexer": "ipython3",
   "version": "3.10.8"
  }
 },
 "nbformat": 4,
 "nbformat_minor": 5
}
