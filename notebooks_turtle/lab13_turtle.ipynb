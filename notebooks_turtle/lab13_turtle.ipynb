{
 "cells": [
  {
   "cell_type": "markdown",
   "id": "d455074e",
   "metadata": {
    "slideshow": {
     "slide_type": "slide"
    }
   },
   "source": [
    "## Turtle Lab 14: Objects \n",
    "Lecture file: `08_Objects.ipynb`"
   ]
  },
  {
   "cell_type": "markdown",
   "id": "edf0d8b5",
   "metadata": {
    "slideshow": {
     "slide_type": "slide"
    }
   },
   "source": [
    "### Learning Goals \n",
    "\n",
    "1. Make sure you know the definition of a class\n",
    "   - Class (less formal): Is a collection of related information and related functions.  The information can be numbers, words, lists and really anything.  The functions are typically related around a concept\n",
    "       - For example, the turtle that we've been using is a Class\n",
    "       - The turtle class contains a collection of functions like `move_left()`,  `move_right()`, `start_new_journey()` and `watch_me_move()`\n",
    "       - The turtle class also contains data, like the list of movements `[(0,0), (0,1), (0,2)]`\n",
    "  \n",
    "   - Class (more formal definition): is a code template for creating objects and providing initial (default) values for member variables and default member function\n",
    "       - This definition will sink in over time, but please ask questions  "
   ]
  },
  {
   "cell_type": "markdown",
   "id": "5ef35b36",
   "metadata": {
    "slideshow": {
     "slide_type": "slide"
    }
   },
   "source": [
    "### Learning Goals \n",
    "\n",
    "1. Definitions (cont'd)\n",
    "\n",
    "   - Object:  An object is an instance of a class.  \n",
    "       - The class defines the structure of the collection of information and functions.  \n",
    "       - The class is only an abstract definition  \n",
    "       - But an object is an instantiation, realization, embodiment of the class \n",
    "   \n",
    "   - For example, you could create multiple turtles each navigating their own maze \n",
    "   \n",
    "           turtle1 = turtle_generator( maze_number=1 )\n",
    "           turtle2 = turtle_generator( maze_number=2 )\n",
    "     \n",
    "   - Both `turtle1` and `turtle2` are instances of the class `turtle_generator`\n",
    "\n",
    "2. Definition: When using classes and objects, you are doing \"object oriented programming\""
   ]
  },
  {
   "cell_type": "markdown",
   "id": "74bd3e4d",
   "metadata": {
    "slideshow": {
     "slide_type": "slide"
    }
   },
   "source": [
    "### Summary\n",
    "1. The class can contain many things, such as variables and functions\n",
    "2. An object is an instance of a class.  You can have many objects, all distinct, representing the same class."
   ]
  },
  {
   "cell_type": "markdown",
   "id": "c8ed064c",
   "metadata": {
    "slideshow": {
     "slide_type": "slide"
    }
   },
   "source": [
    "### We next discuss an example class that defines a circle \n",
    "- The circle contains two pieces of data (called member variables)\n",
    "- These two pieces of data are the radius and pi"
   ]
  },
  {
   "cell_type": "code",
   "execution_count": null,
   "id": "fcbcabd1",
   "metadata": {
    "slideshow": {
     "slide_type": "-"
    }
   },
   "outputs": [],
   "source": [
    "class circle:\n",
    "    radius = 0\n",
    "    pi = 3.14159265359"
   ]
  },
  {
   "cell_type": "markdown",
   "id": "1b289c03",
   "metadata": {
    "slideshow": {
     "slide_type": "slide"
    }
   },
   "source": [
    "### The above is a class, not an object!\n",
    "- We often represent classes with diagrams like below. \n",
    "- It visually represents what the circle class is"
   ]
  },
  {
   "cell_type": "markdown",
   "id": "61939914",
   "metadata": {},
   "source": [
    "![](https://raw.githubusercontent.com/jbschroder/CS108/main/lecture_images/circle_class1.png)"
   ]
  },
  {
   "cell_type": "markdown",
   "id": "eb5dd0f4",
   "metadata": {
    "slideshow": {
     "slide_type": "slide"
    }
   },
   "source": [
    "### To get an object, we need to create one \n",
    "1. Notice that this is similar to how you've been creating the turtles\n",
    "2. The turtles are objects too, and their class name is `turtle_generator`\n",
    "3. Here, we create a new circle, called `circ1`"
   ]
  },
  {
   "cell_type": "code",
   "execution_count": null,
   "id": "ddb44241",
   "metadata": {},
   "outputs": [],
   "source": [
    "circ1 = circle()"
   ]
  },
  {
   "cell_type": "markdown",
   "id": "6d159cc8",
   "metadata": {
    "slideshow": {
     "slide_type": "slide"
    }
   },
   "source": [
    "### Notice how you can access the member variables (pi and radius)"
   ]
  },
  {
   "cell_type": "code",
   "execution_count": null,
   "id": "bf3e349b",
   "metadata": {},
   "outputs": [],
   "source": [
    "print(circ1.radius, \"  radius of circle 1 \")\n",
    "print(circ1.pi, \"  pi is stored by circle 1\")"
   ]
  },
  {
   "cell_type": "markdown",
   "id": "47db3e51",
   "metadata": {
    "slideshow": {
     "slide_type": "slide"
    }
   },
   "source": [
    "Notice how you can modify the object"
   ]
  },
  {
   "cell_type": "code",
   "execution_count": null,
   "id": "f4bc729c",
   "metadata": {},
   "outputs": [],
   "source": [
    "circ1.radius = 5\n",
    "print(circ1.radius, \"  radius of circle 1 \")"
   ]
  },
  {
   "cell_type": "markdown",
   "id": "4c8a50e7",
   "metadata": {},
   "source": [
    "### Task 1: Create a code cell below, and print out the area of `circ1`\n",
    "\n",
    "### Task 2: Create a new circle, call it `circ2`, and give it's radius a value.\n",
    "\n",
    "### Print the area of `circ2` to the screen\n",
    "\n",
    "### Task 3: You can create as many circle objects as you want.  \n",
    "- Create a third circle and name it whatever you want\n",
    "- Compute the area of this third circle"
   ]
  },
  {
   "attachments": {},
   "cell_type": "markdown",
   "id": "7f34cab0",
   "metadata": {},
   "source": [
    "### Discussion: \n",
    "\n",
    "You've seen \n",
    "- variables that are numbers\n",
    "- variables that are strings\n",
    "- variables that are lists\n",
    "\n",
    "You've seen the turtle variable, which is a custom variable type written for this class\n",
    "\n",
    "Here, we show you how to define your own new custom variable type, which we call an object\n",
    "\n",
    "We define a circle object\n",
    "   - The circle has one attributes (radius)\n",
    "   - Three functions (__init__(), area(), and circumference())\n",
    "   - __init__()  is a special function used to create new objects\n",
    "   - area() and circumference() let you define the behavior \u000b",
    "     of your new variable, that is, you can automatically\n",
    "     compute the area and circumference\n",
    "\n",
    "Defining an object is similar to defining a function.  \n",
    "First you have to run a cell that describes your object's structure.  \u000b",
    "Let's say that object is called circle and contains\n"
   ]
  },
  {
   "cell_type": "code",
   "execution_count": null,
   "id": "490d2468",
   "metadata": {},
   "outputs": [],
   "source": [
    "have a task of creating your own rectangle object with two member variables x and y\n",
    "create a few rectangles, set x and y, and then compute the perimeter and area of them"
   ]
  },
  {
   "cell_type": "code",
   "execution_count": null,
   "id": "40ee596e",
   "metadata": {},
   "outputs": [],
   "source": []
  },
  {
   "cell_type": "code",
   "execution_count": null,
   "id": "61aaf713",
   "metadata": {},
   "outputs": [],
   "source": [
    "then advanced task of turtle, create list, use it to draw something"
   ]
  },
  {
   "cell_type": "code",
   "execution_count": null,
   "id": "c1b54f36",
   "metadata": {},
   "outputs": [],
   "source": []
  },
  {
   "cell_type": "markdown",
   "id": "7725c199",
   "metadata": {
    "slideshow": {
     "slide_type": "slide"
    }
   },
   "source": [
    "## Lecture 07.2 : Functions Part 2\n",
    "\n",
    "### Learning Goals \n",
    "\n",
    "1. Review\n",
    "    1. Learn that a function is a sequence of code that carries out a particular goal or task\n",
    "       - In other words, a function is some lines of code, packaged together, where all that code carries out a particular task\n",
    "       - This package can be used again and again to carry out the particular task\n",
    "    2. Learn how to define a function\n",
    "       - In Python we use `def function_name():` to define or declare a new function. \n",
    "    3. Learn how to call your new function (that is, use your new funcion)       \n",
    "       - After defining the function, calling the function actually executes the code. \n",
    "       - The function can be called (or used) as many times as you want."
   ]
  },
  {
   "cell_type": "markdown",
   "id": "65600ecc",
   "metadata": {
    "slideshow": {
     "slide_type": "slide"
    }
   },
   "source": [
    "### Learning Goals\n",
    "3. Learn how functions use paramters\n",
    "    - Functions can take parameters\n",
    "    - You've seen parameters before (like the `start_location`)\n",
    "    - Parameters let you tell the function information\n",
    "    - That information often directs the function to do something specific, like draw a pond or print a particular message\n",
    "    \n",
    "    \n",
    "### Remember, you've been using parameters like `start_location` and `maze_number` for a while now! You're just seeing more in-depth how they work"
   ]
  },
  {
   "cell_type": "markdown",
   "id": "HOFo2PXSHRik",
   "metadata": {
    "id": "HOFo2PXSHRik",
    "slideshow": {
     "slide_type": "slide"
    }
   },
   "source": [
    "### First\n",
    "\n",
    "We have some **house cleaning** to do before we can start.\n",
    "1. We download some code(`turtle_generator.py`) to define how our turtle can move around\n",
    "2. We pull the `turtle_generator` code into this notebook with an `import` command"
   ]
  },
  {
   "cell_type": "code",
   "execution_count": null,
   "id": "a7356955",
   "metadata": {
    "slideshow": {
     "slide_type": "-"
    }
   },
   "outputs": [],
   "source": [
    "# House cleaning part 1\n",
    "from urllib.request import urlretrieve\n",
    "(file, message) = urlretrieve('https://raw.githubusercontent.com/jbschroder/CS108/main/notebooks_turtle/turtle_generator.py', 'turtle_generator.py')\n",
    "print(\"You downloaded the file \" + file)\n",
    "\n",
    "# House cleaning part 2\n",
    "from turtle_generator import turtle_generator"
   ]
  },
  {
   "cell_type": "markdown",
   "id": "15069653",
   "metadata": {
    "slideshow": {
     "slide_type": "slide"
    }
   },
   "source": [
    "### Next, using what you learned in the lecture video, you will now experiment with function parameters \n",
    "\n",
    "### Here is an example function that prints a parameter \n",
    "\n",
    "        def my_function(var):\n",
    "            print(var)\n",
    "\n",
    "### Task 1: Create a code cell below and define a new function in it.  \n",
    "   - Name the function `print_parameter(var)` \n",
    "   - Have that function print the parameter `var` \n",
    "   - Remember that you have to run the new below cell for Python to know about this new function (to define the new function)"
   ]
  },
  {
   "cell_type": "markdown",
   "id": "c78706d3",
   "metadata": {
    "slideshow": {
     "slide_type": "slide"
    }
   },
   "source": [
    "### Task 2: Run the below code cell to verify that your new function `print_parameter()` works.  \n",
    "   - Do you see the parameter printed?"
   ]
  },
  {
   "cell_type": "code",
   "execution_count": null,
   "id": "ad762dfe",
   "metadata": {},
   "outputs": [],
   "source": [
    "print_parameter(\"Hello, I'm a parameter\")"
   ]
  },
  {
   "cell_type": "markdown",
   "id": "4dacb87e",
   "metadata": {},
   "source": [
    "### Task 3: Create a code cell below and try `print_parameter(...)` with a number as a parameter\n",
    "\n",
    "### Task 3 Cont'd: Repeat and try a list as a parameter"
   ]
  },
  {
   "cell_type": "markdown",
   "id": "8f58564c",
   "metadata": {},
   "source": [
    "### Task 4: Create a code cell below and define a function with two parameters and print both parameters to the screen.\n",
    "\n",
    "### A function of two parameters would look like\n",
    "\n",
    "        def print_two_parameters(var1, var2):\n",
    "        \n",
    "### And then indented inside the function, you would need to print `var1` and `var2` to the screen\n",
    "\n",
    "\n",
    "### Task 5: Run the below cell. Do you see both parameters printed?"
   ]
  },
  {
   "cell_type": "code",
   "execution_count": null,
   "id": "38487c10",
   "metadata": {},
   "outputs": [],
   "source": [
    "print_two_parameters(\"my favorite message\", [1,45,-2])"
   ]
  },
  {
   "cell_type": "markdown",
   "id": "c59172ff",
   "metadata": {},
   "source": [
    "### Task 6: Create a code cell below and define a function with two parameters that prints the sum of those parameters. \n",
    "\n",
    "### So, the function would like this\n",
    "\n",
    "        def add_two_parameters(var1, var2):\n",
    "    \n",
    "### And when you run the function it should do this\n",
    "\n",
    "      add_two_parameters(4, 9)\n",
    "      13\n",
    "\n",
    "### Task 7: Run the below cell.  Do you see 13 printed?  \n",
    "- Try a few other numbers"
   ]
  },
  {
   "cell_type": "code",
   "execution_count": null,
   "id": "0d8f4f06",
   "metadata": {},
   "outputs": [],
   "source": [
    "add_two_parameters(4, 9)"
   ]
  },
  {
   "cell_type": "markdown",
   "id": "77201c1c",
   "metadata": {},
   "source": [
    "### Now, we can get started with the turtle part of the lab!\n",
    "\n",
    "First, we have to create a new turtle.\n",
    "\n",
    "- We use the _maze_ parameter again \n",
    "- Remember, that we can give `turtle_generator()` values inside the parentheses that tell `turtle_generator()` what to do\n",
    "- This is the essence of a **parameter**, values that you give something (like `turtle_generator()`) that tell it what to do\n",
    "\n",
    "Second, at the bottom of the cell, we take a look at our turtle and find that it's at location `(0,0)`, with a simple maze and pond"
   ]
  },
  {
   "cell_type": "code",
   "execution_count": null,
   "id": "8d6d3832",
   "metadata": {
    "id": "eol71fSR2JIA",
    "scrolled": false,
    "slideshow": {
     "slide_type": "-"
    }
   },
   "outputs": [],
   "source": [
    "my_maze = 2\n",
    "turtle = turtle_generator( maze_number=my_maze )\n",
    "\n",
    "turtle.show_starting_position()"
   ]
  },
  {
   "cell_type": "markdown",
   "id": "68e95a7c",
   "metadata": {},
   "source": [
    "### The next sequence of tasks will have you write a function that will move your turtle\n",
    "\n",
    "### The function will take a turtle as a parameter and do the following\n",
    "   1. Start a new journey with `turtle.start_new_journey()`\n",
    "   2. Do some movements with commands like `turtle.move_right()`\n",
    "   \n",
    "### Task 1: Create a code cell below and write a function named `move_turtle(...)` in that cell \n",
    "   - The function must take a turtle as a parameter \n",
    "   - To take a turtle as a parameter, you just put a parameter (like above) inside the parentheses for your function \n",
    "       - So, you will write your function like this `def move_turtle(cool_turtle):` line\n",
    "       \n",
    "   - Your parameter will be a turtle.  So, if you name your parameter `cool_turtle`, you would use lines like this in your function \n",
    "          \n",
    "          cool_turtle.start_new_journey()\n",
    "      \n",
    "      and then similar lines to move right, left, up or down\n",
    "          \n",
    "   - You may assume that the turtle was created with maze 2"
   ]
  },
  {
   "cell_type": "markdown",
   "id": "83dae819",
   "metadata": {},
   "source": [
    "### Task 2: Run the below cell to watch your turtle.  Does it move?  The turtle should do all the movements in the function.  (Stop and ask if you are having trouble here)."
   ]
  },
  {
   "cell_type": "code",
   "execution_count": null,
   "id": "7965f5a2",
   "metadata": {},
   "outputs": [],
   "source": [
    "move_turtle(turtle)\n",
    "turtle.watch_me_move()"
   ]
  },
  {
   "cell_type": "markdown",
   "id": "9576c096",
   "metadata": {},
   "source": [
    "### Task 4: Write in the below text cell what would happen if you deleted line with `cool_turtle.start_new_journey()` and then ran the above code cell 3 times.  \n",
    "\n",
    "#### (If you're not sure experiment, but be sure to put the `cool_turtle.start_new_journey()` back into your function when done.)\n"
   ]
  },
  {
   "cell_type": "markdown",
   "id": "21fceea3",
   "metadata": {},
   "source": [
    "...insert your comments here..."
   ]
  },
  {
   "cell_type": "markdown",
   "id": "6ee75411",
   "metadata": {},
   "source": [
    "### Task 5: Turtle Art!\n",
    "1. Update your above function so that your turtle leaves a trail in the shape of a box\n",
    "2. Then, leave the shape of a box using loops\n",
    "3. Then, leave the shape of a box using only one loop\n",
    "    - That is, inside this loop, your turtle will need to go straight, up, left, and then right"
   ]
  },
  {
   "cell_type": "markdown",
   "id": "92539ac6",
   "metadata": {},
   "source": [
    "### Some of Task 5 is Advanced, so don't worry if you only get parts 1 and 2 done\n",
    "   \n",
    "   \n",
    "### If you finish early, draw a word with loops using your turtle"
   ]
  },
  {
   "cell_type": "code",
   "execution_count": null,
   "id": "9386c621",
   "metadata": {},
   "outputs": [],
   "source": []
  }
 ],
 "metadata": {
  "celltoolbar": "Slideshow",
  "kernelspec": {
   "display_name": "Python 3 (ipykernel)",
   "language": "python",
   "name": "python3"
  },
  "language_info": {
   "codemirror_mode": {
    "name": "ipython",
    "version": 3
   },
   "file_extension": ".py",
   "mimetype": "text/x-python",
   "name": "python",
   "nbconvert_exporter": "python",
   "pygments_lexer": "ipython3",
   "version": "3.10.8"
  }
 },
 "nbformat": 4,
 "nbformat_minor": 5
}
