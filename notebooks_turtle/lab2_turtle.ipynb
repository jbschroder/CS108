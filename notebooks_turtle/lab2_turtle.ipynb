{
 "cells": [
  {
   "cell_type": "markdown",
   "id": "db36e9f4",
   "metadata": {
    "id": "12eec2b8",
    "slideshow": {
     "slide_type": "slide"
    }
   },
   "source": [
    "## Turtle Lab 2: Basic Variables and Basic Turtle Movements \n",
    "Lecture file: `02_Variables.ipynb`"
   ]
  },
  {
   "cell_type": "markdown",
   "id": "9805bfdf",
   "metadata": {},
   "source": [
    "### Did you remember to watch the video and take the quiz before class?"
   ]
  },
  {
   "cell_type": "markdown",
   "id": "ab6ab753",
   "metadata": {
    "id": "12eec2b8",
    "slideshow": {
     "slide_type": "slide"
    }
   },
   "source": [
    "### Learning Goals\n",
    "\n",
    "1. Understand basic variables\n",
    "    - Variables are just a container that can store things like numbers, strings\n",
    "    - Variables can be printed (displayed) on the screen\n",
    "    - Variables have rules\n",
    "    - Variables can change their value (the value can vary)\n",
    "    - Variables can be used in calculations"
   ]
  },
  {
   "cell_type": "markdown",
   "id": "9619078b",
   "metadata": {
    "id": "12eec2b8",
    "slideshow": {
     "slide_type": "slide"
    }
   },
   "source": [
    "### Learning Goals\n",
    "2. Learn how to access and use advanced turtle capabilities\n",
    "    - You will do this by giving **extra** information to the commands that create and move the turtles\n",
    "    - This **extra** information is called **a parameter**\n",
    "    - So, we call this **giving a parameter** or **passing a parameter**\n",
    "    \n",
    "      In other words, a parameter is just a fancy word for a value that you give to a command, telling that command what you want.  Here, we will tell the command `turtle_generator()` to give us a pond and to change the starting location of the turtle\n",
    "      \n",
    "Vocabulary: command just means a line of code (or part of a line of code) that does something"
   ]
  },
  {
   "cell_type": "markdown",
   "id": "12eec2b8",
   "metadata": {
    "id": "12eec2b8",
    "slideshow": {
     "slide_type": "fragment"
    }
   },
   "source": [
    "### Learning Goals\n",
    "3. Learn how to plan a route for your turtle and implement it\n",
    "    - Start thinking algorithmically: plan a route and then implement it"
   ]
  },
  {
   "cell_type": "markdown",
   "id": "HOFo2PXSHRik",
   "metadata": {
    "id": "HOFo2PXSHRik",
    "slideshow": {
     "slide_type": "slide"
    }
   },
   "source": [
    "### First\n",
    "\n",
    "We have some **house cleaning** to do before we can start.  \n",
    "1. We download some code(`turtle_generator.py`) to define how our turtle can move around\n",
    "2. We pull the `turtle_generator` code into this notebook with an `import` command\n",
    "**Note that you have to run the below cell**"
   ]
  },
  {
   "cell_type": "code",
   "execution_count": null,
   "id": "1lbHzEii-tqD",
   "metadata": {
    "executionInfo": {
     "elapsed": 1968,
     "status": "ok",
     "timestamp": 1695423133937,
     "user": {
      "displayName": "Jacob Schroder",
      "userId": "01251390844616463510"
     },
     "user_tz": 360
    },
    "id": "1lbHzEii-tqD",
    "slideshow": {
     "slide_type": "-"
    }
   },
   "outputs": [],
   "source": [
    "# House cleaning part 1\n",
    "from urllib.request import urlretrieve\n",
    "(file, message) = urlretrieve('https://raw.githubusercontent.com/jbschroder/CS108/main/notebooks_turtle/turtle_generator.py', 'turtle_generator.py')\n",
    "print(\"You downloaded the file \" + file)\n",
    "\n",
    "# House cleaning part 2\n",
    "from turtle_generator import turtle_generator"
   ]
  },
  {
   "cell_type": "markdown",
   "id": "e48fe914",
   "metadata": {},
   "source": [
    "\n",
    "### Using what you learned in the lecture video, you will now experiment with basic variables\n",
    "\n",
    "### Task: Change the below string to something of your choosing.  Then run the cell to print (display) the string.  Do this 2 or 3 times"
   ]
  },
  {
   "cell_type": "code",
   "execution_count": null,
   "id": "1133f871",
   "metadata": {},
   "outputs": [],
   "source": [
    "words = \"change this to be some words of your own choosing\"\n",
    "print(words)"
   ]
  },
  {
   "cell_type": "markdown",
   "id": "64a9af23",
   "metadata": {},
   "source": [
    "### Task: Run the below cell.  Do you understand why only Mountains is printed?  If not, please ask."
   ]
  },
  {
   "cell_type": "code",
   "execution_count": null,
   "id": "088202f2",
   "metadata": {},
   "outputs": [],
   "source": [
    "words = \"Sandia\"\n",
    "words = \"Mountains\"\n",
    "print(words)"
   ]
  },
  {
   "cell_type": "markdown",
   "id": "446bab02",
   "metadata": {},
   "source": [
    "### Task: Copy and and paste the above cell to the empty cell below.  \n",
    "- Change the name of the Sandia variable to `words1` and the Mountains variable to `words2`\n",
    "    - That is, the first line will be ``words1 = \"Sandia\"`` and the second line will be ``words2 = \"Mountains\"``\n",
    "    - Then, print both `words1` and `words2` to the screen.  This will take two lines of code, because you need to ``print(words1)`` and ``print(words2)``\n",
    "- This will let you print both Sandia and Mountains to the screen\n"
   ]
  },
  {
   "cell_type": "code",
   "execution_count": null,
   "id": "11f155ae",
   "metadata": {},
   "outputs": [],
   "source": [
    "# Insert your new code in this cell"
   ]
  },
  {
   "cell_type": "markdown",
   "id": "17956b3e",
   "metadata": {},
   "source": [
    "### We will now look at using variables for simple computations\n",
    "\n",
    "### Task: Change the values of x and y below so that you can multiply different numbers together (only change the first two lines).  Then run the cell.  \n",
    "- Do this three or four times for different choices of numbers"
   ]
  },
  {
   "cell_type": "code",
   "execution_count": null,
   "id": "af321961",
   "metadata": {},
   "outputs": [],
   "source": [
    "x = 4\n",
    "y = 8\n",
    "print(x*y)"
   ]
  },
  {
   "cell_type": "markdown",
   "id": "3f1aaa60",
   "metadata": {},
   "source": [
    "### Task: Create a new cell below this cell (use the \"+ Code\" button).  Then copy and paste all the code for x and y above into the new cell below.\n",
    "   - Then change the multiplication to a plus\n",
    "   - Run the cell and see what happens\n",
    "   - Change the values for `x` and `y`, and re-run the cell"
   ]
  },
  {
   "cell_type": "markdown",
   "id": "1cc3f17a",
   "metadata": {},
   "source": [
    "### Task: modifying words\n",
    "- You can add words together\n",
    "- Create a new cell below this cell (use the \"+ Code\" button). \n",
    "- In that new cell, create a variable called `words1` and another variable called `words2`\n",
    "- Let those variables be some words like \"turtle\" or \"frog\"\n",
    "- Then try printing `words1 + words2` and `words1*3`\n",
    "- You can even create a `words3` and `words4` and add them together with `words1` and `words2`\n"
   ]
  },
  {
   "cell_type": "markdown",
   "id": "3ecf29f4",
   "metadata": {},
   "source": [
    "### Task: Examine the below pair of values called a `tuple`.  We will use these pairs of values to describe locations on the turtle grid\n",
    "- Run the below cell\n",
    "- Then, change the location to some place new, like (4,5) or (12,3), and re-run the cell\n",
    "- Do this 2 or 3 times\n"
   ]
  },
  {
   "cell_type": "code",
   "execution_count": null,
   "id": "ad9f4787",
   "metadata": {},
   "outputs": [],
   "source": [
    "# Create new variable called location\n",
    "location = (2,3)\n",
    "print(location)"
   ]
  },
  {
   "cell_type": "markdown",
   "id": "tJd1f-AsDU7w",
   "metadata": {
    "id": "tJd1f-AsDU7w",
    "slideshow": {
     "slide_type": "slide"
    }
   },
   "source": [
    "### Next, let's have some fun with our turtle!\n",
    "\n",
    "1. First, we have to create a new turtle variable\n",
    "\n",
    "2. But, we want to give the turtle a bath...\n",
    "\n",
    "3. So, create a new variable that specifies where we want a pond\n",
    "\n",
    "4. This pond variable will be given to `turtle_generator(...)` and `turtle_generator(...)` knows how to process a pond location \n",
    "\n",
    "##### This is what the parentheses do.  They let us group together variables that direct `turtle_generator(...)`, that tell `turtle_generator(...)` what to do.\n",
    "\n",
    "##### This is called giving a parameter to `turtle_generator(...)` \n",
    "\n",
    "##### When you give variables or values to something inside parentheses, this is called giving a parameter or passing a parameter\n",
    "- Putting the right commands inside the parentheses will let us do lots of things, like draw a pond and a maze.\n",
    "\n",
    "**In general, you will always want to run below code cells in the labs.  Run the below code cell and continue doing this for code cells in all the labs.**"
   ]
  },
  {
   "cell_type": "code",
   "execution_count": null,
   "id": "gzGiw8zO2JH4",
   "metadata": {
    "executionInfo": {
     "elapsed": 123,
     "status": "ok",
     "timestamp": 1695403005582,
     "user": {
      "displayName": "Jacob Schroder",
      "userId": "01251390844616463510"
     },
     "user_tz": 360
    },
    "id": "gzGiw8zO2JH4",
    "slideshow": {
     "slide_type": "-"
    }
   },
   "outputs": [],
   "source": [
    "# Create new turtle with pond\n",
    "my_location = (12,12)\n",
    "\n",
    "turtle = turtle_generator( pond_location=my_location )"
   ]
  },
  {
   "cell_type": "markdown",
   "id": "b9a3a818",
   "metadata": {
    "slideshow": {
     "slide_type": "slide"
    }
   },
   "source": [
    "### Next, we just take a look at our turtle and where it is, and we find that there's a new pond!"
   ]
  },
  {
   "cell_type": "code",
   "execution_count": null,
   "id": "21a2d4aa",
   "metadata": {
    "id": "eol71fSR2JIA",
    "slideshow": {
     "slide_type": "-"
    }
   },
   "outputs": [],
   "source": [
    "turtle.show_starting_position()"
   ]
  },
  {
   "cell_type": "markdown",
   "id": "72fb9679",
   "metadata": {
    "slideshow": {
     "slide_type": "slide"
    }
   },
   "source": [
    "### Check: can you see a picture above of a turtle on a grid?  Is there a pond there?  Is the pond at location `(12,12)`?"
   ]
  },
  {
   "cell_type": "markdown",
   "id": "347d003b",
   "metadata": {
    "slideshow": {
     "slide_type": "slide"
    }
   },
   "source": [
    "### Task: What would happen if we instead used `my_location=(3,5)`?  \n",
    "\n",
    "\n",
    "Where on the screen would the pond appear?\n",
    "\n",
    "This is just a thought experiment, no need to re-run code\n"
   ]
  },
  {
   "cell_type": "markdown",
   "id": "d405acc3",
   "metadata": {
    "slideshow": {
     "slide_type": "slide"
    }
   },
   "source": [
    "### Next, we have to tell our turtle to get ready for a trip with `turtle.start_new_journey()`"
   ]
  },
  {
   "cell_type": "code",
   "execution_count": null,
   "id": "-aJ40yY22JIA",
   "metadata": {
    "id": "-aJ40yY22JIA",
    "slideshow": {
     "slide_type": "-"
    }
   },
   "outputs": [],
   "source": [
    "turtle.start_new_journey()"
   ]
  },
  {
   "cell_type": "markdown",
   "id": "5oWR6nSc2JIA",
   "metadata": {
    "id": "5oWR6nSc2JIA",
    "slideshow": {
     "slide_type": "slide"
    }
   },
   "source": [
    "### Next, tell your turtle where to move!\n",
    "\n",
    "We start moving the turtle towards the pond"
   ]
  },
  {
   "cell_type": "code",
   "execution_count": null,
   "id": "isBNsWXE2JIA",
   "metadata": {
    "id": "isBNsWXE2JIA",
    "slideshow": {
     "slide_type": "-"
    }
   },
   "outputs": [],
   "source": [
    "turtle.move_up()\n",
    "turtle.move_right()\n",
    "\n",
    "turtle.move_up()\n",
    "turtle.move_right()\n",
    "\n",
    "turtle.move_up()\n",
    "turtle.move_right()\n",
    "\n",
    "turtle.move_up()\n",
    "turtle.move_right()\n",
    "\n",
    "turtle.move_up()\n",
    "turtle.move_right()"
   ]
  },
  {
   "cell_type": "markdown",
   "id": "aOkgDURU2JIA",
   "metadata": {
    "id": "aOkgDURU2JIA",
    "slideshow": {
     "slide_type": "slide"
    }
   },
   "source": [
    "### Finally, we look at the turtle moving"
   ]
  },
  {
   "cell_type": "code",
   "execution_count": null,
   "id": "EbdqRC202JIA",
   "metadata": {
    "colab": {
     "base_uri": "https://localhost:8080/",
     "height": 658
    },
    "executionInfo": {
     "elapsed": 3758,
     "status": "ok",
     "timestamp": 1695397640792,
     "user": {
      "displayName": "Jacob Schroder",
      "userId": "01251390844616463510"
     },
     "user_tz": 360
    },
    "id": "EbdqRC202JIA",
    "outputId": "fddd648e-b50e-482d-c2b6-868f3739a003",
    "slideshow": {
     "slide_type": "-"
    }
   },
   "outputs": [],
   "source": [
    "turtle.watch_me_move()"
   ]
  },
  {
   "cell_type": "markdown",
   "id": "3df545a5",
   "metadata": {
    "slideshow": {
     "slide_type": "slide"
    }
   },
   "source": [
    "### Task\n",
    "- Make sure you remember how to play the animation and see your turtle move"
   ]
  },
  {
   "cell_type": "markdown",
   "id": "c9a79157",
   "metadata": {
    "id": "xiVJ0VFSCWS8",
    "slideshow": {
     "slide_type": "slide"
    }
   },
   "source": [
    "### Task\n",
    "- Create new code cells below (with the \"+ code\" button).  You'll need 5 new cells for each of the below steps.  Then, copy and paste the relevant code (from above) into the new cells to do the following. \n",
    "    1. Your first new cell will create a new turtle with a pond somewhere (you choose).  You'll be copying the code from the cell with `my_location` and `turtle = ...`\n",
    "    \n",
    "       Set the `my_location` variable to where you want, as long as it stays on the grid.  For instance, you could choose (2,8) as your new location.   \n",
    "        \n",
    "    2. Your second new cell will show the turtle's starting position\n",
    "    3. Your third new cell will start a new journey\n",
    "    4. Your fourth new cell will do some movements\n",
    "    5. Your fifth new cell will create the animation with `turtle.watch_me_move()`\n",
    "    \n",
    "### Task: Update your movements so that the turtle reaches the pond!\n",
    "- That is, the final move of the turtle should land it in the pond\n",
    "- NOTE that you will need to run all 5 cells in order (if you don't, then the movements will keep piling on top of each other)"
   ]
  },
  {
   "cell_type": "code",
   "execution_count": null,
   "id": "0c23deda",
   "metadata": {},
   "outputs": [],
   "source": []
  },
  {
   "cell_type": "markdown",
   "id": "10ad2d44",
   "metadata": {},
   "source": [
    "### Labs will sometimes include \"Advanced Tasks\" which are just there for extra exploration or to hint at future topics.  They are not required skills for completing the weekly homework\n"
   ]
  },
  {
   "cell_type": "markdown",
   "id": "xiVJ0VFSCWS8",
   "metadata": {
    "id": "xiVJ0VFSCWS8",
    "slideshow": {
     "slide_type": "slide"
    }
   },
   "source": [
    "### Advanced Task\n",
    "- Add new cells to your notebook, to do the following\n",
    "- Place the pond in a new location, `(5,4)`\n",
    "- Move your turtle to the pond, and then back to the starting location `(0,0)`"
   ]
  },
  {
   "cell_type": "code",
   "execution_count": null,
   "id": "5b6191d6",
   "metadata": {},
   "outputs": [],
   "source": []
  },
  {
   "cell_type": "markdown",
   "id": "6add89a2",
   "metadata": {
    "slideshow": {
     "slide_type": "slide"
    }
   },
   "source": [
    "### Advanced Task\n",
    "- Add a new parameter to `turtle_generator( )` to change the starting location of the turtle\n",
    "    - This parameter is called `start_location`\n",
    "    - So, try adding `start_location=(8,2)` inside the parentheses for `turtle_generator( )`\n",
    "    \n",
    "    \n",
    "- Visualize this with `turtle.show_starting_position()`\n",
    "- Then, move your turtle to the pond from this new starting position"
   ]
  },
  {
   "cell_type": "markdown",
   "id": "b04a3266",
   "metadata": {
    "slideshow": {
     "slide_type": "slide"
    }
   },
   "source": [
    "### Advanced Task\n",
    "- Give `turtle_generator( )` a new parameter called `number_of_turtles`.  \n",
    "- Set the number of turtles to 2 or 3\n",
    "- Then, when you call `move_left()`, `move_right()`, `move_up()`, or `move_down()` you'll have to specify which turtle.  So, you'll want to instead use commands like `move_left(which_turtle=0)`, `move_left(which_turtle=1)`, or `move_left(which_turtle=2)`\n",
    "- Move all of your turtles to the pond.\n",
    "\n",
    "### You can get even fancier and draw multi-colored patterns with commands like \n",
    "### `move_left(which_turtle=0, leave_trail=True)`\n",
    "### Try creating trails with all of your turtles.  Draw a multicolored pattern."
   ]
  },
  {
   "cell_type": "code",
   "execution_count": null,
   "id": "22d6534f",
   "metadata": {},
   "outputs": [],
   "source": []
  }
 ],
 "metadata": {
  "celltoolbar": "Slideshow",
  "colab": {
   "provenance": []
  },
  "kernelspec": {
   "display_name": "Python 3 (ipykernel)",
   "language": "python",
   "name": "python3"
  },
  "language_info": {
   "codemirror_mode": {
    "name": "ipython",
    "version": 3
   },
   "file_extension": ".py",
   "mimetype": "text/x-python",
   "name": "python",
   "nbconvert_exporter": "python",
   "pygments_lexer": "ipython3",
   "version": "3.10.8"
  },
  "rise": {
   "center": false
  },
  "vp": {
   "vp_config_version": "1.0.0",
   "vp_menu_width": 273,
   "vp_note_display": false,
   "vp_note_width": 0,
   "vp_position": {
    "width": 278
   },
   "vp_section_display": false,
   "vp_signature": "VisualPython"
  }
 },
 "nbformat": 4,
 "nbformat_minor": 5
}
