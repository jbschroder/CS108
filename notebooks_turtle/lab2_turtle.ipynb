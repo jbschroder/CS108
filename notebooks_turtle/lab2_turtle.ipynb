{
 "cells": [
  {
   "cell_type": "markdown",
   "id": "f2a7e94e",
   "metadata": {
    "id": "12eec2b8",
    "slideshow": {
     "slide_type": "slide"
    }
   },
   "source": [
    "## Turtle Lab 2: Move turtle to pond\n",
    "\n",
    "### Learning Goals\n",
    "1. Review how to create a turtle object\n",
    "    - Objects are special variables, with specialized capabilities, like the ability to draw a turtle\n",
    "    - These capabilities are accessed through functions\n",
    "    "
   ]
  },
  {
   "cell_type": "markdown",
   "id": "9619078b",
   "metadata": {
    "id": "12eec2b8",
    "slideshow": {
     "slide_type": "slide"
    }
   },
   "source": [
    "### Learning Goals\n",
    "2. Learn how to access more of these specialized capabilities\n",
    "    - You will do this by giving **extra** information to the functions that create and move the turtles\n",
    "    - This **extra** information is called **a parameter**\n",
    "    - So, we call this **passing a parameter** to a function\n",
    "    \n",
    "      In other words, a parameter is just a fancy word for a value that you give a function, telling that function what you want.  Here, we will tell `turtle_generator()` to give us a pond and to change the starting location of the turtle"
   ]
  },
  {
   "cell_type": "markdown",
   "id": "12eec2b8",
   "metadata": {
    "id": "12eec2b8",
    "slideshow": {
     "slide_type": "fragment"
    }
   },
   "source": [
    "3. Learn how to plan a route for your turtle and implement it\n",
    "    - Start thinking algorithmically: plan a route and then implement it"
   ]
  },
  {
   "cell_type": "markdown",
   "id": "HOFo2PXSHRik",
   "metadata": {
    "id": "HOFo2PXSHRik",
    "slideshow": {
     "slide_type": "slide"
    }
   },
   "source": [
    "But, we have some **house cleaning** to do before we can start.  \n",
    "1. We have to download some code(`turtle_generator.py`) to define how our turtle can move around"
   ]
  },
  {
   "cell_type": "code",
   "execution_count": null,
   "id": "1lbHzEii-tqD",
   "metadata": {
    "executionInfo": {
     "elapsed": 1968,
     "status": "ok",
     "timestamp": 1695423133937,
     "user": {
      "displayName": "Jacob Schroder",
      "userId": "01251390844616463510"
     },
     "user_tz": 360
    },
    "id": "1lbHzEii-tqD",
    "slideshow": {
     "slide_type": "-"
    }
   },
   "outputs": [],
   "source": [
    "from urllib.request import urlretrieve\n",
    "(file, message) = urlretrieve('https://raw.githubusercontent.com/jbschroder/CS108/main/notebooks_turtle/turtle_generator.py', 'turtle_generator.py')\n",
    "print(\"You downloaded the file \" + file)"
   ]
  },
  {
   "cell_type": "markdown",
   "id": "c2ee229b",
   "metadata": {
    "slideshow": {
     "slide_type": "slide"
    }
   },
   "source": [
    "2. Our second **house cleaning** task is to pull the `turtle_generator` code into this notebook.\n",
    "\n",
    "   To do that, we `import` the `turtle_generator` code.\n",
    "      \n",
    "   This is the code that describes how to draw and move our turtle."
   ]
  },
  {
   "cell_type": "code",
   "execution_count": null,
   "id": "d407b2eb",
   "metadata": {
    "slideshow": {
     "slide_type": "-"
    }
   },
   "outputs": [],
   "source": [
    "from turtle_generator import turtle_generator"
   ]
  },
  {
   "cell_type": "markdown",
   "id": "tJd1f-AsDU7w",
   "metadata": {
    "id": "tJd1f-AsDU7w",
    "slideshow": {
     "slide_type": "slide"
    }
   },
   "source": [
    "### Now, we can get started with our lab!\n",
    "\n",
    "First, we have to create a new turtle.\n",
    "But, we now give `turtle_generator()` a parameter telling it to give us a pond\n",
    "- This is what the parentheses do.  They let us group together commands that direct `turtle_generator`.  \n",
    "- Putting the right commands inside the parentheses will let us do lots of things, like draw a pond and a maze."
   ]
  },
  {
   "cell_type": "code",
   "execution_count": null,
   "id": "gzGiw8zO2JH4",
   "metadata": {
    "executionInfo": {
     "elapsed": 123,
     "status": "ok",
     "timestamp": 1695403005582,
     "user": {
      "displayName": "Jacob Schroder",
      "userId": "01251390844616463510"
     },
     "user_tz": 360
    },
    "id": "gzGiw8zO2JH4",
    "slideshow": {
     "slide_type": "-"
    }
   },
   "outputs": [],
   "source": [
    "turtle = turtle_generator( pond_location=(12,12) )"
   ]
  },
  {
   "cell_type": "markdown",
   "id": "b9a3a818",
   "metadata": {
    "slideshow": {
     "slide_type": "slide"
    }
   },
   "source": [
    "### Next, we just take a look at our turtle and where it is, and we find that there's a new pond!"
   ]
  },
  {
   "cell_type": "code",
   "execution_count": null,
   "id": "21a2d4aa",
   "metadata": {
    "id": "eol71fSR2JIA",
    "slideshow": {
     "slide_type": "-"
    }
   },
   "outputs": [],
   "source": [
    "turtle.show_starting_position()"
   ]
  },
  {
   "cell_type": "markdown",
   "id": "72fb9679",
   "metadata": {
    "slideshow": {
     "slide_type": "slide"
    }
   },
   "source": [
    "### Check: can you see a picture above of a turtle on a grid?  Is there a pond there?  Is the pond at location `(12,12)`?"
   ]
  },
  {
   "cell_type": "markdown",
   "id": "347d003b",
   "metadata": {
    "slideshow": {
     "slide_type": "slide"
    }
   },
   "source": [
    "### Task: What would happen if we instead used `pond_location=(3,5)`?  \n",
    "\n",
    "\n",
    "Where on the screen would the pond appear?\n",
    "\n"
   ]
  },
  {
   "cell_type": "markdown",
   "id": "d405acc3",
   "metadata": {
    "slideshow": {
     "slide_type": "slide"
    }
   },
   "source": [
    "### Next, we have to tell our turtle to get ready for a trip with `turtle.start_new_journey()`"
   ]
  },
  {
   "cell_type": "code",
   "execution_count": null,
   "id": "-aJ40yY22JIA",
   "metadata": {
    "id": "-aJ40yY22JIA",
    "slideshow": {
     "slide_type": "-"
    }
   },
   "outputs": [],
   "source": [
    "turtle.start_new_journey()"
   ]
  },
  {
   "cell_type": "markdown",
   "id": "5oWR6nSc2JIA",
   "metadata": {
    "id": "5oWR6nSc2JIA",
    "slideshow": {
     "slide_type": "slide"
    }
   },
   "source": [
    "### Next, tell your turtle where to move!\n",
    "\n",
    "We start moving the turtle towards the pond"
   ]
  },
  {
   "cell_type": "code",
   "execution_count": null,
   "id": "isBNsWXE2JIA",
   "metadata": {
    "id": "isBNsWXE2JIA",
    "slideshow": {
     "slide_type": "-"
    }
   },
   "outputs": [],
   "source": [
    "turtle.move_up()\n",
    "turtle.move_right()\n",
    "\n",
    "turtle.move_up()\n",
    "turtle.move_right()\n",
    "\n",
    "turtle.move_up()\n",
    "turtle.move_right()\n",
    "\n",
    "turtle.move_up()\n",
    "turtle.move_right()\n",
    "\n",
    "turtle.move_up()\n",
    "turtle.move_right()"
   ]
  },
  {
   "cell_type": "markdown",
   "id": "aOkgDURU2JIA",
   "metadata": {
    "id": "aOkgDURU2JIA",
    "slideshow": {
     "slide_type": "slide"
    }
   },
   "source": [
    "### Finally, we look at the turtle moving"
   ]
  },
  {
   "cell_type": "code",
   "execution_count": null,
   "id": "EbdqRC202JIA",
   "metadata": {
    "colab": {
     "base_uri": "https://localhost:8080/",
     "height": 658
    },
    "executionInfo": {
     "elapsed": 3758,
     "status": "ok",
     "timestamp": 1695397640792,
     "user": {
      "displayName": "Jacob Schroder",
      "userId": "01251390844616463510"
     },
     "user_tz": 360
    },
    "id": "EbdqRC202JIA",
    "outputId": "fddd648e-b50e-482d-c2b6-868f3739a003",
    "slideshow": {
     "slide_type": "-"
    }
   },
   "outputs": [],
   "source": [
    "turtle.watch_me_move()"
   ]
  },
  {
   "cell_type": "markdown",
   "id": "3df545a5",
   "metadata": {
    "slideshow": {
     "slide_type": "slide"
    }
   },
   "source": [
    "### Task\n",
    "- Make sure you remember how to play the animation and see your turtle move"
   ]
  },
  {
   "cell_type": "markdown",
   "id": "c9a79157",
   "metadata": {
    "id": "xiVJ0VFSCWS8",
    "slideshow": {
     "slide_type": "slide"
    }
   },
   "source": [
    "### Task\n",
    "- Create your own notebook, copying over the important parts of this notebook\n",
    "- Then add new turtle movements so that your turtle reaches the pond\n",
    "    - That is, the final move of the turtle should land it in the pond"
   ]
  },
  {
   "cell_type": "markdown",
   "id": "xiVJ0VFSCWS8",
   "metadata": {
    "id": "xiVJ0VFSCWS8",
    "slideshow": {
     "slide_type": "slide"
    }
   },
   "source": [
    "### Advanced Task -- Not Required for Homework\n",
    "- Add new cells to your notebook, or create a new notebook, to do the following\n",
    "- Place the pond in a new location, `(5,4)`\n",
    "- Move your turtle to the pond, and then back to the starting location `(0,0)`"
   ]
  },
  {
   "cell_type": "markdown",
   "id": "b04a3266",
   "metadata": {
    "slideshow": {
     "slide_type": "slide"
    }
   },
   "source": [
    "### Advanced Task -- Not Required for Homework\n",
    "- Add a new parameter to `turtle_generator( )` to change the starting location of the turtle\n",
    "    - This parameter is called `start_location`\n",
    "    - So, try adding `start_location=(8,2)` inside the parentheses for `turtle_generator( )`\n",
    "    \n",
    "    \n",
    "- Visualize this with `turtle.show_starting_position()`\n",
    "\n",
    "If you're ambitious, try starting your turtle, so that it's already in the pond!\n"
   ]
  }
 ],
 "metadata": {
  "celltoolbar": "Slideshow",
  "colab": {
   "provenance": []
  },
  "kernelspec": {
   "display_name": "Python 3 (ipykernel)",
   "language": "python",
   "name": "python3"
  },
  "language_info": {
   "codemirror_mode": {
    "name": "ipython",
    "version": 3
   },
   "file_extension": ".py",
   "mimetype": "text/x-python",
   "name": "python",
   "nbconvert_exporter": "python",
   "pygments_lexer": "ipython3",
   "version": "3.10.8"
  },
  "rise": {
   "center": false
  },
  "vp": {
   "vp_config_version": "1.0.0",
   "vp_menu_width": 273,
   "vp_note_display": false,
   "vp_note_width": 0,
   "vp_position": {
    "width": 278
   },
   "vp_section_display": false,
   "vp_signature": "VisualPython"
  }
 },
 "nbformat": 4,
 "nbformat_minor": 5
}
