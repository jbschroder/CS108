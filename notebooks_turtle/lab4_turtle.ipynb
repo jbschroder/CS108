{
 "cells": [
  {
   "cell_type": "markdown",
   "id": "04e10cf8",
   "metadata": {
    "slideshow": {
     "slide_type": "slide"
    }
   },
   "source": [
    "## Turtle Lab 4: More if/else and Using if/else to move the turtle\n",
    "Lecture file: `04_Condtionals_Part1.ipynb`"
   ]
  },
  {
   "cell_type": "markdown",
   "id": "762c147f",
   "metadata": {
    "slideshow": {
     "slide_type": "slide"
    }
   },
   "source": [
    "### Learning Goals \n",
    "\n",
    "1. More on if/else statements\n",
    "    - Statements with if/else are called **conditionals**\n",
    "    - If some **condition** is met (like `x` is bigger than 5), then do something\n",
    "    - if statements let you control your code by comparing values \n",
    "    \n",
    "      --> if your comparison between two values is True, then execute some particular code\n",
    "      \n",
    "      --> if your comparison between two values if False, then execute some other code"
   ]
  },
  {
   "cell_type": "markdown",
   "id": "5b21dfb0",
   "metadata": {
    "slideshow": {
     "slide_type": "slide"
    }
   },
   "source": [
    "2. Learn about using these various conditionals\n",
    "    - Less than `<`\n",
    "    - Greater than `>`\n",
    "    - Less than or equal to `<=`\n",
    "    - Greater than or equal to `>=`\n",
    "    - Is Equal `==`  \n",
    "      \n",
    "      Use of `==` compares two values, asks if they are equal.  \n",
    "    \n",
    "      This is completely different than `=`, which gives a value to something.\n",
    "      \n",
    "      `x = 4` gives the value of `4` to `x`\n",
    "\n",
    "      `if x == 4:`  asks whether `x` is equal to `4`\n",
    "      "
   ]
  },
  {
   "cell_type": "markdown",
   "id": "61b74318",
   "metadata": {
    "slideshow": {
     "slide_type": "slide"
    }
   },
   "source": [
    "3. **Use conditionals to control your turtle**\n",
    "    - Based on a variable (like `x`), decide how to move your turtle\n",
    "    - For instance, if `x` is less than `4`, then move the turtle right"
   ]
  },
  {
   "cell_type": "markdown",
   "id": "HOFo2PXSHRik",
   "metadata": {
    "id": "HOFo2PXSHRik",
    "slideshow": {
     "slide_type": "slide"
    }
   },
   "source": [
    "###  First\n",
    "\n",
    "We have some **house cleaning** to do before we can start.\n",
    "1. We download some code(`turtle_generator.py`) to define how our turtle can move around\n",
    "2. We pull the `turtle_generator` code into this notebook with an `import` command"
   ]
  },
  {
   "cell_type": "code",
   "execution_count": null,
   "id": "a7356955",
   "metadata": {
    "slideshow": {
     "slide_type": "-"
    }
   },
   "outputs": [],
   "source": [
    "# House cleaning part 1\n",
    "from urllib.request import urlretrieve\n",
    "(file, message) = urlretrieve('https://raw.githubusercontent.com/jbschroder/CS108/main/notebooks_turtle/turtle_generator.py', 'turtle_generator.py')\n",
    "print(\"You downloaded the file \" + file)\n",
    "\n",
    "# House cleaning part 2\n",
    "from turtle_generator import turtle_generator"
   ]
  },
  {
   "cell_type": "markdown",
   "id": "c8ed064c",
   "metadata": {
    "slideshow": {
     "slide_type": "slide"
    }
   },
   "source": [
    "### Using what you learned in the lecture video, you will now experiment with if statements (conditionals)\n",
    "\n",
    "### An *If Statement* makes a comparison with the variable\n",
    "1. If the comparison is **true**, all **indented lines** under the if statement are executed\n",
    "2. We now use comparisons (<, >, <=, >=, ==) to make decisions.\n",
    "\n",
    "   See above for the definitions of these comparisons\n",
    "\n",
    "### Task: Change `number` to other values (some negative, some positive).  Run the below cell each time you change `number`\n",
    "   - Observe the output, that is see what message is printed to the screen.\n",
    "   - Do you understand how your choice of `number` is controlling what is printed to the screen?"
   ]
  },
  {
   "cell_type": "code",
   "execution_count": null,
   "id": "fcbcabd1",
   "metadata": {
    "slideshow": {
     "slide_type": "-"
    }
   },
   "outputs": [],
   "source": [
    "number = 5\n",
    "if (number >= 0):\n",
    "    print(\"This number is non-negative\")"
   ]
  },
  {
   "cell_type": "markdown",
   "id": "c4972e94",
   "metadata": {},
   "source": [
    "### The conditional `<=` can be used to determine if one variable is less than or equal to another\n",
    "\n",
    "\n",
    "### Task: Change `number` to other values (some negative, some positive).  Run the below cell each time you change `number`\n",
    "   - Observe the output, that is see what message is printed to the screen.\n",
    "   - Do you understand how your choice of `number` is controlling what is printed to the screen?"
   ]
  },
  {
   "cell_type": "code",
   "execution_count": null,
   "id": "419a7039",
   "metadata": {},
   "outputs": [],
   "source": [
    "number = -1\n",
    "if (number <= 0):\n",
    "    print(\"This number is non-positive\")"
   ]
  },
  {
   "cell_type": "markdown",
   "id": "a0fb3394",
   "metadata": {},
   "source": [
    "### Task: Use the \"+ Code\" button to create three new code cells below\n",
    "1. In the first new code cell, copy and paste the above cell that creates `number` and uses an if statement to test if `number` is non-positive.\n",
    "    - Then change the `<=` to be a strictly less-than symbol `<`\n",
    "    - That is, use the `<` symbol in your first new cell (don't use `<=`)\n",
    "    - Then change the print statement to be accurate, say something like the number is negative.\n",
    "    - Lastly, test your new cell by choosing zero, negative, and positive values for number\n",
    "    \n",
    "2. Repeat Task 1 in the second new code cell for the `>` symbol\n",
    "3. Repeat Task 1 in the third new code cell for the `==` symbol"
   ]
  },
  {
   "cell_type": "markdown",
   "id": "de9d996c",
   "metadata": {},
   "source": [
    "### Now, we can get started with the turtle part of the lab!\n",
    "\n",
    "First, we create a new turtle \n",
    "- We use the _maze_ parameter again\n",
    "- Remember, that we can give `turtle_generator()` values inside the parentheses that tell `turtle_generator()` what to do\n",
    "- This is the essence of a **parameter**, values that you give something (like `turtle_generator()`) that tell it what to do\n",
    "\n",
    "Second, at the bottom of the cell, we take a look at our turtle and find that it's at location `(0,0)`, with a simple maze and pond"
   ]
  },
  {
   "cell_type": "code",
   "execution_count": null,
   "id": "8d6d3832",
   "metadata": {
    "id": "eol71fSR2JIA",
    "scrolled": false,
    "slideshow": {
     "slide_type": "-"
    }
   },
   "outputs": [],
   "source": [
    "my_maze = 1\n",
    "turtle = turtle_generator( maze_number=my_maze )\n",
    "\n",
    "turtle.show_starting_position()"
   ]
  },
  {
   "cell_type": "markdown",
   "id": "3f1f1c15",
   "metadata": {
    "slideshow": {
     "slide_type": "slide"
    }
   },
   "source": [
    "### Next, we have to tell our turtle to get ready for a trip with `turtle.start_new_journey()`"
   ]
  },
  {
   "cell_type": "code",
   "execution_count": null,
   "id": "-aJ40yY22JIA",
   "metadata": {
    "id": "-aJ40yY22JIA"
   },
   "outputs": [],
   "source": [
    "turtle.start_new_journey()"
   ]
  },
  {
   "cell_type": "markdown",
   "id": "bbf79546",
   "metadata": {
    "slideshow": {
     "slide_type": "subslide"
    }
   },
   "source": [
    "### For the turtle portion of the lab, we will now use conditionals to control the turtle movement\n",
    "\n",
    "\n",
    "### Task:  Run the below two cells\n",
    "- Make sure you run both the cell with `number = ...` and the cell with  `turtle.watch_me_move()`\n",
    "\n",
    "#### What happens?  Why doesn't the turtle move when you press play?\n",
    "\n",
    "#### Go back, and change `number` to be something negative, and then run both cells again\n",
    "- Make sure you run both the cell with `number = ...` and the cell with  `turtle.watch_me_move()`\n",
    "\n",
    "#### What happens?  Why does the turtle move one square this time?"
   ]
  },
  {
   "cell_type": "code",
   "execution_count": null,
   "id": "6a30e176",
   "metadata": {},
   "outputs": [],
   "source": [
    "number = 42\n",
    "if (number <= 0):\n",
    "    turtle.move_right()"
   ]
  },
  {
   "cell_type": "code",
   "execution_count": null,
   "id": "fc08fc74",
   "metadata": {
    "scrolled": false
   },
   "outputs": [],
   "source": [
    "turtle.watch_me_move()"
   ]
  },
  {
   "cell_type": "markdown",
   "id": "1319f490",
   "metadata": {},
   "source": [
    "### Task 1: With a negative `number`, run the above two code cells three-times\n",
    "- How many squares does the turtle move eacy time you run the above two cells?\n",
    "- Does the turtle have memory?  \n",
    "\n",
    "### Task 2: Insert a text cell below with the \"+ Text\" button and describe with one or two sentences what you think about the turtle's memory."
   ]
  },
  {
   "cell_type": "markdown",
   "id": "6b1ab3a4",
   "metadata": {
    "slideshow": {
     "slide_type": "subslide"
    }
   },
   "source": [
    "### Conditionals can also be used to compare variables\n",
    "\n",
    "### Task: Change `x` and `y` to other values.  Run the below cell each time you change `x` and `y`\n",
    "   - Choose some cases where `x` is smaller and some cases where `y` is smaller\n",
    "   - Observe the output.  Are you able to move the turtle more and more to the right?\n"
   ]
  },
  {
   "cell_type": "code",
   "execution_count": null,
   "id": "3d4c5029",
   "metadata": {
    "scrolled": false
   },
   "outputs": [],
   "source": [
    "x = 5\n",
    "y = 3\n",
    "if (y <= x):\n",
    "    turtle.move_right()\n",
    "\n",
    "turtle.watch_me_move()"
   ]
  },
  {
   "cell_type": "markdown",
   "id": "2ac19f31",
   "metadata": {},
   "source": [
    "### Next, we will restart our journey, which deletes all the previous moves\n",
    "- This deletes the turtle's memory"
   ]
  },
  {
   "cell_type": "code",
   "execution_count": null,
   "id": "1ab7dbd7",
   "metadata": {
    "id": "-aJ40yY22JIA"
   },
   "outputs": [],
   "source": [
    "turtle.start_new_journey()"
   ]
  },
  {
   "cell_type": "markdown",
   "id": "013d8d2b",
   "metadata": {
    "slideshow": {
     "slide_type": "subslide"
    }
   },
   "source": [
    "### Now, we will use conditionals to control more movement of the turtle\n",
    "\n",
    "### Task: Change `x` and `y` to values that will move your turtle to the right and also up.  \n",
    "\n",
    "#### Run the below cell each time you change `x` and `y`\n",
    "   - You need to choose `y` smaller than `x` to move one square to the right (`y < x`)\n",
    "   - You need to choose `x` smaller than `y` to move one square to the left (`y > x`)\n",
    "   - You need to choose `x` equal to `y` to move one square up (`y == x`)\n",
    "\n",
    "#### Notice that each time you run the cell, you keep making the turtle do one more more.\n",
    "   - For example, if you chose `y < x` four times in a row (and run the cell 4 times), then the turtle would move four squares to the right.\n"
   ]
  },
  {
   "cell_type": "code",
   "execution_count": null,
   "id": "6454b1ac",
   "metadata": {
    "scrolled": false
   },
   "outputs": [],
   "source": [
    "x = 5\n",
    "y = 3\n",
    "if (y < x):\n",
    "    turtle.move_right()\n",
    "elif (y > x):\n",
    "    turtle.move_left()\n",
    "elif (y == x):\n",
    "    turtle.move_up()\n",
    "    \n",
    "turtle.watch_me_move()"
   ]
  },
  {
   "cell_type": "markdown",
   "id": "cbff7a15",
   "metadata": {},
   "source": [
    "### Advanced Task 1\n",
    "- Go back and run `turtle.start_new_journey()`\n",
    "    - This will delete all previous moves\n",
    "    - This deletes the turtle's memory\n",
    "    \n",
    "    \n",
    "- Then run the cell directly above with `x` and `y` and the turtle movements many times\n",
    "    - But change `x` and `y` so that you stay within the maze and reach the pond\n",
    "    - For example, if you run the above cell four times with `y` and `x` values such that `y` is smaller than `x` (`y < x`), then you will move the turtle four sqaures to the right. \n",
    "    - You could then choose `x` and `y` that are equal to move up, and so on, navigating the maze!\n",
    "    \n",
    "    \n",
    "### Learning Goal: Observe how you are \"driving\" the turtle by choosing different `x` and `y` values, and then running the cell, so that the turtle turns right and up, to navigate the maze.  In the future, we will want to further automate this, and have the computer choose which way to turn, rather than you."
   ]
  },
  {
   "cell_type": "markdown",
   "id": "9c5ca1f6",
   "metadata": {},
   "source": [
    "### Advanced Task 2\n",
    "- Repeat the above for `my_maze = 2`\n",
    "- If you want an extra challenge, look at the `for` loop example for quickly doing repeat movements from lab 3.  Use that approach for maze 2.  \n",
    "    - You can insert these for loops inside (indented under) the `if` and `elif` statements.\n",
    "    - That is, for each execution (run) of a cell, you would move your turtle mutliple times\n",
    "\n",
    "           for i in range(4):\n",
    "               turtle.move_down()\n",
    "\n",
    "### Question:\n",
    "- Try to move your turtle off of the grid. What happens?\n",
    "\n",
    "\n",
    "### Advanced Task 3\n",
    "- Repeat Task 2, but for `my_maze = 3`\n"
   ]
  },
  {
   "cell_type": "code",
   "execution_count": null,
   "id": "ca28790d",
   "metadata": {},
   "outputs": [],
   "source": []
  }
 ],
 "metadata": {
  "celltoolbar": "Slideshow",
  "kernelspec": {
   "display_name": "Python 3 (ipykernel)",
   "language": "python",
   "name": "python3"
  },
  "language_info": {
   "codemirror_mode": {
    "name": "ipython",
    "version": 3
   },
   "file_extension": ".py",
   "mimetype": "text/x-python",
   "name": "python",
   "nbconvert_exporter": "python",
   "pygments_lexer": "ipython3",
   "version": "3.10.8"
  }
 },
 "nbformat": 4,
 "nbformat_minor": 5
}
