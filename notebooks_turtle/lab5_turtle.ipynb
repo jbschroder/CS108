{
 "cells": [
  {
   "cell_type": "markdown",
   "id": "d455074e",
   "metadata": {
    "slideshow": {
     "slide_type": "slide"
    }
   },
   "source": [
    "## Turtle Lab 5: Advanced if/else and advanced if/else to move the turtle\n",
    "Lecture file: `04_Condtionals_Part2.ipynb`"
   ]
  },
  {
   "cell_type": "markdown",
   "id": "be5f3cf5",
   "metadata": {
    "slideshow": {
     "slide_type": "slide"
    }
   },
   "source": [
    "### Learning Goals \n",
    "\n",
    "1. Review if/else statements\n",
    "    - Statements with if/else are called **conditionals**\n",
    "    - If some **condition** is met (like `x` is smaller than -2), then do something\n",
    "    \n",
    "    - You these comparison operations to test for `conditions`\n",
    "        - Less than `<`\n",
    "        - Greater than `>`\n",
    "        - Less than or equal to `<=`\n",
    "        - Greater than or equal to `>=`\n",
    "        - Is Equal `==`    \n",
    " \n",
    "    - Remember: if statements let you control your code by comparing values \n",
    "        - if your comparison between two values is True, then execute some particular code\n",
    "        - if your comparison between two values if False, then execute some other code       "
   ]
  },
  {
   "cell_type": "markdown",
   "id": "df0580e8",
   "metadata": {
    "slideshow": {
     "slide_type": "slide"
    }
   },
   "source": [
    "2. Learn how to use `not` inside a conditional  \n",
    "    - `not` allows you to test for things that are not true\n",
    "    - For example, `if (not number == 0):` will let you run code if `number` is not 0"
   ]
  },
  {
   "cell_type": "markdown",
   "id": "61b74318",
   "metadata": {
    "slideshow": {
     "slide_type": "slide"
    }
   },
   "source": [
    "3. Use more advanced conditionals to control your turtle\n",
    "    - Use variables that are strings to control your turtle\n",
    "    - Remember a string is just letters and words\n",
    "    - So, we will move our turtle with statements like\n",
    "    \n",
    "           if move == 'left':\n",
    "               turtle.move_up()\n"
   ]
  },
  {
   "cell_type": "markdown",
   "id": "HOFo2PXSHRik",
   "metadata": {
    "id": "HOFo2PXSHRik",
    "slideshow": {
     "slide_type": "slide"
    }
   },
   "source": [
    "###  First\n",
    "\n",
    "We have some **house cleaning** to do before we can start.\n",
    "1. We download some code(`turtle_generator.py`) to define how our turtle can move around\n",
    "2. We pull the `turtle_generator` code into this notebook with an `import` command"
   ]
  },
  {
   "cell_type": "code",
   "execution_count": null,
   "id": "a7356955",
   "metadata": {
    "slideshow": {
     "slide_type": "-"
    }
   },
   "outputs": [],
   "source": [
    "# House cleaning part 1\n",
    "from urllib.request import urlretrieve\n",
    "(file, message) = urlretrieve('https://raw.githubusercontent.com/jbschroder/CS108/main/notebooks_turtle/turtle_generator.py', 'turtle_generator.py')\n",
    "print(\"You downloaded the file \" + file)\n",
    "\n",
    "# House cleaning part 2\n",
    "from turtle_generator import turtle_generator"
   ]
  },
  {
   "cell_type": "markdown",
   "id": "c8ed064c",
   "metadata": {
    "slideshow": {
     "slide_type": "slide"
    }
   },
   "source": [
    "### Using what you learned in the lecture video, you will now experiment with more advanced if statements (conditionals)\n",
    "\n",
    "### Task: Change `number` to other values (some negative, some positive, some 0).  Run the below cell each time you change `number`\n",
    "   - Observe the output, that is see what message is printed to the screen.\n",
    "   - Do you understand how your choice of `number` is controlling what is printed to the screen?"
   ]
  },
  {
   "cell_type": "code",
   "execution_count": null,
   "id": "fcbcabd1",
   "metadata": {
    "slideshow": {
     "slide_type": "-"
    }
   },
   "outputs": [],
   "source": [
    "number = 5\n",
    "if (not number == 0):\n",
    "    print(\"This number is not zero!\")"
   ]
  },
  {
   "cell_type": "markdown",
   "id": "dde45491",
   "metadata": {
    "slideshow": {
     "slide_type": "slide"
    }
   },
   "source": [
    "### Task: Change `z` to other values (some negative, some positive, some 0).  Run the below cell each time you change `z`\n",
    "   - Observe the output, that is see what message is printed to the screen.\n",
    "   - Do you understand how your choice of `z` is controlling what is printed to the screen?\n",
    "   \n",
    "   \n",
    "### Note, we are changing the variable name from `number` to `z`.  But, this doesn't affect Python.  You can name variables anything."
   ]
  },
  {
   "cell_type": "code",
   "execution_count": null,
   "id": "3b43f70f",
   "metadata": {
    "slideshow": {
     "slide_type": "-"
    }
   },
   "outputs": [],
   "source": [
    "z = 5\n",
    "if (not z >= 0):\n",
    "    print(\"This number is NOT greater than zero!\")\n",
    "else:\n",
    "    print(\"This number is greater than zero!\")"
   ]
  },
  {
   "cell_type": "markdown",
   "id": "d3e8fd7f",
   "metadata": {},
   "source": [
    "### Task: Create a new code cell below with the \"+ Code\" button\n",
    "   - In this new code cell do the following\n",
    "   - Create a variable that holds a number\n",
    "   - Then print a conditional to the screen, that is you can do something like\n",
    "   \n",
    "          print(number > 0)\n",
    "          \n",
    "     This will print `True` or `False`, representing the evaluation (or truth) of the conditional"
   ]
  },
  {
   "cell_type": "markdown",
   "id": "3e86c62c",
   "metadata": {
    "slideshow": {
     "slide_type": "slide"
    }
   },
   "source": [
    "### You can also do conditionals with words and letters (that is, conditionals with strings)\n",
    "   - Remember that a string is just a variable that holds a collection of letters, words, punctuation, sentences, and so on.  \n",
    "   - Strings are always created with quotation marks, like the `direction` variable below\n",
    "\n",
    "### Task: Change the variable `direction` to other values (`'left'`, `'right'`, `'up'`, `'down'`)\n",
    "   - Observe the output, that is see what message is printed to the screen.\n",
    "   - Do you understand how your choice of `direction` is controlling what is printed to the screen?"
   ]
  },
  {
   "cell_type": "code",
   "execution_count": null,
   "id": "36e65c14",
   "metadata": {
    "slideshow": {
     "slide_type": "-"
    }
   },
   "outputs": [],
   "source": [
    "direction = 'left'\n",
    "if (direction == 'left'):\n",
    "    print(\"We want to move LEFT\") \n",
    "elif (direction == 'right'):\n",
    "    print(\"We want to move RIGHT\") "
   ]
  },
  {
   "cell_type": "markdown",
   "id": "4edc1f93",
   "metadata": {},
   "source": [
    "### Task: Go to the cell directly above, and add 4 new lines of code for moving down and for moving up\n",
    "- You want to allow for `direction` to equal `down` and for `direction` to equal `up`\n",
    "- You'll want to take the two lines for `right`, copy and paste them, but change things so that `direction` can now equal `down`\n",
    "    - Repeat for the direction up\n",
    "\n",
    "### Run the above cell for all four cases\n",
    "   - `direction = 'left'`\n",
    "   - `direction = 'right'`\n",
    "   - `direction = 'down'`\n",
    "   - `direction = 'up'`\n",
    "\n",
    "You should see the corresponding print statement for all four directions.\n",
    "\n",
    "If you're unsure about any of this, please ask!"
   ]
  },
  {
   "cell_type": "markdown",
   "id": "77201c1c",
   "metadata": {},
   "source": [
    "### Now, we can get started with the turtle part of the lab!\n",
    "\n",
    "First, we create a new turtle \n",
    "- We use the _maze_ parameter again\n",
    "- Remember, that we can give `turtle_generator()` values inside the parentheses that tell `turtle_generator()` what to do\n",
    "- This is the essence of a **parameter**, values that you give something (like `turtle_generator()`) that tell it what to do\n",
    "\n",
    "Second, at the bottom of the cell, we take a look at our turtle and find that it's at location `(0,0)`, with a simple maze and pond"
   ]
  },
  {
   "cell_type": "code",
   "execution_count": null,
   "id": "8d6d3832",
   "metadata": {
    "id": "eol71fSR2JIA",
    "scrolled": false,
    "slideshow": {
     "slide_type": "-"
    }
   },
   "outputs": [],
   "source": [
    "my_maze = 1\n",
    "turtle = turtle_generator( maze_number=my_maze )\n",
    "\n",
    "turtle.show_starting_position()"
   ]
  },
  {
   "cell_type": "markdown",
   "id": "3f1f1c15",
   "metadata": {
    "slideshow": {
     "slide_type": "slide"
    }
   },
   "source": [
    "### Next, we have to tell our turtle to get ready for a trip with `turtle.start_new_journey()`"
   ]
  },
  {
   "cell_type": "code",
   "execution_count": null,
   "id": "-aJ40yY22JIA",
   "metadata": {
    "id": "-aJ40yY22JIA"
   },
   "outputs": [],
   "source": [
    "turtle.start_new_journey()"
   ]
  },
  {
   "cell_type": "markdown",
   "id": "65519699",
   "metadata": {
    "slideshow": {
     "slide_type": "subslide"
    }
   },
   "source": [
    "### For the turtle portion of the lab, we will now use conditionals to control the turtle movement\n",
    "\n",
    "\n",
    "### Task:  Run the below two cells\n",
    "- Make sure you run both the cell with `direction = ...` and the cell with  `turtle.watch_me_move()`\n",
    "\n",
    "\n",
    "#### What happens?  Why does the turtle move one square to the right?"
   ]
  },
  {
   "cell_type": "code",
   "execution_count": null,
   "id": "24aeb290",
   "metadata": {},
   "outputs": [],
   "source": [
    "direction = 'right'\n",
    "if (direction == 'left'):\n",
    "    turtle.move_left()\n",
    "elif (direction == 'right'):\n",
    "    turtle.move_right()\n"
   ]
  },
  {
   "cell_type": "code",
   "execution_count": null,
   "id": "5db8e790",
   "metadata": {
    "scrolled": false
   },
   "outputs": [],
   "source": [
    "turtle.watch_me_move()"
   ]
  },
  {
   "cell_type": "markdown",
   "id": "4ba65f54",
   "metadata": {},
   "source": [
    "### Next, we will restart our journey, which deletes all the previous moves\n",
    "- Remember that the turtle has memory, and remembers all previous moves (until you start another journey)"
   ]
  },
  {
   "cell_type": "code",
   "execution_count": null,
   "id": "3761d075",
   "metadata": {
    "id": "-aJ40yY22JIA"
   },
   "outputs": [],
   "source": [
    "turtle.start_new_journey()"
   ]
  },
  {
   "cell_type": "markdown",
   "id": "0f303cb2",
   "metadata": {
    "slideshow": {
     "slide_type": "subslide"
    }
   },
   "source": [
    "### Task 1:  Add four new lines of code below to allow your turtle to go `down` and `up`\n",
    "- You can copy the two lines for going `right` and then modify for going `down`\n",
    "- Repeat for going `up`\n",
    "\n",
    "### Task 2: Run the below cell multiple times, changing `direction` again and again, to direct your turtle through the maze\n",
    "- Each time you run the cell, you will generate a new animation with one new move\n"
   ]
  },
  {
   "cell_type": "code",
   "execution_count": null,
   "id": "f777faaa",
   "metadata": {},
   "outputs": [],
   "source": [
    "direction = 'right'\n",
    "if (direction == 'left'):\n",
    "    turtle.move_left()\n",
    "elif (direction == 'right'):\n",
    "    turtle.move_right()\n",
    "\n",
    "turtle.watch_me_move()"
   ]
  },
  {
   "cell_type": "markdown",
   "id": "bbf846fb",
   "metadata": {},
   "source": [
    "### Advanced Task 1\n",
    "- Repeat all of the above tasks, but for `my_maze = 2`\n",
    "\n",
    "### Advanced Task 2\n",
    "- Remember that you can give all of your move commands a parameter called `leave_trail`\n",
    "- Give some of your move commands the parameter `leave_trail=False` and some the parameter `leave_trail=True`\n",
    "- For instance, leave a trail when going up, but do not leave a trail when going right.\n",
    "\n",
    "### Advanced Task 3\n",
    "- Give `turtle_generator( )` a new parameter called `number_of_turtles`\n",
    "- Set the number of turtles to 2\n",
    "- Then, when you call `move_left()`, `move_right()`, `move_up()`, or `move_down()` you'll have to specify which turtle.  So, you'll want to instead use commands like `move_left(which_turtle=0)` or `move_left(which_turtle=1)`\n",
    "- Move all of your turtles to the pond.\n",
    "\n",
    "### Then repeat Task 3, but leave a checkerboard (alternating) trail of colors in the maze.  \n",
    "- Note that each turtle leaves a different colored trail. Use that to create more interesting patterns.\n",
    "- So turtle 0 would leave a trail in the first square of the maze.  Then turtle 1 would leave a trail in the second sqaure of the maze, followed by turtle 0 leaving a trail in the third square.  And the pattern continues.  \n",
    "- You can leave a trail with multiple turtles through commands like \n",
    "- `move_left(which_turtle=0, leave_trail=True)`\n",
    "\n"
   ]
  },
  {
   "cell_type": "code",
   "execution_count": null,
   "id": "cbd8f671",
   "metadata": {},
   "outputs": [],
   "source": []
  }
 ],
 "metadata": {
  "celltoolbar": "Slideshow",
  "kernelspec": {
   "display_name": "Python 3 (ipykernel)",
   "language": "python",
   "name": "python3"
  },
  "language_info": {
   "codemirror_mode": {
    "name": "ipython",
    "version": 3
   },
   "file_extension": ".py",
   "mimetype": "text/x-python",
   "name": "python",
   "nbconvert_exporter": "python",
   "pygments_lexer": "ipython3",
   "version": "3.10.8"
  }
 },
 "nbformat": 4,
 "nbformat_minor": 5
}
