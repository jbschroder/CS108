{
 "cells": [
  {
   "cell_type": "markdown",
   "id": "d455074e",
   "metadata": {
    "slideshow": {
     "slide_type": "slide"
    }
   },
   "source": [
    "## Turtle Lab 14: Objects \n",
    "Lecture file: `09_Member_Functions.ipynb`"
   ]
  },
  {
   "cell_type": "markdown",
   "id": "edf0d8b5",
   "metadata": {
    "slideshow": {
     "slide_type": "slide"
    }
   },
   "source": [
    "### Learning Goals\n",
    "\n",
    "1. Definition Review \n",
    "   - Class (less formal): Is a collection of related information and related functions.  The information can be numbers, words, lists and really anything.  The functions are typically related around a concept\n",
    "       - For example, the turtle that we've been using is a Class\n",
    "       - The turtle class contains a collection of functions like `move_left()` and of data, like the movements `[(0,0), (0,1), (0,2)]`\n",
    "  \n",
    "   - Class (more formal definition): is a code template for creating objects and providing initial (default) values for member variables and default member function\n",
    "       - This definition will sink in over time, but please ask questions  "
   ]
  },
  {
   "cell_type": "markdown",
   "id": "723c1f1e",
   "metadata": {
    "slideshow": {
     "slide_type": "slide"
    }
   },
   "source": [
    "### Learning Goals \n",
    "\n",
    "1. Definition Review\n",
    "\n",
    "   - Object:  An object is an instance of a class.  \n",
    "       - A class is an abstract definition for how to structure the information (variables) and functions inside the class \n",
    "       - An object is an instantiation, realization, embodiment of the class \n",
    "       - You can multiple objects for the same class. For example, you could create multiple turtles each navigating their own maze \n",
    "   \n",
    "               turtle1 = turtle_generator( maze_number=1 )\n",
    "               turtle2 = turtle_generator( maze_number=2 )\n",
    "     \n",
    "         Both `turtle1` and `turtle2` are instances of the class `turtle_generator`"
   ]
  },
  {
   "cell_type": "markdown",
   "id": "5ef35b36",
   "metadata": {
    "slideshow": {
     "slide_type": "slide"
    }
   },
   "source": [
    "### Learning Goals (New)\n",
    "1. Classes can contain both variables and also functions\n",
    "2. These are called member variables and member functions\n",
    "3. Learn how to use and create member variables and member functions"
   ]
  },
  {
   "cell_type": "markdown",
   "id": "e5cf091e",
   "metadata": {
    "slideshow": {
     "slide_type": "slide"
    }
   },
   "source": [
    "### Definition: Member variables are variables inside a class, part of a class\n",
    "- This is stored data that objects will use\n",
    "- The circle radius is an example of a member variable\n",
    "\n",
    "### Definition: Member functions are functions that are inside a class\n",
    "- All member functions must have `self` as the first parameter.  The object must be aware of itself!  \n",
    "- The `self` parameter allows objects to be aware of their own data. \n",
    "- For instance, a circle member function could use `self.radius` to access the radius (see below example)\n",
    "\n",
    "### The `__init__(self, parameter1, parameter2, ...)` function is a special member function that allows you to create an object with certain values.  You can give `__init__` parameters to store in the object.\n",
    "- For instance, `turtle = turtle_generator(maze_number=1)` calls the turtle `__init__` function, and let's maze_number be stored inside the turtle\n",
    "\n",
    "### You never actually directly call `__init__`  This function is called automatically whenever you create an object.  \n",
    "- If you never create an `__init__(self, parameter1, parameter2, ...)` function, Python assumes an empty `__init__`\n",
    "\n",
    "### Other member functions do desired tasks, like `turtle.move_right()` or `circle.area()`"
   ]
  },
  {
   "cell_type": "markdown",
   "id": "8cc2d6f6",
   "metadata": {},
   "source": [
    "### The above definitions are crucial to understanding object oriented programming\n",
    "\n",
    "### Review:  The `__init__(self, parameter1, parameter2, ...)` function is never called directly.  It is always called automatically when you create an object.  \n",
    "- You can give `__init__` parameters to store in the object, which is useful.\n",
    "- This lets you create an object and store certain values like radius or maze_number all-at-once\n",
    "\n",
    "### Review:  All member functions need to have `self` as the first parameter.  The object must be aware of itself!  \n",
    "- Otherwise, how would the member function access the radius of the circle?\n",
    "- In this case, the member function must use `self.radius` to access the radius\n",
    "\n",
    "\n",
    "### Review: The `self` parameter is always automatically given to a member function as the first parameter.\n",
    "- That is, when a member function is called (executed), you do not type `self`.  \n",
    "- Python always gives this parameter automatically to the member function as the first parameter.\n",
    "- For instance, `turtle.move_right()` uses a member function of turtle, called `move_right()`\n",
    "    - The `self` parameter is automatically passed, or given to this function by Python\n",
    "    - You never type `self` when using `turtle.move_right()`\n",
    "- See the below use of `circ1.area()` for another example where `self` is automatically given to a member function, `area()`, as a parameter"
   ]
  },
  {
   "cell_type": "markdown",
   "id": "c8ed064c",
   "metadata": {
    "slideshow": {
     "slide_type": "slide"
    }
   },
   "source": [
    "### We next expand our example class that defines a circle \n",
    "- The circle contains two pieces of data (called member variables)\n",
    "- These two pieces of data are the radius and pi\n",
    "\n",
    "### BUT, we add two member functions\n",
    "- One member function computes the area\n",
    "- The other member function `__init__` is used whenever the object is created.\n",
    "    - This function initializes radius\n",
    "    - Study this syntax, you'll need to use it later"
   ]
  },
  {
   "cell_type": "code",
   "execution_count": null,
   "id": "fcbcabd1",
   "metadata": {
    "slideshow": {
     "slide_type": "-"
    }
   },
   "outputs": [],
   "source": [
    "class circle:\n",
    "    \n",
    "    # Typically, member variables come first\n",
    "    radius = 0\n",
    "    pi = 3.14159265359\n",
    "\n",
    "    # Then, we define member functions\n",
    "    def __init__(self, radius):\n",
    "        self.radius = radius\n",
    "    \n",
    "    def area(self):\n",
    "        return self.pi*self.radius*self.radius\n",
    " "
   ]
  },
  {
   "cell_type": "markdown",
   "id": "df2ae08d",
   "metadata": {},
   "source": [
    "### Task: create a code cell below, and then create a circle with radius of 1 in that new cell\n",
    "    \n",
    "    `circ1 = circle(1)`\n",
    "    \n",
    "### Next, print the circle's area to the screen with the `area()` member function. Add to your cell and run \n",
    "\n",
    "    `print(circ1.area())\n",
    "    \n",
    "### Notice how using `circ1 = circle(1)` automatically used `__init__(self, radius)` and set the radius to 1 for the circle.  Add to your cell and run\n",
    "\n",
    "    `print(circ1.radius)`"
   ]
  },
  {
   "cell_type": "markdown",
   "id": "c65cfd5a",
   "metadata": {
    "slideshow": {
     "slide_type": "slide"
    }
   },
   "source": [
    "### Task: Add a new member function to compute the circumference of the circle.  \n",
    "- Remember, the circumference is $2*\\pi*r$\n",
    "\n",
    "### Your class diagram now looks like\n",
    "\n",
    "![](https://raw.githubusercontent.com/jbschroder/CS108/main/lecture_images/circle_class2.png)"
   ]
  },
  {
   "cell_type": "markdown",
   "id": "eb5dd0f4",
   "metadata": {
    "slideshow": {
     "slide_type": "slide"
    }
   },
   "source": [
    "### Task: Print the circumference for your circle.\n",
    "\n",
    "        print(circ1.circumference())\n",
    "\n",
    "### Task: Create a new circle, `circ2`, and print its area and circumference to the screen."
   ]
  },
  {
   "cell_type": "markdown",
   "id": "3dd60c1a",
   "metadata": {},
   "source": [
    "### Stop and ask if you are having trouble with the circle tasks above\n",
    "\n",
    "---------------------\n",
    "\n",
    "### Task: Create a new class below called `rectangle`\n",
    "- Give `rectangle` two member variables called width and height\n",
    "    - This will be the same as in the previous lab\n",
    "    \n",
    "- Give the `rectangle` three member functions\n",
    "    - This will be new\n",
    "\n",
    "1. Let the first function be `__init__(self, w, h)`, which takes two additional parameters, `w` and `h`.\n",
    "    - The first one `w` will be used to give `rectangle.width` its value\n",
    "    - The second one `h` will be used to give `rectangle.height` its value\n",
    "    \n",
    "2. Let the second function be `area()`, which returns the area of the rectangle    \n",
    "\n",
    "3. Let the third function be `perimeter()`, which returns the perimeter of the rectangle"
   ]
  },
  {
   "cell_type": "code",
   "execution_count": null,
   "id": "40ee596e",
   "metadata": {},
   "outputs": [],
   "source": [
    "# create your class here, starting with the line,  class rectangle:"
   ]
  },
  {
   "cell_type": "markdown",
   "id": "a7744c76",
   "metadata": {},
   "source": [
    "### Task: Create a `rectangle` object below\n",
    "- That is, you create an instance of your class below, called an object \n",
    "- Make sure to give the rectangle its `width` and `height` like this\n",
    "\n",
    "      w = 4\n",
    "      h = 3\n",
    "      rect1 = rectangle(w, h)\n",
    "\n",
    "  this will use the `__init__(self, w, h)` function \n",
    "  (Python does this automatically)\n",
    "  \n",
    "### Then, print the rectangle's area and perimeter to the screen\n",
    "\n",
    "\n",
    "### Create a second rectangle, with a new `w` and `h`, and print its area and perimeter to the screen"
   ]
  },
  {
   "cell_type": "code",
   "execution_count": null,
   "id": "c1b54f36",
   "metadata": {},
   "outputs": [],
   "source": [
    "# create a rectangle object here, give width and height values"
   ]
  },
  {
   "cell_type": "markdown",
   "id": "200cda76",
   "metadata": {
    "id": "HOFo2PXSHRik",
    "slideshow": {
     "slide_type": "slide"
    }
   },
   "source": [
    "------------------------\n",
    "\n",
    "### OK!  Objects can be a difficult concept -- don't worry!\n",
    "\n",
    "### We now switch to a creating a turtle object, which will make controlling your turtle easier.  You will work on this task today and during the next lab.   So, if you don't finish it, that's OK."
   ]
  },
  {
   "cell_type": "markdown",
   "id": "HOFo2PXSHRik",
   "metadata": {
    "id": "HOFo2PXSHRik",
    "slideshow": {
     "slide_type": "slide"
    }
   },
   "source": [
    "## We have some **house cleaning** to do before we can start.\n",
    "1. We download some code(`turtle_generator.py`) to define how our turtle can move around\n",
    "2. We pull the `turtle_generator` code into this notebook with an `import` command"
   ]
  },
  {
   "cell_type": "code",
   "execution_count": null,
   "id": "a7356955",
   "metadata": {
    "slideshow": {
     "slide_type": "-"
    }
   },
   "outputs": [],
   "source": [
    "# House cleaning part 1\n",
    "from urllib.request import urlretrieve\n",
    "(file, message) = urlretrieve('https://raw.githubusercontent.com/jbschroder/CS108/main/notebooks_turtle/turtle_generator.py', 'turtle_generator.py')\n",
    "print(\"You downloaded the file \" + file)\n",
    "\n",
    "# House cleaning part 2\n",
    "from turtle_generator import turtle_generator"
   ]
  },
  {
   "cell_type": "markdown",
   "id": "14b3550d",
   "metadata": {},
   "source": [
    "### Task: Your goal is to create a turtle controller object.\n",
    "1. This object will create a turtle\n",
    "    - The turtle will be a member variable\n",
    "\n",
    "2. This object will create the turtle with either maze 1 or maze 2 \n",
    "    - Make `maze_number` a parameter for the `__init__` function\n",
    "    - The `__init__` function will then use `maze_number` with `turtle_generator` to set the correct `maze_number`\n",
    "    - That is, `__init__` will create a turtle with that maze number\n",
    "\n",
    "3. Create a member function that navigates maze 1 for the turtle \n",
    "    - This member function will return an animation for viewing\n",
    "\n",
    "\n",
    "The turtle controller class will have a structure like this\n",
    "\n",
    "        class turtle_controller:\n",
    "\n",
    "            # Typically, member variables come first\n",
    "            turtle\n",
    "            maze_number\n",
    "\n",
    "            # Then, we define member functions\n",
    "            def __init__(self, maze_number):\n",
    "                ...self.turtle needs a value (use turtle_generator)\n",
    "                ...self.maze_number needs a value\n",
    "\n",
    "            def navigate_maze1(self):\n",
    "                ...insert your loop and if/else logic to navigate the maze\n",
    "                ...remember, your turtle now belongs to the class (object), \n",
    "                ...          so you have to use self.turtle to access the turtle\n",
    "                \n",
    "                ...return the animimation, that is return the output from watch_me_move()\n",
    "                \n",
    "                \n",
    "\n",
    "\n",
    "### Make sure you can create your turtle controller below, and watch the animation     \n"
   ]
  },
  {
   "cell_type": "code",
   "execution_count": null,
   "id": "9cfce9ba",
   "metadata": {},
   "outputs": [],
   "source": [
    "# Define your turtle controller class here"
   ]
  },
  {
   "cell_type": "code",
   "execution_count": null,
   "id": "18f5bd5b",
   "metadata": {},
   "outputs": [],
   "source": [
    "# Use your turtle controller class here\n",
    "controller = turtle_controller(1)\n",
    "# next, call navigate_maze1, make sure that you can see the animation"
   ]
  },
  {
   "cell_type": "code",
   "execution_count": null,
   "id": "95a02ace",
   "metadata": {},
   "outputs": [],
   "source": []
  },
  {
   "cell_type": "markdown",
   "id": "7f34cab0",
   "metadata": {},
   "source": [
    "### Discussion: Why Objects?\n",
    "\n",
    "You've seen different types of variables\n",
    "- Variables that are numbers\n",
    "- Variables that are strings\n",
    "- Variables that are lists\n",
    "\n",
    "You've also seen the turtle variable\n",
    "- But the turtle is actually an instance of the `turtle_generator` class!\n",
    "\n",
    "A class is like a custom variable, that you can define to do whatever you want\n",
    "- This is what was done with the `turtle_generator`\n",
    "\n",
    "Then to get a single turtle to move and animate, we create an instance of the turtle with\n",
    "\n",
    "     turtle = turtle_generator(maze_number=1)\n",
    "\n",
    "\n",
    "### Defining an object is similar to defining a function.  \n",
    "- First you have to run a cell that describes your object's structure\n",
    "    - This is called defining your class, like here\n",
    "    \n",
    "            class circle:\n",
    "                radius = 0\n",
    "                pi = 3.14159265359\n",
    "\n",
    "- Second, you create an object, which is an instance of a class\n",
    "    - This is called instantiating your class with something like\n",
    "            \n",
    "            circ1 = circle()\n",
    "      \n",
    "      and\n",
    "                  \n",
    "            circ2 = circle()\n",
    "            "
   ]
  },
  {
   "cell_type": "code",
   "execution_count": null,
   "id": "0a9f155b",
   "metadata": {},
   "outputs": [],
   "source": []
  }
 ],
 "metadata": {
  "celltoolbar": "Slideshow",
  "kernelspec": {
   "display_name": "Python 3 (ipykernel)",
   "language": "python",
   "name": "python3"
  },
  "language_info": {
   "codemirror_mode": {
    "name": "ipython",
    "version": 3
   },
   "file_extension": ".py",
   "mimetype": "text/x-python",
   "name": "python",
   "nbconvert_exporter": "python",
   "pygments_lexer": "ipython3",
   "version": "3.10.8"
  }
 },
 "nbformat": 4,
 "nbformat_minor": 5
}
