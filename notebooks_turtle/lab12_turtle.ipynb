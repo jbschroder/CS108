{
 "cells": [
  {
   "cell_type": "markdown",
   "id": "d455074e",
   "metadata": {
    "slideshow": {
     "slide_type": "slide"
    }
   },
   "source": [
    "## Turtle Lab 12: Introductory Functions and More \n",
    "Lecture file: `07_Functions_Part3.ipynb`"
   ]
  },
  {
   "cell_type": "markdown",
   "id": "0762399a",
   "metadata": {
    "slideshow": {
     "slide_type": "slide"
    }
   },
   "source": [
    "### Learning Goals \n",
    "\n",
    "1. Definitions (Review)\n",
    "   - Function: a function is a sequence of code that carries out a particular goal or task     \n",
    "   - Defining a function: use `def function_name():` to define or declare a new function    \n",
    "       - This creates a new function (but doesn't execute or run it)\n",
    "   - Calling a function: After defining the function, calling the function actually executes the code. \n",
    "       - The function can be called (or used) as many times as you want.\n",
    "       - Use a function by typing it's name followed by parentheses, like `function_name()`\n",
    "   - Passing parameters:\n",
    "       - Can give a function parameters (parameter is just some values like numbers or words) \n",
    "       - Parameters let you tell the function information"
   ]
  },
  {
   "cell_type": "markdown",
   "id": "7d179d12",
   "metadata": {},
   "source": [
    "### Learning Goals\n",
    "\n",
    "2. New material\n",
    "    - Experiment with more advanced parameter passing\n",
    "        - Pass in multiple parameters and make decisions based on those parameters with if/else statements\n",
    "        \n",
    "    - More advanced computations inside function\n",
    "        - You could pass in numbers and compute something with them"
   ]
  },
  {
   "cell_type": "markdown",
   "id": "HOFo2PXSHRik",
   "metadata": {
    "id": "HOFo2PXSHRik",
    "slideshow": {
     "slide_type": "slide"
    }
   },
   "source": [
    "### <font color=\"blue\"> First </font>\n",
    "\n",
    "<font color=\"blue\"> We have some **house cleaning** to do before we can start. </font>\n",
    "1. <font color=\"blue\"> We download some code(`turtle_generator.py`) to define how our turtle can move around </font>\n",
    "2. <font color=\"blue\"> We pull the `turtle_generator` code into this notebook with an `import` command </font>"
   ]
  },
  {
   "cell_type": "code",
   "execution_count": null,
   "id": "a7356955",
   "metadata": {
    "slideshow": {
     "slide_type": "-"
    }
   },
   "outputs": [],
   "source": [
    "# House cleaning part 1\n",
    "from urllib.request import urlretrieve\n",
    "(file, message) = urlretrieve('https://raw.githubusercontent.com/jbschroder/CS108/main/notebooks_turtle/turtle_generator.py', 'turtle_generator.py')\n",
    "print(\"You downloaded the file \" + file)\n",
    "\n",
    "# House cleaning part 2\n",
    "from turtle_generator import turtle_generator"
   ]
  },
  {
   "cell_type": "markdown",
   "id": "236484de",
   "metadata": {
    "slideshow": {
     "slide_type": "slide"
    }
   },
   "source": [
    "### Next, using what you learned in the lecture video, you will now experiment more with functions, in particular on returning values and using parameters\n",
    "\n",
    "### Study the below function that takes two numbers as parameters (`a` and `b`)\n",
    "   - Give the function two numbers $a$ and $b$\n",
    "   - Compute the Pythagorean theorem $c^2 = a^2 + b^2$\n",
    "   \n",
    "### Notice how $a^2$ is written as `a**2` in Python\n",
    "### Notice how the square root is written as `c = csquared**(0.5)` in Python\n",
    "  - That is `x**(0.5)` will take the square root of `x`\n",
    "  \n",
    "### Task: How would you take the cube root of `x`? Ask if unsure (or just experiment in a new code cell)\n",
    "- Make sure you know how to do this"
   ]
  },
  {
   "cell_type": "code",
   "execution_count": null,
   "id": "b9c9d81b",
   "metadata": {
    "slideshow": {
     "slide_type": "-"
    }
   },
   "outputs": [],
   "source": [
    "def my_compute_triangle_side(a, b):\n",
    "    csquared = a**2 + b**2\n",
    "    c = csquared**(0.5)\n",
    "    \n",
    "    print(c, \"equals c, the third side of the triangle (Pythagorean theorem)\")"
   ]
  },
  {
   "cell_type": "markdown",
   "id": "2af5659b",
   "metadata": {},
   "source": [
    "### Use our new function to compute Pythagorean theorem\n",
    "   - Notice how the function saves time; it's easier to execute the function than have to remember the Pythagorean theorem\n",
    "   \n",
    "### Task 1: Insert a new code cell below.  In that code cell, call the function `my_compute_triangle_side(...)` to find `c` for `a=3` and `b=4`\n",
    "\n",
    "### Task 2: Use other values of `a` and `b`"
   ]
  },
  {
   "cell_type": "markdown",
   "id": "374b413c",
   "metadata": {},
   "source": [
    "### Task 3: In the below code cell insert a new version of `my_compute_triangle_side(...)`\n",
    "\n",
    "### Keep everything the same, except use what you saw in the lecture video, and return the value `c`\n",
    "- You need to add a line of code to do this in the below function"
   ]
  },
  {
   "cell_type": "code",
   "execution_count": null,
   "id": "4a3e4bf9",
   "metadata": {},
   "outputs": [],
   "source": [
    "# insert new version of my_compute_triangle_side(...)\n",
    "    "
   ]
  },
  {
   "cell_type": "markdown",
   "id": "cb6c7bd9",
   "metadata": {},
   "source": [
    "### Task 4: Test your new function from above.  Run the below code cell"
   ]
  },
  {
   "cell_type": "code",
   "execution_count": null,
   "id": "b327fb5e",
   "metadata": {},
   "outputs": [],
   "source": [
    "my_a = 3\n",
    "my_b = 4\n",
    "my_c = my_compute_triangle_side(my_a, my_b)\n",
    "print(my_c, \"equals c and is return value from function (Pythagorean theorem)\")"
   ]
  },
  {
   "cell_type": "markdown",
   "id": "b75c34b4",
   "metadata": {},
   "source": [
    "### Task 5: Create a new code cell below\n",
    "\n",
    "### In that new code cell, create a new function called `my_compute_area_of_rectangle(...)`\n",
    "- Give this function two parameters called `x` and `y`\n",
    "- Return the area of the rectangle\n",
    "- You'll have to run your new code cell, so that Python knows you've written a new function\n",
    "- This is called defining a new function\n",
    "\n",
    "### Then run the below cell to test your new function\n",
    "- The below cell should print an area of 16"
   ]
  },
  {
   "cell_type": "code",
   "execution_count": null,
   "id": "718bc0f0",
   "metadata": {},
   "outputs": [],
   "source": [
    "my_area = my_compute_area_of_rectangle(2,8)\n",
    "print(my_area, \"equals the area of this rectangle\")"
   ]
  },
  {
   "cell_type": "markdown",
   "id": "dbade813",
   "metadata": {},
   "source": [
    "### Task 6: Lastly, we can make decisions with parameters by using if/else statements \n",
    "\n",
    "### Add an `if` statement to your above function `my_compute_area_of_rectangle(...)`\n",
    "- Have that `if` statement check if `x` is negative\n",
    "- If it is negative, print a warning message to the user like, `print(One of your rectangle sides is negative!)`\n",
    "\n",
    "### Repeat this for checking that `y` is negative\n",
    "\n",
    "### Run the below cell.  Did your function print a warning message?  If not, please stop and ask.\n",
    "- It should print two warning messages, one for each time `my_compute_area_of_rectangle(...)` is run"
   ]
  },
  {
   "cell_type": "code",
   "execution_count": null,
   "id": "557976e1",
   "metadata": {},
   "outputs": [],
   "source": [
    "my_area1 = my_compute_area_of_rectangle(2,-8)\n",
    "my_area2 = my_compute_area_of_rectangle(-4,3)"
   ]
  },
  {
   "cell_type": "markdown",
   "id": "77201c1c",
   "metadata": {},
   "source": [
    "### <font color=\"blue\"> Now, we can get started with the turtle part of the lab! </font>\n",
    "\n",
    "<font color=\"blue\"> First, we have to create a new turtle. </font>\n",
    "\n",
    "- <font color=\"blue\"> We use the _maze_ parameter again  </font>\n",
    "- <font color=\"blue\"> Remember, that we can give `turtle_generator()` values inside the parentheses that tell `turtle_generator()` what to do </font>\n",
    "- <font color=\"blue\"> This is the essence of a **parameter**, values that you give something (like `turtle_generator()`) that tell it what to do </font>\n",
    "\n",
    "<font color=\"blue\"> Second, at the bottom of the cell, we take a look at our turtle and find that it's at location `(0,0)`, with a simple maze and pond </font>"
   ]
  },
  {
   "cell_type": "code",
   "execution_count": null,
   "id": "8d6d3832",
   "metadata": {
    "id": "eol71fSR2JIA",
    "scrolled": false,
    "slideshow": {
     "slide_type": "-"
    }
   },
   "outputs": [],
   "source": [
    "my_maze = 2\n",
    "turtle = turtle_generator( maze_number=my_maze )\n",
    "\n",
    "turtle.show_starting_position()"
   ]
  },
  {
   "cell_type": "markdown",
   "id": "079bc07a",
   "metadata": {},
   "source": [
    "### The next sequence of tasks will have you write a function that will move your turtle\n",
    "\n",
    "### The function will take a turtle as a parameter and do the following\n",
    "   1. Start a new journey with `turtle.start_new_journey()`\n",
    "   2. Do some movements with commands like `turtle.move_right()`\n",
    "   3. Return the turtle for watching the animation when you want to\n",
    "   \n",
    "### <font color=\"blue\"> Task 1: Create a code cell below and write a function named `move_turtle(...)` in that cell  </font>\n",
    "\n",
    "### <font color=\"blue\"> The function should take a turtle as a parameter and carry out the above three steps. </font>\n",
    "   - <font color=\"blue\"> This will be similar to your function from lab 11 </font>\n",
    "   - <font color=\"blue\"> Only now, you will also `return` the turtle </font>"
   ]
  },
  {
   "cell_type": "markdown",
   "id": "93ebfab9",
   "metadata": {},
   "source": [
    "### <font color=\"blue\"> Task 2: Run the below cell to watch your turtle.  Does it move?  \n",
    "- The turtle should do all the movements in the function.  (Stop and ask if you are having trouble here). </font>"
   ]
  },
  {
   "cell_type": "code",
   "execution_count": null,
   "id": "b3338ce3",
   "metadata": {},
   "outputs": [],
   "source": [
    "turtle = move_turtle(turtle)\n",
    "turtle.watch_me_move()"
   ]
  },
  {
   "cell_type": "markdown",
   "id": "0cd29b51",
   "metadata": {},
   "source": [
    "### Task 3:  Run the above cell again.  You should get the same animation"
   ]
  },
  {
   "cell_type": "markdown",
   "id": "1657526c",
   "metadata": {},
   "source": [
    "### Task 4: Write in the below text cell what would happen if you deleted the `...start_new_journey()` line in your function, and then ran the above code cell 3 times.  \n",
    "\n",
    "#### (If you're not sure experiment, but be sure to put the `...start_new_journey()` line back into your function when done.)\n"
   ]
  },
  {
   "cell_type": "markdown",
   "id": "60447439",
   "metadata": {},
   "source": [
    "...insert comments here..."
   ]
  },
  {
   "cell_type": "markdown",
   "id": "d34e5319",
   "metadata": {},
   "source": [
    "### Task (Catch-Up):  Make sure that you finished Task 5 from two labs ago, where you wrote a loop that takes the turtle to the pond (the loop using `turtle.is_path...` and `turtle.is_pond...` commands)\n"
   ]
  },
  {
   "cell_type": "markdown",
   "id": "e925599b",
   "metadata": {},
   "source": [
    "### <font color=\"blue\"> Task 5: Update your function `move_turtle(...)` to use this loop from Task 5 from two labs ago </font>\n",
    "- <font color=\"blue\"> Your function should use a single loop to navigate your turtle in maze 2 </font>\n",
    "- <font color=\"blue\"> Your loop should use `if` and `elif` statements based on `turtle.is_path...` and `turtle.is_pond...` commands </font>\n",
    "\n",
    "\n",
    "### <font color=\"blue\"> Run your function and verify that it works</font>\n",
    "- <font color=\"blue\"> This verification process will be </font>\n",
    "    - <font color=\"blue\"> Creating a new turtle, let's call it `turtle` using the generator </font>\n",
    "    - <font color=\"blue\"> Running `turtle = move_turtle(turtle)` </font>\n",
    "    - <font color=\"blue\"> Running `turtle.watch_me_move()` </font>\n",
    "    - <font color=\"blue\"> The turtle should get to the pond and stop in the pond </font>\n",
    "    - <font color=\"blue\"> The loop should be over something long like `range(50)` or `range(100)`.  This will ensure that your turtle properly senses the pond and stops trying to move </font>\n",
    "\n"
   ]
  },
  {
   "cell_type": "markdown",
   "id": "e4c7b611",
   "metadata": {},
   "source": [
    "### <font color=\"blue\"> Task 6: Give your `move_turtle(...)` function a second parameter for setting the start location  </font>\n",
    "- <font color=\"blue\"> Let's name the parameter `start_loc`  </font>\n",
    "- <font color=\"blue\"> Use the parameter `start_loc` to specify (that is set) the `start_location` parameter for `turtle_generator(...)`  </font>\n",
    "- <font color=\"blue\"> Run the below cell to have your turtle start at location `(2,8)`  </font>\n",
    "\n",
    "### <font color=\"blue\"> Check the animation.  Does your turtle start at `(2,8)`?  </font>\n",
    "\n",
    "### <font color=\"blue\"> Does your turtle make it to the pond?  If not...  </font>\n",
    "- <font color=\"blue\"> Construct a fix (probably by adding more `elif` statements) so that your turtle can start at `(2,8)` and journey to the pond </font>\n"
   ]
  },
  {
   "cell_type": "code",
   "execution_count": null,
   "id": "8d7909ba",
   "metadata": {},
   "outputs": [],
   "source": [
    "turtle = move_turtle(turtle, start_loc=(2,8))\n",
    "turtle.watch_me_move()"
   ]
  },
  {
   "cell_type": "code",
   "execution_count": null,
   "id": "1783be6a",
   "metadata": {},
   "outputs": [],
   "source": [
    "turtle.save_everything_to_file()"
   ]
  },
  {
   "cell_type": "markdown",
   "id": "371097af",
   "metadata": {},
   "source": [
    "### The below Tasks are what you need to do, in order to submit your homework for this week"
   ]
  },
  {
   "cell_type": "markdown",
   "id": "c99ff723",
   "metadata": {
    "id": "xiVJ0VFSCWS8",
    "slideshow": {
     "slide_type": "slide"
    }
   },
   "source": [
    "### Task 1\n",
    "- Create a new notebook in CoLab\n",
    "   - Go to File --> New notebook\n",
    "   - In the top left change the name from Untitled...ipynb to something more descriptive, like mylab3.ipynb\n",
    "   - Then, to find your file, to back to Google Drive in your browser.\n",
    "   - You will now have a folder titled `Colab Notebooks`\n",
    "   - Open that folder, and you'll see the new file!\n",
    "\n",
    "     **Note:** this is how you will create files for homeworks.\n",
    "     \n",
    "\n",
    "- For each markdown cell with **blue**\n",
    "   - Copy that markdown cell to the new notebook\n",
    "   - Also copy the code cell immediately below to the new notebook \n",
    "     \n",
    "- Don't forget to include the cell that runs `turtle.save_everything_to_file()`"
   ]
  },
  {
   "cell_type": "markdown",
   "id": "95053044",
   "metadata": {
    "id": "xiVJ0VFSCWS8",
    "slideshow": {
     "slide_type": "slide"
    }
   },
   "source": [
    "### Task 2\n",
    "- Double check that your new notebook is correct. \n",
    "- Go to the `Runtime` menu at the top of CoLab\n",
    "    - Choose to `Restart session and run all`\n",
    "    - If that option is not available, then choose `Run all`\n",
    "- Then, look at the output for all of your cells.  Does it look correct?"
   ]
  },
  {
   "cell_type": "markdown",
   "id": "abf5049d",
   "metadata": {
    "id": "xiVJ0VFSCWS8",
    "slideshow": {
     "slide_type": "slide"
    }
   },
   "source": [
    "### Homework submission\n",
    "\n",
    "- After completing this, download your notebook to `.py` file and upload this `.py` file to Canvas for the weekly homework\n",
    "\n",
    "\n",
    "- Name your homework file `hw#.py`, where `#` is the correct number for this week, for instance `hw1.py`, `hw2.py`, ...\n"
   ]
  },
  {
   "cell_type": "markdown",
   "id": "xiVJ0VFSCWS8",
   "metadata": {
    "id": "xiVJ0VFSCWS8",
    "slideshow": {
     "slide_type": "slide"
    }
   },
   "source": [
    "### Reminder: To download correctly, click on the `download as .py` option in Colab\n",
    "![](https://raw.githubusercontent.com/jbschroder/CS108/main/lecture_images/image_of_downloading_py_file.png)"
   ]
  },
  {
   "cell_type": "code",
   "execution_count": null,
   "id": "de7bbdd6",
   "metadata": {},
   "outputs": [],
   "source": []
  },
  {
   "cell_type": "markdown",
   "id": "2ec7f01e",
   "metadata": {},
   "source": [
    "### Advanced Task \n",
    "- Add a maze number parameter to your `move_turtle(...)` function \n",
    "- Change `move_turtle(...)` so that it creates a new turtle with `turtle_generator(...)`, starts a new journey, and then navigates maze 1 or 2 correctly\n",
    "     "
   ]
  },
  {
   "cell_type": "code",
   "execution_count": null,
   "id": "30e805b2",
   "metadata": {},
   "outputs": [],
   "source": []
  }
 ],
 "metadata": {
  "celltoolbar": "Slideshow",
  "kernelspec": {
   "display_name": "Python 3 (ipykernel)",
   "language": "python",
   "name": "python3"
  },
  "language_info": {
   "codemirror_mode": {
    "name": "ipython",
    "version": 3
   },
   "file_extension": ".py",
   "mimetype": "text/x-python",
   "name": "python",
   "nbconvert_exporter": "python",
   "pygments_lexer": "ipython3",
   "version": "3.10.8"
  }
 },
 "nbformat": 4,
 "nbformat_minor": 5
}
