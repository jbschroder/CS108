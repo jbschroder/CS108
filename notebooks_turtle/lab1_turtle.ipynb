{
 "cells": [
  {
   "cell_type": "markdown",
   "id": "1889563b",
   "metadata": {
    "id": "12eec2b8",
    "slideshow": {
     "slide_type": "slide"
    }
   },
   "source": [
    "## Turtle Lab 1: Basic Printing and Print Turtle Graphics\n",
    "Lecture file: `01_Printing.ipynb`"
   ]
  },
  {
   "cell_type": "markdown",
   "id": "61c617a5",
   "metadata": {},
   "source": [
    "### Did you remember to watch the video and take the quiz before class?"
   ]
  },
  {
   "cell_type": "markdown",
   "id": "e2313bb4",
   "metadata": {
    "id": "12eec2b8",
    "slideshow": {
     "slide_type": "slide"
    }
   },
   "source": [
    "### Learning Goals\n",
    "\n",
    "1. Understand the print() command\n",
    "    - Print simple messages, numbers, and calculations\n",
    "    - Understand the implicit print() command in the last line of a notebook cell\n",
    "    - Output before the last line of a cell will not print (unless you use the `print` command)\n",
    "\n",
    "\n",
    "2. Basic turtle printing\n",
    "    - Create a new turtle\n",
    "    - Move the turtle and print (display) the turtle to the screen\n",
    "    \n",
    "    \n",
    "3. Print help information for using the turtle\n",
    "\n",
    "\n",
    "4. Observe printing with error or warning messages"
   ]
  },
  {
   "cell_type": "markdown",
   "id": "60c7dd71",
   "metadata": {},
   "source": [
    "### Using what you learned in the lecture video, use the below cell as a calculator to add numbers together.\n",
    "\n",
    "### Task: Change the numbers, and run the cell multiple times to experiment with adding different numbers"
   ]
  },
  {
   "cell_type": "code",
   "execution_count": null,
   "id": "c102f18a",
   "metadata": {},
   "outputs": [],
   "source": [
    "1+1"
   ]
  },
  {
   "cell_type": "markdown",
   "id": "9bf3950b",
   "metadata": {},
   "source": [
    "### Note how only the last line in the cell gets automatically printed\n",
    "\n",
    "### Task: First, run the below cell\n",
    "\n",
    "### Task: Second, change `1+1` and `2+2` to different numbers.  Then re-run the cell.  \n",
    "- Observe how this does not change the printed statement.\n",
    "- Only the last line the cell gets automatically printed"
   ]
  },
  {
   "cell_type": "code",
   "execution_count": null,
   "id": "6a58ca6b",
   "metadata": {},
   "outputs": [],
   "source": [
    "1+1\n",
    "2+2\n",
    "3+3"
   ]
  },
  {
   "cell_type": "markdown",
   "id": "cdebce73",
   "metadata": {},
   "source": [
    "### But, if we use the print command, then we can print all three values\n",
    "\n",
    "### Task: First, run the below cell\n",
    "\n",
    "### Task: Second, change `1+1` and `2+2` to different numbers.  Then re-run the cell.  \n",
    "- By using the `print` command you can print from anywhere -- not just the last line of a cell \n",
    "- Do this task again, experimenting with arithmetic"
   ]
  },
  {
   "cell_type": "code",
   "execution_count": null,
   "id": "cf564f36",
   "metadata": {},
   "outputs": [],
   "source": [
    "print(1+1)\n",
    "print(2+2)\n",
    "print(3+3)"
   ]
  },
  {
   "cell_type": "markdown",
   "id": "4c0bedca",
   "metadata": {},
   "source": [
    "### Task: Next, change the text below to print your own message\n",
    "- Note how the text must be inside quotation marks\n",
    "- Change the text a few times to print different messages\n",
    "    - Note that you must run the cell each time you change the message"
   ]
  },
  {
   "cell_type": "code",
   "execution_count": null,
   "id": "fea3a977",
   "metadata": {},
   "outputs": [],
   "source": [
    "print(\"insert your own message here!\")"
   ]
  },
  {
   "cell_type": "markdown",
   "id": "5645a7da",
   "metadata": {},
   "source": [
    "### Preview of next lecture\n",
    "\n",
    "### Task: We can store values in containers called \"variables\".  They are called variables, because the container's contents can change or _vary_\n",
    "\n",
    "### Run the below cell\n"
   ]
  },
  {
   "cell_type": "code",
   "execution_count": null,
   "id": "873e6c9d",
   "metadata": {},
   "outputs": [],
   "source": [
    "s = \"I like turtles\"\n",
    "print(s)\n",
    "s = \"No wait...I'm not so sure about turtles\"\n",
    "print(s)"
   ]
  },
  {
   "cell_type": "markdown",
   "id": "ab03e980",
   "metadata": {},
   "source": [
    "### Observe how `s` contains or holds the values `I like turtles` and then `No wait...I'm not so sure about turtles`.\n",
    "\n",
    "### `s` is a variable\n",
    "\n",
    "### Task: Insert a code cell below here (with the + code button) and create a variable, store something in it, and then print the variable (just like we did with `s`)\n",
    "   - Try arithmetic with your variable, e.g., if `s = 5`, you could print `s*4` or `s - 12`"
   ]
  },
  {
   "cell_type": "markdown",
   "id": "d91a95de",
   "metadata": {
    "id": "12eec2b8",
    "slideshow": {
     "slide_type": "slide"
    }
   },
   "source": [
    "### Now, to the learning goals regarding turtle printing.  More specifically...\n",
    "\n",
    "In order to move and print (display the turtle), you'll learn how to use some basic turtle commands.\n",
    "  - Use `turtle.show_starting_position()` to see the turtle's starting position.\n",
    "  - Use `turtle.move_up()`, `turtle.move_down()`, `turtle.move_right()`, or `turtle.move_left()` to describe where you want the turtle to go\n",
    "  - Finally watch a turtle animation with `turtle.watch_me_move()`"
   ]
  },
  {
   "cell_type": "markdown",
   "id": "12eec2b8",
   "metadata": {
    "id": "12eec2b8",
    "slideshow": {
     "slide_type": "slide"
    }
   },
   "source": [
    "### In technical terms...\n",
    "\n",
    "The turtle can be called an \"object\", but we'll learn more about that later.\n",
    "\n",
    "These basic turtle commands like \n",
    "- `turtle.show_starting_position()`\n",
    "- `turtle.move_up()`\n",
    "- `turtle.watch_me_move()`\n",
    "\n",
    "are called functions, but we'll learn more about that later, too.\n"
   ]
  },
  {
   "cell_type": "markdown",
   "id": "HOFo2PXSHRik",
   "metadata": {
    "id": "HOFo2PXSHRik",
    "slideshow": {
     "slide_type": "slide"
    }
   },
   "source": [
    "### First\n",
    "\n",
    "We have some **house cleaning** to do before we can start.  \n",
    "1. We download some code(`turtle_generator.py`) to define how our turtle can move around\n",
    "2. We pull the `turtle_generator` code into this notebook with an `import` command\n",
    "**Note that you have to run the below cell**"
   ]
  },
  {
   "cell_type": "code",
   "execution_count": null,
   "id": "1lbHzEii-tqD",
   "metadata": {
    "executionInfo": {
     "elapsed": 1968,
     "status": "ok",
     "timestamp": 1695423133937,
     "user": {
      "displayName": "Jacob Schroder",
      "userId": "01251390844616463510"
     },
     "user_tz": 360
    },
    "id": "1lbHzEii-tqD",
    "slideshow": {
     "slide_type": "-"
    }
   },
   "outputs": [],
   "source": [
    "# House cleaning part 1\n",
    "from urllib.request import urlretrieve\n",
    "(file, message) = urlretrieve('https://raw.githubusercontent.com/jbschroder/CS108/main/notebooks_turtle/turtle_generator.py', 'turtle_generator.py')\n",
    "print(\"You downloaded the file \" + file)\n",
    "\n",
    "# House cleaning part 2\n",
    "from turtle_generator import turtle_generator"
   ]
  },
  {
   "cell_type": "markdown",
   "id": "UnvABIFypTa4",
   "metadata": {
    "id": "UnvABIFypTa4",
    "slideshow": {
     "slide_type": "slide"
    }
   },
   "source": [
    "### Now, we can get started with our lab!\n",
    "\n",
    "First, we **create** a new turtle.  \n",
    "\n",
    "- Note, that we have to add parentheses\n",
    "\n",
    "\n",
    "- Later, we will put values inside the parentheses to tell the `turtle_generator` that we want a pond or a maze.\n",
    "\n",
    "**In general, you will always want to run below code cells in the labs.  Run the below code cell and continue doing this for code cells in all the labs.**"
   ]
  },
  {
   "cell_type": "code",
   "execution_count": null,
   "id": "4e2125a3",
   "metadata": {
    "executionInfo": {
     "elapsed": 110,
     "status": "ok",
     "timestamp": 1695403159731,
     "user": {
      "displayName": "Jacob Schroder",
      "userId": "01251390844616463510"
     },
     "user_tz": 360
    },
    "id": "4e2125a3",
    "slideshow": {
     "slide_type": "-"
    }
   },
   "outputs": [],
   "source": [
    "turtle = turtle_generator()     "
   ]
  },
  {
   "cell_type": "markdown",
   "id": "ps4EEGNt5gPM",
   "metadata": {
    "id": "ps4EEGNt5gPM",
    "slideshow": {
     "slide_type": "slide"
    }
   },
   "source": [
    "### Next, we just take a look at our turtle and where it is\n",
    "\n",
    "This is printing (or more precisely plotting) the turtle"
   ]
  },
  {
   "cell_type": "code",
   "execution_count": null,
   "id": "CMRLKsia5goq",
   "metadata": {
    "colab": {
     "base_uri": "https://localhost:8080/",
     "height": 529
    },
    "executionInfo": {
     "elapsed": 887,
     "status": "ok",
     "timestamp": 1695403161627,
     "user": {
      "displayName": "Jacob Schroder",
      "userId": "01251390844616463510"
     },
     "user_tz": 360
    },
    "id": "CMRLKsia5goq",
    "outputId": "019b56c6-01ce-4513-a92b-766d2a857d9e",
    "slideshow": {
     "slide_type": "-"
    }
   },
   "outputs": [],
   "source": [
    "turtle.show_starting_position()"
   ]
  },
  {
   "cell_type": "markdown",
   "id": "8a28a4a9",
   "metadata": {},
   "source": [
    "### Next, run the below help command which prints the help message for `turtle.show_starting_position`\n",
    "\n",
    "You will learn how to intrepret and read these messages this semester, like what is a parameter and what is a return?"
   ]
  },
  {
   "cell_type": "code",
   "execution_count": null,
   "id": "d4bd0c76",
   "metadata": {},
   "outputs": [],
   "source": [
    "help(turtle.show_starting_position)"
   ]
  },
  {
   "cell_type": "markdown",
   "id": "0296d681",
   "metadata": {
    "slideshow": {
     "slide_type": "slide"
    }
   },
   "source": [
    "### Check: can you see a picture above of a turtle on a grid?\n",
    "\n",
    "- Your turtle should be on the (0,0) grid location.  \n",
    "\n",
    "- Notice how the turtle could be at many grid locations, like (5,4) or (2,8).  "
   ]
  },
  {
   "cell_type": "markdown",
   "id": "eb890735",
   "metadata": {
    "slideshow": {
     "slide_type": "slide"
    }
   },
   "source": [
    "### Task: Find on the screen where locations (5,4) and (2,8) are"
   ]
  },
  {
   "cell_type": "markdown",
   "id": "4cddb213",
   "metadata": {
    "id": "4cddb213",
    "slideshow": {
     "slide_type": "slide"
    }
   },
   "source": [
    "### Next, we have to tell our turtle to get ready for a trip with `turtle.start_new_journey()`"
   ]
  },
  {
   "cell_type": "code",
   "execution_count": null,
   "id": "oGBkddsgusjO",
   "metadata": {
    "executionInfo": {
     "elapsed": 145,
     "status": "ok",
     "timestamp": 1695403164714,
     "user": {
      "displayName": "Jacob Schroder",
      "userId": "01251390844616463510"
     },
     "user_tz": 360
    },
    "id": "oGBkddsgusjO",
    "slideshow": {
     "slide_type": "-"
    }
   },
   "outputs": [],
   "source": [
    "turtle.start_new_journey()"
   ]
  },
  {
   "cell_type": "markdown",
   "id": "9df482c8",
   "metadata": {},
   "source": [
    "### Print help message for `start_new_journey`"
   ]
  },
  {
   "cell_type": "code",
   "execution_count": null,
   "id": "8f873edc",
   "metadata": {},
   "outputs": [],
   "source": [
    "help(turtle.start_new_journey)"
   ]
  },
  {
   "cell_type": "markdown",
   "id": "t2gPHlsvvOTM",
   "metadata": {
    "id": "t2gPHlsvvOTM",
    "slideshow": {
     "slide_type": "slide"
    }
   },
   "source": [
    "### Now that we're ready to move, we can tell the turtle how to move!"
   ]
  },
  {
   "cell_type": "code",
   "execution_count": null,
   "id": "uNJRyegbusyG",
   "metadata": {
    "executionInfo": {
     "elapsed": 142,
     "status": "ok",
     "timestamp": 1695403166683,
     "user": {
      "displayName": "Jacob Schroder",
      "userId": "01251390844616463510"
     },
     "user_tz": 360
    },
    "id": "uNJRyegbusyG",
    "slideshow": {
     "slide_type": "-"
    }
   },
   "outputs": [],
   "source": [
    "turtle.move_up()\n",
    "turtle.move_right()\n",
    "turtle.move_down()\n",
    "turtle.move_left()"
   ]
  },
  {
   "cell_type": "markdown",
   "id": "3b27e6bf",
   "metadata": {},
   "source": [
    "### Print help message for all four move commands\n",
    "\n",
    "### Task: change `move_up` to `move_right` and then run the below cell.  Repeat for the other two movements. "
   ]
  },
  {
   "cell_type": "code",
   "execution_count": null,
   "id": "39090a77",
   "metadata": {},
   "outputs": [],
   "source": [
    "help(turtle.move_up)"
   ]
  },
  {
   "cell_type": "markdown",
   "id": "TtjdGmimvgDs",
   "metadata": {
    "id": "TtjdGmimvgDs",
    "slideshow": {
     "slide_type": "slide"
    }
   },
   "source": [
    "### Finally, we look at the turtle moving\n",
    "\n",
    "We print an animation to the screen.\n",
    "\n",
    "Note how the `turtle.watch_me_move()` must be the last line in a cell in order to print to the screen."
   ]
  },
  {
   "cell_type": "code",
   "execution_count": null,
   "id": "iRFYOwZXvfvf",
   "metadata": {
    "colab": {
     "base_uri": "https://localhost:8080/",
     "height": 1000
    },
    "executionInfo": {
     "elapsed": 2649,
     "status": "ok",
     "timestamp": 1695403170379,
     "user": {
      "displayName": "Jacob Schroder",
      "userId": "01251390844616463510"
     },
     "user_tz": 360
    },
    "id": "iRFYOwZXvfvf",
    "outputId": "964fbce2-019e-48fc-a774-88c74da6e72b",
    "slideshow": {
     "slide_type": "-"
    }
   },
   "outputs": [],
   "source": [
    "turtle.watch_me_move()"
   ]
  },
  {
   "cell_type": "markdown",
   "id": "1941ad9e",
   "metadata": {
    "id": "VIS10dlekmS6",
    "slideshow": {
     "slide_type": "slide"
    }
   },
   "source": [
    "### Task\n",
    "- Click the play button to watch the animation\n",
    "- Then, move the slider bar forwards and backwards to restart and watch the animation   "
   ]
  },
  {
   "cell_type": "markdown",
   "id": "0b9700ae",
   "metadata": {
    "id": "VIS10dlekmS6",
    "slideshow": {
     "slide_type": "slide"
    }
   },
   "source": [
    "### Task\n",
    "\n",
    "Change the above movements so that your turtle moves in a larger circle.  The turtle currently moves in a small circle.  Make sure to return the turtle to it's starting location\n",
    "\n",
    "To do this, make sure to go in this order of steps.\n",
    "\n",
    "1. Click to run the code cell for `turtle.start_new_journey()` in order to **erase** all previous turtle movements"
   ]
  },
  {
   "cell_type": "markdown",
   "id": "4c6c3baf",
   "metadata": {
    "id": "VIS10dlekmS6",
    "slideshow": {
     "slide_type": "fragment"
    }
   },
   "source": [
    "2. Change the code in the cell that lists all the `turtle.move_` commands\n",
    "   - Change the movement commands so that your turtle moves in a larger circle, like\n",
    "   \n",
    "     ```\n",
    "     turtle.move_up()\n",
    "     turtle.move_up()\n",
    "     turtle.move_up()\n",
    "     turtle.move_right()\n",
    "     turtle.move_right()\n",
    "     ...\n",
    "     ```"
   ]
  },
  {
   "cell_type": "markdown",
   "id": "VIS10dlekmS6",
   "metadata": {
    "id": "VIS10dlekmS6",
    "slideshow": {
     "slide_type": "fragment"
    }
   },
   "source": [
    "3. Click to run `turtle.watch_me_move()` to generate a **new** animation\n",
    "\n",
    "#### You now know how to do basic turtle art!"
   ]
  },
  {
   "cell_type": "markdown",
   "id": "b02a768b",
   "metadata": {},
   "source": [
    "### Labs will sometimes include \"Advanced Tasks\" which are just there for extra exploration or to hint at future topics.  They are not required skills for completing the weekly homework"
   ]
  },
  {
   "cell_type": "markdown",
   "id": "40be8c48",
   "metadata": {},
   "source": [
    "### Advanced Task (not required for this week's homework)\n",
    "- We will study parameters later in the course\n",
    "- Basically, a parameter is a value that you give something like `move_up()` or `move_down()` or `turtle_generator()` that includes extra instructions\n",
    "- These instructions must be expected (or else you'll get an error)\n",
    "- Repeat the above taks, but give the `move` commands the parameter `leave_trail=True`\n",
    "\n",
    "### Try drawing more complicated patterns or designs\n"
   ]
  },
  {
   "cell_type": "code",
   "execution_count": null,
   "id": "da38e2de",
   "metadata": {},
   "outputs": [],
   "source": []
  },
  {
   "cell_type": "code",
   "execution_count": null,
   "id": "ef65b8e8",
   "metadata": {},
   "outputs": [],
   "source": []
  }
 ],
 "metadata": {
  "celltoolbar": "Slideshow",
  "colab": {
   "provenance": []
  },
  "kernelspec": {
   "display_name": "Python 3 (ipykernel)",
   "language": "python",
   "name": "python3"
  },
  "language_info": {
   "codemirror_mode": {
    "name": "ipython",
    "version": 3
   },
   "file_extension": ".py",
   "mimetype": "text/x-python",
   "name": "python",
   "nbconvert_exporter": "python",
   "pygments_lexer": "ipython3",
   "version": "3.10.8"
  },
  "rise": {
   "center": false
  },
  "vp": {
   "vp_config_version": "1.0.0",
   "vp_menu_width": 273,
   "vp_note_display": false,
   "vp_note_width": 0,
   "vp_position": {
    "width": 278
   },
   "vp_section_display": false,
   "vp_signature": "VisualPython"
  }
 },
 "nbformat": 4,
 "nbformat_minor": 5
}
