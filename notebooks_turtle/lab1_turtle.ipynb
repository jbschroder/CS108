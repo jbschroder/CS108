{
 "cells": [
  {
   "cell_type": "markdown",
   "id": "e2313bb4",
   "metadata": {
    "id": "12eec2b8",
    "slideshow": {
     "slide_type": "slide"
    }
   },
   "source": [
    "## Turtle Lab 1: Move Turtle Around Screen\n",
    "\n",
    "### Learning Goals\n",
    "1. Create a new turtle\n",
    "  1. This new variable is also called an \"object\"\n",
    "  1. Objects have lots of things inside them that let us use their capabilities"
   ]
  },
  {
   "cell_type": "markdown",
   "id": "d91a95de",
   "metadata": {
    "id": "12eec2b8",
    "slideshow": {
     "slide_type": "fragment"
    }
   },
   "source": [
    "2. These capabilities are called \"functions\"\n",
    "  1. These functions define what the turtle can do, like can the turtle move up or move down, or can the turtle display itself, so we can see it?"
   ]
  },
  {
   "cell_type": "markdown",
   "id": "12eec2b8",
   "metadata": {
    "id": "12eec2b8",
    "slideshow": {
     "slide_type": "slide"
    }
   },
   "source": [
    "### Learning Goals\n",
    "3. Learn how to use some of these capabilities to move the turtle around and visualize those movements with an animation\n",
    "  1. Use turtle function `turtle.show_starting_position()` to see the turtle's starting position.\n",
    "  1. Use turtle functions to move, like, `turtle.move_up()`, `turtle.move_down()`, `turtle.move_right()`, or `turtle.move_left()` to describe where you want the turtle to go\n",
    "  1. Finally watch the animation with `turtle.watch_me_move()`"
   ]
  },
  {
   "cell_type": "markdown",
   "id": "HOFo2PXSHRik",
   "metadata": {
    "id": "HOFo2PXSHRik",
    "slideshow": {
     "slide_type": "slide"
    }
   },
   "source": [
    "But, we have some **house cleaning** to do before we can start.  \n",
    "1. We have to download some code(`turtle_generator.py`) to define how our turtle can move around"
   ]
  },
  {
   "cell_type": "code",
   "execution_count": null,
   "id": "1lbHzEii-tqD",
   "metadata": {
    "executionInfo": {
     "elapsed": 1968,
     "status": "ok",
     "timestamp": 1695423133937,
     "user": {
      "displayName": "Jacob Schroder",
      "userId": "01251390844616463510"
     },
     "user_tz": 360
    },
    "id": "1lbHzEii-tqD",
    "slideshow": {
     "slide_type": "-"
    }
   },
   "outputs": [],
   "source": [
    "from urllib.request import urlretrieve\n",
    "(file, message) = urlretrieve('https://raw.githubusercontent.com/jbschroder/CS108/main/notebooks_turtle/turtle_generator.py', 'turtle_generator.py')\n",
    "print(\"You downloaded the file \" + file)"
   ]
  },
  {
   "cell_type": "markdown",
   "id": "ab13dd9e",
   "metadata": {
    "slideshow": {
     "slide_type": "slide"
    }
   },
   "source": [
    "2. Our second **house cleaning** task is to pull the `turtle_generator` code into this notebook.\n",
    "\n",
    "   To do that, we `import` the `turtle_generator` code.\n",
    "   \n",
    "   This is the code that describes how to draw and move our turtle."
   ]
  },
  {
   "cell_type": "code",
   "execution_count": null,
   "id": "bb9feb18",
   "metadata": {
    "slideshow": {
     "slide_type": "-"
    }
   },
   "outputs": [],
   "source": [
    "from turtle_generator import turtle_generator"
   ]
  },
  {
   "cell_type": "markdown",
   "id": "UnvABIFypTa4",
   "metadata": {
    "id": "UnvABIFypTa4",
    "slideshow": {
     "slide_type": "slide"
    }
   },
   "source": [
    "### Now, we can get started with our lab!\n",
    "\n",
    "First, we **create** a new turtle.  \n",
    "\n",
    "- Note, that we have to add parentheses\n",
    "\n",
    "\n",
    "- Later, we will put values inside the parentheses to tell the `turtle_generator` that we want a pond or a maze."
   ]
  },
  {
   "cell_type": "code",
   "execution_count": null,
   "id": "4e2125a3",
   "metadata": {
    "executionInfo": {
     "elapsed": 110,
     "status": "ok",
     "timestamp": 1695403159731,
     "user": {
      "displayName": "Jacob Schroder",
      "userId": "01251390844616463510"
     },
     "user_tz": 360
    },
    "id": "4e2125a3",
    "slideshow": {
     "slide_type": "-"
    }
   },
   "outputs": [],
   "source": [
    "turtle = turtle_generator()"
   ]
  },
  {
   "cell_type": "markdown",
   "id": "ps4EEGNt5gPM",
   "metadata": {
    "id": "ps4EEGNt5gPM",
    "slideshow": {
     "slide_type": "slide"
    }
   },
   "source": [
    "### Next, we just take a look at our turtle and where it is"
   ]
  },
  {
   "cell_type": "code",
   "execution_count": null,
   "id": "CMRLKsia5goq",
   "metadata": {
    "colab": {
     "base_uri": "https://localhost:8080/",
     "height": 529
    },
    "executionInfo": {
     "elapsed": 887,
     "status": "ok",
     "timestamp": 1695403161627,
     "user": {
      "displayName": "Jacob Schroder",
      "userId": "01251390844616463510"
     },
     "user_tz": 360
    },
    "id": "CMRLKsia5goq",
    "outputId": "019b56c6-01ce-4513-a92b-766d2a857d9e",
    "slideshow": {
     "slide_type": "-"
    }
   },
   "outputs": [],
   "source": [
    "turtle.show_starting_position()"
   ]
  },
  {
   "cell_type": "markdown",
   "id": "0296d681",
   "metadata": {
    "slideshow": {
     "slide_type": "slide"
    }
   },
   "source": [
    "### Check: can you see a picture above of a turtle on a grid?\n",
    "\n",
    "- Your turtle should be on the (0,0) grid location.  \n",
    "\n",
    "- Notice how the turtle could be at many grid locations, like (5,4) or (2,8).  "
   ]
  },
  {
   "cell_type": "markdown",
   "id": "eb890735",
   "metadata": {
    "slideshow": {
     "slide_type": "slide"
    }
   },
   "source": [
    "### Task: Find on the screen where locations (5,4) and (2,8) are"
   ]
  },
  {
   "cell_type": "markdown",
   "id": "4cddb213",
   "metadata": {
    "id": "4cddb213",
    "slideshow": {
     "slide_type": "slide"
    }
   },
   "source": [
    "### Next, we have to tell our turtle to get ready for a trip with `turtle.start_new_journey()`"
   ]
  },
  {
   "cell_type": "code",
   "execution_count": null,
   "id": "oGBkddsgusjO",
   "metadata": {
    "executionInfo": {
     "elapsed": 145,
     "status": "ok",
     "timestamp": 1695403164714,
     "user": {
      "displayName": "Jacob Schroder",
      "userId": "01251390844616463510"
     },
     "user_tz": 360
    },
    "id": "oGBkddsgusjO",
    "slideshow": {
     "slide_type": "-"
    }
   },
   "outputs": [],
   "source": [
    "turtle.start_new_journey()"
   ]
  },
  {
   "cell_type": "markdown",
   "id": "t2gPHlsvvOTM",
   "metadata": {
    "id": "t2gPHlsvvOTM",
    "slideshow": {
     "slide_type": "slide"
    }
   },
   "source": [
    "### Now that we're ready to move, we can tell the turtle how to move!"
   ]
  },
  {
   "cell_type": "code",
   "execution_count": null,
   "id": "uNJRyegbusyG",
   "metadata": {
    "executionInfo": {
     "elapsed": 142,
     "status": "ok",
     "timestamp": 1695403166683,
     "user": {
      "displayName": "Jacob Schroder",
      "userId": "01251390844616463510"
     },
     "user_tz": 360
    },
    "id": "uNJRyegbusyG",
    "slideshow": {
     "slide_type": "-"
    }
   },
   "outputs": [],
   "source": [
    "turtle.move_up()\n",
    "turtle.move_right()\n",
    "turtle.move_down()\n",
    "turtle.move_left()"
   ]
  },
  {
   "cell_type": "markdown",
   "id": "TtjdGmimvgDs",
   "metadata": {
    "id": "TtjdGmimvgDs",
    "slideshow": {
     "slide_type": "slide"
    }
   },
   "source": [
    "### Finally, we look at the turtle moving"
   ]
  },
  {
   "cell_type": "code",
   "execution_count": null,
   "id": "iRFYOwZXvfvf",
   "metadata": {
    "colab": {
     "base_uri": "https://localhost:8080/",
     "height": 1000
    },
    "executionInfo": {
     "elapsed": 2649,
     "status": "ok",
     "timestamp": 1695403170379,
     "user": {
      "displayName": "Jacob Schroder",
      "userId": "01251390844616463510"
     },
     "user_tz": 360
    },
    "id": "iRFYOwZXvfvf",
    "outputId": "964fbce2-019e-48fc-a774-88c74da6e72b",
    "slideshow": {
     "slide_type": "-"
    }
   },
   "outputs": [],
   "source": [
    "turtle.watch_me_move()"
   ]
  },
  {
   "cell_type": "markdown",
   "id": "1941ad9e",
   "metadata": {
    "id": "VIS10dlekmS6",
    "slideshow": {
     "slide_type": "slide"
    }
   },
   "source": [
    "### TASK\n",
    "- Click the play button to watch the animation\n",
    "- Then, move the slider bar forwards and backwards to restart and watch the animation"
   ]
  },
  {
   "cell_type": "markdown",
   "id": "0b9700ae",
   "metadata": {
    "id": "VIS10dlekmS6",
    "slideshow": {
     "slide_type": "slide"
    }
   },
   "source": [
    "### TASK\n",
    "\n",
    "Change the above movements so that your turtle moves in a larger circle.  The turtle currently moves in a small circle.  Make sure to return the turtle to it's starting location\n",
    "\n",
    "To do this, make sure to go in this order of steps.\n",
    "\n",
    "1. Click to run the code cell for `turtle.start_new_journey()` in order to **erase** all previous turtle movements"
   ]
  },
  {
   "cell_type": "markdown",
   "id": "4c6c3baf",
   "metadata": {
    "id": "VIS10dlekmS6",
    "slideshow": {
     "slide_type": "fragment"
    }
   },
   "source": [
    "2. Change the code in the cell that lists all the `turtle.move_` commands\n",
    "   - Change the movement commands so that your turtle moves in a larger circle, like\n",
    "   \n",
    "     ```\n",
    "     turtle.move_up()\n",
    "     turtle.move_up()\n",
    "     turtle.move_up()\n",
    "     turtle.move_right()\n",
    "     turtle.move_right()\n",
    "     ...\n",
    "     ```"
   ]
  },
  {
   "cell_type": "markdown",
   "id": "VIS10dlekmS6",
   "metadata": {
    "id": "VIS10dlekmS6",
    "slideshow": {
     "slide_type": "fragment"
    }
   },
   "source": [
    "3. Click to run `turtle.watch_me_move()` to generate a **new** animation"
   ]
  },
  {
   "cell_type": "markdown",
   "id": "6b6c6c14",
   "metadata": {
    "id": "VIS10dlekmS6",
    "slideshow": {
     "slide_type": "slide"
    }
   },
   "source": [
    "### Task\n",
    "1. Go back up and click to run the cell of `turtle.move_` commands again.\n",
    "\n",
    "\n",
    "2. Then click to run the `turtle1.watch_me_move()` command\n",
    "\n",
    "\n",
    "3. What happens?  Does the turtle do more than one circle now?\n",
    "  \n",
    "  Why do you think it does more than one circle?"
   ]
  },
  {
   "cell_type": "markdown",
   "id": "44e5f4c3",
   "metadata": {
    "id": "VIS10dlekmS6",
    "slideshow": {
     "slide_type": "slide"
    }
   },
   "source": [
    "### Task\n",
    "1. Next click to run the `turtle.start_new_journey()` command\n",
    "\n",
    "\n",
    "2. Then, click to run the cell of `turtle.move_` commands again.\n",
    "\n",
    "\n",
    "3. Then, click to run the `turtle1.watch_me_move()` command"
   ]
  },
  {
   "cell_type": "markdown",
   "id": "461885a9",
   "metadata": {
    "id": "VIS10dlekmS6",
    "slideshow": {
     "slide_type": "fragment"
    }
   },
   "source": [
    "This should make the turtle do one circle again.\n",
    "   - The code `turtle.start_new_journey()` **erases** all previous turtle movements"
   ]
  },
  {
   "cell_type": "markdown",
   "id": "74027a89",
   "metadata": {},
   "source": [
    "### Advanced Task -- Not Required for Homework\n",
    "Click on your notebook cells in the right order to get your turtle to do three loops"
   ]
  },
  {
   "cell_type": "code",
   "execution_count": null,
   "id": "a9715f76",
   "metadata": {},
   "outputs": [],
   "source": []
  }
 ],
 "metadata": {
  "celltoolbar": "Slideshow",
  "colab": {
   "provenance": []
  },
  "kernelspec": {
   "display_name": "Python 3 (ipykernel)",
   "language": "python",
   "name": "python3"
  },
  "language_info": {
   "codemirror_mode": {
    "name": "ipython",
    "version": 3
   },
   "file_extension": ".py",
   "mimetype": "text/x-python",
   "name": "python",
   "nbconvert_exporter": "python",
   "pygments_lexer": "ipython3",
   "version": "3.10.8"
  },
  "rise": {
   "center": false
  },
  "vp": {
   "vp_config_version": "1.0.0",
   "vp_menu_width": 273,
   "vp_note_display": false,
   "vp_note_width": 0,
   "vp_position": {
    "width": 278
   },
   "vp_section_display": false,
   "vp_signature": "VisualPython"
  }
 },
 "nbformat": 4,
 "nbformat_minor": 5
}
