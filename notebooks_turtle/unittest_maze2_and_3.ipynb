{
 "cells": [
  {
   "cell_type": "markdown",
   "id": "a_MnKOu7-uaK",
   "metadata": {
    "id": "a_MnKOu7-uaK"
   },
   "source": [
    "### Some simple unit tests for turtle generator and maze classes"
   ]
  },
  {
   "cell_type": "code",
   "execution_count": null,
   "id": "1lbHzEii-tqD",
   "metadata": {
    "executionInfo": {
     "elapsed": 502,
     "status": "ok",
     "timestamp": 1695680664616,
     "user": {
      "displayName": "Jacob Schroder",
      "userId": "01251390844616463510"
     },
     "user_tz": 360
    },
    "id": "1lbHzEii-tqD"
   },
   "outputs": [],
   "source": [
    "#from urllib.request import urlretrieve\n",
    "#(file4, message4) =urlretrieve('https://raw.githubusercontent.com/jbschroder/CS108/main/notebooks_turtle/turtle_generator.py', 'turtle_generator.py')\n",
    "#print(\"You downloaded files \" + file1 + \", \" + file2 + \", \" + file3 + \", \" + file4)"
   ]
  },
  {
   "cell_type": "markdown",
   "id": "e7f1a24a",
   "metadata": {
    "id": "e7f1a24a"
   },
   "source": [
    "### Test Maze Class"
   ]
  },
  {
   "cell_type": "code",
   "execution_count": null,
   "id": "274e8fd8",
   "metadata": {
    "colab": {
     "base_uri": "https://localhost:8080/",
     "height": 430
    },
    "executionInfo": {
     "elapsed": 608,
     "status": "ok",
     "timestamp": 1695680665223,
     "user": {
      "displayName": "Jacob Schroder",
      "userId": "01251390844616463510"
     },
     "user_tz": 360
    },
    "id": "24riy7gLWgYE",
    "outputId": "2786104e-4236-45a6-8057-05951ec76b57"
   },
   "outputs": [],
   "source": [
    "# maze 2\n",
    "\n",
    "from turtle_generator import create_layout\n",
    "from matplotlib import pyplot as plt\n",
    "plt.ion()\n",
    "fig, ax = plt.subplots()\n",
    "nx = 13\n",
    "ny = 13\n",
    "maze_number = 1\n",
    "layout = create_layout(ax, nx, ny, maze_number = 2)\n",
    "layout.draw()"
   ]
  },
  {
   "cell_type": "code",
   "execution_count": null,
   "id": "977f6f7e",
   "metadata": {
    "colab": {
     "base_uri": "https://localhost:8080/",
     "height": 430
    },
    "executionInfo": {
     "elapsed": 608,
     "status": "ok",
     "timestamp": 1695680665223,
     "user": {
      "displayName": "Jacob Schroder",
      "userId": "01251390844616463510"
     },
     "user_tz": 360
    },
    "id": "24riy7gLWgYE",
    "outputId": "2786104e-4236-45a6-8057-05951ec76b57"
   },
   "outputs": [],
   "source": [
    "# maze 3\n",
    "\n",
    "from turtle_generator import create_layout\n",
    "from matplotlib import pyplot as plt\n",
    "plt.ion()\n",
    "fig, ax = plt.subplots()\n",
    "nx = 13\n",
    "ny = 13\n",
    "maze_number = 1\n",
    "layout = create_layout(ax, nx, ny, maze_number = 3)\n",
    "layout.draw()"
   ]
  },
  {
   "cell_type": "code",
   "execution_count": null,
   "id": "cdzBwBn_tZeP",
   "metadata": {
    "colab": {
     "base_uri": "https://localhost:8080/"
    },
    "executionInfo": {
     "elapsed": 3,
     "status": "ok",
     "timestamp": 1695680665223,
     "user": {
      "displayName": "Jacob Schroder",
      "userId": "01251390844616463510"
     },
     "user_tz": 360
    },
    "id": "cdzBwBn_tZeP",
    "outputId": "b4ec46a7-f805-452b-edb5-a1994772ca7c"
   },
   "outputs": [],
   "source": [
    "# test shortest path length\n",
    "print(\"Shortest path length: \" + str(layout.get_shortest_path_length()))"
   ]
  },
  {
   "cell_type": "code",
   "execution_count": null,
   "id": "SmLzcKAFtZUf",
   "metadata": {
    "colab": {
     "base_uri": "https://localhost:8080/"
    },
    "executionInfo": {
     "elapsed": 2,
     "status": "ok",
     "timestamp": 1695680665223,
     "user": {
      "displayName": "Jacob Schroder",
      "userId": "01251390844616463510"
     },
     "user_tz": 360
    },
    "id": "SmLzcKAFtZUf",
    "outputId": "d9cad9da-2380-4ddb-afbf-4580b9c5cba8"
   },
   "outputs": [],
   "source": [
    "# test check path stayes on maze\n",
    "movements = [ (0,0), (1,0), (2,0), (4,0)]\n",
    "print(\"Stays on path? T  \" + str(layout.check_path_stays_on_maze(movements)) )\n",
    "\n",
    "movements = [ (0,0), (1,0), (2,0), (4,-1)]\n",
    "print(\"Stays on path? F  \" + str(layout.check_path_stays_on_maze(movements)) )\n",
    "\n",
    "movements = [ (0,0), (1,0), (2,0), (4,1)]\n",
    "print(\"Stays on path? F  \" + str(layout.check_path_stays_on_maze(movements)) )\n",
    "\n",
    "movements = [ (0,0), (1,0), (2,0), (4,0), (5,3), (8,6), (12,6), (12,11), (12,12) ]\n",
    "print(\"Stays on path? T  \" + str(layout.check_path_stays_on_maze(movements)) )\n",
    "\n",
    "movements = [ (0,0), (1,0), (2,0), (4,0), (5,3), (8,6), (12,6), (12,11), (12,12), (13,12) ]\n",
    "print(\"Stays on path? F  \" + str(layout.check_path_stays_on_maze(movements)) )\n",
    "\n",
    "movements = [ (0,0), (1,0), (2,0), (3,0), (4,0), (5,0), (5,1), (5,2), (5,3), (5,4), (5,5), (5,6), (6,6), (7,6), (8,6), (9,6), (10,6), (11,6), (12,6), (12,7), (12,8), (12,9), (12,10), (12,11), (12,12)]\n",
    "print(\"Stays on path? T  \" + str(layout.check_path_stays_on_maze(movements)) )\n"
   ]
  },
  {
   "cell_type": "code",
   "execution_count": null,
   "id": "ZZenSt-NtZJO",
   "metadata": {
    "colab": {
     "base_uri": "https://localhost:8080/"
    },
    "executionInfo": {
     "elapsed": 224,
     "status": "ok",
     "timestamp": 1695680665446,
     "user": {
      "displayName": "Jacob Schroder",
      "userId": "01251390844616463510"
     },
     "user_tz": 360
    },
    "id": "ZZenSt-NtZJO",
    "outputId": "2b77ea7f-1e77-43f1-aed8-00ba6a71f315"
   },
   "outputs": [],
   "source": [
    "# test check path includes goal\n",
    "movements = [ (0,0), (1,0), (2,0), (4,0)]\n",
    "print(\"Stays on path? T  \" + str(layout.check_path_stays_on_maze(movements)) )\n",
    "\n",
    "movements = [ (0,0), (1,0), (2,0), (4,-1)]\n",
    "print(\"Stays on path? F  \" + str(layout.check_path_stays_on_maze(movements)) )\n",
    "\n",
    "movements = [ (0,0), (1,0), (2,0), (4,1)]\n",
    "print(\"Stays on path? F  \" + str(layout.check_path_stays_on_maze(movements)) )\n",
    "\n",
    "movements = [ (0,0), (1,0), (2,0), (4,0), (5,3), (8,6), (12,6), (12,11), (12,12) ]\n",
    "print(\"Stays on path? T  \" + str(layout.check_path_stays_on_maze(movements)) )\n",
    "\n",
    "movements = [ (0,0), (1,0), (2,0), (4,0), (5,3), (8,6), (12,6), (12,11), (12,12), (13,12) ]\n",
    "print(\"Stays on path? F  \" + str(layout.check_path_stays_on_maze(movements)) )\n",
    "\n",
    "movements = [ (0,0), (1,0), (2,0), (3,0), (4,0), (5,0), (5,1), (5,2), (5,3), (5,4), (5,5), (5,6), (6,6), (7,6), (8,6), (9,6), (10,6), (11,6), (12,6), (12,7), (12,8), (12,9), (12,10), (12,11), (12,12)]\n",
    "print(\"Stays on path? T  \" + str(layout.check_path_stays_on_maze(movements)) )"
   ]
  },
  {
   "cell_type": "code",
   "execution_count": null,
   "id": "1daf06b4",
   "metadata": {},
   "outputs": [],
   "source": [
    "print(\"expected: ['r'], ['l', 'r'], ['l', 'r'], ['l', 't']\" )\n",
    "layout.find_open_directions((0,0)), layout.find_open_directions((1,0)), layout.find_open_directions((2,0)), layout.find_open_directions((5,0))\n"
   ]
  },
  {
   "cell_type": "code",
   "execution_count": null,
   "id": "b73b5722",
   "metadata": {},
   "outputs": [],
   "source": [
    "print(\"expected: ['t', 'b'], ['t', 'b'], ['r', 'b']\")\n",
    "layout.find_open_directions((5,1)), layout.find_open_directions((5,5)), layout.find_open_directions((5,6))"
   ]
  },
  {
   "cell_type": "code",
   "execution_count": null,
   "id": "b81a4e6c",
   "metadata": {},
   "outputs": [],
   "source": [
    "print(\"expected: ['l', 'r'], ['l', 'r'], ['l', 'r'], ['l', 't']\")\n",
    "layout.find_open_directions((6,6)), layout.find_open_directions((7,6)), layout.find_open_directions((11,6)), layout.find_open_directions((12,6))"
   ]
  },
  {
   "cell_type": "code",
   "execution_count": null,
   "id": "017d69d7",
   "metadata": {},
   "outputs": [],
   "source": [
    "print(\"expected: ['t', 'b'], ['t', 'b'], ['t', 'b'], ['b']\")\n",
    "layout.find_open_directions((12,7)), layout.find_open_directions((12,8)), layout.find_open_directions((12,11)), layout.find_open_directions((12,12))"
   ]
  },
  {
   "cell_type": "code",
   "execution_count": null,
   "id": "7c372cf3",
   "metadata": {},
   "outputs": [],
   "source": [
    "print(\"expected:  all False\")\n",
    "layout.find_open_directions((2,6)), layout.find_open_directions((1,12)), layout.find_open_directions((12,1)), layout.find_open_directions((7,8))"
   ]
  },
  {
   "cell_type": "code",
   "execution_count": null,
   "id": "76757b3a",
   "metadata": {},
   "outputs": [],
   "source": [
    "from turtle_generator import create_layout\n",
    "\n",
    "# check goal with no maze but with pond\n",
    "layout = create_layout(ax, nx, ny, pond_location=(3,0))\n",
    "movements = [ (0,0), (1,0), (2,0), (3,0)]\n",
    "print(\"Expected  T:  \" + str(layout.check_path_includes_goal(movements)))\n",
    "movements = [ (0,0), (1,0), (2,0), (4,0)]\n",
    "print(\"Expected  F:  \" + str(layout.check_path_includes_goal(movements)))\n",
    "\n",
    "# check with maze number and with pond (should get warning message printed)\n",
    "layout = create_layout(ax, nx, ny, maze_number = 1, pond_location=(3,0))\n",
    "movements = [ (0,0), (1,0), (2,0), (3,0)]\n",
    "print(\"Expected  F:  \" + str(layout.check_path_includes_goal(movements)))\n",
    "movements = [ (12,10), (12,11), (12,12)]\n",
    "print(\"Expected  T:  \" + str(layout.check_path_includes_goal(movements)))\n"
   ]
  },
  {
   "cell_type": "markdown",
   "id": "mrjABR_G-KSa",
   "metadata": {
    "id": "mrjABR_G-KSa"
   },
   "source": [
    "### Test Turtle Class"
   ]
  },
  {
   "cell_type": "code",
   "execution_count": null,
   "id": "zYN6PT1XI-7W",
   "metadata": {
    "colab": {
     "base_uri": "https://localhost:8080/",
     "height": 529
    },
    "executionInfo": {
     "elapsed": 1372,
     "status": "ok",
     "timestamp": 1695680666816,
     "user": {
      "displayName": "Jacob Schroder",
      "userId": "01251390844616463510"
     },
     "user_tz": 360
    },
    "id": "zYN6PT1XI-7W",
    "outputId": "26d58168-1c82-4afe-d3bd-46709742b204"
   },
   "outputs": [],
   "source": [
    "from turtle_generator import turtle_generator\n",
    "\n",
    "# Experiment with default\n",
    "turtle0 = turtle_generator()\n",
    "turtle0.show_starting_position()"
   ]
  },
  {
   "cell_type": "code",
   "execution_count": null,
   "id": "_-9SO1mFJWFZ",
   "metadata": {
    "colab": {
     "base_uri": "https://localhost:8080/",
     "height": 529
    },
    "executionInfo": {
     "elapsed": 993,
     "status": "ok",
     "timestamp": 1695680667807,
     "user": {
      "displayName": "Jacob Schroder",
      "userId": "01251390844616463510"
     },
     "user_tz": 360
    },
    "id": "_-9SO1mFJWFZ",
    "outputId": "de734130-bb1f-4830-885f-18e3aac4ad1f"
   },
   "outputs": [],
   "source": [
    "# Experiment with different grid size and starting location\n",
    "turtle1 = turtle_generator(nx=9, ny=9, start_location=(2,3))\n",
    "turtle1.show_starting_position()"
   ]
  },
  {
   "cell_type": "code",
   "execution_count": null,
   "id": "n8y3wJroC4DR",
   "metadata": {
    "colab": {
     "base_uri": "https://localhost:8080/",
     "height": 529
    },
    "executionInfo": {
     "elapsed": 1333,
     "status": "ok",
     "timestamp": 1695680669139,
     "user": {
      "displayName": "Jacob Schroder",
      "userId": "01251390844616463510"
     },
     "user_tz": 360
    },
    "id": "n8y3wJroC4DR",
    "outputId": "2aa6af37-ad51-4a2e-868e-1201c4ad30af"
   },
   "outputs": [],
   "source": [
    "# Go back to default (make sure all internal variables return to where they should be)\n",
    "turtle2 = turtle_generator(nx=14, ny=14, start_location=(0,0))\n",
    "turtle2.show_starting_position()"
   ]
  },
  {
   "cell_type": "code",
   "execution_count": null,
   "id": "kSc7PrivJV2r",
   "metadata": {
    "colab": {
     "base_uri": "https://localhost:8080/",
     "height": 529
    },
    "executionInfo": {
     "elapsed": 1777,
     "status": "ok",
     "timestamp": 1695680670914,
     "user": {
      "displayName": "Jacob Schroder",
      "userId": "01251390844616463510"
     },
     "user_tz": 360
    },
    "id": "kSc7PrivJV2r",
    "outputId": "5c057be2-db76-43f5-f80d-cad70775e39b"
   },
   "outputs": [],
   "source": [
    "# Experiment with valid maze numbers\n",
    "turtle3 = turtle_generator(nx=14, ny=14, start_location=(0,0), maze_number=1)\n",
    "turtle3.show_starting_position()"
   ]
  },
  {
   "cell_type": "code",
   "execution_count": null,
   "id": "qy66fAZ7Sz_T",
   "metadata": {
    "colab": {
     "base_uri": "https://localhost:8080/",
     "height": 566
    },
    "executionInfo": {
     "elapsed": 1152,
     "status": "ok",
     "timestamp": 1695680672064,
     "user": {
      "displayName": "Jacob Schroder",
      "userId": "01251390844616463510"
     },
     "user_tz": 360
    },
    "id": "qy66fAZ7Sz_T",
    "outputId": "949d52c8-51f3-4b88-da32-ea72304f435d"
   },
   "outputs": [],
   "source": [
    "# Experiment with some invalid maze numbers\n",
    "# --> Make sure error checking is working OK\n",
    "turtle4 = turtle_generator(nx=14, ny=14, start_location=(0,0), maze_number=-1)\n",
    "turtle4.show_starting_position()"
   ]
  },
  {
   "cell_type": "code",
   "execution_count": null,
   "id": "RYBFVddmSzy4",
   "metadata": {
    "colab": {
     "base_uri": "https://localhost:8080/",
     "height": 529
    },
    "executionInfo": {
     "elapsed": 1274,
     "status": "ok",
     "timestamp": 1695680673336,
     "user": {
      "displayName": "Jacob Schroder",
      "userId": "01251390844616463510"
     },
     "user_tz": 360
    },
    "id": "RYBFVddmSzy4",
    "outputId": "1feba433-e398-4930-bdfa-27a5875e55d8"
   },
   "outputs": [],
   "source": [
    "# Experiment with some valid pond_locations inside grid\n",
    "turtle5 = turtle_generator(nx=14, ny=14, start_location=(0,0), pond_location=(8,9))\n",
    "turtle5.show_starting_position()"
   ]
  },
  {
   "cell_type": "code",
   "execution_count": null,
   "id": "ycHmiWywTPG2",
   "metadata": {
    "colab": {
     "base_uri": "https://localhost:8080/",
     "height": 546
    },
    "executionInfo": {
     "elapsed": 1279,
     "status": "ok",
     "timestamp": 1695680674614,
     "user": {
      "displayName": "Jacob Schroder",
      "userId": "01251390844616463510"
     },
     "user_tz": 360
    },
    "id": "ycHmiWywTPG2",
    "outputId": "b66246a2-1050-403c-c9f0-52147fd5c0db"
   },
   "outputs": [],
   "source": [
    "# Experiment with some invalid pond_locations, i.e., not tuples and locations outside grid\n",
    "# --> Make sure error checking is working OK\n",
    "turtle6 = turtle_generator(nx=14, ny=14, start_location=(0,0), pond_location=(-4,9))\n",
    "turtle6.show_starting_position()"
   ]
  },
  {
   "cell_type": "code",
   "execution_count": null,
   "id": "wvgoeKgOJVyg",
   "metadata": {
    "colab": {
     "base_uri": "https://localhost:8080/",
     "height": 443
    },
    "executionInfo": {
     "elapsed": 369,
     "status": "error",
     "timestamp": 1695680674981,
     "user": {
      "displayName": "Jacob Schroder",
      "userId": "01251390844616463510"
     },
     "user_tz": 360
    },
    "id": "wvgoeKgOJVyg",
    "outputId": "0747f204-1077-4075-8d2c-c517d7c3414c"
   },
   "outputs": [],
   "source": [
    "# Test that you have to initialize first\n",
    "turtle7 = turtle_generator(nx=14, ny=14, start_location=(0,0))\n",
    "turtle7.move_left()"
   ]
  },
  {
   "cell_type": "code",
   "execution_count": null,
   "id": "act9xv21U_qV",
   "metadata": {
    "executionInfo": {
     "elapsed": 3,
     "status": "aborted",
     "timestamp": 1695680674982,
     "user": {
      "displayName": "Jacob Schroder",
      "userId": "01251390844616463510"
     },
     "user_tz": 360
    },
    "id": "act9xv21U_qV"
   },
   "outputs": [],
   "source": [
    "# Test no pond, no maze, just moving around\n",
    "# --> Try moving off grid\n",
    "turtle8 = turtle_generator(nx=14, ny=14, start_location=(0,0))\n",
    "turtle8.start_new_journey()\n",
    "turtle8.move_down()"
   ]
  },
  {
   "cell_type": "code",
   "execution_count": null,
   "id": "NKOUaGAwbGRM",
   "metadata": {
    "executionInfo": {
     "elapsed": 2,
     "status": "aborted",
     "timestamp": 1695680674982,
     "user": {
      "displayName": "Jacob Schroder",
      "userId": "01251390844616463510"
     },
     "user_tz": 360
    },
    "id": "NKOUaGAwbGRM"
   },
   "outputs": [],
   "source": [
    "# Test no pond, no maze, just moving around\n",
    "# --> Try moving off grid\n",
    "turtle9 = turtle_generator(nx=14, ny=14, start_location=(0,0))\n",
    "turtle9.start_new_journey()\n",
    "turtle9.move_right(); turtle9.move_right(); turtle9.move_right(); turtle9.move_right(); turtle9.move_right(); turtle9.move_right(); turtle9.move_right()\n",
    "turtle9.move_right(); turtle9.move_right(); turtle9.move_right(); turtle9.move_right(); turtle9.move_right(); turtle9.move_right(); \n",
    "# this last move goes off grid, try commenting in and out\n",
    "turtle9.move_right()\n"
   ]
  },
  {
   "cell_type": "code",
   "execution_count": null,
   "id": "ndqd17RybY8I",
   "metadata": {
    "executionInfo": {
     "elapsed": 2,
     "status": "aborted",
     "timestamp": 1695680674982,
     "user": {
      "displayName": "Jacob Schroder",
      "userId": "01251390844616463510"
     },
     "user_tz": 360
    },
    "id": "ndqd17RybY8I"
   },
   "outputs": [],
   "source": [
    "# Test no pond, no maze, just moving around\n",
    "# --> Try moving off grid\n",
    "turtle10 = turtle_generator(nx=14, ny=14, start_location=(0,0))\n",
    "turtle10.start_new_journey()\n",
    "turtle10.move_left()"
   ]
  },
  {
   "cell_type": "code",
   "execution_count": null,
   "id": "iy8MjnyJbGG-",
   "metadata": {
    "executionInfo": {
     "elapsed": 4,
     "status": "aborted",
     "timestamp": 1695680674984,
     "user": {
      "displayName": "Jacob Schroder",
      "userId": "01251390844616463510"
     },
     "user_tz": 360
    },
    "id": "iy8MjnyJbGG-"
   },
   "outputs": [],
   "source": [
    "from turtle_generator import turtle_generator\n",
    "\n",
    "# Test no pond, no maze, just moving around\n",
    "turtle11 = turtle_generator(nx=14, ny=14, start_location=(0,0))\n",
    "turtle11.start_new_journey()\n",
    "turtle11.move_up(); turtle11.move_up(); turtle11.move_up(); turtle11.move_up(); turtle11.move_up(); turtle11.move_up(); turtle11.move_up()\n",
    "turtle11.move_up(); turtle11.move_up(); turtle11.move_up(); turtle11.move_up(); turtle11.move_up(); turtle11.move_up(); \n",
    "# this last move goes off grid, try commenting in and out\n",
    "#turtle11.move_up()\n",
    "\n",
    "turtle11.watch_me_move()"
   ]
  },
  {
   "cell_type": "markdown",
   "id": "62d7b733",
   "metadata": {},
   "source": [
    "### Test  pond_location  maze options, making sure that the maze goal always overrides the pond_location"
   ]
  },
  {
   "cell_type": "code",
   "execution_count": null,
   "id": "2ff1ab42",
   "metadata": {},
   "outputs": [],
   "source": [
    "from turtle_generator import turtle_generator\n",
    "\n",
    "# Experiment with   pond    +   no maze\n",
    "turtle6 = turtle_generator(nx=14, ny=14, start_location=(0,0), pond_location=(4,9))\n",
    "turtle6.show_starting_position()"
   ]
  },
  {
   "cell_type": "code",
   "execution_count": null,
   "id": "05b4c967",
   "metadata": {},
   "outputs": [],
   "source": [
    "# Experiment with   pond    +  maze\n",
    "turtle6 = turtle_generator(nx=14, ny=14, start_location=(0,0), pond_location=(4,9), maze_number=1)\n",
    "turtle6.show_starting_position()"
   ]
  },
  {
   "cell_type": "code",
   "execution_count": null,
   "id": "947901fa",
   "metadata": {},
   "outputs": [],
   "source": [
    "# Experiment with   no pond + maze\n",
    "turtle6 = turtle_generator(nx=14, ny=14, start_location=(0,0), maze_number=1)\n",
    "turtle6.show_starting_position()"
   ]
  },
  {
   "cell_type": "code",
   "execution_count": null,
   "id": "c2d438f8",
   "metadata": {},
   "outputs": [],
   "source": [
    "# Experiment with  no pond + no maze\n",
    "turtle6 = turtle_generator(nx=14, ny=14, start_location=(0,0))\n",
    "turtle6.show_starting_position()"
   ]
  },
  {
   "cell_type": "markdown",
   "id": "bb1671ae",
   "metadata": {},
   "source": [
    "### Begin testing animations"
   ]
  },
  {
   "cell_type": "code",
   "execution_count": null,
   "id": "cCMMGePTcJig",
   "metadata": {
    "executionInfo": {
     "elapsed": 11388,
     "status": "aborted",
     "timestamp": 1695680674984,
     "user": {
      "displayName": "Jacob Schroder",
      "userId": "01251390844616463510"
     },
     "user_tz": 360
    },
    "id": "cCMMGePTcJig"
   },
   "outputs": [],
   "source": [
    "from turtle_generator import turtle_generator\n",
    "\n",
    "# Experiment with animations, no pond, no maze, just moving around\n",
    "turtle12 = turtle_generator(nx=14, ny=14, start_location=(0,0))\n",
    "turtle12.start_new_journey()\n",
    "turtle12.move_up()\n",
    "turtle12.move_up()\n",
    "turtle12.move_right()\n",
    "turtle12.move_right()\n",
    "turtle12.move_down()\n",
    "turtle12.move_left()\n",
    "turtle12.watch_me_move()"
   ]
  },
  {
   "cell_type": "code",
   "execution_count": null,
   "id": "OkIfVIbxJVsu",
   "metadata": {
    "executionInfo": {
     "elapsed": 11387,
     "status": "aborted",
     "timestamp": 1695680674984,
     "user": {
      "displayName": "Jacob Schroder",
      "userId": "01251390844616463510"
     },
     "user_tz": 360
    },
    "id": "OkIfVIbxJVsu"
   },
   "outputs": [],
   "source": [
    "from turtle_generator import turtle_generator\n",
    "\n",
    "# Now have turtle navigate to pond\n",
    "turtle13 = turtle_generator(nx=14, ny=14, start_location=(0,0), pond_location=(12,12))\n",
    "turtle13.start_new_journey()\n",
    "turtle13.move_up()\n",
    "turtle13.move_up()\n",
    "turtle13.move_up()\n",
    "turtle13.move_up()\n",
    "turtle13.move_up()\n",
    "turtle13.move_up()\n",
    "turtle13.move_up()\n",
    "turtle13.move_up()\n",
    "turtle13.move_up()\n",
    "turtle13.move_up()\n",
    "turtle13.move_right()\n",
    "turtle13.move_right()\n",
    "turtle13.move_right()\n",
    "turtle13.move_right()\n",
    "turtle13.move_right()\n",
    "turtle13.move_right()\n",
    "turtle13.move_right()\n",
    "turtle13.move_right()\n",
    "turtle13.move_right()\n",
    "turtle13.move_right()\n",
    "turtle13.move_up()\n",
    "turtle13.move_up()\n",
    "turtle13.move_right()\n",
    "turtle13.move_right()\n",
    "turtle13.watch_me_move()"
   ]
  },
  {
   "cell_type": "code",
   "execution_count": null,
   "id": "xS6D0hO_yB6G",
   "metadata": {
    "executionInfo": {
     "elapsed": 11386,
     "status": "aborted",
     "timestamp": 1695680674984,
     "user": {
      "displayName": "Jacob Schroder",
      "userId": "01251390844616463510"
     },
     "user_tz": 360
    },
    "id": "xS6D0hO_yB6G"
   },
   "outputs": [],
   "source": [
    "# check\n",
    "print(\"check stayed on path          \" + str(turtle13.check_stayed_on_maze_path()))\n",
    "print(\"\\ncheck continuous path         \" + str(turtle13.check_continuous_movements()))\n",
    "print(\"\\ncheck reach maze goal         \" + str(turtle13.check_reached_maze_goal() ))\n",
    "print(\"\\ncheck maze completed          \" + str(turtle13.check_maze_completed()))\n",
    "print(\"\\ncheck maze completed shortest \" + str(turtle13.check_maze_completed_with_shortest_path()))\n",
    "\n",
    "turtle13.turtles[0].movements.append( (2,5) )\n",
    "print(\"\\ncheck continuous path         \" + str(turtle13.check_continuous_movements()))"
   ]
  },
  {
   "cell_type": "code",
   "execution_count": null,
   "id": "3p02y6g3WtWv",
   "metadata": {
    "executionInfo": {
     "elapsed": 1,
     "status": "aborted",
     "timestamp": 1695680675134,
     "user": {
      "displayName": "Jacob Schroder",
      "userId": "01251390844616463510"
     },
     "user_tz": 360
    },
    "id": "3p02y6g3WtWv"
   },
   "outputs": [],
   "source": [
    "turtle13.turtles[0].movements = [ (0,0), (1,0), (2,0), (4,0)]\n",
    "print(\"Path stays continuous on path? F  \" + str(turtle13.check_continuous_movements()) )\n",
    "\n",
    "turtle13.turtles[0].movements = [ (0,4), (1,4), (2,4), (3,4)]\n",
    "print(\"Path stays continuous on path? T  \" + str(turtle13.check_continuous_movements()) )\n",
    "\n",
    "turtle13.turtles[0].movements = [ (0,4), (1,4), (2,5), (3,4)]\n",
    "print(\"Path stays continuous on path? F  \" + str(turtle13.check_continuous_movements()) )\n",
    "\n",
    "turtle13.turtles[0].movements = [ (0,0), (1,0), (2,0), (4,-1)]\n",
    "print(\"Path stays continuous on path? F  \" + str(turtle13.check_continuous_movements()) )\n",
    "\n",
    "turtle13.turtles[0].movements = [ (0,0), (1,0), (2,0), (4,1)]\n",
    "print(\"Path stays continuous on path? F  \" + str(turtle13.check_continuous_movements()) )\n",
    "\n",
    "turtle13.turtles[0].movements = [ (0,0), (1,0), (2,0), (4,0), (5,3), (8,6), (12,6), (12,11), (12,12) ]\n",
    "print(\"Path stays continuous on path? F  \" + str(turtle13.check_continuous_movements()) )\n",
    "\n",
    "turtle13.turtles[0].movements = [ (0,0), (1,0), (2,0), (3,0), (4,0), (5,0), (5,1), (5,2), (5,3), (5,4), (5,5), (5,6), (6,6), (7,6), (8,6), (9,6), (10,6), (11,6), (12,6), (12,7), (12,8), (12,9), (12,10), (12,11), (12,12)]\n",
    "print(\"Path stays continuous on path? T  \" + str(turtle13.check_continuous_movements()) )"
   ]
  },
  {
   "cell_type": "code",
   "execution_count": null,
   "id": "_2v_Z0qzJVjB",
   "metadata": {
    "colab": {
     "base_uri": "https://localhost:8080/",
     "height": 658
    },
    "executionInfo": {
     "elapsed": 6095,
     "status": "ok",
     "timestamp": 1695681522346,
     "user": {
      "displayName": "Jacob Schroder",
      "userId": "01251390844616463510"
     },
     "user_tz": 360
    },
    "id": "_2v_Z0qzJVjB",
    "outputId": "4bc5880c-5142-4112-bad4-1a805fa7a15f"
   },
   "outputs": [],
   "source": [
    "# Now have turtle navigate maze to pond\n",
    "turtle14 = turtle_generator(nx=14, ny=14, start_location=(0,0), maze_number=1,  pond_location=(12,12))\n",
    "turtle14.start_new_journey()\n",
    "turtle14.move_right()\n",
    "turtle14.move_right()\n",
    "turtle14.move_right()\n",
    "turtle14.move_right()\n",
    "turtle14.move_right()\n",
    "turtle14.move_up()\n",
    "turtle14.move_up()\n",
    "turtle14.move_up()\n",
    "turtle14.watch_me_move()\n",
    "\n",
    "\n"
   ]
  },
  {
   "cell_type": "code",
   "execution_count": null,
   "id": "0rts6X5jX5jG",
   "metadata": {
    "colab": {
     "base_uri": "https://localhost:8080/"
    },
    "executionInfo": {
     "elapsed": 179,
     "status": "ok",
     "timestamp": 1695681530569,
     "user": {
      "displayName": "Jacob Schroder",
      "userId": "01251390844616463510"
     },
     "user_tz": 360
    },
    "id": "0rts6X5jX5jG",
    "outputId": "0243a81b-0c47-4c7b-aa40-35c54b470062"
   },
   "outputs": [],
   "source": [
    "# check\n",
    "print(  \"check stayed on path          \" + str(turtle14.check_stayed_on_maze_path()))\n",
    "print(\"\\ncheck continuous path         \" + str(turtle14.check_continuous_movements()))\n",
    "print(\"\\ncheck reach maze goal         \" + str(turtle14.check_reached_maze_goal() ))\n",
    "print(\"\\ncheck maze completed          \" + str(turtle14.check_maze_completed()))\n",
    "print(\"\\ncheck maze completed shortest \" + str(turtle14.check_maze_completed_with_shortest_path()))\n"
   ]
  },
  {
   "cell_type": "code",
   "execution_count": null,
   "id": "-47L6uOCfE31",
   "metadata": {
    "colab": {
     "base_uri": "https://localhost:8080/",
     "height": 658
    },
    "executionInfo": {
     "elapsed": 13413,
     "status": "ok",
     "timestamp": 1695681645789,
     "user": {
      "displayName": "Jacob Schroder",
      "userId": "01251390844616463510"
     },
     "user_tz": 360
    },
    "id": "-47L6uOCfE31",
    "outputId": "89f28f39-d006-4eac-ba1e-4d5e37d8cab8"
   },
   "outputs": [],
   "source": [
    "# test correct shortest path\n",
    "# --> Here the turtle successfully completes the maze\n",
    "turtle14 = turtle_generator(nx=14, ny=14, start_location=(0,0), maze_number=1,  pond_location=(12,12))\n",
    "\n",
    "turtle14.start_new_journey()\n",
    "turtle14.move_right(); turtle14.move_right(); turtle14.move_right(); turtle14.move_right(); turtle14.move_right();\n",
    "turtle14.move_up(); turtle14.move_up(); turtle14.move_up(); turtle14.move_up(); turtle14.move_up(); turtle14.move_up();\n",
    "turtle14.move_right(); turtle14.move_right(); turtle14.move_right(); turtle14.move_right(); turtle14.move_right(); turtle14.move_right(); turtle14.move_right();\n",
    "turtle14.move_up(); turtle14.move_up(); turtle14.move_up(); turtle14.move_up(); turtle14.move_up(); turtle14.move_up();\n",
    "# check\n",
    "print(  \"check stayed on path          \" + str(turtle14.check_stayed_on_maze_path()))\n",
    "print(\"\\ncheck continuous path         \" + str(turtle14.check_continuous_movements()))\n",
    "print(\"\\ncheck reach maze goal         \" + str(turtle14.check_reached_maze_goal() ))\n",
    "print(\"\\ncheck maze completed          \" + str(turtle14.check_maze_completed()))\n",
    "print(\"\\ncheck maze completed shortest \" + str(turtle14.check_maze_completed_with_shortest_path()))\n"
   ]
  },
  {
   "cell_type": "code",
   "execution_count": null,
   "id": "QlbGPQNQfEt4",
   "metadata": {
    "colab": {
     "base_uri": "https://localhost:8080/"
    },
    "executionInfo": {
     "elapsed": 139,
     "status": "ok",
     "timestamp": 1695681662109,
     "user": {
      "displayName": "Jacob Schroder",
      "userId": "01251390844616463510"
     },
     "user_tz": 360
    },
    "id": "QlbGPQNQfEt4",
    "outputId": "1b3124c3-c635-4428-bbc6-2726e194a49d"
   },
   "outputs": [],
   "source": [
    "# test using non shortest path\n",
    "turtle14.start_new_journey()\n",
    "turtle14.move_right(); turtle14.move_right(); turtle14.move_right(); turtle14.move_right(); turtle14.move_right();\n",
    "#turtle14.move_left(); turtle14.move_right();\n",
    "turtle14.move_up(); turtle14.move_up(); turtle14.move_up(); turtle14.move_up(); turtle14.move_up(); turtle14.move_up();\n",
    "turtle14.move_down(); turtle14.move_up();\n",
    "turtle14.move_right(); turtle14.move_right(); turtle14.move_right(); turtle14.move_right(); turtle14.move_right(); turtle14.move_right(); turtle14.move_right();\n",
    "turtle14.move_up(); turtle14.move_up(); turtle14.move_up(); turtle14.move_up(); turtle14.move_up(); turtle14.move_up();\n",
    "# check\n",
    "print(  \"check stayed on path          \" + str(turtle14.check_stayed_on_maze_path()))\n",
    "print(\"\\ncheck continuous path         \" + str(turtle14.check_continuous_movements()))\n",
    "print(\"\\ncheck reach maze goal         \" + str(turtle14.check_reached_maze_goal() ))\n",
    "print(\"\\ncheck maze completed          \" + str(turtle14.check_maze_completed()))\n",
    "print(\"\\ncheck maze completed shortest \" + str(turtle14.check_maze_completed_with_shortest_path()))\n"
   ]
  },
  {
   "cell_type": "code",
   "execution_count": null,
   "id": "f2efc5bf",
   "metadata": {},
   "outputs": [],
   "source": [
    "# test using non shortest path -- and leaving the maze\n",
    "turtle14.start_new_journey()\n",
    "turtle14.move_right(); turtle14.move_right(); turtle14.move_right(); turtle14.move_right(); turtle14.move_right();\n",
    "#turtle14.move_left(); turtle14.move_right();\n",
    "turtle14.move_up(); turtle14.move_up(); turtle14.move_up(); turtle14.move_up(); turtle14.move_up(); turtle14.move_up();\n",
    "turtle14.move_down(); turtle14.move_up();\n",
    "turtle14.move_up(); turtle14.move_down();\n",
    "turtle14.move_right(); turtle14.move_right(); turtle14.move_right(); turtle14.move_right(); turtle14.move_right(); turtle14.move_right(); turtle14.move_right();\n",
    "turtle14.move_up(); turtle14.move_up(); turtle14.move_up(); turtle14.move_up(); turtle14.move_up(); turtle14.move_up();\n",
    "# check\n",
    "print(  \"check stayed on path          \" + str(turtle14.check_stayed_on_maze_path()))\n",
    "print(\"\\ncheck continuous path         \" + str(turtle14.check_continuous_movements()))\n",
    "print(\"\\ncheck reach maze goal         \" + str(turtle14.check_reached_maze_goal() ))\n",
    "print(\"\\ncheck maze completed          \" + str(turtle14.check_maze_completed()))\n",
    "print(\"\\ncheck maze completed shortest \" + str(turtle14.check_maze_completed_with_shortest_path()))"
   ]
  },
  {
   "cell_type": "code",
   "execution_count": null,
   "id": "5c70ffe5",
   "metadata": {},
   "outputs": [],
   "source": [
    "# test using non shortest path -- and leaving the maze\n",
    "turtle14.start_new_journey()\n",
    "turtle14.move_right(); turtle14.move_right(); turtle14.move_right(); turtle14.move_right(); turtle14.move_right();\n",
    "#turtle14.move_left(); turtle14.move_right();\n",
    "turtle14.move_up(); turtle14.move_up(); turtle14.move_up(); turtle14.move_up(); turtle14.move_up(); turtle14.move_up();\n",
    "turtle14.move_down(); turtle14.move_up();\n",
    "turtle14.move_right(); turtle14.move_right(); turtle14.move_right(); turtle14.move_right(); turtle14.move_right(); turtle14.move_right(); turtle14.move_right();\n",
    "turtle14.move_right(); turtle14.move_left();\n",
    "turtle14.move_up(); turtle14.move_up(); turtle14.move_up(); turtle14.move_up(); turtle14.move_up(); turtle14.move_up();\n",
    "# check\n",
    "print(  \"check stayed on path          \" + str(turtle14.check_stayed_on_maze_path()))\n",
    "print(\"\\ncheck continuous path         \" + str(turtle14.check_continuous_movements()))\n",
    "print(\"\\ncheck reach maze goal         \" + str(turtle14.check_reached_maze_goal() ))\n",
    "print(\"\\ncheck maze completed          \" + str(turtle14.check_maze_completed()))\n",
    "print(\"\\ncheck maze completed shortest \" + str(turtle14.check_maze_completed_with_shortest_path()))"
   ]
  },
  {
   "cell_type": "code",
   "execution_count": null,
   "id": "10f31401",
   "metadata": {},
   "outputs": [],
   "source": [
    "# test just missing the goal and leaving the maze\n",
    "turtle14.start_new_journey()\n",
    "turtle14.move_right(); turtle14.move_right(); turtle14.move_right(); turtle14.move_right(); turtle14.move_right();\n",
    "#turtle14.move_left(); turtle14.move_right();\n",
    "turtle14.move_up(); turtle14.move_up(); turtle14.move_up(); turtle14.move_up(); turtle14.move_up(); turtle14.move_up();\n",
    "turtle14.move_down(); turtle14.move_up();\n",
    "turtle14.move_right(); turtle14.move_right(); turtle14.move_right(); turtle14.move_right(); turtle14.move_right(); turtle14.move_right(); turtle14.move_right();\n",
    "turtle14.move_right(); turtle14.move_left();\n",
    "turtle14.move_up(); turtle14.move_up(); turtle14.move_up(); turtle14.move_up(); turtle14.move_up();\n",
    "# check\n",
    "print(  \"check stayed on path          \" + str(turtle14.check_stayed_on_maze_path()))\n",
    "print(\"\\ncheck continuous path         \" + str(turtle14.check_continuous_movements()))\n",
    "print(\"\\ncheck reach maze goal         \" + str(turtle14.check_reached_maze_goal() ))\n",
    "print(\"\\ncheck maze completed          \" + str(turtle14.check_maze_completed()))\n",
    "print(\"\\ncheck maze completed shortest \" + str(turtle14.check_maze_completed_with_shortest_path()))"
   ]
  },
  {
   "cell_type": "code",
   "execution_count": null,
   "id": "3bbde9ae",
   "metadata": {},
   "outputs": [],
   "source": [
    "# test  not completing maze through non-continuous\n",
    "from turtle_generator import turtle_generator\n",
    "turtle14 = turtle_generator(nx=14, ny=14, start_location=(0,0), maze_number=1)\n",
    "\n",
    "turtle14.start_new_journey()\n",
    "turtle14.move_right(); turtle14.move_right(); turtle14.move_right(); turtle14.move_right(); turtle14.move_right();\n",
    "turtle14.move_up(); turtle14.move_up(); turtle14.move_up(); turtle14.move_up(); turtle14.move_up(); turtle14.move_up();\n",
    "turtle14.move_right(); turtle14.move_right(); turtle14.move_right(); turtle14.move_right(); turtle14.move_right(); turtle14.move_right(); turtle14.move_right();\n",
    "turtle14.move_up(); turtle14.move_up(); turtle14.move_up(); turtle14.move_up(); \n",
    "turtle14.turtles[0].movements.append((12,12))\n",
    "# check\n",
    "print(\"\\ncheck maze completed          \" + str(turtle14.check_maze_completed()))\n",
    "print(\"\\ncheck reach maze goal         \" + str(turtle14.check_reached_maze_goal() ))\n",
    "print(\"\\ncheck maze completed shortest \" + str(turtle14.check_maze_completed_with_shortest_path()))"
   ]
  },
  {
   "cell_type": "code",
   "execution_count": null,
   "id": "d2a5e32c",
   "metadata": {},
   "outputs": [],
   "source": [
    "from turtle_generator import turtle_generator\n",
    "turtle14 = turtle_generator(nx=14, ny=14, start_location=(0,0), maze_number=1)\n",
    "\n",
    "# test  not completing maze by missing goal\n",
    "turtle14.start_new_journey()\n",
    "turtle14.move_right(); turtle14.move_right(); turtle14.move_right(); turtle14.move_right(); turtle14.move_right();\n",
    "turtle14.move_up(); turtle14.move_up(); turtle14.move_up(); turtle14.move_up(); turtle14.move_up(); turtle14.move_up();\n",
    "turtle14.move_right(); turtle14.move_right(); turtle14.move_right(); turtle14.move_right(); turtle14.move_right(); turtle14.move_right(); turtle14.move_right();\n",
    "turtle14.move_up(); turtle14.move_up(); turtle14.move_up(); turtle14.move_up(); turtle14.move_up(); \n",
    "# check\n",
    "print(\"\\ncheck maze completed          \" + str(turtle14.check_maze_completed()))\n",
    "print(\"\\ncheck maze completed shortest \" + str(turtle14.check_maze_completed_with_shortest_path()))"
   ]
  },
  {
   "cell_type": "code",
   "execution_count": null,
   "id": "e390955d",
   "metadata": {},
   "outputs": [],
   "source": [
    "from turtle_generator import turtle_generator\n",
    "turtle14 = turtle_generator(nx=14, ny=14, start_location=(0,0), maze_number=1)\n",
    "\n",
    "# test  not completing maze by leaving maze\n",
    "turtle14.start_new_journey()\n",
    "turtle14.move_right(); turtle14.move_right(); turtle14.move_right(); turtle14.move_right(); turtle14.move_right();\n",
    "turtle14.move_right(); turtle14.move_left();\n",
    "turtle14.move_up(); turtle14.move_up(); turtle14.move_up(); turtle14.move_up(); turtle14.move_up(); turtle14.move_up();\n",
    "turtle14.move_right(); turtle14.move_right(); turtle14.move_right(); turtle14.move_right(); turtle14.move_right(); turtle14.move_right(); turtle14.move_right();\n",
    "turtle14.move_up(); turtle14.move_up(); turtle14.move_up(); turtle14.move_up(); turtle14.move_up(); turtle14.move_up(); \n",
    "# check\n",
    "print(\"\\ncheck maze completed          \" + str(turtle14.check_maze_completed()))\n",
    "print(\"\\ncheck maze completed shortest \" + str(turtle14.check_maze_completed_with_shortest_path()))"
   ]
  },
  {
   "cell_type": "code",
   "execution_count": null,
   "id": "a2df2a55",
   "metadata": {},
   "outputs": [],
   "source": [
    "from turtle_generator import turtle_generator\n",
    "\n",
    "# check not completing maze by starting somewhere else\n",
    "#  First one should return True (maze completed), but shortest_path check should fail\n",
    "turtle15 = turtle_generator(nx=14, ny=14, start_location=(2,0), maze_number=1,  pond_location=(12,12))\n",
    "turtle15.start_new_journey()\n",
    "turtle15.move_right(); turtle15.move_right(); turtle15.move_right();\n",
    "turtle15.move_up(); turtle15.move_up(); turtle15.move_up(); turtle15.move_up(); turtle15.move_up(); turtle15.move_up();\n",
    "turtle15.move_right(); turtle15.move_right(); turtle15.move_right(); turtle15.move_right(); turtle15.move_right(); turtle15.move_right(); turtle15.move_right();\n",
    "turtle15.move_up(); turtle15.move_up(); turtle15.move_up(); turtle15.move_up(); turtle15.move_up(); turtle15.move_up(); \n",
    "# check\n",
    "print(\"\\ncheck maze completed          \" + str(turtle15.check_maze_completed()))\n",
    "print(\"\\ncheck maze completed shortest \" + str(turtle15.check_maze_completed_with_shortest_path()))\n",
    "#turtle15.watch_me_move()"
   ]
  },
  {
   "cell_type": "code",
   "execution_count": null,
   "id": "068a7add",
   "metadata": {},
   "outputs": [],
   "source": []
  }
 ],
 "metadata": {
  "colab": {
   "provenance": []
  },
  "kernelspec": {
   "display_name": "Python 3 (ipykernel)",
   "language": "python",
   "name": "python3"
  },
  "language_info": {
   "codemirror_mode": {
    "name": "ipython",
    "version": 3
   },
   "file_extension": ".py",
   "mimetype": "text/x-python",
   "name": "python",
   "nbconvert_exporter": "python",
   "pygments_lexer": "ipython3",
   "version": "3.10.8"
  },
  "vp": {
   "vp_config_version": "1.0.0",
   "vp_menu_width": 273,
   "vp_note_display": false,
   "vp_note_width": 0,
   "vp_position": {
    "width": 278
   },
   "vp_section_display": false,
   "vp_signature": "VisualPython"
  }
 },
 "nbformat": 4,
 "nbformat_minor": 5
}
