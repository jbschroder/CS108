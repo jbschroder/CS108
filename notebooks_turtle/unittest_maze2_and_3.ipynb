{
 "cells": [
  {
   "cell_type": "markdown",
   "id": "a_MnKOu7-uaK",
   "metadata": {
    "id": "a_MnKOu7-uaK"
   },
   "source": [
    "### Some simple unit tests for turtle generator and maze classes"
   ]
  },
  {
   "cell_type": "code",
   "execution_count": null,
   "id": "1lbHzEii-tqD",
   "metadata": {
    "executionInfo": {
     "elapsed": 502,
     "status": "ok",
     "timestamp": 1695680664616,
     "user": {
      "displayName": "Jacob Schroder",
      "userId": "01251390844616463510"
     },
     "user_tz": 360
    },
    "id": "1lbHzEii-tqD"
   },
   "outputs": [],
   "source": [
    "#from urllib.request import urlretrieve\n",
    "#(file4, message4) =urlretrieve('https://raw.githubusercontent.com/jbschroder/CS108/main/notebooks_turtle/turtle_generator.py', 'turtle_generator.py')\n",
    "#print(\"You downloaded files \" + file1 + \", \" + file2 + \", \" + file3 + \", \" + file4)"
   ]
  },
  {
   "cell_type": "markdown",
   "id": "e7f1a24a",
   "metadata": {
    "id": "e7f1a24a"
   },
   "source": [
    "### Test Maze Class"
   ]
  },
  {
   "cell_type": "code",
   "execution_count": null,
   "id": "274e8fd8",
   "metadata": {
    "colab": {
     "base_uri": "https://localhost:8080/",
     "height": 430
    },
    "executionInfo": {
     "elapsed": 608,
     "status": "ok",
     "timestamp": 1695680665223,
     "user": {
      "displayName": "Jacob Schroder",
      "userId": "01251390844616463510"
     },
     "user_tz": 360
    },
    "id": "24riy7gLWgYE",
    "outputId": "2786104e-4236-45a6-8057-05951ec76b57"
   },
   "outputs": [],
   "source": [
    "# maze 2\n",
    "\n",
    "from turtle_generator import create_layout\n",
    "from matplotlib import pyplot as plt\n",
    "plt.ion()\n",
    "fig, ax = plt.subplots()\n",
    "nx = 13\n",
    "ny = 13\n",
    "maze_number = 1\n",
    "layout = create_layout(ax, nx, ny, maze_number = 2)\n",
    "layout.draw()"
   ]
  },
  {
   "cell_type": "code",
   "execution_count": null,
   "id": "edcc8a8f",
   "metadata": {},
   "outputs": [],
   "source": [
    "# test shortest path length\n",
    "print(\"Shortest path length: \" + str(layout.get_shortest_path_length()))"
   ]
  },
  {
   "cell_type": "code",
   "execution_count": null,
   "id": "33271c38",
   "metadata": {
    "colab": {
     "base_uri": "https://localhost:8080/"
    },
    "executionInfo": {
     "elapsed": 2,
     "status": "ok",
     "timestamp": 1695680665223,
     "user": {
      "displayName": "Jacob Schroder",
      "userId": "01251390844616463510"
     },
     "user_tz": 360
    },
    "id": "SmLzcKAFtZUf",
    "outputId": "d9cad9da-2380-4ddb-afbf-4580b9c5cba8"
   },
   "outputs": [],
   "source": [
    "# test check path stayes on maze\n",
    "movements = [ (0,0), (1,0), (2,0), (4,0), (3,5), (2,8), (6,6), (7,5), (12,5), (12,12), (7,11)]\n",
    "print(\"Stays on path? T  \" + str(layout.check_path_stays_on_maze(movements)) )\n",
    "\n",
    "movements = [ (0,0), (1,0), (2,0), (10,4)]\n",
    "print(\"Stays on path? F  \" + str(layout.check_path_stays_on_maze(movements)) )\n",
    "\n",
    "movements = [ (0,0), (1,0), (2,0), (6,5)]\n",
    "print(\"Stays on path? F  \" + str(layout.check_path_stays_on_maze(movements)) )\n",
    "\n",
    "movements = [ (0,0), (1,0), (2,0), (4,0), (5,3), (7,6), (12,6), (12,11), (12,12) ]\n",
    "print(\"Stays on path? T  \" + str(layout.check_path_stays_on_maze(movements)) )\n",
    "\n",
    "movements = [ (0,0), (1,0), (2,0), (4,0), (5,3), (8,6), (12,6), (12,11), (12,12), (13,12) ]\n",
    "print(\"Stays on path? F  \" + str(layout.check_path_stays_on_maze(movements)) )\n"
   ]
  },
  {
   "cell_type": "code",
   "execution_count": null,
   "id": "d6c9bf5e",
   "metadata": {},
   "outputs": [],
   "source": [
    "print(\"expected: ['r'], ['l', 'r'], ['l', 't', 'b'], ['l', 't', 'b'], ['r', 'b']\" )\n",
    "layout.find_open_directions((0,0)), layout.find_open_directions((1,0)), layout.find_open_directions((5,5)), layout.find_open_directions((7,6)), layout.find_open_directions((7,12))\n"
   ]
  },
  {
   "cell_type": "code",
   "execution_count": null,
   "id": "59e680f9",
   "metadata": {},
   "outputs": [],
   "source": [
    "from turtle_generator import create_layout\n",
    "\n",
    "# check goal with no maze but with pond\n",
    "layout = create_layout(ax, nx, ny, pond_location=(3,0))\n",
    "movements = [ (0,0), (1,0), (2,0), (3,0)]\n",
    "print(\"Expected  T:  \" + str(layout.check_path_includes_goal(movements)))\n",
    "movements = [ (0,0), (1,0), (2,0), (4,0)]\n",
    "print(\"Expected  F:  \" + str(layout.check_path_includes_goal(movements)))\n",
    "\n",
    "# check with maze number and with pond (should get warning message printed)\n",
    "layout = create_layout(ax, nx, ny, maze_number = 1, pond_location=(3,0))\n",
    "movements = [ (0,0), (1,0), (2,0), (3,0)]\n",
    "print(\"Expected  F:  \" + str(layout.check_path_includes_goal(movements)))\n",
    "movements = [ (12,10), (12,11), (12,12)]\n",
    "print(\"Expected  T:  \" + str(layout.check_path_includes_goal(movements)))\n"
   ]
  },
  {
   "cell_type": "code",
   "execution_count": null,
   "id": "977f6f7e",
   "metadata": {
    "colab": {
     "base_uri": "https://localhost:8080/",
     "height": 430
    },
    "executionInfo": {
     "elapsed": 608,
     "status": "ok",
     "timestamp": 1695680665223,
     "user": {
      "displayName": "Jacob Schroder",
      "userId": "01251390844616463510"
     },
     "user_tz": 360
    },
    "id": "24riy7gLWgYE",
    "outputId": "2786104e-4236-45a6-8057-05951ec76b57"
   },
   "outputs": [],
   "source": [
    "# maze 3\n",
    "\n",
    "from turtle_generator import create_layout\n",
    "from matplotlib import pyplot as plt\n",
    "plt.ion()\n",
    "fig, ax = plt.subplots()\n",
    "nx = 13\n",
    "ny = 13\n",
    "maze_number = 1\n",
    "layout = create_layout(ax, nx, ny, maze_number = 3)\n",
    "layout.draw()"
   ]
  },
  {
   "cell_type": "code",
   "execution_count": null,
   "id": "cdzBwBn_tZeP",
   "metadata": {
    "colab": {
     "base_uri": "https://localhost:8080/"
    },
    "executionInfo": {
     "elapsed": 3,
     "status": "ok",
     "timestamp": 1695680665223,
     "user": {
      "displayName": "Jacob Schroder",
      "userId": "01251390844616463510"
     },
     "user_tz": 360
    },
    "id": "cdzBwBn_tZeP",
    "outputId": "b4ec46a7-f805-452b-edb5-a1994772ca7c"
   },
   "outputs": [],
   "source": [
    "# test shortest path length\n",
    "print(\"Shortest path length: \" + str(layout.get_shortest_path_length()))"
   ]
  },
  {
   "cell_type": "code",
   "execution_count": null,
   "id": "0fbad64a",
   "metadata": {
    "colab": {
     "base_uri": "https://localhost:8080/"
    },
    "executionInfo": {
     "elapsed": 2,
     "status": "ok",
     "timestamp": 1695680665223,
     "user": {
      "displayName": "Jacob Schroder",
      "userId": "01251390844616463510"
     },
     "user_tz": 360
    },
    "id": "SmLzcKAFtZUf",
    "outputId": "d9cad9da-2380-4ddb-afbf-4580b9c5cba8"
   },
   "outputs": [],
   "source": [
    "# test check path stayes on maze\n",
    "movements = [ (0,0), (1,0), (2,0), (4,0), (6,3), (2,8), (6,12), (9,6), (11,2), (11,12), (0,12)]\n",
    "print(\"Stays on path? T  \" + str(layout.check_path_stays_on_maze(movements)) )\n",
    "\n",
    "movements = [ (0,0), (1,0), (2,0), (4,0), (6,3), (2,8), (6,12), (9,6), (11,2), (10,11), (0,12)]\n",
    "print(\"Stays on path? F  \" + str(layout.check_path_stays_on_maze(movements)) )\n",
    "\n",
    "movements = [ (0,0), (1,0), (2,0), (6,5)]\n",
    "print(\"Stays on path? F  \" + str(layout.check_path_stays_on_maze(movements)) )\n",
    "\n",
    "movements = [ (0,10), (0,12), (1,8)]\n",
    "print(\"Stays on path? T  \" + str(layout.check_path_stays_on_maze(movements)) )\n",
    "\n",
    "movements = [ (0,0), (1,0), (2,0), (4,0), (5,3), (8,6), (12,6), (12,11), (12,12), (13,12) ]\n",
    "print(\"Stays on path? F  \" + str(layout.check_path_stays_on_maze(movements)) )\n"
   ]
  },
  {
   "cell_type": "code",
   "execution_count": null,
   "id": "d8be9f65",
   "metadata": {},
   "outputs": [],
   "source": [
    "print(\"expected: ['r'], ['l', 't', 'b'], ['t'], ['l', 't'], ['l', 't', 'b']\" )\n",
    "layout.find_open_directions((0,0)), layout.find_open_directions((4,5)), layout.find_open_directions((0,10)), layout.find_open_directions((9,3)), layout.find_open_directions((11,6))\n"
   ]
  },
  {
   "cell_type": "code",
   "execution_count": null,
   "id": "c72264c2",
   "metadata": {},
   "outputs": [],
   "source": [
    "from turtle_generator import create_layout\n",
    "\n",
    "# check with maze number and with pond (should get warning message printed)\n",
    "layout = create_layout(ax, nx, ny, maze_number = 1, pond_location=(3,0))\n",
    "movements = [ (0,0), (1,0), (2,0), (3,0)]\n",
    "print(\"Expected  F:  \" + str(layout.check_path_includes_goal(movements)))\n",
    "movements = [ (0,10), (12,11), (12,12)]\n",
    "print(\"Expected  T:  \" + str(layout.check_path_includes_goal(movements)))\n"
   ]
  },
  {
   "cell_type": "markdown",
   "id": "mrjABR_G-KSa",
   "metadata": {
    "id": "mrjABR_G-KSa"
   },
   "source": [
    "### Test Turtle Class using Mazes 2 and 3"
   ]
  },
  {
   "cell_type": "code",
   "execution_count": null,
   "id": "zYN6PT1XI-7W",
   "metadata": {
    "colab": {
     "base_uri": "https://localhost:8080/",
     "height": 529
    },
    "executionInfo": {
     "elapsed": 1372,
     "status": "ok",
     "timestamp": 1695680666816,
     "user": {
      "displayName": "Jacob Schroder",
      "userId": "01251390844616463510"
     },
     "user_tz": 360
    },
    "id": "zYN6PT1XI-7W",
    "outputId": "26d58168-1c82-4afe-d3bd-46709742b204"
   },
   "outputs": [],
   "source": [
    "from turtle_generator import turtle_generator\n",
    "\n",
    "# Experiment with default\n",
    "turtle = turtle_generator(maze_number=2)\n",
    "turtle.show_starting_position()"
   ]
  },
  {
   "cell_type": "markdown",
   "id": "62d7b733",
   "metadata": {},
   "source": [
    "### Test  pond_location  maze options, making sure that the maze goal always overrides the pond_location"
   ]
  },
  {
   "cell_type": "code",
   "execution_count": null,
   "id": "2ff1ab42",
   "metadata": {},
   "outputs": [],
   "source": [
    "from turtle_generator import turtle_generator\n",
    "\n",
    "# Experiment with default\n",
    "turtle = turtle_generator(maze_number=2, pond_location=(4,9))\n",
    "turtle.show_starting_position()"
   ]
  },
  {
   "cell_type": "markdown",
   "id": "bb1671ae",
   "metadata": {},
   "source": [
    "### Maze = 2, Begin testing animations and check maze functions"
   ]
  },
  {
   "cell_type": "code",
   "execution_count": null,
   "id": "a2b88233",
   "metadata": {
    "executionInfo": {
     "elapsed": 11387,
     "status": "aborted",
     "timestamp": 1695680674984,
     "user": {
      "displayName": "Jacob Schroder",
      "userId": "01251390844616463510"
     },
     "user_tz": 360
    },
    "id": "OkIfVIbxJVsu"
   },
   "outputs": [],
   "source": [
    "from turtle_generator import turtle_generator\n",
    "turtle = turtle_generator(maze_number=2)\n",
    "turtle.show_starting_position()"
   ]
  },
  {
   "cell_type": "code",
   "execution_count": null,
   "id": "OkIfVIbxJVsu",
   "metadata": {
    "executionInfo": {
     "elapsed": 11387,
     "status": "aborted",
     "timestamp": 1695680674984,
     "user": {
      "displayName": "Jacob Schroder",
      "userId": "01251390844616463510"
     },
     "user_tz": 360
    },
    "id": "OkIfVIbxJVsu"
   },
   "outputs": [],
   "source": [
    "# Navigate to pond on shortest path\n",
    "from turtle_generator import turtle_generator\n",
    "\n",
    "turtle13 = turtle_generator(nx=14, ny=14, maze_number=2)\n",
    "turtle13.start_new_journey()\n",
    "turtle13.move_right()\n",
    "turtle13.move_right()\n",
    "turtle13.move_right()\n",
    "turtle13.move_right()\n",
    "turtle13.move_right()\n",
    "\n",
    "turtle13.move_up()\n",
    "turtle13.move_up()\n",
    "turtle13.move_up()\n",
    "turtle13.move_up()\n",
    "turtle13.move_up()\n",
    "turtle13.move_up()\n",
    "\n",
    "turtle13.move_right()\n",
    "turtle13.move_right()\n",
    "\n",
    "turtle13.move_up()\n",
    "turtle13.move_up()\n",
    "turtle13.move_up()\n",
    "turtle13.move_up()\n",
    "turtle13.move_up()\n",
    "turtle13.move_up()\n",
    "\n",
    "turtle13.move_right()\n",
    "turtle13.move_right()\n",
    "turtle13.move_right()\n",
    "turtle13.move_right()\n",
    "turtle13.move_right()\n",
    "\n",
    "# check\n",
    "print(\"check stayed on path          T \" + str(turtle13.check_stayed_on_maze_path()) + '\\n')\n",
    "print(\"check continuous path         T \" + str(turtle13.check_continuous_movements())+ '\\n')\n",
    "print(\"check reach maze goal         T \" + str(turtle13.check_reached_maze_goal() )+ '\\n')\n",
    "print(\"check maze completed          T \" + str(turtle13.check_maze_completed())+ '\\n')\n",
    "print(\"check maze completed shortest T \" + str(turtle13.check_maze_completed_with_shortest_path())+ '\\n')\n",
    "\n",
    "turtle13.turtles[0].movements.append( (2,5) )\n",
    "print(\"check continuous path         F \" + str(turtle13.check_continuous_movements()))\n",
    "\n",
    "#turtle13.watch_me_move(frame_rate=50)"
   ]
  },
  {
   "cell_type": "code",
   "execution_count": null,
   "id": "9a1cc792",
   "metadata": {
    "executionInfo": {
     "elapsed": 11387,
     "status": "aborted",
     "timestamp": 1695680674984,
     "user": {
      "displayName": "Jacob Schroder",
      "userId": "01251390844616463510"
     },
     "user_tz": 360
    },
    "id": "OkIfVIbxJVsu"
   },
   "outputs": [],
   "source": [
    "# Navigate to pond NOT on shortest path\n",
    "from turtle_generator import turtle_generator\n",
    "\n",
    "turtle13 = turtle_generator(nx=14, ny=14, maze_number=2)\n",
    "turtle13.start_new_journey()\n",
    "turtle13.move_right()\n",
    "turtle13.move_right()\n",
    "turtle13.move_right()\n",
    "turtle13.move_right()\n",
    "turtle13.move_right()\n",
    "\n",
    "turtle13.move_up()\n",
    "turtle13.move_up()\n",
    "turtle13.move_up()\n",
    "turtle13.move_up()\n",
    "turtle13.move_up()\n",
    "turtle13.move_up()\n",
    "\n",
    "turtle13.move_right()\n",
    "turtle13.move_right()\n",
    "\n",
    "turtle13.move_down()\n",
    "\n",
    "turtle13.move_right()\n",
    "turtle13.move_right()\n",
    "turtle13.move_right()\n",
    "turtle13.move_right()\n",
    "turtle13.move_right()\n",
    "\n",
    "turtle13.move_up()\n",
    "turtle13.move_up()\n",
    "turtle13.move_up()\n",
    "turtle13.move_up()\n",
    "turtle13.move_up()\n",
    "turtle13.move_up()\n",
    "turtle13.move_up()\n",
    "\n",
    "# check\n",
    "print(\"check stayed on path          T \" + str(turtle13.check_stayed_on_maze_path()) + '\\n')\n",
    "print(\"check continuous path         T \" + str(turtle13.check_continuous_movements())+ '\\n')\n",
    "print(\"check reach maze goal         T \" + str(turtle13.check_reached_maze_goal() )+ '\\n')\n",
    "print(\"check maze completed          T \" + str(turtle13.check_maze_completed())+ '\\n')\n",
    "print(\"check maze completed shortest F \" + str(turtle13.check_maze_completed_with_shortest_path())+ '\\n')\n",
    "\n",
    "#turtle13.watch_me_move(frame_rate=50)\n"
   ]
  },
  {
   "cell_type": "code",
   "execution_count": null,
   "id": "46490866",
   "metadata": {
    "executionInfo": {
     "elapsed": 11387,
     "status": "aborted",
     "timestamp": 1695680674984,
     "user": {
      "displayName": "Jacob Schroder",
      "userId": "01251390844616463510"
     },
     "user_tz": 360
    },
    "id": "OkIfVIbxJVsu"
   },
   "outputs": [],
   "source": [
    "# Navigate to pond BUT leave path\n",
    "from turtle_generator import turtle_generator\n",
    "\n",
    "turtle13 = turtle_generator(nx=14, ny=14, maze_number=2)\n",
    "turtle13.start_new_journey()\n",
    "turtle13.move_right()\n",
    "turtle13.move_right()\n",
    "turtle13.move_right()\n",
    "turtle13.move_right()\n",
    "turtle13.move_right()\n",
    "\n",
    "turtle13.move_up()\n",
    "turtle13.move_up()\n",
    "turtle13.move_up()\n",
    "turtle13.move_up()\n",
    "turtle13.move_up()\n",
    "turtle13.move_up()\n",
    "\n",
    "turtle13.move_right()\n",
    "\n",
    "turtle13.move_down()\n",
    "\n",
    "turtle13.move_right()\n",
    "turtle13.move_right()\n",
    "turtle13.move_right()\n",
    "turtle13.move_right()\n",
    "turtle13.move_right()\n",
    "turtle13.move_right()\n",
    "\n",
    "turtle13.move_up()\n",
    "turtle13.move_up()\n",
    "turtle13.move_up()\n",
    "turtle13.move_up()\n",
    "turtle13.move_up()\n",
    "turtle13.move_up()\n",
    "turtle13.move_up()\n",
    "\n",
    "# check\n",
    "print(\"check stayed on path          F \" + str(turtle13.check_stayed_on_maze_path()) + '\\n')\n",
    "print(\"check continuous path         T \" + str(turtle13.check_continuous_movements())+ '\\n')\n",
    "print(\"check reach maze goal         T \" + str(turtle13.check_reached_maze_goal() )+ '\\n')\n",
    "print(\"check maze completed          F \" + str(turtle13.check_maze_completed())+ '\\n')\n",
    "print(\"check maze completed shortest F \" + str(turtle13.check_maze_completed_with_shortest_path())+ '\\n')\n",
    "\n",
    "#turtle13.watch_me_move(frame_rate=50)\n"
   ]
  },
  {
   "cell_type": "code",
   "execution_count": null,
   "id": "6bb19148",
   "metadata": {
    "executionInfo": {
     "elapsed": 11387,
     "status": "aborted",
     "timestamp": 1695680674984,
     "user": {
      "displayName": "Jacob Schroder",
      "userId": "01251390844616463510"
     },
     "user_tz": 360
    },
    "id": "OkIfVIbxJVsu"
   },
   "outputs": [],
   "source": [
    "# Navigate to pond BUT leave path\n",
    "from turtle_generator import turtle_generator\n",
    "\n",
    "turtle13 = turtle_generator(nx=14, ny=14, maze_number=2)\n",
    "turtle13.start_new_journey()\n",
    "turtle13.move_right()\n",
    "turtle13.move_up()\n",
    "turtle13.move_down()\n",
    "turtle13.move_right()\n",
    "turtle13.move_right()\n",
    "turtle13.move_right()\n",
    "turtle13.move_right()\n",
    "\n",
    "turtle13.move_up()\n",
    "turtle13.move_up()\n",
    "turtle13.move_up()\n",
    "turtle13.move_up()\n",
    "turtle13.move_up()\n",
    "turtle13.move_up()\n",
    "\n",
    "turtle13.move_right()\n",
    "turtle13.move_right()\n",
    "\n",
    "turtle13.move_down()\n",
    "\n",
    "turtle13.move_right()\n",
    "turtle13.move_right()\n",
    "turtle13.move_right()\n",
    "turtle13.move_right()\n",
    "turtle13.move_right()\n",
    "\n",
    "turtle13.move_up()\n",
    "turtle13.move_up()\n",
    "turtle13.move_up()\n",
    "turtle13.move_up()\n",
    "turtle13.move_up()\n",
    "turtle13.move_up()\n",
    "turtle13.move_up()\n",
    "\n",
    "# check\n",
    "print(\"check stayed on path          F \" + str(turtle13.check_stayed_on_maze_path()) + '\\n')\n",
    "print(\"check continuous path         T \" + str(turtle13.check_continuous_movements())+ '\\n')\n",
    "print(\"check reach maze goal         T \" + str(turtle13.check_reached_maze_goal() )+ '\\n')\n",
    "print(\"check maze completed          F \" + str(turtle13.check_maze_completed())+ '\\n')\n",
    "print(\"check maze completed shortest F \" + str(turtle13.check_maze_completed_with_shortest_path())+ '\\n')\n",
    "\n",
    "#turtle13.watch_me_move(frame_rate=50)"
   ]
  },
  {
   "cell_type": "code",
   "execution_count": null,
   "id": "93cf9db1",
   "metadata": {
    "executionInfo": {
     "elapsed": 11387,
     "status": "aborted",
     "timestamp": 1695680674984,
     "user": {
      "displayName": "Jacob Schroder",
      "userId": "01251390844616463510"
     },
     "user_tz": 360
    },
    "id": "OkIfVIbxJVsu"
   },
   "outputs": [],
   "source": [
    "# Navigate to pond but try moving off grid\n",
    "#   Basically, turtle navigates maze successfully, except one bad move to (5,-1)\n",
    "from turtle_generator import turtle_generator\n",
    "\n",
    "turtle13 = turtle_generator(nx=14, ny=14, maze_number=2)\n",
    "turtle13.start_new_journey()\n",
    "turtle13.move_right()\n",
    "turtle13.move_right()\n",
    "turtle13.move_right()\n",
    "turtle13.move_right()\n",
    "turtle13.move_right()\n",
    "\n",
    "turtle13.move_down()\n",
    "\n",
    "turtle13.move_up()\n",
    "turtle13.move_up()\n",
    "turtle13.move_up()\n",
    "turtle13.move_up()\n",
    "turtle13.move_up()\n",
    "turtle13.move_up()\n",
    "\n",
    "turtle13.move_right()\n",
    "turtle13.move_right()\n",
    "\n",
    "turtle13.move_down()\n",
    "\n",
    "turtle13.move_right()\n",
    "turtle13.move_right()\n",
    "turtle13.move_right()\n",
    "turtle13.move_right()\n",
    "turtle13.move_right()\n",
    "\n",
    "turtle13.move_up()\n",
    "turtle13.move_up()\n",
    "turtle13.move_up()\n",
    "turtle13.move_up()\n",
    "turtle13.move_up()\n",
    "turtle13.move_up()\n",
    "turtle13.move_up()\n",
    "\n",
    "# check\n",
    "print(\"check stayed on path          T \" + str(turtle13.check_stayed_on_maze_path()) + '\\n')\n",
    "print(\"check continuous path         T \" + str(turtle13.check_continuous_movements())+ '\\n')\n",
    "print(\"check reach maze goal         T \" + str(turtle13.check_reached_maze_goal() )+ '\\n')\n",
    "print(\"check maze completed          F \" + str(turtle13.check_maze_completed())+ '\\n')\n",
    "print(\"check maze completed shortest F \" + str(turtle13.check_maze_completed_with_shortest_path())+ '\\n')\n",
    "\n",
    "#turtle13.watch_me_move(frame_rate=50)"
   ]
  },
  {
   "cell_type": "code",
   "execution_count": null,
   "id": "068a7add",
   "metadata": {},
   "outputs": [],
   "source": []
  },
  {
   "cell_type": "markdown",
   "id": "96fabccc",
   "metadata": {},
   "source": [
    "### Maze = 3, Begin testing animations and check maze functions"
   ]
  },
  {
   "cell_type": "code",
   "execution_count": null,
   "id": "1ad8fba2",
   "metadata": {
    "executionInfo": {
     "elapsed": 11387,
     "status": "aborted",
     "timestamp": 1695680674984,
     "user": {
      "displayName": "Jacob Schroder",
      "userId": "01251390844616463510"
     },
     "user_tz": 360
    },
    "id": "OkIfVIbxJVsu"
   },
   "outputs": [],
   "source": [
    "from turtle_generator import turtle_generator\n",
    "turtle = turtle_generator(maze_number=3)\n",
    "turtle.show_starting_position()"
   ]
  },
  {
   "cell_type": "code",
   "execution_count": null,
   "id": "0aa06606",
   "metadata": {
    "executionInfo": {
     "elapsed": 11387,
     "status": "aborted",
     "timestamp": 1695680674984,
     "user": {
      "displayName": "Jacob Schroder",
      "userId": "01251390844616463510"
     },
     "user_tz": 360
    },
    "id": "OkIfVIbxJVsu"
   },
   "outputs": [],
   "source": [
    "# Navigate to pond on shortest path\n",
    "from turtle_generator import turtle_generator\n",
    "\n",
    "turtle13 = turtle_generator(nx=14, ny=14, maze_number=3)\n",
    "turtle13.start_new_journey()\n",
    "turtle13.move_right()\n",
    "turtle13.move_right()\n",
    "turtle13.move_right()\n",
    "turtle13.move_right()\n",
    "turtle13.move_right()\n",
    "turtle13.move_right()\n",
    "\n",
    "turtle13.move_up()\n",
    "turtle13.move_up()\n",
    "turtle13.move_up()\n",
    "\n",
    "turtle13.move_right()\n",
    "turtle13.move_right()\n",
    "turtle13.move_right()\n",
    "\n",
    "turtle13.move_up()\n",
    "turtle13.move_up()\n",
    "turtle13.move_up()\n",
    "\n",
    "turtle13.move_left()\n",
    "turtle13.move_left()\n",
    "turtle13.move_left()\n",
    "\n",
    "turtle13.move_up()\n",
    "turtle13.move_up()\n",
    "turtle13.move_up()\n",
    "turtle13.move_up()\n",
    "turtle13.move_up()\n",
    "turtle13.move_up()\n",
    "\n",
    "turtle13.move_left()\n",
    "turtle13.move_left()\n",
    "turtle13.move_left()\n",
    "turtle13.move_left()\n",
    "turtle13.move_left()\n",
    "turtle13.move_left()\n",
    "\n",
    "turtle13.move_down()\n",
    "turtle13.move_down()\n",
    "\n",
    "# check\n",
    "print(\"check stayed on path          T \" + str(turtle13.check_stayed_on_maze_path()) + '\\n')\n",
    "print(\"check continuous path         T \" + str(turtle13.check_continuous_movements())+ '\\n')\n",
    "print(\"check reach maze goal         T \" + str(turtle13.check_reached_maze_goal() )+ '\\n')\n",
    "print(\"check maze completed          T \" + str(turtle13.check_maze_completed())+ '\\n')\n",
    "print(\"check maze completed shortest T \" + str(turtle13.check_maze_completed_with_shortest_path())+ '\\n')\n",
    "\n",
    "turtle13.turtles[0].movements.append( (2,5) )\n",
    "print(\"check continuous path         F \" + str(turtle13.check_continuous_movements()))\n",
    "\n",
    "#turtle13.watch_me_move(frame_rate=50)"
   ]
  },
  {
   "cell_type": "code",
   "execution_count": null,
   "id": "a9e0ee4d",
   "metadata": {
    "executionInfo": {
     "elapsed": 11387,
     "status": "aborted",
     "timestamp": 1695680674984,
     "user": {
      "displayName": "Jacob Schroder",
      "userId": "01251390844616463510"
     },
     "user_tz": 360
    },
    "id": "OkIfVIbxJVsu"
   },
   "outputs": [],
   "source": [
    "# Navigate to pond NOT on shortest path\n",
    "from turtle_generator import turtle_generator\n",
    "\n",
    "turtle13 = turtle_generator(nx=14, ny=14, maze_number=3)\n",
    "turtle13.start_new_journey()\n",
    "turtle13.move_right()\n",
    "turtle13.move_right()\n",
    "turtle13.move_right()\n",
    "turtle13.move_right()\n",
    "turtle13.move_right()\n",
    "turtle13.move_right()\n",
    "\n",
    "turtle13.move_up()\n",
    "turtle13.move_up()\n",
    "turtle13.move_up()\n",
    "\n",
    "turtle13.move_right()\n",
    "turtle13.move_right()\n",
    "turtle13.move_right()\n",
    "\n",
    "turtle13.move_up()\n",
    "turtle13.move_up()\n",
    "turtle13.move_up()\n",
    "\n",
    "turtle13.move_right()\n",
    "turtle13.move_right()\n",
    "\n",
    "turtle13.move_up()\n",
    "turtle13.move_up()\n",
    "turtle13.move_up()\n",
    "turtle13.move_up()\n",
    "turtle13.move_up()\n",
    "turtle13.move_up()\n",
    "\n",
    "turtle13.move_left()\n",
    "turtle13.move_left()\n",
    "turtle13.move_left()\n",
    "turtle13.move_left()\n",
    "turtle13.move_left()\n",
    "turtle13.move_left()\n",
    "turtle13.move_left()\n",
    "turtle13.move_left()\n",
    "turtle13.move_left()\n",
    "turtle13.move_left()\n",
    "turtle13.move_left()\n",
    "\n",
    "turtle13.move_down()\n",
    "turtle13.move_down()\n",
    "\n",
    "# check\n",
    "print(\"check stayed on path          T \" + str(turtle13.check_stayed_on_maze_path()) + '\\n')\n",
    "print(\"check continuous path         T \" + str(turtle13.check_continuous_movements())+ '\\n')\n",
    "print(\"check reach maze goal         T \" + str(turtle13.check_reached_maze_goal() )+ '\\n')\n",
    "print(\"check maze completed          T \" + str(turtle13.check_maze_completed())+ '\\n')\n",
    "print(\"check maze completed shortest F \" + str(turtle13.check_maze_completed_with_shortest_path())+ '\\n')\n",
    "\n",
    "#turtle13.watch_me_move(frame_rate=50)\n"
   ]
  },
  {
   "cell_type": "code",
   "execution_count": null,
   "id": "3ab86301",
   "metadata": {
    "executionInfo": {
     "elapsed": 11387,
     "status": "aborted",
     "timestamp": 1695680674984,
     "user": {
      "displayName": "Jacob Schroder",
      "userId": "01251390844616463510"
     },
     "user_tz": 360
    },
    "id": "OkIfVIbxJVsu"
   },
   "outputs": [],
   "source": [
    "# Navigate to pond BUT get stuck in dead end\n",
    "from turtle_generator import turtle_generator\n",
    "\n",
    "turtle13 = turtle_generator(nx=14, ny=14, maze_number=3)\n",
    "turtle13.start_new_journey()\n",
    "turtle13.move_right()\n",
    "turtle13.move_right()\n",
    "turtle13.move_right()\n",
    "turtle13.move_right()\n",
    "turtle13.move_right()\n",
    "turtle13.move_right()\n",
    "\n",
    "turtle13.move_up()\n",
    "turtle13.move_up()\n",
    "turtle13.move_up()\n",
    "\n",
    "turtle13.move_left()\n",
    "turtle13.move_left()\n",
    "\n",
    "\n",
    "turtle13.move_up()\n",
    "turtle13.move_up()\n",
    "\n",
    "turtle13.move_left()\n",
    "turtle13.move_left()\n",
    "\n",
    "turtle13.move_up()\n",
    "turtle13.move_up()\n",
    "turtle13.move_up()\n",
    "\n",
    "turtle13.move_left()\n",
    "\n",
    "# check\n",
    "print(\"check stayed on path          T \" + str(turtle13.check_stayed_on_maze_path()) + '\\n')\n",
    "print(\"check continuous path         T \" + str(turtle13.check_continuous_movements())+ '\\n')\n",
    "print(\"check reach maze goal         F \" + str(turtle13.check_reached_maze_goal() )+ '\\n')\n",
    "print(\"check maze completed          F \" + str(turtle13.check_maze_completed())+ '\\n')\n",
    "print(\"check maze completed shortest F \" + str(turtle13.check_maze_completed_with_shortest_path())+ '\\n')\n",
    "\n",
    "#turtle13.watch_me_move(frame_rate=50)\n"
   ]
  },
  {
   "cell_type": "code",
   "execution_count": null,
   "id": "e4f03bb3",
   "metadata": {
    "executionInfo": {
     "elapsed": 11387,
     "status": "aborted",
     "timestamp": 1695680674984,
     "user": {
      "displayName": "Jacob Schroder",
      "userId": "01251390844616463510"
     },
     "user_tz": 360
    },
    "id": "OkIfVIbxJVsu"
   },
   "outputs": [],
   "source": [
    "# Navigate to pond BUT leave path\n",
    "from turtle_generator import turtle_generator\n",
    "\n",
    "turtle13 = turtle_generator(nx=14, ny=14, maze_number=3)\n",
    "turtle13.start_new_journey()\n",
    "turtle13.move_right()\n",
    "turtle13.move_right()\n",
    "turtle13.move_right()\n",
    "turtle13.move_right()\n",
    "turtle13.move_right()\n",
    "turtle13.move_right()\n",
    "\n",
    "turtle13.move_up()\n",
    "turtle13.move_up()\n",
    "turtle13.move_up()\n",
    "\n",
    "turtle13.move_right()\n",
    "turtle13.move_right()\n",
    "turtle13.move_right()\n",
    "turtle13.move_right()\n",
    "\n",
    "turtle13.move_up()\n",
    "turtle13.move_up()\n",
    "turtle13.move_up()\n",
    "\n",
    "turtle13.move_left()\n",
    "turtle13.move_left()\n",
    "turtle13.move_left()\n",
    "turtle13.move_left()\n",
    "\n",
    "turtle13.move_up()\n",
    "turtle13.move_up()\n",
    "turtle13.move_up()\n",
    "turtle13.move_up()\n",
    "turtle13.move_up()\n",
    "turtle13.move_up()\n",
    "\n",
    "turtle13.move_left()\n",
    "turtle13.move_left()\n",
    "turtle13.move_left()\n",
    "turtle13.move_left()\n",
    "turtle13.move_left()\n",
    "turtle13.move_left()\n",
    "\n",
    "turtle13.move_down()\n",
    "turtle13.move_down()\n",
    "\n",
    "# check\n",
    "print(\"check stayed on path          F \" + str(turtle13.check_stayed_on_maze_path()) + '\\n')\n",
    "print(\"check continuous path         T \" + str(turtle13.check_continuous_movements())+ '\\n')\n",
    "print(\"check reach maze goal         T \" + str(turtle13.check_reached_maze_goal() )+ '\\n')\n",
    "print(\"check maze completed          F \" + str(turtle13.check_maze_completed())+ '\\n')\n",
    "print(\"check maze completed shortest F \" + str(turtle13.check_maze_completed_with_shortest_path())+ '\\n')\n",
    "\n",
    "#turtle13.watch_me_move(frame_rate=50)"
   ]
  },
  {
   "cell_type": "code",
   "execution_count": null,
   "id": "92135c09",
   "metadata": {
    "executionInfo": {
     "elapsed": 11387,
     "status": "aborted",
     "timestamp": 1695680674984,
     "user": {
      "displayName": "Jacob Schroder",
      "userId": "01251390844616463510"
     },
     "user_tz": 360
    },
    "id": "OkIfVIbxJVsu"
   },
   "outputs": [],
   "source": [
    "# Navigate to pond but try moving off grid\n",
    "#   Basically, turtle navigates maze successfully, except one bad move to (5,-1)\n",
    "from turtle_generator import turtle_generator\n",
    "\n",
    "turtle13 = turtle_generator(nx=14, ny=14, maze_number=3)\n",
    "turtle13.start_new_journey()\n",
    "turtle13.move_right()\n",
    "turtle13.move_right()\n",
    "turtle13.move_right()\n",
    "turtle13.move_down()\n",
    "turtle13.move_right()\n",
    "turtle13.move_right()\n",
    "turtle13.move_right()\n",
    "\n",
    "turtle13.move_up()\n",
    "turtle13.move_up()\n",
    "turtle13.move_up()\n",
    "\n",
    "turtle13.move_right()\n",
    "turtle13.move_right()\n",
    "turtle13.move_right()\n",
    "\n",
    "turtle13.move_up()\n",
    "turtle13.move_up()\n",
    "turtle13.move_up()\n",
    "\n",
    "turtle13.move_left()\n",
    "turtle13.move_left()\n",
    "turtle13.move_left()\n",
    "\n",
    "turtle13.move_up()\n",
    "turtle13.move_up()\n",
    "turtle13.move_up()\n",
    "turtle13.move_up()\n",
    "turtle13.move_up()\n",
    "turtle13.move_up()\n",
    "\n",
    "turtle13.move_left()\n",
    "turtle13.move_left()\n",
    "turtle13.move_left()\n",
    "turtle13.move_left()\n",
    "turtle13.move_left()\n",
    "turtle13.move_left()\n",
    "\n",
    "turtle13.move_down()\n",
    "turtle13.move_down()\n",
    "\n",
    "# check\n",
    "print(\"check stayed on path          T \" + str(turtle13.check_stayed_on_maze_path()) + '\\n')\n",
    "print(\"check continuous path         T \" + str(turtle13.check_continuous_movements())+ '\\n')\n",
    "print(\"check reach maze goal         T \" + str(turtle13.check_reached_maze_goal() )+ '\\n')\n",
    "print(\"check maze completed          F \" + str(turtle13.check_maze_completed())+ '\\n')\n",
    "print(\"check maze completed shortest F \" + str(turtle13.check_maze_completed_with_shortest_path())+ '\\n')\n",
    "\n",
    "#turtle13.watch_me_move(frame_rate=50)"
   ]
  },
  {
   "cell_type": "code",
   "execution_count": null,
   "id": "4d9653eb",
   "metadata": {
    "executionInfo": {
     "elapsed": 11387,
     "status": "aborted",
     "timestamp": 1695680674984,
     "user": {
      "displayName": "Jacob Schroder",
      "userId": "01251390844616463510"
     },
     "user_tz": 360
    },
    "id": "OkIfVIbxJVsu"
   },
   "outputs": [],
   "source": [
    "# Navigate to pond BUT go back and forth once\n",
    "from turtle_generator import turtle_generator\n",
    "\n",
    "turtle13 = turtle_generator(nx=14, ny=14, maze_number=3)\n",
    "turtle13.start_new_journey()\n",
    "turtle13.move_right()\n",
    "turtle13.move_right()\n",
    "turtle13.move_right()\n",
    "turtle13.move_right()\n",
    "turtle13.move_right()\n",
    "turtle13.move_right()\n",
    "\n",
    "turtle13.move_up()\n",
    "turtle13.move_down()\n",
    "turtle13.move_up()\n",
    "turtle13.move_up()\n",
    "turtle13.move_up()\n",
    "\n",
    "turtle13.move_right()\n",
    "turtle13.move_right()\n",
    "turtle13.move_right()\n",
    "\n",
    "turtle13.move_up()\n",
    "turtle13.move_up()\n",
    "turtle13.move_up()\n",
    "\n",
    "turtle13.move_left()\n",
    "turtle13.move_left()\n",
    "turtle13.move_left()\n",
    "\n",
    "turtle13.move_up()\n",
    "turtle13.move_up()\n",
    "turtle13.move_up()\n",
    "turtle13.move_up()\n",
    "turtle13.move_up()\n",
    "turtle13.move_up()\n",
    "\n",
    "turtle13.move_left()\n",
    "turtle13.move_left()\n",
    "turtle13.move_left()\n",
    "turtle13.move_left()\n",
    "turtle13.move_left()\n",
    "turtle13.move_left()\n",
    "\n",
    "turtle13.move_down()\n",
    "turtle13.move_down()\n",
    "\n",
    "# check\n",
    "print(\"check stayed on path          T \" + str(turtle13.check_stayed_on_maze_path()) + '\\n')\n",
    "print(\"check continuous path         T \" + str(turtle13.check_continuous_movements())+ '\\n')\n",
    "print(\"check reach maze goal         T \" + str(turtle13.check_reached_maze_goal() )+ '\\n')\n",
    "print(\"check maze completed          T \" + str(turtle13.check_maze_completed())+ '\\n')\n",
    "print(\"check maze completed shortest F \" + str(turtle13.check_maze_completed_with_shortest_path())+ '\\n')\n",
    "\n",
    "#turtle13.watch_me_move(frame_rate=50)"
   ]
  },
  {
   "cell_type": "code",
   "execution_count": null,
   "id": "457406d6",
   "metadata": {},
   "outputs": [],
   "source": []
  }
 ],
 "metadata": {
  "colab": {
   "provenance": []
  },
  "kernelspec": {
   "display_name": "Python 3 (ipykernel)",
   "language": "python",
   "name": "python3"
  },
  "language_info": {
   "codemirror_mode": {
    "name": "ipython",
    "version": 3
   },
   "file_extension": ".py",
   "mimetype": "text/x-python",
   "name": "python",
   "nbconvert_exporter": "python",
   "pygments_lexer": "ipython3",
   "version": "3.10.8"
  },
  "vp": {
   "vp_config_version": "1.0.0",
   "vp_menu_width": 273,
   "vp_note_display": false,
   "vp_note_width": 0,
   "vp_position": {
    "width": 278
   },
   "vp_section_display": false,
   "vp_signature": "VisualPython"
  }
 },
 "nbformat": 4,
 "nbformat_minor": 5
}
