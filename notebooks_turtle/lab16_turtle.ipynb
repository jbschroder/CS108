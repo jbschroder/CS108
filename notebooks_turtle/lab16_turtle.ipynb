{
 "cells": [
  {
   "cell_type": "markdown",
   "id": "d455074e",
   "metadata": {
    "slideshow": {
     "slide_type": "slide"
    }
   },
   "source": [
    "## Turtle Lab 16: Inheritance \n",
    "Lecture file: Review for `10_Inheritance.ipynb`"
   ]
  },
  {
   "cell_type": "markdown",
   "id": "edf0d8b5",
   "metadata": {
    "slideshow": {
     "slide_type": "slide"
    }
   },
   "source": [
    "### Learning Goals\n",
    "\n",
    "### Today, we cover our last major topic regarding objects: Inheritance\n",
    "\n",
    "### Please re-read all of the below definitions -- do you have questions?  Just ask!\n",
    "\n",
    "1. Class Definition Review \n",
    "   - Class (less formal): Is a collection of related information and related functions.  The information can be numbers, words, lists and really anything.  \n",
    "       - The functions and information are typically related around a concept, like a circle class or turtle class\n",
    "       - The class defines how these functions and information interrelated, how they are structured\n",
    "       \n",
    "   - Class (more formal definition): is a code template for creating objects and providing initial (default) values for member variables and default member function\n",
    "\n",
    "2. Object Definition Review\n",
    "    - Object:  An object is an instance of a class.  \n",
    "    - An object is an instantiation, realization, embodiment of the class \n",
    "    - You can create multiple objects for the same class, for instance you could have 5 different circles, all objects based on the same class.  Each circle could have a different radius.\n",
    "\n",
    "3. Member Functions and Variables Review\n",
    "    - Classes can contain both variables and also functions\n",
    "    - These are called member variables and member functions"
   ]
  },
  {
   "cell_type": "markdown",
   "id": "723c1f1e",
   "metadata": {
    "slideshow": {
     "slide_type": "slide"
    }
   },
   "source": [
    "### Learning Goals\n",
    "\n",
    "1. Inheritance: the process of creating a new class based on a previous, pre-existing class\n",
    "   - The new class will inherit or keep all of the existing member variables and member functions from the previous, pre-existing class\n",
    "   - But, the new class will add something new, or different, so that the new class is different than the parent class\n",
    "   - For instance, the parent class could be a rectangle, and the child class could be a square\n",
    "\n",
    "2. Parent class: this is the previous, pre-existing clss\n",
    "\n",
    "3. Child class: this is the new class, and is based on the parent class\n",
    "   - The child class inherits all of the existing member varaibles and member functions from the parent class\n",
    "   - However, the child class can overwrite, or re-define member variables and member functions, so that they are different from the parent class\n",
    "\n",
    "4. Learn how to use inheritance\n",
    "   - For example, create a class for squares that inherits from the rectangle class"
   ]
  },
  {
   "cell_type": "markdown",
   "id": "5812ac65",
   "metadata": {},
   "source": [
    "### Let's first examine a simple example of inheritance\n",
    "\n",
    "### Task 1: Run the below two cells\n",
    "   - Study the `__init__` and `print_name` functions\n",
    "   \n",
    "### Task 2: Change the name from J Smith to something else, and re-run"
   ]
  },
  {
   "cell_type": "code",
   "execution_count": null,
   "id": "e87d56a5",
   "metadata": {
    "slideshow": {
     "slide_type": "slide"
    }
   },
   "outputs": [],
   "source": [
    "class Parent():\n",
    "    \n",
    "    def __init__(self, first, last):\n",
    "        self.first_name = first\n",
    "        self.last_name = last\n",
    "    \n",
    "    def print_name(self):\n",
    "        print(\"Parent's name is %s %s\"%(self.first_name, self.last_name))"
   ]
  },
  {
   "cell_type": "code",
   "execution_count": null,
   "id": "9b4ada0e",
   "metadata": {
    "slideshow": {
     "slide_type": "fragment"
    }
   },
   "outputs": [],
   "source": [
    "parent = Parent(\"J\", \"Smith\")\n",
    "parent.print_name()"
   ]
  },
  {
   "cell_type": "markdown",
   "id": "ab6024f1",
   "metadata": {
    "slideshow": {
     "slide_type": "slide"
    }
   },
   "source": [
    "### Next, we define a `Child()` class which inherits from `Parent()` \n",
    "\n",
    "### NOTE: the line `class Child(Parent):` \n",
    "   - This specifies that we have a new class named `Child` that inherits from `Parent`\n",
    "   - But, this class inherits all the structure and member variables and member functions from the class `Parent`\n",
    "\n",
    "### NOTE: the `super` command means that you are accessing a function from the `Parent` class\n",
    "   - That is, both classes have a `print_name` and `__init__` function that are different\n",
    "   - `super` lets you call a function from the Parent class\n",
    "   \n",
    "### Task: Run the below two cells\n",
    "   - Note how the `__init__` and `print_name` functions are now DIFFERENT for the Child class, when compared to Parent"
   ]
  },
  {
   "cell_type": "code",
   "execution_count": null,
   "id": "8ca96f51",
   "metadata": {
    "slideshow": {
     "slide_type": "slide"
    }
   },
   "outputs": [],
   "source": [
    "class Child(Parent):\n",
    "    # Re-define the __init__  and  print_name functions for the Child class\n",
    "\n",
    "    def __init__(self, parent_first, parent_last, child_first):\n",
    "        # Note the super command, which executes Parent.__init__(...)\n",
    "        super().__init__(parent_first, parent_last)\n",
    "        \n",
    "        # Here, we create a new member variable for the child's first name\n",
    "        self.child_name = child_first\n",
    "        \n",
    "    def print_name(self):\n",
    "        # Note the super command again, which executes Parent.print_name()\n",
    "        super().print_name()\n",
    "        \n",
    "        # Next, we print the child's name\n",
    "        print(\"Child's name is %s %s\"%(self.child_name, self.last_name))"
   ]
  },
  {
   "cell_type": "code",
   "execution_count": null,
   "id": "bf081f41",
   "metadata": {
    "slideshow": {
     "slide_type": "-"
    }
   },
   "outputs": [],
   "source": [
    "kid = Child(\"J\", \"Smith\", \"K\")\n",
    "\n",
    "kid.print_name()"
   ]
  },
  {
   "cell_type": "markdown",
   "id": "53fca4a1",
   "metadata": {},
   "source": [
    "### Task: Add a new member variable to the Parent class called `middle_name`\n",
    "   - Modify the Parent class `__init__` and `print_name` functions to accommodate the middle name\n",
    "   - Your code should be able to reproduce the below output.\n",
    "   \n",
    "     Add a new code cell below, and reproduce this output with your new code\n",
    "   \n",
    "           parent = Parent(\"J\", \"Q\" \"Smith\")\n",
    "           parent.print_name()\n",
    "           \n",
    "           Parent's name is J Q Smith\n",
    "   \n",
    "   "
   ]
  },
  {
   "cell_type": "markdown",
   "id": "cf209a81",
   "metadata": {},
   "source": [
    "### Task: Add a new member variable to the Child class called `child_middle`\n",
    "   - Modify the Child class `__init__` and `print_name` functions for the child class to accommodate the middle name\n",
    "   - Your code should be able to reproduce the below output.\n",
    "   \n",
    "     Add a new code cell below, and reproduce this output with your new code\n",
    "   \n",
    "           kid = Child(\"J\", \"Q\", \"Smith\", \"K\", \"P\")\n",
    "           kid.print_name()\n",
    "   \n",
    "           Parent's name is J Q Smith\n",
    "           Child's name is K P Smith\n"
   ]
  },
  {
   "cell_type": "code",
   "execution_count": null,
   "id": "297913e2",
   "metadata": {},
   "outputs": [],
   "source": []
  },
  {
   "cell_type": "markdown",
   "id": "5bd6802d",
   "metadata": {},
   "source": [
    "### Task: Create a child class `square` based on your earlier `rectangle` class\n",
    "\n",
    "1. Take your rectangle class from lab 14, and copy and paste it into the below code cell\n",
    "\n",
    "2. Create a new code cell below rectangle and define a child class named `square`\n",
    "\n",
    "   - Remember to inherit, you have to start your class definition with `class square(rectangle):`\n",
    "\n",
    "   - The rectangle's `__init__` function took a width and height as parameters.  But, we don't need both of these values for a square, because width equals height.\n",
    "\n",
    "   - Thus, we need to redefine the `__init__` function for square, so that it only takes one side as a parameter.\n",
    "\n",
    "   - Do not redefine the `area` and `perimeter` functions for square. These functions do not need to change. (ask if you have questions here)\n",
    "\n",
    "3. Your code should be able to reproduce the below output.\n",
    "   \n",
    "     Add a second new code cell below, and reproduce this output with your new code\n",
    "   \n",
    "         w = 5\n",
    "         square1 = square(w)\n",
    "         print(square1.area(), \"area of square\")\n",
    "         print(square1.perimeter(), \"perimeter of square\")\n",
    "\n",
    "         25 area of square\n",
    "         20 perimeter of square\n",
    "    \n"
   ]
  },
  {
   "cell_type": "code",
   "execution_count": null,
   "id": "861743cf",
   "metadata": {
    "slideshow": {
     "slide_type": "slide"
    }
   },
   "outputs": [],
   "source": [
    "# copy rectangle class definition here"
   ]
  },
  {
   "cell_type": "markdown",
   "id": "d6f91639",
   "metadata": {},
   "source": [
    "### Task: Create a child class `equilateral` based on your earlier `triangle` class\n",
    "\n",
    "1. Take your triangle class from lab 15, and copy and paste it into the below code cell\n",
    "\n",
    "2. Create a new code cell below triangle and define a child class named `equilateral`\n",
    "\n",
    "   - Remember that an equilateral triangle has all three sides the same\n",
    "\n",
    "   - Remember to inherit, you have to start your class definition with `class equilateral(triangle):`\n",
    "\n",
    "   - So, the triangle's `__init__` function which took three parameters (the length of each side), is no longer needed. \n",
    "\n",
    "   - We need to redefine the `__init__` function for equilateral, so that it only takes one side as a parameter.\n",
    "   \n",
    "3. Question: Do you need to redefine the `area` and `perimeter` functions for equilateral?  Decide and then implement your decision.  (But ask if you have any questions.)\n",
    "\n",
    "   \n",
    "3. Your code should be able to reproduce the below output.\n",
    "   \n",
    "     Add a second new code cell below, and reproduce this output with your new code\n",
    "   \n",
    "         s = 3\n",
    "         tri1 = equilateral(s)\n",
    "         print(tri1.area(), \"area of equilateral triangle\")\n",
    "         print(tri1.perimeter(), \"perimeter of equilateral triangle\")\n",
    "\n",
    "         3.89711 area of equilateral triangle\n",
    "         9 perimeter of equilateral triangle\n",
    "    \n",
    "\n"
   ]
  },
  {
   "cell_type": "code",
   "execution_count": null,
   "id": "0d2505a0",
   "metadata": {},
   "outputs": [],
   "source": [
    "# copy triangle class definition here"
   ]
  },
  {
   "cell_type": "markdown",
   "id": "200cda76",
   "metadata": {
    "id": "HOFo2PXSHRik",
    "slideshow": {
     "slide_type": "slide"
    }
   },
   "source": [
    "------------------------\n",
    "\n",
    "### In case you finish the above tasks, we have an advanced turtle task here.  This task is an extension of your turtle controller object from lab 15.\n"
   ]
  },
  {
   "cell_type": "markdown",
   "id": "HOFo2PXSHRik",
   "metadata": {
    "id": "HOFo2PXSHRik",
    "slideshow": {
     "slide_type": "slide"
    }
   },
   "source": [
    "## We have some **house cleaning** to do before we can start. \n",
    "1. We download some code(`turtle_generator.py`) to define how our turtle can move around \n",
    "2. We pull the `turtle_generator` code into this notebook with an `import` command"
   ]
  },
  {
   "cell_type": "code",
   "execution_count": null,
   "id": "a7356955",
   "metadata": {
    "slideshow": {
     "slide_type": "-"
    }
   },
   "outputs": [],
   "source": [
    "# House cleaning part 1\n",
    "from urllib.request import urlretrieve\n",
    "(file, message) = urlretrieve('https://raw.githubusercontent.com/jbschroder/CS108/main/notebooks_turtle/turtle_generator.py', 'turtle_generator.py')\n",
    "print(\"You downloaded the file \" + file)\n",
    "\n",
    "# House cleaning part 2\n",
    "from turtle_generator import turtle_generator"
   ]
  },
  {
   "cell_type": "markdown",
   "id": "14b3550d",
   "metadata": {},
   "source": [
    "### Make sure you finished lab 15.  That is, your turtle controller code should support\n",
    "\n",
    "\n",
    "       controller = turtle_controller(2, (2,8))\n",
    "       animation = controller.navigate_maze2()\n",
    "       animation\n",
    " \n",
    "with the animation now displayed.\n",
    "\n",
    "\n",
    "Your turtle should be navigating maze 2 and starting at location (2,8).\n"
   ]
  },
  {
   "cell_type": "markdown",
   "id": "3e1418c7",
   "metadata": {},
   "source": [
    "### Task: Add third parameter to `turtle_controller` that specifies the number of turtles.  \n",
    "\n",
    "### You should be able to create two turtles, at starting position (0,0), that navigate maze 2 with \n",
    "\n",
    "       controller = turtle_controller(2, (2,8), 2)\n",
    "\n",
    "where the first `2` specifies the maze number and the last `2` specifies the number of turtles.\n",
    "\n",
    "### Update your `navigate_maze2(...)` and `navigate_maze1(...)` to take a parameter `which_turtle` and then navigate the maze with either turtle 0 or turtle 1 or both turtles.\n",
    "\n",
    "### You should be able to run \n",
    "\n",
    "       animation = controller.navigate_maze2(which_turtle=1)\n",
    "       animation\n",
    "       \n",
    "### And see turtle 1 navigate maze 2.  You should be able to run\n",
    "\n",
    "       animation = controller.navigate_maze2(which_turtle=0)\n",
    "       animation\n",
    "       \n",
    "### And see turtle 0 navigate maze 2.  You should be able to run\n",
    "\n",
    "       animation = controller.navigate_maze2(which_turtle='both')\n",
    "       animation\n",
    "       \n",
    "### And see both turtles navigate maze 2\n",
    "\n",
    "      \n",
    "### The same should be true for `navigate_maze1`"
   ]
  },
  {
   "cell_type": "code",
   "execution_count": null,
   "id": "c4665088",
   "metadata": {},
   "outputs": [],
   "source": []
  }
 ],
 "metadata": {
  "celltoolbar": "Slideshow",
  "kernelspec": {
   "display_name": "Python 3 (ipykernel)",
   "language": "python",
   "name": "python3"
  },
  "language_info": {
   "codemirror_mode": {
    "name": "ipython",
    "version": 3
   },
   "file_extension": ".py",
   "mimetype": "text/x-python",
   "name": "python",
   "nbconvert_exporter": "python",
   "pygments_lexer": "ipython3",
   "version": "3.10.8"
  }
 },
 "nbformat": 4,
 "nbformat_minor": 5
}
