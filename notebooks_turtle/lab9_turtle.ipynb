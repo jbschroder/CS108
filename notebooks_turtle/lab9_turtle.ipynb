{
 "cells": [
  {
   "cell_type": "markdown",
   "id": "d455074e",
   "metadata": {
    "slideshow": {
     "slide_type": "slide"
    }
   },
   "source": [
    "## Turtle Lab 9: Loops and More advanced turtle movements\n",
    "Lecture file: `06_Loops_Part2.ipynb`"
   ]
  },
  {
   "cell_type": "markdown",
   "id": "61b74318",
   "metadata": {
    "slideshow": {
     "slide_type": "slide"
    }
   },
   "source": [
    "### Learning Goals \n",
    "1. A `for` loop  can iterate over a `range` of numbers\n",
    "\n",
    "   - `range(...)` is a special Python built-in command that generates a list of consecutive numbers \n",
    "\n",
    "   - `range(5)` generates numbers `[0, 1, 2, 3, 4]\n",
    "   \n",
    "      **Notice that this generates 5 total numbers and stops at 4!**\n",
    "      \n",
    "   - `range(2,6)` generates numbers `[2, 3, 4, 5]`\n",
    "\n",
    "\n",
    "2. A `while` loop continually executes code until some conditional is met\n",
    "   - Practice with a `while` loop\n",
    "   \n",
    "#### Loops are a fundamental programming concept.  They allow you to run code again, and again, easily"
   ]
  },
  {
   "cell_type": "markdown",
   "id": "df0580e8",
   "metadata": {
    "slideshow": {
     "slide_type": "slide"
    }
   },
   "source": [
    "### Learning Goals \n",
    "\n",
    "3. Continue using conditionals (if/else) to move your turtle\n",
    "    - Continue using `not`, `<`, `>`, `<=`, `>=`, `==` inside of if/else\n",
    "    \n",
    "4. Combine conditionals and loops to move the turtle!"
   ]
  },
  {
   "cell_type": "markdown",
   "id": "HOFo2PXSHRik",
   "metadata": {
    "id": "HOFo2PXSHRik",
    "slideshow": {
     "slide_type": "slide"
    }
   },
   "source": [
    "### <font color=\"blue\"> First </font>\n",
    "\n",
    "<font color=\"blue\"> We have some **house cleaning** to do before we can start. </font>\n",
    "1. <font color=\"blue\"> We download some code(`turtle_generator.py`) to define how our turtle can move around </font>\n",
    "2. <font color=\"blue\"> We pull the `turtle_generator` code into this notebook with an `import` command </font>"
   ]
  },
  {
   "cell_type": "code",
   "execution_count": null,
   "id": "a7356955",
   "metadata": {
    "slideshow": {
     "slide_type": "-"
    }
   },
   "outputs": [],
   "source": [
    "# House cleaning part 1\n",
    "from urllib.request import urlretrieve\n",
    "(file, message) = urlretrieve('https://raw.githubusercontent.com/jbschroder/CS108/main/notebooks_turtle/turtle_generator.py', 'turtle_generator.py')\n",
    "print(\"You downloaded the file \" + file)\n",
    "\n",
    "# House cleaning part 2\n",
    "from turtle_generator import turtle_generator"
   ]
  },
  {
   "cell_type": "markdown",
   "id": "c8ed064c",
   "metadata": {
    "slideshow": {
     "slide_type": "slide"
    }
   },
   "source": [
    "### Using what you learned in the lecture video, you will now experiment with more advanced loops\n",
    "\n",
    "### Task 1: run the below cell, observe how numbers in the range 0, 1, 2, 3, 4 are printed\n",
    "    - Note that number 5 is not printed!  `range` does not generate that number\n",
    "    - The code: `for i in range(n)` creates a variable `i` and iterates from `i = 0` up to, but not including, `i = n`\n",
    "    \n",
    "### Task 2: change the `5` to a `10` and re-run the cell."
   ]
  },
  {
   "cell_type": "code",
   "execution_count": null,
   "id": "8ea44ace",
   "metadata": {
    "slideshow": {
     "slide_type": "subslide"
    }
   },
   "outputs": [],
   "source": [
    "for i in range(5):\n",
    "    print(i)"
   ]
  },
  {
   "cell_type": "markdown",
   "id": "dc536f41",
   "metadata": {
    "slideshow": {
     "slide_type": "slide"
    }
   },
   "source": [
    "### Task 1: Enter code in the below cell to print the numbers from `2` to `11` using `for` and `range`.  Run the cell.\n",
    "\n",
    "### Task 2: Repeat Task 1, but print the numbers from `10` to `20`"
   ]
  },
  {
   "cell_type": "code",
   "execution_count": null,
   "id": "f6b168b2",
   "metadata": {
    "slideshow": {
     "slide_type": "subslide"
    }
   },
   "outputs": [],
   "source": [
    "# enter code here"
   ]
  },
  {
   "cell_type": "markdown",
   "id": "c78706d3",
   "metadata": {},
   "source": [
    "### You can stop a loop early with a `break` statement and a conditional\n",
    "\n",
    "### Task: Add an `if` statement to the below cell, so that it will `break` when  `if (x>5):` is true\n",
    "- Run the below cell with and without the `break` statement\n",
    "- Note that during each iteration of the for loop, all *indented* code under the `for` loop is run (that is, executed)"
   ]
  },
  {
   "cell_type": "code",
   "execution_count": null,
   "id": "ad762dfe",
   "metadata": {},
   "outputs": [],
   "source": [
    "for x in range(10):\n",
    "    print(x)\n",
    "    # add if statement\n"
   ]
  },
  {
   "cell_type": "markdown",
   "id": "e6dba41c",
   "metadata": {},
   "source": [
    "### Task: Take the code in the above cell, and use it as a template to do the following.\n",
    "   - Instead of always breaking when `x > 5`, use a variable called `whentostop`\n",
    "   - That is, create `whentostop` as the very first thing that you do.  Set it to some value, probably between 1 and 10.\n",
    "   - Then, `if (x > whentostop):` you will want to `break`"
   ]
  },
  {
   "cell_type": "code",
   "execution_count": null,
   "id": "6eb381c3",
   "metadata": {},
   "outputs": [],
   "source": [
    "# enter code here"
   ]
  },
  {
   "cell_type": "markdown",
   "id": "c9fef00c",
   "metadata": {},
   "source": [
    "### Remember that strings are like lists of letters.\n",
    "\n",
    "### Task: Run the below cell.  Observe how every letter is printed.\n",
    "\n",
    "### Task: Add an `if` statement and `break` statement to stop the loop if the letter `p` is found\n",
    "   - Remember that you can check for a letter like this\n",
    "   \n",
    "          if letter == `p`:\n",
    "          \n",
    "### Then, run the cell.  It should stop printing after the first `p` is found."
   ]
  },
  {
   "cell_type": "code",
   "execution_count": null,
   "id": "581e48cc",
   "metadata": {},
   "outputs": [],
   "source": [
    "mystring = \"Hello Happy People!\"\n",
    "\n",
    "for letter in mystring:\n",
    "    print(letter)"
   ]
  },
  {
   "cell_type": "code",
   "execution_count": null,
   "id": "17cc6363",
   "metadata": {},
   "outputs": [],
   "source": []
  },
  {
   "cell_type": "markdown",
   "id": "77201c1c",
   "metadata": {},
   "source": [
    "### <font color=\"blue\"> Now, we can get started with the turtle part of the lab! </font>\n",
    "\n",
    "<font color=\"blue\"> First, we have to create a new turtle. </font>\n",
    "\n",
    "- <font color=\"blue\"> We use the _maze_ parameter again </font>\n",
    "- <font color=\"blue\"> Remember, that we can give `turtle_generator()` values inside the parentheses that tell `turtle_generator()` what to do </font>\n",
    "- <font color=\"blue\"> This is the essence of a **parameter**, values that you give something (like `turtle_generator()`) that tell it what to do </font>\n",
    "\n",
    "<font color=\"blue\"> Second, at the bottom of the cell, we take a look at our turtle and find that it's at location `(0,0)`, with a simple maze and pond </font>"
   ]
  },
  {
   "cell_type": "code",
   "execution_count": null,
   "id": "8d6d3832",
   "metadata": {
    "id": "eol71fSR2JIA",
    "scrolled": false,
    "slideshow": {
     "slide_type": "-"
    }
   },
   "outputs": [],
   "source": [
    "my_maze = 2\n",
    "turtle = turtle_generator( maze_number=my_maze )\n",
    "\n",
    "turtle.show_starting_position()"
   ]
  },
  {
   "cell_type": "markdown",
   "id": "3f1f1c15",
   "metadata": {
    "slideshow": {
     "slide_type": "slide"
    }
   },
   "source": [
    "### <font color=\"blue\"> Next, we have to tell our turtle to get ready for a trip with `turtle.start_new_journey()` </font>"
   ]
  },
  {
   "cell_type": "code",
   "execution_count": null,
   "id": "-aJ40yY22JIA",
   "metadata": {
    "id": "-aJ40yY22JIA"
   },
   "outputs": [],
   "source": [
    "turtle.start_new_journey()"
   ]
  },
  {
   "cell_type": "markdown",
   "id": "373266ef",
   "metadata": {},
   "source": [
    "### <font color=\"blue\">Task 1: Copy your loop with the `if` / `elif` statements for moving the turtle from lab 8 to the below code cell </font>\n",
    "- <font color=\"blue\">To do this, you'll want to copy over the loop from the lab 8 task \"Task 2: Put your `if` / `elif` block inside a loop that is long enough to reach the maze.\" </font>\n",
    "- <font color=\"blue\">Change the for loop from this lab 8 task to instead use `range(50)` </font>\n",
    "- <font color=\"blue\">You should be able to </font>\n",
    "    - <font color=\"blue\">Run `turtle.start_new_journey()` </font>\n",
    "    - <font color=\"blue\">Then, run the new below code cell once, and get your turtle all the way to the maze. </font>\n",
    "    - <font color=\"blue\">Please ask, if this is not the case </font>\n",
    "    \n",
    "### <font color=\"blue\">Task 2: </font>\n",
    "- <font color=\"blue\">Each time the loop runs (each loop iteration), print the loop number to the screen.  So, something like </font>\n",
    "\n",
    "        for x in range(50):\n",
    "            print(\"step: \" + str(x))\n",
    "            \n",
    "            ... if/elif turtle movements ...\n",
    "\n",
    "\n",
    "### <font color=\"blue\">Task 3: `range(50)` is too long, so let's fix that </font>\n",
    "- <font color=\"blue\">Add a new `if` statement inside your loop, so that you `break` when `turtle.check_maze_completed()` is True </font>\n",
    "- <font color=\"blue\">Then run the below code cell </font>\n",
    "- <font color=\"blue\">You should see that only 24 or 25 total steps are printed to the screen </font>\n",
    "- <font color=\"blue\">Please ask a question if this isn't the case. </font>\n",
    "\n"
   ]
  },
  {
   "cell_type": "code",
   "execution_count": null,
   "id": "24aeb290",
   "metadata": {},
   "outputs": [],
   "source": [
    "# copy code here...\n",
    "\n",
    "        \n",
    "turtle.watch_me_move()"
   ]
  },
  {
   "cell_type": "markdown",
   "id": "e929ff08",
   "metadata": {},
   "source": [
    "### Task 4: Double check and run the below cell, and make sure your turtle completed the maze"
   ]
  },
  {
   "cell_type": "code",
   "execution_count": null,
   "id": "34062a26",
   "metadata": {},
   "outputs": [],
   "source": [
    "print(turtle.check_maze_completed())"
   ]
  },
  {
   "cell_type": "markdown",
   "id": "501746a1",
   "metadata": {},
   "source": [
    "### <font color=\"blue\">Task 5: extend your above work to leave a trail after every third move </font>\n",
    "- <font color=\"blue\"> The simplest approach would be to move your turtle three moves every loop iteration, leaving a trail during only one of those moves </font>\n",
    "- <font color=\"blue\"> Or, you may use the advanced task from a few days ago with the `%` operator to accomplish this </font>\n",
    "- <font color=\"blue\"> Here, you are using only one turtle </font>\n",
    "- <font color=\"blue\"> You should generate a picture like this: </font>\n",
    "  ![](https://raw.githubusercontent.com/jbschroder/CS108/main/lecture_images/checkerboard_maze2.png)"
   ]
  },
  {
   "cell_type": "markdown",
   "id": "bbb054ee",
   "metadata": {},
   "source": [
    "### <font color=\"blue\"> Task 6: take your above work and adapt it in the below code cell so that you use a while loop, instead of a for loop.  Here, you will want to loop `while` the command `turtle.check_maze_completed()` is False </font>\n",
    "- <font color=\"blue\"> For this task,you'll want to put the command `turtle.start_new_journey()` at the top of the below code cell to wipe the turtle's memory before your loop starts  </font>\n",
    "- <font color=\"blue\"> Then, you'll want to insert your new while loop to move your turtle </font>\n",
    "- <font color=\"blue\"> And, don't forget to put in a new command to `turtle.watch_me_move()` </font>"
   ]
  },
  {
   "cell_type": "code",
   "execution_count": null,
   "id": "83d44c7b",
   "metadata": {},
   "outputs": [],
   "source": [
    "# insert your code here with a while loop for Task 6\n"
   ]
  },
  {
   "cell_type": "code",
   "execution_count": null,
   "id": "97c66d93",
   "metadata": {},
   "outputs": [],
   "source": [
    "# don't forget to save your turtle here..."
   ]
  },
  {
   "cell_type": "markdown",
   "id": "371097af",
   "metadata": {},
   "source": [
    "### The below Tasks are what you need to do, in order to submit your homework for this week"
   ]
  },
  {
   "cell_type": "markdown",
   "id": "c99ff723",
   "metadata": {
    "id": "xiVJ0VFSCWS8",
    "slideshow": {
     "slide_type": "slide"
    }
   },
   "source": [
    "### Task 1\n",
    "- Create a new notebook in CoLab\n",
    "   - Go to File --> New notebook\n",
    "   - In the top left change the name from Untitled...ipynb to something more descriptive, like mylab3.ipynb\n",
    "   - Then, to find your file, to back to Google Drive in your browser.\n",
    "   - You will now have a folder titled `Colab Notebooks`\n",
    "   - Open that folder, and you'll see the new file!\n",
    "\n",
    "     **Note:** this is how you will create files for homeworks.\n",
    "     \n",
    "\n",
    "- For each markdown cell with **blue**\n",
    "   - Copy that markdown cell to the new notebook\n",
    "   - Also copy the code cell immediately below to the new notebook \n",
    "     \n",
    "- Don't forget to include the cell that runs `turtle.save_everything_to_file()`"
   ]
  },
  {
   "cell_type": "markdown",
   "id": "95053044",
   "metadata": {
    "id": "xiVJ0VFSCWS8",
    "slideshow": {
     "slide_type": "slide"
    }
   },
   "source": [
    "### Task 2\n",
    "- Double check that your new notebook is correct. \n",
    "- Go to the `Runtime` menu at the top of CoLab\n",
    "    - Choose to `Restart session and run all`\n",
    "    - If that option is not available, then choose `Run all`\n",
    "- Then, look at the output for all of your cells.  Does it look correct?  Did your turtle complete the maze successfully, and print `True` above for the `print(turtle.check_maze_completed_with_shortest_path())`?"
   ]
  },
  {
   "cell_type": "markdown",
   "id": "abf5049d",
   "metadata": {
    "id": "xiVJ0VFSCWS8",
    "slideshow": {
     "slide_type": "slide"
    }
   },
   "source": [
    "### Homework submission\n",
    "\n",
    "- After completing this, download your notebook to `.py` file and upload this `.py` file to Canvas for the weekly homework\n",
    "\n",
    "\n",
    "- Name your homework file `hw#.py`, where `#` is the correct number for this week, for instance `hw1.py`, `hw2.py`, ...\n"
   ]
  },
  {
   "cell_type": "markdown",
   "id": "xiVJ0VFSCWS8",
   "metadata": {
    "id": "xiVJ0VFSCWS8",
    "slideshow": {
     "slide_type": "slide"
    }
   },
   "source": [
    "### Reminder: To download correctly, click on the `download as .py` option in Colab\n",
    "![](https://raw.githubusercontent.com/jbschroder/CS108/main/lecture_images/image_of_downloading_py_file.png)"
   ]
  },
  {
   "cell_type": "markdown",
   "id": "49c2e1bb",
   "metadata": {},
   "source": [
    "### Advanced Task 1\n",
    "- Repeat the above, but use a second turtle.\n",
    "    - Have the second turtle finish the maze, as well\n",
    "    - Have the second turtle leave a trail in each square that the first turtle does not\n",
    "\n",
    "\n",
    "### Advanced Task 2\n",
    "- Create a new turtle with `turtle_generator(...)`\n",
    "- But, do not create any maze or pond.  Leave your turtle on a blank grid\n",
    "- Then program your turtle to leave a trail in the shape of square\n",
    "    - Use a loop to do this\n",
    "    - The first few loop iterations, move right\n",
    "    - Then start moving up, and so on\n",
    "    - You will need to use `if` / `elif` statements to do this\n",
    "\n",
    "- Then program your turtle to leave a trail in the shape of a zero `0`\n"
   ]
  },
  {
   "cell_type": "code",
   "execution_count": null,
   "id": "7bf2844d",
   "metadata": {},
   "outputs": [],
   "source": []
  }
 ],
 "metadata": {
  "celltoolbar": "Slideshow",
  "kernelspec": {
   "display_name": "Python 3 (ipykernel)",
   "language": "python",
   "name": "python3"
  },
  "language_info": {
   "codemirror_mode": {
    "name": "ipython",
    "version": 3
   },
   "file_extension": ".py",
   "mimetype": "text/x-python",
   "name": "python",
   "nbconvert_exporter": "python",
   "pygments_lexer": "ipython3",
   "version": "3.10.8"
  }
 },
 "nbformat": 4,
 "nbformat_minor": 5
}
