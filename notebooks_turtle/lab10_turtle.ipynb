{
 "cells": [
  {
   "cell_type": "markdown",
   "id": "d455074e",
   "metadata": {
    "slideshow": {
     "slide_type": "slide"
    }
   },
   "source": [
    "## Turtle Lab 9: Loops and More advanced turtle movements\n",
    "Lecture file: `06_Loops_Part2.ipynb`"
   ]
  },
  {
   "cell_type": "markdown",
   "id": "61b74318",
   "metadata": {
    "slideshow": {
     "slide_type": "slide"
    }
   },
   "source": [
    "### Learning Goals \n",
    "1. A `for` loop  can iterate over a `range` of numbers\n",
    "\n",
    "   - `range(...)` is a special Python built-in command that generates a list of consecutive numbers \n",
    "\n",
    "   - `range(5)` generates numbers `[0, 1, 2, 3, 4]\n",
    "   \n",
    "      **Notice that this generates 5 total numbers and stops at 4!**\n",
    "      \n",
    "   - `range(2,6)` generates numbers `[2, 3, 4, 5]`\n",
    "\n",
    "\n",
    "2. A `while` loop continually executes code until some conditional is met\n",
    "   - Practice with a `while` loop\n",
    "   \n",
    "#### Loops are a fundamental programming concept.  They allow you to run code again, and again, easily"
   ]
  },
  {
   "cell_type": "markdown",
   "id": "df0580e8",
   "metadata": {
    "slideshow": {
     "slide_type": "slide"
    }
   },
   "source": [
    "### Learning Goals \n",
    "\n",
    "3. Continue using conditionals (if/else) to move your turtle\n",
    "    - Continue using `not`, `<`, `>`, `<=`, `>=`, `==` inside of if/else\n",
    "    \n",
    "4. Combine conditionals and loops to move the turtle!"
   ]
  },
  {
   "cell_type": "markdown",
   "id": "HOFo2PXSHRik",
   "metadata": {
    "id": "HOFo2PXSHRik",
    "slideshow": {
     "slide_type": "slide"
    }
   },
   "source": [
    "### First\n",
    "\n",
    "We have some **house cleaning** to do before we can start.\n",
    "1. We download some code(`turtle_generator.py`) to define how our turtle can move around\n",
    "2. We pull the `turtle_generator` code into this notebook with an `import` command"
   ]
  },
  {
   "cell_type": "code",
   "execution_count": 6,
   "id": "a7356955",
   "metadata": {
    "slideshow": {
     "slide_type": "-"
    }
   },
   "outputs": [
    {
     "name": "stdout",
     "output_type": "stream",
     "text": [
      "You downloaded the file turtle_generator.py\n"
     ]
    }
   ],
   "source": [
    "# House cleaning part 1\n",
    "from urllib.request import urlretrieve\n",
    "(file, message) = urlretrieve('https://raw.githubusercontent.com/jbschroder/CS108/main/notebooks_turtle/turtle_generator.py', 'turtle_generator.py')\n",
    "print(\"You downloaded the file \" + file)\n",
    "\n",
    "# House cleaning part 2\n",
    "from turtle_generator import turtle_generator"
   ]
  },
  {
   "cell_type": "markdown",
   "id": "c8ed064c",
   "metadata": {
    "slideshow": {
     "slide_type": "slide"
    }
   },
   "source": [
    "### Using what you learned in the lecture video, you will now experiment with more advanced loops\n",
    "\n",
    "### Task 1: run the below cell, observe how numbers in the range 0, 1, 2, 3, 4 are printed\n",
    "    - Note that number 5 is not printed!  `range` does not generate that number\n",
    "    - The code: `for i in range(n)` creates a variable `i` and iterates from `i = 0` up to, but not including, `i = n`\n",
    "    \n",
    "### Task 2: change the `5` to a `10` and re-run the cell."
   ]
  },
  {
   "cell_type": "code",
   "execution_count": 2,
   "id": "8ea44ace",
   "metadata": {
    "slideshow": {
     "slide_type": "subslide"
    }
   },
   "outputs": [
    {
     "name": "stdout",
     "output_type": "stream",
     "text": [
      "0\n",
      "1\n",
      "2\n",
      "3\n",
      "4\n"
     ]
    }
   ],
   "source": [
    "for i in range(5):\n",
    "    print(i)"
   ]
  },
  {
   "cell_type": "markdown",
   "id": "683ee75a",
   "metadata": {
    "slideshow": {
     "slide_type": "slide"
    }
   },
   "source": [
    "### Task 1: Enter code in the below cell to print the numbers from `2` to `11` using `for` and `range`.  Run the cell.\n",
    "\n",
    "### Task 2: Repeat Task 1, but print the numbers from `10` to `20`"
   ]
  },
  {
   "cell_type": "code",
   "execution_count": 3,
   "id": "46fa6109",
   "metadata": {
    "slideshow": {
     "slide_type": "subslide"
    }
   },
   "outputs": [],
   "source": [
    "# enter code here"
   ]
  },
  {
   "cell_type": "markdown",
   "id": "c78706d3",
   "metadata": {},
   "source": [
    "### You can stop a loop early with a `break` statement and a conditional\n",
    "\n",
    "### Task: Run the below cell\n",
    "\n",
    "#### Note that each iteration of the for loop, all *indented* code under the `for` loop is run (that is, executed)"
   ]
  },
  {
   "cell_type": "code",
   "execution_count": 5,
   "id": "ad762dfe",
   "metadata": {},
   "outputs": [
    {
     "name": "stdout",
     "output_type": "stream",
     "text": [
      "0\n",
      "1\n",
      "2\n",
      "3\n",
      "4\n",
      "5\n",
      "6\n"
     ]
    }
   ],
   "source": [
    "for x in range(10):\n",
    "    print(x)\n",
    "    if (x > 5):\n",
    "        break\n"
   ]
  },
  {
   "cell_type": "markdown",
   "id": "e6dba41c",
   "metadata": {},
   "source": [
    "### Task: Take the code in the above cell, and use it as a template to do the following.\n",
    "   - Instead of always breaking when `x > 5`, use a variable called `whentostop`\n",
    "   - That is, create `whentostop` as the very first thing that you do.  Set it to some value, probably between 1 and 10.\n",
    "   - Then, `if (x > whentostop):` you will want to `break`"
   ]
  },
  {
   "cell_type": "code",
   "execution_count": 2,
   "id": "6eb381c3",
   "metadata": {},
   "outputs": [
    {
     "name": "stdout",
     "output_type": "stream",
     "text": [
      "0\n",
      "1\n",
      "2\n"
     ]
    }
   ],
   "source": [
    "# enter code here"
   ]
  },
  {
   "cell_type": "markdown",
   "id": "a8dc8b4f",
   "metadata": {},
   "source": [
    "### Remember that strings are like lists of letters.\n",
    "\n",
    "### Task: Run the below cell.  Observe how every letter is printed.\n",
    "\n",
    "### Task: Add an `if` statement and `break` statement to stop the loop if the letter `p` is found\n",
    "   - Remember that you can check for a letter like this\n",
    "   \n",
    "          if letter == `p`:\n",
    "          \n",
    "### Then, run the cell.  It should stop printing after the first `p` is found."
   ]
  },
  {
   "cell_type": "code",
   "execution_count": 6,
   "id": "770149dd",
   "metadata": {},
   "outputs": [
    {
     "name": "stdout",
     "output_type": "stream",
     "text": [
      "H\n",
      "e\n",
      "l\n",
      "l\n",
      "o\n",
      " \n",
      "H\n",
      "a\n",
      "p\n",
      "p\n",
      "y\n",
      " \n",
      "P\n",
      "e\n",
      "o\n",
      "p\n",
      "l\n",
      "e\n",
      "!\n"
     ]
    }
   ],
   "source": [
    "mystring = \"Hello Happy People!\"\n",
    "\n",
    "for letter in mystring:\n",
    "    print(letter)"
   ]
  },
  {
   "cell_type": "code",
   "execution_count": null,
   "id": "4bdc8252",
   "metadata": {},
   "outputs": [],
   "source": []
  },
  {
   "cell_type": "markdown",
   "id": "77201c1c",
   "metadata": {},
   "source": [
    "### Now, we can get started with the turtle part of the lab!\n",
    "\n",
    "First, we have to create a new turtle.\n",
    "\n",
    "- We use the _maze_ parameter again \n",
    "- Remember, that we can give `turtle_generator()` values inside the parentheses that tell `turtle_generator()` what to do\n",
    "- This is the essence of a **parameter**, values that you give something (like `turtle_generator()`) that tell it what to do\n",
    "\n",
    "Second, at the bottom of the cell, we take a look at our turtle and find that it's at location `(0,0)`, with a simple maze and pond"
   ]
  },
  {
   "cell_type": "code",
   "execution_count": 11,
   "id": "8d6d3832",
   "metadata": {
    "id": "eol71fSR2JIA",
    "scrolled": false,
    "slideshow": {
     "slide_type": "-"
    }
   },
   "outputs": [
    {
     "data": {
      "image/png": "[encoded data removed]",
      "text/plain": [
       "<Figure size 504x504 with 1 Axes>"
      ]
     },
     "metadata": {},
     "output_type": "display_data"
    }
   ],
   "source": [
    "my_maze = 2\n",
    "turtle = turtle_generator( maze_number=my_maze )\n",
    "\n",
    "turtle.show_starting_position()"
   ]
  },
  {
   "cell_type": "markdown",
   "id": "3f1f1c15",
   "metadata": {
    "slideshow": {
     "slide_type": "slide"
    }
   },
   "source": [
    "### Next, we have to tell our turtle to get ready for a trip with `turtle.start_new_journey()`"
   ]
  },
  {
   "cell_type": "code",
   "execution_count": 6,
   "id": "-aJ40yY22JIA",
   "metadata": {
    "id": "-aJ40yY22JIA"
   },
   "outputs": [],
   "source": [
    "turtle.start_new_journey()"
   ]
  },
  {
   "cell_type": "markdown",
   "id": "373266ef",
   "metadata": {},
   "source": [
    "### Task 1: Run the below cell.  What do you see?  \n",
    "   - How far did the turtle get in the maze?  \n",
    "   - What do you think you can add to help the turtle navigate more of the maze?\n",
    "\n",
    "### Task 2: Add a print statement inside the loop, to `print(\"step \" + str(x))`\n",
    "   - This print statement should run (that is, print) every single loop iteration\n",
    "   - How many times does the loop iterate?  "
   ]
  },
  {
   "cell_type": "code",
   "execution_count": 4,
   "id": "24aeb290",
   "metadata": {},
   "outputs": [
    {
     "ename": "NameError",
     "evalue": "name 'turtle' is not defined",
     "output_type": "error",
     "traceback": [
      "\u001b[0;31m---------------------------------------------------------------------------\u001b[0m",
      "\u001b[0;31mNameError\u001b[0m                                 Traceback (most recent call last)",
      "Cell \u001b[0;32mIn[4], line 1\u001b[0m\n\u001b[0;32m----> 1\u001b[0m \u001b[38;5;28;01mif\u001b[39;00m \u001b[43mturtle\u001b[49m\u001b[38;5;241m.\u001b[39mis_path_to_right():\n\u001b[1;32m      2\u001b[0m     \u001b[38;5;28mprint\u001b[39m(\u001b[38;5;124m\"\u001b[39m\u001b[38;5;124mMoving right\u001b[39m\u001b[38;5;124m\"\u001b[39m)\n\u001b[1;32m      3\u001b[0m     turtle\u001b[38;5;241m.\u001b[39mmove_right()\n",
      "\u001b[0;31mNameError\u001b[0m: name 'turtle' is not defined"
     ]
    }
   ],
   "source": [
    "for x in range(100):\n",
    "        \n",
    "    if turtle.is_path_to_right():\n",
    "        print(\"Moving right\")\n",
    "        turtle.move_right()\n",
    "        \n",
    "turtle.watch_me_move()"
   ]
  },
  {
   "cell_type": "markdown",
   "id": "fa2fcaba",
   "metadata": {
    "slideshow": {
     "slide_type": "slide"
    }
   },
   "source": [
    "### Let's start a new journey, and this time make it to the pond.  Run the below cell "
   ]
  },
  {
   "cell_type": "code",
   "execution_count": 7,
   "id": "1830b220",
   "metadata": {
    "id": "-aJ40yY22JIA"
   },
   "outputs": [
    {
     "ename": "NameError",
     "evalue": "name 'turtle' is not defined",
     "output_type": "error",
     "traceback": [
      "\u001b[0;31m---------------------------------------------------------------------------\u001b[0m",
      "\u001b[0;31mNameError\u001b[0m                                 Traceback (most recent call last)",
      "Cell \u001b[0;32mIn[7], line 1\u001b[0m\n\u001b[0;32m----> 1\u001b[0m \u001b[43mturtle\u001b[49m\u001b[38;5;241m.\u001b[39mstart_new_journey()\n",
      "\u001b[0;31mNameError\u001b[0m: name 'turtle' is not defined"
     ]
    }
   ],
   "source": [
    "turtle.start_new_journey()"
   ]
  },
  {
   "cell_type": "markdown",
   "id": "ef365815",
   "metadata": {},
   "source": [
    "### Task: Add more `elif` statements to the below `for` loop to help the turtle move in more directions, like left, up, and down.\n",
    "\n",
    "### Then, run the below cell.  Did your turtle make it to the pond?  \n",
    "\n",
    "### Make sure to add your  `print(\"step \" + str(x))` statement\n",
    "\n",
    "### Do not continue past this point, until your turtle can make it to the pond.   "
   ]
  },
  {
   "cell_type": "code",
   "execution_count": 4,
   "id": "265d1011",
   "metadata": {},
   "outputs": [
    {
     "ename": "NameError",
     "evalue": "name 'turtle' is not defined",
     "output_type": "error",
     "traceback": [
      "\u001b[0;31m---------------------------------------------------------------------------\u001b[0m",
      "\u001b[0;31mNameError\u001b[0m                                 Traceback (most recent call last)",
      "Cell \u001b[0;32mIn[4], line 1\u001b[0m\n\u001b[0;32m----> 1\u001b[0m \u001b[38;5;28;01mif\u001b[39;00m \u001b[43mturtle\u001b[49m\u001b[38;5;241m.\u001b[39mis_path_to_right():\n\u001b[1;32m      2\u001b[0m     \u001b[38;5;28mprint\u001b[39m(\u001b[38;5;124m\"\u001b[39m\u001b[38;5;124mMoving right\u001b[39m\u001b[38;5;124m\"\u001b[39m)\n\u001b[1;32m      3\u001b[0m     turtle\u001b[38;5;241m.\u001b[39mmove_right()\n",
      "\u001b[0;31mNameError\u001b[0m: name 'turtle' is not defined"
     ]
    }
   ],
   "source": [
    "for x in range(100):\n",
    "        \n",
    "    if turtle.is_path_to_right():\n",
    "        print(\"Moving right\")\n",
    "        turtle.move_right()\n",
    "        \n",
    "    # insert more if/elif statements here!    \n",
    "        \n",
    "turtle.watch_me_move()"
   ]
  },
  {
   "cell_type": "markdown",
   "id": "4d7946d8",
   "metadata": {},
   "source": [
    "### Run the below cell.  It should print True, showing that you completed the maze."
   ]
  },
  {
   "cell_type": "code",
   "execution_count": null,
   "id": "a522ddac",
   "metadata": {},
   "outputs": [],
   "source": [
    "print(turtle.check_maze_completed())"
   ]
  },
  {
   "cell_type": "markdown",
   "id": "5304e48e",
   "metadata": {},
   "source": [
    "### Task: Take your above `for` loop and repeat it in the below cell (copy and paste works fine)\n",
    "\n",
    "### Add a `break` statement if the maze is completed.\n",
    "   - You can check `if turtle.check_maze_completed()` to build your break statement\n",
    "\n",
    "### The `break` statement should be inside the `for` loop!  Your code should only print that 24 or 25 steps were completed (not 100!)."
   ]
  },
  {
   "cell_type": "code",
   "execution_count": null,
   "id": "14899970",
   "metadata": {},
   "outputs": [],
   "source": [
    "turtle.start_new_journey()\n",
    "\n",
    "# insert for loop code here\n"
   ]
  },
  {
   "cell_type": "markdown",
   "id": "78640549",
   "metadata": {},
   "source": [
    "### Task: Arrange your `if` / `elif` statements so that the shortest maze path is taken.  Your code should return true for this below cell"
   ]
  },
  {
   "cell_type": "code",
   "execution_count": null,
   "id": "319d23ac",
   "metadata": {},
   "outputs": [],
   "source": [
    "print(turtle.check_maze_completed_with_shortest_path())"
   ]
  },
  {
   "cell_type": "code",
   "execution_count": null,
   "id": "3cb8ca5c",
   "metadata": {},
   "outputs": [],
   "source": []
  },
  {
   "cell_type": "code",
   "execution_count": null,
   "id": "6ab2bbd5",
   "metadata": {},
   "outputs": [],
   "source": []
  },
  {
   "cell_type": "markdown",
   "id": "65519699",
   "metadata": {
    "slideshow": {
     "slide_type": "subslide"
    }
   },
   "source": [
    "### These lines of code are telling you where the pond is.  The pond is to the right, and up!\n",
    "\n",
    "----------\n",
    "\n",
    "### Task:  Run the four below cells about where the path is.  \n",
    "- What are these lines of code telling you?"
   ]
  },
  {
   "cell_type": "code",
   "execution_count": 11,
   "id": "cb57b02c",
   "metadata": {},
   "outputs": [
    {
     "name": "stdout",
     "output_type": "stream",
     "text": [
      "False\n"
     ]
    }
   ],
   "source": [
    "print(turtle.is_path_down())"
   ]
  },
  {
   "cell_type": "code",
   "execution_count": 12,
   "id": "ccaceb60",
   "metadata": {},
   "outputs": [
    {
     "name": "stdout",
     "output_type": "stream",
     "text": [
      "False\n"
     ]
    }
   ],
   "source": [
    "print(turtle.is_path_up())"
   ]
  },
  {
   "cell_type": "code",
   "execution_count": 13,
   "id": "182e6a8f",
   "metadata": {},
   "outputs": [
    {
     "name": "stdout",
     "output_type": "stream",
     "text": [
      "False\n"
     ]
    }
   ],
   "source": [
    "print(turtle.is_path_to_left())"
   ]
  },
  {
   "cell_type": "code",
   "execution_count": 14,
   "id": "3519f3f0",
   "metadata": {},
   "outputs": [
    {
     "name": "stdout",
     "output_type": "stream",
     "text": [
      "True\n"
     ]
    }
   ],
   "source": [
    "print(turtle.is_path_to_right())"
   ]
  },
  {
   "cell_type": "markdown",
   "id": "6fc457b4",
   "metadata": {},
   "source": [
    "### These lines of code are telling you where the maze path is.  The maze path is to the left.\n",
    "\n",
    "-----------\n",
    "\n",
    "### Let's try to use these True and False values in conditionals\n",
    "- Use True and False to move the turtle automatically towards the pond\n",
    "\n",
    "### Task: Run the below cell\n",
    "- Observe how the True and False values control which print statement happens"
   ]
  },
  {
   "cell_type": "code",
   "execution_count": 15,
   "id": "1c3ec6a9",
   "metadata": {},
   "outputs": [
    {
     "name": "stdout",
     "output_type": "stream",
     "text": [
      "I want to move the turtle right\n"
     ]
    }
   ],
   "source": [
    "if True:\n",
    "    print(\"I want to move the turtle right\")\n",
    "elif False:\n",
    "    print(\"I want to move the turtle left\")"
   ]
  },
  {
   "cell_type": "markdown",
   "id": "dd1f5454",
   "metadata": {},
   "source": [
    "### Consider: What if we replace the `True` above with `turtle.is_path_to_right()` and the `False` above with `turtle.is_path_up()`?\n",
    "- Remember `turtle.is_path_to_right()` actually equals `True` !\n",
    "- Remember `turtle.is_path_up()` actually equals `False` !\n",
    "\n",
    "#### --> We can use `turtle.is_path_to_right()` and `turtle.is_path_up()` in cominbation with if statements to automatically move the turtle!\n",
    "\n",
    "------\n",
    "\n",
    "### <span style=\"color:blue\"> Task: Replace the `True` and `False` below with `turtle.is_path_to_right()` and `turtle.is_path_up()` respectively </span>\n",
    "\n",
    "### <span style=\"color:blue\"> Then, run the below cell once </span>"
   ]
  },
  {
   "cell_type": "code",
   "execution_count": 16,
   "id": "8b9fe22a",
   "metadata": {},
   "outputs": [
    {
     "name": "stdout",
     "output_type": "stream",
     "text": [
      "Moving right\n"
     ]
    }
   ],
   "source": [
    "if True:\n",
    "    print(\"Moving right\")\n",
    "    turtle.move_right()\n",
    "elif False:\n",
    "    print(\"Moving up\")\n",
    "    turtle.move_up()\n",
    "    "
   ]
  },
  {
   "cell_type": "markdown",
   "id": "6b192de9",
   "metadata": {},
   "source": [
    "### Task: Let's visualize your code.  Run the below cell once.  \n",
    "\n",
    "### Did you see the turtle move one square to the right?  Stop and ask if not."
   ]
  },
  {
   "cell_type": "code",
   "execution_count": null,
   "id": "37a7a57e",
   "metadata": {},
   "outputs": [],
   "source": [
    "turtle.watch_me_move()"
   ]
  },
  {
   "cell_type": "code",
   "execution_count": null,
   "id": "1ec5134a",
   "metadata": {},
   "outputs": [],
   "source": [
    "# copy and paste above cell here"
   ]
  },
  {
   "cell_type": "code",
   "execution_count": null,
   "id": "d1383996",
   "metadata": {},
   "outputs": [],
   "source": []
  },
  {
   "cell_type": "code",
   "execution_count": null,
   "id": "cbe2d2bf",
   "metadata": {},
   "outputs": [],
   "source": [
    "### Run below again...see what it's telling you"
   ]
  },
  {
   "cell_type": "code",
   "execution_count": null,
   "id": "f4958727",
   "metadata": {},
   "outputs": [],
   "source": [
    "print(turtle.is_pond_down())"
   ]
  },
  {
   "cell_type": "code",
   "execution_count": null,
   "id": "9f3a2ad1",
   "metadata": {},
   "outputs": [],
   "source": [
    "print(turtle.is_pond_up())"
   ]
  },
  {
   "cell_type": "code",
   "execution_count": null,
   "id": "a25f897c",
   "metadata": {},
   "outputs": [],
   "source": [
    "print(turtle.is_pond_to_left())"
   ]
  },
  {
   "cell_type": "code",
   "execution_count": null,
   "id": "ebfcbd6a",
   "metadata": {},
   "outputs": [],
   "source": [
    "print(turtle.is_pond_to_right())"
   ]
  },
  {
   "cell_type": "code",
   "execution_count": null,
   "id": "b7648a62",
   "metadata": {},
   "outputs": [],
   "source": []
  },
  {
   "cell_type": "markdown",
   "id": "f2b44ebc",
   "metadata": {},
   "source": [
    "### Let's say that our goal is to find the pond automatically AND stay on the path\n",
    "\n",
    "\n",
    "### We can combine our `is_path_...` and `is_pond_...` information to do this automatically!"
   ]
  },
  {
   "cell_type": "code",
   "execution_count": null,
   "id": "3d1d97ac",
   "metadata": {},
   "outputs": [],
   "source": []
  },
  {
   "cell_type": "code",
   "execution_count": null,
   "id": "408fc76f",
   "metadata": {},
   "outputs": [],
   "source": []
  },
  {
   "cell_type": "markdown",
   "id": "371097af",
   "metadata": {},
   "source": [
    "### The below Tasks are what you need to do, in order to submit your homework for this week"
   ]
  },
  {
   "cell_type": "markdown",
   "id": "c99ff723",
   "metadata": {
    "id": "xiVJ0VFSCWS8",
    "slideshow": {
     "slide_type": "slide"
    }
   },
   "source": [
    "### Task 1\n",
    "- Create a new notebook in CoLab\n",
    "- For each markdown cell with **blue**\n",
    "   - Copy that markdown cell to the new notebook\n",
    "   - Also copy the code cell immediately below to the new notebook \n",
    "     \n",
    "- Don't forget to include the cell that runs `turtle.save_everything_to_file()`"
   ]
  },
  {
   "cell_type": "markdown",
   "id": "95053044",
   "metadata": {
    "id": "xiVJ0VFSCWS8",
    "slideshow": {
     "slide_type": "slide"
    }
   },
   "source": [
    "### Task 2\n",
    "- Double check that your new notebook is correct. \n",
    "- Go to the `Runtime` menu at the top of CoLab\n",
    "    - Choose to `Restart session and run all`\n",
    "    - If that option is not available, then choose `Run all`\n",
    "- Then, look at the output for all of your cells.  Does it look correct?  Did your turtle complete the maze successfully, and print `True` above for the `print(turtle.check_maze_completed_with_shortest_path())`?"
   ]
  },
  {
   "cell_type": "markdown",
   "id": "abf5049d",
   "metadata": {
    "id": "xiVJ0VFSCWS8",
    "slideshow": {
     "slide_type": "slide"
    }
   },
   "source": [
    "### Homework submission\n",
    "\n",
    "- After completing this, download your notebook to `.py` file and upload this `.py` file to Canvas for the weekly homework\n",
    "\n",
    "\n",
    "- Name your homework file `hw#.py`, where `#` is the correct number for this week, for instance `hw1.py`, `hw2.py`, ...\n"
   ]
  },
  {
   "cell_type": "markdown",
   "id": "xiVJ0VFSCWS8",
   "metadata": {
    "id": "xiVJ0VFSCWS8",
    "slideshow": {
     "slide_type": "slide"
    }
   },
   "source": [
    "### Reminder: To download correctly, click on the `download as .py` option in Colab\n",
    "![](https://raw.githubusercontent.com/jbschroder/CS108/main/notebooks_turtle/image_of_downloading_py_file.png)"
   ]
  },
  {
   "cell_type": "code",
   "execution_count": null,
   "id": "cbd8f671",
   "metadata": {},
   "outputs": [],
   "source": [
    "\n"
   ]
  }
 ],
 "metadata": {
  "celltoolbar": "Slideshow",
  "kernelspec": {
   "display_name": "Python 3 (ipykernel)",
   "language": "python",
   "name": "python3"
  },
  "language_info": {
   "codemirror_mode": {
    "name": "ipython",
    "version": 3
   },
   "file_extension": ".py",
   "mimetype": "text/x-python",
   "name": "python",
   "nbconvert_exporter": "python",
   "pygments_lexer": "ipython3",
   "version": "3.10.8"
  }
 },
 "nbformat": 4,
 "nbformat_minor": 5
}
