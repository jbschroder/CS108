{
 "cells": [
  {
   "cell_type": "markdown",
   "id": "d455074e",
   "metadata": {
    "slideshow": {
     "slide_type": "slide"
    }
   },
   "source": [
    "## Turtle Lab 10: Introductory Functions and More \n",
    "Lecture file: `07_Functions_Part1.ipynb`"
   ]
  },
  {
   "cell_type": "markdown",
   "id": "73d21e02",
   "metadata": {
    "slideshow": {
     "slide_type": "slide"
    }
   },
   "source": [
    "## Lecture 07.1 : Functions Part 1\n",
    "\n",
    "### Learning Goals \n",
    "\n",
    "1. Learn that a function is a sequence of code that carries out a particular goal or task\n",
    "   - In other words, a function is some lines of code, packaged together, where all that code carries out a particular task\n",
    "   - This package can be used again and again to carry out the particular task\n",
    "2. Learn how to define a function\n",
    "   - In Python we use `def function_name():` to define or declare a new function. \n",
    "3. Learn how to call your new function (that is, use your new funcion)       \n",
    "   - After defining the function, calling the function actually executes the code. \n",
    "   - The function can be called (or used) as many times as you want.\n",
    "   "
   ]
  },
  {
   "cell_type": "markdown",
   "id": "86cdd52e",
   "metadata": {
    "slideshow": {
     "slide_type": "slide"
    }
   },
   "source": [
    "### Turtle Learning Goals\n",
    "\n",
    "4. Learn how to use both path and pond information to find the shortest path in maze 2"
   ]
  },
  {
   "cell_type": "markdown",
   "id": "HOFo2PXSHRik",
   "metadata": {
    "id": "HOFo2PXSHRik",
    "slideshow": {
     "slide_type": "slide"
    }
   },
   "source": [
    "### First\n",
    "\n",
    "We have some **house cleaning** to do before we can start.\n",
    "1. We download some code(`turtle_generator.py`) to define how our turtle can move around\n",
    "2. We pull the `turtle_generator` code into this notebook with an `import` command"
   ]
  },
  {
   "cell_type": "code",
   "execution_count": null,
   "id": "a7356955",
   "metadata": {
    "slideshow": {
     "slide_type": "-"
    }
   },
   "outputs": [],
   "source": [
    "# House cleaning part 1\n",
    "from urllib.request import urlretrieve\n",
    "(file, message) = urlretrieve('https://raw.githubusercontent.com/jbschroder/CS108/main/notebooks_turtle/turtle_generator.py', 'turtle_generator.py')\n",
    "print(\"You downloaded the file \" + file)\n",
    "\n",
    "# House cleaning part 2\n",
    "from turtle_generator import turtle_generator"
   ]
  },
  {
   "cell_type": "markdown",
   "id": "c8ed064c",
   "metadata": {
    "slideshow": {
     "slide_type": "slide"
    }
   },
   "source": [
    "### Next, using what you learned in the lecture video, you will now experiment with writing a basic function \n",
    "\n",
    "### Here is an example function that prints a message\n",
    "\n",
    "        def my_function():\n",
    "            print(\"Hello world from a function!\")\n",
    "\n",
    "### Task: Create a code cell below and define a new function in it.  \n",
    "   - Name the function `print_message()` \n",
    "   - Have that function print any message you want (but it must be different than the message in the above example) \n",
    "   - Remember that you have to run the new below cell for Python to know about this new function (to define the new function)"
   ]
  },
  {
   "cell_type": "markdown",
   "id": "c78706d3",
   "metadata": {
    "slideshow": {
     "slide_type": "slide"
    }
   },
   "source": [
    "### Task: Run the below cell to verify that your new function `print_message()` works.  \n",
    "   - Do you see your message printed?"
   ]
  },
  {
   "cell_type": "code",
   "execution_count": null,
   "id": "ad762dfe",
   "metadata": {},
   "outputs": [],
   "source": [
    "print_message()"
   ]
  },
  {
   "cell_type": "markdown",
   "id": "c762b4e3",
   "metadata": {
    "slideshow": {
     "slide_type": "slide"
    }
   },
   "source": [
    "### Here is an example function that RETURNS a message\n",
    "\n",
    "        def my_function():\n",
    "            return \"Hello world from a function!\"\n",
    "\n",
    "### Task: Create a code cell below and define a new function in it.  \n",
    "   - Name the function `return_message()` \n",
    "   - Have that function return any message you want (but it must be different than the message in the above example) "
   ]
  },
  {
   "cell_type": "markdown",
   "id": "30e5ddb2",
   "metadata": {
    "slideshow": {
     "slide_type": "slide"
    }
   },
   "source": [
    "### Task: Run the below cell to verify that your new function `return_message()` works.  \n",
    "   - Do you see your message printed?"
   ]
  },
  {
   "cell_type": "code",
   "execution_count": null,
   "id": "2d303df6",
   "metadata": {},
   "outputs": [],
   "source": [
    "message = return_message()\n",
    "print(message)"
   ]
  },
  {
   "cell_type": "markdown",
   "id": "77201c1c",
   "metadata": {},
   "source": [
    "### Now, we can get started with the turtle part of the lab!\n",
    "\n",
    "First, we have to create a new turtle.\n",
    "\n",
    "- We use the _maze_ parameter again \n",
    "- Remember, that we can give `turtle_generator()` values inside the parentheses that tell `turtle_generator()` what to do\n",
    "- This is the essence of a **parameter**, values that you give something (like `turtle_generator()`) that tell it what to do\n",
    "\n",
    "Second, at the bottom of the cell, we take a look at our turtle and find that it's at location `(0,0)`, with a simple maze and pond"
   ]
  },
  {
   "cell_type": "code",
   "execution_count": null,
   "id": "8d6d3832",
   "metadata": {
    "id": "eol71fSR2JIA",
    "scrolled": false,
    "slideshow": {
     "slide_type": "-"
    }
   },
   "outputs": [],
   "source": [
    "my_maze = 2\n",
    "turtle = turtle_generator( maze_number=my_maze )\n",
    "\n",
    "turtle.show_starting_position()"
   ]
  },
  {
   "cell_type": "markdown",
   "id": "3f1f1c15",
   "metadata": {
    "slideshow": {
     "slide_type": "slide"
    }
   },
   "source": [
    "### Next, we have to tell our turtle to get ready for a trip with `turtle.start_new_journey()`"
   ]
  },
  {
   "cell_type": "code",
   "execution_count": null,
   "id": "-aJ40yY22JIA",
   "metadata": {
    "id": "-aJ40yY22JIA"
   },
   "outputs": [],
   "source": [
    "turtle.start_new_journey()"
   ]
  },
  {
   "cell_type": "markdown",
   "id": "373266ef",
   "metadata": {},
   "source": [
    "### Task 1: Run the below two cells.  Observe how the turtle makes it to the pond\n",
    "\n",
    "### But, this is not a satisfying solution.  What if we want a loop that could work if the pond is to the left or down?"
   ]
  },
  {
   "cell_type": "code",
   "execution_count": null,
   "id": "d44c6183",
   "metadata": {},
   "outputs": [],
   "source": [
    "# Note before you run this cell, you want to run turtle.start_new_journey() to erase all previous movement\n",
    "\n",
    "for x in range(49):\n",
    "        \n",
    "    if turtle.is_path_to_right():\n",
    "        print(\"Moving right\")\n",
    "        turtle.move_right()\n",
    "    elif turtle.is_path_up():\n",
    "        print(\"Moving up\")\n",
    "        turtle.move_up()"
   ]
  },
  {
   "cell_type": "code",
   "execution_count": null,
   "id": "24aeb290",
   "metadata": {},
   "outputs": [],
   "source": [
    "turtle.watch_me_move()"
   ]
  },
  {
   "cell_type": "markdown",
   "id": "beee7509",
   "metadata": {},
   "source": [
    "### Task 2: So, we want to let our loop direct the turtle to the left, in case the pond ever appears there.  \n",
    "\n",
    "### Copy the above loop into the below code cell.  \n",
    "\n",
    "### Add new statemens in the loop so that the turtle can move left\n",
    "  - You will need an `elif` statement that checks `turtle.is_path_to_left():`\n",
    "  - And then inside the (that is indented below) `elif` for left, you will need to insert the command to `  turtle.move_left()`\n",
    "\n",
    "\n",
    "### Run the below three cells and see what happens"
   ]
  },
  {
   "cell_type": "code",
   "execution_count": null,
   "id": "e3a77a80",
   "metadata": {
    "id": "-aJ40yY22JIA"
   },
   "outputs": [],
   "source": [
    "turtle.start_new_journey()"
   ]
  },
  {
   "cell_type": "code",
   "execution_count": null,
   "id": "8c401f50",
   "metadata": {},
   "outputs": [],
   "source": [
    "# Copy the above loop here, but add the turtle to the left "
   ]
  },
  {
   "cell_type": "code",
   "execution_count": null,
   "id": "e032824a",
   "metadata": {},
   "outputs": [],
   "source": [
    "turtle.watch_me_move()"
   ]
  },
  {
   "cell_type": "markdown",
   "id": "67309288",
   "metadata": {},
   "source": [
    "### The turtle doesn't know to stop moving!  \n",
    "\n",
    "### If you don't see the turtle moving back and forth (left and right) after it reaches the pond, please stop and ask."
   ]
  },
  {
   "cell_type": "markdown",
   "id": "8f6e9d1d",
   "metadata": {},
   "source": [
    "### So what do we do?  \n",
    "   - We need more information\n",
    "   - The turtle needs to also know where the pond is\n",
    "\n",
    "### Task 3: Run the below cells and discover that the turtle can indeed also sense where the pond is.  Good turtle!"
   ]
  },
  {
   "cell_type": "code",
   "execution_count": null,
   "id": "f4958727",
   "metadata": {},
   "outputs": [],
   "source": [
    "print(turtle.is_pond_down())"
   ]
  },
  {
   "cell_type": "code",
   "execution_count": null,
   "id": "9f3a2ad1",
   "metadata": {},
   "outputs": [],
   "source": [
    "print(turtle.is_pond_up())"
   ]
  },
  {
   "cell_type": "code",
   "execution_count": null,
   "id": "a25f897c",
   "metadata": {},
   "outputs": [],
   "source": [
    "print(turtle.is_pond_to_left())"
   ]
  },
  {
   "cell_type": "code",
   "execution_count": null,
   "id": "ebfcbd6a",
   "metadata": {},
   "outputs": [],
   "source": [
    "print(turtle.is_pond_to_right())"
   ]
  },
  {
   "cell_type": "markdown",
   "id": "42a65d09",
   "metadata": {},
   "source": [
    "### The turtle knows that the pond is to the right!\n",
    "\n",
    "### We can use this to build a smarter turtle"
   ]
  },
  {
   "cell_type": "markdown",
   "id": "51d664de",
   "metadata": {},
   "source": [
    "### Task 4: Run the below code cell.  \n",
    "- This cell will erase the turtle's memory\n",
    "- And then, it will check if the path and pond are both to the right\n",
    "- Note, how the word `and` can be used to check if two things are both True\n",
    "\n",
    "### Here, we use `and` to see if the path AND the pond are in the same direction"
   ]
  },
  {
   "cell_type": "code",
   "execution_count": null,
   "id": "2ee37049",
   "metadata": {},
   "outputs": [],
   "source": [
    "# Erase the turtle's memory\n",
    "turtle.start_new_journey()\n",
    "\n",
    "if turtle.is_path_to right() and turtle.is_pond_to right():\n",
    "    print(\"Path and pond to right!  We should move in that direction...\")\n"
   ]
  },
  {
   "cell_type": "markdown",
   "id": "6dfded2c",
   "metadata": {},
   "source": [
    "### The turtle knows that the pond is to the right!\n",
    "\n",
    "### We can use this to build a smarter turtle\n",
    "\n",
    "### Task 4 Cont'd: Create three more statements in the above code cell (using `elif`) to check if the path and pond are to the left, up, and down \n",
    "- Your code will look something like this \n",
    "\n",
    "            if path and pond are right\n",
    "                print message about right\n",
    "            elif path and pond are to the up\n",
    "                print message about up\n",
    "            elif path and pond are to the left\n",
    "                print message about left\n",
    "            elif path and pond are down\n",
    "                print message about down\n",
    "                \n",
    "### Then run the above code cell again, making sure your code still runs\n"
   ]
  },
  {
   "cell_type": "markdown",
   "id": "8c3079bf",
   "metadata": {},
   "source": [
    "### Task 5: use the above if/elif statements about the pond and path to modify the loop above) in order to make the turtle stop in the pond\n",
    "   - You will be replacing the `if` and `elif` statements in the loop\n",
    "   - Your turtle should no longer move back and forth (left and right) once it reaches the pond\n",
    "   \n",
    "### You should be able to clear your turtle's memory with `turtle.start_new_journey()` and run your loop once, and get the pond and stay in the pond\n",
    "\n"
   ]
  },
  {
   "cell_type": "markdown",
   "id": "ada9afb6",
   "metadata": {},
   "source": [
    "### Advanced Task: Put your turtle in a difficult situation...\n",
    "- Use the `start_location` parameter for `turtle_generator(...)`\n",
    "- Have your turtle start at location `(2,8)`\n",
    "- Does your above loop with the new if/elif statements work anymore?  Will this code bring your turtle to the pond?\n",
    "\n",
    "### If not, why is that?\n",
    "- Construct a fix (probably by adding more `elif` statements) so that your turtle can start at `(2,8)` and journey to the pond\n"
   ]
  },
  {
   "cell_type": "code",
   "execution_count": null,
   "id": "6a37ff51",
   "metadata": {},
   "outputs": [],
   "source": []
  }
 ],
 "metadata": {
  "celltoolbar": "Slideshow",
  "kernelspec": {
   "display_name": "Python 3 (ipykernel)",
   "language": "python",
   "name": "python3"
  },
  "language_info": {
   "codemirror_mode": {
    "name": "ipython",
    "version": 3
   },
   "file_extension": ".py",
   "mimetype": "text/x-python",
   "name": "python",
   "nbconvert_exporter": "python",
   "pygments_lexer": "ipython3",
   "version": "3.10.8"
  }
 },
 "nbformat": 4,
 "nbformat_minor": 5
}
