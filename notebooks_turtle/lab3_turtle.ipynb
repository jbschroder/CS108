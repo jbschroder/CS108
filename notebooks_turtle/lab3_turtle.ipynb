{
 "cells": [
  {
   "cell_type": "markdown",
   "id": "5cacb196",
   "metadata": {
    "id": "12eec2b8",
    "slideshow": {
     "slide_type": "slide"
    }
   },
   "source": [
    "## Turtle Lab 3: Move turtle through simple maze to pond\n",
    "\n",
    "### Learning Goals\n",
    "1. Review how to create a turtle object and pass it **parameters**\n",
    "    - Objects are special variables, with specialized capabilities, like drawing a turtle\n",
    "\n",
    "    - These capabilities are accessed through functions\n",
    "    - And, we give details (specify) how to use these capabilities with parameters\n",
    "    \n",
    "    In other words, the parameter is just extra information that tells the object to do something specific, like draw a pond or draw a maze."
   ]
  },
  {
   "cell_type": "markdown",
   "id": "12eec2b8",
   "metadata": {
    "id": "12eec2b8",
    "slideshow": {
     "slide_type": "slide"
    }
   },
   "source": [
    "### Learning Goals\n",
    "2. Learn how to draw a maze with a **parameter**, and navigate it with your turtle\n",
    "    - Start thinking algorithmically: plan a route and then implement it\n",
    "    - Then, draw a more complicated maze\n",
    "    - Then, learn how to use the `turtle.check_maze_completed()` command to check your turtle's progress\n",
    "\n",
    "\n",
    "3. Learn how to use `turtle.save_everything_to_file()` command to save your turtle to file for grading\n"
   ]
  },
  {
   "cell_type": "markdown",
   "id": "HOFo2PXSHRik",
   "metadata": {
    "id": "HOFo2PXSHRik",
    "slideshow": {
     "slide_type": "slide"
    }
   },
   "source": [
    "But, we have some **house cleaning** to do before we can start.  \n",
    "1. We download some code(`turtle_generator.py`) to define how our turtle can move around\n",
    "2. We pull the `turtle_generator` code into this notebook with an `import` command"
   ]
  },
  {
   "cell_type": "code",
   "execution_count": null,
   "id": "a7356955",
   "metadata": {
    "slideshow": {
     "slide_type": "-"
    }
   },
   "outputs": [],
   "source": [
    "# House cleaning part 1\n",
    "from urllib.request import urlretrieve\n",
    "(file, message) = urlretrieve('https://raw.githubusercontent.com/jbschroder/CS108/main/notebooks_turtle/turtle_generator.py', 'turtle_generator.py')\n",
    "print(\"You downloaded the file \" + file)\n",
    "\n",
    "# House cleaning part 2\n",
    "from turtle_generator import turtle_generator"
   ]
  },
  {
   "cell_type": "markdown",
   "id": "tJd1f-AsDU7w",
   "metadata": {
    "id": "tJd1f-AsDU7w",
    "slideshow": {
     "slide_type": "slide"
    }
   },
   "source": [
    "### Now, we can get started with our lab!\n",
    "\n",
    "First, we have to create a new turtle.\n",
    "But, we now give `turtle_generator()` a parameter telling it to give us a _maze_\n",
    "- This is what the parentheses do.  They let us group together commands that direct `turtle_generator`.  \n",
    "- Putting the right commands inside the parentheses will let us do lots of things, like draw a pond and a maze.\n",
    "\n",
    "Now, we draw a maze with the **new parameter** `maze_number`"
   ]
  },
  {
   "cell_type": "code",
   "execution_count": null,
   "id": "gzGiw8zO2JH4",
   "metadata": {
    "executionInfo": {
     "elapsed": 123,
     "status": "ok",
     "timestamp": 1695403005582,
     "user": {
      "displayName": "Jacob Schroder",
      "userId": "01251390844616463510"
     },
     "user_tz": 360
    },
    "id": "gzGiw8zO2JH4",
    "slideshow": {
     "slide_type": "-"
    }
   },
   "outputs": [],
   "source": [
    "turtle = turtle_generator( maze_number=1 )"
   ]
  },
  {
   "cell_type": "markdown",
   "id": "2c577e89",
   "metadata": {
    "slideshow": {
     "slide_type": "slide"
    }
   },
   "source": [
    "### Next, we just take a look at our turtle and where it is, and we find that there's a maze and pond!\n",
    "- Note the pond is drawn automatically at the location of the maze goal"
   ]
  },
  {
   "cell_type": "code",
   "execution_count": null,
   "id": "8d6d3832",
   "metadata": {
    "id": "eol71fSR2JIA",
    "slideshow": {
     "slide_type": "-"
    }
   },
   "outputs": [],
   "source": [
    "turtle.show_starting_position()"
   ]
  },
  {
   "cell_type": "markdown",
   "id": "6b8638f6",
   "metadata": {
    "slideshow": {
     "slide_type": "slide"
    }
   },
   "source": [
    "### Check: \n",
    "- Can you see a picture above of a turtle on a grid?  \n",
    "- Is there a simple maze leading from the turtle to the pond?\n",
    "- Is the pond there, at location `(12,12)`?"
   ]
  },
  {
   "cell_type": "markdown",
   "id": "3f1f1c15",
   "metadata": {
    "slideshow": {
     "slide_type": "slide"
    }
   },
   "source": [
    "### Next, we have to tell our turtle to get ready for a trip with `turtle.start_new_journey()`"
   ]
  },
  {
   "cell_type": "code",
   "execution_count": null,
   "id": "-aJ40yY22JIA",
   "metadata": {
    "id": "-aJ40yY22JIA"
   },
   "outputs": [],
   "source": [
    "turtle.start_new_journey()"
   ]
  },
  {
   "cell_type": "markdown",
   "id": "5oWR6nSc2JIA",
   "metadata": {
    "id": "5oWR6nSc2JIA",
    "slideshow": {
     "slide_type": "slide"
    }
   },
   "source": [
    "### Next, tell your turtle where to move!\n",
    "\n",
    "We move the turtle towards "
   ]
  },
  {
   "cell_type": "code",
   "execution_count": null,
   "id": "isBNsWXE2JIA",
   "metadata": {
    "id": "isBNsWXE2JIA"
   },
   "outputs": [],
   "source": [
    "turtle.move_up()\n",
    "turtle.move_right()\n",
    "\n",
    "turtle.move_up()\n",
    "turtle.move_right()\n",
    "\n",
    "turtle.move_up()\n",
    "turtle.move_right()\n",
    "\n",
    "turtle.move_up()\n",
    "turtle.move_right()\n",
    "\n",
    "turtle.move_up()\n",
    "turtle.move_right()"
   ]
  },
  {
   "cell_type": "markdown",
   "id": "aOkgDURU2JIA",
   "metadata": {
    "id": "aOkgDURU2JIA",
    "slideshow": {
     "slide_type": "slide"
    }
   },
   "source": [
    "### Finally, we can watch an animation of the turtle moving "
   ]
  },
  {
   "cell_type": "code",
   "execution_count": null,
   "id": "EbdqRC202JIA",
   "metadata": {
    "colab": {
     "base_uri": "https://localhost:8080/",
     "height": 658
    },
    "executionInfo": {
     "elapsed": 3758,
     "status": "ok",
     "timestamp": 1695397640792,
     "user": {
      "displayName": "Jacob Schroder",
      "userId": "01251390844616463510"
     },
     "user_tz": 360
    },
    "id": "EbdqRC202JIA",
    "outputId": "fddd648e-b50e-482d-c2b6-868f3739a003"
   },
   "outputs": [],
   "source": [
    "turtle.watch_me_move()"
   ]
  },
  {
   "cell_type": "markdown",
   "id": "6ed009ea",
   "metadata": {
    "slideshow": {
     "slide_type": "slide"
    }
   },
   "source": [
    "### For homeworks, you will need to check whether your maze is completed."
   ]
  },
  {
   "cell_type": "code",
   "execution_count": null,
   "id": "64e092bc",
   "metadata": {},
   "outputs": [],
   "source": [
    "turtle.check_maze_completed()"
   ]
  },
  {
   "cell_type": "markdown",
   "id": "a3291975",
   "metadata": {
    "slideshow": {
     "slide_type": "slide"
    }
   },
   "source": [
    "### For homeworks, you will need to save your turtle simulation to a file"
   ]
  },
  {
   "cell_type": "code",
   "execution_count": null,
   "id": "93bb6869",
   "metadata": {
    "slideshow": {
     "slide_type": "-"
    }
   },
   "outputs": [],
   "source": [
    "turtle.save_everything_to_file()"
   ]
  },
  {
   "cell_type": "markdown",
   "id": "95053044",
   "metadata": {
    "id": "xiVJ0VFSCWS8",
    "slideshow": {
     "slide_type": "slide"
    }
   },
   "source": [
    "### Task 1\n",
    "- Create your own notebook, copying over the important parts of this notebook\n",
    "\n",
    "\n",
    "- Then add new turtle movements so that your turtle reaches the pond and stays within the maze\n",
    "    - That is, the final move of the turtle should land it in the pond and the turtle should never leave\n",
    "      the maze boundary\n",
    "    - Use `turtle.check_maze_completed()` to see if you completed the maze correctly"
   ]
  },
  {
   "cell_type": "markdown",
   "id": "31133f15",
   "metadata": {
    "slideshow": {
     "slide_type": "slide"
    }
   },
   "source": [
    "### Task 2\n",
    "- Keep using the same notebook file created in Task 1\n",
    "\n",
    "\n",
    "- Change the maze number to `maze_number=2`\n",
    "\n",
    "\n",
    "- Then add new turtle movements so that your turtle reaches the pond and stays within the maze\n",
    "    - That is, the final move of the turtle should land it in the pond and the turtle should never leave\n",
    "      the maze boundary\n",
    "    - Use `turtle.check_maze_completed()` to see if you completed the maze correctly"
   ]
  },
  {
   "cell_type": "markdown",
   "id": "b0ebd0c9",
   "metadata": {
    "id": "xiVJ0VFSCWS8",
    "slideshow": {
     "slide_type": "slide"
    }
   },
   "source": [
    "### Task 3\n",
    "- At the very end of your notebook from Task 2, **make sure** to use the command \n",
    "\n",
    "    `turtle.save_everything_to_file()` \n",
    "\n",
    "\n",
    "- This command should be the last thing in your notebook\n",
    "\n",
    "    \n",
    "- This will save your turtle to file for grading"
   ]
  },
  {
   "cell_type": "markdown",
   "id": "abf5049d",
   "metadata": {
    "id": "xiVJ0VFSCWS8",
    "slideshow": {
     "slide_type": "slide"
    }
   },
   "source": [
    "### Homework\n",
    "\n",
    "- After completing this, download your notebook to `.py` file and upload this `.py` file to Canvas for the weekly homework\n",
    "\n",
    "\n",
    "- Name your homework file `hw##.py`, where `##` is the correct number for this week.\n"
   ]
  },
  {
   "cell_type": "markdown",
   "id": "xiVJ0VFSCWS8",
   "metadata": {
    "id": "xiVJ0VFSCWS8",
    "slideshow": {
     "slide_type": "slide"
    }
   },
   "source": [
    "### Reminder: To download correctly, click on the `download as .py` option in Colab\n",
    "![](https://raw.githubusercontent.com/jbschroder/CS108/main/notebooks_turtle/image_of_downloading_py_file.png)"
   ]
  },
  {
   "cell_type": "code",
   "execution_count": null,
   "id": "5cf8dafe",
   "metadata": {},
   "outputs": [],
   "source": []
  }
 ],
 "metadata": {
  "celltoolbar": "Slideshow",
  "colab": {
   "provenance": []
  },
  "kernelspec": {
   "display_name": "Python 3 (ipykernel)",
   "language": "python",
   "name": "python3"
  },
  "language_info": {
   "codemirror_mode": {
    "name": "ipython",
    "version": 3
   },
   "file_extension": ".py",
   "mimetype": "text/x-python",
   "name": "python",
   "nbconvert_exporter": "python",
   "pygments_lexer": "ipython3",
   "version": "3.10.8"
  },
  "rise": {
   "center": false
  },
  "vp": {
   "vp_config_version": "1.0.0",
   "vp_menu_width": 273,
   "vp_note_display": false,
   "vp_note_width": 0,
   "vp_position": {
    "width": 278
   },
   "vp_section_display": false,
   "vp_signature": "VisualPython"
  }
 },
 "nbformat": 4,
 "nbformat_minor": 5
}
