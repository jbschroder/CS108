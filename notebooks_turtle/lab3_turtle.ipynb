{
 "cells": [
  {
   "cell_type": "markdown",
   "id": "9235f29a",
   "metadata": {
    "id": "12eec2b8",
    "slideshow": {
     "slide_type": "slide"
    }
   },
   "source": [
    "## Turtle Lab 3: Basic if/else, and Moving and saving turtle for homeworks\n",
    "Lecture file: `03_IfElse.ipynb`"
   ]
  },
  {
   "cell_type": "markdown",
   "id": "2b75fb29",
   "metadata": {
    "id": "12eec2b8",
    "slideshow": {
     "slide_type": "slide"
    }
   },
   "source": [
    "### Learning Goals\n",
    "\n",
    "1. Review basic if statements\n",
    "    - if statements let you make decisions in your code\n",
    "    - if statements let you control your code and what it does by comparing values \n",
    "    \n",
    "      --> if your comparison between two values is True, then execute some particular code\n",
    "      \n",
    "      --> if your comparison between two values if False, then execute some other code"
   ]
  },
  {
   "cell_type": "markdown",
   "id": "e4e1bfef",
   "metadata": {
    "id": "12eec2b8",
    "slideshow": {
     "slide_type": "slide"
    }
   },
   "source": [
    "2. Continue learning about **parameters**\n",
    "    - Remember parameters are values that we can give to commands like the pond location here\n",
    "    \n",
    "            my_location = (12,12)\n",
    "            turtle = turtle_generator( pond_location=my_location )\n",
    "    \n",
    "    - Remember `my_location` is a variable\n",
    "    - We will use a new parameter to now draw a maze"
   ]
  },
  {
   "cell_type": "markdown",
   "id": "5cacb196",
   "metadata": {
    "id": "12eec2b8",
    "slideshow": {
     "slide_type": "slide"
    }
   },
   "source": [
    "3. Continue thinking algorithmically\n",
    "    - Plan a route for your turtle and then implement it\n",
    "    - Learn how to use the `turtle.check_maze_completed()` command to check your turtle's progress\n",
    "\n",
    "\n",
    "4. Learn how to use `turtle.save_everything_to_file()` command to save your turtle to file for grading"
   ]
  },
  {
   "cell_type": "markdown",
   "id": "HOFo2PXSHRik",
   "metadata": {
    "id": "HOFo2PXSHRik",
    "slideshow": {
     "slide_type": "slide"
    }
   },
   "source": [
    "### <font color=\"blue\"> First </font>\n",
    "\n",
    "<font color=\"blue\"> We have some **house cleaning** to do before we can start. </font>\n",
    "1. <font color=\"blue\"> We download some code(`turtle_generator.py`) to define how our turtle can move around </font>\n",
    "2. <font color=\"blue\"> We pull the `turtle_generator` code into this notebook with an `import` command </font>\n",
    "\n",
    "**<font color=\"blue\">Note that you have to run the below cell</font>**"
   ]
  },
  {
   "cell_type": "code",
   "execution_count": null,
   "id": "a7356955",
   "metadata": {
    "slideshow": {
     "slide_type": "-"
    }
   },
   "outputs": [],
   "source": [
    "# House cleaning part 1\n",
    "from urllib.request import urlretrieve\n",
    "(file, message) = urlretrieve('https://raw.githubusercontent.com/jbschroder/CS108/main/notebooks_turtle/turtle_generator.py', 'turtle_generator.py')\n",
    "print(\"You downloaded the file \" + file)\n",
    "\n",
    "# House cleaning part 2\n",
    "from turtle_generator import turtle_generator"
   ]
  },
  {
   "cell_type": "markdown",
   "id": "1074d054",
   "metadata": {},
   "source": [
    "### Using what you learned in the lecture video, you will now experiment with basic if statements\n",
    "\n",
    "### An *If Statement* makes a comparison with the variable\n",
    "1. If the comparison is **true, all indented lines** under the if statement are executed\n",
    "\n",
    "### Task: Change `number` to other values (some negative, some positive).  Run the below cell each time you change `number`\n",
    "   - Observe the output, that is see what message is printed to the screen.\n",
    "   - Do you understand how your choice of `number` is controlling what is printed to the screen?\n"
   ]
  },
  {
   "cell_type": "code",
   "execution_count": null,
   "id": "9fbfdb70",
   "metadata": {},
   "outputs": [],
   "source": [
    "number = 5\n",
    "if (number > 0):\n",
    "    print(\"This number is...\")\n",
    "    print(\"Positive!\")\n",
    "    \n",
    "print(number)"
   ]
  },
  {
   "cell_type": "markdown",
   "id": "b9161e6a",
   "metadata": {},
   "source": [
    "### If/Else Statements in Python\n",
    "1. The lines of code indented below an if statement are run, **only when** the if statement is **true**\n",
    "2. The lines of code indented below an else statement are run, **only when** the if statement is **false**\n",
    "\n",
    "### Task: Change `number` to other values (some negative, some positive).  Run the below cell each time you change `number`\n",
    "   - Observe the output, that is see what message is printed to the screen.\n",
    "   - Do you understand how your choice of `number` is controlling what is printed to the screen?"
   ]
  },
  {
   "cell_type": "code",
   "execution_count": null,
   "id": "0e20163c",
   "metadata": {},
   "outputs": [],
   "source": [
    "number = -5\n",
    "if (number > 0):\n",
    "    print(\"This number is positive!\")\n",
    "else:\n",
    "    print(\"This number is negative!\")"
   ]
  },
  {
   "cell_type": "markdown",
   "id": "7d06db43",
   "metadata": {},
   "source": [
    "### We can compare two variables\n",
    "1. If `x` is larger than `y`, then the indented lines below the `if` statement are run \n",
    "    - We say that the `if` statement has been executed\n",
    "    \n",
    "2. If `x` is smaller than `y`, then the indented lines below the `elif` statement are run\n",
    "    - We say that the `elif` statement has been is executed\n",
    "    \n",
    "3. If `x` is equal to `y`, then the indented lines below the `else` statement are run\n",
    "    - We say that the `else` statement has been is executed\n",
    "    \n",
    "### Task: Change `x` and `y` so that all three of the different messages are printed.  Run the below cell each time you change `x` or `y`\n",
    "- Observe the output, that is see what message is printed to the screen.\n",
    "- Do you understand how your choices of `x` and `y` are controlling what is printed to the screen?\n",
    "    "
   ]
  },
  {
   "cell_type": "code",
   "execution_count": null,
   "id": "72fcf65f",
   "metadata": {},
   "outputs": [],
   "source": [
    "x = 3\n",
    "y = 4\n",
    "if (x > y):\n",
    "    print(\"The value of x is greater than the value of y\")\n",
    "elif (x < y):\n",
    "    print(\"The value of x is less than the value of y\")\n",
    "else:\n",
    "    print(\"The value of x is equal to the value of y\")"
   ]
  },
  {
   "cell_type": "markdown",
   "id": "8d655e1a",
   "metadata": {},
   "source": [
    "### Task1 : Create a new code cell below with the \"+ Code\" button\n",
    "- We usually call words (or any collection of letters, puncuation, words, sentences, and so on strings \n",
    "- Make sure you know the word **string**\n",
    "\n",
    "### Task 2: You can also use if statements to analyze strings\n",
    "- In the new below code cell, create two strings, call them `word1` and `word2`, with commands like `word1 = \"my word\"`\n",
    "- Compare them with an if statement, that is `if(word1 == word2):`\n",
    "- And then after the if statement, print a message if they are equal (the same word)\n",
    "    - Make sure your print message is indented\n",
    "- And also insert an else statement to print a message if they are not equal.\n",
    "    - Make sure your print message is indented\n",
    "\n",
    "\n",
    "### Run your code cell for different choices of `word1`  and `word2`, try cases where they are the same, and where they are not the same"
   ]
  },
  {
   "cell_type": "markdown",
   "id": "tJd1f-AsDU7w",
   "metadata": {
    "id": "tJd1f-AsDU7w",
    "slideshow": {
     "slide_type": "slide"
    }
   },
   "source": [
    "### <font color=\"blue\"> Now, we can get started with the turtle part of the lab! </font>\n",
    "\n",
    "<font color=\"blue\"> First, we have to create a new turtle.</font>\n",
    "\n",
    "<font color=\"blue\"> But, we now give `turtle_generator()` a new parameter telling it to give us a _maze_ </font>\n",
    "\n",
    "<font color=\"blue\"> Remember </font>\n",
    "- <font color=\"blue\"> This is what the parentheses do.  They let us group together commands that direct `turtle_generator(...)`.  </font>\n",
    "- <font color=\"blue\"> Putting the right commands inside the parentheses will let us do lots of things, like draw a pond and a maze.</font> \n",
    "\n",
    "**<font color=\"blue\">**In general, you will always want to run below code cells in the labs.  Run the below code cell and continue doing this for code cells in all the labs.**</font>**"
   ]
  },
  {
   "cell_type": "code",
   "execution_count": null,
   "id": "gzGiw8zO2JH4",
   "metadata": {
    "executionInfo": {
     "elapsed": 123,
     "status": "ok",
     "timestamp": 1695403005582,
     "user": {
      "displayName": "Jacob Schroder",
      "userId": "01251390844616463510"
     },
     "user_tz": 360
    },
    "id": "gzGiw8zO2JH4",
    "slideshow": {
     "slide_type": "-"
    }
   },
   "outputs": [],
   "source": [
    "my_maze = 1\n",
    "\n",
    "turtle = turtle_generator( maze_number=my_maze )"
   ]
  },
  {
   "cell_type": "markdown",
   "id": "2c577e89",
   "metadata": {
    "slideshow": {
     "slide_type": "slide"
    }
   },
   "source": [
    "### <font color=\"blue\"> Next, we just take a look at our turtle and where it is, and we find that there's a maze and pond! </font>\n",
    "\n",
    "#### <font color=\"blue\"> Note the pond is drawn automatically at the location of the maze goal </font>"
   ]
  },
  {
   "cell_type": "code",
   "execution_count": null,
   "id": "8d6d3832",
   "metadata": {
    "id": "eol71fSR2JIA",
    "scrolled": false,
    "slideshow": {
     "slide_type": "-"
    }
   },
   "outputs": [],
   "source": [
    "turtle.show_starting_position()"
   ]
  },
  {
   "cell_type": "markdown",
   "id": "6b8638f6",
   "metadata": {
    "slideshow": {
     "slide_type": "slide"
    }
   },
   "source": [
    "### Check: \n",
    "- Can you see a picture above of a turtle on a grid?  \n",
    "- Is there a simple maze leading from the turtle to the pond?\n",
    "- Is the pond there, at location `(12,12)`?"
   ]
  },
  {
   "cell_type": "markdown",
   "id": "3f1f1c15",
   "metadata": {
    "slideshow": {
     "slide_type": "slide"
    }
   },
   "source": [
    "### <font color=\"blue\"> Next, we have to tell our turtle to get ready for a trip with `turtle.start_new_journey()` </font>"
   ]
  },
  {
   "cell_type": "code",
   "execution_count": null,
   "id": "-aJ40yY22JIA",
   "metadata": {
    "id": "-aJ40yY22JIA"
   },
   "outputs": [],
   "source": [
    "turtle.start_new_journey()"
   ]
  },
  {
   "cell_type": "markdown",
   "id": "5oWR6nSc2JIA",
   "metadata": {
    "id": "5oWR6nSc2JIA",
    "slideshow": {
     "slide_type": "slide"
    }
   },
   "source": [
    "### <font color=\"blue\"> Next, tell your turtle where to move! </font>\n",
    "\n",
    "<font color=\"blue\"> We move the turtle towards </font>"
   ]
  },
  {
   "cell_type": "code",
   "execution_count": null,
   "id": "isBNsWXE2JIA",
   "metadata": {
    "id": "isBNsWXE2JIA"
   },
   "outputs": [],
   "source": [
    "turtle.move_right()\n",
    "turtle.move_right()\n",
    "turtle.move_right()\n",
    "turtle.move_right()\n",
    "turtle.move_right()\n",
    "\n",
    "turtle.move_up()\n",
    "turtle.move_up()\n"
   ]
  },
  {
   "cell_type": "markdown",
   "id": "aOkgDURU2JIA",
   "metadata": {
    "id": "aOkgDURU2JIA",
    "slideshow": {
     "slide_type": "slide"
    }
   },
   "source": [
    "### <font color=\"blue\"> Finally, we can watch an animation of the turtle moving </font>"
   ]
  },
  {
   "cell_type": "code",
   "execution_count": null,
   "id": "EbdqRC202JIA",
   "metadata": {
    "colab": {
     "base_uri": "https://localhost:8080/",
     "height": 658
    },
    "executionInfo": {
     "elapsed": 3758,
     "status": "ok",
     "timestamp": 1695397640792,
     "user": {
      "displayName": "Jacob Schroder",
      "userId": "01251390844616463510"
     },
     "user_tz": 360
    },
    "id": "EbdqRC202JIA",
    "outputId": "fddd648e-b50e-482d-c2b6-868f3739a003"
   },
   "outputs": [],
   "source": [
    "turtle.watch_me_move()"
   ]
  },
  {
   "cell_type": "markdown",
   "id": "6ed009ea",
   "metadata": {
    "slideshow": {
     "slide_type": "slide"
    }
   },
   "source": [
    "### <font color=\"blue\"> For homeworks, you will need to check whether your maze is completed. </font>\n",
    "- <font color=\"blue\"> The below cell should print `True`. </font>"
   ]
  },
  {
   "cell_type": "code",
   "execution_count": null,
   "id": "64e092bc",
   "metadata": {},
   "outputs": [],
   "source": [
    "turtle.check_maze_completed()"
   ]
  },
  {
   "cell_type": "markdown",
   "id": "a3291975",
   "metadata": {
    "slideshow": {
     "slide_type": "slide"
    }
   },
   "source": [
    "### <font color=\"blue\"> For homeworks, you will need to save your turtle simulation to a file (this is used for grading) </font>"
   ]
  },
  {
   "cell_type": "code",
   "execution_count": null,
   "id": "93bb6869",
   "metadata": {
    "slideshow": {
     "slide_type": "-"
    }
   },
   "outputs": [],
   "source": [
    "turtle.save_everything_to_file()"
   ]
  },
  {
   "cell_type": "markdown",
   "id": "c99ff723",
   "metadata": {
    "id": "xiVJ0VFSCWS8",
    "slideshow": {
     "slide_type": "slide"
    }
   },
   "source": [
    "### Task 1\n",
    "- Create a new notebook in CoLab\n",
    "   - Go to File --> New notebook\n",
    "   - In the top left change the name from Untitled...ipynb to something more descriptive, like mylab3.ipynb\n",
    "   - Then, to find your file, to back to Google Drive in your browser.\n",
    "   - You will now have a folder titled `Colab Notebooks`\n",
    "   - Open that folder, and you'll see the new file!\n",
    "\n",
    "     **Note:** this is how you will create files for homeworks.\n",
    "\n",
    "\n",
    "\n",
    "- For each markdown cell with **blue**\n",
    "   - Copy that markdown cell to the new notebook\n",
    "   - Also copy the code cell immediate below to the new notebook \n",
    "\n",
    "     --> Basically, you copy all the cells that are needed to experiment with a turtle "
   ]
  },
  {
   "cell_type": "markdown",
   "id": "d4e2f4ca",
   "metadata": {},
   "source": [
    "====>  If needed, please stop and ask for help with Task 1"
   ]
  },
  {
   "cell_type": "markdown",
   "id": "95053044",
   "metadata": {
    "id": "xiVJ0VFSCWS8",
    "slideshow": {
     "slide_type": "slide"
    }
   },
   "source": [
    "### Task 2: Then add new turtle movements so that your turtle reaches the pond and stays within the maze\n",
    "   - That is, the final move of the turtle should land it in the pond and the turtle should never leave\n",
    "      the maze boundary\n",
    "\n",
    "### Use `turtle.check_maze_completed()` to see if you completed the maze correctly\n",
    "- This command should give you a `True` value\n",
    "- You can `print` this command to see its value"
   ]
  },
  {
   "cell_type": "markdown",
   "id": "b0ebd0c9",
   "metadata": {
    "id": "xiVJ0VFSCWS8",
    "slideshow": {
     "slide_type": "slide"
    }
   },
   "source": [
    "### Task 3\n",
    "- At the very end of your notebook from Task 2, **make sure** to use the command \n",
    "\n",
    "    `turtle.save_everything_to_file()` \n",
    "\n",
    "\n",
    "- This command should be the last thing in your notebook\n",
    "\n",
    "    \n",
    "- This will save your turtle to file for grading\n",
    "\n",
    "\n",
    "### Task 4\n",
    "- Make sure that your notebook is correct and doesn't have any errors\n",
    "- Go to the menu item `Runtime` and select `Restart session and run all`\n",
    "- Look at all of your code cells in your entire notebook\n",
    "    - Is everything correct?  Does your turtle move where it should?"
   ]
  },
  {
   "cell_type": "markdown",
   "id": "abf5049d",
   "metadata": {
    "id": "xiVJ0VFSCWS8",
    "slideshow": {
     "slide_type": "slide"
    }
   },
   "source": [
    "### Homework submission\n",
    "\n",
    "- After completing this, download your notebook to `.py` file and upload this `.py` file to Canvas for the weekly homework\n",
    "\n",
    "\n",
    "- Name your homework file `hw#.py`, where `#` is the correct number for this week, for instance `hw1.py`, `hw2.py`, ...\n"
   ]
  },
  {
   "cell_type": "markdown",
   "id": "xiVJ0VFSCWS8",
   "metadata": {
    "id": "xiVJ0VFSCWS8",
    "slideshow": {
     "slide_type": "slide"
    }
   },
   "source": [
    "### Reminder: To download correctly, click on the `download as .py` option in Colab\n",
    "![](https://raw.githubusercontent.com/jbschroder/CS108/main/lecture_images/image_of_downloading_py_file.png)"
   ]
  },
  {
   "cell_type": "code",
   "execution_count": null,
   "id": "5cf8dafe",
   "metadata": {},
   "outputs": [],
   "source": []
  },
  {
   "cell_type": "markdown",
   "id": "c4866315",
   "metadata": {},
   "source": [
    "### If you have extra time during the afternoon lab, stay and attempt the below\n",
    "\n",
    "### Extra challenge 1\n",
    "- If you would like an extra coding challenge, you can repeat the above for `my_maze=2`\n",
    "- This isn't for the homework (don't submit it), but it's a fun task\n",
    "\n",
    "### Extra challenge 2\n",
    "- Then after you've done this for `my_maze=2`, automate the process\n",
    "- Every time you need to repeat a turtle movement, use a loop\n",
    "\n",
    "For an example, if I wanted to move my turtle up 4 times, I would type\n",
    "\n",
    "    for i in range(4):\n",
    "        turtle.move_down()\n",
    "        \n",
    "You can replicate this structure to move in all four directions and you can change `4` to any number you want, so that you move the correct number of times.\n",
    "\n",
    "### Extra challenge 3\n",
    "- Note that there are two ways to finish maze 2.  Automate the process again, so that you have code that takes both directions."
   ]
  },
  {
   "cell_type": "markdown",
   "id": "996a3246",
   "metadata": {},
   "source": [
    "### Extra challenge 4\n",
    "- Use a control variable to make things more automated.  \n",
    "- A control variable is something that controls your code.\n",
    "- So, create something like \n",
    "\n",
    "      top_route = <True or False>\n",
    "\n",
    "      if top_route:\n",
    "        < code to traverse top route of maze >\n",
    "      else: \n",
    "        < code to traverse bottom route of maze >\n",
    "\n",
    "\n",
    "### Extra challenge 5\n",
    "- Repeat the above using a control variable that lets your turtle take all possible routes in maze 3"
   ]
  },
  {
   "cell_type": "code",
   "execution_count": null,
   "id": "11e5f88c",
   "metadata": {},
   "outputs": [],
   "source": []
  }
 ],
 "metadata": {
  "celltoolbar": "Slideshow",
  "colab": {
   "provenance": []
  },
  "kernelspec": {
   "display_name": "Python 3 (ipykernel)",
   "language": "python",
   "name": "python3"
  },
  "language_info": {
   "codemirror_mode": {
    "name": "ipython",
    "version": 3
   },
   "file_extension": ".py",
   "mimetype": "text/x-python",
   "name": "python",
   "nbconvert_exporter": "python",
   "pygments_lexer": "ipython3",
   "version": "3.10.8"
  },
  "rise": {
   "center": false
  },
  "vp": {
   "vp_config_version": "1.0.0",
   "vp_menu_width": 273,
   "vp_note_display": false,
   "vp_note_width": 0,
   "vp_position": {
    "width": 278
   },
   "vp_section_display": false,
   "vp_signature": "VisualPython"
  }
 },
 "nbformat": 4,
 "nbformat_minor": 5
}
