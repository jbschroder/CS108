{
 "cells": [
  {
   "cell_type": "markdown",
   "id": "d455074e",
   "metadata": {
    "slideshow": {
     "slide_type": "slide"
    }
   },
   "source": [
    "## Turtle Lab 11: Introductory Functions and More \n",
    "Lecture file: `07_Functions_Part2.ipynb`"
   ]
  },
  {
   "cell_type": "markdown",
   "id": "7725c199",
   "metadata": {
    "slideshow": {
     "slide_type": "slide"
    }
   },
   "source": [
    "## Lecture 07.2 : Functions Part 2\n",
    "\n",
    "### Learning Goals \n",
    "\n",
    "1. Review\n",
    "    1. Learn that a function is a sequence of code that carries out a particular goal or task\n",
    "       - In other words, a function is some lines of code, packaged together, where all that code carries out a particular task\n",
    "       - This package can be used again and again to carry out the particular task\n",
    "    2. Learn how to define a function\n",
    "       - In Python we use `def function_name():` to define or declare a new function. \n",
    "    3. Learn how to call your new function (that is, use your new funcion)       \n",
    "       - After defining the function, calling the function actually executes the code. \n",
    "       - The function can be called (or used) as many times as you want."
   ]
  },
  {
   "cell_type": "markdown",
   "id": "65600ecc",
   "metadata": {
    "slideshow": {
     "slide_type": "slide"
    }
   },
   "source": [
    "### Learning Goals\n",
    "3. Learn how functions use paramters\n",
    "    - Functions can take parameters\n",
    "    - You've seen parameters before (like the `start_location`)\n",
    "    - Parameters let you tell the function information\n",
    "    - That information often directs the function to do something specific, like draw a pond or print a particular message\n",
    "    \n",
    "    \n",
    "### Remember, you've been using parameters like `start_location` and `maze_number` for a while now! You're just seeing more in-depth how they work"
   ]
  },
  {
   "cell_type": "markdown",
   "id": "HOFo2PXSHRik",
   "metadata": {
    "id": "HOFo2PXSHRik",
    "slideshow": {
     "slide_type": "slide"
    }
   },
   "source": [
    "### First\n",
    "\n",
    "We have some **house cleaning** to do before we can start.\n",
    "1. We download some code(`turtle_generator.py`) to define how our turtle can move around\n",
    "2. We pull the `turtle_generator` code into this notebook with an `import` command"
   ]
  },
  {
   "cell_type": "code",
   "execution_count": null,
   "id": "a7356955",
   "metadata": {
    "slideshow": {
     "slide_type": "-"
    }
   },
   "outputs": [],
   "source": [
    "# House cleaning part 1\n",
    "from urllib.request import urlretrieve\n",
    "(file, message) = urlretrieve('https://raw.githubusercontent.com/jbschroder/CS108/main/notebooks_turtle/turtle_generator.py', 'turtle_generator.py')\n",
    "print(\"You downloaded the file \" + file)\n",
    "\n",
    "# House cleaning part 2\n",
    "from turtle_generator import turtle_generator"
   ]
  },
  {
   "cell_type": "markdown",
   "id": "c8ed064c",
   "metadata": {
    "slideshow": {
     "slide_type": "slide"
    }
   },
   "source": [
    "### Next, using what you learned in the lecture video, you will now experiment with function parameters \n",
    "\n",
    "### Here is an example function that prints a parameter \n",
    "\n",
    "        def my_function(var):\n",
    "            print(var)\n",
    "\n",
    "### Task 1: Create a code cell below and define a new function in it.  \n",
    "   - Name the function `print_parameter(var)` \n",
    "   - Have that function print the parameter `var` \n",
    "   - Remember that you have to run the new below cell for Python to know about this new function (to define the new function)"
   ]
  },
  {
   "cell_type": "markdown",
   "id": "c78706d3",
   "metadata": {
    "slideshow": {
     "slide_type": "slide"
    }
   },
   "source": [
    "### Task 2: Run the below code cell to verify that your new function `print_parameter()` works.  \n",
    "   - Do you see the parameter printed?"
   ]
  },
  {
   "cell_type": "code",
   "execution_count": null,
   "id": "ad762dfe",
   "metadata": {},
   "outputs": [],
   "source": [
    "print_parameter(\"Hello, I'm a parameter\")"
   ]
  },
  {
   "cell_type": "markdown",
   "id": "4dacb87e",
   "metadata": {},
   "source": [
    "### Task 3: Create a code cell below and try `print_parameter(...)` with a number as a parameter\n",
    "\n",
    "### Task 3 Cont'd: Repeat and try a list as a parameter"
   ]
  },
  {
   "cell_type": "markdown",
   "id": "8f58564c",
   "metadata": {},
   "source": [
    "### Task 4: Create a code cell below and define a function with two parameters and print both parameters to the screen.\n",
    "\n",
    "### A function of two parameters would look like\n",
    "\n",
    "        def print_two_parameters(var1, var2):\n",
    "        \n",
    "### And then indented inside the function, you would need to print `var1` and `var2` to the screen\n",
    "\n",
    "\n",
    "### Task 5: Run the below cell. Do you see both parameters printed?"
   ]
  },
  {
   "cell_type": "code",
   "execution_count": null,
   "id": "38487c10",
   "metadata": {},
   "outputs": [],
   "source": [
    "print_two_parameters(\"my favorite message\", [1,45,-2])"
   ]
  },
  {
   "cell_type": "markdown",
   "id": "c59172ff",
   "metadata": {},
   "source": [
    "### Task 6: Create a code cell below and define a function with two parameters that prints the sum of those parameters. \n",
    "\n",
    "### So, the function would like this\n",
    "\n",
    "        def add_two_parameters(var1, var2):\n",
    "    \n",
    "### And when you run the function it should do this\n",
    "\n",
    "      add_two_parameters(4, 9)\n",
    "      13\n",
    "\n",
    "### Task 7: Run the below cell.  Do you see 13 printed?  \n",
    "- Try a few other numbers"
   ]
  },
  {
   "cell_type": "code",
   "execution_count": null,
   "id": "0d8f4f06",
   "metadata": {},
   "outputs": [],
   "source": [
    "add_two_parameters(4, 9)"
   ]
  },
  {
   "cell_type": "markdown",
   "id": "77201c1c",
   "metadata": {},
   "source": [
    "### Now, we can get started with the turtle part of the lab!\n",
    "\n",
    "First, we have to create a new turtle.\n",
    "\n",
    "- We use the _maze_ parameter again \n",
    "- Remember, that we can give `turtle_generator()` values inside the parentheses that tell `turtle_generator()` what to do\n",
    "- This is the essence of a **parameter**, values that you give something (like `turtle_generator()`) that tell it what to do\n",
    "\n",
    "Second, at the bottom of the cell, we take a look at our turtle and find that it's at location `(0,0)`, with a simple maze and pond"
   ]
  },
  {
   "cell_type": "code",
   "execution_count": null,
   "id": "8d6d3832",
   "metadata": {
    "id": "eol71fSR2JIA",
    "scrolled": false,
    "slideshow": {
     "slide_type": "-"
    }
   },
   "outputs": [],
   "source": [
    "my_maze = 2\n",
    "turtle = turtle_generator( maze_number=my_maze )\n",
    "\n",
    "turtle.show_starting_position()"
   ]
  },
  {
   "cell_type": "markdown",
   "id": "68e95a7c",
   "metadata": {},
   "source": [
    "### The next sequence of tasks will have you write a function that will move your turtle\n",
    "\n",
    "### The function will take a turtle as a parameter and do the following\n",
    "   1. Start a new journey with `turtle.start_new_journey()`\n",
    "   2. Do some movements with commands like `turtle.move_right()`\n",
    "   \n",
    "### Task 1: Create a code cell below and write a function named `move_turtle(...)` in that cell \n",
    "   - The function must take a turtle as a parameter \n",
    "   - To take a turtle as a parameter, you just put a parameter (like above) inside the parentheses for your function \n",
    "       - So, you will write your function like this `def move_turtle(cool_turtle):` line\n",
    "       \n",
    "   - Your parameter will be a turtle.  So, if you name your parameter `cool_turtle`, you would use lines like this in your function \n",
    "          \n",
    "          cool_turtle.start_new_journey()\n",
    "      \n",
    "      and then similar lines to move right, left, up or down\n",
    "          \n",
    "   - You may assume that the turtle was created with maze 2"
   ]
  },
  {
   "cell_type": "markdown",
   "id": "83dae819",
   "metadata": {},
   "source": [
    "### Task 2: Run the below cell to watch your turtle.  Does it move?  The turtle should do all the movements in the function.  (Stop and ask if you are having trouble here)."
   ]
  },
  {
   "cell_type": "code",
   "execution_count": null,
   "id": "7965f5a2",
   "metadata": {},
   "outputs": [],
   "source": [
    "move_turtle(turtle)\n",
    "turtle.watch_me_move()"
   ]
  },
  {
   "cell_type": "markdown",
   "id": "9576c096",
   "metadata": {},
   "source": [
    "### Task 4: Write in the below text cell what would happen if you deleted line with `cool_turtle.start_new_journey()` and then ran the above code cell 3 times.  \n",
    "\n",
    "#### (If you're not sure experiment, but be sure to put the `cool_turtle.start_new_journey()` back into your function when done.)\n"
   ]
  },
  {
   "cell_type": "markdown",
   "id": "21fceea3",
   "metadata": {},
   "source": [
    "...insert your comments here..."
   ]
  },
  {
   "cell_type": "markdown",
   "id": "6ee75411",
   "metadata": {},
   "source": [
    "### Task 5: Turtle Art!\n",
    "1. Update your above function so that your turtle leaves a trail in the shape of a box\n",
    "2. Then, leave the shape of a box using loops\n",
    "3. Then, leave the shape of a box using only one loop\n",
    "    - That is, inside this loop, your turtle will need to go straight, up, left, and then right"
   ]
  },
  {
   "cell_type": "markdown",
   "id": "92539ac6",
   "metadata": {},
   "source": [
    "### Some of Task 5 is Advanced, so don't worry if you only get parts 1 and 2 done\n",
    "   \n",
    "   \n",
    "### If you finish early, draw a word with loops using your turtle"
   ]
  },
  {
   "cell_type": "code",
   "execution_count": null,
   "id": "9386c621",
   "metadata": {},
   "outputs": [],
   "source": []
  }
 ],
 "metadata": {
  "celltoolbar": "Slideshow",
  "kernelspec": {
   "display_name": "Python 3 (ipykernel)",
   "language": "python",
   "name": "python3"
  },
  "language_info": {
   "codemirror_mode": {
    "name": "ipython",
    "version": 3
   },
   "file_extension": ".py",
   "mimetype": "text/x-python",
   "name": "python",
   "nbconvert_exporter": "python",
   "pygments_lexer": "ipython3",
   "version": "3.10.8"
  }
 },
 "nbformat": 4,
 "nbformat_minor": 5
}
