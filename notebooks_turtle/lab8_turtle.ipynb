{
 "cells": [
  {
   "cell_type": "markdown",
   "id": "d455074e",
   "metadata": {
    "slideshow": {
     "slide_type": "slide"
    }
   },
   "source": [
    "## Turtle Lab 8: Loops and More advanced turtle movements\n",
    "Lecture file: `06_Loops_Part1.ipynb`"
   ]
  },
  {
   "cell_type": "markdown",
   "id": "61b74318",
   "metadata": {
    "slideshow": {
     "slide_type": "slide"
    }
   },
   "source": [
    "### Learning Goals \n",
    "1. Learn how to use basic loops\n",
    "   - Loops allow the same code to be executed many times\n",
    "\n",
    "   **This will allow you to avoid running a cell many times!**\n",
    "   \n",
    "   **This will allow you to avoid repeating a cell many times, like in the last HW!**\n",
    "\n",
    "\n",
    "2. Use a basic `for` loop can step through items in a list"
   ]
  },
  {
   "cell_type": "markdown",
   "id": "df0580e8",
   "metadata": {
    "slideshow": {
     "slide_type": "slide"
    }
   },
   "source": [
    "### Learning Goals \n",
    "\n",
    "3. Continue using conditionals (if/else) to move your turtle\n",
    "    - Continue using `not`, `<`, `>`, `<=`, `>=`, `==` inside of if/else\n",
    "4. Learn how to use a list to track the turtle's movements"
   ]
  },
  {
   "cell_type": "markdown",
   "id": "HOFo2PXSHRik",
   "metadata": {
    "id": "HOFo2PXSHRik",
    "slideshow": {
     "slide_type": "slide"
    }
   },
   "source": [
    "### First\n",
    "\n",
    "We have some **house cleaning** to do before we can start.\n",
    "1. We download some code(`turtle_generator.py`) to define how our turtle can move around\n",
    "2. We pull the `turtle_generator` code into this notebook with an `import` command"
   ]
  },
  {
   "cell_type": "code",
   "execution_count": null,
   "id": "a7356955",
   "metadata": {
    "slideshow": {
     "slide_type": "-"
    }
   },
   "outputs": [],
   "source": [
    "# House cleaning part 1\n",
    "from urllib.request import urlretrieve\n",
    "(file, message) = urlretrieve('https://raw.githubusercontent.com/jbschroder/CS108/main/notebooks_turtle/turtle_generator.py', 'turtle_generator.py')\n",
    "print(\"You downloaded the file \" + file)\n",
    "\n",
    "# House cleaning part 2\n",
    "from turtle_generator import turtle_generator"
   ]
  },
  {
   "cell_type": "markdown",
   "id": "c8ed064c",
   "metadata": {
    "slideshow": {
     "slide_type": "slide"
    }
   },
   "source": [
    "### Using what you learned in the lecture video, you will now experiment with basic loops\n",
    "\n",
    "### Task: run the below cell, observe how all the items are printed"
   ]
  },
  {
   "cell_type": "code",
   "execution_count": null,
   "id": "fcbcabd1",
   "metadata": {
    "slideshow": {
     "slide_type": "subslide"
    }
   },
   "outputs": [],
   "source": [
    "mylist = ['bird', 'mammal', 'reptile', 'mollusc', 'fish', 'amphibian']\n",
    "\n",
    "for item in mylist:\n",
    "    print(item)"
   ]
  },
  {
   "cell_type": "markdown",
   "id": "1509dd92",
   "metadata": {},
   "source": [
    "### Observe how the for loop saves you code!  \n",
    "\n",
    "### The alternative would be type out\n",
    "\n",
    "     print(mylist[0])\n",
    "     print(mylist[1])\n",
    "     print(mylist[2])\n",
    "     print(mylist[3])\n",
    "     print(mylist[4])\n",
    "     print(mylist[5])\n",
    "    \n",
    "#### Typing it all out is time consuming and requires you to know how long the list is, ahead of time.  The for loop just works!  And it works for any list, always printing out all items."
   ]
  },
  {
   "cell_type": "markdown",
   "id": "1a31ea58",
   "metadata": {},
   "source": [
    "### Task: create your own list below cell and print every item of the list to the screen \n",
    "   - Put your favorite colors in the list, like 'red' or 'turquoise'\n",
    "   - Make the list contain at least 6 colors\n",
    "   - Print all items of the list to the screen like in the above example\n",
    "   - Call your list something different, that is, don't use the name `mylist`"
   ]
  },
  {
   "cell_type": "code",
   "execution_count": null,
   "id": "09996605",
   "metadata": {},
   "outputs": [],
   "source": [
    "# create your own list here and print it to the screen with a for loop"
   ]
  },
  {
   "cell_type": "markdown",
   "id": "2153fcd8",
   "metadata": {
    "slideshow": {
     "slide_type": "slide"
    }
   },
   "source": [
    "### Task 1: Observe how a string is very similar to a list.  Run the below cell\n",
    "\n",
    "### Task 2: Go back, and change `mystring` to your own message, and run again"
   ]
  },
  {
   "cell_type": "code",
   "execution_count": null,
   "id": "a333ace0",
   "metadata": {},
   "outputs": [],
   "source": [
    "mystring = \"coding in python is fun\"\n",
    "\n",
    "for letter in mystring:\n",
    "    print(letter)"
   ]
  },
  {
   "cell_type": "markdown",
   "id": "a9b2773a",
   "metadata": {},
   "source": [
    "### Task: Create a new code cell below\n",
    "- Create a loop over a list of values `[0, 1, 2, 3, 4, 5, 6, 7, 8, 9]`\n",
    "- Inside that loop, print each entry of the list\n",
    "- Then, experiment with a `break` statement.  That is, insert an `if` statement inside the loop such that\n",
    "  `if x == 3`, then on the next line (indented inside the `if` statement), you use the command `break`\n",
    "- Re-run the new code cell.  What changed? \n",
    "\n",
    "\n",
    "#### Please ask, if you have any questions.  You will need to know how to use `break` statements\n",
    "\n"
   ]
  },
  {
   "cell_type": "markdown",
   "id": "77201c1c",
   "metadata": {},
   "source": [
    "### Now, we can get started with the turtle part of the lab!\n",
    "\n",
    "First, we have to create a new turtle.\n",
    "\n",
    "- We use the _maze_ parameter again \n",
    "- Remember, that we can give `turtle_generator()` values inside the parentheses that tell `turtle_generator()` what to do\n",
    "- This is the essence of a **parameter**, values that you give something (like `turtle_generator()`) that tell it what to do\n",
    "\n",
    "Second, at the bottom of the cell, we take a look at our turtle and find that it's at location `(0,0)`, with a simple maze and pond"
   ]
  },
  {
   "cell_type": "code",
   "execution_count": null,
   "id": "8d6d3832",
   "metadata": {
    "id": "eol71fSR2JIA",
    "scrolled": false,
    "slideshow": {
     "slide_type": "-"
    }
   },
   "outputs": [],
   "source": [
    "my_maze = 2\n",
    "turtle = turtle_generator( maze_number=my_maze )\n",
    "\n",
    "turtle.show_starting_position()"
   ]
  },
  {
   "cell_type": "markdown",
   "id": "3f1f1c15",
   "metadata": {
    "slideshow": {
     "slide_type": "slide"
    }
   },
   "source": [
    "### Next, we have to tell our turtle to get ready for a trip with `turtle.start_new_journey()`"
   ]
  },
  {
   "cell_type": "code",
   "execution_count": null,
   "id": "-aJ40yY22JIA",
   "metadata": {
    "id": "-aJ40yY22JIA"
   },
   "outputs": [],
   "source": [
    "turtle.start_new_journey()"
   ]
  },
  {
   "cell_type": "markdown",
   "id": "373266ef",
   "metadata": {},
   "source": [
    "### Note, that we are now using maze 2, which is more complicated.\n",
    "\n",
    "----------\n",
    "\n",
    "### Task 1: Copy your `if` / `elif` block from lab 7 into the below code cell.  \n",
    "- This should be cell where you move based on where the path is\n",
    "- And the newest version of this cell, where you also create a `mymovements` list that tracks where your turtle has moved.\n",
    "- There are two routes to the pond.  It does not matter which route you choose. \n",
    "     \n",
    "### Task 2: Put your `if` / `elif` block inside a loop that is long enough to reach the maze.  \n",
    "- For instance, you may need to loop over all numbers form 0 to 10, or from 0 to 20, or from 0 to 25.  \n",
    "- So, you will have code that looks something like\n",
    "\n",
    "        for x in [0, 1, ... however long you need to go\n",
    "        \n",
    "            <insert your turtle movement if/elif stuff here>\n",
    "\n",
    "### Run the below code cell once and only once.  Did your turtle reach the pond?  \n",
    "- If not, please stop and ask."
   ]
  },
  {
   "cell_type": "code",
   "execution_count": null,
   "id": "24aeb290",
   "metadata": {},
   "outputs": [],
   "source": [
    "# Copy your if / elif code here.  Place inside a loop\n",
    "\n",
    "\n",
    "turtle.watch_me_move()"
   ]
  },
  {
   "cell_type": "markdown",
   "id": "c78a0d68",
   "metadata": {},
   "source": [
    "### Task 3: Create a new code cell below, and print all of your movements to the screen with a loop.  That is, print all the items in your `mymovements` list to the screen.  \n",
    "- Use a for loop, like you did at the start of this lab.\n",
    "- Compare the printed movements to the animation.  Do they describe the same turtle movements?\n",
    "- You will use something like this\n",
    "      \n",
    "      for move in mymovements:\n",
    "          < print move >"
   ]
  },
  {
   "cell_type": "markdown",
   "id": "61335ed0",
   "metadata": {},
   "source": [
    "### Task 4: Make your printing more readable.  Run the below code cell.\n",
    "\n",
    "#### Look at how you can add strings together with `+`\n",
    "\n",
    "#### Let's say that step 12 is a move to the left.  Change the below `newstring` to be for step 12 and moving to the left.  Run the below code cell again. "
   ]
  },
  {
   "cell_type": "code",
   "execution_count": null,
   "id": "c87bed60",
   "metadata": {},
   "outputs": [],
   "source": [
    "x = 11\n",
    "newstring = \"step \" + str(x) + \" \" + \"move right\"\n",
    "print(newstring)"
   ]
  },
  {
   "cell_type": "markdown",
   "id": "f91b82e9",
   "metadata": {},
   "source": [
    "### Task 5: Use what you learned above in Task 4, to modify your above loop for printing movements.  When your loop prints the movements, it should print this output\n",
    "\n",
    "        step 0:  move right\n",
    "        step 1:  move right\n",
    "        step 2:  move right\n",
    "        step 3:  move right\n",
    "        step 4:  move right\n",
    "        step 5:  move up\n",
    "        step 6:  move up\n",
    "        ..."
   ]
  },
  {
   "cell_type": "markdown",
   "id": "988920eb",
   "metadata": {},
   "source": [
    "### Advanced Task\n",
    "- Create a new turtle with `turtle_generator(...)`\n",
    "- But, do not create any maze or pond.  Leave your turtle on a blank grid\n",
    "- Then program your turtle to leave a trail in the shape of square\n",
    "    - Use a loop to do this\n",
    "    - The first few loop iterations, move right\n",
    "    - Then start moving up, and so on\n",
    "    - You will need to use `if` / `elif` statements to do this\n",
    "\n",
    "- Then program your turtle to leave a trail in the shape of a zero `0`"
   ]
  },
  {
   "cell_type": "code",
   "execution_count": null,
   "id": "54ed1d3b",
   "metadata": {},
   "outputs": [],
   "source": []
  }
 ],
 "metadata": {
  "celltoolbar": "Slideshow",
  "kernelspec": {
   "display_name": "Python 3 (ipykernel)",
   "language": "python",
   "name": "python3"
  },
  "language_info": {
   "codemirror_mode": {
    "name": "ipython",
    "version": 3
   },
   "file_extension": ".py",
   "mimetype": "text/x-python",
   "name": "python",
   "nbconvert_exporter": "python",
   "pygments_lexer": "ipython3",
   "version": "3.10.8"
  }
 },
 "nbformat": 4,
 "nbformat_minor": 5
}
